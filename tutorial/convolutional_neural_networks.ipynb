{
 "cells": [
  {
   "cell_type": "code",
   "execution_count": 1,
   "metadata": {},
   "outputs": [],
   "source": [
    "from __future__ import print_function, division, absolute_import\n",
    "from collections import Counter\n",
    "import os\n",
    "import sys\n",
    "sys.path.insert(0, \"C:\\\\Users\\\\Matt\\\\Desktop\\\\orbithunter\\\\\")\n",
    "from orbithunter import *\n",
    "import numpy as np\n",
    "import matplotlib.pyplot as plt\n",
    "import time"
   ]
  },
  {
   "cell_type": "code",
   "execution_count": 37,
   "metadata": {},
   "outputs": [
    {
     "data": {
      "image/png": "[encoded data removed]",
      "text/plain": [
       "<Figure size 65.1091x18 with 2 Axes>"
      ]
     },
     "metadata": {
      "needs_background": "light"
     },
     "output_type": "display_data"
    },
    {
     "data": {
      "image/png": "[encoded data removed]",
      "text/plain": [
       "<Figure size 65.1091x78.963 with 2 Axes>"
      ]
     },
     "metadata": {
      "needs_background": "light"
     },
     "output_type": "display_data"
    },
    {
     "data": {
      "image/png": "[encoded data removed]",
      "text/plain": [
       "<Figure size 80.3763x78.9631 with 2 Axes>"
      ]
     },
     "metadata": {
      "needs_background": "light"
     },
     "output_type": "display_data"
    }
   ],
   "source": [
    "td = read_tileset(\"../data/ks/tiles.h5\", (0, 1, 2), (\"default/double_streak\", \"default/defect\", \"default/wiggle\"))\n",
    "td[0].plot()\n",
    "td[1].plot()\n",
    "td[2].plot()"
   ]
  },
  {
   "cell_type": "code",
   "execution_count": 40,
   "metadata": {},
   "outputs": [
    {
     "data": {
      "image/png": "[encoded data removed]",
      "text/plain": [
       "<Figure size 65.1091x18 with 2 Axes>"
      ]
     },
     "metadata": {
      "needs_background": "light"
     },
     "output_type": "display_data"
    }
   ],
   "source": [
    "td[0].resize(16, td[0].m).plot()"
   ]
  },
  {
   "cell_type": "code",
   "execution_count": 33,
   "metadata": {},
   "outputs": [],
   "source": [
    "from orbithunter.gluing import rediscretize_tileset, generate_symbol_arrays"
   ]
  },
  {
   "cell_type": "code",
   "execution_count": 34,
   "metadata": {},
   "outputs": [
    {
     "data": {
      "text/plain": [
       "{0: EquilibriumOrbitKS({\"shape\": [16, 16], \"basis\": \"field\", \"parameters\": [0.0, 13.02, 0.0]}),\n",
       " 1: RelativeOrbitKS({\"shape\": [16, 16], \"basis\": \"field\", \"parameters\": [17.151, 13.02, -3.313]}),\n",
       " 2: AntisymmetricOrbitKS({\"shape\": [16, 16], \"basis\": \"field\", \"parameters\": [17.151, 17.591, 0.0]})}"
      ]
     },
     "execution_count": 34,
     "metadata": {},
     "output_type": "execute_result"
    }
   ],
   "source": [
    "td = rediscretize_tileset(td, new_shape=(16,16))\n",
    "td"
   ]
  },
  {
   "cell_type": "code",
   "execution_count": 35,
   "metadata": {},
   "outputs": [
    {
     "data": {
      "image/png": "[encoded data removed]",
      "text/plain": [
       "<Figure size 65.1091x18 with 2 Axes>"
      ]
     },
     "metadata": {
      "needs_background": "light"
     },
     "output_type": "display_data"
    }
   ],
   "source": [
    "td[0].plot()"
   ]
  },
  {
   "cell_type": "code",
   "execution_count": 36,
   "metadata": {},
   "outputs": [
    {
     "data": {
      "text/plain": [
       "3.32953898484415"
      ]
     },
     "execution_count": 36,
     "metadata": {},
     "output_type": "execute_result"
    }
   ],
   "source": [
    "tile_dictionary[0].state.max()"
   ]
  },
  {
   "cell_type": "code",
   "execution_count": 15,
   "metadata": {},
   "outputs": [],
   "source": [
    "glue_shape = (3, 3)\n",
    "symbol_arrays = generate_symbol_arrays(tile_dictionary, glue_shape=glue_shape, unique=True)"
   ]
  },
  {
   "cell_type": "code",
   "execution_count": 16,
   "metadata": {},
   "outputs": [],
   "source": [
    "tiling_example = tile(symbol_arrays[0], tile_dictionary, OrbitKS)"
   ]
  },
  {
   "cell_type": "code",
   "execution_count": 17,
   "metadata": {},
   "outputs": [
    {
     "data": {
      "image/png": "[encoded data removed]",
      "text/plain": [
       "<Figure size 140.484x170.376 with 2 Axes>"
      ]
     },
     "metadata": {
      "needs_background": "light"
     },
     "output_type": "display_data"
    }
   ],
   "source": [
    "tiling_example.plot()"
   ]
  },
  {
   "cell_type": "code",
   "execution_count": 18,
   "metadata": {
    "scrolled": false
   },
   "outputs": [
    {
     "ename": "AttributeError",
     "evalue": "OrbitKS has no attribute'reshape'",
     "output_type": "error",
     "traceback": [
      "\u001b[1;31m---------------------------------------------------------------------------\u001b[0m",
      "\u001b[1;31mAttributeError\u001b[0m                            Traceback (most recent call last)",
      "\u001b[1;32m<ipython-input-18-1044721ac195>\u001b[0m in \u001b[0;36m<module>\u001b[1;34m\u001b[0m\n\u001b[0;32m      3\u001b[0m \u001b[0mconverge_y\u001b[0m \u001b[1;33m=\u001b[0m \u001b[1;33m[\u001b[0m\u001b[1;33m]\u001b[0m\u001b[1;33m\u001b[0m\u001b[1;33m\u001b[0m\u001b[0m\n\u001b[0;32m      4\u001b[0m \u001b[1;32mfor\u001b[0m \u001b[0msa\u001b[0m \u001b[1;32min\u001b[0m \u001b[0msymbol_arrays\u001b[0m\u001b[1;33m:\u001b[0m\u001b[1;33m\u001b[0m\u001b[1;33m\u001b[0m\u001b[0m\n\u001b[1;32m----> 5\u001b[1;33m     \u001b[0mtiling\u001b[0m \u001b[1;33m=\u001b[0m \u001b[0mtile\u001b[0m\u001b[1;33m(\u001b[0m\u001b[0msa\u001b[0m\u001b[1;33m,\u001b[0m \u001b[0mtd\u001b[0m\u001b[1;33m,\u001b[0m \u001b[0mOrbitKS\u001b[0m\u001b[1;33m)\u001b[0m\u001b[1;33m.\u001b[0m\u001b[0mreshape\u001b[0m\u001b[1;33m(\u001b[0m\u001b[1;36m32\u001b[0m\u001b[1;33m,\u001b[0m\u001b[1;36m32\u001b[0m\u001b[1;33m)\u001b[0m\u001b[1;33m\u001b[0m\u001b[1;33m\u001b[0m\u001b[0m\n\u001b[0m\u001b[0;32m      6\u001b[0m     \u001b[0mX\u001b[0m\u001b[1;33m.\u001b[0m\u001b[0mappend\u001b[0m\u001b[1;33m(\u001b[0m\u001b[0mtiling\u001b[0m\u001b[1;33m.\u001b[0m\u001b[0mstate\u001b[0m\u001b[1;33m)\u001b[0m\u001b[1;33m\u001b[0m\u001b[1;33m\u001b[0m\u001b[0m\n\u001b[0;32m      7\u001b[0m     \u001b[0msymbol_counter\u001b[0m \u001b[1;33m=\u001b[0m \u001b[0mCounter\u001b[0m\u001b[1;33m(\u001b[0m\u001b[0msa\u001b[0m\u001b[1;33m.\u001b[0m\u001b[0mravel\u001b[0m\u001b[1;33m(\u001b[0m\u001b[1;33m)\u001b[0m\u001b[1;33m.\u001b[0m\u001b[0mtolist\u001b[0m\u001b[1;33m(\u001b[0m\u001b[1;33m)\u001b[0m\u001b[1;33m)\u001b[0m\u001b[1;33m\u001b[0m\u001b[1;33m\u001b[0m\u001b[0m\n",
      "\u001b[1;32m~\\Desktop\\orbithunter\\orbithunter\\core.py\u001b[0m in \u001b[0;36m__getattr__\u001b[1;34m(self, attr)\u001b[0m\n\u001b[0;32m    521\u001b[0m                     \u001b[1;33m[\u001b[0m\u001b[0mself\u001b[0m\u001b[1;33m.\u001b[0m\u001b[0m__class__\u001b[0m\u001b[1;33m.\u001b[0m\u001b[0m__name__\u001b[0m\u001b[1;33m,\u001b[0m \u001b[1;34m\"has no attribute'{}'\"\u001b[0m\u001b[1;33m.\u001b[0m\u001b[0mformat\u001b[0m\u001b[1;33m(\u001b[0m\u001b[0mattr\u001b[0m\u001b[1;33m)\u001b[0m\u001b[1;33m]\u001b[0m\u001b[1;33m\u001b[0m\u001b[1;33m\u001b[0m\u001b[0m\n\u001b[0;32m    522\u001b[0m                 )\n\u001b[1;32m--> 523\u001b[1;33m                 \u001b[1;32mraise\u001b[0m \u001b[0mAttributeError\u001b[0m\u001b[1;33m(\u001b[0m\u001b[0merror_message\u001b[0m\u001b[1;33m)\u001b[0m\u001b[1;33m\u001b[0m\u001b[1;33m\u001b[0m\u001b[0m\n\u001b[0m\u001b[0;32m    524\u001b[0m         \u001b[1;32mexcept\u001b[0m \u001b[0mIndexError\u001b[0m \u001b[1;32mas\u001b[0m \u001b[0mie\u001b[0m\u001b[1;33m:\u001b[0m\u001b[1;33m\u001b[0m\u001b[1;33m\u001b[0m\u001b[0m\n\u001b[0;32m    525\u001b[0m             errstr = ' '.join([f\"{self.__class__} is trying to access '{attr}' which does not exist.\",\n",
      "\u001b[1;31mAttributeError\u001b[0m: OrbitKS has no attribute'reshape'"
     ]
    }
   ],
   "source": [
    "X = []\n",
    "symbol_y = []\n",
    "converge_y = []\n",
    "for sa in symbol_arrays:\n",
    "    tiling = tile(sa, td, OrbitKS).reshape(32,32)\n",
    "    X.append(tiling.state)\n",
    "    symbol_counter = Counter(sa.ravel().tolist())\n",
    "    symbol_y.append([symbol_counter[0]/sa.size, symbol_counter[1]/sa.size, symbol_counter[2]/sa.size])\n",
    "X = np.array(X)\n",
    "X = np.reshape(X, (*X.shape, 1))\n",
    "y = np.array(symbol_y)"
   ]
  },
  {
   "cell_type": "code",
   "execution_count": null,
   "metadata": {
    "scrolled": true
   },
   "outputs": [],
   "source": [
    "X.shape, y.shape"
   ]
  },
  {
   "cell_type": "markdown",
   "metadata": {},
   "source": [
    "If we use a softmax layer, the output can be interpreted as a probability, which means that the total is conserved, such that if we multiply by the number of symbols we can get back an estimate that conserves the number of tiles.  "
   ]
  },
  {
   "cell_type": "code",
   "execution_count": 20,
   "metadata": {},
   "outputs": [],
   "source": [
    "from tensorflow.keras.models import Sequential\n",
    "from tensorflow.keras.layers import Dense, Flatten, Conv2D, AveragePooling2D, Activation\n",
    "from sklearn.model_selection import train_test_split\n",
    "\n",
    "X = (X - X.mean()) / X.std()\n",
    "X_train, X_test, y_train, y_test = train_test_split(X, y, test_size=0.2, random_state=42)\n",
    "sample_size = X.shape[0]\n",
    "\n",
    "cnn = Sequential()\n",
    "cnn.add(Conv2D(filters=32, kernel_size=8, padding='valid', input_shape=X.shape[1:]\n",
    "               ))\n",
    "cnn.add(AveragePooling2D(pool_size=2))\n",
    "cnn.add(Activation('relu'))\n",
    "\n",
    "cnn.add(Conv2D(filters=8, kernel_size=8,\n",
    "               padding='valid'\n",
    "               ))\n",
    "cnn.add(AveragePooling2D(pool_size=2))\n",
    "cnn.add(Activation('relu'))\n",
    "cnn.add(Flatten())\n",
    "cnn.add(Dense(int(X[0].size)))\n",
    "cnn.add(Dense(y.shape[1], activation='softmax'))\n",
    "cnn.compile(loss='mse', optimizer='adam')"
   ]
  },
  {
   "cell_type": "code",
   "execution_count": 21,
   "metadata": {},
   "outputs": [
    {
     "name": "stdout",
     "output_type": "stream",
     "text": [
      "Model: \"sequential_1\"\n",
      "_________________________________________________________________\n",
      "Layer (type)                 Output Shape              Param #   \n",
      "=================================================================\n",
      "conv2d_2 (Conv2D)            (None, 25, 25, 32)        2080      \n",
      "_________________________________________________________________\n",
      "average_pooling2d_2 (Average (None, 12, 12, 32)        0         \n",
      "_________________________________________________________________\n",
      "activation_2 (Activation)    (None, 12, 12, 32)        0         \n",
      "_________________________________________________________________\n",
      "conv2d_3 (Conv2D)            (None, 5, 5, 8)           16392     \n",
      "_________________________________________________________________\n",
      "average_pooling2d_3 (Average (None, 2, 2, 8)           0         \n",
      "_________________________________________________________________\n",
      "activation_3 (Activation)    (None, 2, 2, 8)           0         \n",
      "_________________________________________________________________\n",
      "flatten_1 (Flatten)          (None, 32)                0         \n",
      "_________________________________________________________________\n",
      "dense_2 (Dense)              (None, 1024)              33792     \n",
      "_________________________________________________________________\n",
      "dense_3 (Dense)              (None, 3)                 3075      \n",
      "=================================================================\n",
      "Total params: 55,339\n",
      "Trainable params: 55,339\n",
      "Non-trainable params: 0\n",
      "_________________________________________________________________\n"
     ]
    }
   ],
   "source": [
    "cnn.summary()"
   ]
  },
  {
   "cell_type": "code",
   "execution_count": 22,
   "metadata": {
    "scrolled": false
   },
   "outputs": [
    {
     "name": "stdout",
     "output_type": "stream",
     "text": [
      "Train on 1740 samples, validate on 436 samples\n",
      "Epoch 1/100\n",
      "1740/1740 [==============================] - 2s 863us/sample - loss: 0.0091 - val_loss: 0.0030\n",
      "Epoch 2/100\n",
      "1740/1740 [==============================] - 1s 680us/sample - loss: 0.0022 - val_loss: 0.0015\n",
      "Epoch 3/100\n",
      "1740/1740 [==============================] - 1s 670us/sample - loss: 0.0011 - val_loss: 8.0942e-04\n",
      "Epoch 4/100\n",
      "1740/1740 [==============================] - 1s 665us/sample - loss: 7.2007e-04 - val_loss: 6.6843e-04\n",
      "Epoch 5/100\n",
      "1740/1740 [==============================] - 1s 660us/sample - loss: 5.6733e-04 - val_loss: 4.8849e-04\n",
      "Epoch 6/100\n",
      "1740/1740 [==============================] - 1s 659us/sample - loss: 4.7993e-04 - val_loss: 3.9542e-04\n",
      "Epoch 7/100\n",
      "1740/1740 [==============================] - 1s 656us/sample - loss: 4.1252e-04 - val_loss: 4.4289e-04\n",
      "Epoch 8/100\n",
      "1740/1740 [==============================] - 1s 662us/sample - loss: 3.7735e-04 - val_loss: 3.0750e-04\n",
      "Epoch 9/100\n",
      "1740/1740 [==============================] - 1s 661us/sample - loss: 3.3751e-04 - val_loss: 2.8052e-04\n",
      "Epoch 10/100\n",
      "1740/1740 [==============================] - 1s 658us/sample - loss: 5.1405e-04 - val_loss: 5.6932e-04\n",
      "Epoch 11/100\n",
      "1740/1740 [==============================] - 1s 659us/sample - loss: 3.8561e-04 - val_loss: 5.2234e-04\n",
      "Epoch 12/100\n",
      "1740/1740 [==============================] - 1s 666us/sample - loss: 3.2489e-04 - val_loss: 2.8294e-04\n",
      "Epoch 13/100\n",
      "1740/1740 [==============================] - 1s 667us/sample - loss: 2.5176e-04 - val_loss: 2.2447e-04\n",
      "Epoch 14/100\n",
      "1740/1740 [==============================] - 1s 661us/sample - loss: 2.4268e-04 - val_loss: 2.8555e-04\n",
      "Epoch 15/100\n",
      "1740/1740 [==============================] - 1s 657us/sample - loss: 2.2102e-04 - val_loss: 2.4893e-04\n",
      "Epoch 16/100\n",
      "1740/1740 [==============================] - 1s 664us/sample - loss: 2.0579e-04 - val_loss: 2.0383e-04\n",
      "Epoch 17/100\n",
      "1740/1740 [==============================] - 1s 664us/sample - loss: 1.8071e-04 - val_loss: 2.7552e-04\n",
      "Epoch 18/100\n",
      "1740/1740 [==============================] - 1s 661us/sample - loss: 2.3570e-04 - val_loss: 1.9238e-04\n",
      "Epoch 19/100\n",
      "1740/1740 [==============================] - 1s 657us/sample - loss: 2.0736e-04 - val_loss: 4.2194e-04\n",
      "Epoch 20/100\n",
      "1740/1740 [==============================] - 1s 659us/sample - loss: 2.2448e-04 - val_loss: 2.7738e-04\n",
      "Epoch 21/100\n",
      "1740/1740 [==============================] - 1s 657us/sample - loss: 1.9204e-04 - val_loss: 1.9911e-04\n",
      "Epoch 22/100\n",
      "1740/1740 [==============================] - 1s 671us/sample - loss: 1.6580e-04 - val_loss: 1.8742e-04\n",
      "Epoch 23/100\n",
      "1740/1740 [==============================] - 1s 661us/sample - loss: 1.9876e-04 - val_loss: 2.6427e-04\n",
      "Epoch 24/100\n",
      "1740/1740 [==============================] - 1s 661us/sample - loss: 2.2790e-04 - val_loss: 2.2154e-04\n",
      "Epoch 25/100\n",
      "1740/1740 [==============================] - 1s 660us/sample - loss: 2.1413e-04 - val_loss: 2.7286e-04\n",
      "Epoch 26/100\n",
      "1740/1740 [==============================] - 1s 670us/sample - loss: 2.3841e-04 - val_loss: 2.6657e-04\n",
      "Epoch 27/100\n",
      "1740/1740 [==============================] - 1s 667us/sample - loss: 2.0675e-04 - val_loss: 2.3271e-04\n",
      "Epoch 28/100\n",
      "1740/1740 [==============================] - 1s 666us/sample - loss: 1.6563e-04 - val_loss: 1.5497e-04\n",
      "Epoch 29/100\n",
      "1740/1740 [==============================] - 1s 663us/sample - loss: 1.4152e-04 - val_loss: 2.1836e-04\n",
      "Epoch 30/100\n",
      "1740/1740 [==============================] - 1s 664us/sample - loss: 2.0629e-04 - val_loss: 2.3110e-04\n",
      "Epoch 31/100\n",
      "1740/1740 [==============================] - 1s 661us/sample - loss: 2.1635e-04 - val_loss: 2.0245e-04\n",
      "Epoch 32/100\n",
      "1740/1740 [==============================] - 1s 672us/sample - loss: 1.6660e-04 - val_loss: 1.3973e-04\n",
      "Epoch 33/100\n",
      "1740/1740 [==============================] - 1s 698us/sample - loss: 1.5025e-04 - val_loss: 1.8532e-04\n",
      "Epoch 34/100\n",
      "1740/1740 [==============================] - 1s 661us/sample - loss: 1.8623e-04 - val_loss: 2.0594e-04\n",
      "Epoch 35/100\n",
      "1740/1740 [==============================] - 1s 666us/sample - loss: 1.8866e-04 - val_loss: 1.3991e-04\n",
      "Epoch 36/100\n",
      "1740/1740 [==============================] - 1s 692us/sample - loss: 1.9033e-04 - val_loss: 1.7672e-04\n",
      "Epoch 37/100\n",
      "1740/1740 [==============================] - 1s 671us/sample - loss: 1.5174e-04 - val_loss: 1.4114e-04\n",
      "Epoch 38/100\n",
      "1740/1740 [==============================] - 1s 677us/sample - loss: 1.8263e-04 - val_loss: 3.1550e-04\n",
      "Epoch 39/100\n",
      "1740/1740 [==============================] - 1s 663us/sample - loss: 2.7514e-04 - val_loss: 2.5731e-04\n",
      "Epoch 40/100\n",
      "1740/1740 [==============================] - 1s 657us/sample - loss: 1.8255e-04 - val_loss: 1.3992e-04\n",
      "Epoch 41/100\n",
      "1740/1740 [==============================] - 1s 659us/sample - loss: 1.4243e-04 - val_loss: 1.4290e-04\n",
      "Epoch 42/100\n",
      "1740/1740 [==============================] - 1s 670us/sample - loss: 1.2701e-04 - val_loss: 2.5835e-04\n",
      "Epoch 43/100\n",
      "1740/1740 [==============================] - 1s 682us/sample - loss: 2.0557e-04 - val_loss: 1.4123e-04\n",
      "Epoch 44/100\n",
      "1740/1740 [==============================] - 1s 659us/sample - loss: 1.2973e-04 - val_loss: 1.0836e-04\n",
      "Epoch 45/100\n",
      "1740/1740 [==============================] - 1s 657us/sample - loss: 1.2976e-04 - val_loss: 2.0485e-04\n",
      "Epoch 46/100\n",
      "1740/1740 [==============================] - 1s 675us/sample - loss: 1.5422e-04 - val_loss: 2.5316e-04\n",
      "Epoch 47/100\n",
      "1740/1740 [==============================] - 1s 675us/sample - loss: 1.3946e-04 - val_loss: 1.0752e-04\n",
      "Epoch 48/100\n",
      "1740/1740 [==============================] - 1s 675us/sample - loss: 1.4923e-04 - val_loss: 2.5046e-04\n",
      "Epoch 49/100\n",
      "1740/1740 [==============================] - 1s 660us/sample - loss: 1.8537e-04 - val_loss: 1.0899e-04\n",
      "Epoch 50/100\n",
      "1740/1740 [==============================] - 1s 671us/sample - loss: 1.1667e-04 - val_loss: 1.3708e-04\n",
      "Epoch 51/100\n",
      "1740/1740 [==============================] - 1s 673us/sample - loss: 1.0406e-04 - val_loss: 1.2475e-04\n",
      "Epoch 52/100\n",
      "1740/1740 [==============================] - 1s 656us/sample - loss: 1.5561e-04 - val_loss: 1.1217e-04\n",
      "Epoch 53/100\n",
      "1740/1740 [==============================] - 1s 655us/sample - loss: 1.3833e-04 - val_loss: 1.5488e-04\n",
      "Epoch 54/100\n",
      "1740/1740 [==============================] - 1s 668us/sample - loss: 1.2253e-04 - val_loss: 1.1523e-04\n",
      "Epoch 55/100\n",
      "1740/1740 [==============================] - 1s 676us/sample - loss: 1.5053e-04 - val_loss: 1.2874e-04\n",
      "Epoch 56/100\n",
      "1740/1740 [==============================] - 1s 675us/sample - loss: 1.1647e-04 - val_loss: 1.3912e-04\n",
      "Epoch 57/100\n",
      "1740/1740 [==============================] - 1s 686us/sample - loss: 1.2034e-04 - val_loss: 1.2666e-04\n",
      "Epoch 58/100\n",
      "1740/1740 [==============================] - 1s 673us/sample - loss: 1.1291e-04 - val_loss: 1.1000e-04\n",
      "Epoch 59/100\n",
      "1740/1740 [==============================] - 1s 671us/sample - loss: 1.1070e-04 - val_loss: 9.9312e-05\n",
      "Epoch 60/100\n",
      "1740/1740 [==============================] - 1s 657us/sample - loss: 1.2557e-04 - val_loss: 1.0717e-04\n",
      "Epoch 61/100\n",
      "1740/1740 [==============================] - 1s 667us/sample - loss: 1.0695e-04 - val_loss: 1.5696e-04\n",
      "Epoch 62/100\n",
      "1740/1740 [==============================] - 1s 657us/sample - loss: 1.7422e-04 - val_loss: 1.8387e-04\n",
      "Epoch 63/100\n",
      "1740/1740 [==============================] - 1s 675us/sample - loss: 1.2565e-04 - val_loss: 8.7990e-05\n",
      "Epoch 64/100\n",
      "1740/1740 [==============================] - 1s 674us/sample - loss: 1.0297e-04 - val_loss: 1.8011e-04\n",
      "Epoch 65/100\n",
      "1740/1740 [==============================] - 1s 659us/sample - loss: 1.6542e-04 - val_loss: 1.2359e-04\n",
      "Epoch 66/100\n",
      "1740/1740 [==============================] - 1s 673us/sample - loss: 1.1782e-04 - val_loss: 1.0198e-04\n",
      "Epoch 67/100\n",
      "1740/1740 [==============================] - 1s 663us/sample - loss: 9.3146e-05 - val_loss: 8.1350e-05\n",
      "Epoch 68/100\n",
      "1740/1740 [==============================] - 1s 660us/sample - loss: 1.3758e-04 - val_loss: 1.6677e-04\n",
      "Epoch 69/100\n",
      "1740/1740 [==============================] - ETA: 0s - loss: 1.6145e-0 - 1s 691us/sample - loss: 1.6298e-04 - val_loss: 1.2852e-04\n",
      "Epoch 70/100\n",
      "1740/1740 [==============================] - 1s 663us/sample - loss: 1.2862e-04 - val_loss: 9.2745e-05\n",
      "Epoch 71/100\n",
      "1740/1740 [==============================] - 1s 651us/sample - loss: 9.1752e-05 - val_loss: 9.7593e-05\n",
      "Epoch 72/100\n",
      "1740/1740 [==============================] - ETA: 0s - loss: 1.0845e-0 - 1s 659us/sample - loss: 1.0603e-04 - val_loss: 8.9582e-05\n",
      "Epoch 73/100\n",
      "1740/1740 [==============================] - 1s 659us/sample - loss: 1.2358e-04 - val_loss: 1.4062e-04\n",
      "Epoch 74/100\n",
      "1740/1740 [==============================] - 1s 659us/sample - loss: 1.2048e-04 - val_loss: 7.9357e-05\n",
      "Epoch 75/100\n",
      "1740/1740 [==============================] - 1s 667us/sample - loss: 8.8779e-05 - val_loss: 9.9053e-05\n",
      "Epoch 76/100\n",
      "1740/1740 [==============================] - 1s 663us/sample - loss: 9.3004e-05 - val_loss: 1.9550e-04\n",
      "Epoch 77/100\n",
      "1740/1740 [==============================] - 1s 656us/sample - loss: 1.3742e-04 - val_loss: 1.6046e-04\n",
      "Epoch 78/100\n",
      "1740/1740 [==============================] - 1s 656us/sample - loss: 1.0868e-04 - val_loss: 1.3767e-04\n",
      "Epoch 79/100\n",
      "1740/1740 [==============================] - 1s 658us/sample - loss: 1.6278e-04 - val_loss: 1.4770e-04\n",
      "Epoch 80/100\n",
      "1740/1740 [==============================] - 1s 657us/sample - loss: 1.5906e-04 - val_loss: 1.2190e-04\n",
      "Epoch 81/100\n",
      "1740/1740 [==============================] - 1s 670us/sample - loss: 1.1743e-04 - val_loss: 1.6092e-04\n",
      "Epoch 82/100\n",
      "1740/1740 [==============================] - 1s 680us/sample - loss: 1.0593e-04 - val_loss: 1.1420e-04\n",
      "Epoch 83/100\n",
      "1740/1740 [==============================] - 1s 726us/sample - loss: 1.0673e-04 - val_loss: 1.6658e-04\n",
      "Epoch 84/100\n",
      "1740/1740 [==============================] - 1s 681us/sample - loss: 1.0497e-04 - val_loss: 8.9280e-05\n",
      "Epoch 85/100\n",
      "1740/1740 [==============================] - 1s 672us/sample - loss: 9.3018e-05 - val_loss: 1.1333e-04\n",
      "Epoch 86/100\n",
      "1740/1740 [==============================] - 1s 715us/sample - loss: 9.9533e-05 - val_loss: 9.5958e-05\n",
      "Epoch 87/100\n",
      "1740/1740 [==============================] - 1s 720us/sample - loss: 1.0238e-04 - val_loss: 1.0818e-04\n",
      "Epoch 88/100\n",
      "1740/1740 [==============================] - 1s 701us/sample - loss: 9.5074e-05 - val_loss: 8.7403e-05\n",
      "Epoch 89/100\n",
      "1740/1740 [==============================] - 1s 678us/sample - loss: 1.1129e-04 - val_loss: 1.1647e-04\n",
      "Epoch 90/100\n",
      "1740/1740 [==============================] - 1s 682us/sample - loss: 1.0823e-04 - val_loss: 1.0314e-04\n",
      "Epoch 91/100\n",
      "1740/1740 [==============================] - 1s 654us/sample - loss: 1.3493e-04 - val_loss: 1.3941e-04\n",
      "Epoch 92/100\n",
      "1740/1740 [==============================] - 1s 652us/sample - loss: 1.0482e-04 - val_loss: 8.5680e-05\n",
      "Epoch 93/100\n",
      "1740/1740 [==============================] - 1s 651us/sample - loss: 7.7469e-05 - val_loss: 1.3386e-04\n",
      "Epoch 94/100\n",
      "1740/1740 [==============================] - 1s 653us/sample - loss: 8.6030e-05 - val_loss: 8.5324e-05\n",
      "Epoch 95/100\n",
      "1740/1740 [==============================] - 1s 650us/sample - loss: 9.7423e-05 - val_loss: 2.0127e-04\n",
      "Epoch 96/100\n",
      "1740/1740 [==============================] - 1s 657us/sample - loss: 3.3322e-04 - val_loss: 2.6452e-04\n",
      "Epoch 97/100\n",
      "1740/1740 [==============================] - 1s 650us/sample - loss: 1.6996e-04 - val_loss: 1.2674e-04\n",
      "Epoch 98/100\n",
      "1740/1740 [==============================] - 1s 648us/sample - loss: 1.0188e-04 - val_loss: 8.5269e-05\n",
      "Epoch 99/100\n",
      "1740/1740 [==============================] - 1s 651us/sample - loss: 7.4030e-05 - val_loss: 8.3248e-05\n",
      "Epoch 100/100\n",
      "1740/1740 [==============================] - 1s 663us/sample - loss: 7.6405e-05 - val_loss: 8.9561e-05\n"
     ]
    }
   ],
   "source": [
    "history = cnn.fit(X_train, y_train, validation_data=(X_test, y_test), verbose=1, epochs=100)"
   ]
  },
  {
   "cell_type": "code",
   "execution_count": 51,
   "metadata": {},
   "outputs": [
    {
     "data": {
      "image/png": "[encoded data removed]",
      "text/plain": [
       "<Figure size 432x288 with 1 Axes>"
      ]
     },
     "metadata": {
      "needs_background": "light"
     },
     "output_type": "display_data"
    }
   ],
   "source": [
    "plt.rc('text', usetex=False)\n",
    "plt.rc('font', family='serif')\n",
    "plt.rcParams['text.usetex'] = False\n",
    "\n",
    "_ = plt.plot(history.history['loss'])\n",
    "_ = plt.plot(history.history['val_loss'])\n",
    "_ = plt.legend(('loss', 'validation_loss'))\n",
    "_ = plt.show()"
   ]
  },
  {
   "cell_type": "code",
   "execution_count": 52,
   "metadata": {},
   "outputs": [],
   "source": [
    "example_orbit_ = read_h5('OrbitKS_L37p297_T79p783.h5')"
   ]
  },
  {
   "cell_type": "code",
   "execution_count": 53,
   "metadata": {},
   "outputs": [
    {
     "data": {
      "image/png": "[encoded data removed]",
      "text/plain": [
       "<Figure size 136.018x231.603 with 2 Axes>"
      ]
     },
     "metadata": {
      "needs_background": "light"
     },
     "output_type": "display_data"
    }
   ],
   "source": [
    "example_orbit_.plot()"
   ]
  },
  {
   "cell_type": "code",
   "execution_count": 54,
   "metadata": {},
   "outputs": [],
   "source": [
    "example_orbit_ = example_orbit_.reshape(32,32)"
   ]
  },
  {
   "cell_type": "code",
   "execution_count": 55,
   "metadata": {},
   "outputs": [
    {
     "name": "stdout",
     "output_type": "stream",
     "text": [
      "Example L: 37.29708818660391 Sum_L for Tiles 37.001204621116116\n"
     ]
    }
   ],
   "source": [
    "print('Example L:', example_orbit_.L, 'Sum_L for Tiles', td[0].L + td[1].L + td[2].L)"
   ]
  },
  {
   "cell_type": "code",
   "execution_count": 46,
   "metadata": {},
   "outputs": [
    {
     "data": {
      "image/png": "[encoded data removed]",
      "text/plain": [
       "<Figure size 131.338x170.376 with 2 Axes>"
      ]
     },
     "metadata": {
      "needs_background": "light"
     },
     "output_type": "display_data"
    }
   ],
   "source": [
    "guess_symbol_array = np.array([[0,1,1],[0,1,1],[0,2,2]])\n",
    "approximate_tiling = tile(guess_symbol_array, td, OrbitKS).reshape(32, 32)\n",
    "approximate_tiling.plot()"
   ]
  },
  {
   "cell_type": "code",
   "execution_count": 47,
   "metadata": {},
   "outputs": [
    {
     "data": {
      "text/plain": [
       "matrix([[0, 1, 1],\n",
       "        [0, 1, 1],\n",
       "        [0, 2, 2]])"
      ]
     },
     "execution_count": 47,
     "metadata": {},
     "output_type": "execute_result"
    }
   ],
   "source": [
    "np.matrix(guess_symbol_array)"
   ]
  },
  {
   "cell_type": "code",
   "execution_count": 48,
   "metadata": {},
   "outputs": [],
   "source": [
    "test_converge_result = converge(approximate_tiling.transform(to='modes'),\n",
    "                                method='hybrid',\n",
    "                                comp_time='thorough',\n",
    "                                preconditioning=True,\n",
    "                                pexp=(1,4))\n",
    "test_tiling = test_converge_result.orbit"
   ]
  },
  {
   "cell_type": "code",
   "execution_count": 50,
   "metadata": {},
   "outputs": [
    {
     "data": {
      "image/png": "[encoded data removed]",
      "text/plain": [
       "<Figure size 130.769x182.651 with 2 Axes>"
      ]
     },
     "metadata": {
      "needs_background": "light"
     },
     "output_type": "display_data"
    },
    {
     "data": {
      "image/png": "[encoded data removed]",
      "text/plain": [
       "<Figure size 136.018x231.603 with 2 Axes>"
      ]
     },
     "metadata": {
      "needs_background": "light"
     },
     "output_type": "display_data"
    },
    {
     "data": {
      "text/plain": [
       "(None, None)"
      ]
     },
     "execution_count": 50,
     "metadata": {},
     "output_type": "execute_result"
    }
   ],
   "source": [
    "test_tiling.plot(), example_orbit_.plot()"
   ]
  },
  {
   "cell_type": "code",
   "execution_count": 67,
   "metadata": {},
   "outputs": [
    {
     "data": {
      "text/plain": [
       "array([[4., 3., 2.]], dtype=float32)"
      ]
     },
     "execution_count": 67,
     "metadata": {},
     "output_type": "execute_result"
    }
   ],
   "source": [
    "prediction_for_test = cnn.predict(test_tiling.transform(to='field').state.reshape(1, 32, 32, 1))\n",
    "np.round(prediction_for_test * sa.size)"
   ]
  },
  {
   "cell_type": "code",
   "execution_count": 68,
   "metadata": {
    "scrolled": true
   },
   "outputs": [
    {
     "data": {
      "text/plain": [
       "array([[1., 4., 4.]], dtype=float32)"
      ]
     },
     "execution_count": 68,
     "metadata": {},
     "output_type": "execute_result"
    }
   ],
   "source": [
    "prediction_for_target = cnn.predict(example_orbit_.transform(to='field').state.reshape(1, 32, 32, 1))\n",
    "np.round(prediction_for_target * sa.size)"
   ]
  },
  {
   "cell_type": "code",
   "execution_count": 69,
   "metadata": {},
   "outputs": [
    {
     "data": {
      "text/plain": [
       "array([[4., 3., 1.]], dtype=float32)"
      ]
     },
     "execution_count": 69,
     "metadata": {},
     "output_type": "execute_result"
    }
   ],
   "source": [
    "prediction_for_target_reflection = cnn.predict(example_orbit_.transform(to='field').reflection().state.reshape(1, 32, 32, 1))\n",
    "np.round(prediction_for_target_reflection * sa.size)"
   ]
  },
  {
   "cell_type": "code",
   "execution_count": 73,
   "metadata": {},
   "outputs": [],
   "source": [
    "predictions = []\n",
    "for n in range(32):\n",
    "    for m in range(32):\n",
    "        prediction_for_target_roll = cnn.predict(np.roll(np.roll(example_orbit_.transform(to='field').state,\n",
    "                                                                 m,axis=1),n,axis=0).reshape(1, 32, 32, 1))\n",
    "        predictions.extend(np.round(prediction_for_target_roll * sa.size))\n",
    "        \n",
    "predictions = np.array(predictions).reshape(-1, 3)"
   ]
  },
  {
   "cell_type": "code",
   "execution_count": 82,
   "metadata": {},
   "outputs": [
    {
     "data": {
      "text/plain": [
       "(array([  3.,  55., 241.,   0., 329., 260.,   0., 114.,  18.,   4.]),\n",
       " array([0. , 0.7, 1.4, 2.1, 2.8, 3.5, 4.2, 4.9, 5.6, 6.3, 7. ],\n",
       "       dtype=float32),\n",
       " <a list of 10 Patch objects>)"
      ]
     },
     "execution_count": 82,
     "metadata": {},
     "output_type": "execute_result"
    },
    {
     "data": {
      "image/png": "[encoded data removed]",
      "text/plain": [
       "<Figure size 432x288 with 1 Axes>"
      ]
     },
     "metadata": {
      "needs_background": "light"
     },
     "output_type": "display_data"
    }
   ],
   "source": [
    "predictions\n",
    "plt.hist(predictions[:, 0], alpha=0.7)\n",
    "plt.hist(predictions[:, 1], alpha=0.7)\n",
    "plt.hist(predictions[:, 2], alpha=0.7)"
   ]
  },
  {
   "cell_type": "code",
   "execution_count": 78,
   "metadata": {},
   "outputs": [
    {
     "data": {
      "text/plain": [
       "array([3., 3., 3.], dtype=float32)"
      ]
     },
     "execution_count": 78,
     "metadata": {},
     "output_type": "execute_result"
    }
   ],
   "source": [
    "np.round(np.mean(predictions, axis=0))"
   ]
  },
  {
   "cell_type": "code",
   "execution_count": 79,
   "metadata": {},
   "outputs": [
    {
     "data": {
      "text/plain": [
       "array([[0.4629184 , 0.37287775, 0.16420384]], dtype=float32)"
      ]
     },
     "execution_count": 79,
     "metadata": {},
     "output_type": "execute_result"
    }
   ],
   "source": [
    "prediction_for_target_reflection"
   ]
  },
  {
   "cell_type": "code",
   "execution_count": null,
   "metadata": {},
   "outputs": [],
   "source": [
    "y_bottleneck = []\n",
    "for sa in symbol_arrays:\n",
    "    tiling = rediscretize(tile(sa, td, OrbitKS), new_shape=(32, 32))\n",
    "    y_bottleneck.append(gudhi_distance(tiling, example_orbit_, metric='bottleneck'))\n",
    "y = np.array(y_bottleneck).reshape(-1,1)"
   ]
  },
  {
   "cell_type": "code",
   "execution_count": null,
   "metadata": {},
   "outputs": [],
   "source": [
    "from tensorflow.keras.models import Sequential\n",
    "from tensorflow.keras.layers import Dense, Flatten, Conv2D, AveragePooling2D, Activation\n",
    "from sklearn.model_selection import train_test_split\n",
    "\n",
    "X = (X - X.mean()) / X.std()\n",
    "X_train, X_test, y_train, y_test = train_test_split(X, y, test_size=0.2, random_state=42)\n",
    "sample_size = X.shape[0]\n",
    "\n",
    "bottleneck_cnn = Sequential()\n",
    "bottleneck_cnn.add(Conv2D(filters=32, kernel_size=8, padding='valid', input_shape=X.shape[1:]\n",
    "               ))\n",
    "bottleneck_cnn.add(AveragePooling2D(pool_size=2))\n",
    "bottleneck_cnn.add(Activation('relu'))\n",
    "\n",
    "bottleneck_cnn.add(Conv2D(filters=8, kernel_size=8,\n",
    "               padding='valid'\n",
    "               ))\n",
    "bottleneck_cnn.add(AveragePooling2D(pool_size=2))\n",
    "bottleneck_cnn.add(Activation('relu'))\n",
    "bottleneck_cnn.add(Flatten())\n",
    "bottleneck_cnn.add(Dense(int(sample_size)))\n",
    "bottleneck_cnn.add(Dense(y.shape[1], activation='relu'))\n",
    "bottleneck_cnn.compile(loss='mse', optimizer='adam')\n",
    "bottleneck_cnn.summary()"
   ]
  },
  {
   "cell_type": "code",
   "execution_count": null,
   "metadata": {
    "scrolled": false
   },
   "outputs": [],
   "source": [
    "history = bottleneck_cnn.fit(X_train, y_train, validation_data=(X_test, y_test), verbose=1, epochs=100)"
   ]
  },
  {
   "cell_type": "markdown",
   "metadata": {},
   "source": [
    "As a baseline, let's see how well it predicts the distance between the example orbit and itself: The expected value is of course, 0."
   ]
  },
  {
   "cell_type": "code",
   "execution_count": null,
   "metadata": {},
   "outputs": [],
   "source": [
    "gudhi_distance(example_orbit_, example_orbit_, metric='bottleneck')"
   ]
  },
  {
   "cell_type": "code",
   "execution_count": null,
   "metadata": {},
   "outputs": [],
   "source": [
    "bottleneck_cnn.predict(example_orbit_.transform(to='field').state.reshape(1, 32, 32, 1))"
   ]
  },
  {
   "cell_type": "code",
   "execution_count": null,
   "metadata": {},
   "outputs": [],
   "source": [
    "bottleneck_cnn.predict(test_tiling.transform(to='field').state.reshape(1, 32, 32, 1))"
   ]
  },
  {
   "cell_type": "code",
   "execution_count": null,
   "metadata": {},
   "outputs": [],
   "source": [
    "y_predict = bottleneck_cnn.predict(X_test)"
   ]
  },
  {
   "cell_type": "code",
   "execution_count": null,
   "metadata": {},
   "outputs": [],
   "source": [
    "fig, ax = plt.subplots(figsize=(8,8))\n",
    "_ = ax.scatter(y_test, y_predict, s=5)\n",
    "_ = ax.plot([0,y_test.max()],[0,y_test.max()], color='r')\n",
    "_ = plt.xlabel('True value')\n",
    "_ = plt.ylabel('Predicted value')\n",
    "_ = plt.show()"
   ]
  },
  {
   "cell_type": "code",
   "execution_count": null,
   "metadata": {},
   "outputs": [],
   "source": [
    "X, y = list_of_orbits, list_of_predictive_quantities\n",
    "orbit_cnn(X, y)"
   ]
  },
  {
   "cell_type": "code",
   "execution_count": null,
   "metadata": {},
   "outputs": [],
   "source": [
    "from __future__ import print_function, division, absolute_import\n",
    "import os\n",
    "import sys\n",
    "sys.path.insert(0, \"C:\\\\Users\\\\Matt\\\\Desktop\\\\orbithunter\\\\\")\n",
    "from orbithunter import *\n",
    "import numpy as np\n",
    "import matplotlib.pyplot as plt\n",
    "import time\n",
    "from sklearn.metrics import mean_squared_error\n",
    "\n",
    "from orbithunter.convolutional_neural_networks import orbit_cnn\n",
    "from orbithunter.gluing import tile_dictionary_ks\n",
    "\n",
    "td = tile_dictionary_ks()\n",
    "\n",
    "td[0].plot()\n",
    "\n",
    "td[1].plot()\n",
    "\n",
    "td[2].plot()\n",
    "\n",
    "tile_dictionary = rediscretize_tiling_dictionary(td, new_shape=(16,16))\n",
    "\n",
    "glue_shape = (3, 3)\n",
    "symbol_arrays = populate_symbol_arrays(tile_dictionary, glue_shape=glue_shape, unique=True)\n",
    "tiling_example = tile(symbol_arrays[57], tile_dictionary, OrbitKS)\n",
    "tiling_example.plot()\n",
    "\n",
    "symbol_arrays = populate_symbol_arrays(td, glue_shape, unique=True)\n",
    "\n",
    "symbol_arrays[57]\n",
    "\n",
    "X = []\n",
    "\n",
    "for sa in symbol_arrays:\n",
    "    tiling = tile(sa, td, OrbitKS).reshape(32,32)\n",
    "    X.append(tiling.state)\n",
    "\n",
    "from collections import Counter\n",
    "\n",
    "symbol_y = []\n",
    "converge_y = []\n",
    "for sa in symbol_arrays:\n",
    "    symbol_y.append(sa.ravel().tolist())\n",
    "\n",
    "np.array(symbol_y).shape, np.array(X).shape\n",
    "\n",
    "from collections import Counter\n",
    "\n",
    "counted_symbol_y = []\n",
    "for sa in symbol_arrays:\n",
    "    symbol_counter = Counter(sa.ravel().tolist())\n",
    "    counted_symbol_y.append([symbol_counter[0], symbol_counter[1], symbol_counter[2]])\n",
    "\n",
    "symbol_array_cnn = orbit_cnn(X, symbol_y, dimension=2, verbose=True, epochs=25) \n",
    "cnn, history, ((X_train, y_train), (X_test,  y_test)) = symbol_array_cnn\n",
    "\n",
    "y_predict = cnn.predict(X_test)\n",
    "\n",
    "mse_list = []\n",
    "norm_list = []\n",
    "for yp, yt in zip(y_predict, y_test):\n",
    "    mse = mean_squared_error(yp, yt)\n",
    "    mse_list.append(mse)\n",
    "    norm_list.append(np.linalg.norm(yt))\n",
    "\n",
    "# y_predict = cnn.predict(X_test)\n",
    "fig, ax = plt.subplots(figsize=(8,8))\n",
    "_ = ax.scatter(norm_list, mse_list, s=5)\n",
    "# _ = ax.plot([0, max(norm_list)],[0, max(norm_list)], color='r')\n",
    "_ = plt.ylabel('$|y_{\\textrm{true}}-y_{\\textrm{predicted}}|$')\n",
    "_ = plt.xlabel('$|y_{\\textrm{true}}|$')\n",
    "_ = plt.show()\n",
    "\n",
    "y_test[np.where(np.array(mse_list)>0.02)[0]]\n",
    "\n",
    "y_predict[np.where(np.array(mse_list)>0.02)[0]].astype(int)\n",
    "\n",
    "from sklearn.metrics import explained_variance_score\n",
    "\n",
    "symbol_count_cnn = orbit_cnn(X, counted_symbol_y, dimension=2, verbose=True, epochs=25) \n",
    "\n",
    "plt.rc('text', usetex=False)\n",
    "plt.rc('font', family='serif')\n",
    "plt.rcParams['text.usetex'] = False\n",
    "fig = plt.figure(figsize=(10,10))\n",
    "_ = plt.plot(history.history['loss'])\n",
    "_ = plt.plot(history.history['val_loss'])\n",
    "_ = plt.legend(('loss', 'validation_loss'))\n",
    "_ = plt.show()\n",
    "\n",
    "cnn, history, ((X_train, y_train), (X_test,  y_test)) = symbol_count_cnn\n",
    "\n",
    "y_predict_count = cnn.predict(X_test)\n",
    "\n",
    "mse_list = []\n",
    "norm_list = []\n",
    "for yp, yt in zip(y_predict_count, y_test):\n",
    "    mse = mean_squared_error(yp, yt)\n",
    "    mse_list.append(mse)\n",
    "    norm_list.append(np.linalg.norm(yt))\n",
    "\n",
    "# y_predict = cnn.predict(X_test)\n",
    "fig, ax = plt.subplots(figsize=(8,8))\n",
    "_ = ax.scatter(norm_list, mse_list, s=5)\n",
    "# _ = ax.plot([0, max(norm_list)],[0, max(norm_list)], color='r')\n",
    "_ = plt.ylabel('$|y_{\\textrm{true}}-y_{\\textrm{predicted}}|$')\n",
    "_ = plt.xlabel('$|y_{\\textrm{true}}|$')\n",
    "_ = plt.show()\n",
    "\n",
    "test_orbit = read_h5('OrbitKS_T41p649_L34p029.h5')\n",
    "test_orbit.plot()\n",
    "\n",
    "example_orbit_ = read_h5('OrbitKS_T31p619_L35p379.h5')\n",
    "example_orbit_.plot()\n",
    "example_orbit_ = rediscretize(example_orbit_, new_shape=(32,32))\n",
    "\n",
    "test_orbit = read_h5('OrbitKS_T28p080_L31p418.h5').reshape(32,32)\n",
    "test_orbit.plot()\n",
    "\n",
    "mse_list = []\n",
    "norm_list = []\n",
    "for yp, yt in zip(y_predict_count, y_test):\n",
    "    mse = mean_squared_error(yp, yt)\n",
    "    mse_list.append(mse)\n",
    "    norm_list.append(np.linalg.norm(yt))\n",
    "\n",
    "print('Example L:', test_orbit.L, 'Sum_L for Tiles', td[0].L + td[1].L + td[2].L)\n",
    "guess_symbol_array = np.array([[0,0, 1],[0, 0, 2],[0,0,1]])\n",
    "approximate_tiling = tile(guess_symbol_array, td, OrbitKS).reshape(32, 32)\n",
    "approximate_tiling.plot()\n",
    "\n",
    "cnn.predict(test_orbit.transform(to='field').state.reshape(1, 32, 32, 1)).astype(int)\n",
    "\n",
    "from sklearn.metrics import mean_squared_error\n",
    "\n",
    "y_predict = cnn.predict(X_test)\n",
    "mse_array = mean_squared_error(y_test, y_predict)\n",
    "\n",
    "y_bottleneck = []\n",
    "for sa in symbol_arrays:\n",
    "    tiling = rediscretize(tile(sa, td, OrbitKS), new_shape=(32, 32))\n",
    "    y_bottleneck.append(gudhi_distance(tiling, example_orbit_, metric='bottleneck'))\n",
    "y = y_bottleneck\n",
    "\n",
    "bottleneck_cnn, history, ((X_train, y_train), (X_test,  y_test)) = orbit_cnn(X, y, dimension=2, epochs=25, verbose=True) \n",
    "\n",
    "As a baseline, let's see how well it predicts the distance between the example orbit and itself: The expected value is of course, 0.\n",
    "\n",
    "bottleneck_cnn.predict(example_orbit_.transform(to='field').state.reshape(1, 32, 32, 1))\n",
    "\n",
    "y_predict = bottleneck_cnn.predict(X_test)\n",
    "fig, ax = plt.subplots(figsize=(8,8))\n",
    "_ = ax.scatter(y_test, y_predict, s=5)\n",
    "_ = ax.plot([y_test.min()-0.001,y_test.max()],[y_test.min()-0.001,y_test.max()], color='r')\n",
    "_ = plt.xlabel('True value')\n",
    "_ = plt.ylabel('Predicted value')\n",
    "_ = plt.show()"
   ]
  }
 ],
 "metadata": {
  "kernelspec": {
   "display_name": "Python 3",
   "language": "python",
   "name": "python3"
  },
  "language_info": {
   "codemirror_mode": {
    "name": "ipython",
    "version": 3
   },
   "file_extension": ".py",
   "mimetype": "text/x-python",
   "name": "python",
   "nbconvert_exporter": "python",
   "pygments_lexer": "ipython3",
   "version": "3.7.6"
  }
 },
 "nbformat": 4,
 "nbformat_minor": 4
}
