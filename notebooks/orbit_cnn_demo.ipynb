{
 "cells": [
  {
   "cell_type": "code",
   "execution_count": 4,
   "metadata": {},
   "outputs": [],
   "source": [
    "from __future__ import print_function, division, absolute_import\n",
    "import os\n",
    "import sys\n",
    "sys.path.insert(0, \"C:\\\\Users\\\\Matt\\\\Desktop\\\\orbithunter\\\\\")\n",
    "from orbithunter import *\n",
    "import numpy as np\n",
    "import matplotlib.pyplot as plt\n",
    "import time\n"
   ]
  },
  {
   "cell_type": "code",
   "execution_count": 5,
   "metadata": {},
   "outputs": [],
   "source": [
    "from orbithunter.convolutional_neural_networks import orbit_cnn\n",
    "from orbithunter.gluing import tile_dictionary_ks"
   ]
  },
  {
   "cell_type": "code",
   "execution_count": 6,
   "metadata": {},
   "outputs": [
    {
     "data": {
      "image/png": "[encoded data removed]",
      "text/plain": [
       "<Figure size 39.5642x18 with 2 Axes>"
      ]
     },
     "metadata": {
      "needs_background": "light"
     },
     "output_type": "display_data"
    },
    {
     "data": {
      "image/png": "[encoded data removed]",
      "text/plain": [
       "<Figure size 65.109x78.948 with 2 Axes>"
      ]
     },
     "metadata": {
      "needs_background": "light"
     },
     "output_type": "display_data"
    },
    {
     "data": {
      "image/png": "[encoded data removed]",
      "text/plain": [
       "<Figure size 80.3752x78.948 with 2 Axes>"
      ]
     },
     "metadata": {
      "needs_background": "light"
     },
     "output_type": "display_data"
    }
   ],
   "source": [
    "td = tile_dictionary_ks(padded=False)\n",
    "\n",
    "td[0].plot()\n",
    "\n",
    "td[1].plot()\n",
    "\n",
    "td[2].plot()\n",
    "\n",
    "tile_dictionary = rediscretize_tiling_dictionary(td, new_shape=(16,16))"
   ]
  },
  {
   "cell_type": "code",
   "execution_count": 7,
   "metadata": {},
   "outputs": [
    {
     "data": {
      "image/png": "[encoded data removed]",
      "text/plain": [
       "<Figure size 92.1402x170.344 with 2 Axes>"
      ]
     },
     "metadata": {
      "needs_background": "light"
     },
     "output_type": "display_data"
    }
   ],
   "source": [
    "glue_shape = (3, 3)\n",
    "symbol_arrays = generate_symbol_arrays(tile_dictionary, glue_shape=glue_shape, unique=True)\n",
    "\n",
    "tiling_example = tile(symbol_arrays[0], tile_dictionary, OrbitKS)\n",
    "\n",
    "tiling_example.plot()"
   ]
  },
  {
   "cell_type": "code",
   "execution_count": 8,
   "metadata": {},
   "outputs": [
    {
     "data": {
      "text/plain": [
       "array([[0, 0, 0],\n",
       "       [0, 0, 0],\n",
       "       [0, 0, 1]])"
      ]
     },
     "execution_count": 8,
     "metadata": {},
     "output_type": "execute_result"
    }
   ],
   "source": [
    "symbol_arrays[0]"
   ]
  },
  {
   "cell_type": "code",
   "execution_count": null,
   "metadata": {},
   "outputs": [],
   "source": [
    "from collections import Counter\n",
    "symbol_arrays = generate_symbol_arrays(td, glue_shape, unique=True)\n",
    "X = []\n",
    "symbol_y = []\n",
    "converge_y = []\n",
    "\n",
    "for sa in symbol_arrays:\n",
    "    tiling = rediscretize(tile(sa, td, OrbitKS), new_shape=(32, 32))\n",
    "    X.append(tiling.state)\n",
    "    symbol_counter = Counter(sa.ravel().tolist())\n",
    "    symbol_y.append([symbol_counter[0], symbol_counter[1], symbol_counter[2]])\n",
    "y = symbol_y"
   ]
  },
  {
   "cell_type": "code",
   "execution_count": 9,
   "metadata": {},
   "outputs": [],
   "source": [
    "from collections import Counter\n",
    "symbol_arrays = generate_symbol_arrays(td, glue_shape, unique=True)\n",
    "X = []\n",
    "symbol_y = []\n",
    "converge_y = []\n",
    "\n",
    "for sa in symbol_arrays:\n",
    "    tiling = rediscretize(tile(sa, td, OrbitKS), new_shape=(32, 32))\n",
    "    X.append(tiling.state)\n",
    "    symbol_counter = Counter(sa.ravel().tolist())\n",
    "    symbol_y.append(sa.ravel())\n",
    "y = symbol_y"
   ]
  },
  {
   "cell_type": "code",
   "execution_count": 10,
   "metadata": {},
   "outputs": [
    {
     "data": {
      "text/plain": [
       "((2176, 9), (2176, 32, 32))"
      ]
     },
     "execution_count": 10,
     "metadata": {},
     "output_type": "execute_result"
    }
   ],
   "source": [
    "np.array(y).shape, np.array(X).shape"
   ]
  },
  {
   "cell_type": "code",
   "execution_count": 12,
   "metadata": {
    "scrolled": false
   },
   "outputs": [
    {
     "name": "stdout",
     "output_type": "stream",
     "text": [
      "Train on 1740 samples, validate on 436 samples\n",
      "Epoch 1/100\n",
      "1740/1740 [==============================] - 2s 1ms/sample - loss: 0.4824 - val_loss: 0.1599\n",
      "Epoch 2/100\n",
      "1740/1740 [==============================] - 1s 841us/sample - loss: 0.0882 - val_loss: 0.0426\n",
      "Epoch 3/100\n",
      "1740/1740 [==============================] - 1s 795us/sample - loss: 0.0154 - val_loss: 0.0062\n",
      "Epoch 4/100\n",
      "1740/1740 [==============================] - 1s 778us/sample - loss: 0.0048 - val_loss: 0.0044\n",
      "Epoch 5/100\n",
      "1740/1740 [==============================] - 1s 763us/sample - loss: 0.0039 - val_loss: 0.0036\n",
      "Epoch 6/100\n",
      "1740/1740 [==============================] - 1s 748us/sample - loss: 0.0034 - val_loss: 0.0033\n",
      "Epoch 7/100\n",
      "1740/1740 [==============================] - 1s 739us/sample - loss: 0.0033 - val_loss: 0.0034\n",
      "Epoch 8/100\n",
      "1740/1740 [==============================] - 1s 742us/sample - loss: 0.0033 - val_loss: 0.0034\n",
      "Epoch 9/100\n",
      "1740/1740 [==============================] - 1s 730us/sample - loss: 0.0032 - val_loss: 0.0032\n",
      "Epoch 10/100\n",
      "1740/1740 [==============================] - 1s 713us/sample - loss: 0.0032 - val_loss: 0.0033\n",
      "Epoch 11/100\n",
      "1740/1740 [==============================] - 1s 707us/sample - loss: 0.0031 - val_loss: 0.0031\n",
      "Epoch 12/100\n",
      "1740/1740 [==============================] - 1s 698us/sample - loss: 0.0032 - val_loss: 0.0032\n",
      "Epoch 13/100\n",
      "1740/1740 [==============================] - 1s 704us/sample - loss: 0.0031 - val_loss: 0.0033\n",
      "Epoch 14/100\n",
      "1740/1740 [==============================] - 1s 694us/sample - loss: 0.0036 - val_loss: 0.0033TA: 0s - loss: 0\n",
      "Epoch 15/100\n",
      "1740/1740 [==============================] - 1s 694us/sample - loss: 0.0034 - val_loss: 0.0034\n",
      "Epoch 16/100\n",
      "1740/1740 [==============================] - 1s 695us/sample - loss: 0.0031 - val_loss: 0.0031\n",
      "Epoch 17/100\n",
      "1740/1740 [==============================] - 1s 692us/sample - loss: 0.0030 - val_loss: 0.0030\n",
      "Epoch 18/100\n",
      "1740/1740 [==============================] - 1s 697us/sample - loss: 0.0030 - val_loss: 0.0030\n",
      "Epoch 19/100\n",
      "1740/1740 [==============================] - 1s 702us/sample - loss: 0.0030 - val_loss: 0.0030\n",
      "Epoch 20/100\n",
      "1740/1740 [==============================] - 1s 698us/sample - loss: 0.0032 - val_loss: 0.0038\n",
      "Epoch 21/100\n",
      "1740/1740 [==============================] - ETA: 0s - loss: 0.003 - 1s 709us/sample - loss: 0.0040 - val_loss: 0.0033\n",
      "Epoch 22/100\n",
      "1740/1740 [==============================] - 1s 709us/sample - loss: 0.0033 - val_loss: 0.0032\n",
      "Epoch 23/100\n",
      "1740/1740 [==============================] - 1s 723us/sample - loss: 0.0032 - val_loss: 0.0033\n",
      "Epoch 24/100\n",
      "1740/1740 [==============================] - 1s 729us/sample - loss: 0.0034 - val_loss: 0.0033\n",
      "Epoch 25/100\n",
      "1740/1740 [==============================] - 1s 713us/sample - loss: 0.0031 - val_loss: 0.0032\n",
      "Epoch 26/100\n",
      "1740/1740 [==============================] - 1s 713us/sample - loss: 0.0031 - val_loss: 0.0035\n",
      "Epoch 27/100\n",
      "1740/1740 [==============================] - 1s 702us/sample - loss: 0.0032 - val_loss: 0.0031\n",
      "Epoch 28/100\n",
      "1740/1740 [==============================] - 1s 703us/sample - loss: 0.0032 - val_loss: 0.0031\n",
      "Epoch 29/100\n",
      "1740/1740 [==============================] - 1s 711us/sample - loss: 0.0032 - val_loss: 0.0039\n",
      "Epoch 30/100\n",
      "1740/1740 [==============================] - 1s 720us/sample - loss: 0.0038 - val_loss: 0.0031\n",
      "Epoch 31/100\n",
      "1740/1740 [==============================] - 1s 720us/sample - loss: 0.0032 - val_loss: 0.0030\n",
      "Epoch 32/100\n",
      "1740/1740 [==============================] - 1s 724us/sample - loss: 0.0033 - val_loss: 0.0037\n",
      "Epoch 33/100\n",
      "1740/1740 [==============================] - 1s 709us/sample - loss: 0.0036 - val_loss: 0.0037\n",
      "Epoch 34/100\n",
      "1740/1740 [==============================] - 1s 699us/sample - loss: 0.0032 - val_loss: 0.0033\n",
      "Epoch 35/100\n",
      "1740/1740 [==============================] - 1s 688us/sample - loss: 0.0031 - val_loss: 0.0031\n",
      "Epoch 36/100\n",
      "1740/1740 [==============================] - 1s 689us/sample - loss: 0.0030 - val_loss: 0.0031\n",
      "Epoch 37/100\n",
      "1740/1740 [==============================] - 1s 686us/sample - loss: 0.0033 - val_loss: 0.0040\n",
      "Epoch 38/100\n",
      "1740/1740 [==============================] - 1s 690us/sample - loss: 0.0038 - val_loss: 0.0031\n",
      "Epoch 39/100\n",
      "1740/1740 [==============================] - 1s 691us/sample - loss: 0.0036 - val_loss: 0.0033\n",
      "Epoch 40/100\n",
      "1740/1740 [==============================] - 1s 693us/sample - loss: 0.0030 - val_loss: 0.0030\n",
      "Epoch 41/100\n",
      "1740/1740 [==============================] - 1s 684us/sample - loss: 0.0029 - val_loss: 0.0030\n",
      "Epoch 42/100\n",
      "1740/1740 [==============================] - 1s 705us/sample - loss: 0.0036 - val_loss: 0.0038\n",
      "Epoch 43/100\n",
      "1740/1740 [==============================] - 1s 722us/sample - loss: 0.0037 - val_loss: 0.0038\n",
      "Epoch 44/100\n",
      "1740/1740 [==============================] - 1s 721us/sample - loss: 0.0038 - val_loss: 0.0035\n",
      "Epoch 45/100\n",
      "1740/1740 [==============================] - 1s 728us/sample - loss: 0.0034 - val_loss: 0.0041\n",
      "Epoch 46/100\n",
      "1740/1740 [==============================] - ETA: 0s - loss: 0.003 - 1s 714us/sample - loss: 0.0036 - val_loss: 0.0032\n",
      "Epoch 47/100\n",
      "1740/1740 [==============================] - 1s 712us/sample - loss: 0.0030 - val_loss: 0.0030\n",
      "Epoch 48/100\n",
      "1740/1740 [==============================] - 1s 701us/sample - loss: 0.0029 - val_loss: 0.0030\n",
      "Epoch 49/100\n",
      "1740/1740 [==============================] - 1s 703us/sample - loss: 0.0029 - val_loss: 0.0029\n",
      "Epoch 50/100\n",
      "1740/1740 [==============================] - 1s 705us/sample - loss: 0.0031 - val_loss: 0.0031\n",
      "Epoch 51/100\n",
      "1740/1740 [==============================] - 1s 698us/sample - loss: 0.0031 - val_loss: 0.0030\n",
      "Epoch 52/100\n",
      "1740/1740 [==============================] - 1s 701us/sample - loss: 0.0030 - val_loss: 0.0032\n",
      "Epoch 53/100\n",
      "1740/1740 [==============================] - 1s 694us/sample - loss: 0.0034 - val_loss: 0.0039\n",
      "Epoch 54/100\n",
      "1740/1740 [==============================] - 1s 703us/sample - loss: 0.0037 - val_loss: 0.0035\n",
      "Epoch 55/100\n",
      "1740/1740 [==============================] - 1s 702us/sample - loss: 0.0035 - val_loss: 0.0036\n",
      "Epoch 56/100\n",
      "1740/1740 [==============================] - 1s 706us/sample - loss: 0.0043 - val_loss: 0.0055\n",
      "Epoch 57/100\n",
      "1740/1740 [==============================] - 1s 709us/sample - loss: 0.0043 - val_loss: 0.0039\n",
      "Epoch 58/100\n",
      "1740/1740 [==============================] - 1s 716us/sample - loss: 0.0036 - val_loss: 0.0068\n",
      "Epoch 59/100\n",
      "1740/1740 [==============================] - 1s 718us/sample - loss: 0.0047 - val_loss: 0.0038\n",
      "Epoch 60/100\n",
      "1740/1740 [==============================] - 1s 728us/sample - loss: 0.0035 - val_loss: 0.0032\n",
      "Epoch 61/100\n",
      "1740/1740 [==============================] - 1s 721us/sample - loss: 0.0030 - val_loss: 0.0031\n",
      "Epoch 62/100\n",
      "1740/1740 [==============================] - 1s 725us/sample - loss: 0.0030 - val_loss: 0.0034\n",
      "Epoch 63/100\n",
      "1740/1740 [==============================] - 1s 664us/sample - loss: 0.0029 - val_loss: 0.0029\n",
      "Epoch 64/100\n",
      "1740/1740 [==============================] - 1s 666us/sample - loss: 0.0029 - val_loss: 0.0030\n",
      "Epoch 65/100\n",
      "1740/1740 [==============================] - 1s 664us/sample - loss: 0.0031 - val_loss: 0.0034\n",
      "Epoch 66/100\n",
      "1740/1740 [==============================] - 1s 665us/sample - loss: 0.0032 - val_loss: 0.0031\n",
      "Epoch 67/100\n",
      "1740/1740 [==============================] - 1s 664us/sample - loss: 0.0029 - val_loss: 0.0029\n",
      "Epoch 68/100\n",
      "1740/1740 [==============================] - 1s 667us/sample - loss: 0.0028 - val_loss: 0.0029\n",
      "Epoch 69/100\n",
      "1740/1740 [==============================] - 1s 679us/sample - loss: 0.0030 - val_loss: 0.0030\n",
      "Epoch 70/100\n",
      "1740/1740 [==============================] - 1s 676us/sample - loss: 0.0030 - val_loss: 0.0035\n",
      "Epoch 71/100\n",
      "1740/1740 [==============================] - 1s 679us/sample - loss: 0.0033 - val_loss: 0.0035\n",
      "Epoch 72/100\n",
      "1740/1740 [==============================] - 1s 679us/sample - loss: 0.0033 - val_loss: 0.0053\n",
      "Epoch 73/100\n",
      "1740/1740 [==============================] - 1s 687us/sample - loss: 0.0086 - val_loss: 0.0060\n",
      "Epoch 74/100\n",
      "1740/1740 [==============================] - 1s 688us/sample - loss: 0.0061 - val_loss: 0.0036\n",
      "Epoch 75/100\n",
      "1740/1740 [==============================] - 1s 688us/sample - loss: 0.0032 - val_loss: 0.0030\n"
     ]
    },
    {
     "name": "stdout",
     "output_type": "stream",
     "text": [
      "Epoch 76/100\n",
      "1740/1740 [==============================] - 1s 697us/sample - loss: 0.0029 - val_loss: 0.0029\n",
      "Epoch 77/100\n",
      "1740/1740 [==============================] - 1s 702us/sample - loss: 0.0029 - val_loss: 0.0029\n",
      "Epoch 78/100\n",
      "1740/1740 [==============================] - 1s 690us/sample - loss: 0.0028 - val_loss: 0.0029\n",
      "Epoch 79/100\n",
      "1740/1740 [==============================] - 1s 699us/sample - loss: 0.0028 - val_loss: 0.0029\n",
      "Epoch 80/100\n",
      "1740/1740 [==============================] - 1s 701us/sample - loss: 0.0028 - val_loss: 0.0029\n",
      "Epoch 81/100\n",
      "1740/1740 [==============================] - 1s 661us/sample - loss: 0.0028 - val_loss: 0.0029\n",
      "Epoch 82/100\n",
      "1740/1740 [==============================] - 1s 659us/sample - loss: 0.0029 - val_loss: 0.0030\n",
      "Epoch 83/100\n",
      "1740/1740 [==============================] - 1s 657us/sample - loss: 0.0028 - val_loss: 0.0029\n",
      "Epoch 84/100\n",
      "1740/1740 [==============================] - 1s 664us/sample - loss: 0.0029 - val_loss: 0.0029\n",
      "Epoch 85/100\n",
      "1740/1740 [==============================] - 1s 656us/sample - loss: 0.0029 - val_loss: 0.0030\n",
      "Epoch 86/100\n",
      "1740/1740 [==============================] - 1s 657us/sample - loss: 0.0034 - val_loss: 0.0063\n",
      "Epoch 87/100\n",
      "1740/1740 [==============================] - 1s 665us/sample - loss: 0.0040 - val_loss: 0.0037\n",
      "Epoch 88/100\n",
      "1740/1740 [==============================] - 1s 662us/sample - loss: 0.0032 - val_loss: 0.0031\n",
      "Epoch 89/100\n",
      "1740/1740 [==============================] - 1s 662us/sample - loss: 0.0030 - val_loss: 0.0030\n",
      "Epoch 90/100\n",
      "1740/1740 [==============================] - 1s 661us/sample - loss: 0.0030 - val_loss: 0.0029\n",
      "Epoch 91/100\n",
      "1740/1740 [==============================] - 1s 666us/sample - loss: 0.0029 - val_loss: 0.0029\n",
      "Epoch 92/100\n",
      "1740/1740 [==============================] - 1s 664us/sample - loss: 0.0029 - val_loss: 0.0029\n",
      "Epoch 93/100\n",
      "1740/1740 [==============================] - 1s 668us/sample - loss: 0.0028 - val_loss: 0.0030\n",
      "Epoch 94/100\n",
      "1740/1740 [==============================] - 1s 666us/sample - loss: 0.0028 - val_loss: 0.0030\n",
      "Epoch 95/100\n",
      "1740/1740 [==============================] - 1s 668us/sample - loss: 0.0030 - val_loss: 0.0032\n",
      "Epoch 96/100\n",
      "1740/1740 [==============================] - 1s 673us/sample - loss: 0.0032 - val_loss: 0.0033\n",
      "Epoch 97/100\n",
      "1740/1740 [==============================] - 1s 645us/sample - loss: 0.0036 - val_loss: 0.0036\n",
      "Epoch 98/100\n",
      "1740/1740 [==============================] - 1s 651us/sample - loss: 0.0035 - val_loss: 0.0033\n",
      "Epoch 99/100\n",
      "1740/1740 [==============================] - 1s 648us/sample - loss: 0.0030 - val_loss: 0.0032\n",
      "Epoch 100/100\n",
      "1740/1740 [==============================] - 1s 651us/sample - loss: 0.0031 - val_loss: 0.0035\n"
     ]
    }
   ],
   "source": [
    "cnn, history, ((X_train, y_train), (X_test,  y_test)) = orbit_cnn(X, y, dimension=2, verbose=True, epochs=100) "
   ]
  },
  {
   "cell_type": "code",
   "execution_count": 13,
   "metadata": {},
   "outputs": [
    {
     "data": {
      "image/png": "[encoded data removed]",
      "text/plain": [
       "<Figure size 720x720 with 1 Axes>"
      ]
     },
     "metadata": {
      "needs_background": "light"
     },
     "output_type": "display_data"
    }
   ],
   "source": [
    "plt.rc('text', usetex=False)\n",
    "plt.rc('font', family='serif')\n",
    "plt.rcParams['text.usetex'] = False\n",
    "fig = plt.figure(figsize=(10,10))\n",
    "_ = plt.plot(history.history['loss'])\n",
    "_ = plt.plot(history.history['val_loss'])\n",
    "_ = plt.legend(('loss', 'validation_loss'))\n",
    "_ = plt.show()"
   ]
  },
  {
   "cell_type": "code",
   "execution_count": 25,
   "metadata": {},
   "outputs": [
    {
     "data": {
      "image/png": "[encoded data removed]",
      "text/plain": [
       "<Figure size 131.084x121.168 with 2 Axes>"
      ]
     },
     "metadata": {
      "needs_background": "light"
     },
     "output_type": "display_data"
    }
   ],
   "source": [
    "example_orbit_ = read_h5('OrbitKS_T31p619_L35p379.h5', directory='../data/local/OrbitKS/')\n",
    "example_orbit_.plot()\n",
    "example_orbit_ = rediscretize(example_orbit_, new_shape=(32,32))"
   ]
  },
  {
   "cell_type": "code",
   "execution_count": 21,
   "metadata": {},
   "outputs": [
    {
     "name": "stdout",
     "output_type": "stream",
     "text": [
      "Example L: 37.297088186899444 Sum_L for Tiles 37.000844133611395\n"
     ]
    },
    {
     "data": {
      "image/png": "[encoded data removed]",
      "text/plain": [
       "<Figure size 135.261x208.345 with 2 Axes>"
      ]
     },
     "metadata": {
      "needs_background": "light"
     },
     "output_type": "display_data"
    }
   ],
   "source": [
    "print('Example L:', example_orbit_.L, 'Sum_L for Tiles', td[0].L + td[1].L + td[2].L)\n",
    "guess_symbol_array = np.array([[0,1, ],[2,0,0],[2,0,0]])\n",
    "approximate_tiling = rediscretize(tile(guess_symbol_array, td, OrbitKS), new_shape=(32, 32))\n",
    "approximate_tiling.plot()"
   ]
  },
  {
   "cell_type": "code",
   "execution_count": 16,
   "metadata": {},
   "outputs": [
    {
     "ename": "NameError",
     "evalue": "name 'guess_symbol_array' is not defined",
     "output_type": "error",
     "traceback": [
      "\u001b[1;31m---------------------------------------------------------------------------\u001b[0m",
      "\u001b[1;31mNameError\u001b[0m                                 Traceback (most recent call last)",
      "\u001b[1;32m<ipython-input-16-18520eed9c1f>\u001b[0m in \u001b[0;36m<module>\u001b[1;34m\u001b[0m\n\u001b[1;32m----> 1\u001b[1;33m \u001b[0mprint\u001b[0m\u001b[1;33m(\u001b[0m\u001b[0mnp\u001b[0m\u001b[1;33m.\u001b[0m\u001b[0mmatrix\u001b[0m\u001b[1;33m(\u001b[0m\u001b[0mguess_symbol_array\u001b[0m\u001b[1;33m)\u001b[0m\u001b[1;33m)\u001b[0m\u001b[1;33m\u001b[0m\u001b[1;33m\u001b[0m\u001b[0m\n\u001b[0m\u001b[0;32m      2\u001b[0m \u001b[1;33m\u001b[0m\u001b[0m\n\u001b[0;32m      3\u001b[0m \u001b[0mtest_converge_result\u001b[0m \u001b[1;33m=\u001b[0m \u001b[0mconverge\u001b[0m\u001b[1;33m(\u001b[0m\u001b[0mapproximate_tiling\u001b[0m\u001b[1;33m,\u001b[0m \u001b[0mmethod\u001b[0m\u001b[1;33m=\u001b[0m\u001b[1;34m'hybrid'\u001b[0m\u001b[1;33m)\u001b[0m\u001b[1;33m\u001b[0m\u001b[1;33m\u001b[0m\u001b[0m\n\u001b[0;32m      4\u001b[0m \u001b[0mtest_tiling\u001b[0m \u001b[1;33m=\u001b[0m \u001b[0mtest_converge_result\u001b[0m\u001b[1;33m.\u001b[0m\u001b[0morbit\u001b[0m\u001b[1;33m\u001b[0m\u001b[1;33m\u001b[0m\u001b[0m\n",
      "\u001b[1;31mNameError\u001b[0m: name 'guess_symbol_array' is not defined"
     ]
    }
   ],
   "source": [
    "print(np.matrix(guess_symbol_array))\n",
    "\n",
    "test_converge_result = converge(approximate_tiling, method='hybrid')\n",
    "test_tiling = test_converge_result.orbit"
   ]
  },
  {
   "cell_type": "code",
   "execution_count": 17,
   "metadata": {},
   "outputs": [
    {
     "ename": "NameError",
     "evalue": "name 'test_tiling' is not defined",
     "output_type": "error",
     "traceback": [
      "\u001b[1;31m---------------------------------------------------------------------------\u001b[0m",
      "\u001b[1;31mNameError\u001b[0m                                 Traceback (most recent call last)",
      "\u001b[1;32m<ipython-input-17-6d018f74ba3d>\u001b[0m in \u001b[0;36m<module>\u001b[1;34m\u001b[0m\n\u001b[1;32m----> 1\u001b[1;33m \u001b[0mtest_tiling\u001b[0m\u001b[1;33m.\u001b[0m\u001b[0mrotate\u001b[0m\u001b[1;33m(\u001b[0m\u001b[1;33m-\u001b[0m\u001b[1;36m0.25\u001b[0m\u001b[1;33m,\u001b[0m \u001b[0maxis\u001b[0m\u001b[1;33m=\u001b[0m\u001b[1;36m1\u001b[0m\u001b[1;33m)\u001b[0m\u001b[1;33m.\u001b[0m\u001b[0mplot\u001b[0m\u001b[1;33m(\u001b[0m\u001b[1;33m)\u001b[0m\u001b[1;33m\u001b[0m\u001b[1;33m\u001b[0m\u001b[0m\n\u001b[0m\u001b[0;32m      2\u001b[0m \u001b[0mexample_orbit_\u001b[0m\u001b[1;33m.\u001b[0m\u001b[0mplot\u001b[0m\u001b[1;33m(\u001b[0m\u001b[1;33m)\u001b[0m\u001b[1;33m\u001b[0m\u001b[1;33m\u001b[0m\u001b[0m\n",
      "\u001b[1;31mNameError\u001b[0m: name 'test_tiling' is not defined"
     ]
    }
   ],
   "source": [
    "test_tiling.rotate(-0.25, axis=1).plot()\n",
    "example_orbit_.plot()"
   ]
  },
  {
   "cell_type": "code",
   "execution_count": 23,
   "metadata": {},
   "outputs": [
    {
     "data": {
      "text/plain": [
       "array([[0, 1, 2, 0, 1, 1, 1, 1, 1]])"
      ]
     },
     "execution_count": 23,
     "metadata": {},
     "output_type": "execute_result"
    }
   ],
   "source": [
    "cnn.predict(example_orbit_.convert(to='field').state.reshape(1, 32, 32, 1)).astype(int)"
   ]
  },
  {
   "cell_type": "code",
   "execution_count": 13,
   "metadata": {},
   "outputs": [],
   "source": [
    "from sklearn.metrics import mean_squared_error\n",
    "\n",
    "y_predict = cnn.predict(X_test)\n",
    "mse_array = mean_squared_error(y_test, y_predict)"
   ]
  },
  {
   "cell_type": "code",
   "execution_count": 14,
   "metadata": {},
   "outputs": [],
   "source": [
    "y_bottleneck = []\n",
    "for sa in symbol_arrays:\n",
    "    tiling = rediscretize(tile(sa, td, OrbitKS), new_shape=(32, 32))\n",
    "    y_bottleneck.append(gudhi_distance(tiling, example_orbit_, metric='bottleneck'))\n",
    "y = y_bottleneck"
   ]
  },
  {
   "cell_type": "code",
   "execution_count": 15,
   "metadata": {
    "collapsed": true
   },
   "outputs": [
    {
     "name": "stdout",
     "output_type": "stream",
     "text": [
      "Train on 1740 samples, validate on 436 samples\n",
      "Epoch 1/100\n",
      "1740/1740 [==============================] - 2s 890us/sample - loss: 0.1276 - val_loss: 0.0511\n",
      "Epoch 2/100\n",
      "1740/1740 [==============================] - 1s 646us/sample - loss: 0.0413 - val_loss: 0.0336\n",
      "Epoch 3/100\n",
      "1740/1740 [==============================] - 1s 630us/sample - loss: 0.0312 - val_loss: 0.0263\n",
      "Epoch 4/100\n",
      "1740/1740 [==============================] - 1s 645us/sample - loss: 0.0288 - val_loss: 0.0239\n",
      "Epoch 5/100\n",
      "1740/1740 [==============================] - 1s 633us/sample - loss: 0.0230 - val_loss: 0.0205\n",
      "Epoch 6/100\n",
      "1740/1740 [==============================] - 1s 699us/sample - loss: 0.0202 - val_loss: 0.0252\n",
      "Epoch 7/100\n",
      "1740/1740 [==============================] - 1s 738us/sample - loss: 0.0199 - val_loss: 0.0182\n",
      "Epoch 8/100\n",
      "1740/1740 [==============================] - 1s 631us/sample - loss: 0.0142 - val_loss: 0.0142\n",
      "Epoch 9/100\n",
      "1740/1740 [==============================] - 1s 636us/sample - loss: 0.0125 - val_loss: 0.0106\n",
      "Epoch 10/100\n",
      "1740/1740 [==============================] - 1s 642us/sample - loss: 0.0136 - val_loss: 0.0100\n",
      "Epoch 11/100\n",
      "1740/1740 [==============================] - 1s 646us/sample - loss: 0.0097 - val_loss: 0.0096\n",
      "Epoch 12/100\n",
      "1740/1740 [==============================] - 1s 632us/sample - loss: 0.0097 - val_loss: 0.0091\n",
      "Epoch 13/100\n",
      "1740/1740 [==============================] - 1s 641us/sample - loss: 0.0102 - val_loss: 0.0100\n",
      "Epoch 14/100\n",
      "1740/1740 [==============================] - 1s 648us/sample - loss: 0.0091 - val_loss: 0.0091\n",
      "Epoch 15/100\n",
      "1740/1740 [==============================] - 1s 653us/sample - loss: 0.0101 - val_loss: 0.0118\n",
      "Epoch 16/100\n",
      "1740/1740 [==============================] - 1s 635us/sample - loss: 0.0087 - val_loss: 0.0088\n",
      "Epoch 17/100\n",
      "1740/1740 [==============================] - 1s 642us/sample - loss: 0.0081 - val_loss: 0.0088\n",
      "Epoch 18/100\n",
      "1740/1740 [==============================] - 1s 659us/sample - loss: 0.0084 - val_loss: 0.0091\n",
      "Epoch 19/100\n",
      "1740/1740 [==============================] - 1s 773us/sample - loss: 0.0080 - val_loss: 0.0093\n",
      "Epoch 20/100\n",
      "1740/1740 [==============================] - 1s 687us/sample - loss: 0.0082 - val_loss: 0.0087\n",
      "Epoch 21/100\n",
      "1740/1740 [==============================] - 1s 645us/sample - loss: 0.0077 - val_loss: 0.0106\n",
      "Epoch 22/100\n",
      "1740/1740 [==============================] - 1s 653us/sample - loss: 0.0083 - val_loss: 0.0100\n",
      "Epoch 23/100\n",
      "1740/1740 [==============================] - 1s 632us/sample - loss: 0.0079 - val_loss: 0.0087\n",
      "Epoch 24/100\n",
      "1740/1740 [==============================] - 1s 707us/sample - loss: 0.0074 - val_loss: 0.0099\n",
      "Epoch 25/100\n",
      "1740/1740 [==============================] - 1s 748us/sample - loss: 0.0075 - val_loss: 0.0101\n",
      "Epoch 26/100\n",
      "1740/1740 [==============================] - 1s 639us/sample - loss: 0.0080 - val_loss: 0.0076\n",
      "Epoch 27/100\n",
      "1740/1740 [==============================] - 1s 641us/sample - loss: 0.0069 - val_loss: 0.0094\n",
      "Epoch 28/100\n",
      "1740/1740 [==============================] - 1s 647us/sample - loss: 0.0077 - val_loss: 0.0068\n",
      "Epoch 29/100\n",
      "1740/1740 [==============================] - 1s 630us/sample - loss: 0.0064 - val_loss: 0.0078\n",
      "Epoch 30/100\n",
      "1740/1740 [==============================] - 1s 634us/sample - loss: 0.0066 - val_loss: 0.0105\n",
      "Epoch 31/100\n",
      "1740/1740 [==============================] - 1s 633us/sample - loss: 0.0070 - val_loss: 0.0065\n",
      "Epoch 32/100\n",
      "1740/1740 [==============================] - 1s 653us/sample - loss: 0.0065 - val_loss: 0.0079\n",
      "Epoch 33/100\n",
      "1740/1740 [==============================] - 1s 625us/sample - loss: 0.0068 - val_loss: 0.0087\n",
      "Epoch 34/100\n",
      "1740/1740 [==============================] - 1s 646us/sample - loss: 0.0061 - val_loss: 0.0104\n",
      "Epoch 35/100\n",
      "1740/1740 [==============================] - 1s 633us/sample - loss: 0.0063 - val_loss: 0.0066\n",
      "Epoch 36/100\n",
      "1740/1740 [==============================] - 1s 685us/sample - loss: 0.0054 - val_loss: 0.0060\n",
      "Epoch 37/100\n",
      "1740/1740 [==============================] - 1s 758us/sample - loss: 0.0072 - val_loss: 0.0077\n",
      "Epoch 38/100\n",
      "1740/1740 [==============================] - 1s 678us/sample - loss: 0.0087 - val_loss: 0.0097\n",
      "Epoch 39/100\n",
      "1740/1740 [==============================] - 1s 656us/sample - loss: 0.0071 - val_loss: 0.0110\n",
      "Epoch 40/100\n",
      "1740/1740 [==============================] - 1s 668us/sample - loss: 0.0061 - val_loss: 0.0069\n",
      "Epoch 41/100\n",
      "1740/1740 [==============================] - 1s 664us/sample - loss: 0.0056 - val_loss: 0.0098\n",
      "Epoch 42/100\n",
      "1740/1740 [==============================] - 1s 655us/sample - loss: 0.0059 - val_loss: 0.0070\n",
      "Epoch 43/100\n",
      "1740/1740 [==============================] - 1s 656us/sample - loss: 0.0055 - val_loss: 0.0071\n",
      "Epoch 44/100\n",
      "1740/1740 [==============================] - 1s 665us/sample - loss: 0.0065 - val_loss: 0.0106\n",
      "Epoch 45/100\n",
      "1740/1740 [==============================] - 1s 646us/sample - loss: 0.0058 - val_loss: 0.0059\n",
      "Epoch 46/100\n",
      "1740/1740 [==============================] - 1s 651us/sample - loss: 0.0060 - val_loss: 0.0080\n",
      "Epoch 47/100\n",
      "1740/1740 [==============================] - 1s 645us/sample - loss: 0.0072 - val_loss: 0.0109\n",
      "Epoch 48/100\n",
      "1740/1740 [==============================] - 1s 658us/sample - loss: 0.0063 - val_loss: 0.0053\n",
      "Epoch 49/100\n",
      "1740/1740 [==============================] - 1s 669us/sample - loss: 0.0056 - val_loss: 0.0051\n",
      "Epoch 50/100\n",
      "1740/1740 [==============================] - 1s 683us/sample - loss: 0.0050 - val_loss: 0.0063\n",
      "Epoch 51/100\n",
      "1740/1740 [==============================] - 1s 653us/sample - loss: 0.0051 - val_loss: 0.0061\n",
      "Epoch 52/100\n",
      "1740/1740 [==============================] - 1s 649us/sample - loss: 0.0061 - val_loss: 0.0051\n",
      "Epoch 53/100\n",
      "1740/1740 [==============================] - 1s 664us/sample - loss: 0.0052 - val_loss: 0.0083\n",
      "Epoch 54/100\n",
      "1740/1740 [==============================] - 1s 656us/sample - loss: 0.0052 - val_loss: 0.0052\n",
      "Epoch 55/100\n",
      "1740/1740 [==============================] - 1s 668us/sample - loss: 0.0042 - val_loss: 0.0045\n",
      "Epoch 56/100\n",
      "1740/1740 [==============================] - 1s 663us/sample - loss: 0.0049 - val_loss: 0.0053\n",
      "Epoch 57/100\n",
      "1740/1740 [==============================] - 1s 637us/sample - loss: 0.0045 - val_loss: 0.0049\n",
      "Epoch 58/100\n",
      "1740/1740 [==============================] - 1s 634us/sample - loss: 0.0044 - val_loss: 0.0089\n",
      "Epoch 59/100\n",
      "1740/1740 [==============================] - 1s 634us/sample - loss: 0.0047 - val_loss: 0.0052\n",
      "Epoch 60/100\n",
      "1740/1740 [==============================] - 1s 650us/sample - loss: 0.0044 - val_loss: 0.0055\n",
      "Epoch 61/100\n",
      "1740/1740 [==============================] - 1s 710us/sample - loss: 0.0047 - val_loss: 0.0052\n",
      "Epoch 62/100\n",
      "1740/1740 [==============================] - 1s 680us/sample - loss: 0.0044 - val_loss: 0.0061\n",
      "Epoch 63/100\n",
      "1740/1740 [==============================] - 1s 628us/sample - loss: 0.0045 - val_loss: 0.0049\n",
      "Epoch 64/100\n",
      "1740/1740 [==============================] - 1s 644us/sample - loss: 0.0042 - val_loss: 0.0058\n",
      "Epoch 65/100\n",
      "1740/1740 [==============================] - 1s 637us/sample - loss: 0.0045 - val_loss: 0.0059\n",
      "Epoch 66/100\n",
      "1740/1740 [==============================] - 1s 722us/sample - loss: 0.0050 - val_loss: 0.0048\n",
      "Epoch 67/100\n",
      "1740/1740 [==============================] - 1s 631us/sample - loss: 0.0041 - val_loss: 0.0063\n",
      "Epoch 68/100\n",
      "1740/1740 [==============================] - 1s 633us/sample - loss: 0.0046 - val_loss: 0.0047\n",
      "Epoch 69/100\n",
      "1740/1740 [==============================] - 1s 632us/sample - loss: 0.0039 - val_loss: 0.0047\n",
      "Epoch 70/100\n",
      "1740/1740 [==============================] - 1s 678us/sample - loss: 0.0037 - val_loss: 0.0046\n",
      "Epoch 71/100\n",
      "1740/1740 [==============================] - 1s 686us/sample - loss: 0.0053 - val_loss: 0.0057\n",
      "Epoch 72/100\n",
      "1740/1740 [==============================] - 1s 643us/sample - loss: 0.0037 - val_loss: 0.0046\n",
      "Epoch 73/100\n",
      "1740/1740 [==============================] - 1s 635us/sample - loss: 0.0043 - val_loss: 0.0043\n",
      "Epoch 74/100\n",
      "1740/1740 [==============================] - 1s 632us/sample - loss: 0.0041 - val_loss: 0.0049\n",
      "Epoch 75/100\n",
      "1740/1740 [==============================] - 1s 717us/sample - loss: 0.0040 - val_loss: 0.0039\n",
      "Epoch 76/100\n",
      "1740/1740 [==============================] - 1s 637us/sample - loss: 0.0041 - val_loss: 0.0049\n",
      "Epoch 77/100\n",
      "1740/1740 [==============================] - 1s 672us/sample - loss: 0.0040 - val_loss: 0.0058\n",
      "Epoch 78/100\n",
      "1740/1740 [==============================] - 1s 651us/sample - loss: 0.0037 - val_loss: 0.0047\n",
      "Epoch 79/100\n",
      "1740/1740 [==============================] - 1s 679us/sample - loss: 0.0039 - val_loss: 0.0119\n",
      "Epoch 80/100\n",
      "1740/1740 [==============================] - 1s 775us/sample - loss: 0.0044 - val_loss: 0.0044\n",
      "Epoch 81/100\n",
      "1740/1740 [==============================] - 1s 717us/sample - loss: 0.0034 - val_loss: 0.0040\n",
      "Epoch 82/100\n",
      "1740/1740 [==============================] - 1s 724us/sample - loss: 0.0035 - val_loss: 0.0043\n",
      "Epoch 83/100\n",
      "1740/1740 [==============================] - 1s 663us/sample - loss: 0.0034 - val_loss: 0.0052\n",
      "Epoch 84/100\n",
      "1740/1740 [==============================] - 1s 658us/sample - loss: 0.0041 - val_loss: 0.0059\n",
      "Epoch 85/100\n",
      "1740/1740 [==============================] - 1s 647us/sample - loss: 0.0040 - val_loss: 0.0045\n",
      "Epoch 86/100\n",
      "1740/1740 [==============================] - 1s 697us/sample - loss: 0.0038 - val_loss: 0.0046\n",
      "Epoch 87/100\n",
      "1740/1740 [==============================] - 1s 687us/sample - loss: 0.0039 - val_loss: 0.0049\n",
      "Epoch 88/100\n",
      "1740/1740 [==============================] - 1s 651us/sample - loss: 0.0042 - val_loss: 0.0063\n",
      "Epoch 89/100\n",
      "1740/1740 [==============================] - 1s 647us/sample - loss: 0.0038 - val_loss: 0.0050\n",
      "Epoch 90/100\n",
      "1740/1740 [==============================] - 1s 646us/sample - loss: 0.0036 - val_loss: 0.0047\n",
      "Epoch 91/100\n",
      "1740/1740 [==============================] - 1s 732us/sample - loss: 0.0034 - val_loss: 0.0043\n",
      "Epoch 92/100\n",
      "1740/1740 [==============================] - 1s 675us/sample - loss: 0.0038 - val_loss: 0.0052\n",
      "Epoch 93/100\n",
      "1740/1740 [==============================] - 1s 681us/sample - loss: 0.0041 - val_loss: 0.0047\n",
      "Epoch 94/100\n",
      "1740/1740 [==============================] - 1s 660us/sample - loss: 0.0034 - val_loss: 0.0049\n",
      "Epoch 95/100\n",
      "1740/1740 [==============================] - 1s 695us/sample - loss: 0.0034 - val_loss: 0.0039\n",
      "Epoch 96/100\n",
      "1740/1740 [==============================] - 1s 790us/sample - loss: 0.0033 - val_loss: 0.0047\n",
      "Epoch 97/100\n",
      "1740/1740 [==============================] - 1s 663us/sample - loss: 0.0039 - val_loss: 0.0036\n",
      "Epoch 98/100\n",
      "1740/1740 [==============================] - 1s 676us/sample - loss: 0.0040 - val_loss: 0.0043\n",
      "Epoch 99/100\n",
      "1740/1740 [==============================] - 1s 653us/sample - loss: 0.0036 - val_loss: 0.0050\n",
      "Epoch 100/100\n",
      "1740/1740 [==============================] - 1s 665us/sample - loss: 0.0035 - val_loss: 0.0037\n"
     ]
    }
   ],
   "source": [
    "bottleneck_cnn, history, ((X_train, y_train), (X_test,  y_test)) = orbit_cnn(X, y, dimension=2) "
   ]
  },
  {
   "cell_type": "markdown",
   "metadata": {},
   "source": [
    "As a baseline, let's see how well it predicts the distance between the example orbit and itself: The expected value is of course, 0."
   ]
  },
  {
   "cell_type": "code",
   "execution_count": 17,
   "metadata": {},
   "outputs": [
    {
     "data": {
      "image/png": "[encoded data removed]",
      "text/plain": [
       "<Figure size 576x576 with 1 Axes>"
      ]
     },
     "metadata": {
      "needs_background": "light"
     },
     "output_type": "display_data"
    }
   ],
   "source": [
    "gudhi_distance(example_orbit_, example_orbit_, metric='bottleneck')\n",
    "\n",
    "bottleneck_cnn.predict(example_orbit_.convert(to='field').state.reshape(1, 32, 32, 1))\n",
    "\n",
    "bottleneck_cnn.predict(test_tiling.convert(to='field').state.reshape(1, 32, 32, 1))\n",
    "\n",
    "y_predict = bottleneck_cnn.predict(X_test)\n",
    "\n",
    "fig, ax = plt.subplots(figsize=(8,8))\n",
    "_ = ax.scatter(y_test, y_predict, s=5)\n",
    "_ = ax.plot([0,y_test.max()],[0,y_test.max()], color='r')\n",
    "_ = plt.xlabel('True value')\n",
    "_ = plt.ylabel('Predicted value')\n",
    "_ = plt.show()"
   ]
  }
 ],
 "metadata": {
  "kernelspec": {
   "display_name": "Python 3",
   "language": "python",
   "name": "python3"
  },
  "language_info": {
   "codemirror_mode": {
    "name": "ipython",
    "version": 3
   },
   "file_extension": ".py",
   "mimetype": "text/x-python",
   "name": "python",
   "nbconvert_exporter": "python",
   "pygments_lexer": "ipython3",
   "version": "3.7.6"
  }
 },
 "nbformat": 4,
 "nbformat_minor": 4
}
