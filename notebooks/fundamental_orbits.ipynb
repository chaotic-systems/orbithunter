{
 "cells": [
  {
   "cell_type": "code",
   "execution_count": 1,
   "metadata": {},
   "outputs": [],
   "source": [
    "from __future__ import print_function, division, absolute_import\n",
    "import os\n",
    "import sys\n",
    "sys.path.insert(0, \"C:\\\\Users\\\\Matt\\\\Desktop\\\\orbithunter\\\\\")\n",
    "import orbithunter as orb\n",
    "import numpy as np\n",
    "import itertools\n",
    "from math import pi\n",
    "import time\n",
    "import matplotlib.pyplot as plt"
   ]
  },
  {
   "cell_type": "markdown",
   "metadata": {},
   "source": [
    "# Fundamental orbits\n",
    "\n",
    "Application of the clipping method to the collection of orbits found via numerical optimization\n",
    "provided us with a handful of fundamental orbits; upon inspection it seems that\n",
    "only three are unique, the rest lie in the continuous families populated by numerical continuation."
   ]
  },
  {
   "cell_type": "code",
   "execution_count": 2,
   "metadata": {},
   "outputs": [],
   "source": [
    "s, w, m = orb.read_h5('./data/tiles.h5', ('default/streak', 'default/wiggle', 'default/defect'))"
   ]
  },
  {
   "cell_type": "code",
   "execution_count": 3,
   "metadata": {},
   "outputs": [
    {
     "data": {
      "image/png": "[encoded data removed]",
      "text/plain": [
       "<Figure size 112.988x64.4666 with 2 Axes>"
      ]
     },
     "metadata": {
      "needs_background": "light"
     },
     "output_type": "display_data"
    }
   ],
   "source": [
    "defect_original = orb.read_h5(\"./data/RelativeOrbitKS.h5\", \"t12p836_x28p614\")\n",
    "defect_original.plot()"
   ]
  },
  {
   "cell_type": "code",
   "execution_count": 4,
   "metadata": {},
   "outputs": [
    {
     "data": {
      "image/png": "[encoded data removed]",
      "text/plain": [
       "<Figure size 69.5521x64.4666 with 2 Axes>"
      ]
     },
     "metadata": {
      "needs_background": "light"
     },
     "output_type": "display_data"
    }
   ],
   "source": [
    "defect_clipping = orb.clip(defect_original.change_reference_frame(frame='physical')\n",
    "                        , ((None, None),(0.5, 2.2)), frame='physical')\n",
    "defect_clipping.plot()\n",
    "defect_clipping = defect_clipping.change_reference_frame(frame='comoving').resize(16, 16).transform(to='modes')"
   ]
  },
  {
   "cell_type": "code",
   "execution_count": 6,
   "metadata": {},
   "outputs": [
    {
     "name": "stdout",
     "output_type": "stream",
     "text": [
      "\n",
      "-------------------------------------------------------------------------------------------------\n",
      "Starting adjoint descent\n",
      "Initial guess : RelativeOrbitKS({\"shape\": [15, 14], \"basis\": \"modes\", \"parameters\": [12.836, 14.307, -4.097]})\n",
      "Constraints : {'t': False, 'x': False, 's': False}\n",
      "Initial cost : 379.4921796342131\n",
      "Target cost tolerance : 1e-06\n",
      "Maximum iteration number : 10000\n",
      "-------------------------------------------------------------------------------------------------\n",
      "#################################################\n",
      " Residual=0.0147692 after 5000 adjoint descent steps. Parameters=(12.82495971250659, 14.307580584411303, -3.8622492874100898)\n",
      "#################################################\n",
      "------------------------------------------------------------------------------------------------\n",
      "Starting lsmr optimization\n",
      "Initial guess : RelativeOrbitKS({\"shape\": [15, 14], \"basis\": \"modes\", \"parameters\": [12.805, 14.308, -3.842]})\n",
      "Constraints : {'t': False, 'x': False, 's': False}\n",
      "Initial cost : 0.012043671900861754\n",
      "Target cost tolerance : 1e-06\n",
      "Maximum iteration number : 10000\n",
      "-------------------------------------------------------------------------------------------------\n",
      "######################## Residual=0.0000604 after 25 lsmr iterations. Parameters=(14.3449527451549, 13.125129450420713, -3.4100030632452056)\n",
      "######################## Residual=0.0000029 after 50 lsmr iterations. Parameters=(14.461036553652468, 13.056411763819947, -3.394768108422649)\n",
      "#######\n",
      "Converged. Terminating hunt with cost  Terminating hunt with cost = 9.392651081589006e-07\n"
     ]
    },
    {
     "data": {
      "image/png": "[encoded data removed]",
      "text/plain": [
       "<Figure size 69.5521x64.4666 with 2 Axes>"
      ]
     },
     "metadata": {
      "needs_background": "light"
     },
     "output_type": "display_data"
    }
   ],
   "source": [
    "defres = orb.hunt(defect_clipping, methods=('adj', 'lsmr'), preconditioning=True, \n",
    "                  pexp=(1,4), verbose=True)\n",
    "\n",
    "defect_clipping.plot(fundamental_domain=True)"
   ]
  },
  {
   "cell_type": "code",
   "execution_count": null,
   "metadata": {},
   "outputs": [],
   "source": [
    "mask_orbit(defect_original, ((None, None),(0.5, 2.2)), mask_region='interior').plot(padding=False, fundamental_domain=False)\n",
    "mask_orbit(defect_original, ((None, None),(0.5, 2.2)), mask_region='exterior').plot(padding=False, fundamental_domain=False)\n",
    "defect_clipping.plot()\n",
    "defect_clipping.change_reference_frame(to='comoving').plot(fundamental_domain=False)\n",
    "defect_original.plot(fundamental_domain=False)\n",
    "mask_orbit(defect_original, ((None, None),(0.4, 2.2)), mask_region='interior').plot(padding=False, fundamental_domain=False)\n",
    "mask_orbit(defect_original, ((None, None),(0.4, 2.2)), mask_region='exterior').plot(padding=False, fundamental_domain=False)"
   ]
  },
  {
   "cell_type": "code",
   "execution_count": 31,
   "metadata": {},
   "outputs": [
    {
     "data": {
      "image/png": "[encoded data removed]",
      "text/plain": [
       "<Figure size 107.767x88.8454 with 2 Axes>"
      ]
     },
     "metadata": {
      "needs_background": "light"
     },
     "output_type": "display_data"
    }
   ],
   "source": [
    "orb.read_h5('./data/OrbitKS.h5', 't54p126_x26p744').transform(to='field').roll(-2, axis=0)[-12:, :].plot()"
   ]
  },
  {
   "cell_type": "code",
   "execution_count": 32,
   "metadata": {},
   "outputs": [],
   "source": [
    "clipped = orb.read_h5('./data/OrbitKS.h5', 't54p126_x26p744').transform(to='field').roll(-2, axis=0)[-12:, :]"
   ]
  },
  {
   "cell_type": "code",
   "execution_count": 33,
   "metadata": {},
   "outputs": [
    {
     "data": {
      "image/png": "[encoded data removed]",
      "text/plain": [
       "<Figure size 107.767x88.8454 with 2 Axes>"
      ]
     },
     "metadata": {
      "needs_background": "light"
     },
     "output_type": "display_data"
    }
   ],
   "source": [
    "clipped.plot()"
   ]
  },
  {
   "cell_type": "code",
   "execution_count": 39,
   "metadata": {},
   "outputs": [
    {
     "data": {
      "image/png": "[encoded data removed]",
      "text/plain": [
       "<Figure size 82.904x88.8454 with 2 Axes>"
      ]
     },
     "metadata": {
      "needs_background": "light"
     },
     "output_type": "display_data"
    }
   ],
   "source": [
    "wiggle = clipped[:, :22]\n",
    "wiggle.plot()"
   ]
  },
  {
   "cell_type": "code",
   "execution_count": 48,
   "metadata": {},
   "outputs": [],
   "source": [
    "wiggle = orb.AntisymmetricOrbitKS(**vars(wiggle))"
   ]
  },
  {
   "cell_type": "code",
   "execution_count": 49,
   "metadata": {},
   "outputs": [
    {
     "data": {
      "image/png": "[encoded data removed]",
      "text/plain": [
       "<Figure size 82.904x88.8454 with 2 Axes>"
      ]
     },
     "metadata": {
      "needs_background": "light"
     },
     "output_type": "display_data"
    }
   ],
   "source": [
    "wiggle.plot()"
   ]
  },
  {
   "cell_type": "code",
   "execution_count": 54,
   "metadata": {},
   "outputs": [
    {
     "name": "stdout",
     "output_type": "stream",
     "text": [
      "\n",
      "-------------------------------------------------------------------------------------------------\n",
      "Starting lstsq optimization\n",
      "Initial guess : AntisymmetricOrbitKS({\"shape\": [11, 10], \"basis\": \"modes\", \"parameters\": [20.298, 18.387, 0.0]})\n",
      "Constraints : {'t': False, 'x': False, 's': True}\n",
      "Initial cost : 97.80394723004743\n",
      "Target cost tolerance : 1e-06\n",
      "Maximum iteration number : 500\n",
      "-------------------------------------------------------------------------------------------------\n",
      "####\n",
      "Converged. Terminating hunt with cost  Terminating hunt with cost = 1.714669372086274e-11\n"
     ]
    },
    {
     "data": {
      "image/png": "[encoded data removed]",
      "text/plain": [
       "<Figure size 81.2705x93.1085 with 2 Axes>"
      ]
     },
     "metadata": {
      "needs_background": "light"
     },
     "output_type": "display_data"
    }
   ],
   "source": [
    "wiggle_res = orb.hunt(wiggle.transform(to='modes'), verbose=True, methods='lstsq')\n",
    "wiggle_res.orbit.plot()"
   ]
  },
  {
   "cell_type": "code",
   "execution_count": 53,
   "metadata": {},
   "outputs": [
    {
     "name": "stdout",
     "output_type": "stream",
     "text": [
      "\n",
      "-------------------------------------------------------------------------------------------------\n",
      "Starting lstsq optimization\n",
      "Initial guess : EquilibriumOrbitKS({\"shape\": [1, 4], \"basis\": \"modes\", \"parameters\": [20.298, 8.358, 0.0]})\n",
      "Constraints : {'t': False, 'x': False, 's': True}\n",
      "Initial cost : 11.224562842597713\n",
      "Target cost tolerance : 1e-06\n",
      "Maximum iteration number : 500\n",
      "-------------------------------------------------------------------------------------------------\n",
      "#######\n",
      "Converged. Terminating hunt with cost  Terminating hunt with cost = 4.0775690699662674e-07\n"
     ]
    },
    {
     "data": {
      "image/png": "[encoded data removed]",
      "text/plain": [
       "<Figure size 47.7397x85.0404 with 2 Axes>"
      ]
     },
     "metadata": {
      "needs_background": "light"
     },
     "output_type": "display_data"
    }
   ],
   "source": [
    "streak = clipped[:, 22:]\n",
    "streak = orb.EquilibriumOrbitKS(**vars(streak))\n",
    "streak_res = orb.hunt(streak.transform(to='modes'), verbose=True, methods='lstsq')\n",
    "streak_res.orbit.plot()"
   ]
  },
  {
   "cell_type": "code",
   "execution_count": 8,
   "metadata": {},
   "outputs": [
    {
     "data": {
      "image/png": "[encoded data removed]",
      "text/plain": [
       "<Figure size 39.5642x18 with 2 Axes>"
      ]
     },
     "metadata": {
      "needs_background": "light"
     },
     "output_type": "display_data"
    },
    {
     "data": {
      "image/png": "[encoded data removed]",
      "text/plain": [
       "<Figure size 80.3763x78.9631 with 2 Axes>"
      ]
     },
     "metadata": {
      "needs_background": "light"
     },
     "output_type": "display_data"
    },
    {
     "data": {
      "image/png": "[encoded data removed]",
      "text/plain": [
       "<Figure size 65.1091x78.963 with 2 Axes>"
      ]
     },
     "metadata": {
      "needs_background": "light"
     },
     "output_type": "display_data"
    }
   ],
   "source": [
    "_ = s.plot(fundamental_domain=False), w.plot(fundamental_domain=False), m.plot()"
   ]
  },
  {
   "cell_type": "markdown",
   "metadata": {},
   "source": [
    "The claim is that these represent the fundamental patterns of the Kuramoto-Sivashinsky equation. How fundamental\n",
    "are these patterns, truly? "
   ]
  },
  {
   "cell_type": "code",
   "execution_count": 7,
   "metadata": {},
   "outputs": [],
   "source": [
    "half_wiggle_streak = orb.continuation(s.transform(to='modes'),  {'x':w.x/2}, axis=1, step_size=0.1, \n",
    "                       method='lstsq').orbit.resize(32,32).transform(to='field')\n",
    "slanted_streak = orb.RelativeOrbitKS(**{**vars(half_wiggle_streak))"
   ]
  },
  {
   "cell_type": "code",
   "execution_count": 16,
   "metadata": {},
   "outputs": [
    {
     "data": {
      "image/png": "[encoded data removed]",
      "text/plain": [
       "<Figure size 39.5642x18 with 2 Axes>"
      ]
     },
     "metadata": {
      "needs_background": "light"
     },
     "output_type": "display_data"
    }
   ],
   "source": [
    "half_wiggle_streak.plot()"
   ]
  },
  {
   "cell_type": "code",
   "execution_count": 12,
   "metadata": {},
   "outputs": [
    {
     "data": {
      "text/plain": [
       "'comoving'"
      ]
     },
     "execution_count": 12,
     "metadata": {},
     "output_type": "execute_result"
    }
   ],
   "source": [
    "slanted_streak.frame"
   ]
  },
  {
   "cell_type": "code",
   "execution_count": 13,
   "metadata": {},
   "outputs": [
    {
     "name": "stderr",
     "output_type": "stream",
     "text": [
      "C:\\Users\\Matt\\Desktop\\orbithunter\\orbithunter\\ks\\orbits.py:2724: RuntimeWarning: invalid value encountered in double_scalars\n",
      "  translation_per_period = shift / self.t\n"
     ]
    },
    {
     "data": {
      "image/png": "[encoded data removed]",
      "text/plain": [
       "<Figure size 39.5642x18 with 2 Axes>"
      ]
     },
     "metadata": {
      "needs_background": "light"
     },
     "output_type": "display_data"
    }
   ],
   "source": [
    "slanted_streak.plot(fundamental_domain=True)"
   ]
  },
  {
   "cell_type": "code",
   "execution_count": 23,
   "metadata": {},
   "outputs": [],
   "source": [
    "from orbithunter.ks.orbits import temporal_frequencies"
   ]
  },
  {
   "cell_type": "code",
   "execution_count": 18,
   "metadata": {},
   "outputs": [
    {
     "ename": "IndexError",
     "evalue": "too many indices for array: array is 1-dimensional, but 2 were indexed",
     "output_type": "error",
     "traceback": [
      "\u001b[1;31m---------------------------------------------------------------------------\u001b[0m",
      "\u001b[1;31mIndexError\u001b[0m                                Traceback (most recent call last)",
      "\u001b[1;32m<ipython-input-18-1638afabb8b5>\u001b[0m in \u001b[0;36m<module>\u001b[1;34m\u001b[0m\n\u001b[0;32m      2\u001b[0m                        method='lstsq').orbit.resize(32,32).transform(to='field')\n\u001b[0;32m      3\u001b[0m \u001b[0mslanted_streak\u001b[0m \u001b[1;33m=\u001b[0m \u001b[0morb\u001b[0m\u001b[1;33m.\u001b[0m\u001b[0mRelativeOrbitKS\u001b[0m\u001b[1;33m(\u001b[0m\u001b[1;33m**\u001b[0m\u001b[0mvars\u001b[0m\u001b[1;33m(\u001b[0m\u001b[0mhalf_wiggle_streak\u001b[0m\u001b[1;33m)\u001b[0m\u001b[1;33m)\u001b[0m\u001b[1;33m\u001b[0m\u001b[1;33m\u001b[0m\u001b[0m\n\u001b[1;32m----> 4\u001b[1;33m \u001b[0mslanted\u001b[0m \u001b[1;33m=\u001b[0m \u001b[0mslanted_streak\u001b[0m\u001b[1;33m.\u001b[0m\u001b[0mrotate\u001b[0m\u001b[1;33m(\u001b[0m\u001b[1;36m0.1\u001b[0m\u001b[1;33m,\u001b[0m \u001b[0maxis\u001b[0m\u001b[1;33m=\u001b[0m\u001b[1;36m1\u001b[0m\u001b[1;33m)\u001b[0m\u001b[1;33m\u001b[0m\u001b[1;33m\u001b[0m\u001b[0m\n\u001b[0m\u001b[0;32m      5\u001b[0m \u001b[0mslanted\u001b[0m\u001b[1;33m.\u001b[0m\u001b[0mt\u001b[0m \u001b[1;33m=\u001b[0m \u001b[0mw\u001b[0m\u001b[1;33m.\u001b[0m\u001b[0mt\u001b[0m \u001b[1;33m/\u001b[0m \u001b[1;36m4\u001b[0m\u001b[1;33m\u001b[0m\u001b[1;33m\u001b[0m\u001b[0m\n\u001b[0;32m      6\u001b[0m \u001b[0mslanted\u001b[0m\u001b[1;33m.\u001b[0m\u001b[0mS\u001b[0m \u001b[1;33m=\u001b[0m \u001b[1;33m-\u001b[0m\u001b[0mpi\u001b[0m\u001b[1;33m*\u001b[0m\u001b[0mnp\u001b[0m\u001b[1;33m.\u001b[0m\u001b[0msqrt\u001b[0m\u001b[1;33m(\u001b[0m\u001b[1;36m2\u001b[0m\u001b[1;33m)\u001b[0m\u001b[1;33m/\u001b[0m\u001b[1;36m2\u001b[0m\u001b[1;33m\u001b[0m\u001b[1;33m\u001b[0m\u001b[0m\n",
      "\u001b[1;32mC:\\ProgramData\\Anaconda3\\lib\\site-packages\\orbithunter\\ks\\orbits.py\u001b[0m in \u001b[0;36mrotate\u001b[1;34m(self, distance, axis, units)\u001b[0m\n\u001b[0;32m   1217\u001b[0m                 \u001b[0mdistance\u001b[0m\u001b[1;33m\u001b[0m\u001b[1;33m\u001b[0m\u001b[0m\n\u001b[0;32m   1218\u001b[0m                 * spatial_frequencies(self.x, self.m, 1).ravel()[\n\u001b[1;32m-> 1219\u001b[1;33m                     \u001b[1;33m:\u001b[0m\u001b[1;33m,\u001b[0m \u001b[1;33m:\u001b[0m \u001b[1;33m-\u001b[0m\u001b[1;33m(\u001b[0m\u001b[0morbit_to_rotate\u001b[0m\u001b[1;33m.\u001b[0m\u001b[0mm\u001b[0m \u001b[1;33m//\u001b[0m \u001b[1;36m2\u001b[0m \u001b[1;33m-\u001b[0m \u001b[1;36m1\u001b[0m\u001b[1;33m)\u001b[0m\u001b[1;33m\u001b[0m\u001b[1;33m\u001b[0m\u001b[0m\n\u001b[0m\u001b[0;32m   1220\u001b[0m                 ]\n\u001b[0;32m   1221\u001b[0m             )\n",
      "\u001b[1;31mIndexError\u001b[0m: too many indices for array: array is 1-dimensional, but 2 were indexed"
     ]
    }
   ],
   "source": [
    "slanted = slanted_streak.rotate(0.1, axis=1)\n",
    "slanted.t = w.t / 4\n",
    "slanted.S = -pi*np.sqrt(2)/2\n",
    "slanted = slanted.rotate(0.01, axis=1)\n",
    "slanted.reflection().plot(fundamental_domain=True)\n",
    "slanted.plot(fundamental_domain=True)"
   ]
  },
  {
   "cell_type": "code",
   "execution_count": 13,
   "metadata": {},
   "outputs": [
    {
     "ename": "NameError",
     "evalue": "name 'glue' is not defined",
     "output_type": "error",
     "traceback": [
      "\u001b[1;31m---------------------------------------------------------------------------\u001b[0m",
      "\u001b[1;31mNameError\u001b[0m                                 Traceback (most recent call last)",
      "\u001b[1;32m<ipython-input-13-a234f0cf8637>\u001b[0m in \u001b[0;36m<module>\u001b[1;34m\u001b[0m\n\u001b[1;32m----> 1\u001b[1;33m wfd_from_s = glue(np.array([[slanted.change_reference_frame(to='physical')],\n\u001b[0m\u001b[0;32m      2\u001b[0m                [slanted.reflection().change_reference_frame(to='physical')]]), OrbitKS)\n\u001b[0;32m      3\u001b[0m \u001b[1;33m\u001b[0m\u001b[0m\n\u001b[0;32m      4\u001b[0m \u001b[0ms2w\u001b[0m \u001b[1;33m=\u001b[0m \u001b[0mglue\u001b[0m\u001b[1;33m(\u001b[0m\u001b[0mnp\u001b[0m\u001b[1;33m.\u001b[0m\u001b[0marray\u001b[0m\u001b[1;33m(\u001b[0m\u001b[1;33m[\u001b[0m\u001b[1;33m[\u001b[0m\u001b[0mwfd_from_s\u001b[0m\u001b[1;33m.\u001b[0m\u001b[0mreflection\u001b[0m\u001b[1;33m(\u001b[0m\u001b[1;33m)\u001b[0m\u001b[1;33m,\u001b[0m \u001b[0mwfd_from_s\u001b[0m\u001b[1;33m]\u001b[0m\u001b[1;33m]\u001b[0m\u001b[1;33m)\u001b[0m\u001b[1;33m,\u001b[0m \u001b[0mOrbitKS\u001b[0m\u001b[1;33m)\u001b[0m\u001b[1;33m\u001b[0m\u001b[1;33m\u001b[0m\u001b[0m\n\u001b[0;32m      5\u001b[0m \u001b[1;33m\u001b[0m\u001b[0m\n",
      "\u001b[1;31mNameError\u001b[0m: name 'glue' is not defined"
     ]
    }
   ],
   "source": [
    "wfd_from_s = glue(np.array([[slanted.change_reference_frame(to='physical')],\n",
    "               [slanted.reflection().change_reference_frame(to='physical')]]), OrbitKS)\n",
    "\n",
    "s2w = glue(np.array([[wfd_from_s.reflection(), wfd_from_s]]), OrbitKS)\n",
    "\n",
    "s2w.plot(filename='s2w_short.pdf', directory='../../data/local/orbithunter_thesis/fundamental/')\n",
    "# s2w.plot(filename='s2w_middle.pdf', directory='../../data/local/orbithunter_thesis/fundamental/')\n",
    "# s2w.plot(filename='s2w_long.pdf', directory='../../data/local/orbithunter_thesis/fundamental/')\n",
    "\n",
    "s2w_result =  converge(convert_class(s2w.rescale(5).reshape(16,16).reshape(32,16).transform(to='modes'), \n",
    "                                     AntisymmetricOrbitKS), method='hybrid', \n",
    "                                     preconditioning=True, pexp=(1,4), verbose=True) \n",
    "\n",
    "s2w_result.orbit.plot()\n",
    "\n",
    "s2w_result.orbit.plot(filename='s2w_short_result.pdf', directory='../../data/local/orbithunter_thesis/fundamental/')\n",
    "# s2w_result.orbit.plot(filename='s2w_middle_result.pdf', directory='../../data/local/orbithunter_thesis/fundamental/')\n",
    "# s2w_result.orbit.plot(filename='s2w_long_result.pdf', directory='../../data/local/orbithunter_thesis/fundamental/')\n",
    "\n",
    "s12r.plot(fundamental_domain=False)\n",
    "\n",
    "s13r.plot(fundamental_domain=False)\n",
    "\n",
    "defect_from_streaks = glue(np.array([[s12r],[s13r]]),\n",
    "                           RelativeOrbitKS,\n",
    "                           frame='physical')\n",
    "defect_from_streaks.t = m.t\n",
    "\n",
    "defect_from_streaks = defect_from_streaks.change_reference_frame(to='comoving')\n",
    "\n",
    "s2d = defect_from_streaks.reshape(16,16).reshape(32,16).transform(to='modes')\n",
    "\n",
    "s2d.plot(fundamental_domain=True)\n",
    "\n",
    "s2d.plot(filename='s2d_initial.pdf', directory='../../data/local/orbithunter_thesis/fundamental/', fundamental_domain=True)\n",
    "\n",
    "d_from_s_result =  converge(s2d, method='hybrid', preconditioning=True, pexp=(1,4), verbose=True) \n",
    "\n",
    "d_from_s_result.orbit.plot(filename='s2d_final.pdf', directory='../../data/local/orbithunter_thesis/fundamental/', fundamental_domain=True)"
   ]
  },
  {
   "cell_type": "code",
   "execution_count": null,
   "metadata": {},
   "outputs": [],
   "source": []
  }
 ],
 "metadata": {
  "kernelspec": {
   "display_name": "Python 3",
   "language": "python",
   "name": "python3"
  },
  "language_info": {
   "codemirror_mode": {
    "name": "ipython",
    "version": 3
   },
   "file_extension": ".py",
   "mimetype": "text/x-python",
   "name": "python",
   "nbconvert_exporter": "python",
   "pygments_lexer": "ipython3",
   "version": "3.7.6"
  }
 },
 "nbformat": 4,
 "nbformat_minor": 4
}
