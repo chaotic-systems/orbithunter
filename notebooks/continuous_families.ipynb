{
 "cells": [
  {
   "cell_type": "code",
   "execution_count": 1,
   "metadata": {},
   "outputs": [],
   "source": [
    "from __future__ import print_function, division, absolute_import\n",
    "import os,sys\n",
    "import numpy as np\n",
    "from scipy.linalg import inv, block_diag\n",
    "import time\n",
    "from joblib import Parallel, delayed\n",
    "import gudhi\n",
    "sys.path.insert(0, \"C:\\\\Users\\\\matt\\\\Desktop\\\\orbithunter\\\\\")\n",
    "from orbithunter import *\n",
    "from mpl_toolkits.mplot3d.axes3d import *\n",
    "import matplotlib.pyplot as plt\n",
    "import itertools\n",
    "from gudhi.hera import wasserstein_distance, bottleneck_distance\n",
    "import glob"
   ]
  },
  {
   "cell_type": "code",
   "execution_count": 2,
   "metadata": {},
   "outputs": [],
   "source": [
    "merge_tile = read_h5('RelativeOrbitKS_L13p026_T15p855.h5', directory='../data/tiles/original')"
   ]
  },
  {
   "cell_type": "code",
   "execution_count": 3,
   "metadata": {},
   "outputs": [
    {
     "data": {
      "image/png": "[encoded data removed]",
      "text/plain": [
       "<Figure size 72x72 with 2 Axes>"
      ]
     },
     "metadata": {
      "needs_background": "light"
     },
     "output_type": "display_data"
    }
   ],
   "source": [
    "merge_tile.plot()"
   ]
  },
  {
   "cell_type": "code",
   "execution_count": 4,
   "metadata": {
    "scrolled": true
   },
   "outputs": [
    {
     "name": "stdout",
     "output_type": "stream",
     "text": [
      "Starting gradient descent. Initial residual=0.09579012475584053, target=1e-15, max_iter=16384\n",
      "#Gradient descent has stalled; exiting. Decrease ftol to avoid this behavior.\n",
      "Starting lstsq. Initial residual=2.3081471582898367e-08, target=1e-15\n",
      "00\n",
      "Converged. exiting with residual 1.2172231824596696e-20\n"
     ]
    }
   ],
   "source": [
    "result = converge(rediscretize(merge_tile, new_shape=(32,32)), verbose=True, precision='machine')"
   ]
  },
  {
   "cell_type": "code",
   "execution_count": 5,
   "metadata": {},
   "outputs": [],
   "source": [
    "merge_tile = result.orbit"
   ]
  },
  {
   "cell_type": "code",
   "execution_count": 6,
   "metadata": {},
   "outputs": [],
   "source": [
    "continuation_endpoint_plus = dimension_continuation(merge_tile, step_size=0.001, target_extent=20, axis=1, method='lstsq',\n",
    "                                               save=True, directory='../data/continuation/merge_tile/')"
   ]
  },
  {
   "cell_type": "code",
   "execution_count": 7,
   "metadata": {},
   "outputs": [],
   "source": [
    "continuation_endpoint_minus = dimension_continuation(merge_tile, step_size=0.001, target_extent=10, axis=1, method='lstsq',\n",
    "                                               save=True, directory='../data/continuation/merge_tile/')"
   ]
  },
  {
   "cell_type": "code",
   "execution_count": 8,
   "metadata": {},
   "outputs": [],
   "source": [
    "largest_L_merger = continuation_endpoint_plus.orbit"
   ]
  },
  {
   "cell_type": "code",
   "execution_count": 9,
   "metadata": {},
   "outputs": [],
   "source": [
    "smallest_L_merger = continuation_endpoint_minus.orbit"
   ]
  },
  {
   "cell_type": "code",
   "execution_count": 10,
   "metadata": {},
   "outputs": [
    {
     "data": {
      "image/png": "[encoded data removed]",
      "text/plain": [
       "<Figure size 72x360 with 2 Axes>"
      ]
     },
     "metadata": {
      "needs_background": "light"
     },
     "output_type": "display_data"
    }
   ],
   "source": [
    "smallest_L_merger.plot()"
   ]
  },
  {
   "cell_type": "code",
   "execution_count": 11,
   "metadata": {},
   "outputs": [
    {
     "data": {
      "image/png": "[encoded data removed]",
      "text/plain": [
       "<Figure size 72x72 with 2 Axes>"
      ]
     },
     "metadata": {
      "needs_background": "light"
     },
     "output_type": "display_data"
    }
   ],
   "source": [
    "largest_L_merger.plot()"
   ]
  },
  {
   "cell_type": "code",
   "execution_count": 12,
   "metadata": {},
   "outputs": [],
   "source": [
    "orbit_list = []\n",
    "for orbit_h5 in glob.glob('../data/continuation/merge_tile/*.h5'):\n",
    "    orbit_list.append(read_h5('../'+orbit_h5))"
   ]
  },
  {
   "cell_type": "code",
   "execution_count": 13,
   "metadata": {},
   "outputs": [
    {
     "ename": "KeyboardInterrupt",
     "evalue": "",
     "output_type": "error",
     "traceback": [
      "\u001b[1;31m---------------------------------------------------------------------------\u001b[0m",
      "\u001b[1;31mKeyboardInterrupt\u001b[0m                         Traceback (most recent call last)",
      "\u001b[1;32m<ipython-input-13-b54a0838daf2>\u001b[0m in \u001b[0;36m<module>\u001b[1;34m\u001b[0m\n\u001b[0;32m      1\u001b[0m \u001b[0mwd_list\u001b[0m \u001b[1;33m=\u001b[0m \u001b[1;33m[\u001b[0m\u001b[1;33m]\u001b[0m\u001b[1;33m\u001b[0m\u001b[1;33m\u001b[0m\u001b[0m\n\u001b[0;32m      2\u001b[0m \u001b[1;32mfor\u001b[0m \u001b[0morbit1\u001b[0m\u001b[1;33m,\u001b[0m \u001b[0morbit2\u001b[0m \u001b[1;32min\u001b[0m \u001b[0mnp\u001b[0m\u001b[1;33m.\u001b[0m\u001b[0marray\u001b[0m\u001b[1;33m(\u001b[0m\u001b[0mlist\u001b[0m\u001b[1;33m(\u001b[0m\u001b[0mitertools\u001b[0m\u001b[1;33m.\u001b[0m\u001b[0mproduct\u001b[0m\u001b[1;33m(\u001b[0m\u001b[0morbit_list\u001b[0m\u001b[1;33m,\u001b[0m \u001b[0morbit_list\u001b[0m\u001b[1;33m)\u001b[0m\u001b[1;33m)\u001b[0m\u001b[1;33m)\u001b[0m\u001b[1;33m:\u001b[0m\u001b[1;33m\u001b[0m\u001b[1;33m\u001b[0m\u001b[0m\n\u001b[1;32m----> 3\u001b[1;33m     \u001b[0mwd_list\u001b[0m\u001b[1;33m.\u001b[0m\u001b[0mappend\u001b[0m\u001b[1;33m(\u001b[0m\u001b[0mgudhi_distance\u001b[0m\u001b[1;33m(\u001b[0m\u001b[0morbit1\u001b[0m\u001b[1;33m,\u001b[0m \u001b[0morbit2\u001b[0m\u001b[1;33m,\u001b[0m \u001b[0mmetric\u001b[0m\u001b[1;33m=\u001b[0m\u001b[1;34m'wasserstein_distance'\u001b[0m\u001b[1;33m)\u001b[0m\u001b[1;33m)\u001b[0m\u001b[1;33m\u001b[0m\u001b[1;33m\u001b[0m\u001b[0m\n\u001b[0m",
      "\u001b[1;32mC:\\Users\\matt\\Desktop\\orbithunter\\orbithunter\\persistent_homology.py\u001b[0m in \u001b[0;36mgudhi_distance\u001b[1;34m(orbit1, orbit2, metric, **kwargs)\u001b[0m\n\u001b[0;32m     68\u001b[0m \u001b[1;32mdef\u001b[0m \u001b[0mgudhi_distance\u001b[0m\u001b[1;33m(\u001b[0m\u001b[0morbit1\u001b[0m\u001b[1;33m,\u001b[0m \u001b[0morbit2\u001b[0m\u001b[1;33m,\u001b[0m \u001b[0mmetric\u001b[0m\u001b[1;33m=\u001b[0m\u001b[1;34m'bottleneck_distance'\u001b[0m\u001b[1;33m,\u001b[0m \u001b[1;33m**\u001b[0m\u001b[0mkwargs\u001b[0m\u001b[1;33m)\u001b[0m\u001b[1;33m:\u001b[0m\u001b[1;33m\u001b[0m\u001b[1;33m\u001b[0m\u001b[0m\n\u001b[0;32m     69\u001b[0m     \u001b[0mpersistence1\u001b[0m \u001b[1;33m=\u001b[0m \u001b[0morbit_periodic_cubical_complex\u001b[0m\u001b[1;33m(\u001b[0m\u001b[0morbit1\u001b[0m\u001b[1;33m,\u001b[0m \u001b[1;33m**\u001b[0m\u001b[0mkwargs\u001b[0m\u001b[1;33m)\u001b[0m\u001b[1;33m.\u001b[0m\u001b[0mpersistence\u001b[0m\u001b[1;33m(\u001b[0m\u001b[1;33m)\u001b[0m\u001b[1;33m\u001b[0m\u001b[1;33m\u001b[0m\u001b[0m\n\u001b[1;32m---> 70\u001b[1;33m     \u001b[0mpersistence2\u001b[0m \u001b[1;33m=\u001b[0m \u001b[0morbit_periodic_cubical_complex\u001b[0m\u001b[1;33m(\u001b[0m\u001b[0morbit2\u001b[0m\u001b[1;33m,\u001b[0m \u001b[1;33m**\u001b[0m\u001b[0mkwargs\u001b[0m\u001b[1;33m)\u001b[0m\u001b[1;33m.\u001b[0m\u001b[0mpersistence\u001b[0m\u001b[1;33m(\u001b[0m\u001b[1;33m)\u001b[0m\u001b[1;33m\u001b[0m\u001b[1;33m\u001b[0m\u001b[0m\n\u001b[0m\u001b[0;32m     71\u001b[0m     \u001b[0mdiagram1\u001b[0m \u001b[1;33m=\u001b[0m \u001b[1;33m[\u001b[0m\u001b[0mp\u001b[0m\u001b[1;33m[\u001b[0m\u001b[1;33m-\u001b[0m\u001b[1;36m1\u001b[0m\u001b[1;33m]\u001b[0m \u001b[1;32mfor\u001b[0m \u001b[0mp\u001b[0m \u001b[1;32min\u001b[0m \u001b[0mpersistence1\u001b[0m\u001b[1;33m]\u001b[0m\u001b[1;33m\u001b[0m\u001b[1;33m\u001b[0m\u001b[0m\n\u001b[0;32m     72\u001b[0m     \u001b[0mdiagram2\u001b[0m \u001b[1;33m=\u001b[0m \u001b[1;33m[\u001b[0m\u001b[0mp\u001b[0m\u001b[1;33m[\u001b[0m\u001b[1;33m-\u001b[0m\u001b[1;36m1\u001b[0m\u001b[1;33m]\u001b[0m \u001b[1;32mfor\u001b[0m \u001b[0mp\u001b[0m \u001b[1;32min\u001b[0m \u001b[0mpersistence2\u001b[0m\u001b[1;33m]\u001b[0m\u001b[1;33m\u001b[0m\u001b[1;33m\u001b[0m\u001b[0m\n",
      "\u001b[1;32mC:\\Users\\matt\\Desktop\\orbithunter\\orbithunter\\persistent_homology.py\u001b[0m in \u001b[0;36morbit_periodic_cubical_complex\u001b[1;34m(orbit_instance, **kwargs)\u001b[0m\n\u001b[0;32m     34\u001b[0m     cubical_complex = gh.PeriodicCubicalComplex(dimensions=orbit_instance.state.shape,\n\u001b[0;32m     35\u001b[0m                                                 \u001b[0mtop_dimensional_cells\u001b[0m\u001b[1;33m=\u001b[0m\u001b[0morbit_instance\u001b[0m\u001b[1;33m.\u001b[0m\u001b[0mstate\u001b[0m\u001b[1;33m.\u001b[0m\u001b[0mravel\u001b[0m\u001b[1;33m(\u001b[0m\u001b[1;33m)\u001b[0m\u001b[1;33m,\u001b[0m\u001b[1;33m\u001b[0m\u001b[1;33m\u001b[0m\u001b[0m\n\u001b[1;32m---> 36\u001b[1;33m                                                 periodic_dimensions=periodic_dimensions)\n\u001b[0m\u001b[0;32m     37\u001b[0m     \u001b[1;32mreturn\u001b[0m \u001b[0mcubical_complex\u001b[0m\u001b[1;33m\u001b[0m\u001b[1;33m\u001b[0m\u001b[0m\n\u001b[0;32m     38\u001b[0m \u001b[1;33m\u001b[0m\u001b[0m\n",
      "\u001b[1;31mKeyboardInterrupt\u001b[0m: "
     ]
    }
   ],
   "source": [
    "wd_list = []\n",
    "for orbit1, orbit2 in np.array(list(itertools.product(orbit_list, orbit_list))):\n",
    "    wd_list.append(gudhi_distance(orbit1, orbit2, metric='wasserstein_distance'))"
   ]
  },
  {
   "cell_type": "code",
   "execution_count": null,
   "metadata": {},
   "outputs": [],
   "source": [
    "plt.matshow(np.reshape(wd_list, (53, 53)), cmap='jet')\n",
    "plt.colorbar()\n",
    "plt.show()"
   ]
  },
  {
   "cell_type": "code",
   "execution_count": null,
   "metadata": {},
   "outputs": [],
   "source": [
    "wd_list_bd = []\n",
    "for orbit1, orbit2 in np.array(list(itertools.product(orbit_list, orbit_list))):\n",
    "    wd_list_bd.append(gudhi_distance(orbit1, orbit2, metric='bottleneck_distance'))"
   ]
  },
  {
   "cell_type": "code",
   "execution_count": null,
   "metadata": {},
   "outputs": [],
   "source": [
    "plt.matshow(np.reshape(wd_list_bd, (53, 53)), cmap='jet')\n",
    "plt.colorbar()\n",
    "plt.show()"
   ]
  },
  {
   "cell_type": "code",
   "execution_count": null,
   "metadata": {},
   "outputs": [],
   "source": [
    "wd_list_hbd = []\n",
    "for orbit1, orbit2 in np.array(list(itertools.product(orbit_list, orbit_list))):\n",
    "    wd_list_hbd.append(gudhi_distance(orbit1, orbit2, metric='hera_bottleneck_distance'))"
   ]
  },
  {
   "cell_type": "code",
   "execution_count": null,
   "metadata": {
    "scrolled": false
   },
   "outputs": [],
   "source": [
    "plt.matshow(np.reshape(wd_list_hbd, (53, 53)), cmap='jet')\n",
    "plt.colorbar()\n",
    "plt.show()"
   ]
  },
  {
   "cell_type": "code",
   "execution_count": null,
   "metadata": {},
   "outputs": [],
   "source": [
    "parameter_list = []\n",
    "for o in orbit_list:\n",
    "    parameter_list.extend(o.orbit_parameters)"
   ]
  },
  {
   "cell_type": "code",
   "execution_count": null,
   "metadata": {},
   "outputs": [],
   "source": [
    "X, Y, Z = np.reshape(parameter_list, (-1, 3)).transpose()"
   ]
  },
  {
   "cell_type": "code",
   "execution_count": null,
   "metadata": {},
   "outputs": [],
   "source": [
    "# X = X.reshape(-1,1)\n",
    "# Y = Y.reshape(-1,1)\n",
    "# Z = Z.reshape(-1,1)"
   ]
  },
  {
   "cell_type": "code",
   "execution_count": null,
   "metadata": {},
   "outputs": [],
   "source": [
    "fig = plt.figure()\n",
    "ax = Axes3D(fig)\n",
    "# ax.scatter3D(X.reshape(-1,1), Y.reshape(-1,1),  Z.reshape(-1,1))\n",
    "# ax.plot_surface(X.reshape(-1,1), Y.reshape(-1,1), Z.reshape(-1,1))\n",
    "ax.scatter(X, Y, Z)\n",
    "ax.scatter(X[40], Y[40], Z[40], s=50, c='red') \n",
    "\n",
    "plt.show()"
   ]
  }
 ],
 "metadata": {
  "kernelspec": {
   "display_name": "Python 3",
   "language": "python",
   "name": "python3"
  },
  "language_info": {
   "codemirror_mode": {
    "name": "ipython",
    "version": 3
   },
   "file_extension": ".py",
   "mimetype": "text/x-python",
   "name": "python",
   "nbconvert_exporter": "python",
   "pygments_lexer": "ipython3",
   "version": "3.7.6"
  }
 },
 "nbformat": 4,
 "nbformat_minor": 4
}
