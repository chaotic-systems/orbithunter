{
 "cells": [
  {
   "cell_type": "code",
   "execution_count": 11,
   "metadata": {},
   "outputs": [],
   "source": [
    "from __future__ import print_function, division, absolute_import\n",
    "import os\n",
    "import sys\n",
    "sys.path.insert(0, \"C:\\\\Users\\\\Matt\\\\Desktop\\\\orbithunter\\\\\")\n",
    "from orbithunter import *\n",
    "import numpy as np\n",
    "import itertools\n",
    "from math import pi\n",
    "import time\n",
    "import matplotlib.pyplot as plt"
   ]
  },
  {
   "cell_type": "code",
   "execution_count": 12,
   "metadata": {},
   "outputs": [],
   "source": [
    "from orbithunter.gluing import tile_dictionary_ks\n",
    "td = tile_dictionary_ks()"
   ]
  },
  {
   "cell_type": "markdown",
   "metadata": {},
   "source": [
    "This notebook details the tools relevant to continuation, namely ```dimension_continuation``` and ```discretization_continuation```."
   ]
  },
  {
   "cell_type": "code",
   "execution_count": 37,
   "metadata": {},
   "outputs": [],
   "source": [
    "s = read_h5('C:/Users/Matt/Desktop/gudorf/KS/python/data_and_figures/tiles/streak/final_tile/EquilibriumOrbitKS_L6p39.h5', directory='', basis='field')\n",
    "w = read_h5('C:/Users/Matt/Desktop/gudorf/KS/python/data_and_figures/tiles/gap/final_tile/AntisymmetricOrbitKS_T17p150_L17p591.h5', directory='', basis='field')\n",
    "m = read_h5('C:/Users/Matt/Desktop/gudorf/KS/python/data_and_figures/tiles/defects/defect1/final_tile/RelativeOrbitKS_T15p855_L13p026.h5', directory='', basis='field')"
   ]
  },
  {
   "cell_type": "code",
   "execution_count": 14,
   "metadata": {},
   "outputs": [],
   "source": [
    "m = read_h5('RelativeOrbitKS_T15p855_L13p026.h5', directory='../data/tiles/original/').reshape(64, 64)\n",
    "shift = m.S"
   ]
  },
  {
   "cell_type": "code",
   "execution_count": 38,
   "metadata": {},
   "outputs": [],
   "source": [
    "m = read_h5('RelativeOrbitKS_T15p855_L13p026.h5', directory='../data/tiles/original/')#.reshape(64, 64)\n",
    "\n",
    "m = read_h5('C:/Users/Matt/Desktop/gudorf/KS/python/data_and_figures/tiles/defects/defect1/final_tile/RelativeOrbitKS_T15p855_L13p026.h5',\n",
    "            directory='', basis='field')\n",
    "m = discretization_continuation(m, (32, 32), method='lstsq').orbit\n",
    "m = dimension_continuation(m, w.T, axis=0, step_size=0.1, method='lstsq').orbit"
   ]
  },
  {
   "cell_type": "code",
   "execution_count": 39,
   "metadata": {},
   "outputs": [],
   "source": [
    "new_max = m.convert(to='field').state.max()\n",
    "\n",
    "convert_class(s.reshape(256,256), OrbitKS).reshape(256,256).rescale(new_max).to_h5('OrbitKS_streak.h5', directory='../data/tiles/processed/')\n",
    "convert_class(m.reshape(256,256), OrbitKS).reshape(256,256).rescale(new_max).to_h5('OrbitKS_merger_comoving.h5', directory='../data/tiles/processed/')\n",
    "(convert_class(m.reshape(256,256).reshape(256,256).rescale(new_max).change_reference_frame(to='physical'), OrbitKS)\n",
    ").convert(to='field').to_h5('OrbitKS_merger.h5', directory='../data/tiles/processed/')\n",
    "convert_class(w.reshape(256,256), OrbitKS).reshape(256,256).rescale(new_max).to_h5('OrbitKS_wiggle.h5', directory='../data/tiles/processed/')"
   ]
  },
  {
   "cell_type": "code",
   "execution_count": 40,
   "metadata": {
    "scrolled": true
   },
   "outputs": [],
   "source": [
    "s = dimension_continuation(s, 12, axis=1, method='lstsq').orbit"
   ]
  },
  {
   "cell_type": "code",
   "execution_count": 41,
   "metadata": {},
   "outputs": [],
   "source": [
    "s = convert_class(s.rescale(new_max).reshape(256, 256).convert(to='field'), OrbitKS)\n",
    "mf = convert_class(m.reshape(256, 256).convert(to='field').change_reference_frame(to='physical'), OrbitKS)\n",
    "m = convert_class(m.reshape(256, 256).convert(to='field'), OrbitKS)\n",
    "w = convert_class(w.rescale(new_max).reshape(256, 256).convert(to='field'), OrbitKS)"
   ]
  },
  {
   "cell_type": "code",
   "execution_count": 42,
   "metadata": {},
   "outputs": [],
   "source": [
    "m.to_h5('OrbitKS_merger_comoving.h5', directory='../data/tiles/default/')\n",
    "mf.to_h5('OrbitKS_merger.h5', directory='../data/tiles/default/')\n",
    "s.to_h5('OrbitKS_streak.h5', directory='../data/tiles/default/')\n",
    "w.to_h5('OrbitKS_wiggle.h5', directory='../data/tiles/default/')"
   ]
  },
  {
   "cell_type": "code",
   "execution_count": 44,
   "metadata": {},
   "outputs": [
    {
     "data": {
      "image/png": "[encoded data removed]",
      "text/plain": [
       "<Figure size 65.1091x78.963 with 2 Axes>"
      ]
     },
     "metadata": {
      "needs_background": "light"
     },
     "output_type": "display_data"
    },
    {
     "data": {
      "image/png": "[encoded data removed]",
      "text/plain": [
       "<Figure size 65.1091x78.963 with 2 Axes>"
      ]
     },
     "metadata": {
      "needs_background": "light"
     },
     "output_type": "display_data"
    },
    {
     "data": {
      "image/png": "[encoded data removed]",
      "text/plain": [
       "<Figure size 61.4965x18 with 2 Axes>"
      ]
     },
     "metadata": {
      "needs_background": "light"
     },
     "output_type": "display_data"
    },
    {
     "data": {
      "image/png": "[encoded data removed]",
      "text/plain": [
       "<Figure size 80.3763x78.963 with 2 Axes>"
      ]
     },
     "metadata": {
      "needs_background": "light"
     },
     "output_type": "display_data"
    },
    {
     "data": {
      "text/plain": [
       "(OrbitKS({\"basis\": \"field\", \"parameters\": [\"17.1508\", \"13.0196\", \"0\"], \"field_shape\": [\"256\", \"256\"]}),\n",
       " OrbitKS({\"basis\": \"field\", \"parameters\": [\"17.1508\", \"13.0196\", \"0\"], \"field_shape\": [\"256\", \"256\"]}),\n",
       " OrbitKS({\"basis\": \"field\", \"parameters\": [\"0.0\", \"12.0\", \"0\"], \"field_shape\": [\"256\", \"256\"]}),\n",
       " OrbitKS({\"basis\": \"field\", \"parameters\": [\"17.1508\", \"17.5911\", \"0\"], \"field_shape\": [\"256\", \"256\"]}))"
      ]
     },
     "execution_count": 44,
     "metadata": {},
     "output_type": "execute_result"
    }
   ],
   "source": [
    "m.plot(), mf.plot(), s.plot(), w.plot()\n",
    "m, mf, s, w"
   ]
  },
  {
   "cell_type": "code",
   "execution_count": 45,
   "metadata": {},
   "outputs": [],
   "source": [
    "def pad_space(state, pad):\n",
    "    return np.concatenate((np.zeros([state.shape[0], pad]), state, np.zeros([state.shape[0], pad])),axis=1)"
   ]
  },
  {
   "cell_type": "code",
   "execution_count": null,
   "metadata": {},
   "outputs": [],
   "source": [
    "# unpadded_s = s.convert(to='field').state\n",
    "# unpadded_m = m.convert(to='field').state\n",
    "# unpadded_mf = m.convert(to='field').change_reference_frame(to='physical').state\n",
    "# unpadded_w = w.convert(to='field').state\n",
    "\n",
    "# sfinal = OrbitKS(state=s.state, basis='field', parameters=s.parameters)\n",
    "# mfinal = OrbitKS(state=m.state, basis='field', parameters=m.parameters)\n",
    "# mffinal = OrbitKS(state=mf.state, basis='field', parameters=m.parameters)\n",
    "# wfinal = OrbitKS(state=w.state, basis='field', parameters=w.parameters)\n",
    "\n",
    "# sfinal.to_h5('OrbitKS_streak.h5', directory='../data/tiles/continuation/')\n",
    "# mffinal.to_h5('OrbitKS_merger.h5', directory='../data/tiles/continuation/')\n",
    "# mfinal.to_h5('OrbitKS_merger_comoving.h5', directory='../data/tiles/continuation/')\n",
    "# wfinal.to_h5('OrbitKS_wiggle.h5', directory='../data/tiles/continuation/')"
   ]
  },
  {
   "cell_type": "code",
   "execution_count": 48,
   "metadata": {},
   "outputs": [],
   "source": [
    "s_space_padded = OrbitKS(state=pad_space(s.reshape(256, 176).state, 40), basis='field', parameters=s.parameters)\n",
    "m_space_padded = OrbitKS(state=pad_space(m.reshape(256, 192).state, 64), basis='field', parameters=m.parameters)\n",
    "mf_space_padded = OrbitKS(state=pad_space(mf.reshape(256, 192).state, 64), basis='field', parameters=m.parameters)\n",
    "w_space_padded = OrbitKS(state=w.reshape(256, 256).state, basis='field', parameters=w.parameters)"
   ]
  },
  {
   "cell_type": "code",
   "execution_count": 49,
   "metadata": {},
   "outputs": [],
   "source": [
    "s_space_padded.to_h5('OrbitKS_streak.h5', directory='../data/tiles/padded_space/')\n",
    "mf_space_padded.to_h5('OrbitKS_merger.h5', directory='../data/tiles/padded_space/')\n",
    "m_space_padded.to_h5('OrbitKS_merger_comoving.h5', directory='../data/tiles/padded_space/')\n",
    "w_space_padded.to_h5('OrbitKS_wiggle.h5', directory='../data/tiles/padded_space/')"
   ]
  },
  {
   "cell_type": "code",
   "execution_count": 50,
   "metadata": {},
   "outputs": [
    {
     "data": {
      "image/png": "[encoded data removed]",
      "text/plain": [
       "<Figure size 65.1091x78.963 with 2 Axes>"
      ]
     },
     "metadata": {
      "needs_background": "light"
     },
     "output_type": "display_data"
    },
    {
     "data": {
      "image/png": "[encoded data removed]",
      "text/plain": [
       "<Figure size 65.1091x78.963 with 2 Axes>"
      ]
     },
     "metadata": {
      "needs_background": "light"
     },
     "output_type": "display_data"
    },
    {
     "data": {
      "image/png": "[encoded data removed]",
      "text/plain": [
       "<Figure size 80.3763x78.963 with 2 Axes>"
      ]
     },
     "metadata": {
      "needs_background": "light"
     },
     "output_type": "display_data"
    }
   ],
   "source": [
    "m_space_padded.plot()\n",
    "\n",
    "mf_space_padded.plot()\n",
    "\n",
    "w_space_padded.plot()"
   ]
  },
  {
   "cell_type": "code",
   "execution_count": 52,
   "metadata": {},
   "outputs": [],
   "source": [
    "unpadded_time_all_padded_space_s = s.reshape(256, 152).convert(to='field').state\n",
    "unpadded_time_all_padded_space_m = m.reshape(256, 168).convert(to='field').state\n",
    "unpadded_time_all_padded_space_mfd = mf.reshape(256, 168).convert(to='field').state\n",
    "unpadded_time_all_padded_space_w = w.reshape(256, 224).convert(to='field').state"
   ]
  },
  {
   "cell_type": "code",
   "execution_count": 53,
   "metadata": {},
   "outputs": [],
   "source": [
    "space_s= OrbitKS(state=pad_space(unpadded_time_all_padded_space_s, 256-152), parameters=s.parameters, basis='field')\n",
    "space_m= OrbitKS(state=pad_space(unpadded_time_all_padded_space_m, 256-168), parameters=m.parameters, basis='field')\n",
    "space_mf= OrbitKS(state=pad_space(unpadded_time_all_padded_space_mfd, 256-168),\n",
    "                  parameters=m.parameters, basis='field')\n",
    "space_w = OrbitKS(state=pad_space(unpadded_time_all_padded_space_w, 256-224), parameters=w.parameters, basis='field')"
   ]
  },
  {
   "cell_type": "code",
   "execution_count": 54,
   "metadata": {},
   "outputs": [],
   "source": [
    "space_s.to_h5('OrbitKS_streak.h5', directory='../data/tiles/all_padded_space/')\n",
    "space_mf.to_h5('OrbitKS_merger.h5', directory='../data/tiles/all_padded_space/')\n",
    "space_m.to_h5('OrbitKS_merger_comoving.h5', directory='../data/tiles/all_padded_space/')\n",
    "space_w.to_h5('OrbitKS_wiggle.h5', directory='../data/tiles/all_padded_space/')"
   ]
  },
  {
   "cell_type": "code",
   "execution_count": 55,
   "metadata": {},
   "outputs": [
    {
     "data": {
      "image/png": "[encoded data removed]",
      "text/plain": [
       "<Figure size 80.3763x78.963 with 2 Axes>"
      ]
     },
     "metadata": {
      "needs_background": "light"
     },
     "output_type": "display_data"
    }
   ],
   "source": [
    "space_w.plot()"
   ]
  },
  {
   "cell_type": "code",
   "execution_count": 56,
   "metadata": {},
   "outputs": [
    {
     "data": {
      "image/png": "[encoded data removed]",
      "text/plain": [
       "<Figure size 65.1091x78.963 with 2 Axes>"
      ]
     },
     "metadata": {
      "needs_background": "light"
     },
     "output_type": "display_data"
    }
   ],
   "source": [
    "space_mf.plot()"
   ]
  },
  {
   "cell_type": "code",
   "execution_count": 57,
   "metadata": {},
   "outputs": [],
   "source": [
    "def pad_time(state, pad):\n",
    "    return np.concatenate((np.zeros([pad, state.shape[1]]), state, np.zeros([pad, state.shape[1]])),axis=0)"
   ]
  },
  {
   "cell_type": "code",
   "execution_count": 61,
   "metadata": {},
   "outputs": [],
   "source": [
    "padded_s = pad_space(pad_time(s.reshape(224, 152).convert(to='field').state, 16), (256-152)//2)\n",
    "padded_m = pad_space(pad_time(m.reshape(224, 168).convert(to='field').state, 16), (256-168)//2)\n",
    "padded_mfd = pad_space(pad_time(mf.reshape(224, 168).convert(to='field').state, 16), (256-168)//2)\n",
    "padded_w = pad_space(pad_time(w.reshape(224, 224).convert(to='field').state, 16), (256-224)//2)"
   ]
  },
  {
   "cell_type": "code",
   "execution_count": 62,
   "metadata": {},
   "outputs": [],
   "source": [
    "padded_s_orbit= OrbitKS(state=padded_s, basis='field', parameters=s.parameters)\n",
    "padded_m_orbit= OrbitKS(state=padded_m, basis='field', parameters=m.parameters)\n",
    "padded_w_orbit = OrbitKS(state=padded_w, basis='field', parameters=w.parameters)\n",
    "padded_mfd_orbit = OrbitKS(state=padded_mfd, basis='field', parameters=m.parameters)"
   ]
  },
  {
   "cell_type": "code",
   "execution_count": 63,
   "metadata": {},
   "outputs": [
    {
     "data": {
      "text/plain": [
       "(OrbitKS({\"basis\": \"field\", \"parameters\": [\"0.0\", \"12.0\", \"0\"], \"field_shape\": [\"256\", \"256\"]}),\n",
       " OrbitKS({\"basis\": \"field\", \"parameters\": [\"17.1508\", \"13.0196\", \"0\"], \"field_shape\": [\"256\", \"256\"]}),\n",
       " OrbitKS({\"basis\": \"field\", \"parameters\": [\"17.1508\", \"17.5911\", \"0\"], \"field_shape\": [\"256\", \"256\"]}),\n",
       " OrbitKS({\"basis\": \"field\", \"parameters\": [\"17.1508\", \"13.0196\", \"0\"], \"field_shape\": [\"256\", \"256\"]}))"
      ]
     },
     "execution_count": 63,
     "metadata": {},
     "output_type": "execute_result"
    }
   ],
   "source": [
    "padded_s_orbit,padded_m_orbit,padded_w_orbit,padded_mfd_orbit"
   ]
  },
  {
   "cell_type": "code",
   "execution_count": 64,
   "metadata": {},
   "outputs": [
    {
     "data": {
      "image/png": "[encoded data removed]",
      "text/plain": [
       "<Figure size 61.4965x18 with 2 Axes>"
      ]
     },
     "metadata": {
      "needs_background": "light"
     },
     "output_type": "display_data"
    },
    {
     "data": {
      "image/png": "[encoded data removed]",
      "text/plain": [
       "<Figure size 65.1091x78.963 with 2 Axes>"
      ]
     },
     "metadata": {
      "needs_background": "light"
     },
     "output_type": "display_data"
    },
    {
     "data": {
      "image/png": "[encoded data removed]",
      "text/plain": [
       "<Figure size 80.3763x78.963 with 2 Axes>"
      ]
     },
     "metadata": {
      "needs_background": "light"
     },
     "output_type": "display_data"
    },
    {
     "data": {
      "image/png": "[encoded data removed]",
      "text/plain": [
       "<Figure size 65.1091x78.963 with 2 Axes>"
      ]
     },
     "metadata": {
      "needs_background": "light"
     },
     "output_type": "display_data"
    }
   ],
   "source": [
    "for o in [padded_s_orbit,padded_m_orbit,padded_w_orbit,padded_mfd_orbit]:\n",
    "    o.plot()"
   ]
  },
  {
   "cell_type": "code",
   "execution_count": 65,
   "metadata": {},
   "outputs": [],
   "source": [
    "padded_s_orbit.to_h5('OrbitKS_streak.h5', directory='../data/tiles/padded/')\n",
    "padded_mfd_orbit.to_h5('OrbitKS_merger.h5', directory='../data/tiles/padded/')\n",
    "padded_m_orbit.to_h5('OrbitKS_merger_comoving.h5', directory='../data/tiles/padded/')\n",
    "padded_w_orbit.to_h5('OrbitKS_wiggle.h5', directory='../data/tiles/padded/')"
   ]
  }
 ],
 "metadata": {
  "kernelspec": {
   "display_name": "Python 3",
   "language": "python",
   "name": "python3"
  },
  "language_info": {
   "codemirror_mode": {
    "name": "ipython",
    "version": 3
   },
   "file_extension": ".py",
   "mimetype": "text/x-python",
   "name": "python",
   "nbconvert_exporter": "python",
   "pygments_lexer": "ipython3",
   "version": "3.7.6"
  }
 },
 "nbformat": 4,
 "nbformat_minor": 4
}
