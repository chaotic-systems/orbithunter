{
 "cells": [
  {
   "cell_type": "code",
   "execution_count": 1,
   "metadata": {},
   "outputs": [],
   "source": [
    "import sys\n",
    "import numpy as np\n",
    "import os\n",
    "import matplotlib.pyplot as plt\n",
    "from math import pi\n",
    "from matplotlib import gridspec\n",
    "import itertools\n",
    "import time\n",
    "import orbithunter as orb\n",
    "import pandas as pd"
   ]
  },
  {
   "cell_type": "markdown",
   "metadata": {},
   "source": [
    "# Hunting for Orbits \n",
    "\n",
    "Each spatiotemporal solution  to the KSE is a scalar spatiotemporal velocity field $u(t,x)$ which satisfies the equation\n",
    "\\begin{equation}\n",
    "F(u) = u_t + u_{xx}+ u_{xxxx} + \\frac{1}{2}\\partial_x u^2 = 0\n",
    "\\end{equation}\n",
    "\n",
    "In order to find these solutions, we need initial guesses. These guess orbits can be produced in unsupervised and\n",
    "supervised manners. The unsupervised method is to initialize a random spectrum of Fourier coefficients, and then modulate it\n",
    "to represent the typical physical scales of the problem. When there are no obvious physical scales, this can be a dark art.\n",
    "However, we are benefited by the variational formulation. Namely, we can exploit this by actually making *worse* initial conditions. By doing so, we are raising the cost. To demonstrate why this can be beneficial it is important to remember\n",
    "how we are finding the solutions; namely, we are using descent/inexact Newton/quasi-Newton methods, typically with simple backtracking. Hunting can fail under a number of circumstances: the number of iterations exceeds the maximum allowed (varies\n",
    "highly between methods), the step size becomes too small, or the residual is not decreasing enough (vanishing gradient). \n",
    "\n",
    "The analogy I like to use is thus: if you are trying to descend a mountain under the constraint that you can only ever move downwards, then it can be better to start higher up the mountain lest you get stuck at a cliff face. \"higher\" up the mountain is analogous to higher cost. The issue with starting higher up the mountain, is that certain components of the gradient can be incredibly large; especially the gradients of the dimensions of the configuration spoace.\n",
    "Therefore I highly recommend including a rescaling operation (preconditioning when talking about solving linear systems)\n",
    "that rescales these components. \n",
    "\n",
    "The \"good\" methods are highly dependent on problem; with square systems I would recommend solving the system directly when small enough, and with the sparse linear algebra methods when not. For the underdetermined systems I have found preconditioned \"adjoint descent\" which in the discrete case is just gradient descent."
   ]
  },
  {
   "cell_type": "markdown",
   "metadata": {},
   "source": [
    "Hunting\n",
    "=======\n",
    "\n",
    "I would like to present some tips in regards to the numerical optimization and wrapped SciPy routines.\n",
    "\n",
    "1. The \"custom\" routines which do not perform a line search, 'adj', 'gd', 'lstsq', 'solve', 'newton_descent'\n",
    "   can take steps which are too large; providing a value to the `step_size` keyword can be quite helpful. \n",
    "2. Rescaling can be very important if the magnitudes of the different gradient components are disparate from one another.\n",
    "3. An alternative to rescaling gradient components corresponding to dimension parameters is to add an additional stage \n",
    "   of optimization and constrain the dimensions within that stage, acting as a preprocessing step. Typically, as the\n",
    "   overall cost is decreased, these gradients become more \"well behaved\", in the sense that large distortions in domain sizes\n",
    "   do not occur. \n",
    "4. The different options available to each method can drastically change the convergence, computation time, etc. for\n",
    "   each method, and should always be considered/tested."
   ]
  },
  {
   "cell_type": "markdown",
   "metadata": {},
   "source": [
    "## Spectral modulation methods for the Kuramoto-Sivashinsky equation.\n",
    "\n",
    "The listed pairs are the possible modulation strategies included in orbithunter for the KSE. What is not listed are\n",
    "the hyperparameters, namely the \"mean\" and \"variance\" of the mollifiers. I use these terms because I feel like they are the\n",
    "most understandable to a wider audience even though there is no statistics nor probability distributions to speak of."
   ]
  },
  {
   "cell_type": "code",
   "execution_count": 2,
   "metadata": {},
   "outputs": [
    {
     "name": "stdout",
     "output_type": "stream",
     "text": [
      "There are 42 built in modulation combinations for the KSE; this does not take hyperparameters into account.\n"
     ]
    },
    {
     "data": {
      "text/plain": [
       "[('gaussian', 'gaussian'),\n",
       " ('gaussian', 'laplace'),\n",
       " ('gaussian', 'truncate'),\n",
       " ('gaussian', 'flat_top'),\n",
       " ('gaussian', 'laplace_plateau'),\n",
       " ('gaussian', 'random'),\n",
       " ('laplace', 'gaussian'),\n",
       " ('laplace', 'laplace'),\n",
       " ('laplace', 'truncate'),\n",
       " ('laplace', 'flat_top'),\n",
       " ('laplace', 'laplace_plateau'),\n",
       " ('laplace', 'random'),\n",
       " ('laplace_sqrt', 'gaussian'),\n",
       " ('laplace_sqrt', 'laplace'),\n",
       " ('laplace_sqrt', 'truncate'),\n",
       " ('laplace_sqrt', 'flat_top'),\n",
       " ('laplace_sqrt', 'laplace_plateau'),\n",
       " ('laplace_sqrt', 'random'),\n",
       " ('plateau_lienar', 'gaussian'),\n",
       " ('plateau_lienar', 'laplace'),\n",
       " ('plateau_lienar', 'truncate'),\n",
       " ('plateau_lienar', 'flat_top'),\n",
       " ('plateau_lienar', 'laplace_plateau'),\n",
       " ('plateau_lienar', 'random'),\n",
       " ('exponential_linear', 'gaussian'),\n",
       " ('exponential_linear', 'laplace'),\n",
       " ('exponential_linear', 'truncate'),\n",
       " ('exponential_linear', 'flat_top'),\n",
       " ('exponential_linear', 'laplace_plateau'),\n",
       " ('exponential_linear', 'random'),\n",
       " ('flat_top', 'gaussian'),\n",
       " ('flat_top', 'laplace'),\n",
       " ('flat_top', 'truncate'),\n",
       " ('flat_top', 'flat_top'),\n",
       " ('flat_top', 'laplace_plateau'),\n",
       " ('flat_top', 'random'),\n",
       " ('random', 'gaussian'),\n",
       " ('random', 'laplace'),\n",
       " ('random', 'truncate'),\n",
       " ('random', 'flat_top'),\n",
       " ('random', 'laplace_plateau'),\n",
       " ('random', 'random')]"
      ]
     },
     "execution_count": 2,
     "metadata": {},
     "output_type": "execute_result"
    }
   ],
   "source": [
    "space_tactics = [\"gaussian\", \"laplace\", \"laplace_sqrt\", \"plateau_lienar\", \"exponential_linear\", \"flat_top\", \"random\"]\n",
    "time_tactics = [\"gaussian\", \"laplace\", \"truncate\", \"flat_top\", \"laplace_plateau\",\"random\"]\n",
    "print(f\"There are {len(list(itertools.product(space_tactics, time_tactics)))} built in modulation combinations\"\n",
    "      f\" for the KSE; this does not take hyperparameters into account.\")\n",
    "list(itertools.product(space_tactics, time_tactics))"
   ]
  },
  {
   "cell_type": "markdown",
   "metadata": {},
   "source": [
    "Just to get an idea into the \"look\" of each modulation and the subsequent (crude) optimization result"
   ]
  },
  {
   "cell_type": "code",
   "execution_count": 3,
   "metadata": {},
   "outputs": [],
   "source": [
    "st, tt = list(itertools.product(space_tactics, time_tactics))[0]\n",
    "orbit = orb.OrbitKS(parameters=(100, 44, 0.)).populate(attr='state', seed=5, spatial_modulation='laplace_sqrt',\n",
    "                                                   xscale=44/(2*pi*np.sqrt(2)), xvar=2, \n",
    "                                                   tvar=1, tscale=1, temporal_modulation='gaussian')"
   ]
  },
  {
   "cell_type": "markdown",
   "metadata": {},
   "source": [
    "Plot the spatiotemporal mode spectrum; y-axis is the temporal mode index, x-axis is space. "
   ]
  },
  {
   "cell_type": "code",
   "execution_count": 4,
   "metadata": {},
   "outputs": [
    {
     "data": {
      "image/png": "[encoded data removed]",
      "text/plain": [
       "<Figure size 432x288 with 2 Axes>"
      ]
     },
     "metadata": {
      "needs_background": "light"
     },
     "output_type": "display_data"
    }
   ],
   "source": [
    "orbit.mode_plot()"
   ]
  },
  {
   "cell_type": "markdown",
   "metadata": {},
   "source": [
    "Plot the physical field corresponding to this spectrum, $u(t,x)$"
   ]
  },
  {
   "cell_type": "code",
   "execution_count": 5,
   "metadata": {},
   "outputs": [
    {
     "data": {
      "image/png": "[encoded data removed]",
      "text/plain": [
       "<Figure size 152.701x271.284 with 2 Axes>"
      ]
     },
     "metadata": {
      "needs_background": "light"
     },
     "output_type": "display_data"
    }
   ],
   "source": [
    "orbit.plot(padding=True)"
   ]
  },
  {
   "cell_type": "code",
   "execution_count": null,
   "metadata": {},
   "outputs": [],
   "source": [
    "plt.figure(figsize=(20, 20))\n",
    "gs = gridspec.GridSpec(84//8, 8)\n",
    "for i, (st, tt) in enumerate(itertools.product(space_tactics, time_tactics)):\n",
    "    example_orbit = orb.OrbitKS(parameters=(44, 44, 0.)).populate(attr='state', seed=5, spatial_modulation=st, xscale=44/pi,\n",
    "                                                                   temporal_modulation=tt, xshift='sqrt').rescale(5)\n",
    "    \n",
    "    result = orb.hunt(example_orbit, preconditioning=[True, False], methods=('adj', 'lsmr'),\n",
    "                      maxiter=[10000, 10], scipy_kwargs={\"atol\":1e-4,\"btol\":1e-4})\n",
    "    gsi = gridspec.GridSpecFromSubplotSpec(1, 2, subplot_spec=gs[i])\n",
    "    ax = plt.subplot(gsi[0])\n",
    "    ax2 = plt.subplot(gsi[1])\n",
    "    ax.imshow(example_orbit.transform(to='field').state, cmap='jet')\n",
    "    ax2.imshow(result.orbit.transform(to='field').state, cmap='jet')\n",
    "    ax.axis('off')\n",
    "    ax.set_title((st, tt), fontsize=8)\n",
    "    ax2.axis('off')\n",
    "\n",
    "plt.show()"
   ]
  },
  {
   "cell_type": "markdown",
   "metadata": {},
   "source": [
    "Compare these results with a random solution to see which ones produced good results (note that the actual number of iterations is far fewer than I would recommend using)"
   ]
  },
  {
   "cell_type": "code",
   "execution_count": null,
   "metadata": {},
   "outputs": [],
   "source": [
    "np.random.seed(22)\n",
    "np.random.choice(orb.read_h5('./data/OrbitKS.h5')).plot(padding=True)"
   ]
  },
  {
   "cell_type": "markdown",
   "metadata": {},
   "source": [
    "      \n",
    "# How flexible and how much control does orbithunter give me?\n",
    "\n",
    "Why should you use orbithunter instead of just using SciPy or NumPy or ... directly? One of the main design goal was flexibility and usability. How do you solve $F(x)=0$ and $1/2 |F(x)|^2 = 0$? The root solving problem can be solved by solving\n",
    "the linear Newton system $\\nabla F \\delta x = - F$ iteratively, that is, $x_{n} = x_{n-1} - (\\nabla F)^{-1} F$ iteratively (with backtracking a step size $\\tau$ is also included on the second term. Alternatively, we can find minimizers of $1/2 |F|^2$ by finding directions of descent; those which decrease its value. Ok, well how do we do all of that? We can either write a custom algorithm or leverage smart people's results and use, for example, SciPy. \n",
    "\n",
    "Ok well then this begs the question: what do we need to use SciPy's algorithms? Well it depends. A lot. Sometimes you have to construct a matrix. Sometimes you need to provide a callable function. Sometimes you need to provide a callable function, its jacobian, and Hessian. Sometimes these methods return a `vector`, sometimes they return a `tuple` of runtime information, sometime they return an `OptimizeResult`. What if your cost function has extra arguments which depend on the current state but is too hard to update within the SciPy routines? What if you would want to exit and re-enter these algorithms? Modify the default arguments? \n",
    "\n",
    "The point I am trying to make is that I have tried to do the hard work for you by wrapping all of these routines with the orbithunter api. Now, all you need to do is pass `Orbit` (or subclass) instances, the methods you want to use, and the extra keyword arguments therein. "
   ]
  },
  {
   "cell_type": "code",
   "execution_count": null,
   "metadata": {},
   "outputs": [],
   "source": [
    "# Apply the hybrid method that was used as the primary method, historically. \n",
    "t0 = time.time_ns()/10**9\n",
    "example_orbit = orb.OrbitKS(parameters=(44, 44, 0.)).populate(attr='state', seed=5,\n",
    "                                                              spatial_modulation='plateau_linear',\n",
    "                                                              xscale=44/pi,\n",
    "                                                               temporal_modulation='laplace_plateau',\n",
    "                                                              xshift='sqrt').rescale(5)\n",
    "result0 = orb.hunt(example_orbit,\n",
    "                  preconditioning=True,\n",
    "                  methods='adj',\n",
    "                  verbose=False,\n",
    "                  maxiter=100000,\n",
    "                  pexp=(1,4)\n",
    "                  )\n",
    "t1 = time.time_ns()/10**9\n",
    "result0.orbit.plot(padding=True)\n",
    "result0.orbit.mode_plot()\n",
    "print(f\"The numerical optimization took {t1-t0} seconds to complete {result0.maxiter} iterations for each method\")"
   ]
  },
  {
   "cell_type": "code",
   "execution_count": null,
   "metadata": {},
   "outputs": [],
   "source": [
    "example_orbit.plot(padding=True)\n",
    "print(result.orbit.cost())\n",
    "result.orbit.plot(padding=True)\n",
    "result.orbit.mode_plot()"
   ]
  },
  {
   "cell_type": "code",
   "execution_count": null,
   "metadata": {},
   "outputs": [],
   "source": [
    "# Apply the hybrid method that was used as the primary method, historically. \n",
    "t0 = time.time_ns()/10**9\n",
    "example_orbit = orb.OrbitKS(parameters=(44, 44, 0.)).populate(attr='state', seed=5, spatial_modulation='plateau_linear', xscale=44/pi,\n",
    "                                                               temporal_modulation='laplace_plateau', xshift='sqrt').rescale(5)\n",
    "result = orb.hunt(example_orbit, preconditioning=[False, False], methods=('adj', 'lsmr'), verbose=False,\n",
    "                  maxiter=[10000, 1000], scipy_kwargs={\"atol\":1e-4,\"btol\":1e-4})\n",
    "t1 = time.time_ns()/10**9\n",
    "\n",
    "print(f\"dimensions {result.orbit.dimensions()}\")\n",
    "print(f\"The numerical optimization took {t1-t0} seconds to complete {result.maxiter} iterations for each method\")\n",
    "print(f\"The residual of the optimization result is {result.orbit.cost()}\")\n",
    "result.orbit.plot(padding=True)\n",
    "result.orbit.mode_plot()"
   ]
  },
  {
   "cell_type": "code",
   "execution_count": null,
   "metadata": {
    "scrolled": true
   },
   "outputs": [],
   "source": [
    "print(f\"The numerical optimization took {t1-t0} seconds to complete {result.maxiter} iterations for each method\")"
   ]
  },
  {
   "cell_type": "markdown",
   "metadata": {},
   "source": [
    "# Why is this useful?\n",
    "\n",
    "For those unfamiliar with the field of nonlinear dynamics and chaos, all we have shown so far is randomly initialized numbers\n",
    "and the results of some crude optimization. \n",
    "\n",
    "The point is that most studies of the KSE have been on relatively small computational domains (L=22 and L=38.5 in the antisymmetric subspace for two examples). Additionally, exponential instability in the dynamical systems formulation means that\n",
    "***no one*** (to my knowledge) has been able to find unstable periodic orbits from random noise. Additionally to the extent of my knowledge, no one has even considered allowing the spatial domain size to vary. \n",
    "\n",
    "Orbithunter does all three of these by default, as I will show in the next example. First, construct an initial guess on a\n",
    "very large spatiotemporal domain: $(T,L)=(500,\\;55(2\\pi\\sqrt{2})$; remember, $L=22$ is a common size. "
   ]
  },
  {
   "cell_type": "code",
   "execution_count": null,
   "metadata": {},
   "outputs": [],
   "source": [
    "small_final, final, initial = orb.read_h5('./data/large_hunting_example.h5')"
   ]
  },
  {
   "cell_type": "code",
   "execution_count": null,
   "metadata": {},
   "outputs": [],
   "source": [
    "initial.plot(padding=True, filename=\"large_orbit_initial.pdf\")\n",
    "print(f\"The initial guess' dimensions are {initial.dimensions()} and has cost residual {initial.cost()}\")"
   ]
  },
  {
   "cell_type": "markdown",
   "metadata": {},
   "source": [
    "To give an idea of scale, the following unmasked region represents a \"typical\" size of orbit, $(T, L)=(100,\\: 22\\:/\\:(2\\pi\\sqrt 2))$"
   ]
  },
  {
   "cell_type": "code",
   "execution_count": null,
   "metadata": {},
   "outputs": [],
   "source": [
    "orb.clipping_mask(initial, (((0, 100), (0, 22/(2*pi*np.sqrt(2)))),)).plot(padding=False)"
   ]
  },
  {
   "cell_type": "code",
   "execution_count": null,
   "metadata": {},
   "outputs": [],
   "source": [
    "small_final.plot(padding=True, filename=\"large_orbit_final.pdf\")\n",
    "print(f\"The 'final' orbit's dimensions are {small_final.dimensions()} and has cost residual {small_final.cost()}\")\n",
    "print(f\"This resulted from approximately 30 minutes of optimization (cg_min)\")"
   ]
  },
  {
   "cell_type": "markdown",
   "metadata": {},
   "source": [
    "Once again, a domain of \"typical\" size is shown for comparison."
   ]
  },
  {
   "cell_type": "code",
   "execution_count": null,
   "metadata": {},
   "outputs": [],
   "source": [
    "orb.clipping_mask(small_final, (((0, 100), (0, 22/(2*pi*np.sqrt(2)))),)).plot(padding=False)"
   ]
  },
  {
   "cell_type": "markdown",
   "metadata": {},
   "source": [
    "Now, just for fun, I let the following run with the knowledge that it was going to take a very long time; let's see how close\n",
    "I can get to a periodic orbit at this size. Depending on the tolerance this could be the largest periodic orbit ever found for the KSe.\n",
    "It has 250k computational degrees of freedom, all of which are highly coupled in a nonlinear manner. "
   ]
  },
  {
   "cell_type": "markdown",
   "metadata": {},
   "source": [
    "# How do I choose a numerical method?\n",
    "\n",
    "In the world of data scientists, \"there is no free lunch\" is a common idiom. Which methods work best for a problem is\n",
    "highly dependent on the problem; the only general recommendations are:\n",
    "\n",
    "    1. Never use a method which constructs matrices on large problems, you'll run out of memory.\n",
    "    2. Do NOT use the following for the KSE: diagbroyden, cobyla, slsqp, nelder-mead, powell, excitingmixing, linearmixing,\n",
    "       broyden1, broyden2, anderson, df-sane. They either perform incredibly poorly or take an incredible amount of time.\n",
    "    3. For \"bad\" initial conditions: use preconditioning. especially on the derivatives w.r.t. dimensional parameters.\n",
    "       Preconditioning is not built in; it is on you. I highly recommend including a flag for preconditioning in your\n",
    "       `rmatvec` method, as then it can be enabled for adjoint descent / gradient descent / other methods. \n",
    "\n",
    "\n",
    "I would like to present some tips in regards to the numerical optimization and wrapped SciPy routines.\n",
    "\n",
    "    1. The \"custom\" routines which do not perform a line search, 'adj', 'gd', 'lstsq', 'solve', 'newton_descent'\n",
    "       can take steps which are too large; providing a value to the `step_size` keyword can be quite helpful. \n",
    "    2. Rescaling can be very important if the magnitudes of the different gradient components are disparate from one another.\n",
    "    3. An alternative to rescaling gradient components corresponding to dimension parameters is to add an additional stage \n",
    "       of optimization and constrain the dimensions within that stage, acting as a preprocessing step. Typically, as the\n",
    "       overall cost is decreased, these gradients become more \"well behaved\", in the sense that large distortions in domain sizes\n",
    "       do not occur. \n",
    "    4. The different options available to each method can drastically change the convergence, computation time, etc. for\n",
    "       each method, and should always be considered/tested.\n",
    "\n",
    "\n",
    "\n",
    "It is hard to quantify the performances of each method; the most important consideration to keep in mind is how they scale with memory. This is compounded with the fact that SciPy's default arguments "
   ]
  },
  {
   "cell_type": "code",
   "execution_count": null,
   "metadata": {},
   "outputs": [],
   "source": [
    "import pandas as pd"
   ]
  },
  {
   "cell_type": "code",
   "execution_count": null,
   "metadata": {},
   "outputs": [],
   "source": [
    "np.random.seed(0)\n",
    "initial = orb.read_h5('./data/OrbitKS.h5')[77].resize(40, 40).transform(to='field')\n",
    "print(\"The original orbit\")\n",
    "initial.plot(padding=True)\n",
    "initial += 0.2 * np.random.randn(*initial.shape)\n",
    "initial.transform(to='modes', inplace=True)\n",
    "print(\"The original orbit plus some noise\")\n",
    "initial.plot(padding=True)"
   ]
  },
  {
   "cell_type": "code",
   "execution_count": null,
   "metadata": {},
   "outputs": [],
   "source": [
    "df = pd.read_csv('./data/numerical_time_trials.csv', index_col=0)\n",
    "df.columns = ['time', 't', 'x']+df.columns.tolist()[3:]\n",
    "df.columns = [col.strip() for col in df.columns]\n",
    "df.loc[:,'t'] = df.loc[:,'t'].apply(lambda x : x.split('(')[1]).values\n",
    "df.loc[:,'x'] = df.loc[:,'x'].apply(lambda x : x.split(')')[0]).values"
   ]
  },
  {
   "cell_type": "code",
   "execution_count": null,
   "metadata": {},
   "outputs": [],
   "source": [
    "# Note that TNC has the largest reduction per seconds, but the dimensions were too distorted. \n",
    "df.sort_values(by='cost reduction per second', ascending=False)"
   ]
  },
  {
   "cell_type": "markdown",
   "metadata": {},
   "source": [
    "# Happy hunting!"
   ]
  }
 ],
 "metadata": {
  "kernelspec": {
   "display_name": "Python 3",
   "language": "python",
   "name": "python3"
  },
  "language_info": {
   "codemirror_mode": {
    "name": "ipython",
    "version": 3
   },
   "file_extension": ".py",
   "mimetype": "text/x-python",
   "name": "python",
   "nbconvert_exporter": "python",
   "pygments_lexer": "ipython3",
   "version": "3.8.8"
  }
 },
 "nbformat": 4,
 "nbformat_minor": 4
}
