{
 "cells": [
  {
   "cell_type": "code",
   "execution_count": null,
   "metadata": {},
   "outputs": [],
   "source": [
    "\n",
    "    s = read_h5('EquilibriumOrbitKS_L6p39.h5', directory='../data/tiles/originals/', state_type='field')\n",
    "    w = read_h5('AntisymmetricOrbitKS_L17p590_T17p146.h5', directory='../data/tiles/originals/', state_type='field')\n",
    "    m = read_h5('RelativeOrbitKS_L13p026_T15p855.h5', directory='../data/tiles/originals/', state_type='field')\n",
    "    s = rediscretize(s, new_shape=(64, 64))\n",
    "    w = rediscretize(w, new_shape=(64, 64))\n",
    "    m = rediscretize(m, new_shape=(64, 64))\n",
    "    s = change_orbit_type(s, OrbitKS).rescale(magnitude=3.)\n",
    "    w = change_orbit_type(w, OrbitKS).rescale(magnitude=3.)\n",
    "    m = change_orbit_type(m, OrbitKS).rescale(magnitude=3.)\n",
    "    orbit_array = np.array([[m, w, s]])\n",
    "    glued_orbit = glue(orbit_array).rescale(magnitude=3)\n",
    "    glued_orbit = rediscretize(glued_orbit, new_shape=(32, 32))\n",
    "    glued_orbit.to_h5(directory='../data/gluing/test/')\n",
    "    glued_orbit.plot(save=True, show=False, directory='../figs/gluing/test/')\n",
    "    gluing_result = converge(glued_orbit, verbose=True)\n",
    "    gluing_result.orbit.to_h5(directory='../data/gluing/test/')\n",
    "    gluing_result.orbit.plot(save=True, show=False,  directory='../figs/gluing/test/')\n",
    "\n",
    "    s = rediscretize(read_h5('EquilibriumOrbitKS_L6p43.h5', directory='../data/tiles/', state_type='field'),\n",
    "                     new_shape=(64, 64), class_name='OrbitKS')\n",
    "    w = read_h5('AntisymmetricOrbitKS_L17p593_T17p143.h5', directory='../data/tiles/', state_type='field')\n",
    "    m = read_h5('RelativeOrbitKS_L13p026_T15p856_fdomain.h5', directory='../data/tiles/', state_type='field')\n",
    "    s = change_orbit_type(s, OrbitKS).rescale(magnitude=3.)\n",
    "    w = change_orbit_type(w, OrbitKS).rescale(magnitude=3.)\n",
    "    m = change_orbit_type(m, OrbitKS).rescale(magnitude=3.)\n",
    "    orbit_array = np.array([[m, w, s]])\n",
    "    glued_orbit = glue(orbit_array).rescale(magnitude=3)\n",
    "    glued_orbit = rediscretize(glued_orbit, new_shape=(32,32))\n",
    "    glued_orbit.to_h5(directory='../data/gluing/')\n",
    "    glued_orbit.plot(save=True, show=False, directory='../figs/gluing/')\n",
    "    gluing_result = converge(glued_orbit, verbose=True)\n",
    "    gluing_result.orbit.to_h5(directory='../data/gluing/')\n",
    "    gluing_result.orbit.plot(save=True, show=False,  directory='../figs/gluing/')\n"
   ]
  }
 ],
 "metadata": {
  "kernelspec": {
   "display_name": "Python 3",
   "language": "python",
   "name": "python3"
  },
  "language_info": {
   "codemirror_mode": {
    "name": "ipython",
    "version": 3
   },
   "file_extension": ".py",
   "mimetype": "text/x-python",
   "name": "python",
   "nbconvert_exporter": "python",
   "pygments_lexer": "ipython3",
   "version": "3.7.6"
  }
 },
 "nbformat": 4,
 "nbformat_minor": 4
}
