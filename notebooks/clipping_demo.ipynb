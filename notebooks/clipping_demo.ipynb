{
 "cells": [
  {
   "cell_type": "code",
   "execution_count": 1,
   "metadata": {},
   "outputs": [],
   "source": [
    "from __future__ import print_function, division, absolute_import\n",
    "import os\n",
    "import sys\n",
    "sys.path.insert(0, \"C:\\\\Users\\\\Matt\\\\Desktop\\\\orbithunter\\\\\")\n",
    "from orbithunter import *\n",
    "import numpy as np"
   ]
  },
  {
   "cell_type": "code",
   "execution_count": 2,
   "metadata": {},
   "outputs": [],
   "source": [
    "orbit1 = read_h5('OrbitKS_L31p245_T46p754.h5')\n",
    "orbit2 = read_h5('OrbitKS_L26p931_T41p266.h5')\n",
    "orbit3 = read_h5('OrbitKS_L26p427_T80p246.h5')\n",
    "orbit4 = read_h5('OrbitKS_L27p038_T23p329.h5')"
   ]
  },
  {
   "cell_type": "code",
   "execution_count": 3,
   "metadata": {},
   "outputs": [],
   "source": [
    "orbit1 = rediscretize(orbit1, new_shape=(64, 64))\n",
    "\n",
    "orbit2 = rediscretize(orbit2, new_shape=(64, 64))\n",
    "\n",
    "orbit3 = rediscretize(orbit3, new_shape=(64, 64))\n",
    "\n",
    "orbit4 = rediscretize(orbit4, new_shape=(64, 64))"
   ]
  },
  {
   "cell_type": "code",
   "execution_count": 4,
   "metadata": {},
   "outputs": [],
   "source": [
    "from orbithunter.gluing import tile_dictionary_ks"
   ]
  },
  {
   "cell_type": "code",
   "execution_count": 5,
   "metadata": {},
   "outputs": [
    {
     "data": {
      "text/plain": [
       "['T', 'L']"
      ]
     },
     "execution_count": 5,
     "metadata": {},
     "output_type": "execute_result"
    }
   ],
   "source": [
    "OrbitKS.dimensions()"
   ]
  },
  {
   "cell_type": "code",
   "execution_count": 6,
   "metadata": {},
   "outputs": [
    {
     "ename": "TypeError",
     "evalue": "zip argument #1 must support iteration",
     "output_type": "error",
     "traceback": [
      "\u001b[1;31m---------------------------------------------------------------------------\u001b[0m",
      "\u001b[1;31mTypeError\u001b[0m                                 Traceback (most recent call last)",
      "\u001b[1;32m<ipython-input-6-447617325c1e>\u001b[0m in \u001b[0;36m<module>\u001b[1;34m\u001b[0m\n\u001b[0;32m      1\u001b[0m \u001b[0mtile_shape\u001b[0m \u001b[1;33m=\u001b[0m \u001b[1;33m(\u001b[0m\u001b[1;36m64\u001b[0m\u001b[1;33m,\u001b[0m \u001b[1;36m64\u001b[0m\u001b[1;33m)\u001b[0m\u001b[1;33m\u001b[0m\u001b[1;33m\u001b[0m\u001b[0m\n\u001b[1;32m----> 2\u001b[1;33m \u001b[0mtiled_orbit\u001b[0m \u001b[1;33m=\u001b[0m \u001b[0mtile\u001b[0m\u001b[1;33m(\u001b[0m\u001b[0mnp\u001b[0m\u001b[1;33m.\u001b[0m\u001b[0marray\u001b[0m\u001b[1;33m(\u001b[0m\u001b[1;33m[\u001b[0m\u001b[1;33m[\u001b[0m\u001b[1;36m0\u001b[0m\u001b[1;33m,\u001b[0m\u001b[1;36m1\u001b[0m\u001b[1;33m]\u001b[0m\u001b[1;33m,\u001b[0m\u001b[1;33m[\u001b[0m\u001b[1;36m1\u001b[0m\u001b[1;33m,\u001b[0m\u001b[1;36m0\u001b[0m\u001b[1;33m]\u001b[0m\u001b[1;33m]\u001b[0m\u001b[1;33m)\u001b[0m\u001b[1;33m,\u001b[0m \u001b[0mtile_shape\u001b[0m\u001b[1;33m,\u001b[0m \u001b[0mtile_dictionary_ks\u001b[0m\u001b[1;33m(\u001b[0m\u001b[0mpadded\u001b[0m\u001b[1;33m=\u001b[0m\u001b[1;32mTrue\u001b[0m\u001b[1;33m)\u001b[0m\u001b[1;33m,\u001b[0m \u001b[0mOrbitKS\u001b[0m\u001b[1;33m)\u001b[0m\u001b[1;33m\u001b[0m\u001b[1;33m\u001b[0m\u001b[0m\n\u001b[0m",
      "\u001b[1;32m~\\Desktop\\orbithunter\\orbithunter\\gluing.py\u001b[0m in \u001b[0;36mtile\u001b[1;34m(symbol_array, tile_shape, tiling_dictionary, class_constructor, **kwargs)\u001b[0m\n\u001b[0;32m    168\u001b[0m     array_of_orbits = np.array([rediscretize(tiling_dictionary[symbol], new_shape=tile_shape)\n\u001b[0;32m    169\u001b[0m                                 for symbol in symbol_array.ravel()]).reshape(*symbol_array_shape)\n\u001b[1;32m--> 170\u001b[1;33m     \u001b[0mglued_orbit\u001b[0m \u001b[1;33m=\u001b[0m \u001b[0mglue\u001b[0m\u001b[1;33m(\u001b[0m\u001b[0marray_of_orbits\u001b[0m\u001b[1;33m,\u001b[0m \u001b[0mtile_shape\u001b[0m\u001b[1;33m,\u001b[0m \u001b[0mclass_constructor\u001b[0m\u001b[1;33m,\u001b[0m \u001b[1;33m**\u001b[0m\u001b[0mkwargs\u001b[0m\u001b[1;33m)\u001b[0m\u001b[1;33m\u001b[0m\u001b[1;33m\u001b[0m\u001b[0m\n\u001b[0m\u001b[0;32m    171\u001b[0m     \u001b[1;32mreturn\u001b[0m \u001b[0mglued_orbit\u001b[0m\u001b[1;33m\u001b[0m\u001b[1;33m\u001b[0m\u001b[0m\n\u001b[0;32m    172\u001b[0m \u001b[1;33m\u001b[0m\u001b[0m\n",
      "\u001b[1;32m~\\Desktop\\orbithunter\\orbithunter\\gluing.py\u001b[0m in \u001b[0;36mglue\u001b[1;34m(array_of_orbits, orbit_shape, class_constructor, **kwargs)\u001b[0m\n\u001b[0;32m    138\u001b[0m \u001b[1;33m\u001b[0m\u001b[0m\n\u001b[0;32m    139\u001b[0m     zipped_parameter_dict = dict(zip(class_constructor.dimensions(),\n\u001b[1;32m--> 140\u001b[1;33m                                  zip(*(o.parameters[dim] for dim in class_constructor.dimensions()\n\u001b[0m\u001b[0;32m    141\u001b[0m                                        for o in array_of_orbits.ravel()))))\n\u001b[0;32m    142\u001b[0m \u001b[1;33m\u001b[0m\u001b[0m\n",
      "\u001b[1;31mTypeError\u001b[0m: zip argument #1 must support iteration"
     ]
    }
   ],
   "source": [
    "tile_shape = (64, 64)\n",
    "tiled_orbit = tile(np.array([[0,1],[1,0]]), tile_shape, tile_dictionary_ks(padded=True), OrbitKS)"
   ]
  },
  {
   "cell_type": "code",
   "execution_count": 11,
   "metadata": {},
   "outputs": [
    {
     "data": {
      "text/plain": [
       "[(0, 32), (64, 64), (124, 64), (36, 64)]"
      ]
     },
     "execution_count": 11,
     "metadata": {},
     "output_type": "execute_result"
    }
   ],
   "source": [
    "iterable_of_orbits = [OrbitKS(T=0.5, L=22), orbit2, orbit3, orbit4]\n",
    "axis = 0 \n",
    "# need to iterate over all orbits, find the total dimension and # of points, then create the new_shape tuples.\n",
    "total_dimension = 0\n",
    "total_discretization = 0\n",
    "for o in iterable_of_orbits:\n",
    "    total_dimension += o.parameters[o.dimensions()[axis]]\n",
    "    total_discretization += o.parameters['field_shape'][axis]\n",
    "\n",
    "# Replace the # of points along axis with the rescaled values based upon the total extent of the axis dimension.\n",
    "\n",
    "new_shapes = [tuple(int(2 * ((((total_discretization * o.parameters[o.dimensions()[axis]]) / total_dimension)+1) // 2))\n",
    "              if i == axis else o.parameters['field_shape'][i] for i in range(len(o.shape)))\n",
    "              for o in iterable_of_orbits]\n",
    "new_shapes"
   ]
  },
  {
   "cell_type": "code",
   "execution_count": 8,
   "metadata": {},
   "outputs": [],
   "source": [
    "iterable_of_reshaped_orbits = [rediscretize(o, new_shape=shp)\n",
    "                               for o, shp in zip(iterable_of_orbits, new_shapes)]"
   ]
  },
  {
   "cell_type": "code",
   "execution_count": 30,
   "metadata": {},
   "outputs": [],
   "source": [
    "total_discretization = 202\n",
    "total_dimension=179\n"
   ]
  },
  {
   "cell_type": "code",
   "execution_count": 31,
   "metadata": {},
   "outputs": [
    {
     "data": {
      "text/plain": [
       "0"
      ]
     },
     "execution_count": 31,
     "metadata": {},
     "output_type": "execute_result"
    }
   ],
   "source": [
    "np.mod([max([2, int(2 * ((((total_discretization * test_dimension) / total_dimension) + 1) // 2))]) for test_dimension in np.arange(1, 200, 0.01)], 2).sum()\n"
   ]
  },
  {
   "cell_type": "code",
   "execution_count": 22,
   "metadata": {},
   "outputs": [
    {
     "data": {
      "text/plain": [
       "58"
      ]
     },
     "execution_count": 22,
     "metadata": {},
     "output_type": "execute_result"
    }
   ],
   "source": [
    " int(2 * ((((total_discretization * test_dimension) / total_dimension) + 1) // 2))"
   ]
  },
  {
   "cell_type": "code",
   "execution_count": null,
   "metadata": {},
   "outputs": [],
   "source": [
    "converge(tiled_orbit, verbose=True)"
   ]
  },
  {
   "cell_type": "code",
   "execution_count": null,
   "metadata": {},
   "outputs": [],
   "source": [
    "pcc, persistence = orbit_persistence(orbit1)"
   ]
  },
  {
   "cell_type": "code",
   "execution_count": null,
   "metadata": {},
   "outputs": [],
   "source": [
    "gudhi_plot(persistence)"
   ]
  },
  {
   "cell_type": "code",
   "execution_count": null,
   "metadata": {},
   "outputs": [],
   "source": []
  }
 ],
 "metadata": {
  "kernelspec": {
   "display_name": "Python 3",
   "language": "python",
   "name": "python3"
  },
  "language_info": {
   "codemirror_mode": {
    "name": "ipython",
    "version": 3
   },
   "file_extension": ".py",
   "mimetype": "text/x-python",
   "name": "python",
   "nbconvert_exporter": "python",
   "pygments_lexer": "ipython3",
   "version": "3.7.6"
  }
 },
 "nbformat": 4,
 "nbformat_minor": 4
}
