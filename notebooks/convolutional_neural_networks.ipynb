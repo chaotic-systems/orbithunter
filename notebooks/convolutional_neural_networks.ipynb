{
 "cells": [
  {
   "cell_type": "code",
   "execution_count": 10,
   "metadata": {},
   "outputs": [],
   "source": [
    "from __future__ import print_function, division, absolute_import\n",
    "from collections import Counter\n",
    "import os\n",
    "import sys\n",
    "import orbithunter as orb\n",
    "import numpy as np\n",
    "import matplotlib.pyplot as plt\n",
    "import time"
   ]
  },
  {
   "cell_type": "markdown",
   "metadata": {},
   "source": [
    "# Deep Learning for Turbulence research.\n",
    "\n",
    "This notebook mainly serves as an introduction for how one might use deep learning to create a predictive deep learning model for various equations. It is not too extensive now as it mainly serves as a simple introduction as to how one might want to\n",
    "use a predictive model for statistical averages of turbulence"
   ]
  },
  {
   "cell_type": "code",
   "execution_count": 15,
   "metadata": {},
   "outputs": [
    {
     "data": {
      "image/png": "[encoded data removed]",
      "text/plain": [
       "<Figure size 65.1091x18 with 2 Axes>"
      ]
     },
     "metadata": {
      "needs_background": "light"
     },
     "output_type": "display_data"
    },
    {
     "data": {
      "image/png": "[encoded data removed]",
      "text/plain": [
       "<Figure size 65.1091x78.963 with 2 Axes>"
      ]
     },
     "metadata": {
      "needs_background": "light"
     },
     "output_type": "display_data"
    },
    {
     "data": {
      "image/png": "[encoded data removed]",
      "text/plain": [
       "<Figure size 80.3763x78.9631 with 2 Axes>"
      ]
     },
     "metadata": {
      "needs_background": "light"
     },
     "output_type": "display_data"
    }
   ],
   "source": [
    "td = read_tileset(\"./data/tiles.h5\", (0, 1, 2), (\"default/double_streak\", \"default/defect\", \"default/wiggle\"))\n",
    "td[0].plot()\n",
    "td[1].plot()\n",
    "td[2].plot()"
   ]
  },
  {
   "cell_type": "code",
   "execution_count": 16,
   "metadata": {},
   "outputs": [
    {
     "data": {
      "image/png": "[encoded data removed]",
      "text/plain": [
       "<Figure size 65.1091x18 with 2 Axes>"
      ]
     },
     "metadata": {
      "needs_background": "light"
     },
     "output_type": "display_data"
    }
   ],
   "source": [
    "td[0].resize(16, td[0].m).plot()"
   ]
  },
  {
   "cell_type": "code",
   "execution_count": 17,
   "metadata": {},
   "outputs": [],
   "source": [
    "from orbithunter.gluing import rediscretize_tileset, generate_symbol_arrays"
   ]
  },
  {
   "cell_type": "code",
   "execution_count": 18,
   "metadata": {},
   "outputs": [
    {
     "data": {
      "text/plain": [
       "{0: EquilibriumOrbitKS({\"shape\": [16, 16], \"basis\": \"field\", \"parameters\": [0.0, 13.02, 0.0]}),\n",
       " 1: RelativeOrbitKS({\"shape\": [16, 16], \"basis\": \"field\", \"parameters\": [17.151, 13.02, -3.313]}),\n",
       " 2: AntisymmetricOrbitKS({\"shape\": [16, 16], \"basis\": \"field\", \"parameters\": [17.151, 17.591, 0.0]})}"
      ]
     },
     "execution_count": 18,
     "metadata": {},
     "output_type": "execute_result"
    }
   ],
   "source": [
    "td = rediscretize_tileset(td, new_shape=(16,16))\n",
    "td"
   ]
  },
  {
   "cell_type": "code",
   "execution_count": 19,
   "metadata": {},
   "outputs": [
    {
     "data": {
      "image/png": "[encoded data removed]",
      "text/plain": [
       "<Figure size 65.1091x18 with 2 Axes>"
      ]
     },
     "metadata": {
      "needs_background": "light"
     },
     "output_type": "display_data"
    }
   ],
   "source": [
    "td[0].plot()"
   ]
  },
  {
   "cell_type": "code",
   "execution_count": 24,
   "metadata": {},
   "outputs": [],
   "source": [
    "glue_shape = (3, 3)\n",
    "symbol_arrays = generate_symbol_arrays(td, glue_shape=glue_shape, unique=True)"
   ]
  },
  {
   "cell_type": "code",
   "execution_count": 28,
   "metadata": {},
   "outputs": [],
   "source": [
    "tiling_example = tile(symbol_arrays[0], td, OrbitKS, include_zero_dimensions=False)"
   ]
  },
  {
   "cell_type": "code",
   "execution_count": 29,
   "metadata": {},
   "outputs": [
    {
     "data": {
      "image/png": "[encoded data removed]",
      "text/plain": [
       "<Figure size 140.484x170.376 with 2 Axes>"
      ]
     },
     "metadata": {
      "needs_background": "light"
     },
     "output_type": "display_data"
    }
   ],
   "source": [
    "tiling_example.plot()"
   ]
  },
  {
   "cell_type": "code",
   "execution_count": 31,
   "metadata": {
    "scrolled": false
   },
   "outputs": [],
   "source": [
    "X = []\n",
    "symbol_y = []\n",
    "converge_y = []\n",
    "for sa in symbol_arrays:\n",
    "    tiling = tile(sa, td, OrbitKS).resize(32,32)\n",
    "    X.append(tiling.state)\n",
    "    symbol_counter = Counter(sa.ravel().tolist())\n",
    "    symbol_y.append([symbol_counter[0]/sa.size, symbol_counter[1]/sa.size, symbol_counter[2]/sa.size])\n",
    "X = np.array(X)\n",
    "X = np.reshape(X, (*X.shape, 1))\n",
    "y = np.array(symbol_y)"
   ]
  },
  {
   "cell_type": "markdown",
   "metadata": {},
   "source": [
    "If we use a softmax layer, the output can be interpreted as a probability, which means that the total is conserved, such that if we multiply by the number of symbols we can get back an estimate that conserves the number of tiles.  "
   ]
  },
  {
   "cell_type": "code",
   "execution_count": 33,
   "metadata": {},
   "outputs": [],
   "source": [
    "from tensorflow.keras.models import Sequential\n",
    "from tensorflow.keras.layers import Dense, Flatten, Conv2D, AveragePooling2D, Activation\n",
    "from sklearn.model_selection import train_test_split\n",
    "\n",
    "X = (X - X.mean()) / X.std()\n",
    "X_train, X_test, y_train, y_test = train_test_split(X, y, test_size=0.2, random_state=42)\n",
    "sample_size = X.shape[0]\n",
    "\n",
    "cnn = Sequential()\n",
    "cnn.add(Conv2D(filters=32, kernel_size=8, padding='valid', input_shape=X.shape[1:]\n",
    "               ))\n",
    "cnn.add(AveragePooling2D(pool_size=2))\n",
    "cnn.add(Activation('relu'))\n",
    "\n",
    "cnn.add(Conv2D(filters=8, kernel_size=8,\n",
    "               padding='valid'\n",
    "               ))\n",
    "cnn.add(AveragePooling2D(pool_size=2))\n",
    "cnn.add(Activation('relu'))\n",
    "cnn.add(Flatten())\n",
    "cnn.add(Dense(int(X[0].size)))\n",
    "cnn.add(Dense(y.shape[1], activation='softmax'))\n",
    "cnn.compile(loss='mse', optimizer='adam')"
   ]
  },
  {
   "cell_type": "code",
   "execution_count": 34,
   "metadata": {},
   "outputs": [
    {
     "name": "stdout",
     "output_type": "stream",
     "text": [
      "Model: \"sequential\"\n",
      "_________________________________________________________________\n",
      "Layer (type)                 Output Shape              Param #   \n",
      "=================================================================\n",
      "conv2d (Conv2D)              (None, 25, 25, 32)        2080      \n",
      "_________________________________________________________________\n",
      "average_pooling2d (AveragePo (None, 12, 12, 32)        0         \n",
      "_________________________________________________________________\n",
      "activation (Activation)      (None, 12, 12, 32)        0         \n",
      "_________________________________________________________________\n",
      "conv2d_1 (Conv2D)            (None, 5, 5, 8)           16392     \n",
      "_________________________________________________________________\n",
      "average_pooling2d_1 (Average (None, 2, 2, 8)           0         \n",
      "_________________________________________________________________\n",
      "activation_1 (Activation)    (None, 2, 2, 8)           0         \n",
      "_________________________________________________________________\n",
      "flatten (Flatten)            (None, 32)                0         \n",
      "_________________________________________________________________\n",
      "dense (Dense)                (None, 1024)              33792     \n",
      "_________________________________________________________________\n",
      "dense_1 (Dense)              (None, 3)                 3075      \n",
      "=================================================================\n",
      "Total params: 55,339\n",
      "Trainable params: 55,339\n",
      "Non-trainable params: 0\n",
      "_________________________________________________________________\n"
     ]
    }
   ],
   "source": [
    "cnn.summary()"
   ]
  },
  {
   "cell_type": "code",
   "execution_count": 35,
   "metadata": {},
   "outputs": [
    {
     "name": "stdout",
     "output_type": "stream",
     "text": [
      "Epoch 1/100\n",
      "55/55 [==============================] - 1s 16ms/step - loss: 0.0130 - val_loss: 0.0044\n",
      "Epoch 2/100\n",
      "55/55 [==============================] - 1s 13ms/step - loss: 0.0027 - val_loss: 0.0019\n",
      "Epoch 3/100\n",
      "55/55 [==============================] - 1s 14ms/step - loss: 0.0015 - val_loss: 0.0012\n",
      "Epoch 4/100\n",
      "55/55 [==============================] - 1s 13ms/step - loss: 8.9406e-04 - val_loss: 0.0013\n",
      "Epoch 5/100\n",
      "55/55 [==============================] - 1s 13ms/step - loss: 6.3843e-04 - val_loss: 7.4203e-04\n",
      "Epoch 6/100\n",
      "55/55 [==============================] - 1s 14ms/step - loss: 5.7863e-04 - val_loss: 5.4217e-04\n",
      "Epoch 7/100\n",
      "55/55 [==============================] - 1s 14ms/step - loss: 5.9263e-04 - val_loss: 4.7804e-04\n",
      "Epoch 8/100\n",
      "55/55 [==============================] - 1s 13ms/step - loss: 5.2734e-04 - val_loss: 5.7944e-04\n",
      "Epoch 9/100\n",
      "55/55 [==============================] - 1s 14ms/step - loss: 4.8097e-04 - val_loss: 3.6310e-04\n",
      "Epoch 10/100\n",
      "55/55 [==============================] - 1s 14ms/step - loss: 5.1502e-04 - val_loss: 6.0739e-04\n",
      "Epoch 11/100\n",
      "55/55 [==============================] - 1s 14ms/step - loss: 3.9215e-04 - val_loss: 3.1765e-04\n",
      "Epoch 12/100\n",
      "55/55 [==============================] - 1s 14ms/step - loss: 3.7213e-04 - val_loss: 5.2498e-04\n",
      "Epoch 13/100\n",
      "55/55 [==============================] - 1s 14ms/step - loss: 4.4052e-04 - val_loss: 4.0960e-04\n",
      "Epoch 14/100\n",
      "55/55 [==============================] - 1s 13ms/step - loss: 3.2793e-04 - val_loss: 2.9346e-04\n",
      "Epoch 15/100\n",
      "55/55 [==============================] - 1s 15ms/step - loss: 3.0877e-04 - val_loss: 2.5489e-04\n",
      "Epoch 16/100\n",
      "55/55 [==============================] - 1s 13ms/step - loss: 2.4980e-04 - val_loss: 2.4607e-04\n",
      "Epoch 17/100\n",
      "55/55 [==============================] - 1s 13ms/step - loss: 2.6104e-04 - val_loss: 4.4624e-04\n",
      "Epoch 18/100\n",
      "55/55 [==============================] - 1s 13ms/step - loss: 3.3287e-04 - val_loss: 3.9032e-04\n",
      "Epoch 19/100\n",
      "55/55 [==============================] - 1s 12ms/step - loss: 3.7408e-04 - val_loss: 3.8458e-04\n",
      "Epoch 20/100\n",
      "55/55 [==============================] - 1s 12ms/step - loss: 3.0612e-04 - val_loss: 4.1202e-04\n",
      "Epoch 21/100\n",
      "55/55 [==============================] - 1s 12ms/step - loss: 3.7423e-04 - val_loss: 4.4254e-04\n",
      "Epoch 22/100\n",
      "55/55 [==============================] - 1s 13ms/step - loss: 2.8496e-04 - val_loss: 1.9818e-04\n",
      "Epoch 23/100\n",
      "55/55 [==============================] - 1s 13ms/step - loss: 2.0980e-04 - val_loss: 2.1807e-04\n",
      "Epoch 24/100\n",
      "55/55 [==============================] - 1s 14ms/step - loss: 2.1710e-04 - val_loss: 1.7744e-04\n",
      "Epoch 25/100\n",
      "55/55 [==============================] - 1s 14ms/step - loss: 2.3326e-04 - val_loss: 3.7732e-04\n",
      "Epoch 26/100\n",
      "55/55 [==============================] - 1s 13ms/step - loss: 2.7926e-04 - val_loss: 2.5728e-04\n",
      "Epoch 27/100\n",
      "55/55 [==============================] - 1s 14ms/step - loss: 2.6560e-04 - val_loss: 7.2916e-04\n",
      "Epoch 28/100\n",
      "55/55 [==============================] - 1s 14ms/step - loss: 3.8830e-04 - val_loss: 2.5659e-04\n",
      "Epoch 29/100\n",
      "55/55 [==============================] - 1s 14ms/step - loss: 2.2621e-04 - val_loss: 2.4589e-04\n",
      "Epoch 30/100\n",
      "55/55 [==============================] - 1s 14ms/step - loss: 1.6102e-04 - val_loss: 1.4865e-04\n",
      "Epoch 31/100\n",
      "55/55 [==============================] - 1s 14ms/step - loss: 2.0660e-04 - val_loss: 2.6893e-04\n",
      "Epoch 32/100\n",
      "55/55 [==============================] - 1s 13ms/step - loss: 2.3814e-04 - val_loss: 1.5230e-04\n",
      "Epoch 33/100\n",
      "55/55 [==============================] - 1s 13ms/step - loss: 1.3193e-04 - val_loss: 1.4907e-04\n",
      "Epoch 34/100\n",
      "55/55 [==============================] - 1s 13ms/step - loss: 1.6162e-04 - val_loss: 2.2568e-04\n",
      "Epoch 35/100\n",
      "55/55 [==============================] - 1s 13ms/step - loss: 1.6221e-04 - val_loss: 2.5579e-04\n",
      "Epoch 36/100\n",
      "55/55 [==============================] - 1s 14ms/step - loss: 1.5537e-04 - val_loss: 2.2718e-04\n",
      "Epoch 37/100\n",
      "55/55 [==============================] - 1s 16ms/step - loss: 1.8183e-04 - val_loss: 1.7761e-04\n",
      "Epoch 38/100\n",
      "55/55 [==============================] - 1s 14ms/step - loss: 1.6163e-04 - val_loss: 1.7624e-04\n",
      "Epoch 39/100\n",
      "55/55 [==============================] - 1s 14ms/step - loss: 1.5635e-04 - val_loss: 1.8207e-04\n",
      "Epoch 40/100\n",
      "55/55 [==============================] - 1s 15ms/step - loss: 2.0237e-04 - val_loss: 1.5329e-04\n",
      "Epoch 41/100\n",
      "55/55 [==============================] - 1s 15ms/step - loss: 1.6858e-04 - val_loss: 2.8693e-04\n",
      "Epoch 42/100\n",
      "55/55 [==============================] - 1s 14ms/step - loss: 1.4446e-04 - val_loss: 1.9046e-04\n",
      "Epoch 43/100\n",
      "55/55 [==============================] - 1s 16ms/step - loss: 2.0079e-04 - val_loss: 1.5087e-04\n",
      "Epoch 44/100\n",
      "55/55 [==============================] - 1s 14ms/step - loss: 1.7425e-04 - val_loss: 1.8931e-04\n",
      "Epoch 45/100\n",
      "55/55 [==============================] - 1s 13ms/step - loss: 1.9726e-04 - val_loss: 1.3972e-04\n",
      "Epoch 46/100\n",
      "55/55 [==============================] - 1s 14ms/step - loss: 1.2612e-04 - val_loss: 1.6885e-04\n",
      "Epoch 47/100\n",
      "55/55 [==============================] - 1s 14ms/step - loss: 1.2669e-04 - val_loss: 2.2187e-04\n",
      "Epoch 48/100\n",
      "55/55 [==============================] - 1s 13ms/step - loss: 1.3291e-04 - val_loss: 1.4532e-04\n",
      "Epoch 49/100\n",
      "55/55 [==============================] - 1s 13ms/step - loss: 1.3829e-04 - val_loss: 1.6864e-04\n",
      "Epoch 50/100\n",
      "55/55 [==============================] - 1s 14ms/step - loss: 1.8655e-04 - val_loss: 1.4569e-04\n",
      "Epoch 51/100\n",
      "55/55 [==============================] - 1s 14ms/step - loss: 2.1318e-04 - val_loss: 1.0148e-04\n",
      "Epoch 52/100\n",
      "55/55 [==============================] - 1s 13ms/step - loss: 1.1610e-04 - val_loss: 9.3221e-05\n",
      "Epoch 53/100\n",
      "55/55 [==============================] - 1s 13ms/step - loss: 9.6057e-05 - val_loss: 1.0997e-04\n",
      "Epoch 54/100\n",
      "55/55 [==============================] - 1s 14ms/step - loss: 8.9408e-05 - val_loss: 8.9384e-05\n",
      "Epoch 55/100\n",
      "55/55 [==============================] - 1s 14ms/step - loss: 1.1005e-04 - val_loss: 1.0819e-04\n",
      "Epoch 56/100\n",
      "55/55 [==============================] - 1s 14ms/step - loss: 9.5922e-05 - val_loss: 1.4647e-04\n",
      "Epoch 57/100\n",
      "55/55 [==============================] - 1s 14ms/step - loss: 9.0244e-05 - val_loss: 8.6623e-05\n",
      "Epoch 58/100\n",
      "55/55 [==============================] - 1s 14ms/step - loss: 1.0942e-04 - val_loss: 1.4050e-04\n",
      "Epoch 59/100\n",
      "55/55 [==============================] - 1s 14ms/step - loss: 1.7403e-04 - val_loss: 1.8761e-04\n",
      "Epoch 60/100\n",
      "55/55 [==============================] - 1s 13ms/step - loss: 1.2272e-04 - val_loss: 1.8235e-04\n",
      "Epoch 61/100\n",
      "55/55 [==============================] - 1s 14ms/step - loss: 1.2712e-04 - val_loss: 1.0366e-04\n",
      "Epoch 62/100\n",
      "55/55 [==============================] - 1s 14ms/step - loss: 7.8875e-05 - val_loss: 9.2191e-05\n",
      "Epoch 63/100\n",
      "55/55 [==============================] - 1s 14ms/step - loss: 9.3310e-05 - val_loss: 1.0963e-04\n",
      "Epoch 64/100\n",
      "55/55 [==============================] - 1s 16ms/step - loss: 9.0946e-05 - val_loss: 9.8752e-05\n",
      "Epoch 65/100\n",
      "55/55 [==============================] - 1s 15ms/step - loss: 1.0877e-04 - val_loss: 1.7440e-04\n",
      "Epoch 66/100\n",
      "55/55 [==============================] - 1s 15ms/step - loss: 1.4452e-04 - val_loss: 2.6350e-04\n",
      "Epoch 67/100\n",
      "55/55 [==============================] - 1s 15ms/step - loss: 3.1018e-04 - val_loss: 2.0560e-04\n",
      "Epoch 68/100\n",
      "55/55 [==============================] - 1s 14ms/step - loss: 1.0424e-04 - val_loss: 7.9103e-05\n",
      "Epoch 69/100\n",
      "55/55 [==============================] - 1s 13ms/step - loss: 7.5884e-05 - val_loss: 1.1553e-04\n",
      "Epoch 70/100\n",
      "55/55 [==============================] - 1s 13ms/step - loss: 1.0619e-04 - val_loss: 1.2134e-04\n",
      "Epoch 71/100\n",
      "55/55 [==============================] - 1s 14ms/step - loss: 1.9991e-04 - val_loss: 2.0738e-04\n",
      "Epoch 72/100\n",
      "55/55 [==============================] - 1s 14ms/step - loss: 1.3729e-04 - val_loss: 1.1551e-04\n",
      "Epoch 73/100\n",
      "55/55 [==============================] - 1s 14ms/step - loss: 1.0578e-04 - val_loss: 8.7784e-05\n",
      "Epoch 74/100\n",
      "55/55 [==============================] - 1s 14ms/step - loss: 1.0423e-04 - val_loss: 8.8079e-05\n",
      "Epoch 75/100\n",
      "55/55 [==============================] - 1s 13ms/step - loss: 9.7111e-05 - val_loss: 1.3292e-04\n",
      "Epoch 76/100\n",
      "55/55 [==============================] - 1s 13ms/step - loss: 1.1742e-04 - val_loss: 1.1915e-04\n",
      "Epoch 77/100\n",
      "55/55 [==============================] - 1s 13ms/step - loss: 8.8641e-05 - val_loss: 8.6047e-05\n",
      "Epoch 78/100\n",
      "55/55 [==============================] - 1s 14ms/step - loss: 6.3001e-05 - val_loss: 5.5829e-05\n",
      "Epoch 79/100\n",
      "55/55 [==============================] - 1s 14ms/step - loss: 6.9857e-05 - val_loss: 1.5212e-04\n",
      "Epoch 80/100\n",
      "55/55 [==============================] - 1s 13ms/step - loss: 1.4820e-04 - val_loss: 1.0982e-04\n",
      "Epoch 81/100\n",
      "55/55 [==============================] - 1s 14ms/step - loss: 1.1811e-04 - val_loss: 1.7819e-04\n",
      "Epoch 82/100\n",
      "55/55 [==============================] - 1s 14ms/step - loss: 1.4003e-04 - val_loss: 9.1635e-05\n",
      "Epoch 83/100\n",
      "55/55 [==============================] - 1s 14ms/step - loss: 7.3773e-05 - val_loss: 1.2540e-04\n",
      "Epoch 84/100\n",
      "55/55 [==============================] - 1s 13ms/step - loss: 1.0304e-04 - val_loss: 1.2110e-04\n",
      "Epoch 85/100\n",
      "55/55 [==============================] - 1s 14ms/step - loss: 1.0213e-04 - val_loss: 7.6684e-05\n",
      "Epoch 86/100\n",
      "55/55 [==============================] - 1s 13ms/step - loss: 9.5285e-05 - val_loss: 8.9621e-05\n",
      "Epoch 87/100\n",
      "55/55 [==============================] - 1s 14ms/step - loss: 1.2671e-04 - val_loss: 7.4935e-05\n",
      "Epoch 88/100\n",
      "55/55 [==============================] - 1s 13ms/step - loss: 7.7353e-05 - val_loss: 7.2149e-05\n",
      "Epoch 89/100\n",
      "55/55 [==============================] - 1s 15ms/step - loss: 7.9382e-05 - val_loss: 2.7346e-04\n",
      "Epoch 90/100\n",
      "55/55 [==============================] - 1s 15ms/step - loss: 9.9331e-05 - val_loss: 9.0689e-05\n",
      "Epoch 91/100\n",
      "55/55 [==============================] - 1s 14ms/step - loss: 8.2794e-05 - val_loss: 6.2724e-05\n",
      "Epoch 92/100\n",
      "55/55 [==============================] - 1s 13ms/step - loss: 9.7886e-05 - val_loss: 8.1410e-05\n",
      "Epoch 93/100\n",
      "55/55 [==============================] - 1s 14ms/step - loss: 1.2630e-04 - val_loss: 8.2083e-05\n",
      "Epoch 94/100\n",
      "55/55 [==============================] - 1s 13ms/step - loss: 1.5213e-04 - val_loss: 7.9764e-05\n",
      "Epoch 95/100\n",
      "55/55 [==============================] - 1s 13ms/step - loss: 6.5211e-05 - val_loss: 6.5380e-05\n",
      "Epoch 96/100\n",
      "55/55 [==============================] - 1s 13ms/step - loss: 6.3403e-05 - val_loss: 7.5373e-05\n",
      "Epoch 97/100\n",
      "55/55 [==============================] - 1s 13ms/step - loss: 9.7164e-05 - val_loss: 1.0775e-04\n",
      "Epoch 98/100\n",
      "55/55 [==============================] - 1s 13ms/step - loss: 1.2400e-04 - val_loss: 2.3222e-04\n",
      "Epoch 99/100\n",
      "55/55 [==============================] - 1s 13ms/step - loss: 3.3058e-04 - val_loss: 1.8033e-04\n",
      "Epoch 100/100\n",
      "55/55 [==============================] - 1s 13ms/step - loss: 1.6528e-04 - val_loss: 1.0077e-04\n"
     ]
    }
   ],
   "source": [
    "history = cnn.fit(X_train, y_train, validation_data=(X_test, y_test), verbose=1, epochs=100)"
   ]
  },
  {
   "cell_type": "code",
   "execution_count": 36,
   "metadata": {},
   "outputs": [
    {
     "data": {
      "image/png": "[encoded data removed]",
      "text/plain": [
       "<Figure size 432x288 with 1 Axes>"
      ]
     },
     "metadata": {
      "needs_background": "light"
     },
     "output_type": "display_data"
    }
   ],
   "source": [
    "plt.rc('text', usetex=False)\n",
    "plt.rc('font', family='serif')\n",
    "plt.rcParams['text.usetex'] = False\n",
    "\n",
    "_ = plt.plot(history.history['loss'])\n",
    "_ = plt.plot(history.history['val_loss'])\n",
    "_ = plt.legend(('loss', 'validation_loss'))\n",
    "_ = plt.show()"
   ]
  },
  {
   "cell_type": "code",
   "execution_count": null,
   "metadata": {},
   "outputs": [],
   "source": [
    "t79p778_x37p297"
   ]
  },
  {
   "cell_type": "code",
   "execution_count": 38,
   "metadata": {},
   "outputs": [],
   "source": [
    "example_orbit_ = read_h5('./data/OrbitKS.h5', 't79p778_x37p297')"
   ]
  },
  {
   "cell_type": "code",
   "execution_count": 39,
   "metadata": {},
   "outputs": [
    {
     "data": {
      "image/png": "[encoded data removed]",
      "text/plain": [
       "<Figure size 136.018x231.603 with 2 Axes>"
      ]
     },
     "metadata": {
      "needs_background": "light"
     },
     "output_type": "display_data"
    }
   ],
   "source": [
    "example_orbit_.plot()"
   ]
  },
  {
   "cell_type": "code",
   "execution_count": 41,
   "metadata": {},
   "outputs": [],
   "source": [
    "example_orbit_ = example_orbit_.resize(32,32)"
   ]
  },
  {
   "cell_type": "code",
   "execution_count": 44,
   "metadata": {},
   "outputs": [
    {
     "name": "stdout",
     "output_type": "stream",
     "text": [
      "Example x 37.29708818660391 Sum(x) for Tiles 43.63019423747212\n"
     ]
    }
   ],
   "source": [
    "print('Example x', example_orbit_.x, 'Sum(x) for Tiles', td[0].x + td[1].x + td[2].x)"
   ]
  },
  {
   "cell_type": "code",
   "execution_count": 46,
   "metadata": {},
   "outputs": [
    {
     "data": {
      "image/png": "[encoded data removed]",
      "text/plain": [
       "<Figure size 148.07x128.276 with 2 Axes>"
      ]
     },
     "metadata": {
      "needs_background": "light"
     },
     "output_type": "display_data"
    }
   ],
   "source": [
    "guess_symbol_array = np.array([[0,1,1],[0,1,1],[0,2,2]])\n",
    "approximate_tiling = tile(guess_symbol_array, td, OrbitKS).resize(32, 32)\n",
    "approximate_tiling.plot()"
   ]
  },
  {
   "cell_type": "code",
   "execution_count": 47,
   "metadata": {},
   "outputs": [
    {
     "data": {
      "text/plain": [
       "matrix([[0, 1, 1],\n",
       "        [0, 1, 1],\n",
       "        [0, 2, 2]])"
      ]
     },
     "execution_count": 47,
     "metadata": {},
     "output_type": "execute_result"
    }
   ],
   "source": [
    "np.matrix(guess_symbol_array)"
   ]
  },
  {
   "cell_type": "code",
   "execution_count": 49,
   "metadata": {},
   "outputs": [
    {
     "name": "stdout",
     "output_type": "stream",
     "text": [
      "\n",
      "-------------------------------------------------------------------------------------------------\n",
      "Starting adjoint descent\n",
      "Initial guess : OrbitKS({\"shape\": [31, 30], \"basis\": \"modes\", \"parameters\": [34.302, 42.106, 0]})\n",
      "Constraints : {'t': False, 'x': False, 's': True}\n",
      "Initial cost : 802.4324401287203\n",
      "Target cost tolerance : 1e-06\n",
      "Maximum iteration number : 10000\n",
      "Preconditioning : True\n",
      "-------------------------------------------------------------------------------------------------\n",
      "#################################################\n",
      " cost=1.1452274 after 5000 adjoint descent steps. Parameters=(35.269933555636385, 42.106385068290805, 0.0)\n",
      "#################################################\n",
      "maximum number of iterations reached, terminating with cost 0.8664766284428467.\n"
     ]
    }
   ],
   "source": [
    "test_converge_result = hunt(approximate_tiling.transform(to='modes'),\n",
    "                                method=('adj', 'lstsq'),\n",
    "                                preconditioning=[True, False],\n",
    "                                pexp=(1,4),\n",
    "                           verbose=True)\n",
    "test_tiling = test_converge_result.orbit"
   ]
  },
  {
   "cell_type": "code",
   "execution_count": 50,
   "metadata": {},
   "outputs": [
    {
     "data": {
      "image/png": "[encoded data removed]",
      "text/plain": [
       "<Figure size 148.07x131.231 with 2 Axes>"
      ]
     },
     "metadata": {
      "needs_background": "light"
     },
     "output_type": "display_data"
    },
    {
     "data": {
      "image/png": "[encoded data removed]",
      "text/plain": [
       "<Figure size 136.018x231.603 with 2 Axes>"
      ]
     },
     "metadata": {
      "needs_background": "light"
     },
     "output_type": "display_data"
    },
    {
     "data": {
      "text/plain": [
       "(None, None)"
      ]
     },
     "execution_count": 50,
     "metadata": {},
     "output_type": "execute_result"
    }
   ],
   "source": [
    "test_tiling.plot(), example_orbit_.plot()"
   ]
  },
  {
   "cell_type": "code",
   "execution_count": 51,
   "metadata": {},
   "outputs": [
    {
     "data": {
      "text/plain": [
       "array([[3., 5., 1.]], dtype=float32)"
      ]
     },
     "execution_count": 51,
     "metadata": {},
     "output_type": "execute_result"
    }
   ],
   "source": [
    "prediction_for_test = cnn.predict(test_tiling.transform(to='field').state.reshape(1, 32, 32, 1))\n",
    "np.round(prediction_for_test * sa.size)"
   ]
  },
  {
   "cell_type": "code",
   "execution_count": 52,
   "metadata": {
    "scrolled": true
   },
   "outputs": [
    {
     "data": {
      "text/plain": [
       "array([[7., 2., 0.]], dtype=float32)"
      ]
     },
     "execution_count": 52,
     "metadata": {},
     "output_type": "execute_result"
    }
   ],
   "source": [
    "prediction_for_target = cnn.predict(example_orbit_.transform(to='field').state.reshape(1, 32, 32, 1))\n",
    "np.round(prediction_for_target * sa.size)"
   ]
  },
  {
   "cell_type": "code",
   "execution_count": 53,
   "metadata": {},
   "outputs": [
    {
     "data": {
      "text/plain": [
       "array([[1., 7., 1.]], dtype=float32)"
      ]
     },
     "execution_count": 53,
     "metadata": {},
     "output_type": "execute_result"
    }
   ],
   "source": [
    "prediction_for_target_reflection = cnn.predict(example_orbit_.transform(to='field').reflection().state.reshape(1, 32, 32, 1))\n",
    "np.round(prediction_for_target_reflection * sa.size)"
   ]
  },
  {
   "cell_type": "code",
   "execution_count": 54,
   "metadata": {},
   "outputs": [],
   "source": [
    "predictions = []\n",
    "for n in range(32):\n",
    "    for m in range(32):\n",
    "        prediction_for_target_roll = cnn.predict(np.roll(np.roll(example_orbit_.transform(to='field').state,\n",
    "                                                                 m,axis=1),n,axis=0).reshape(1, 32, 32, 1))\n",
    "        predictions.extend(np.round(prediction_for_target_roll * sa.size))\n",
    "        \n",
    "predictions = np.array(predictions).reshape(-1, 3)"
   ]
  },
  {
   "cell_type": "code",
   "execution_count": 55,
   "metadata": {},
   "outputs": [
    {
     "data": {
      "text/plain": [
       "(array([276.,   0., 334.,   0., 264.,   0., 124.,   0.,  19.,   7.]),\n",
       " array([0. , 0.5, 1. , 1.5, 2. , 2.5, 3. , 3.5, 4. , 4.5, 5. ],\n",
       "       dtype=float32),\n",
       " <BarContainer object of 10 artists>)"
      ]
     },
     "execution_count": 55,
     "metadata": {},
     "output_type": "execute_result"
    },
    {
     "data": {
      "image/png": "[encoded data removed]",
      "text/plain": [
       "<Figure size 432x288 with 1 Axes>"
      ]
     },
     "metadata": {
      "needs_background": "light"
     },
     "output_type": "display_data"
    }
   ],
   "source": [
    "predictions\n",
    "plt.hist(predictions[:, 0], alpha=0.7)\n",
    "plt.hist(predictions[:, 1], alpha=0.7)\n",
    "plt.hist(predictions[:, 2], alpha=0.7)"
   ]
  },
  {
   "cell_type": "code",
   "execution_count": 56,
   "metadata": {},
   "outputs": [
    {
     "data": {
      "text/plain": [
       "array([5., 3., 1.], dtype=float32)"
      ]
     },
     "execution_count": 56,
     "metadata": {},
     "output_type": "execute_result"
    }
   ],
   "source": [
    "np.round(np.mean(predictions, axis=0))"
   ]
  },
  {
   "cell_type": "code",
   "execution_count": 57,
   "metadata": {},
   "outputs": [
    {
     "data": {
      "text/plain": [
       "array([[0.15314543, 0.73506486, 0.11178966]], dtype=float32)"
      ]
     },
     "execution_count": 57,
     "metadata": {},
     "output_type": "execute_result"
    }
   ],
   "source": [
    "prediction_for_target_reflection"
   ]
  },
  {
   "cell_type": "code",
   "execution_count": 58,
   "metadata": {},
   "outputs": [
    {
     "ename": "NameError",
     "evalue": "name 'rediscretize' is not defined",
     "output_type": "error",
     "traceback": [
      "\u001b[1;31m---------------------------------------------------------------------------\u001b[0m",
      "\u001b[1;31mNameError\u001b[0m                                 Traceback (most recent call last)",
      "\u001b[1;32m<ipython-input-58-0dbed2f4925d>\u001b[0m in \u001b[0;36m<module>\u001b[1;34m\u001b[0m\n\u001b[0;32m      1\u001b[0m \u001b[0my_bottleneck\u001b[0m \u001b[1;33m=\u001b[0m \u001b[1;33m[\u001b[0m\u001b[1;33m]\u001b[0m\u001b[1;33m\u001b[0m\u001b[1;33m\u001b[0m\u001b[0m\n\u001b[0;32m      2\u001b[0m \u001b[1;32mfor\u001b[0m \u001b[0msa\u001b[0m \u001b[1;32min\u001b[0m \u001b[0msymbol_arrays\u001b[0m\u001b[1;33m:\u001b[0m\u001b[1;33m\u001b[0m\u001b[1;33m\u001b[0m\u001b[0m\n\u001b[1;32m----> 3\u001b[1;33m     \u001b[0mtiling\u001b[0m \u001b[1;33m=\u001b[0m \u001b[0mrediscretize\u001b[0m\u001b[1;33m(\u001b[0m\u001b[0mtile\u001b[0m\u001b[1;33m(\u001b[0m\u001b[0msa\u001b[0m\u001b[1;33m,\u001b[0m \u001b[0mtd\u001b[0m\u001b[1;33m,\u001b[0m \u001b[0mOrbitKS\u001b[0m\u001b[1;33m)\u001b[0m\u001b[1;33m,\u001b[0m \u001b[0mnew_shape\u001b[0m\u001b[1;33m=\u001b[0m\u001b[1;33m(\u001b[0m\u001b[1;36m32\u001b[0m\u001b[1;33m,\u001b[0m \u001b[1;36m32\u001b[0m\u001b[1;33m)\u001b[0m\u001b[1;33m)\u001b[0m\u001b[1;33m\u001b[0m\u001b[1;33m\u001b[0m\u001b[0m\n\u001b[0m\u001b[0;32m      4\u001b[0m     \u001b[0my_bottleneck\u001b[0m\u001b[1;33m.\u001b[0m\u001b[0mappend\u001b[0m\u001b[1;33m(\u001b[0m\u001b[0mgudhi_distance\u001b[0m\u001b[1;33m(\u001b[0m\u001b[0mtiling\u001b[0m\u001b[1;33m,\u001b[0m \u001b[0mexample_orbit_\u001b[0m\u001b[1;33m,\u001b[0m \u001b[0mmetric\u001b[0m\u001b[1;33m=\u001b[0m\u001b[1;34m'bottleneck'\u001b[0m\u001b[1;33m)\u001b[0m\u001b[1;33m)\u001b[0m\u001b[1;33m\u001b[0m\u001b[1;33m\u001b[0m\u001b[0m\n\u001b[0;32m      5\u001b[0m \u001b[0my\u001b[0m \u001b[1;33m=\u001b[0m \u001b[0mnp\u001b[0m\u001b[1;33m.\u001b[0m\u001b[0marray\u001b[0m\u001b[1;33m(\u001b[0m\u001b[0my_bottleneck\u001b[0m\u001b[1;33m)\u001b[0m\u001b[1;33m.\u001b[0m\u001b[0mreshape\u001b[0m\u001b[1;33m(\u001b[0m\u001b[1;33m-\u001b[0m\u001b[1;36m1\u001b[0m\u001b[1;33m,\u001b[0m\u001b[1;36m1\u001b[0m\u001b[1;33m)\u001b[0m\u001b[1;33m\u001b[0m\u001b[1;33m\u001b[0m\u001b[0m\n",
      "\u001b[1;31mNameError\u001b[0m: name 'rediscretize' is not defined"
     ]
    }
   ],
   "source": [
    "y_bottleneck = []\n",
    "for sa in symbol_arrays:\n",
    "    tiling = rediscretize(tile(sa, td, OrbitKS), new_shape=(32, 32))\n",
    "    y_bottleneck.append(gudhi_distance(tiling, example_orbit_, metric='bottleneck'))\n",
    "y = np.array(y_bottleneck).reshape(-1,1)"
   ]
  },
  {
   "cell_type": "code",
   "execution_count": null,
   "metadata": {},
   "outputs": [],
   "source": [
    "from tensorflow.keras.models import Sequential\n",
    "from tensorflow.keras.layers import Dense, Flatten, Conv2D, AveragePooling2D, Activation\n",
    "from sklearn.model_selection import train_test_split\n",
    "\n",
    "X = (X - X.mean()) / X.std()\n",
    "X_train, X_test, y_train, y_test = train_test_split(X, y, test_size=0.2, random_state=42)\n",
    "sample_size = X.shape[0]\n",
    "\n",
    "bottleneck_cnn = Sequential()\n",
    "bottleneck_cnn.add(Conv2D(filters=32, kernel_size=8, padding='valid', input_shape=X.shape[1:]\n",
    "               ))\n",
    "bottleneck_cnn.add(AveragePooling2D(pool_size=2))\n",
    "bottleneck_cnn.add(Activation('relu'))\n",
    "\n",
    "bottleneck_cnn.add(Conv2D(filters=8, kernel_size=8,\n",
    "               padding='valid'\n",
    "               ))\n",
    "bottleneck_cnn.add(AveragePooling2D(pool_size=2))\n",
    "bottleneck_cnn.add(Activation('relu'))\n",
    "bottleneck_cnn.add(Flatten())\n",
    "bottleneck_cnn.add(Dense(int(sample_size)))\n",
    "bottleneck_cnn.add(Dense(y.shape[1], activation='relu'))\n",
    "bottleneck_cnn.compile(loss='mse', optimizer='adam')\n",
    "bottleneck_cnn.summary()"
   ]
  },
  {
   "cell_type": "code",
   "execution_count": null,
   "metadata": {
    "scrolled": false
   },
   "outputs": [],
   "source": [
    "history = bottleneck_cnn.fit(X_train, y_train, validation_data=(X_test, y_test), verbose=1, epochs=100)"
   ]
  },
  {
   "cell_type": "markdown",
   "metadata": {},
   "source": [
    "As a baseline, let's see how well it predicts the distance between the example orbit and itself: The expected value is of course, 0."
   ]
  },
  {
   "cell_type": "code",
   "execution_count": null,
   "metadata": {},
   "outputs": [],
   "source": [
    "gudhi_distance(example_orbit_, example_orbit_, metric='bottleneck')"
   ]
  },
  {
   "cell_type": "code",
   "execution_count": null,
   "metadata": {},
   "outputs": [],
   "source": [
    "bottleneck_cnn.predict(example_orbit_.transform(to='field').state.reshape(1, 32, 32, 1))"
   ]
  },
  {
   "cell_type": "code",
   "execution_count": null,
   "metadata": {},
   "outputs": [],
   "source": [
    "bottleneck_cnn.predict(test_tiling.transform(to='field').state.reshape(1, 32, 32, 1))"
   ]
  },
  {
   "cell_type": "code",
   "execution_count": null,
   "metadata": {},
   "outputs": [],
   "source": [
    "y_predict = bottleneck_cnn.predict(X_test)"
   ]
  },
  {
   "cell_type": "code",
   "execution_count": null,
   "metadata": {},
   "outputs": [],
   "source": [
    "fig, ax = plt.subplots(figsize=(8,8))\n",
    "_ = ax.scatter(y_test, y_predict, s=5)\n",
    "_ = ax.plot([0,y_test.max()],[0,y_test.max()], color='r')\n",
    "_ = plt.xlabel('True value')\n",
    "_ = plt.ylabel('Predicted value')\n",
    "_ = plt.show()"
   ]
  },
  {
   "cell_type": "code",
   "execution_count": null,
   "metadata": {},
   "outputs": [],
   "source": [
    "X, y = list_of_orbits, list_of_predictive_quantities\n",
    "orbit_cnn(X, y)"
   ]
  }
 ],
 "metadata": {
  "kernelspec": {
   "display_name": "Python 3",
   "language": "python",
   "name": "python3"
  },
  "language_info": {
   "codemirror_mode": {
    "name": "ipython",
    "version": 3
   },
   "file_extension": ".py",
   "mimetype": "text/x-python",
   "name": "python",
   "nbconvert_exporter": "python",
   "pygments_lexer": "ipython3",
   "version": "3.8.8"
  }
 },
 "nbformat": 4,
 "nbformat_minor": 4
}
