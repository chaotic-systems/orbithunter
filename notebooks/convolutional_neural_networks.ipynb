{
 "cells": [
  {
   "cell_type": "code",
   "execution_count": 1,
   "metadata": {},
   "outputs": [],
   "source": [
    "from __future__ import print_function, division, absolute_import\n",
    "from collections import Counter\n",
    "import os\n",
    "import sys\n",
    "import orbithunter as orb\n",
    "import numpy as np\n",
    "import matplotlib.pyplot as plt\n",
    "import time"
   ]
  },
  {
   "cell_type": "markdown",
   "metadata": {},
   "source": [
    "# Learning symbolic representations with Deep Learning .\n",
    "\n",
    "This notebook mainly serves as an introduction for how one might use deep learning to create a predictive deep learning model for various equations. It is not too extensive now as it mainly serves as a simple introduction as to how one might want to\n",
    "use a predictive model for statistical averages of turbulence"
   ]
  },
  {
   "cell_type": "code",
   "execution_count": 2,
   "metadata": {},
   "outputs": [
    {
     "data": {
      "image/png": "[encoded data removed]",
      "text/plain": [
       "<Figure size 39.5642x18 with 2 Axes>"
      ]
     },
     "metadata": {
      "needs_background": "light"
     },
     "output_type": "display_data"
    },
    {
     "data": {
      "image/png": "[encoded data removed]",
      "text/plain": [
       "<Figure size 65.1091x78.963 with 2 Axes>"
      ]
     },
     "metadata": {
      "needs_background": "light"
     },
     "output_type": "display_data"
    },
    {
     "data": {
      "image/png": "[encoded data removed]",
      "text/plain": [
       "<Figure size 80.3763x78.9631 with 2 Axes>"
      ]
     },
     "metadata": {
      "needs_background": "light"
     },
     "output_type": "display_data"
    }
   ],
   "source": [
    "td = orb.read_tileset(\"./data/tiles.h5\", (0, 1, 2), (\"default/streak\", \"default/defect\", \"default/wiggle\"))\n",
    "td[0].plot()\n",
    "td[1].plot()\n",
    "td[2].plot()"
   ]
  },
  {
   "cell_type": "code",
   "execution_count": 3,
   "metadata": {},
   "outputs": [
    {
     "data": {
      "image/png": "[encoded data removed]",
      "text/plain": [
       "<Figure size 39.5642x18 with 2 Axes>"
      ]
     },
     "metadata": {
      "needs_background": "light"
     },
     "output_type": "display_data"
    }
   ],
   "source": [
    "td[0].resize(16, td[0].m).plot()"
   ]
  },
  {
   "cell_type": "code",
   "execution_count": 4,
   "metadata": {},
   "outputs": [],
   "source": [
    "from orbithunter.gluing import rediscretize_tileset, generate_symbol_arrays"
   ]
  },
  {
   "cell_type": "code",
   "execution_count": 5,
   "metadata": {},
   "outputs": [
    {
     "data": {
      "text/plain": [
       "{0: EquilibriumOrbitKS({\"shape\": [16, 16], \"basis\": \"field\", \"parameters\": [0.0, 6.391, 0.0]}),\n",
       " 1: RelativeOrbitKS({\"shape\": [16, 16], \"basis\": \"field\", \"parameters\": [17.151, 13.02, -3.313]}),\n",
       " 2: AntisymmetricOrbitKS({\"shape\": [16, 16], \"basis\": \"field\", \"parameters\": [17.151, 17.591, 0.0]})}"
      ]
     },
     "execution_count": 5,
     "metadata": {},
     "output_type": "execute_result"
    }
   ],
   "source": [
    "td = rediscretize_tileset(td, new_shape=(16,16))\n",
    "td"
   ]
  },
  {
   "cell_type": "code",
   "execution_count": 6,
   "metadata": {},
   "outputs": [
    {
     "data": {
      "image/png": "[encoded data removed]",
      "text/plain": [
       "<Figure size 39.5642x18 with 2 Axes>"
      ]
     },
     "metadata": {
      "needs_background": "light"
     },
     "output_type": "display_data"
    }
   ],
   "source": [
    "td[0].plot()"
   ]
  },
  {
   "cell_type": "markdown",
   "metadata": {},
   "source": [
    "Generate all unique (up to symmetry) symbolic representations for a tile set of three tiles and shape (3, 3) "
   ]
  },
  {
   "cell_type": "code",
   "execution_count": 7,
   "metadata": {},
   "outputs": [],
   "source": [
    "glue_shape = (3, 3)\n",
    "symbol_arrays = generate_symbol_arrays(td, glue_shape=glue_shape, unique=True)"
   ]
  },
  {
   "cell_type": "code",
   "execution_count": 8,
   "metadata": {},
   "outputs": [],
   "source": [
    "tiling_example = orb.tile(symbol_arrays[1000], td, orb.OrbitKS,\n",
    "                          include_zero_dimensions=False,\n",
    "                          strip_wise=False)"
   ]
  },
  {
   "cell_type": "code",
   "execution_count": 9,
   "metadata": {},
   "outputs": [
    {
     "data": {
      "image/png": "[encoded data removed]",
      "text/plain": [
       "<Figure size 121.503x170.376 with 2 Axes>"
      ]
     },
     "metadata": {
      "needs_background": "light"
     },
     "output_type": "display_data"
    },
    {
     "data": {
      "text/plain": [
       "array([[0, 0, 2],\n",
       "       [1, 1, 0],\n",
       "       [0, 1, 1]])"
      ]
     },
     "execution_count": 9,
     "metadata": {},
     "output_type": "execute_result"
    }
   ],
   "source": [
    "tiling_example.plot()\n",
    "symbol_arrays[1000]"
   ]
  },
  {
   "cell_type": "code",
   "execution_count": 10,
   "metadata": {
    "scrolled": false
   },
   "outputs": [],
   "source": [
    "X = []\n",
    "symbol_y = []\n",
    "converge_y = []\n",
    "for sa in symbol_arrays:\n",
    "    tiling = orb.tile(sa, td, orb.OrbitKS).resize(32,32)\n",
    "    X.append(tiling.state)\n",
    "    symbol_counter = Counter(sa.ravel().tolist())\n",
    "    symbol_y.append([symbol_counter[0]/sa.size, symbol_counter[1]/sa.size, symbol_counter[2]/sa.size])\n",
    "X = np.array(X)\n",
    "X = np.reshape(X, (*X.shape, 1))\n",
    "y = np.array(symbol_y)"
   ]
  },
  {
   "cell_type": "markdown",
   "metadata": {},
   "source": [
    "If we use a softmax layer, the output can be interpreted as a probability, which means that the total is conserved, such that if we multiply by the number of symbols we can get back an estimate that conserves the number of tiles.  "
   ]
  },
  {
   "cell_type": "code",
   "execution_count": 11,
   "metadata": {},
   "outputs": [],
   "source": [
    "from tensorflow.keras.models import Sequential\n",
    "from tensorflow.keras.layers import Dense, Flatten, Conv2D, AveragePooling2D, Activation\n",
    "from sklearn.model_selection import train_test_split\n",
    "X = np.abs(X)\n",
    "X = (X - X.mean()) / X.std()\n",
    "X_train, X_test, y_train, y_test = train_test_split(X, y, test_size=0.2, random_state=42)\n",
    "sample_size = X.shape[0]\n",
    "\n",
    "cnn = Sequential()\n",
    "cnn.add(Conv2D(filters=32, kernel_size=8, padding='valid', input_shape=X.shape[1:]\n",
    "               ))\n",
    "cnn.add(AveragePooling2D(pool_size=2))\n",
    "cnn.add(Activation('relu'))\n",
    "\n",
    "cnn.add(Conv2D(filters=8, kernel_size=8,\n",
    "               padding='valid'\n",
    "               ))\n",
    "cnn.add(AveragePooling2D(pool_size=2))\n",
    "cnn.add(Activation('relu'))\n",
    "cnn.add(Flatten())\n",
    "cnn.add(Dense(int(X[0].size)))\n",
    "cnn.add(Dense(y.shape[1], activation='softmax'))\n",
    "cnn.compile(loss='mse', optimizer='adam')"
   ]
  },
  {
   "cell_type": "code",
   "execution_count": 12,
   "metadata": {},
   "outputs": [
    {
     "name": "stdout",
     "output_type": "stream",
     "text": [
      "Model: \"sequential\"\n",
      "_________________________________________________________________\n",
      "Layer (type)                 Output Shape              Param #   \n",
      "=================================================================\n",
      "conv2d (Conv2D)              (None, 25, 25, 32)        2080      \n",
      "_________________________________________________________________\n",
      "average_pooling2d (AveragePo (None, 12, 12, 32)        0         \n",
      "_________________________________________________________________\n",
      "activation (Activation)      (None, 12, 12, 32)        0         \n",
      "_________________________________________________________________\n",
      "conv2d_1 (Conv2D)            (None, 5, 5, 8)           16392     \n",
      "_________________________________________________________________\n",
      "average_pooling2d_1 (Average (None, 2, 2, 8)           0         \n",
      "_________________________________________________________________\n",
      "activation_1 (Activation)    (None, 2, 2, 8)           0         \n",
      "_________________________________________________________________\n",
      "flatten (Flatten)            (None, 32)                0         \n",
      "_________________________________________________________________\n",
      "dense (Dense)                (None, 1024)              33792     \n",
      "_________________________________________________________________\n",
      "dense_1 (Dense)              (None, 3)                 3075      \n",
      "=================================================================\n",
      "Total params: 55,339\n",
      "Trainable params: 55,339\n",
      "Non-trainable params: 0\n",
      "_________________________________________________________________\n"
     ]
    }
   ],
   "source": [
    "cnn.summary()"
   ]
  },
  {
   "cell_type": "code",
   "execution_count": 13,
   "metadata": {
    "scrolled": true
   },
   "outputs": [],
   "source": [
    "history = cnn.fit(X_train, y_train, validation_data=(X_test, y_test), verbose=0, epochs=100)"
   ]
  },
  {
   "cell_type": "code",
   "execution_count": 14,
   "metadata": {},
   "outputs": [
    {
     "data": {
      "image/png": "[encoded data removed]",
      "text/plain": [
       "<Figure size 432x288 with 1 Axes>"
      ]
     },
     "metadata": {
      "needs_background": "light"
     },
     "output_type": "display_data"
    }
   ],
   "source": [
    "plt.rc('text', usetex=False)\n",
    "plt.rc('font', family='serif')\n",
    "plt.rcParams['text.usetex'] = False\n",
    "\n",
    "_ = plt.plot(history.history['loss'])\n",
    "_ = plt.plot(history.history['val_loss'])\n",
    "_ = plt.legend(('loss', 'validation_loss'))\n",
    "_ = plt.show()"
   ]
  },
  {
   "cell_type": "code",
   "execution_count": 15,
   "metadata": {},
   "outputs": [],
   "source": [
    "example_orbit_ = orb.read_h5('./data/OrbitKS.h5', 't79p778_x37p297')"
   ]
  },
  {
   "cell_type": "code",
   "execution_count": 16,
   "metadata": {},
   "outputs": [
    {
     "data": {
      "image/png": "[encoded data removed]",
      "text/plain": [
       "<Figure size 136.018x231.603 with 2 Axes>"
      ]
     },
     "metadata": {
      "needs_background": "light"
     },
     "output_type": "display_data"
    }
   ],
   "source": [
    "example_orbit_.plot()"
   ]
  },
  {
   "cell_type": "code",
   "execution_count": 17,
   "metadata": {},
   "outputs": [],
   "source": [
    "example_orbit_ = example_orbit_.resize(32,32)"
   ]
  },
  {
   "cell_type": "code",
   "execution_count": 18,
   "metadata": {},
   "outputs": [
    {
     "name": "stdout",
     "output_type": "stream",
     "text": [
      "Example x 37.29708818660391 Sum(x) for Tiles 37.001204395011264\n"
     ]
    }
   ],
   "source": [
    "print('Example x', example_orbit_.x, 'Sum(x) for Tiles', td[0].x + td[1].x + td[2].x)"
   ]
  },
  {
   "cell_type": "code",
   "execution_count": 46,
   "metadata": {},
   "outputs": [
    {
     "data": {
      "image/png": "[encoded data removed]",
      "text/plain": [
       "<Figure size 131.338x128.276 with 2 Axes>"
      ]
     },
     "metadata": {
      "needs_background": "light"
     },
     "output_type": "display_data"
    }
   ],
   "source": [
    "guess_symbol_array = np.array([[0,1,1],[0,1,1],[0,2,2]])\n",
    "approximate_tiling = orb.tile(guess_symbol_array, td, orb.OrbitKS).resize(32, 32)\n",
    "approximate_tiling.plot()"
   ]
  },
  {
   "cell_type": "code",
   "execution_count": 47,
   "metadata": {},
   "outputs": [
    {
     "data": {
      "text/plain": [
       "matrix([[0, 1, 1],\n",
       "        [0, 1, 1],\n",
       "        [0, 2, 2]])"
      ]
     },
     "execution_count": 47,
     "metadata": {},
     "output_type": "execute_result"
    }
   ],
   "source": [
    "np.matrix(guess_symbol_array)"
   ]
  },
  {
   "cell_type": "code",
   "execution_count": 48,
   "metadata": {},
   "outputs": [
    {
     "name": "stdout",
     "output_type": "stream",
     "text": [
      "\n",
      "-------------------------------------------------------------------------------------------------\n",
      "Starting adjoint descent\n",
      "Initial guess : OrbitKS({\"shape\": [31, 30], \"basis\": \"modes\", \"parameters\": [34.302, 35.477, 0]})\n",
      "Constraints : {'t': False, 'x': False, 's': True}\n",
      "Initial cost : 4751.559956984409\n",
      "Target cost tolerance : 1e-06\n",
      "Maximum iteration number : 10000\n",
      "Preconditioning : True\n",
      "-------------------------------------------------------------------------------------------------\n",
      "#################################################\n",
      " cost=0.4069249 after 5000 adjoint descent steps. Parameters=(34.678428196929744, 35.477627250387506, 0.0)\n",
      "#################################################\n",
      "maximum number of iterations reached, terminating with cost 0.25631016823743685.\n"
     ]
    }
   ],
   "source": [
    "test_converge_result = orb.hunt(approximate_tiling.transform(to='modes'),\n",
    "                                method=('adj', 'lsmr'),\n",
    "                                preconditioning=[True, False],\n",
    "                                pexp=(1,4),\n",
    "                           verbose=True)\n",
    "test_tiling = test_converge_result.orbit"
   ]
  },
  {
   "cell_type": "code",
   "execution_count": 49,
   "metadata": {},
   "outputs": [
    {
     "data": {
      "image/png": "[encoded data removed]",
      "text/plain": [
       "<Figure size 131.338x129.523 with 2 Axes>"
      ]
     },
     "metadata": {
      "needs_background": "light"
     },
     "output_type": "display_data"
    }
   ],
   "source": [
    "test_tiling.plot()"
   ]
  },
  {
   "cell_type": "code",
   "execution_count": 99,
   "metadata": {
    "scrolled": true
   },
   "outputs": [
    {
     "data": {
      "text/plain": [
       "array([[9., 0., 0.]], dtype=float32)"
      ]
     },
     "execution_count": 99,
     "metadata": {},
     "output_type": "execute_result"
    }
   ],
   "source": [
    "prediction_for_test = cnn.predict(test_tiling.transform(to='field').state.reshape(1, 32, 32, 1))\n",
    "np.round(prediction_for_test * sa.size)"
   ]
  },
  {
   "cell_type": "code",
   "execution_count": 55,
   "metadata": {},
   "outputs": [
    {
     "data": {
      "image/png": "[encoded data removed]",
      "text/plain": [
       "<Figure size 136.018x231.603 with 2 Axes>"
      ]
     },
     "metadata": {
      "needs_background": "light"
     },
     "output_type": "display_data"
    }
   ],
   "source": [
    "example_orbit_.plot()"
   ]
  },
  {
   "cell_type": "code",
   "execution_count": 56,
   "metadata": {
    "scrolled": true
   },
   "outputs": [
    {
     "data": {
      "text/plain": [
       "array([[9., 0., 0.]], dtype=float32)"
      ]
     },
     "execution_count": 56,
     "metadata": {},
     "output_type": "execute_result"
    }
   ],
   "source": [
    "prediction_for_target = cnn.predict(example_orbit_.transform(to='field').state.reshape(1, 32, 32, 1))\n",
    "np.round(prediction_for_target * sa.size)"
   ]
  },
  {
   "cell_type": "code",
   "execution_count": 57,
   "metadata": {},
   "outputs": [
    {
     "data": {
      "image/png": "[encoded data removed]",
      "text/plain": [
       "<Figure size 136.018x231.603 with 2 Axes>"
      ]
     },
     "metadata": {
      "needs_background": "light"
     },
     "output_type": "display_data"
    }
   ],
   "source": [
    "example_orbit_.transform(to='field').reflection().plot()"
   ]
  },
  {
   "cell_type": "markdown",
   "metadata": {},
   "source": [
    "Because of how the padding in the convolutional layers works, however, "
   ]
  },
  {
   "cell_type": "code",
   "execution_count": 58,
   "metadata": {},
   "outputs": [
    {
     "data": {
      "text/plain": [
       "array([[2., 5., 2.]], dtype=float32)"
      ]
     },
     "execution_count": 58,
     "metadata": {},
     "output_type": "execute_result"
    }
   ],
   "source": [
    "prediction_for_target_reflection = cnn.predict(example_orbit_.transform(to='field').reflection().state.reshape(1, 32, 32, 1))\n",
    "np.round(prediction_for_target_reflection * sa.size)"
   ]
  },
  {
   "cell_type": "code",
   "execution_count": 71,
   "metadata": {},
   "outputs": [],
   "source": [
    "predictions = []\n",
    "for eo in example_orbit_.transform(to='field').group_orbit(roll=(8,8)):\n",
    "    prediction_for_target_roll = cnn.predict((eo.state.reshape(1, 32, 32, 1)))\n",
    "    predictions.extend(np.round(prediction_for_target_roll * sa.size))\n",
    "        \n",
    "predictions = np.array(predictions).reshape(-1, 3)"
   ]
  },
  {
   "cell_type": "code",
   "execution_count": 72,
   "metadata": {},
   "outputs": [
    {
     "data": {
      "text/plain": [
       "(array([753., 463., 288., 222., 150.,  86.,  53.,  27.,   5.,   1.]),\n",
       " array([0. , 0.9, 1.8, 2.7, 3.6, 4.5, 5.4, 6.3, 7.2, 8.1, 9. ],\n",
       "       dtype=float32),\n",
       " <BarContainer object of 10 artists>)"
      ]
     },
     "execution_count": 72,
     "metadata": {},
     "output_type": "execute_result"
    },
    {
     "data": {
      "image/png": "[encoded data removed]",
      "text/plain": [
       "<Figure size 432x288 with 1 Axes>"
      ]
     },
     "metadata": {
      "needs_background": "light"
     },
     "output_type": "display_data"
    }
   ],
   "source": [
    "predictions\n",
    "plt.hist(predictions[:, 0], alpha=0.7)\n",
    "plt.hist(predictions[:, 1], alpha=0.7)\n",
    "plt.hist(predictions[:, 2], alpha=0.7)"
   ]
  },
  {
   "cell_type": "code",
   "execution_count": 73,
   "metadata": {},
   "outputs": [
    {
     "data": {
      "text/plain": [
       "array([4., 3., 2.], dtype=float32)"
      ]
     },
     "execution_count": 73,
     "metadata": {},
     "output_type": "execute_result"
    }
   ],
   "source": [
    "np.round(np.mean(predictions, axis=0))"
   ]
  },
  {
   "cell_type": "code",
   "execution_count": null,
   "metadata": {},
   "outputs": [],
   "source": [
    "fig, ax = plt.subplots(figsize=(8,8))\n",
    "_ = ax.scatter(y_test, y_predict, s=5)\n",
    "_ = ax.plot([y_test.min(), y_test.max()],[y_test.min(),y_test.max()], color='r')\n",
    "_ = plt.xlabel('True value')\n",
    "_ = plt.ylabel('Predicted value')\n",
    "_ = plt.show()"
   ]
  },
  {
   "cell_type": "code",
   "execution_count": 80,
   "metadata": {},
   "outputs": [],
   "source": [
    "td = orb.rediscretize_tileset(td, new_shape=(32, 32))"
   ]
  },
  {
   "cell_type": "code",
   "execution_count": 85,
   "metadata": {},
   "outputs": [],
   "source": [
    "import orbithunter.persistent_homology as orbgudhi"
   ]
  },
  {
   "cell_type": "code",
   "execution_count": 86,
   "metadata": {},
   "outputs": [],
   "source": [
    "y_bottleneck = []\n",
    "for sa in symbol_arrays:\n",
    "    tiling = orb.tile(sa, td, orb.OrbitKS)\n",
    "    y_bottleneck.append(orbgudhi.persistence_distance(tiling, example_orbit_, metric='bottleneck'))\n",
    "y = np.array(y_bottleneck).reshape(-1,1)"
   ]
  },
  {
   "cell_type": "code",
   "execution_count": 87,
   "metadata": {},
   "outputs": [
    {
     "name": "stdout",
     "output_type": "stream",
     "text": [
      "Model: \"sequential_1\"\n",
      "_________________________________________________________________\n",
      "Layer (type)                 Output Shape              Param #   \n",
      "=================================================================\n",
      "conv2d_2 (Conv2D)            (None, 25, 25, 32)        2080      \n",
      "_________________________________________________________________\n",
      "average_pooling2d_2 (Average (None, 12, 12, 32)        0         \n",
      "_________________________________________________________________\n",
      "activation_2 (Activation)    (None, 12, 12, 32)        0         \n",
      "_________________________________________________________________\n",
      "conv2d_3 (Conv2D)            (None, 5, 5, 8)           16392     \n",
      "_________________________________________________________________\n",
      "average_pooling2d_3 (Average (None, 2, 2, 8)           0         \n",
      "_________________________________________________________________\n",
      "activation_3 (Activation)    (None, 2, 2, 8)           0         \n",
      "_________________________________________________________________\n",
      "flatten_1 (Flatten)          (None, 32)                0         \n",
      "_________________________________________________________________\n",
      "dense_2 (Dense)              (None, 2176)              71808     \n",
      "_________________________________________________________________\n",
      "dense_3 (Dense)              (None, 1)                 2177      \n",
      "=================================================================\n",
      "Total params: 92,457\n",
      "Trainable params: 92,457\n",
      "Non-trainable params: 0\n",
      "_________________________________________________________________\n"
     ]
    }
   ],
   "source": [
    "from tensorflow.keras.models import Sequential\n",
    "from tensorflow.keras.layers import Dense, Flatten, Conv2D, AveragePooling2D, Activation\n",
    "from sklearn.model_selection import train_test_split\n",
    "\n",
    "X = (X - X.mean()) / X.std()\n",
    "X_train, X_test, y_train, y_test = train_test_split(X, y, test_size=0.2, random_state=42)\n",
    "sample_size = X.shape[0]\n",
    "\n",
    "bottleneck_cnn = Sequential()\n",
    "bottleneck_cnn.add(Conv2D(filters=32, kernel_size=8, padding='valid', input_shape=X.shape[1:]\n",
    "               ))\n",
    "bottleneck_cnn.add(AveragePooling2D(pool_size=2))\n",
    "bottleneck_cnn.add(Activation('relu'))\n",
    "\n",
    "bottleneck_cnn.add(Conv2D(filters=8, kernel_size=8,\n",
    "               padding='valid'\n",
    "               ))\n",
    "bottleneck_cnn.add(AveragePooling2D(pool_size=2))\n",
    "bottleneck_cnn.add(Activation('relu'))\n",
    "bottleneck_cnn.add(Flatten())\n",
    "bottleneck_cnn.add(Dense(int(sample_size)))\n",
    "bottleneck_cnn.add(Dense(y.shape[1], activation='relu'))\n",
    "bottleneck_cnn.compile(loss='mse', optimizer='adam')\n",
    "bottleneck_cnn.summary()"
   ]
  },
  {
   "cell_type": "code",
   "execution_count": 88,
   "metadata": {
    "scrolled": false
   },
   "outputs": [
    {
     "name": "stdout",
     "output_type": "stream",
     "text": [
      "Epoch 1/100\n",
      "55/55 [==============================] - 1s 15ms/step - loss: 19.9772 - val_loss: 0.1718\n",
      "Epoch 2/100\n",
      "55/55 [==============================] - 1s 14ms/step - loss: 0.0868 - val_loss: 0.0292\n",
      "Epoch 3/100\n",
      "55/55 [==============================] - 1s 15ms/step - loss: 0.0221 - val_loss: 0.0173\n",
      "Epoch 4/100\n",
      "55/55 [==============================] - 1s 13ms/step - loss: 0.0154 - val_loss: 0.0123\n",
      "Epoch 5/100\n",
      "55/55 [==============================] - 1s 13ms/step - loss: 0.0123 - val_loss: 0.0094\n",
      "Epoch 6/100\n",
      "55/55 [==============================] - 1s 13ms/step - loss: 0.0092 - val_loss: 0.0075\n",
      "Epoch 7/100\n",
      "55/55 [==============================] - 1s 12ms/step - loss: 0.0075 - val_loss: 0.0064\n",
      "Epoch 8/100\n",
      "55/55 [==============================] - 1s 12ms/step - loss: 0.0064 - val_loss: 0.0053\n",
      "Epoch 9/100\n",
      "55/55 [==============================] - 1s 12ms/step - loss: 0.0059 - val_loss: 0.0080\n",
      "Epoch 10/100\n",
      "55/55 [==============================] - 1s 12ms/step - loss: 0.0052 - val_loss: 0.0049\n",
      "Epoch 11/100\n",
      "55/55 [==============================] - 1s 12ms/step - loss: 0.0043 - val_loss: 0.0038\n",
      "Epoch 12/100\n",
      "55/55 [==============================] - 1s 12ms/step - loss: 0.0038 - val_loss: 0.0035\n",
      "Epoch 13/100\n",
      "55/55 [==============================] - 1s 12ms/step - loss: 0.0033 - val_loss: 0.0032\n",
      "Epoch 14/100\n",
      "55/55 [==============================] - 1s 12ms/step - loss: 0.0030 - val_loss: 0.0036\n",
      "Epoch 15/100\n",
      "55/55 [==============================] - 1s 15ms/step - loss: 0.0028 - val_loss: 0.0026\n",
      "Epoch 16/100\n",
      "55/55 [==============================] - 1s 13ms/step - loss: 0.0026 - val_loss: 0.0028\n",
      "Epoch 17/100\n",
      "55/55 [==============================] - 1s 13ms/step - loss: 0.0027 - val_loss: 0.0021\n",
      "Epoch 18/100\n",
      "55/55 [==============================] - 1s 12ms/step - loss: 0.0023 - val_loss: 0.0024\n",
      "Epoch 19/100\n",
      "55/55 [==============================] - 1s 14ms/step - loss: 0.0025 - val_loss: 0.0038\n",
      "Epoch 20/100\n",
      "55/55 [==============================] - 1s 13ms/step - loss: 0.0033 - val_loss: 0.0028\n",
      "Epoch 21/100\n",
      "55/55 [==============================] - 1s 13ms/step - loss: 0.0021 - val_loss: 0.0028\n",
      "Epoch 22/100\n",
      "55/55 [==============================] - 1s 12ms/step - loss: 0.0022 - val_loss: 0.0016\n",
      "Epoch 23/100\n",
      "55/55 [==============================] - 1s 13ms/step - loss: 0.0023 - val_loss: 0.0020\n",
      "Epoch 24/100\n",
      "55/55 [==============================] - 1s 13ms/step - loss: 0.0019 - val_loss: 0.0056\n",
      "Epoch 25/100\n",
      "55/55 [==============================] - 1s 13ms/step - loss: 0.0018 - val_loss: 0.0015\n",
      "Epoch 26/100\n",
      "55/55 [==============================] - 1s 12ms/step - loss: 0.0020 - val_loss: 0.0027\n",
      "Epoch 27/100\n",
      "55/55 [==============================] - 1s 13ms/step - loss: 0.0015 - val_loss: 0.0019\n",
      "Epoch 28/100\n",
      "55/55 [==============================] - 1s 12ms/step - loss: 0.0023 - val_loss: 0.0019\n",
      "Epoch 29/100\n",
      "55/55 [==============================] - 1s 13ms/step - loss: 0.0016 - val_loss: 0.0019\n",
      "Epoch 30/100\n",
      "55/55 [==============================] - 1s 12ms/step - loss: 0.0013 - val_loss: 0.0014\n",
      "Epoch 31/100\n",
      "55/55 [==============================] - 1s 12ms/step - loss: 0.0017 - val_loss: 0.0030\n",
      "Epoch 32/100\n",
      "55/55 [==============================] - 1s 13ms/step - loss: 0.0022 - val_loss: 0.0013\n",
      "Epoch 33/100\n",
      "55/55 [==============================] - 1s 13ms/step - loss: 0.0019 - val_loss: 0.0067\n",
      "Epoch 34/100\n",
      "55/55 [==============================] - 1s 12ms/step - loss: 0.0022 - val_loss: 0.0011\n",
      "Epoch 35/100\n",
      "55/55 [==============================] - 1s 12ms/step - loss: 0.0015 - val_loss: 0.0021\n",
      "Epoch 36/100\n",
      "55/55 [==============================] - 1s 12ms/step - loss: 0.0013 - val_loss: 0.0010\n",
      "Epoch 37/100\n",
      "55/55 [==============================] - 1s 13ms/step - loss: 0.0015 - val_loss: 0.0012\n",
      "Epoch 38/100\n",
      "55/55 [==============================] - 1s 12ms/step - loss: 0.0020 - val_loss: 9.4475e-04\n",
      "Epoch 39/100\n",
      "55/55 [==============================] - 1s 12ms/step - loss: 0.0013 - val_loss: 0.0037\n",
      "Epoch 40/100\n",
      "55/55 [==============================] - 1s 13ms/step - loss: 0.0013 - val_loss: 0.0030\n",
      "Epoch 41/100\n",
      "55/55 [==============================] - 1s 12ms/step - loss: 0.0014 - val_loss: 0.0023\n",
      "Epoch 42/100\n",
      "55/55 [==============================] - 1s 12ms/step - loss: 0.0015 - val_loss: 0.0012\n",
      "Epoch 43/100\n",
      "55/55 [==============================] - 1s 12ms/step - loss: 0.0025 - val_loss: 0.0020\n",
      "Epoch 44/100\n",
      "55/55 [==============================] - 1s 12ms/step - loss: 0.0017 - val_loss: 0.0020\n",
      "Epoch 45/100\n",
      "55/55 [==============================] - 1s 12ms/step - loss: 0.0015 - val_loss: 0.0012\n",
      "Epoch 46/100\n",
      "55/55 [==============================] - 1s 12ms/step - loss: 0.0017 - val_loss: 0.0013\n",
      "Epoch 47/100\n",
      "55/55 [==============================] - 1s 12ms/step - loss: 0.0030 - val_loss: 0.0050\n",
      "Epoch 48/100\n",
      "55/55 [==============================] - 1s 12ms/step - loss: 0.0038 - val_loss: 0.0032\n",
      "Epoch 49/100\n",
      "55/55 [==============================] - 1s 12ms/step - loss: 0.0042 - val_loss: 0.0031\n",
      "Epoch 50/100\n",
      "55/55 [==============================] - 1s 12ms/step - loss: 0.0031 - val_loss: 0.0028\n",
      "Epoch 51/100\n",
      "55/55 [==============================] - 1s 11ms/step - loss: 0.0031 - val_loss: 0.0026\n",
      "Epoch 52/100\n",
      "55/55 [==============================] - 1s 11ms/step - loss: 0.0146 - val_loss: 0.0044\n",
      "Epoch 53/100\n",
      "55/55 [==============================] - 1s 12ms/step - loss: 0.0022 - val_loss: 0.0010\n",
      "Epoch 54/100\n",
      "55/55 [==============================] - 1s 12ms/step - loss: 0.0029 - val_loss: 0.0127\n",
      "Epoch 55/100\n",
      "55/55 [==============================] - 1s 12ms/step - loss: 0.0071 - val_loss: 0.0125\n",
      "Epoch 56/100\n",
      "55/55 [==============================] - 1s 12ms/step - loss: 0.0116 - val_loss: 0.0020\n",
      "Epoch 57/100\n",
      "55/55 [==============================] - 1s 12ms/step - loss: 0.0141 - val_loss: 0.0264\n",
      "Epoch 58/100\n",
      "55/55 [==============================] - 1s 12ms/step - loss: 0.0047 - val_loss: 0.0027\n",
      "Epoch 59/100\n",
      "55/55 [==============================] - 1s 12ms/step - loss: 0.0044 - val_loss: 0.0270\n",
      "Epoch 60/100\n",
      "55/55 [==============================] - 1s 11ms/step - loss: 0.0105 - val_loss: 0.0021\n",
      "Epoch 61/100\n",
      "55/55 [==============================] - 1s 12ms/step - loss: 0.0188 - val_loss: 0.0031\n",
      "Epoch 62/100\n",
      "55/55 [==============================] - 1s 12ms/step - loss: 0.0219 - val_loss: 0.0022\n",
      "Epoch 63/100\n",
      "55/55 [==============================] - 1s 11ms/step - loss: 0.0200 - val_loss: 0.0208\n",
      "Epoch 64/100\n",
      "55/55 [==============================] - 1s 13ms/step - loss: 0.0065 - val_loss: 0.0026\n",
      "Epoch 65/100\n",
      "55/55 [==============================] - 1s 13ms/step - loss: 0.0227 - val_loss: 0.0554\n",
      "Epoch 66/100\n",
      "55/55 [==============================] - 1s 12ms/step - loss: 0.0380 - val_loss: 0.0014\n",
      "Epoch 67/100\n",
      "55/55 [==============================] - 1s 12ms/step - loss: 0.0055 - val_loss: 0.0139\n",
      "Epoch 68/100\n",
      "55/55 [==============================] - 1s 13ms/step - loss: 0.0231 - val_loss: 0.0039\n",
      "Epoch 69/100\n",
      "55/55 [==============================] - 1s 13ms/step - loss: 0.0058 - val_loss: 0.0012\n",
      "Epoch 70/100\n",
      "55/55 [==============================] - 1s 12ms/step - loss: 0.0092 - val_loss: 0.0023\n",
      "Epoch 71/100\n",
      "55/55 [==============================] - 1s 12ms/step - loss: 0.0053 - val_loss: 0.0080\n",
      "Epoch 72/100\n",
      "55/55 [==============================] - 1s 11ms/step - loss: 0.0107 - val_loss: 0.0015\n",
      "Epoch 73/100\n",
      "55/55 [==============================] - 1s 12ms/step - loss: 0.0076 - val_loss: 0.0127\n",
      "Epoch 74/100\n",
      "55/55 [==============================] - 1s 12ms/step - loss: 0.0075 - val_loss: 0.0012\n",
      "Epoch 75/100\n",
      "55/55 [==============================] - 1s 11ms/step - loss: 0.0230 - val_loss: 0.0706\n",
      "Epoch 76/100\n",
      "55/55 [==============================] - 1s 13ms/step - loss: 0.1200 - val_loss: 0.7275\n",
      "Epoch 77/100\n",
      "55/55 [==============================] - 1s 13ms/step - loss: 0.1240 - val_loss: 0.0085\n",
      "Epoch 78/100\n",
      "55/55 [==============================] - 1s 12ms/step - loss: 0.0057 - val_loss: 0.0040\n",
      "Epoch 79/100\n",
      "55/55 [==============================] - 1s 12ms/step - loss: 0.0056 - val_loss: 0.0099\n",
      "Epoch 80/100\n",
      "55/55 [==============================] - 1s 13ms/step - loss: 0.0044 - val_loss: 0.0014\n",
      "Epoch 81/100\n",
      "55/55 [==============================] - 1s 12ms/step - loss: 0.0031 - val_loss: 0.0019\n",
      "Epoch 82/100\n"
     ]
    },
    {
     "name": "stdout",
     "output_type": "stream",
     "text": [
      "55/55 [==============================] - 1s 13ms/step - loss: 0.0021 - val_loss: 0.0021\n",
      "Epoch 83/100\n",
      "55/55 [==============================] - 1s 13ms/step - loss: 0.0021 - val_loss: 0.0045\n",
      "Epoch 84/100\n",
      "55/55 [==============================] - 1s 12ms/step - loss: 0.0015 - val_loss: 0.0015\n",
      "Epoch 85/100\n",
      "55/55 [==============================] - 1s 12ms/step - loss: 0.0018 - val_loss: 0.0020\n",
      "Epoch 86/100\n",
      "55/55 [==============================] - 1s 12ms/step - loss: 0.0027 - val_loss: 7.9809e-04\n",
      "Epoch 87/100\n",
      "55/55 [==============================] - 1s 12ms/step - loss: 0.0063 - val_loss: 0.0058\n",
      "Epoch 88/100\n",
      "55/55 [==============================] - 1s 12ms/step - loss: 0.0298 - val_loss: 0.0103\n",
      "Epoch 89/100\n",
      "55/55 [==============================] - 1s 13ms/step - loss: 0.0057 - val_loss: 0.0060\n",
      "Epoch 90/100\n",
      "55/55 [==============================] - 1s 12ms/step - loss: 0.0087 - val_loss: 0.0060\n",
      "Epoch 91/100\n",
      "55/55 [==============================] - 1s 12ms/step - loss: 0.0098 - val_loss: 0.0135\n",
      "Epoch 92/100\n",
      "55/55 [==============================] - 1s 12ms/step - loss: 0.0122 - val_loss: 0.0030\n",
      "Epoch 93/100\n",
      "55/55 [==============================] - 1s 13ms/step - loss: 0.0078 - val_loss: 0.0053\n",
      "Epoch 94/100\n",
      "55/55 [==============================] - 1s 12ms/step - loss: 0.0042 - val_loss: 0.0063\n",
      "Epoch 95/100\n",
      "55/55 [==============================] - 1s 12ms/step - loss: 0.0064 - val_loss: 0.0257\n",
      "Epoch 96/100\n",
      "55/55 [==============================] - 1s 12ms/step - loss: 0.0374 - val_loss: 0.0195\n",
      "Epoch 97/100\n",
      "55/55 [==============================] - 1s 12ms/step - loss: 0.0102 - val_loss: 0.0023\n",
      "Epoch 98/100\n",
      "55/55 [==============================] - 1s 12ms/step - loss: 0.0025 - val_loss: 0.0024\n",
      "Epoch 99/100\n",
      "55/55 [==============================] - 1s 12ms/step - loss: 0.0033 - val_loss: 0.0056\n",
      "Epoch 100/100\n",
      "55/55 [==============================] - 1s 12ms/step - loss: 0.0034 - val_loss: 0.0030\n"
     ]
    }
   ],
   "source": [
    "history = bottleneck_cnn.fit(X_train, y_train, validation_data=(X_test, y_test), verbose=1, epochs=100)"
   ]
  },
  {
   "cell_type": "markdown",
   "metadata": {},
   "source": [
    "As a baseline, let's see how well it predicts the distance between the example orbit and itself: The expected value is of course, 0."
   ]
  },
  {
   "cell_type": "code",
   "execution_count": 91,
   "metadata": {},
   "outputs": [
    {
     "data": {
      "text/plain": [
       "0.0"
      ]
     },
     "execution_count": 91,
     "metadata": {},
     "output_type": "execute_result"
    }
   ],
   "source": [
    "orbgudhi.persistence_distance(example_orbit_, example_orbit_, metric='bottleneck')"
   ]
  },
  {
   "cell_type": "code",
   "execution_count": 92,
   "metadata": {},
   "outputs": [
    {
     "data": {
      "text/plain": [
       "array([[19.916237]], dtype=float32)"
      ]
     },
     "execution_count": 92,
     "metadata": {},
     "output_type": "execute_result"
    }
   ],
   "source": [
    "bottleneck_cnn.predict(example_orbit_.transform(to='field').state.reshape(1, 32, 32, 1))"
   ]
  },
  {
   "cell_type": "code",
   "execution_count": 93,
   "metadata": {},
   "outputs": [
    {
     "data": {
      "text/plain": [
       "array([[14.348245]], dtype=float32)"
      ]
     },
     "execution_count": 93,
     "metadata": {},
     "output_type": "execute_result"
    }
   ],
   "source": [
    "bottleneck_cnn.predict(test_tiling.transform(to='field').state.reshape(1, 32, 32, 1))"
   ]
  },
  {
   "cell_type": "code",
   "execution_count": 94,
   "metadata": {},
   "outputs": [],
   "source": [
    "y_predict = bottleneck_cnn.predict(X_test)"
   ]
  },
  {
   "cell_type": "code",
   "execution_count": 98,
   "metadata": {},
   "outputs": [
    {
     "data": {
      "text/plain": [
       "array([13.436473], dtype=float32)"
      ]
     },
     "execution_count": 98,
     "metadata": {},
     "output_type": "execute_result"
    }
   ],
   "source": [
    "y_predict[0]"
   ]
  },
  {
   "cell_type": "code",
   "execution_count": 97,
   "metadata": {},
   "outputs": [
    {
     "data": {
      "image/png": "[encoded data removed]",
      "text/plain": [
       "<Figure size 576x576 with 1 Axes>"
      ]
     },
     "metadata": {
      "needs_background": "light"
     },
     "output_type": "display_data"
    }
   ],
   "source": [
    "fig, ax = plt.subplots(figsize=(8,8))\n",
    "_ = ax.scatter(y_test, y_predict, s=5)\n",
    "_ = ax.plot([y_test.min(), y_test.max()],[y_test.min(),y_test.max()], color='r')\n",
    "_ = plt.xlabel('True value')\n",
    "_ = plt.ylabel('Predicted value')\n",
    "_ = plt.show()"
   ]
  },
  {
   "cell_type": "code",
   "execution_count": null,
   "metadata": {},
   "outputs": [],
   "source": [
    "X, y = list_of_orbits, list_of_predictive_quantities\n",
    "orbit_cnn(X, y)"
   ]
  }
 ],
 "metadata": {
  "kernelspec": {
   "display_name": "Python 3",
   "language": "python",
   "name": "python3"
  },
  "language_info": {
   "codemirror_mode": {
    "name": "ipython",
    "version": 3
   },
   "file_extension": ".py",
   "mimetype": "text/x-python",
   "name": "python",
   "nbconvert_exporter": "python",
   "pygments_lexer": "ipython3",
   "version": "3.8.8"
  }
 },
 "nbformat": 4,
 "nbformat_minor": 4
}
