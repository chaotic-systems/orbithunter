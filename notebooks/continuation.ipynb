{
 "cells": [
  {
   "cell_type": "code",
   "execution_count": 15,
   "metadata": {},
   "outputs": [],
   "source": [
    "from __future__ import print_function, division, absolute_import\n",
    "import os\n",
    "import sys\n",
    "sys.path.insert(0, \"C:\\\\Users\\\\Matt\\\\Desktop\\\\orbithunter\\\\\")\n",
    "from orbithunter import *\n",
    "import numpy as np\n",
    "import itertools\n",
    "from math import pi\n",
    "import time\n",
    "import matplotlib.pyplot as plt\n",
    "import h5py"
   ]
  },
  {
   "cell_type": "markdown",
   "metadata": {},
   "source": [
    "This notebook details the tools relevant to continuation, namely ```dimension_continuation``` and ```discretization_continuation```."
   ]
  },
  {
   "cell_type": "code",
   "execution_count": 16,
   "metadata": {},
   "outputs": [],
   "source": [
    "s = 'C:/Users/Matt/Desktop/other/gudorf_gatech_repo/gudorf/KS/python/data_and_figures/tiles/streak/final_tile/EquilibriumOrbitKS_L6p39.h5'\n",
    "w = 'C:/Users/Matt/Desktop/other/gudorf_gatech_repo/gudorf/KS/python/data_and_figures/tiles/gap/final_tile/AntisymmetricOrbitKS_T17p150_L17p591.h5'\n",
    "m = 'C:/Users/Matt/Desktop/other/gudorf_gatech_repo/gudorf/KS/python/data_and_figures/tiles/defects/defect1/final_tile/RelativeOrbitKS_T15p855_L13p026.h5'\n",
    "\n",
    "with h5py.File(m, 'r+') as file:\n",
    "    dat = file['field'][...]\n",
    "    params = tuple(file['parameters'][...])\n",
    "    m = RelativeOrbitKS(state=dat, parameters=params, basis='field')\n",
    "\n",
    "with h5py.File(w, 'r+') as file:\n",
    "    dat = file['field'][...]\n",
    "    params = tuple(file['parameters'][...])\n",
    "    w = AntisymmetricOrbitKS(state=dat, parameters=params, basis='field')\n",
    "\n",
    "with h5py.File(s, 'r+') as file:\n",
    "    dat = file['field'][...]\n",
    "    params = tuple(file['parameters'][...])\n",
    "    s = EquilibriumOrbitKS(state=dat, parameters=params, basis='field')\n",
    "    \n",
    "d = read_h5('../../data/local/thesis.h5', 'families/defect_large_family_member').transform(to='modes')"
   ]
  },
  {
   "cell_type": "code",
   "execution_count": 18,
   "metadata": {},
   "outputs": [
    {
     "data": {
      "text/plain": [
       "1.8825457676874493e-14"
      ]
     },
     "execution_count": 18,
     "metadata": {},
     "output_type": "execute_result"
    }
   ],
   "source": [
    "td = read_tileset('../../data/ks/tiles.h5', (0, 1, 2),\n",
    "                  ('/default/double_streak','/default/defect','/default/wiggle'),\n",
    "                  validate=False)\n",
    "td[0].plot()\n",
    "td[1].plot()\n",
    "td[2].plot()\n",
    "# td[0] = td[0].cell_shift(4, axis=1)\n",
    "\n",
    "tile(np.array([[1],[0]]), td, OrbitKS).plot()\n",
    "\n",
    "orbit_1_2 = tile(np.array([[1],[0]]), td, OrbitKS)  \n",
    "orbit_1_2.plot()\n",
    "result_12 = hunt(orbit_1_2.resize(8, 8).resize(16, 16).transform(to='modes'), \n",
    "                     method='hybrid', verbose=True, pexp=(1,4), preconditioning=True, comp_time='long')"
   ]
  },
  {
   "cell_type": "code",
   "execution_count": 10,
   "metadata": {},
   "outputs": [
    {
     "ename": "NameError",
     "evalue": "name 'read_fpo_set' is not defined",
     "output_type": "error",
     "traceback": [
      "\u001b[1;31m---------------------------------------------------------------------------\u001b[0m",
      "\u001b[1;31mNameError\u001b[0m                                 Traceback (most recent call last)",
      "\u001b[1;32m<ipython-input-10-3636dfd04ffc>\u001b[0m in \u001b[0;36m<module>\u001b[1;34m\u001b[0m\n\u001b[1;32m----> 1\u001b[1;33m \u001b[0mtd\u001b[0m \u001b[1;33m=\u001b[0m \u001b[0mread_fpo_set\u001b[0m\u001b[1;33m(\u001b[0m\u001b[0mtileset\u001b[0m\u001b[1;33m=\u001b[0m\u001b[1;34m'resized'\u001b[0m\u001b[1;33m,\u001b[0m \u001b[0mrescaled\u001b[0m\u001b[1;33m=\u001b[0m\u001b[1;32mTrue\u001b[0m\u001b[1;33m)\u001b[0m\u001b[1;33m\u001b[0m\u001b[1;33m\u001b[0m\u001b[0m\n\u001b[0m\u001b[0;32m      2\u001b[0m \u001b[0mstreak\u001b[0m \u001b[1;33m=\u001b[0m \u001b[0mtd\u001b[0m\u001b[1;33m[\u001b[0m\u001b[1;36m0\u001b[0m\u001b[1;33m]\u001b[0m\u001b[1;33m\u001b[0m\u001b[1;33m\u001b[0m\u001b[0m\n\u001b[0;32m      3\u001b[0m \u001b[0mdefect\u001b[0m \u001b[1;33m=\u001b[0m \u001b[0mtd\u001b[0m\u001b[1;33m[\u001b[0m\u001b[1;36m1\u001b[0m\u001b[1;33m]\u001b[0m\u001b[1;33m\u001b[0m\u001b[1;33m\u001b[0m\u001b[0m\n\u001b[0;32m      4\u001b[0m \u001b[0mwiggle\u001b[0m \u001b[1;33m=\u001b[0m \u001b[0mtd\u001b[0m\u001b[1;33m[\u001b[0m\u001b[1;36m2\u001b[0m\u001b[1;33m]\u001b[0m\u001b[1;33m\u001b[0m\u001b[1;33m\u001b[0m\u001b[0m\n",
      "\u001b[1;31mNameError\u001b[0m: name 'read_fpo_set' is not defined"
     ]
    }
   ],
   "source": [
    "td = read_fpo_set(tileset='resized', rescaled=True)\n",
    "streak = td[0]\n",
    "defect = td[1]\n",
    "wiggle = td[2]"
   ]
  },
  {
   "cell_type": "markdown",
   "metadata": {},
   "source": [
    "The first type of continuation is ```dimension_continuation``` which imposes constraints on the dimensions, performing\n",
    "a multi-stepped optimization process. To demonstrate this, the 'defect' fundamental periodic orbit is converted back into\n",
    "a RelativeOrbitKS; it was saved as an OrbitKS without symmetry because of how tiling works. "
   ]
  },
  {
   "cell_type": "code",
   "execution_count": 4,
   "metadata": {},
   "outputs": [
    {
     "name": "stdout",
     "output_type": "stream",
     "text": [
      "\n",
      "-------------------------------------------------------------------------------------------------\n",
      "Starting lstsq optimization\n",
      "Initial residual : 38.27588459011695\n",
      "Target residual tolerance : 2.56e-07\n",
      "Maximum iteration number : 250\n",
      "Initial guess : RelativeOrbitKS({\"basis\": \"modes\", \"parameters\": [\"17.1508\", \"13.0196\", \"3.235\"], \"field_shape\": [\"16\", \"16\"]})\n",
      "-------------------------------------------------------------------------------------------------\n",
      "#######\n",
      "Converged. Exiting with residual 1.2941286777876588e-08\n"
     ]
    }
   ],
   "source": [
    "defect = convert_class(td[1], RelativeOrbitKS).reshape(16,16).transform(to='modes')\n",
    "defect = converge(defect, method='lstsq', verbose=True).orbit"
   ]
  },
  {
   "cell_type": "markdown",
   "metadata": {},
   "source": [
    "The first demonstration is that temporal continuation, fixing the temporal period, can be used instead of spatial continuation\n",
    "which is less likely to succeed, *if* the temporal period corresponding to the spatial size is known. For example, let's say that we are targeting $L=13.08$ for the defect tile.\n"
   ]
  },
  {
   "cell_type": "code",
   "execution_count": 5,
   "metadata": {},
   "outputs": [
    {
     "data": {
      "image/png": "[encoded data removed]",
      "text/plain": [
       "<Figure size 64.8133x100.947 with 2 Axes>"
      ]
     },
     "metadata": {
      "needs_background": "light"
     },
     "output_type": "display_data"
    }
   ],
   "source": [
    "defect.plot()"
   ]
  },
  {
   "cell_type": "code",
   "execution_count": 6,
   "metadata": {
    "scrolled": false
   },
   "outputs": [
    {
     "name": "stdout",
     "output_type": "stream",
     "text": [
      "\n",
      "-------------------------------------------------------------------------------------------------\n",
      "Starting lstsq optimization\n",
      "Initial residual : 0.00644652998093617\n",
      "Target residual tolerance : 2.56e-07\n",
      "Maximum iteration number : 250\n",
      "Initial guess : RelativeOrbitKS({\"basis\": \"modes\", \"parameters\": [\"24.3596\", \"12.9602\", \"3.2401\"], \"field_shape\": [\"16\", \"16\"]})\n",
      "-------------------------------------------------------------------------------------------------\n",
      "##\n",
      "Converged. Exiting with residual 1.246529749283497e-11\n",
      "\n",
      "-------------------------------------------------------------------------------------------------\n",
      "Starting lstsq optimization\n",
      "Initial residual : 0.006699656441405508\n",
      "Target residual tolerance : 2.56e-07\n",
      "Maximum iteration number : 250\n",
      "Initial guess : RelativeOrbitKS({\"basis\": \"modes\", \"parameters\": [\"23.3015\", \"12.9852\", \"3.2484\"], \"field_shape\": [\"16\", \"16\"]})\n",
      "-------------------------------------------------------------------------------------------------\n",
      "##\n",
      "Converged. Exiting with residual 4.787769366535584e-08\n",
      "\n",
      "-------------------------------------------------------------------------------------------------\n",
      "Starting lstsq optimization\n",
      "Initial residual : 0.006937714514677186\n",
      "Target residual tolerance : 2.56e-07\n",
      "Maximum iteration number : 250\n",
      "Initial guess : RelativeOrbitKS({\"basis\": \"modes\", \"parameters\": [\"21.8597\", \"13.0102\", \"3.2589\"], \"field_shape\": [\"16\", \"16\"]})\n",
      "-------------------------------------------------------------------------------------------------\n",
      "#####\n",
      "Converged. Exiting with residual 2.9292403687037937e-08\n",
      "\n",
      "-------------------------------------------------------------------------------------------------\n",
      "Starting lstsq optimization\n",
      "Initial residual : 0.007160172996676123\n",
      "Target residual tolerance : 2.56e-07\n",
      "Maximum iteration number : 250\n",
      "Initial guess : RelativeOrbitKS({\"basis\": \"modes\", \"parameters\": [\"18.8435\", \"13.0352\", \"3.286\"], \"field_shape\": [\"16\", \"16\"]})\n",
      "-------------------------------------------------------------------------------------------------\n",
      "##########\n",
      "Converged. Exiting with residual 1.8742022452668837e-08\n",
      "\n",
      "-------------------------------------------------------------------------------------------------\n",
      "Starting lstsq optimization\n",
      "Initial residual : 0.007377618696075195\n",
      "Target residual tolerance : 2.56e-07\n",
      "Maximum iteration number : 250\n",
      "Initial guess : RelativeOrbitKS({\"basis\": \"modes\", \"parameters\": [\"14.6244\", \"13.0602\", \"3.3853\"], \"field_shape\": [\"16\", \"16\"]})\n",
      "-------------------------------------------------------------------------------------------------\n",
      "####\n",
      "Converged. Exiting with residual 4.513008649235458e-09\n",
      "\n",
      "-------------------------------------------------------------------------------------------------\n",
      "Starting lstsq optimization\n",
      "Initial residual : 0.004770357664217425\n",
      "Target residual tolerance : 2.56e-07\n",
      "Maximum iteration number : 250\n",
      "Initial guess : RelativeOrbitKS({\"basis\": \"modes\", \"parameters\": [\"11.7817\", \"13.08\", \"3.5483\"], \"field_shape\": [\"16\", \"16\"]})\n",
      "-------------------------------------------------------------------------------------------------\n",
      "####\n",
      "Converged. Exiting with residual 8.963463214070413e-14\n"
     ]
    }
   ],
   "source": [
    "defect_spatial_continuation = dimension_continuation(defect, 13.08, step_size=0.025, axis=1, method='lstsq', verbose=True).orbit"
   ]
  },
  {
   "cell_type": "code",
   "execution_count": 7,
   "metadata": {
    "scrolled": true
   },
   "outputs": [
    {
     "data": {
      "image/png": "[encoded data removed]",
      "text/plain": [
       "<Figure size 65.3205x54.5462 with 2 Axes>"
      ]
     },
     "metadata": {
      "needs_background": "light"
     },
     "output_type": "display_data"
    },
    {
     "data": {
      "text/plain": [
       "RelativeOrbitKS({\"basis\": \"modes\", \"parameters\": [\"10.1105\", \"13.08\", \"3.7036\"], \"field_shape\": [\"16\", \"16\"]})"
      ]
     },
     "execution_count": 7,
     "metadata": {},
     "output_type": "execute_result"
    }
   ],
   "source": [
    "defect_spatial_continuation.plot()\n",
    "defect_spatial_continuation"
   ]
  },
  {
   "cell_type": "markdown",
   "metadata": {},
   "source": [
    "This can also be performed in time to the same domain size, in order to achieve the approximately same orbit."
   ]
  },
  {
   "cell_type": "code",
   "execution_count": 8,
   "metadata": {},
   "outputs": [
    {
     "data": {
      "text/plain": [
       "10.110505916382113"
      ]
     },
     "execution_count": 8,
     "metadata": {},
     "output_type": "execute_result"
    }
   ],
   "source": [
    "defect_spatial_continuation.T"
   ]
  },
  {
   "cell_type": "code",
   "execution_count": 9,
   "metadata": {},
   "outputs": [
    {
     "data": {
      "text/plain": [
       "{'T': False, 'L': False, 'S': False}"
      ]
     },
     "execution_count": 9,
     "metadata": {},
     "output_type": "execute_result"
    }
   ],
   "source": [
    "defect.constraints"
   ]
  },
  {
   "cell_type": "code",
   "execution_count": 10,
   "metadata": {
    "scrolled": false
   },
   "outputs": [
    {
     "name": "stdout",
     "output_type": "stream",
     "text": [
      "\n",
      "-------------------------------------------------------------------------------------------------\n",
      "Starting lstsq optimization\n",
      "Initial residual : 1.6511730398718558\n",
      "Target residual tolerance : 2.56e-07\n",
      "Maximum iteration number : 250\n",
      "Initial guess : RelativeOrbitKS({\"basis\": \"modes\", \"parameters\": [\"16.3596\", \"12.9352\", \"3.2401\"], \"field_shape\": [\"16\", \"16\"]})\n",
      "-------------------------------------------------------------------------------------------------\n",
      "###\n",
      "Converged. Exiting with residual 2.68313130292864e-12\n",
      "\n",
      "-------------------------------------------------------------------------------------------------\n",
      "Starting lstsq optimization\n",
      "Initial residual : 4.14890778261684\n",
      "Target residual tolerance : 2.56e-07\n",
      "Maximum iteration number : 250\n",
      "Initial guess : RelativeOrbitKS({\"basis\": \"modes\", \"parameters\": [\"10.1105\", \"13.0238\", \"3.3303\"], \"field_shape\": [\"16\", \"16\"]})\n",
      "-------------------------------------------------------------------------------------------------\n",
      "####\n",
      "Converged. Exiting with residual 1.855579585132304e-10\n"
     ]
    }
   ],
   "source": [
    "defect_temporal_continuation = dimension_continuation(defect, defect_spatial_continuation.T, step_size=8, axis=0,\n",
    "                                                      method='lstsq', verbose=True).orbit"
   ]
  },
  {
   "cell_type": "code",
   "execution_count": 11,
   "metadata": {
    "scrolled": false
   },
   "outputs": [
    {
     "data": {
      "image/png": "[encoded data removed]",
      "text/plain": [
       "<Figure size 65.3205x54.5462 with 2 Axes>"
      ]
     },
     "metadata": {
      "needs_background": "light"
     },
     "output_type": "display_data"
    }
   ],
   "source": [
    "defect_temporal_continuation.plot()"
   ]
  },
  {
   "cell_type": "markdown",
   "metadata": {},
   "source": [
    "It can also be useful to rediscretize and converge the result; this is accessible through ```discretization_continuation```;\n",
    "provide the new field_shape and then the function will try to increment the discretization size by the specified amount;\n",
    "the routine will always reshape in the most optimized manner, i.e. the smallest dimensions first.\n",
    "\n",
    "if going from (16, 16)-> (32, 64), the shape goes to (16, 64) and then (32, 64) unless `cycle=True`, at which point discretization will cycle through the axes in order specified by the user via `axes_order` keyword argument.\n",
    "\n",
    "For example: `axes_order=(1, 0)`, `initial_shape = (16, 16)`, `target_shape = (32, 64)` would rediscretize in sequence\n",
    "(16, 18)->(18,18)->(18,20)-> ... -> (32, 64)\n",
    "\n",
    "If, of course, the increment is specified to be 2 in each dimension."
   ]
  },
  {
   "cell_type": "code",
   "execution_count": 12,
   "metadata": {},
   "outputs": [
    {
     "name": "stdout",
     "output_type": "stream",
     "text": [
      "\n",
      "-------------------------------------------------------------------------------------------------\n",
      "Starting adjoint descent\n",
      "Initial residual : 0.11133567034669802\n",
      "Target residual tolerance : 2.8800000000000004e-07\n",
      "Maximum iteration number : 4608\n",
      "Initial guess : RelativeOrbitKS({\"basis\": \"modes\", \"parameters\": [\"10.1105\", \"13.08\", \"3.7036\"], \"field_shape\": [\"16\", \"18\"]})\n",
      "-------------------------------------------------------------------------------------------------\n",
      "\n",
      "Converged. Exiting with residual 4.556904046919726e-07\n",
      "\n",
      "-------------------------------------------------------------------------------------------------\n",
      "Starting adjoint descent\n",
      "Initial residual : 1.901436568879923e-06\n",
      "Target residual tolerance : 3.2400000000000004e-07\n",
      "Maximum iteration number : 5184\n",
      "Initial guess : RelativeOrbitKS({\"basis\": \"modes\", \"parameters\": [\"10.1105\", \"13.08\", \"3.7036\"], \"field_shape\": [\"18\", \"18\"]})\n",
      "-------------------------------------------------------------------------------------------------\n",
      "\n",
      "Converged. Exiting with residual 5.55664030305881e-07\n",
      "\n",
      "-------------------------------------------------------------------------------------------------\n",
      "Starting adjoint descent\n",
      "Initial residual : 0.013565548800642813\n",
      "Target residual tolerance : 3.6000000000000005e-07\n",
      "Maximum iteration number : 5760\n",
      "Initial guess : RelativeOrbitKS({\"basis\": \"modes\", \"parameters\": [\"10.1105\", \"13.08\", \"3.7036\"], \"field_shape\": [\"18\", \"20\"]})\n",
      "-------------------------------------------------------------------------------------------------\n",
      "\n",
      "Converged. Exiting with residual 5.125800870015198e-07\n",
      "\n",
      "-------------------------------------------------------------------------------------------------\n",
      "Starting adjoint descent\n",
      "Initial residual : 6.37959957347707e-07\n",
      "Target residual tolerance : 4.0000000000000003e-07\n",
      "Maximum iteration number : 6400\n",
      "Initial guess : RelativeOrbitKS({\"basis\": \"modes\", \"parameters\": [\"10.1105\", \"13.08\", \"3.7036\"], \"field_shape\": [\"20\", \"20\"]})\n",
      "-------------------------------------------------------------------------------------------------\n",
      "\n",
      "Converged. Exiting with residual 6.331949287637575e-07\n",
      "\n",
      "-------------------------------------------------------------------------------------------------\n",
      "Starting adjoint descent\n",
      "Initial residual : 0.0013899092106121908\n",
      "Target residual tolerance : 4.4e-07\n",
      "Maximum iteration number : 7040\n",
      "Initial guess : RelativeOrbitKS({\"basis\": \"modes\", \"parameters\": [\"10.1105\", \"13.08\", \"3.7036\"], \"field_shape\": [\"20\", \"22\"]})\n",
      "-------------------------------------------------------------------------------------------------\n",
      "\n",
      "Converged. Exiting with residual 0.0008663821889334986\n",
      "\n",
      "-------------------------------------------------------------------------------------------------\n",
      "Starting adjoint descent\n",
      "Initial residual : 0.0009530233063959465\n",
      "Target residual tolerance : 4.84e-07\n",
      "Maximum iteration number : 7744\n",
      "Initial guess : RelativeOrbitKS({\"basis\": \"modes\", \"parameters\": [\"10.1105\", \"13.08\", \"3.7036\"], \"field_shape\": [\"22\", \"22\"]})\n",
      "-------------------------------------------------------------------------------------------------\n",
      "\n",
      "Converged. Exiting with residual 4.904936868835521e-07\n",
      "\n",
      "-------------------------------------------------------------------------------------------------\n",
      "Starting adjoint descent\n",
      "Initial residual : 0.000126192115788427\n",
      "Target residual tolerance : 5.280000000000001e-07\n",
      "Maximum iteration number : 8448\n",
      "Initial guess : RelativeOrbitKS({\"basis\": \"modes\", \"parameters\": [\"10.1105\", \"13.08\", \"3.7036\"], \"field_shape\": [\"22\", \"24\"]})\n",
      "-------------------------------------------------------------------------------------------------\n",
      "\n",
      "Converged. Exiting with residual 5.545170550155367e-07\n",
      "\n",
      "-------------------------------------------------------------------------------------------------\n",
      "Starting adjoint descent\n",
      "Initial residual : 6.050327713477801e-07\n",
      "Target residual tolerance : 5.760000000000001e-07\n",
      "Maximum iteration number : 9216\n",
      "Initial guess : RelativeOrbitKS({\"basis\": \"modes\", \"parameters\": [\"10.1105\", \"13.08\", \"3.7036\"], \"field_shape\": [\"24\", \"24\"]})\n",
      "-------------------------------------------------------------------------------------------------\n",
      "\n",
      "Converged. Exiting with residual 5.785117692572891e-07\n"
     ]
    }
   ],
   "source": [
    "x = discretization_continuation(defect_temporal_continuation, (24, 24), step_sizes=(2,2), cycle=True, verbose=True)"
   ]
  },
  {
   "cell_type": "code",
   "execution_count": null,
   "metadata": {},
   "outputs": [],
   "source": []
  },
  {
   "cell_type": "code",
   "execution_count": 13,
   "metadata": {},
   "outputs": [
    {
     "data": {
      "image/png": "[encoded data removed]",
      "text/plain": [
       "<Figure size 65.3205x54.5462 with 2 Axes>"
      ]
     },
     "metadata": {
      "needs_background": "light"
     },
     "output_type": "display_data"
    }
   ],
   "source": [
    "x.orbit.plot()"
   ]
  },
  {
   "cell_type": "markdown",
   "metadata": {},
   "source": [
    "This is also automated through the ```span_family``` function. This function requires bounds, step_sizes, and the orbit to serve as the \"root\" of the branches."
   ]
  },
  {
   "cell_type": "code",
   "execution_count": null,
   "metadata": {},
   "outputs": [],
   "source": [
    "keys = tuple(['defect', 'larger_defect', 'streak', 'wiggle'])\n",
    "# keys = tuple(['streak', 'wiggle'])\n",
    "names = tuple(['/default/'+k for k in keys])\n",
    "root_orbits = read_tileset('../../data/ks/tiles.h5', keys, names)\n",
    "\n",
    "drifter = continuation(root_orbits['defect'].transform(to='modes').resize(32, 32), {'x':13.2}, verbose=False, method='lstsq')\n",
    "root_orbits['drifter']=drifter\n",
    "\n",
    "root_orbits['larger_defect'].transform(to='modes')\n",
    "\n",
    "keys = tuple(['defect', 'larger_defect', 'streak', 'wiggle'])\n",
    "# keys = tuple(['streak', 'wiggle'])\n",
    "names = tuple(['/default/'+k for k in keys])\n",
    "root_orbits = read_tileset('../../data/ks/tiles.h5', keys, names)\n",
    "orb = hunt(root_orbits['larger_defect'].transform(to='modes').resize(32, 32), method='lstsq').orbit\n",
    "bounds = {'x': (orb.x-0.5, orb.x+0.5)}\n",
    "step_sizes = {'x': 0.001}\n",
    "span_family(orb, bounds=bounds, step_sizes=step_sizes,\n",
    "            verbose=True, method='hybrid', hybrid_tol=(1e-9, 1e-9), filename='larger_defect.h5')\n",
    "\n",
    "for root in root_orbits:\n",
    "    orb = root_orbits[root].transform(to='modes').resize(16, 16)\n",
    "    bounds = {'t': (orb.t-2, orb.t+2), 'x': (orb.x-1, orb.x+1)}\n",
    "    step_sizes = {'t': 0.1, 'x': 0.02}\n",
    "    span_family(orb, bounds=bounds, step_sizes=step_sizes,\n",
    "                verbose=True, method='hybrid', hybrid_tol=(1e-2, 1e-5), filename='covering.h5', groupname=root, h5mode='a')\n",
    "\n",
    "import orbithunter.ks.physics as ks\n",
    "covering_orbits = read_h5('../../data/local/covering.h5')\n",
    "for i in range(len(covering_orbits)):\n",
    "    covering_orbits[i] = sorted(covering_orbits[i], key=lambda x : x.x)\n",
    "    \n",
    "small_covering = [covering_orbits[0][62], covering_orbits[0][67],\n",
    "                  covering_orbits[2][30], covering_orbits[-1][45]]\n",
    "\n",
    "for i in range(len(small_covering)):\n",
    "    small_covering[i] = hunt(small_covering[i].resize(32,32),verbose=True, method='lstsq').orbit\n",
    "    print(small_covering[i] .discretization, small_covering[i].residual())\n",
    "    small_covering[i].plot()\n",
    "\n",
    "small_covering_names = ['defect', 'smeared_defect', 'wide_defect', 'wiggle']\n",
    "for n, x in zip(small_covering_names, small_covering):\n",
    "    x.to_h5(filename='small_covering.h5', verbose=True, dataname=n, h5mode='a')\n",
    "\n",
    "small_covering = read_h5('small_covering.h5')\n",
    "\n",
    "for x in small_covering:\n",
    "    x.plot()\n",
    "\n",
    "To get the most \"accurate\" possible results for the statistics, make sure that each trajectory window has approximately\n",
    "the same grid spacing as the windows. \n",
    "\n",
    "integrated_trajectory_segment = read_h5('large_trajectories.h5', '/1319/').resize(512, 512)\n",
    "\n",
    "for i in range(1):\n",
    "    integrated_trajectory_tmp = ks.physics.integrate(integrated_trajectory_segment, integration_time=500, verbose=True,\n",
    "                                              starting_point=0, step_size=0.25, return_trajectory=False)\n",
    "    print('          ', end='')\n",
    "    integrated_trajectory_segment = ks.physics.integrate(integrated_trajectory_tmp, integration_time=500, verbose=True,\n",
    "                                              starting_point=0, step_size=0.25, return_trajectory=True)\n",
    "    print('')\n",
    "    tmp = integrated_trajectory_segment.resize(512, 512).transform(to='field')\n",
    "    tmp.to_h5('large_trajectories.h5', verbose=True)\n",
    "#     print('#',end='')\n",
    "#     if i % 50 == 0 and i != 0:\n",
    "#         print('#')\n",
    "#     for gname, o in zip(small_covering_names, small_covering):\n",
    "#         dt = integrated_trajectory_segment.t / 512\n",
    "#         dx = integrated_trajectory_segment.x / 512\n",
    "#         tspan, xspan = 2*(int(o.t/dt)//2), 2*(int(o.x/dx)//2)\n",
    "#         t, x = np.random.choice(np.arange(512-tspan)), np.random.choice(np.arange(512-xspan))\n",
    "#         state = tmp.state[t:t+tspan, x:x+xspan]\n",
    "#         tmp_orbit = OrbitKS(state=state, parameters=(tspan*dt, xspan*dx), basis='field')\n",
    "#         tmp_orbit.to_h5(filename='trajectory_windows.h5', groupname=gname, verbose=False)\n",
    "\n",
    "Produce and save the (large) number of data sets to use for statistics gathering. Save every OTHER segment to (hopefully) take care of correlations. \n",
    "\n",
    "\n",
    "\n",
    "integrated_trajectory_segment = read_h5('../../data/local/thesis.h5', 'large/OrbitKS_large_tL').resize(512, 512)\n",
    "small_covering_names = ['defect', 'smeared_defect', 'wide_defect', 'wiggle']\n",
    "\n",
    "for i in range(1000):\n",
    "    integrated_trajectory_tmp = ks.integrate(integrated_trajectory_segment, integration_time=500, verbose=True,\n",
    "                                              starting_point=0, step_size=0.25, return_trajectory=False)\n",
    "    print('')\n",
    "    integrated_trajectory_segment = ks.integrate(integrated_trajectory_tmp, integration_time=500, verbose=True,\n",
    "                                              starting_point=0, step_size=0.25, return_trajectory=True)\n",
    "    print('')\n",
    "    tmp = integrated_trajectory_segment.resize(512, 512).transform(to='field')\n",
    "\n",
    "Window statistics. Would like to leverage the central limit theorem but diff members have diff distributions. \n",
    "\n",
    "id(OrbitKS)\n",
    "\n",
    "import orbithunter.ks as ks\n",
    "\n",
    "integrated_trajectory_segment.resize(512, 512)\n",
    "\n",
    "base = integrated_trajectory_segment.copy()\n",
    "\n",
    "strides = (1, 1)\n",
    "group_orbit_masks = []\n",
    "covering_scores = []\n",
    "\n",
    "window = small_covering[0].resize(16, 16).transform(to='field')\n",
    "group_orbit_scores = []\n",
    "for g in window.group_orbit():\n",
    "    print('#', end='')\n",
    "    scores = scan(base, g, strides=(4, 4))\n",
    "    group_orbit_scores.append(scores)\n",
    "covering_scores = np.array(group_orbit_scores)#.reshape()\n",
    "\n",
    "plt.hist(covering_scores.ravel(), bins=100)\n",
    "plt.show()\n",
    "\n",
    "See if these scores seem like they come from the same distribution. \n",
    "\n",
    "statistics = []\n",
    "for i in range(len(num_large_trajectories)):\n",
    "    # While I would rather iterate over fpo's as the outer loop, that would result in 4 times as many loadings.\n",
    "    integrated_trajectory_segment = read_h5('large_trajectories.h5', str(i))\n",
    "    statistics_per_fpo = []\n",
    "    for fpo in small_covering:\n",
    "        group_orbit_statistics = []\n",
    "        dt = integrated_trajectory_segment.t / 512\n",
    "        dx = integrated_trajectory_segment.x / 512\n",
    "        tspan, xspan = 2*(int(o.t/dt)//2), 2*(int(o.x/dx)//2)\n",
    "        t, x = np.random.choice(np.arange(512-tspan)), np.random.choice(np.arange(512-xspan))\n",
    "        state = tmp.state[t:t+tspan, x:x+xspan]\n",
    "        tmp_orbit = OrbitKS(state=state, parameters=(tspan*dt, xspan*dx), basis='field')\n",
    "        for g_fpo in fpo.group_orbit():\n",
    "            amp_difference = (tmp_orbit**2 - fpo**2).norm()\n",
    "            group_orbit_statistics.append(amp_difference)\n",
    "        statistics_per_fpo.append(group_orbit_statistics)\n",
    "    statistics.append(statistics_per_fpo)\n",
    "\n",
    "\n",
    "In order to get well-defined values to threshold with, develop distributions of the scoring statistic\n",
    "for the covering orbits evaluated \"randomly\" along a large spatiotemporal trajectory. I.e. many correlation lengths\n",
    "apart. To do this, integrate and then evaluate the scoring metric at a single position, then continue. This ensures the evaluations are very far apart.\n",
    "\n",
    "# defect_large = read_h5('../../data/local/thesis.h5', 'families/defect_large_family_member').transform(to='modes')\n",
    "# large_defect_minus_result = discretization_continuation(defect_large, (16, 16),\n",
    "#                                                         cycle=True, method='lstsq', verbose=True)\n",
    "# large_defect_minus_result.status = 1\n",
    "# group_orbit_generator = large_defect_minus_result.orbit.group_orbit()\n",
    "# try:\n",
    "#     i = 1\n",
    "#     while large_defect_minus_result.status != -1 and group_orbit_generator:\n",
    "#         nxt_orbit = next(group_orbit_generator)\n",
    "#         print('{}th group orbit member'.format(i))\n",
    "#         large_defect_minus_result = continuation(nxt_orbit.transform(to='modes'), nxt_orbit.t-5, 't',\n",
    "#                                                  verbose=False, step_size=-0.01, method='lstsq', tol=1e-6,\n",
    "#                                                  filename='../../data/local/covering.h5')\n",
    "#         i+=1\n",
    "# except StopIteration:\n",
    "#     print('group orbit exhausted before continuation target met.')\n",
    "# large_defect_minus_result.orbit.plot()"
   ]
  }
 ],
 "metadata": {
  "kernelspec": {
   "display_name": "Python 3",
   "language": "python",
   "name": "python3"
  },
  "language_info": {
   "codemirror_mode": {
    "name": "ipython",
    "version": 3
   },
   "file_extension": ".py",
   "mimetype": "text/x-python",
   "name": "python",
   "nbconvert_exporter": "python",
   "pygments_lexer": "ipython3",
   "version": "3.7.6"
  }
 },
 "nbformat": 4,
 "nbformat_minor": 4
}
