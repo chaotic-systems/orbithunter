{
 "cells": [
  {
   "cell_type": "code",
   "execution_count": 1,
   "metadata": {},
   "outputs": [],
   "source": [
    "import os\n",
    "import sys\n",
    "sys.path.insert(0, \"C:\\\\Users\\\\Matt\\\\Desktop\\\\orbithunter\\\\\")\n",
    "import orbithunter as oh\n",
    "import numpy as np\n",
    "import itertools\n",
    "import time\n",
    "import matplotlib.pyplot as plt\n",
    "from math import pi"
   ]
  },
  {
   "cell_type": "markdown",
   "metadata": {},
   "source": [
    "# Table of contents\n",
    "<a id='toc'></a>\n",
    "\n",
    "## [1. Overview: Why orbithunter?](#intro)\n",
    "    Why and when you should use orbithunter. \n",
    "\n",
    "# [2. Examples with the Kuramoto-Sivashinsky Equation](#KSE)\n",
    "    Demonstrations of utilities using a specific equation\n",
    "\n",
    "## [2.1 Initialization](#init)\n",
    "    How to initialize an Orbit with no prior information\n",
    "\n",
    "## [2.2 Orbit Hunting via Machine Learning (Numerical Optimization)](#hunt)\n",
    "    How to apply custom and SciPy's numerical methods to search for solutions\n",
    "\n",
    "## [2.3 Clipping: Extracting Subdomains](#clip)\n",
    "    Extracting spatiotemporal subdomains from larger Orbits\n",
    "\n",
    "## [2.4 Reading and Writing Orbit Data](#io)\n",
    "    Detecting orbits which manifest within others; the theoretical motivation behind this project.\n",
    "\n",
    "## [2.5 Gluing: Building Blocks of Turbulence](#glue)\n",
    "    Combining spatiotemporal configurations of orbits; using orbits as literal building blocks.\n",
    "\n",
    "## [2.6 Shadowing: Detecting Orbits in Other Orbits](#shadow)\n",
    "    Detecting orbits which manifest within others; the theoretical motivation behind this project.\n",
    "    \n",
    "# [Extras](#extras)\n",
    "\n",
    "## [E.1 Gudhi](#gudhi)\n",
    "    How to use orbits with Gudhi, persistent homology tools (if extra package requirements are satisfied)\n",
    "\n",
    "## [E.2 Keras](#keras)\n",
    "    How to use orbits with Keras (if extra package requirements are satisfied)\n",
    "\n",
    "    \n",
    "## [E.3 Technical notes from the author](#footnotes)\n",
    "    Comments on various portions of the notebooksfor a more technical audience\n"
   ]
  },
  {
   "cell_type": "markdown",
   "metadata": {},
   "source": [
    "# 1. Overview: Why orbithunter?\n",
    "\n",
    "<a id='intro'></a>\n",
    "\n",
    "## A terse non-technical explanation\n",
    "\n",
    "Certain equations are hard to solve for two reasons: 1. the number of variables, 2. the relations between those variables.\n",
    "In fact, for a certain class of equations, nonlinear equations, there are seldom any exact solutions; they must\n",
    "be solved using computers. In certain settings this is hard, even for computers to manage, and so new tools\n",
    "must be developed. Orbithunter offers itself as one of these tools. \n",
    "\n",
    "\n",
    "## How to do it\n",
    "\n",
    "By formulating turbulence as a space-time, variational formulation we can still find the same periodic orbits\n",
    "in the dynamical systems approach; however, spacetime affords us with new capabilities not seen elsewhere. such as:\n",
    "\n",
    "- The ability to find exponentially unstable solutions starting with modulated random noise\n",
    "- The ability to include spatiotemporal domain sizes to vary as free parameters; essentially allowing the equations to     determine the important scales (or \"learn\" in machine learning parlance). \n",
    "- The ability to cut and paste (quite literally) periodic orbits together in a manner that is both supported by theory\n",
    "  and also previously attempted in fluid dynamics research. "
   ]
  },
  {
   "cell_type": "markdown",
   "metadata": {},
   "source": [
    "# 2. Examples using the Spatiotemporal Kuramoto-Sivashinsky Equation\n",
    "**[Return to table of contents](#toc)**\n",
    "<a id='KSE'></a>"
   ]
  },
  {
   "cell_type": "markdown",
   "metadata": {},
   "source": [
    "## 2.1 Orbit Initialization\n",
    "\n",
    "**[Return to table of contents](#toc)**\n",
    "<a id='init'></a>\n",
    "\n",
    "Initial conditions can be easily initialized with random modulated noise by \n",
    "\n",
    "    1. Initialize an OrbitKS instance\n",
    "    2. Use the populate method to fill its parameters and state"
   ]
  },
  {
   "cell_type": "code",
   "execution_count": 5,
   "metadata": {
    "scrolled": false
   },
   "outputs": [
    {
     "data": {
      "image/png": "[encoded data removed]",
      "text/plain": [
       "<Figure size 171.699x18 with 2 Axes>"
      ]
     },
     "metadata": {
      "needs_background": "light"
     },
     "output_type": "display_data"
    },
    {
     "data": {
      "image/png": "[encoded data removed]",
      "text/plain": [
       "<Figure size 432x288 with 2 Axes>"
      ]
     },
     "metadata": {
      "needs_background": "light"
     },
     "output_type": "display_data"
    }
   ],
   "source": [
    "np.random.seed(99)\n",
    "orbit = oh.EquilibriumOrbitKS().populate(seed=99, attr='all',\n",
    "                              temporal_modulation='truncate')\n",
    "orbit.plot(padding=True)\n",
    "orbit.mode_plot()"
   ]
  },
  {
   "cell_type": "markdown",
   "metadata": {},
   "source": [
    "The plots correspond to the physical field and the spectrum of spatiotemporal Fourier modes populated by modulation\n",
    "via a specific choice out of a collection various strategies that are best left explained elsewhere. "
   ]
  },
  {
   "cell_type": "code",
   "execution_count": 3,
   "metadata": {},
   "outputs": [
    {
     "name": "stdout",
     "output_type": "stream",
     "text": [
      "The cost function before any numerical optimization is equal to 1.73008\n"
     ]
    }
   ],
   "source": [
    "res = orbit.cost()\n",
    "print(f\"The cost function before any numerical optimization is equal to {res:.5f}\")"
   ]
  },
  {
   "cell_type": "markdown",
   "metadata": {},
   "source": [
    "## 2.2 Orbit Hunting via Machine Learning (Numerical Optimization)\n",
    "\n",
    "**[Return to table of contents](#toc)**\n",
    "<a id='hunt'></a>\n",
    "\n",
    "Orbithunter offers high-level access to the SciPy ```optimize```, ```minimize``` and ```sparse.linalg``` solvers and\n",
    "more. This allows the user to not have to figure out the specific type of input, parse the output, or learn the more involved\n",
    "entities within SciPy. A soon as the user defines the methods\n",
    "which can compute their equations, and compute the matrix-vector products with its Jacobian and its adjoint (transpose or complex conjugate, they immediately have access to over ***40 numerical algorithms!!!***\n",
    "\n",
    "While numerical optimization is always available, finding a solution which constitutes an actual periodic orbit within\n",
    "a prescribed tolerance is never guaranteed. Let's apply some machine learning methods (numerical optimization of a cost function) to try to find a solution!"
   ]
  },
  {
   "cell_type": "code",
   "execution_count": null,
   "metadata": {},
   "outputs": [],
   "source": [
    "# Apply the hybrid method that was used as the primary method, historically. \n",
    "t0 = time.time_ns()/10**9\n",
    "hunting_result = oh.hunt(orbit, verbose=False, preconditioning=True, maxiter=100000, pexp=(1, 4))\n",
    "t1 = time.time_ns()/10**9\n",
    "print(f\"The numerical optimization took {t1-t0} seconds to complete {hunting_result.maxiter} adjoint descent steps\")"
   ]
  },
  {
   "cell_type": "markdown",
   "metadata": {},
   "source": [
    "While it took a couple minutes, the residual of the cost function was reduced from $\\mathcal{O}(10^{5})$ to $\\mathcal{O}(10^{-1})$ without much effort! The corresponding velocity field has begun to look more like a \"typical\" solution of the KSE."
   ]
  },
  {
   "cell_type": "code",
   "execution_count": null,
   "metadata": {},
   "outputs": [],
   "source": [
    "hunting_result.orbit.plot(padding=True)\n",
    "hunting_result.orbit.mode_plot()"
   ]
  },
  {
   "cell_type": "code",
   "execution_count": null,
   "metadata": {},
   "outputs": [],
   "source": [
    "# # Apply the hybrid method that was used as the primary method, historically.\n",
    "# t0 = time.time_ns()/10**9\n",
    "# hunting_result = hunt(orbit, methods=('adj', 'lstsq'), preconditioning=True, maxiter=[100000, 20], verbose=True)\n",
    "# t1 = time.time_ns()/10**9\n",
    "# print(f\"The numerical optimization took {t1-t0} seconds to complete {hunting_result.maxiter} adjoint descent steps\")"
   ]
  },
  {
   "cell_type": "markdown",
   "metadata": {},
   "source": [
    "## 2.3 Clipping: Extracting Subdomains\n",
    "\n",
    "**[Return to table of contents](#toc)**\n",
    "<a id='clip'></a>\n",
    "\n",
    "Numerical optimization is not the main contribution of orbithunter; in fact creating random initial conditions and finding solutions from them, while impressive (we boast) can be done in a much smarter method. \n",
    "\n",
    "The domains can be extracted either via the ```clip``` utility or via regular array slicing! The benefit of the\n",
    "more contrived ```clip``` is the ability to specify dimensions from the visualization as opposed to having to guess\n",
    "array indices; also, you can specify the ```Orbit``` type to return the result as by passing a type to the argument \n",
    "```clipping_type```, e.g. ```clipping_type=RelativeOrbitKS``` (note: type not instance)\n",
    "\n",
    "First however let us import a submodule that has an integration routine defined. "
   ]
  },
  {
   "cell_type": "code",
   "execution_count": null,
   "metadata": {},
   "outputs": [],
   "source": [
    "import orbithunter.ks.physics as ks"
   ]
  },
  {
   "cell_type": "code",
   "execution_count": null,
   "metadata": {},
   "outputs": [],
   "source": [
    "integrated_trajectory = oh.OrbitKS(parameters=(500, 500)).populate(attr='state', seed=0)\n",
    "# First only return the endpoint so memory is not allocated for the entire integrated trajectory. \n",
    "\n",
    "integrate_keywords = {'integration_time':1000, 'verbose':True,\n",
    "                                          'starting_point':0, 'step_size':0.25, 'return_trajectory':False}\n",
    "integrated_trajectory = ks.integrate(integrated_trajectory, **integrate_keywords)\n",
    "print('')\n",
    "# alternative handling of keyword arguments for example\n",
    "integrated_trajectory = ks.integrate(integrated_trajectory, integration_time=500, verbose=True,\n",
    "                                          starting_point=0, step_size=0.25, return_trajectory=True)"
   ]
  },
  {
   "cell_type": "code",
   "execution_count": null,
   "metadata": {},
   "outputs": [],
   "source": [
    "integrated_trajectory = integrated_trajectory.resize(1024,512)\n",
    "integrated_trajectory.plot(padding=False)"
   ]
  },
  {
   "cell_type": "markdown",
   "metadata": {},
   "source": [
    "Domains can be extracted either via the ```clip``` utility or via regular array slicing! The benefit of the\n",
    "more contrived ```clip``` is the ability to specify dimensions from the visualization as opposed to having to guess\n",
    "array indices; also, you can specify the ```Orbit``` type to return the result as by passing a type to the argument \n",
    "```clipping_type```, e.g. ```clipping_type=RelativeOrbitKS``` (note: type not instance)"
   ]
  },
  {
   "cell_type": "code",
   "execution_count": null,
   "metadata": {},
   "outputs": [],
   "source": [
    "sliced_subdomain = integrated_trajectory[-64:, :32]\n",
    "clipped_subdomain = oh.clip(integrated_trajectory, ((0, sliced_subdomain.t), (0, sliced_subdomain.x/(2*pi*np.sqrt(2)))))\n",
    "integrated_trajectory[-64:, :32].plot()\n",
    "clipped_subdomain.plot()"
   ]
  },
  {
   "cell_type": "markdown",
   "metadata": {},
   "source": [
    "Show that the clippings are in fact exactly the same by plotting the difference of the fields"
   ]
  },
  {
   "cell_type": "code",
   "execution_count": null,
   "metadata": {},
   "outputs": [],
   "source": [
    "(sliced_subdomain-clipped_subdomain).plot()"
   ]
  },
  {
   "cell_type": "markdown",
   "metadata": {},
   "source": [
    "These clippings can be used to find larger orbits, but first it would befit us to find the orbit that we claim\n",
    "these clippings shadow. "
   ]
  },
  {
   "cell_type": "code",
   "execution_count": null,
   "metadata": {},
   "outputs": [],
   "source": [
    "t0 = time.time_ns()/10**9\n",
    "methods=('adj', 'minres')\n",
    "clip_result = oh.hunt(clipped_subdomain.transform(to='modes').resize(32,32), maxiter=[200000, 50],\n",
    "                      methods=methods, preconditioning=True, verbose=True)\n",
    "t1 = time.time_ns()/10**9\n",
    "print(''.join([f\"Numerical optimization with methods={methods} took {t1-t0} seconds to compute {clip_result.nit}\"\n",
    "               f\" iterations and finished with residual {clip_result.orbit.cost()}.\"]))"
   ]
  },
  {
   "cell_type": "code",
   "execution_count": null,
   "metadata": {},
   "outputs": [],
   "source": [
    "clip_result.orbit.plot(padding=True)\n",
    "clip_result.orbit.mode_plot()"
   ]
  },
  {
   "cell_type": "markdown",
   "metadata": {},
   "source": [
    "The idea is \"simple\" instead of describing chaotic nonlinear pdes as\n",
    "exponentially unstable dynamical systems (initial value problem) it is instead treated as a $(D+1)$ dimensional boundary value problem. This work only uses variational methods; time integration is possible but it is in no way involved\n",
    "in the optimization or any other process."
   ]
  },
  {
   "cell_type": "markdown",
   "metadata": {},
   "source": [
    "## 2.4 Reading and Writing Orbit Data\n",
    "\n",
    "**[Return to table of contents](#toc)**\n",
    "<a id='io'></a>\n",
    "\n",
    "Before proceeding to the next section, using Orbits as the building blocks of turbulence, it is\n",
    "useful to read in saved Orbit data that corresponds to fully converged solutions (not a requirement for saving, of course).\n",
    "This is accomplished via Orbithunter high-level API which allows for quick and convenient importation using the ```h5py```\n",
    "package.\n",
    "\n",
    "All that the user must do is have previously saved an Orbit instance using its ```Orbit.to_h5()``` method.\n",
    "This essentially writes the state array as a h5py.Dataset and the Orbit's attributes as its attributes.\n",
    "To read in a single or multiple Orbits, all that is required is providing a filename and the names of h5py.Datasets \n",
    "(or h5py.Groups !) within the file."
   ]
  },
  {
   "cell_type": "code",
   "execution_count": null,
   "metadata": {},
   "outputs": [],
   "source": [
    "# provide dataset/group names as separate arguments or as tuple.\n",
    "imported_orbits = oh.read_h5('../data/ks/tiles.h5', \"default/double_streak\", \"default/defect\", \"default/double_streak\")\n",
    "imported_orbits"
   ]
  },
  {
   "cell_type": "markdown",
   "metadata": {},
   "source": [
    "For convenience, these can also be imported as a dictionary using the ```read_tileset``` function and provided keys along\n",
    "with the dataset names"
   ]
  },
  {
   "cell_type": "code",
   "execution_count": null,
   "metadata": {},
   "outputs": [],
   "source": [
    "# provide dataset/group and keys as tuples\n",
    "imported_orbit_dict = oh.read_tileset('../data/ks/tiles.h5', (0, 1, 2),\n",
    "                                      (\"default/double_streak\", \"default/defect\", \"default/wiggle\"))\n",
    "imported_orbit_dict"
   ]
  },
  {
   "cell_type": "markdown",
   "metadata": {},
   "source": [
    "A ```h5py.Group``` can be thought of as a folder/directory like structure which contains ```h5py.Dataset``` objects. If a mixture of group and dataset names are provided, an intuitive list is returned; elements corresponding to groups are themselves lists, single datasets are objects. I.e.\n",
    " "
   ]
  },
  {
   "cell_type": "code",
   "execution_count": null,
   "metadata": {},
   "outputs": [],
   "source": [
    "dataset_and_group_names = (\"default/double_streak\", \"default/\", \"default/double_streak\")\n",
    "[type(x) for x in oh.read_h5('../data/ks/tiles.h5', dataset_and_group_names)]"
   ]
  },
  {
   "cell_type": "markdown",
   "metadata": {},
   "source": [
    "## 2.5 Gluing: Building Blocks of Turbulence\n",
    "\n",
    "**[Return to table of contents](#toc)**\n",
    "<a id='glue'></a>\n",
    "\n",
    "One of the most impressive accomplishments is the ability to use ```Orbit```s as many have thought should be possible;\n",
    "as the building blocks of turbulence. Given a dictionary whose values are Orbits, we can translate arrays of keys into\n",
    "arrays of orbits, and then ```glue``` or ```tile``` those orbits together. \n"
   ]
  },
  {
   "cell_type": "code",
   "execution_count": null,
   "metadata": {},
   "outputs": [],
   "source": [
    "np.random.seed(5)\n",
    "symbol_array = (3*np.random.rand(3, 3)).astype(int)\n",
    "symbol_array"
   ]
  },
  {
   "cell_type": "markdown",
   "metadata": {},
   "source": [
    "The ```tile``` function simply acts as an interface for the ```glue``` function which accepts arrays of symbols as opposed to arrays of Orbits. Hopefully the correspondence between the symbol array (above) and its glued Orbit representation (below) can be seen."
   ]
  },
  {
   "cell_type": "code",
   "execution_count": null,
   "metadata": {},
   "outputs": [],
   "source": [
    "tiled_orbit = oh.tile(symbol_array, imported_orbit_dict, oh.RelativeOrbitKS)\n",
    "tiled_orbit.plot()"
   ]
  },
  {
   "cell_type": "markdown",
   "metadata": {},
   "source": [
    "What do we do with this? The most obvious use is to use it as an initial condition for an Orbit hunt."
   ]
  },
  {
   "cell_type": "code",
   "execution_count": null,
   "metadata": {},
   "outputs": [],
   "source": [
    "t0 = time.time_ns()/10**9\n",
    "tiled_hunt_result = oh.hunt(tiled_orbit.resize().transform(to='modes'), methods=('minres'), verbose=True)\n",
    "t1 = time.time_ns()/10**9\n",
    "print(''.join([f\"Numerical optimization with methods={methods} took {t1-t0} seconds to compute {clip_result.nit}\"\n",
    "               f\" iterations and finished with residual {clip_result.orbit.cost()}.\"]))"
   ]
  },
  {
   "cell_type": "code",
   "execution_count": null,
   "metadata": {},
   "outputs": [],
   "source": [
    "tiled_hunt_result.orbit.plot(padding=True)"
   ]
  },
  {
   "cell_type": "markdown",
   "metadata": {},
   "source": [
    "## 2.6 Shadowing: Detecting Orbits in Other Orbits\n",
    "\n",
    "**[Return to table of contents](#toc)**\n",
    "<a id='shadow'></a>\n",
    "\n",
    "One of the more involved computations is to search for the shadowing of smaller orbits within larger orbits. This\n",
    "component of orbithunter is still in flux due to how difficult it was to generalize to arbitrary shapes and geometries; I think I went slightly overboard with this part. \n",
    "\n",
    "The main utilities are ```shadow```, ```cover```, ```fill```. The main concepts/terminology needed to understand these\n",
    "functions are the following.\n",
    "\n",
    "**Base Orbit** : An Orbit or near Orbit that is of large spatiotemporal extent\n",
    "\n",
    "**Window** : A subdomain of spacetime; kernel of convolutional neural network for those with CNN experience.  \n",
    "\n",
    "**Window Orbit** : An Orbit whose state will be searched for in the base orbit.\n",
    "\n",
    "**Pivot** : \"Top left corner\" (first element, 0 along each axis) position of the window within the base orbit. Each window\n",
    "position is identified by its \"pivot\" and its \"span\" (dimensions). For example; a window with dimensions (32, 32, 32)\n",
    "at a pivot of (1, 2, 3) would have indices in the extent (range(1, 33), range(2, 34), range(3, 35)), before any boundary conditions are taken into account.  \n",
    "\n",
    "**Shadowing** : When an orbit appears as a subdomain within another, larger Orbit. Developed in periodic orbit theory.\n",
    "\n",
    "**Cover** : The process of using a collection of windows to find shadowing detections, with the hope that every region of spacetime contains a detection of an orbit. Each window is scores independently, unless replacement=False. \n",
    "\n",
    "**Fill** : Same as cover, except all windows are scored simultaneously. For each position, whichever window has the best score is recorded, creating an empirical distribution of the proportion of area covered by each window. "
   ]
  },
  {
   "cell_type": "markdown",
   "metadata": {},
   "source": [
    "The metric for detecting shadowing is a highly delicate/unknown problem still under investigation, as such, I made it so that it can be provided as a callable which can return anything that can bhe stored in a float dtype numpy array. \n",
    "Provided below are the sco"
   ]
  },
  {
   "cell_type": "code",
   "execution_count": null,
   "metadata": {},
   "outputs": [],
   "source": []
  },
  {
   "cell_type": "code",
   "execution_count": null,
   "metadata": {},
   "outputs": [],
   "source": [
    "def catmap(coordinates, **kwargs):\n",
    "    return np.concatenate(tuple(coord[np.where(image==0)].reshape(1,-1) for coord in coordinates))\n",
    "\n",
    "from orbithunter.shadowing import _pad_orbit_with_hull\n",
    "base = oh.read_h5('./local/small_patches.h5', '0')\n",
    "hull = (32, 32)\n",
    "periodicity=(False, False)\n",
    "mask = np.ones(_pad_orbit_with_hull(base, hull, periodicity).shape,dtype=bool)\n",
    "mask = (1000*np.random.rand(*mask.shape)).astype(int).astype(bool)\n",
    "# mask[63, 63]=False\n",
    "plt.imshow(mask)\n",
    "\n",
    "t0l2=time.time_ns()/10**9\n",
    "joke_cover = oh.cover(base, imported_orbits[-1:],[10**9], \n",
    "                               replacement=False,\n",
    "                               min_overlap = 1,\n",
    "                               base_orbit_periodicity=(False, False),\n",
    "                               coordinate_map=catmap,\n",
    "                               mask=mask,\n",
    "                               return_type='all',\n",
    "                               verbose=True)\n",
    "t1l2=time.time_ns()/10**9\n",
    "print('\\ndefault metric covering took {:.2f} seconds to complete'.format(t1l2-t0l2))\n",
    "\n",
    "joke = OrbitKS(**{**vars(base), 'state':joke_cover[2].min(axis=0)})\n",
    "base.mask(joke_cover[3].any(axis=0), invert=True).plot(figsize=(14, 14), filename='cat_map.pdf')"
   ]
  },
  {
   "cell_type": "markdown",
   "metadata": {},
   "source": [
    "Likewise, it is often the case that \"odd\" geometries; those which do not mimic n-dimensional arrays, are shadowed. For example,\n",
    "would be advection occurring in fluid flow; an orbit may be shadowed while the mean flow carries the coherent shape down the pipe, for example.  "
   ]
  },
  {
   "cell_type": "markdown",
   "metadata": {},
   "source": [
    "# Extra comments\n",
    "**[Return to table of contents](#toc)**\n",
    "<a id='extras'></a>\n",
    "\n",
    "## [E.1 Gudhi](#gudhi)\n",
    "    How to use orbits with Gudhi, persistent homology tools (if extra package requirements are satisfied)\n",
    "\n",
    "## [E.2 Keras](#keras)\n",
    "    How to use orbits with Keras (if extra package requirements are satisfied)\n",
    "\n",
    "## Terse technical explanations\n",
    "\n",
    "One of the main focuses of nonlinear dynamics and chaos research is the phenomenon of turbulence;\n",
    "often synonymous with the Navier-Stokes equation. In the past twenty or so years, computational advances\n",
    "have allowed for more advanced numerical experiments and investigations, each of which hoping to illuminate\n",
    "the dark depths of the phenomenon of turbulence. \n",
    "\n",
    "Simulations of fluid flow have been used extensively in control and design problems e.g. airplane wings.\n",
    "However, to get a general description of turbulence, one that is not bound to specific geometrical boundary conditions,\n",
    "a more fundamental explanation is needed.\n",
    "\n",
    "The nonlinear dynamicist's approach was to put turbulence under a microscope, looking at the minimal contains\n",
    "required to sustain it. Naturally these computations began with \"minimal cells\"; computational domains large enough to sustain\n",
    "turbulence yet remain computationally tractable; this might be smaller than you might imagine, representing\n",
    "only small segments of pipe or plane Couette flow. By abstractifying fluid flow as a traversal of a\n",
    "high dimensional space (technically infinite), periodic orbit theory was used to show that special solutions,\n",
    "those which manifest as time invariant sets, shape the geometry of the state-space by virtue of their stable\n",
    "and unstable manifolds. The instabilities, exponential in nature, prevent any long time prediction and are\n",
    "the main instigator in all of this. \n",
    "\n",
    "We can avoid these exponential instabilities by transforming our exponentially unstable initial value problem into\n",
    "a variational, dynamics-less boundary value problem; by the conceptual migration to spacetime. This formulates\n",
    "PDEs as systems of differential algebraic equations, instead.\n",
    "\n",
    "This walkthrough demonstrates the user friendliness of the orbithunter package as well as its utility in finding unstable periodic orbits of the Kuramoto-Sivashinsky equation. \n",
    "\n",
    "These solutions, or initial conditions with which to find solutions, are represented via Python class objects using object oriented programming. Different solutions have different symemtries, which manifest naturally as subclasses. \n",
    "These ``Orbit`` objects, the basis of ``orbithunter`` are designed to give high-level access to a complex, scientific API. \n",
    "\n",
    "The Orbithunter package currently only supports one equation, however, the [Developer Guide](https://orbithunter.readthedocs.io/en/latest/guide.html) offered on the readthedocs site provides template for\n",
    "how to implement different equations; the lion's share of the work corresponds to implementing the following numerical methods.\n",
    "\n",
    "\n",
    "## On hunting\n",
    "\n",
    "A great example of the instant-access property is in the usage of SciPy's ```sparse.linalg``` solvers. These solvers typically take either a Matrix (2d-array) or one of SciPy's ```LinearOperator``` objects. The benefit of using the ```LinearOperator``` objects is that\n",
    "functions for matrix-vector products can be passed instead of matrices themselves; saving tons of memory. However, with nonlinear equations these matrices will typically depend on the state itself; meaning that the LinearOperator has to be\n",
    "updated after everycorrection. \n",
    "\n",
    "Orbithunter handles literally all of this within its ```hunt``` function. Therefore, as soon as the user defines the methods\n",
    "which can compute their equations, and compute the matrix-vector products with its Jacobian and its adjoint (transpose or complex conjugate, they immediately have access to over ***40 numerical algorithms!!!***\n",
    "\n",
    "I personally like watching output be printed/monitoring the process and so I typically choose ```verbose=True```.\n",
    "The default numerical method is ```methods='adj'```, one reason for it being the default is that it has access\n",
    "to the ```preconditioning=True``` keyword argument; it is rescaling the components of the gradient to account for very\n",
    "stiff linear terms; this includes the changes to domain size, which are rescaled according to \n",
    "\n",
    "$\\Delta P / P_{\\small{\\text{current}}}^{k}$\n",
    "\n",
    "One of the revolutionary abilities of this code is that the domain size is allowed to change, however this must be done\n",
    "within reason. When starting with random initial conditions and using spectral methods very often the optimization will result in the dimensions $d_i\\to\\infty$; because the derivatives are inversely proportional to dimension via frequencies $\\frac{2\\pi n}{d}$"
   ]
  },
  {
   "cell_type": "code",
   "execution_count": null,
   "metadata": {},
   "outputs": [],
   "source": []
  }
 ],
 "metadata": {
  "kernelspec": {
   "display_name": "Python 3",
   "language": "python",
   "name": "python3"
  },
  "language_info": {
   "codemirror_mode": {
    "name": "ipython",
    "version": 3
   },
   "file_extension": ".py",
   "mimetype": "text/x-python",
   "name": "python",
   "nbconvert_exporter": "python",
   "pygments_lexer": "ipython3",
   "version": "3.7.6"
  }
 },
 "nbformat": 4,
 "nbformat_minor": 4
}
