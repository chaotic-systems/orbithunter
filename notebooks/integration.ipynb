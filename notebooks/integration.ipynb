{
 "cells": [
  {
   "cell_type": "code",
   "execution_count": 1,
   "metadata": {},
   "outputs": [],
   "source": [
    "from __future__ import print_function, division, absolute_import\n",
    "import os\n",
    "import sys\n",
    "sys.path.insert(0, \"C:\\\\Users\\\\Matt\\\\Desktop\\\\orbithunter\\\\\")\n",
    "from orbithunter import *\n",
    "import numpy as np\n",
    "# from scipy.fft import irfft,rfft,rfftn,irfftn,fftn,ifftn,fft,ifft,fft2,rfft2\n",
    "import itertools\n",
    "from math import pi\n",
    "# from orbithunter.glue import *\n",
    "import matplotlib.pyplot as plt\n",
    "from scipy.fft import rfft, irfft\n",
    "from functools import lru_cache\n",
    "from orbithunter.arrayops import swap_modes\n",
    "%matplotlib inline\n",
    "\n",
    "import time"
   ]
  },
  {
   "cell_type": "code",
   "execution_count": 2,
   "metadata": {},
   "outputs": [],
   "source": [
    "orbit = read_h5(\"C:\\\\Users\\\\Matt\\\\Desktop\\\\orbithunter_test_data\\\\none_000_021.h5\", data_format='kstori', state_type='field')"
   ]
  },
  {
   "cell_type": "code",
   "execution_count": 27,
   "metadata": {},
   "outputs": [],
   "source": [
    "int_orbit = orbit.__class__(state=orbit.state[-1,:].reshape(1,-1), state_type=orbit.state_type,\n",
    "                            T=orbit.T, L=orbit.L, S=orbit.S).convert(to='s_modes')"
   ]
  },
  {
   "cell_type": "code",
   "execution_count": 5,
   "metadata": {},
   "outputs": [],
   "source": [
    "def dx_spatial_modes(self, power=1):\n",
    "    modes = self.convert(to='s_modes').state\n",
    "    # Elementwise multiplication of modes with frequencies, this is the derivative.\n",
    "    dxn_modes = np.multiply(self.elementwise_dxn(self.parameters, power=power), modes)\n",
    "\n",
    "    # If the order of the differentiation is odd, need to swap imaginary and real components.\n",
    "    if np.mod(power, 2):\n",
    "        dxn_modes = swap_modes(dxn_modes, dimension='space')\n",
    "\n",
    "    return self.__class__(state=dxn_modes, state_type='s_modes', T=self.T, L=self.L)"
   ]
  },
  {
   "cell_type": "code",
   "execution_count": 32,
   "metadata": {},
   "outputs": [
    {
     "data": {
      "text/plain": [
       "array([[ 0.04840059],\n",
       "       [ 0.16238818],\n",
       "       [ 0.2483203 ],\n",
       "       [ 0.15012615],\n",
       "       [-0.35069341],\n",
       "       [-1.53506582],\n",
       "       [-3.74634685]])"
      ]
     },
     "execution_count": 32,
     "metadata": {},
     "output_type": "execute_result"
    }
   ],
   "source": [
    "(int_orbit.wave_vector(int_orbit.parameters, power=2) - int_orbit.wave_vector(int_orbit.parameters, power=4)).reshape(-1,1)"
   ]
  },
  {
   "cell_type": "code",
   "execution_count": 37,
   "metadata": {},
   "outputs": [
    {
     "data": {
      "text/plain": [
       "array([[ 0.04840059,  0.16238818,  0.2483203 ,  0.15012615, -0.35069341,\n",
       "        -1.53506582, -3.74634685,  0.04840059,  0.16238818,  0.2483203 ,\n",
       "         0.15012615, -0.35069341, -1.53506582, -3.74634685]])"
      ]
     },
     "execution_count": 37,
     "metadata": {},
     "output_type": "execute_result"
    }
   ],
   "source": []
  },
  {
   "cell_type": "code",
   "execution_count": 29,
   "metadata": {},
   "outputs": [
    {
     "data": {
      "text/plain": [
       "array([[ 0.04840059],\n",
       "       [ 0.16238818],\n",
       "       [ 0.2483203 ],\n",
       "       [ 0.15012615],\n",
       "       [-0.35069341],\n",
       "       [-1.53506582],\n",
       "       [-3.74634685],\n",
       "       [ 0.04840059],\n",
       "       [ 0.16238818],\n",
       "       [ 0.2483203 ],\n",
       "       [ 0.15012615],\n",
       "       [-0.35069341],\n",
       "       [-1.53506582],\n",
       "       [-3.74634685]])"
      ]
     },
     "execution_count": 29,
     "metadata": {},
     "output_type": "execute_result"
    }
   ],
   "source": [
    "-1*int_orbit.jac_lin().diagonal().reshape(-1,1)"
   ]
  },
  {
   "cell_type": "markdown",
   "metadata": {},
   "source": [
    "# original beneath this"
   ]
  },
  {
   "cell_type": "code",
   "execution_count": null,
   "metadata": {},
   "outputs": [],
   "source": [
    "tmax = T\n",
    "nmax = int(tmax/h)\n",
    "g = -0.5j*k\n",
    "uu = np.zeros([M,nmax],float)\n",
    "tt = np.zeros([nmax,1],float)\n",
    "vv = np.zeros([M,nmax],complex)\n",
    "uu[0:M,0] = u[0:M,0]\n",
    "vv[0:M,0]= v[0:M,0]\n",
    "\n",
    "for step in range(0,nmax):\n",
    "    t = step*h\n",
    "    Nv = g*fft(np.real(ifft(v, axis=0)*np.sqrt(M))**2,axis=0) / np.sqrt(M)\n",
    "    a = E2*v + Q*Nv\n",
    "    Na = g*fft(np.real(ifft(a, axis=0)*np.sqrt(M))**2,axis=0) / np.sqrt(M)\n",
    "    b = E2*v + Q*Na\n",
    "    Nb = g*fft(np.real(ifft(b, axis=0)*np.sqrt(M))**2,axis=0) / np.sqrt(M)\n",
    "    c = E2*a + Q*(2.0*Nb-Nv)\n",
    "    Nc = g*fft(np.real(ifft(c, axis=0)*np.sqrt(M))**2,axis=0) / np.sqrt(M)\n",
    "    v = E*v + Nv*f1 + 2.0*(Na+Nb)*f2 + Nc*f3\n",
    "    v[0] = 0\n",
    "    v[int(M // 2)] = 0\n",
    "    u = np.sqrt(M)*np.real(ifft(v,axis=0))\n",
    "    uu[0:M,step] = u[0:M,0]\n",
    "    tt[step] = t\n",
    "    if np.mod(step,3000)==0:\n",
    "        print(t)\n",
    "uu = np.flipud(uu.transpose())\n",
    "# vv = np.flipud(vv.transpose())\n",
    "# plt.figure()\n",
    "# plt.imshow(uu,cmap='jet')\n",
    "# plt.show()\n",
    "orbit_tmp = (uu,nstp,M,T,L,S)\n",
    "orbit = orbit_init.relevant_symmetry_operation(orbit_tmp,symmetry=symmetry)"
   ]
  }
 ],
 "metadata": {
  "kernelspec": {
   "display_name": "Python 3",
   "language": "python",
   "name": "python3"
  },
  "language_info": {
   "codemirror_mode": {
    "name": "ipython",
    "version": 3
   },
   "file_extension": ".py",
   "mimetype": "text/x-python",
   "name": "python",
   "nbconvert_exporter": "python",
   "pygments_lexer": "ipython3",
   "version": "3.7.6"
  }
 },
 "nbformat": 4,
 "nbformat_minor": 4
}
