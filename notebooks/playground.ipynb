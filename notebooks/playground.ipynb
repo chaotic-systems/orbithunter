{
 "cells": [
  {
   "cell_type": "markdown",
   "metadata": {},
   "source": [
    "# New code version"
   ]
  },
  {
   "cell_type": "code",
   "execution_count": 1,
   "metadata": {},
   "outputs": [],
   "source": [
    "from __future__ import print_function, division, absolute_import\n",
    "import os\n",
    "import sys\n",
    "sys.path.insert(0, \"C:\\\\Users\\\\Matt\\\\Desktop\\\\orbithunter\\\\\")\n",
    "from orbithunter import *\n",
    "import numpy as np\n",
    "# from scipy.fft import irfft,rfft,rfftn,irfftn,fftn,ifftn,fft,ifft,fft2,rfft2\n",
    "import itertools\n",
    "from math import pi\n",
    "# from orbithunter.glue import *\n",
    "import matplotlib.pyplot as plt\n",
    "from scipy.fft import rfft, irfft\n",
    "from functools import lru_cache\n",
    "from orbithunter.arrayops import swap_modes\n",
    "%matplotlib inline\n",
    "\n",
    "import time"
   ]
  },
  {
   "cell_type": "code",
   "execution_count": 12,
   "metadata": {},
   "outputs": [],
   "source": [
    "import glob"
   ]
  },
  {
   "cell_type": "code",
   "execution_count": 60,
   "metadata": {
    "scrolled": false
   },
   "outputs": [],
   "source": [
    "for g in glob.glob('C:\\\\Users\\\\matt\\\\Desktop\\\\gudorf\\\\KS\\\\python\\\\data_and_figures\\\\**\\\\*.h5', recursive=True):\n",
    "    print(g.split('data_and_figures')[-1])"
   ]
  },
  {
   "cell_type": "code",
   "execution_count": 35,
   "metadata": {},
   "outputs": [],
   "source": [
    "new_directory = 'C:\\\\Users\\\\Matt\\\\Desktop\\\\data_and_figures'\n",
    "for orbit_h5 in glob.glob('C:\\\\Users\\\\matt\\\\Desktop\\\\gudorf\\\\KS\\\\python\\\\data_and_figures\\\\**\\\\*.h5',\n",
    "                         recursive=True):\n",
    "    sub_directory = os.path.split(orbit_h5.split('data_and_figures')[-1])[0]\n",
    "    break"
   ]
  },
  {
   "cell_type": "code",
   "execution_count": null,
   "metadata": {},
   "outputs": [],
   "source": [
    "new_directory = 'C:\\\\Users\\\\Matt\\\\Desktop\\\\data_and_figures\\\\'\n",
    "for orbit_h5 in glob.glob('C:\\\\Users\\\\matt\\\\Desktop\\\\gudorf\\\\KS\\\\python\\\\data_and_figures\\\\**\\\\*.h5',\n",
    "                         recursive=True):\n",
    "    if orbit_h5.count('fail') != 0:\n",
    "        pass\n",
    "    else:\n",
    "        sub_directory = os.path.split(orbit_h5.split('data_and_figures')[-1])[0]\n",
    "        directory = new_directory+sub_directory\n",
    "#         os.path.join(directory, orbit.parameter_dependent_filename())"
   ]
  },
  {
   "cell_type": "code",
   "execution_count": 75,
   "metadata": {},
   "outputs": [
    {
     "data": {
      "text/plain": [
       "27.8319306586044"
      ]
     },
     "execution_count": 75,
     "metadata": {},
     "output_type": "execute_result"
    }
   ],
   "source": [
    "current_size = orbit.L\n",
    "orbit.L = 5\n",
    "current_size"
   ]
  },
  {
   "cell_type": "code",
   "execution_count": 76,
   "metadata": {},
   "outputs": [
    {
     "ename": "AttributeError",
     "evalue": "OrbitKS has no attribute called ' get '",
     "output_type": "error",
     "traceback": [
      "\u001b[1;31m---------------------------------------------------------------------------\u001b[0m",
      "\u001b[1;31mAttributeError\u001b[0m                            Traceback (most recent call last)",
      "\u001b[1;32m<ipython-input-76-cc983b92ca20>\u001b[0m in \u001b[0;36m<module>\u001b[1;34m\u001b[0m\n\u001b[1;32m----> 1\u001b[1;33m \u001b[0morbit\u001b[0m\u001b[1;33m.\u001b[0m\u001b[0mget\u001b[0m\u001b[1;33m(\u001b[0m\u001b[1;34m'L'\u001b[0m\u001b[1;33m)\u001b[0m\u001b[1;33m\u001b[0m\u001b[1;33m\u001b[0m\u001b[0m\n\u001b[0m",
      "\u001b[1;32m~\\Desktop\\orbithunter\\orbithunter\\orbit.py\u001b[0m in \u001b[0;36m__getattr__\u001b[1;34m(self, attr)\u001b[0m\n\u001b[0;32m    202\u001b[0m             \u001b[1;32melse\u001b[0m\u001b[1;33m:\u001b[0m\u001b[1;33m\u001b[0m\u001b[1;33m\u001b[0m\u001b[0m\n\u001b[0;32m    203\u001b[0m                 \u001b[0merror_message\u001b[0m \u001b[1;33m=\u001b[0m \u001b[1;34m' '\u001b[0m\u001b[1;33m.\u001b[0m\u001b[0mjoin\u001b[0m\u001b[1;33m(\u001b[0m\u001b[1;33m[\u001b[0m\u001b[0mself\u001b[0m\u001b[1;33m.\u001b[0m\u001b[0m__class__\u001b[0m\u001b[1;33m.\u001b[0m\u001b[0m__name__\u001b[0m\u001b[1;33m,\u001b[0m \u001b[1;34m'has no attribute called \\' {} \\''\u001b[0m\u001b[1;33m.\u001b[0m\u001b[0mformat\u001b[0m\u001b[1;33m(\u001b[0m\u001b[0mattr\u001b[0m\u001b[1;33m)\u001b[0m\u001b[1;33m]\u001b[0m\u001b[1;33m)\u001b[0m\u001b[1;33m\u001b[0m\u001b[1;33m\u001b[0m\u001b[0m\n\u001b[1;32m--> 204\u001b[1;33m                 \u001b[1;32mraise\u001b[0m \u001b[0mAttributeError\u001b[0m\u001b[1;33m(\u001b[0m\u001b[0merror_message\u001b[0m\u001b[1;33m)\u001b[0m\u001b[1;33m\u001b[0m\u001b[1;33m\u001b[0m\u001b[0m\n\u001b[0m\u001b[0;32m    205\u001b[0m         \u001b[1;32mexcept\u001b[0m \u001b[0mValueError\u001b[0m\u001b[1;33m:\u001b[0m\u001b[1;33m\u001b[0m\u001b[1;33m\u001b[0m\u001b[0m\n\u001b[0;32m    206\u001b[0m             \u001b[0mprint\u001b[0m\u001b[1;33m(\u001b[0m\u001b[1;34m'Attribute is not of readable type'\u001b[0m\u001b[1;33m)\u001b[0m\u001b[1;33m\u001b[0m\u001b[1;33m\u001b[0m\u001b[0m\n",
      "\u001b[1;31mAttributeError\u001b[0m: OrbitKS has no attribute called ' get '"
     ]
    }
   ],
   "source": [
    "orbit.get('L')"
   ]
  },
  {
   "cell_type": "code",
   "execution_count": 73,
   "metadata": {},
   "outputs": [
    {
     "ename": "TypeError",
     "evalue": "slice indices must be integers or None or have an __index__ method",
     "output_type": "error",
     "traceback": [
      "\u001b[1;31m---------------------------------------------------------------------------\u001b[0m",
      "\u001b[1;31mTypeError\u001b[0m                                 Traceback (most recent call last)",
      "\u001b[1;32m<ipython-input-73-238c842093a3>\u001b[0m in \u001b[0;36m<module>\u001b[1;34m\u001b[0m\n\u001b[1;32m----> 1\u001b[1;33m \u001b[1;34m'C:\\\\Users\\\\matt\\\\Desktop\\\\gudorf\\\\KS\\\\python\\\\data_and_figures\\\\gluing\\\\ppo\\\\space\\\\FAIL\\\\ppo_L21p74_T95p23_ppo_L21p79_T96p17_space.h5'\u001b[0m\u001b[1;33m.\u001b[0m\u001b[0mupper\u001b[0m\u001b[1;33m(\u001b[0m\u001b[1;33m)\u001b[0m\u001b[1;33m.\u001b[0m\u001b[0mcount\u001b[0m\u001b[1;33m(\u001b[0m\u001b[1;34m'FAIL'\u001b[0m\u001b[1;33m,\u001b[0m\u001b[1;34m'OTHER'\u001b[0m\u001b[1;33m)\u001b[0m\u001b[1;33m\u001b[0m\u001b[1;33m\u001b[0m\u001b[0m\n\u001b[0m",
      "\u001b[1;31mTypeError\u001b[0m: slice indices must be integers or None or have an __index__ method"
     ]
    }
   ],
   "source": [
    "'C:\\\\Users\\\\matt\\\\Desktop\\\\gudorf\\\\KS\\\\python\\\\data_and_figures\\\\gluing\\\\ppo\\\\space\\\\FAIL\\\\ppo_L21p74_T95p23_ppo_L21p79_T96p17_space.h5'.upper().count('FAIL')"
   ]
  },
  {
   "cell_type": "code",
   "execution_count": 65,
   "metadata": {},
   "outputs": [
    {
     "data": {
      "text/plain": [
       "False"
      ]
     },
     "execution_count": 65,
     "metadata": {},
     "output_type": "execute_result"
    }
   ],
   "source": [
    "os.path.isfile(os.path.join(new_directory+sub_directory, orbit.parameter_dependent_filename()))"
   ]
  },
  {
   "cell_type": "code",
   "execution_count": 54,
   "metadata": {},
   "outputs": [
    {
     "data": {
      "text/plain": [
       "'C:\\\\Users\\\\Matt\\\\Desktop\\\\data_and_figures\\\\blocks\\\\none\\\\data\\\\OrbitKS_L27p831_T18p797.h5'"
      ]
     },
     "execution_count": 54,
     "metadata": {},
     "output_type": "execute_result"
    }
   ],
   "source": [
    "new_directory+sub_directory+'\\\\'+orbit.parameter_dependent_filename()"
   ]
  },
  {
   "cell_type": "code",
   "execution_count": 57,
   "metadata": {},
   "outputs": [
    {
     "data": {
      "text/plain": [
       "'C:\\\\Users\\\\Matt\\\\Desktop\\\\data_and_figures\\\\blocks\\\\none'"
      ]
     },
     "execution_count": 57,
     "metadata": {},
     "output_type": "execute_result"
    }
   ],
   "source": [
    "os.path.abspath(new_directory+sub_directory+'\\\\..')"
   ]
  },
  {
   "cell_type": "code",
   "execution_count": null,
   "metadata": {},
   "outputs": [],
   "source": [
    "os.path.abspath(new_directory+sub_directory+'\\\\..')"
   ]
  },
  {
   "cell_type": "code",
   "execution_count": 59,
   "metadata": {},
   "outputs": [
    {
     "data": {
      "text/plain": [
       "'C:\\\\Users\\\\Matt\\\\Desktop\\\\data_and_figures\\\\blocks\\\\none\\\\data\\\\..\\\\figs'"
      ]
     },
     "execution_count": 59,
     "metadata": {},
     "output_type": "execute_result"
    }
   ],
   "source": [
    "new_directory+sub_directory+'\\\\..\\\\figs'"
   ]
  },
  {
   "cell_type": "code",
   "execution_count": 48,
   "metadata": {},
   "outputs": [
    {
     "data": {
      "text/plain": [
       "'\\\\blocks\\\\none\\\\data'"
      ]
     },
     "execution_count": 48,
     "metadata": {},
     "output_type": "execute_result"
    }
   ],
   "source": [
    "sub_directory"
   ]
  },
  {
   "cell_type": "code",
   "execution_count": 46,
   "metadata": {},
   "outputs": [
    {
     "data": {
      "text/plain": [
       "'C:\\\\blocks\\\\none\\\\data'"
      ]
     },
     "execution_count": 46,
     "metadata": {},
     "output_type": "execute_result"
    }
   ],
   "source": [
    "os.path.join(os.path.join(new_directory, ''), sub_directory)"
   ]
  },
  {
   "cell_type": "code",
   "execution_count": 2,
   "metadata": {},
   "outputs": [],
   "source": [
    "sr_orbit = read_h5(\"C:\\\\Users\\\\Matt\\\\Desktop\\\\orbithunter_test_data\\\\none_000_021.h5\", data_format='kstori')\n",
    "orbit = OrbitKS(state=sr_orbit.state, state_type=sr_orbit.state_type, T=sr_orbit.T, L=sr_orbit.L+0.01).convert(to='modes')\n",
    "self = orbit.copy()\n",
    "other = orbit.spatiotemporal_mapping()"
   ]
  },
  {
   "cell_type": "code",
   "execution_count": 3,
   "metadata": {},
   "outputs": [],
   "source": [
    "eqva_orbit = read_h5('EquilibriumOrbitKS_L11p436.h5', data_format='kstori', directory='local', state_type='field')\n",
    "reqva_orbit = read_h5('reqva_L27p39.h5', data_format='kstori',  directory='local', state_type='field')"
   ]
  },
  {
   "cell_type": "code",
   "execution_count": 10,
   "metadata": {},
   "outputs": [
    {
     "data": {
      "text/plain": [
       "2"
      ]
     },
     "execution_count": 10,
     "metadata": {},
     "output_type": "execute_result"
    }
   ],
   "source": [
    "len('testestestes.'.split('.'))"
   ]
  },
  {
   "cell_type": "code",
   "execution_count": 6,
   "metadata": {},
   "outputs": [],
   "source": [
    "eqva_orbit.to_h5(filename='test.h5', directory='')"
   ]
  },
  {
   "cell_type": "code",
   "execution_count": 9,
   "metadata": {},
   "outputs": [],
   "source": [
    "?fig.add_axes"
   ]
  },
  {
   "cell_type": "code",
   "execution_count": 37,
   "metadata": {},
   "outputs": [],
   "source": [
    "?isinstance"
   ]
  },
  {
   "cell_type": "code",
   "execution_count": 39,
   "metadata": {},
   "outputs": [
    {
     "data": {
      "text/plain": [
       "True"
      ]
     },
     "execution_count": 39,
     "metadata": {},
     "output_type": "execute_result"
    }
   ],
   "source": [
    "isinstance(None, type(None))"
   ]
  },
  {
   "cell_type": "code",
   "execution_count": 129,
   "metadata": {},
   "outputs": [],
   "source": [
    "orbit = read_h5(\"C:\\\\Users\\\\Matt\\\\Desktop\\\\orbithunter_test_data\\\\none_000_021.h5\", data_format='kstori', state_type='field')"
   ]
  },
  {
   "cell_type": "code",
   "execution_count": 130,
   "metadata": {},
   "outputs": [],
   "source": [
    "space_modes_complex = rfft(orbit.convert(to='field').state, norm='ortho', axis=1)[:, 1:-1]\n",
    "spatial_modes = np.concatenate((space_modes_complex.real, space_modes_complex.imag), axis=1)"
   ]
  },
  {
   "cell_type": "code",
   "execution_count": 133,
   "metadata": {},
   "outputs": [
    {
     "data": {
      "text/plain": [
       "(32, 9)"
      ]
     },
     "execution_count": 133,
     "metadata": {},
     "output_type": "execute_result"
    }
   ],
   "source": [
    "rfft(orbit.convert(to='field').state, norm='ortho', axis=1).shape"
   ]
  },
  {
   "cell_type": "code",
   "execution_count": 116,
   "metadata": {},
   "outputs": [
    {
     "data": {
      "text/plain": [
       "2.6882830713723984"
      ]
     },
     "execution_count": 116,
     "metadata": {},
     "output_type": "execute_result"
    }
   ],
   "source": [
    "orbit_s_modes = orbit.convert(to='s_modes')\n",
    "complex_modes = orbit_s_modes.state[:, :-orbit_s_modes.m] + 1j * orbit_s_modes.state[:, -orbit_s_modes.m:]\n",
    "z = np.zeros([s_modes.N, 1])\n",
    "space_modes = np.concatenate((z, complex_modes, z), axis=1)\n",
    "# this divides by 64, the new value of m. were divided by 1/sqrt(16) on the forward, this means that it should be 1/sqrt(16)\n",
    "field = irfft(space_modes, axis=1)\n",
    "(np.sqrt(16)*field).max()"
   ]
  },
  {
   "cell_type": "code",
   "execution_count": 151,
   "metadata": {},
   "outputs": [
    {
     "data": {
      "text/plain": [
       "2.6882830713723984"
      ]
     },
     "execution_count": 151,
     "metadata": {},
     "output_type": "execute_result"
    }
   ],
   "source": [
    "orbit_s_modes = orbit.convert(to='s_modes')\n",
    "complex_modes = orbit_s_modes.state[:, :-orbit_s_modes.m] + 1j * orbit_s_modes.state[:, -orbit_s_modes.m:]\n",
    "z = np.zeros([s_modes.N, 1])\n",
    "space_modes = np.concatenate((z, complex_modes, z), axis=1)\n",
    "# this divides by 64, the new value of m. were divided by 1/sqrt(16) on the forward, this means that it should be 1/sqrt(16)\n",
    "field = irfft(space_modes, norm='ortho', axis=1)\n",
    "unpadded_max = (field).max()\n",
    "unpadded_max"
   ]
  },
  {
   "cell_type": "code",
   "execution_count": 166,
   "metadata": {},
   "outputs": [
    {
     "data": {
      "text/plain": [
       "OrbitKS({\"state_type\": \"s_modes\", \"N\": 32, \"M\": 16, \"T\": \"1.88e+01\", \"L\": \"2.78e+01\", \"S\": \"0.e+00\"})"
      ]
     },
     "execution_count": 166,
     "metadata": {},
     "output_type": "execute_result"
    }
   ],
   "source": [
    "orbit.convert(to='s_modes')"
   ]
  },
  {
   "cell_type": "code",
   "execution_count": 169,
   "metadata": {},
   "outputs": [
    {
     "data": {
      "text/plain": [
       "3.782213978508417e-15"
      ]
     },
     "execution_count": 169,
     "metadata": {},
     "output_type": "execute_result"
    }
   ],
   "source": [
    "(orbit.mode_padding(dimension='space', size=64).convert(to='s_modes')-orbit.convert(to='s_modes').mode_padding(dimension='space', size=64)).norm()"
   ]
  },
  {
   "cell_type": "code",
   "execution_count": 198,
   "metadata": {},
   "outputs": [
    {
     "data": {
      "text/plain": [
       "OrbitKS({\"state_type\": \"field\", \"N\": 32, \"M\": 64, \"T\": \"1.88e+01\", \"L\": \"2.78e+01\", \"S\": \"0.e+00\"})"
      ]
     },
     "execution_count": 198,
     "metadata": {},
     "output_type": "execute_result"
    }
   ],
   "source": [
    "orbit.mode_padding(dimension='space', size=64)"
   ]
  },
  {
   "cell_type": "code",
   "execution_count": 72,
   "metadata": {},
   "outputs": [
    {
     "data": {
      "text/plain": [
       "2.757393878895269"
      ]
     },
     "execution_count": 72,
     "metadata": {},
     "output_type": "execute_result"
    }
   ],
   "source": [
    "orbit_s_modes = orbit.convert(to='s_modes').mode_padding(dimension='space', size=64)\n",
    "complex_modes = orbit_s_modes.state[:, :-orbit_s_modes.m] + 1j * orbit_s_modes.state[:, -orbit_s_modes.m:]\n",
    "# Re-add the zeroth and Nyquist spatial frequency modes (zeros) and then transform back\n",
    "z = np.zeros([orbit_s_modes.N, 1])\n",
    "space_modes = np.concatenate((z, complex_modes, z), axis=1)\n",
    "field = irfft(space_modes, axis=1)\n",
    "field.max() * 64 / np.sqrt(16)"
   ]
  },
  {
   "cell_type": "code",
   "execution_count": 15,
   "metadata": {},
   "outputs": [],
   "source": [
    "def test_if_derivatives_are_equal(orbit1, orbit2):\n",
    "    test_values = {}\n",
    "    test_values['dt'] = (orbit1.dt(return_modes=True) -orbit2.dt(return_modes=True)).sum()\n",
    "    test_values['dx2']=(orbit1.dx(power=2, return_modes=True) -orbit2.dx(power=2, return_modes=True)).sum()\n",
    "    test_values['dx4'] = (orbit1.dx(power=4,return_modes=True) -orbit2.dx(power=4,return_modes=True)).sum()\n",
    "    test_values['cm'] = (orbit1.comoving_mapping_component(return_modes=True)\n",
    "                        - orbit2.comoving_mapping_component(return_modes=True)).sum()\n",
    "    \n",
    "    orbit1_field = orbit1.convert(to='field')\n",
    "    orbit2_field = orbit2.convert(to='field')\n",
    "    test_values['pse'] = (orbit1_field.pseudospectral(orbit1_field, return_modes=True)\n",
    "                         -orbit2_field.pseudospectral(orbit2_field, return_modes=True)).sum()\n",
    "    return test_values"
   ]
  },
  {
   "cell_type": "code",
   "execution_count": 85,
   "metadata": {},
   "outputs": [
    {
     "data": {
      "text/plain": [
       "-1.0"
      ]
     },
     "execution_count": 85,
     "metadata": {},
     "output_type": "execute_result"
    }
   ],
   "source": [
    "np.sign(-5.)"
   ]
  },
  {
   "cell_type": "code",
   "execution_count": 162,
   "metadata": {},
   "outputs": [],
   "source": [
    "st = reqva.state + dorbit2.state\n",
    "t = reqva.T + dorbit2.T\n",
    "l = reqva.L + dorbit2.L\n",
    "s = reqva.S + dorbit2.S\n",
    "manual_increment = reqva.__class__(state=st, state_type='modes', T=t, L=l, S=s, N=reqva.N)"
   ]
  },
  {
   "cell_type": "code",
   "execution_count": 80,
   "metadata": {},
   "outputs": [
    {
     "data": {
      "image/png": "[encoded data removed]",
      "text/plain": [
       "<Figure size 181.942x349.649 with 2 Axes>"
      ]
     },
     "metadata": {
      "needs_background": "light"
     },
     "output_type": "display_data"
    },
    {
     "name": "stdout",
     "output_type": "stream",
     "text": [
      "Starting lstsq numerical method. Initial residual 0.0019471593337781082\n",
      "0\n",
      "Converged. exiting with residual 3.785237423627222e-18\n"
     ]
    }
   ],
   "source": [
    "orbit = read_h5(\"C:\\\\Users\\\\Matt\\\\Desktop\\\\orbithunter_test_data\\\\ppo_L21p74_T95p23.h5\", data_format='kstori')\n",
    "orbit.plot(fundamental_domain=False)\n",
    "orbit.residual()\n",
    "result = converge(orbit, method='lstsq', atol=10**-14, verbose=True)"
   ]
  },
  {
   "cell_type": "code",
   "execution_count": 17,
   "metadata": {},
   "outputs": [
    {
     "data": {
      "image/png": "[encoded data removed]",
      "text/plain": [
       "<Figure size 181.942x349.649 with 2 Axes>"
      ]
     },
     "metadata": {
      "needs_background": "light"
     },
     "output_type": "display_data"
    },
    {
     "name": "stdout",
     "output_type": "stream",
     "text": [
      "Starting lstsq numerical method. Initial residual 0.0019471593337781078\n",
      "0\n",
      "Converged. exiting with residual 3.7852378724652415e-18\n"
     ]
    },
    {
     "ename": "TypeError",
     "evalue": "jacobian() got an unexpected keyword argument 'fixedparams'",
     "output_type": "error",
     "traceback": [
      "\u001b[1;31m---------------------------------------------------------------------------\u001b[0m",
      "\u001b[1;31mTypeError\u001b[0m                                 Traceback (most recent call last)",
      "\u001b[1;32m<ipython-input-17-2d056d1189f5>\u001b[0m in \u001b[0;36m<module>\u001b[1;34m\u001b[0m\n\u001b[0;32m     47\u001b[0m \u001b[1;33m\u001b[0m\u001b[0m\n\u001b[0;32m     48\u001b[0m \u001b[0mparameter_constraints\u001b[0m \u001b[1;33m=\u001b[0m \u001b[1;33m(\u001b[0m\u001b[1;32mFalse\u001b[0m\u001b[1;33m,\u001b[0m\u001b[1;32mFalse\u001b[0m\u001b[1;33m,\u001b[0m\u001b[1;32mFalse\u001b[0m\u001b[1;33m)\u001b[0m\u001b[1;33m\u001b[0m\u001b[1;33m\u001b[0m\u001b[0m\n\u001b[1;32m---> 49\u001b[1;33m \u001b[0mA\u001b[0m \u001b[1;33m=\u001b[0m \u001b[0morbit\u001b[0m\u001b[1;33m.\u001b[0m\u001b[0mjacobian\u001b[0m\u001b[1;33m(\u001b[0m\u001b[0mfixedparams\u001b[0m\u001b[1;33m=\u001b[0m\u001b[0mparameter_constraints\u001b[0m\u001b[1;33m)\u001b[0m\u001b[1;33m\u001b[0m\u001b[1;33m\u001b[0m\u001b[0m\n\u001b[0m\u001b[0;32m     50\u001b[0m \u001b[0mb\u001b[0m \u001b[1;33m=\u001b[0m \u001b[1;33m-\u001b[0m\u001b[1;36m1.0\u001b[0m \u001b[1;33m*\u001b[0m \u001b[0morbit\u001b[0m\u001b[1;33m.\u001b[0m\u001b[0mspatiotemporal_mapping\u001b[0m\u001b[1;33m(\u001b[0m\u001b[1;33m)\u001b[0m\u001b[1;33m.\u001b[0m\u001b[0mstate\u001b[0m\u001b[1;33m.\u001b[0m\u001b[0mravel\u001b[0m\u001b[1;33m(\u001b[0m\u001b[1;33m)\u001b[0m\u001b[1;33m\u001b[0m\u001b[1;33m\u001b[0m\u001b[0m\n\u001b[0;32m     51\u001b[0m \u001b[0mcorrection_tuple\u001b[0m \u001b[1;33m=\u001b[0m \u001b[0mlstsq\u001b[0m\u001b[1;33m(\u001b[0m\u001b[0mA\u001b[0m\u001b[1;33m,\u001b[0m \u001b[0mb\u001b[0m\u001b[1;33m.\u001b[0m\u001b[0mreshape\u001b[0m\u001b[1;33m(\u001b[0m\u001b[1;33m-\u001b[0m\u001b[1;36m1\u001b[0m\u001b[1;33m,\u001b[0m \u001b[1;36m1\u001b[0m\u001b[1;33m)\u001b[0m\u001b[1;33m)\u001b[0m\u001b[1;33m\u001b[0m\u001b[1;33m\u001b[0m\u001b[0m\n",
      "\u001b[1;31mTypeError\u001b[0m: jacobian() got an unexpected keyword argument 'fixedparams'"
     ]
    }
   ],
   "source": [
    "from __future__ import print_function, division, absolute_import\n",
    "import os\n",
    "import sys\n",
    "sys.path.insert(0, \"C:\\\\Users\\\\Matt\\\\Desktop\\\\orbit-tmp\\\\\")\n",
    "from orbithunter import *\n",
    "import numpy as np\n",
    "# from scipy.fft import irfft,rfft,rfftn,irfftn,fftn,ifftn,fft,ifft,fft2,rfft2\n",
    "import itertools\n",
    "from math import pi\n",
    "import matplotlib.pyplot as plt\n",
    "from scipy.fft import rfft, irfft\n",
    "%matplotlib inline\n",
    "\n",
    "orbit = read_h5(\"C:\\\\Users\\\\Matt\\\\Desktop\\\\orbithunter_test_data\\\\ppo_L21p74_T95p23.h5\")\n",
    "orbit.plot(fundamental_domain=False)\n",
    "orbit.residual()\n",
    "converge(orbit, method='lstsq', atol=10**-14, verbose=True)\n",
    "\n",
    "# np.linalg.norm(orbit.spacetime_ifft().spacetime_fft().state - orbit.state)\n",
    "# np.sum(np.abs(np.dot(orbit.jacobian()[:, :-2], orbit.spatiotemporal_mapping().state.ravel())))\n",
    "# np.dot(orbit.jacobian()[:, :-2], orbit.spatiotemporal_mapping().state.ravel())\n",
    "\n",
    "from scipy.linalg import lstsq\n",
    "\n",
    "def _state_vector_to_orbit(orbit, correction_vector, parameter_constraints=(False,False,False), **kwargs):\n",
    "    \"\"\"\n",
    "    :param orbit:\n",
    "    :param correction_vector:\n",
    "    :param preconditioning:\n",
    "    :param parameter_constraints:\n",
    "    :param kwargs:\n",
    "    :return:\n",
    "    \"\"\"\n",
    "    correction_vector = correction_vector.reshape(-1, 1)\n",
    "    mode_shape, mode_size = orbit.state.shape, orbit.state.size\n",
    "    d_modes = correction_vector[:mode_size]\n",
    "    # slice the changes to parameters from vector\n",
    "    d_params = correction_vector[mode_size:].ravel()\n",
    "\n",
    "    for i, constrained in enumerate(parameter_constraints):\n",
    "        if constrained or (i == len(d_params)):\n",
    "            d_params = np.insert(d_params, i, 0)\n",
    "    dT, dL, dS = d_params\n",
    "    correction_orbit = orbit.__class__(state=np.reshape(d_modes, mode_shape), state_type='modes',\n",
    "                                       T=dT, L=dL, S=dS)\n",
    "    return correction_orbit\n",
    "\n",
    "parameter_constraints = (False,False,False)\n",
    "A = orbit.jacobian(fixedparams=parameter_constraints)\n",
    "b = -1.0 * orbit.spatiotemporal_mapping().state.ravel()\n",
    "correction_tuple = lstsq(A, b.reshape(-1, 1))\n",
    "correction_vector = correction_tuple[0]\n",
    "\n",
    "dorbit = _state_vector_to_orbit(orbit, correction_vector, fixedparams=parameter_constraints)\n",
    "\n",
    "# To avoid redundant function calls, store optimization variables using\n",
    "# clunky notation.\n",
    "next_orbit = orbit.increment(dorbit, stepsize=1)\n",
    "next_residual = next_orbit.residual()\n",
    "next_residual\n",
    "\n",
    "dorbit.state.shape\n",
    "\n",
    "dorbit.to_h5('ShiftReflectionOrbitKS_old_dx.h5')\n",
    "next_orbit.to_h5('ShiftReflectionOrbitKS_old_next_orbit.h5')"
   ]
  },
  {
   "cell_type": "markdown",
   "metadata": {},
   "source": [
    "# Caching with class methods."
   ]
  },
  {
   "cell_type": "markdown",
   "metadata": {},
   "source": [
    "Testing cases for class method caching. Classmethod on both method in test and method in parent class. \n",
    "\n",
    "Return elementwise_dx() by passing arguments, i.e. without instantiation. \n",
    "\n",
    "\n",
    "See if calling the class method once and then timing it with another class member works.\n",
    "\n",
    "See if calling the classmethod, which instantiates a new class instance can be shared. "
   ]
  },
  {
   "cell_type": "code",
   "execution_count": null,
   "metadata": {},
   "outputs": [],
   "source": [
    "class TestOrbit():\n",
    "    @classmethod\n",
    "    @lru_cache(maxsize=None)\n",
    "    def elementwise_dx(self, L, N, M, m):\n",
    "        qk = ((2 * pi * self.M / self.L) * np.fft.fftfreq(self.M)[1:self.m+1]).reshape(1, -1)\n",
    "        qk_vec = np.concatenate((qk, -qk), axis=1)\n",
    "        return np.tile(qk_vec, (self.N-1, 1))"
   ]
  },
  {
   "cell_type": "code",
   "execution_count": null,
   "metadata": {},
   "outputs": [],
   "source": [
    "class CacheTestOrbit():\n",
    "    \n",
    "    @classmethod\n",
    "    @lru_cache(maxsize=None)\n",
    "    def cached_function_call(self, L, N, M, m):\n",
    "        qk = ((2 * pi * M / L) * np.fft.fftfreq(M)[1:m+1]).reshape(1, -1)\n",
    "        qk_vec = np.concatenate((qk, -qk), axis=1)\n",
    "        return np.tile(qk_vec, (N-1, 1)) \n",
    "    \n",
    "    @classmethod\n",
    "    @lru_cache(maxsize=None)\n",
    "    def cached_function_call(self, L, N, M, m):\n",
    "        qk = ((2 * pi * M / L) * np.fft.fftfreq(M)[1:m+1]).reshape(1, -1)\n",
    "        qk_vec = np.concatenate((qk, -qk), axis=1)\n",
    "        return np.tile(qk_vec, (N-1, 1)) \n",
    "    \n",
    "    @classmethod\n",
    "    @lru_cache(maxsize=None)\n",
    "    def cached_elementwise_with_instantiation(self, orbit):\n",
    "        return RelativeOrbitKS(state=orbit.state,state_type=orbit.state_type, L=orbit.L,\n",
    "                               N=orbit.N, M=orbit.M, m=orbit.m).elementwise_dx()\n",
    "        \n",
    "    @classmethod\n",
    "    @lru_cache(maxsize=None)\n",
    "    def cached_elementwise_without_instantiation(self, orbit):\n",
    "        return orbit.elementwise_dx()"
   ]
  },
  {
   "cell_type": "markdown",
   "metadata": {},
   "source": [
    "First test the caching by calling an instantiated instance, then class generator, then different class instance. "
   ]
  },
  {
   "cell_type": "code",
   "execution_count": null,
   "metadata": {},
   "outputs": [],
   "source": [
    "(L, N, M, m) = rpo_test.L, rpo_test.N, rpo_test.M, rpo_test.m"
   ]
  },
  {
   "cell_type": "code",
   "execution_count": null,
   "metadata": {},
   "outputs": [],
   "source": [
    "c = CacheTestOrbit()\n",
    "%timeit c.cached_elementwise_without_instantiation(L,N,M,m)"
   ]
  },
  {
   "cell_type": "code",
   "execution_count": null,
   "metadata": {},
   "outputs": [],
   "source": [
    "%%timeit CacheTestOrbit().cached_elementwise_without_instantiation(rpo_test)\n",
    "orbit\n",
    "rpo_test"
   ]
  },
  {
   "cell_type": "code",
   "execution_count": null,
   "metadata": {},
   "outputs": [],
   "source": [
    "c = CacheTestOrbit()\n",
    "%timeit c.cached_elementwise_without_instantiation(rpo_test)"
   ]
  },
  {
   "cell_type": "code",
   "execution_count": null,
   "metadata": {},
   "outputs": [],
   "source": [
    "# orbit = rpo_test\n",
    "c = CacheTestOrbit()\n",
    "%timeit c.cached_elementwise_with_instantiation(rpo_test)"
   ]
  },
  {
   "cell_type": "code",
   "execution_count": null,
   "metadata": {},
   "outputs": [],
   "source": [
    "%timeit CacheTestOrbit.cached_elementwise_without_instantiation(rpo_test)"
   ]
  },
  {
   "cell_type": "code",
   "execution_count": null,
   "metadata": {},
   "outputs": [],
   "source": [
    "# orbit = rpo_test\n",
    "%timeit CacheTestOrbit.cached_elementwise_with_instantiation(rpo_test)"
   ]
  },
  {
   "cell_type": "code",
   "execution_count": null,
   "metadata": {},
   "outputs": [],
   "source": [
    "orbit = rpo_test\n",
    "c = CacheTestOrbit()\n",
    "%timeit c.cached_elementwise_with_instantiation(orbit)"
   ]
  },
  {
   "cell_type": "code",
   "execution_count": null,
   "metadata": {},
   "outputs": [],
   "source": [
    "orbit = rpo_test\n",
    "%timeit CacheTestOrbit.cached_elementwise_with_instantiation(orbit)"
   ]
  },
  {
   "cell_type": "code",
   "execution_count": null,
   "metadata": {},
   "outputs": [],
   "source": [
    "orbit = rpo_test\n",
    "%timeit = CacheTestOrbit().cached_elementwise_with_instantiation(RelativeOrbitKS(state=orbit.state,state_type=orbit.state_type, L=orbit.L,\n",
    "                               N=orbit.N, M=orbit.M, m=orbit.m))"
   ]
  },
  {
   "cell_type": "code",
   "execution_count": null,
   "metadata": {},
   "outputs": [],
   "source": [
    "orbit = rpo_test"
   ]
  },
  {
   "cell_type": "code",
   "execution_count": null,
   "metadata": {},
   "outputs": [],
   "source": [
    "    @classmethod\n",
    "    @lru_cache(maxsize=None)\n",
    "    def wave_vector(self, orbit):\n",
    "        return  super().wave_vector()\n",
    "    "
   ]
  },
  {
   "cell_type": "code",
   "execution_count": null,
   "metadata": {},
   "outputs": [],
   "source": [
    "np.linalg.norm(np.ravel(self.elementwise_dx()))"
   ]
  },
  {
   "cell_type": "markdown",
   "metadata": {},
   "source": [
    "# Actual orbit caching."
   ]
  },
  {
   "cell_type": "markdown",
   "metadata": {},
   "source": [
    "Note, do not want to cache the actual jacobian, mapping, rmatvec functions because this will emulate the adjoint descent process, for instance. Only want to see the effect of caching elementwise and frequency vector functions. Want to also check performance of clean vs. current coding implementations for those functions. \n",
    "\n",
    "Classmethod is ok, but because caching happens with respect to immutable types, need to pass parameters instead of class instances. The classmethod does not have knowledge of an instance's attributes, even if called as instance.classmethod(). need to pass it immutable \n",
    "\n",
    "# need to check\n",
    "whether or not caching an classmethod that doesn't take arguments will return the same value even if the computation would be different. \n",
    "\n",
    "\n",
    "Why am I trying to do class methods instead of functions?"
   ]
  },
  {
   "cell_type": "code",
   "execution_count": null,
   "metadata": {},
   "outputs": [],
   "source": [
    "\n",
    "\n",
    "defect_down = RelativeOrbit(state=defect.convert(to='field').state, statetype='field', T=defect.T, L=defect.L, S=defect.S)\n",
    "exit_code = 1\n",
    "result = converge(defect_down, fixedparams=(False, False, False), verbose=True)\n",
    "defect_down = result.Orbit\n",
    "\n",
    "while exit_code == 1:\n",
    "    # print(wiggle_freeboundary.residual())\n",
    "    defect_down.L -= 0.01\n",
    "    # print(wiggle_freeboundary.residual())\n",
    "    result = converge(defect_down,  fixedparams=(False,True,False), verbose=True)\n",
    "    exit_code = result.exit_code\n",
    "    if exit_code == 1:\n",
    "        defect_down = result.Orbit\n",
    "        defect_down.plot(save=True)\n",
    "defect_down.plot(save=True)"
   ]
  },
  {
   "cell_type": "code",
   "execution_count": null,
   "metadata": {
    "scrolled": false
   },
   "outputs": [],
   "source": [
    "defect_up = RelativeOrbit(state=defect.convert(to='field').state, statetype='field', T=defect.T, L=defect.L, S=defect.S)\n",
    "exit_code = 1\n",
    "result = converge(defect_up, fixedparams=(False, False, False), verbose=True)\n",
    "defect_up = result.Orbit\n",
    "\n",
    "while exit_code == 1:\n",
    "    defect_up.L += 2\n",
    "    print(defect_up.L)\n",
    "    result = converge(defect_up,  fixedparams=(False,False,False), verbose=True)\n",
    "    exit_code = result.exit_code\n",
    "    if exit_code == 1:\n",
    "        defect_up = result.Orbit\n",
    "        print(result.Orbit.L)\n",
    "        defect_up.plot()\n",
    "defect_up.plot()"
   ]
  },
  {
   "cell_type": "code",
   "execution_count": null,
   "metadata": {},
   "outputs": [],
   "source": [
    "result = converge(rediscretize(a, newN=32, newM=32), fixedparams=(False, False, False), verbose=True)\n",
    "wiggle = result.Orbit"
   ]
  },
  {
   "cell_type": "code",
   "execution_count": null,
   "metadata": {},
   "outputs": [],
   "source": [
    "wiggle.plot()"
   ]
  },
  {
   "cell_type": "code",
   "execution_count": null,
   "metadata": {},
   "outputs": [],
   "source": [
    "wiggle_up = Orbit(state=wiggle.convert(to='field').state, statetype='field', T=wiggle.T, L=wiggle.L)\n",
    "exit_code = 1"
   ]
  },
  {
   "cell_type": "code",
   "execution_count": null,
   "metadata": {},
   "outputs": [],
   "source": [
    "wiggle_up.N"
   ]
  },
  {
   "cell_type": "code",
   "execution_count": null,
   "metadata": {
    "scrolled": false
   },
   "outputs": [],
   "source": [
    "niter=0\n",
    "while exit_code == 1:\n",
    "    wiggle_up.L += 0.01\n",
    "    result = converge(wiggle_up, method='lstsq', fixedparams=(False, True, False), verbose=False)\n",
    "    exit_code = result.exit_code\n",
    "    \n",
    "    if exit_code == 1:\n",
    "        niter+=1\n",
    "        wiggle_up = result.Orbit\n",
    "        print(result.Orbit.L)\n",
    "        if niter % 5 == 0:\n",
    "            wiggle_up.plot()\n",
    "        # wiggle_freeboundary.plot()\n",
    "wiggle_up.plot()"
   ]
  },
  {
   "cell_type": "code",
   "execution_count": null,
   "metadata": {},
   "outputs": [],
   "source": [
    "wiggle_up = Orbit(state=wiggle.convert(to='field').state, statetype='field', T=wiggle.T, L=wiggle.L)\n",
    "exit_code = 1"
   ]
  },
  {
   "cell_type": "code",
   "execution_count": null,
   "metadata": {
    "scrolled": false
   },
   "outputs": [],
   "source": [
    "while exit_code == 1:\n",
    "    # print(wiggle_freeboundary.residual())\n",
    "    wiggle_up.L += 0.5\n",
    "    # print(wiggle_freeboundary.residual())\n",
    "    result = converge(wiggle_up, verbose=True)\n",
    "    exit_code = result.exit_code\n",
    "    if exit_code == 1:\n",
    "        wiggle_up = result.Orbit\n",
    "        print(result.Orbit.L)\n",
    "        wiggle_up.plot()\n",
    "        \n",
    "print(result.Orbit.L)\n",
    "wiggle_up.plot()"
   ]
  },
  {
   "cell_type": "code",
   "execution_count": null,
   "metadata": {},
   "outputs": [],
   "source": [
    "result = converge(wiggle, fixedparams=(False, True, False), verbose=True)\n",
    "wiggle = result.Orbit"
   ]
  },
  {
   "cell_type": "code",
   "execution_count": null,
   "metadata": {},
   "outputs": [],
   "source": [
    "wiggle_freeboundary = RelativeOrbit(state=wiggle.state, statetype=wiggle.statetype, T=wiggle.T, L=wiggle.L, S=0)\n",
    "exit_code = 1\n",
    "\n",
    "wiggle_freeboundary.S = float(wiggle_freeboundary.calculate_shift())\n",
    "\n",
    "\n",
    "\n",
    "while exit_code == 1:\n",
    "    wiggle_freeboundary.L -= 0.01\n",
    "    result = converge(wiggle_freeboundary, fixedparams=(False, True, False), verbose=True)\n",
    "    exit_code = result.exit_code\n",
    "    print(exit_code, result.Orbit.L)\n",
    "    if exit_code == 1:\n",
    "        wiggle_freeboundary = result.Orbit"
   ]
  },
  {
   "cell_type": "code",
   "execution_count": null,
   "metadata": {},
   "outputs": [],
   "source": [
    "# defect_down = rediscretize(r, newN=32, newM=32)#.to_fundamental_domain()\n",
    "defect_down = defect\n",
    "# defect = RelativeOrbit(state=wiggle.state, statetype=wiggle.statetype, T=wiggle.T, L=wiggle.L, S=0)\n",
    "exit_code = 1\n",
    "# wiggle_freeboundary.S = float(wiggle_freeboundary.calculate_shift())\n",
    "\n",
    "while exit_code == 1:\n",
    "    defect_down.L -= 0.1\n",
    "    result = converge(defect_down, method='lstsq', fixedparams=(False, True, False),  verbose=True)\n",
    "    exit_code = result.exit_code\n",
    "    if exit_code == 1:\n",
    "        defect_down = result.Orbit"
   ]
  },
  {
   "cell_type": "code",
   "execution_count": null,
   "metadata": {},
   "outputs": [],
   "source": [
    "defect_up = rediscretize(r, newN=32, newM=32)#.to_fundamental_domain()\n",
    "# wiggle_freeboundary = RelativeOrbit(state=wiggle.state, statetype=wiggle.statetype, T=wiggle.T, L=wiggle.L, S=0)\n",
    "exit_code = 1\n",
    "while exit_code == 1:\n",
    "    defect_down.L += 0.1\n",
    "    result = converge(defect_down, fixedparams=(False, False, False),  verbose=True)\n",
    "    exit_code = result.exit_code\n",
    "    if exit_code == 1:\n",
    "        defect_down = result.Orbit"
   ]
  },
  {
   "cell_type": "code",
   "execution_count": null,
   "metadata": {},
   "outputs": [],
   "source": [
    "result"
   ]
  },
  {
   "cell_type": "code",
   "execution_count": null,
   "metadata": {},
   "outputs": [],
   "source": [
    "result = converge(wiggle_freeboundary, fixedparams=(False, True, False), method='lstsq', verbose=True)\n"
   ]
  },
  {
   "cell_type": "code",
   "execution_count": null,
   "metadata": {},
   "outputs": [],
   "source": [
    "wiggle_freeboundary.plot(fundamental_domain=False)"
   ]
  },
  {
   "cell_type": "code",
   "execution_count": null,
   "metadata": {},
   "outputs": [],
   "source": [
    "def draw_nodal_lines(orbit, epsilon=0.2):\n",
    "    orbit_dx_field = orbit.dx().convert(to='field').state\n",
    "    nodal = np.where(np.abs(orbit_dx_field)< epsilon) \n",
    "    not_nodal = np.where(np.abs(orbit_dx_field) >= epsilon)\n",
    "    orbit_dx_field[nodal]=1\n",
    "    orbit_dx_field[not_nodal]=None\n",
    "    \n",
    "    return orbit_dx_field"
   ]
  },
  {
   "cell_type": "code",
   "execution_count": null,
   "metadata": {},
   "outputs": [],
   "source": [
    "# anew = rediscretize(a, newN=256, newM=256)\n",
    "# rnew = rediscretize(r, newN=256, newM=256)\n",
    "# enew = rediscretize(e, newN=256, newM=256)\n",
    "# anew.plot(fundamental_domain=False, padding=False)\n",
    "# rnew.comoving_transformation().plot(fundamental_domain=False, padding=False)"
   ]
  },
  {
   "cell_type": "code",
   "execution_count": null,
   "metadata": {},
   "outputs": [],
   "source": [
    "rnode = draw_nodal_lines(rnew.to_fundamental_domain(), epsilon=0.1)\n",
    "rnode_halfcell = np.roll(rnode, rnode.shape[1]//2, axis=1)\n",
    "\n",
    "fig = plt.figure()\n",
    "plt.imshow(rnode, origin='lower')\n",
    "_ = plt.show()\n",
    "\n",
    "fig = plt.figure()\n",
    "plt.imshow(rnode_halfcell, origin='lower')\n",
    "_ = plt.show()"
   ]
  },
  {
   "cell_type": "code",
   "execution_count": null,
   "metadata": {},
   "outputs": [],
   "source": [
    "wiggle_freeboundary"
   ]
  },
  {
   "cell_type": "code",
   "execution_count": null,
   "metadata": {},
   "outputs": [],
   "source": [
    "anode = draw_nodal_lines(anew, epsilon=0.1)\n",
    "anode_halfcell = np.roll(anode, anode.shape[1]//2, axis=1)\n",
    "\n",
    "fig = plt.figure()\n",
    "plt.imshow(anode, origin='lower')\n",
    "_ = plt.show()\n",
    "\n",
    "fig = plt.figure()\n",
    "plt.imshow(anode_halfcell, origin='lower')\n",
    "_ = plt.show()"
   ]
  },
  {
   "cell_type": "code",
   "execution_count": null,
   "metadata": {},
   "outputs": [],
   "source": [
    "fig = plt.figure()\n",
    "plt.imshow(draw_nodal_lines(rediscretize(a, newN=256, newM=256)))\n",
    "_ = plt.show()"
   ]
  },
  {
   "cell_type": "code",
   "execution_count": null,
   "metadata": {},
   "outputs": [],
   "source": [
    "Orbit(state=draw_nodal_lines(a), statetype='field',"
   ]
  },
  {
   "cell_type": "code",
   "execution_count": null,
   "metadata": {},
   "outputs": [],
   "source": [
    "e.convert(to='field').state.shape"
   ]
  },
  {
   "cell_type": "code",
   "execution_count": null,
   "metadata": {},
   "outputs": [],
   "source": [
    "e.convert(to='modes').state.shape"
   ]
  },
  {
   "cell_type": "code",
   "execution_count": null,
   "metadata": {},
   "outputs": [],
   "source": [
    "modes = rfft(spatial_modes, norm='ortho', axis=0)\n",
    "modes_real = modes.real[:-1, -aOrbit.m:]\n",
    "modes_imag = modes.imag[1:-1, -aOrbit.m:]\n",
    "anti_spacetime_modes = np.concatenate((modes_real, modes_imag),axis=0)"
   ]
  },
  {
   "cell_type": "code",
   "execution_count": null,
   "metadata": {},
   "outputs": [],
   "source": [
    "# PPO\n",
    "modes = rfft(spatial_modes, norm='ortho', axis=0)\n",
    "modes_real = modes.real[:-1, :-Orbit.m] + modes.real[:-1, -Orbit.m:]\n",
    "modes_imag = modes.imag[1:-1, :-Orbit.m] + modes.imag[1:-1, -Orbit.m:]\n",
    "ppo_spacetime_modes = np.concatenate((modes_real, modes_imag),axis=0)"
   ]
  },
  {
   "cell_type": "code",
   "execution_count": null,
   "metadata": {},
   "outputs": [],
   "source": [
    "# Orbit, RelativeOrbit\n",
    "modes = rfft(spatial_modes, norm='ortho', axis=0)\n",
    "modes_real = modes.real[:-1, :] \n",
    "modes_imag = modes.imag[1:-1, :]\n",
    "spacetime_modes = np.concatenate((modes_real, modes_imag),axis=0)"
   ]
  },
  {
   "cell_type": "code",
   "execution_count": null,
   "metadata": {},
   "outputs": [],
   "source": [
    "mat_tmp = irfft(np.eye(Orbit.N//2+1), norm='ortho', axis=0)\n",
    "time_irfft_mat = np.concatenate((mat_tmp[:,:-1], mat_tmp[:,1:-1]),axis=1)"
   ]
  },
  {
   "cell_type": "code",
   "execution_count": null,
   "metadata": {},
   "outputs": [],
   "source": [
    "np.linalg.norm(f.transpose()-space_mat)"
   ]
  },
  {
   "cell_type": "code",
   "execution_count": null,
   "metadata": {},
   "outputs": [],
   "source": [
    "self = Orbit\n",
    "fx = (1 / np.sqrt(self.M)) * old_rfft(np.eye(self.M), axis=0)[1:self.M - 1, :]\n",
    "fx_a = np.zeros([self.m, self.M], float)\n",
    "fx_b = np.zeros([self.m, self.M], float)\n",
    "\n",
    "indices = np.arange(0, self.m)\n",
    "fx_a[indices, :] = fx[2 * indices, :]\n",
    "fx_b[indices, :] = fx[2 * indices + 1, :]\n",
    "\n",
    "ff = np.concatenate((fx_a, fx_b), axis=0)"
   ]
  },
  {
   "cell_type": "code",
   "execution_count": null,
   "metadata": {},
   "outputs": [],
   "source": [
    "plt.imshow(f-space_mat)\n",
    "_ = plt.show()"
   ]
  },
  {
   "cell_type": "code",
   "execution_count": null,
   "metadata": {},
   "outputs": [],
   "source": [
    "space_real_mat = irfft(np.eye(Orbit.M//2 + 1), norm='ortho', axis=0)\n",
    "\n",
    "space_imag_mat = irfft(1j*np.eye(Orbit.M//2 + 1), norm='ortho', axis=0)\n",
    "\n",
    "space_mat = np.concatenate((space_real_mat[:, 1:-1], space_imag_mat[:, 1:-1]),axis=1)\n",
    "\n",
    "space_ifft_matrix = np.kron(space_mat, np.eye(Orbit.N))\n",
    "\n",
    "np.linalg.norm(space_ifft_matrix-Orbit.space_irfft_matrix())"
   ]
  },
  {
   "cell_type": "code",
   "execution_count": null,
   "metadata": {},
   "outputs": [],
   "source": [
    "space_mat.shape"
   ]
  },
  {
   "cell_type": "code",
   "execution_count": null,
   "metadata": {},
   "outputs": [],
   "source": [
    "np.eye(Orbit.M//2 + 1).shape"
   ]
  },
  {
   "cell_type": "code",
   "execution_count": null,
   "metadata": {},
   "outputs": [],
   "source": [
    "irfft(np.eye(Orbit.M//2 + 1), norm='ortho', axis=0)"
   ]
  },
  {
   "cell_type": "code",
   "execution_count": null,
   "metadata": {},
   "outputs": [],
   "source": [
    "fx = np.sqrt(self.M)*old_irfft(np.eye(self.M), axis=0)[:, 1:self.M-1]\n",
    "fx_a = np.zeros([self.M, self.m], float)\n",
    "fx_b = np.zeros([self.M, self.m], float)\n",
    "\n",
    "indices = np.arange(0, self.m)\n",
    "fx_a[:, indices] = fx[:, 2 * indices]\n",
    "fx_b[:, indices] = fx[:, 2 * indices + 1]\n",
    "\n",
    "fb = np.concatenate((fx_a, fx_b), axis=1)"
   ]
  },
  {
   "cell_type": "code",
   "execution_count": null,
   "metadata": {},
   "outputs": [],
   "source": [
    "imag_idft_matrix = irfft(1j*np.eye((Orbit.N//2)+1), norm='ortho', axis=0)\n",
    "real_idft_matrix = irfft(np.eye((Orbit.N//2)+1), norm='ortho', axis=0)\n",
    "time_idft_matrix = np.concatenate((real_idft_matrix[:, :-1], imag_idft_matrix[:, 1:-1]),axis=1)\n",
    "ab_time_idft_matrix = np.insert(time_idft_matrix, np.arange(time_idft_matrix.shape[0]), time_dft_matrix, axis=0)\n",
    "\n",
    "ab_transform_formatter = np.zeros((2*Orbit.N, Orbit.N-1),dtype=int)\n",
    "ab_transform_formatter[::2,1:-Orbit.n:2] = 1\n",
    "ab_transform_formatter[1::2,:-Orbit.n:2] = 1\n",
    "ab_transform_formatter[1::2,-Orbit.n+1::2] = 1\n",
    "ab_transform_formatter[::2,-Orbit.n::2] = 1\n",
    "\n",
    "full_time_ifft_matrix = np.kron(ab_time_idft_matrix*ab_transform_formatter, \n",
    "                                np.eye(Orbit.mode_shape[1]))"
   ]
  },
  {
   "cell_type": "code",
   "execution_count": null,
   "metadata": {},
   "outputs": [],
   "source": [
    "ab_transform_formatter = np.zeros((Orbit.N-1, 2*Orbit.N),dtype=int)\n",
    "#odd rows\n",
    "ab_transform_formatter[1:-Orbit.n:2,::2] = 1\n",
    "ab_transform_formatter[:-Orbit.n:2,1::2] = 1\n",
    "ab_transform_formatter[-Orbit.n+1::2,1::2] = 1\n",
    "ab_transform_formatter[-Orbit.n::2, ::2] = 1\n",
    "\n",
    "full_dft_mat = rfft(np.eye(Orbit.M), norm='ortho', axis=0)\n",
    "# time_real_mat = rfft(np.eye(Orbit.N//2+1), norm='ortho', axis=0)\n",
    "time_dft_mat = np.concatenate((full_dft_mat[:-1, :].real, full_dft_mat[1:-1, :].imag), axis=0)\n",
    "ab_time_dft_matrix = np.insert(time_dft_mat, np.arange(time_dft_mat.shape[1]), time_dft_mat, axis=1)\n",
    "full_time_fft_matrix = np.kron(ab_time_dft_matrix*ab_transform_formatter, np.eye(Orbit.m))"
   ]
  },
  {
   "cell_type": "code",
   "execution_count": null,
   "metadata": {},
   "outputs": [],
   "source": [
    "idft_mat = irfft(np.eye(Orbit.N//2 + 1), norm='ortho', axis=0)\n",
    "time_idft_mat = np.concatenate((idft_mat[:, :-1].real, \n",
    "                                idft_mat[:, 1:-1].imag), axis=1)"
   ]
  },
  {
   "cell_type": "code",
   "execution_count": null,
   "metadata": {},
   "outputs": [],
   "source": [
    "Orbit.dt_matrix().shape"
   ]
  },
  {
   "cell_type": "code",
   "execution_count": null,
   "metadata": {},
   "outputs": [],
   "source": [
    "Orbit.dx_matrix(power=2).shape"
   ]
  },
  {
   "cell_type": "code",
   "execution_count": null,
   "metadata": {},
   "outputs": [],
   "source": [
    "%%timeit\n",
    "Orbit.dt_matrix() + Orbit.dx_matrix(power=2, statetype='modes') + Orbit.dx_matrix(power=4, statetype='modes')"
   ]
  },
  {
   "cell_type": "code",
   "execution_count": null,
   "metadata": {},
   "outputs": [],
   "source": [
    "%%timeit\n",
    "qk=Orbit.wave_vector().ravel()\n",
    "dx2 = -1*np.kron(np.eye(Orbit.N-1), np.diag(qk**2))\n",
    "dx4 = -1*np.kron(np.eye(Orbit.N-1), np.diag(qk**4))\n",
    "jl = Orbit.dt_matrix() + dx2 + dx4"
   ]
  },
  {
   "cell_type": "code",
   "execution_count": null,
   "metadata": {},
   "outputs": [],
   "source": [
    "idft_mat = irfft(np.eye(Orbit.M//2 + 1), norm='ortho', axis=0)[:, 1:-1]\n",
    "space_idft_mat = np.concatenate((idft_mat.real, idft_mat.imag), axis=1)\n",
    "space_idft_mat.shape"
   ]
  },
  {
   "cell_type": "code",
   "execution_count": null,
   "metadata": {},
   "outputs": [],
   "source": [
    "dft_mat = rfft(np.eye(Orbit.N), norm='ortho', axis=0)\n",
    "time_dft_mat = np.concatenate((dft_mat[:-1,:].real, dft_mat[1:-1,:].imag), axis=0)\n",
    "ab_time_dft_mat = np.insert(time_dft_mat, \n",
    "                             np.arange(time_dft_mat.shape[1]), \n",
    "                             np.zeros([time_dft_mat.shape[0], time_dft_mat.shape[1]]),\n",
    "                             axis=1)\n",
    "np.kron(ab_time_dft_mat, np.eye(Orbit.m)).shape"
   ]
  },
  {
   "cell_type": "code",
   "execution_count": null,
   "metadata": {},
   "outputs": [],
   "source": [
    "plt.imshow(ab_time_idft_mat)\n",
    "plt.colorbar()\n",
    "_ = plt.show()"
   ]
  },
  {
   "cell_type": "code",
   "execution_count": null,
   "metadata": {},
   "outputs": [],
   "source": [
    "ab_time_idft_mat.shape"
   ]
  },
  {
   "cell_type": "code",
   "execution_count": null,
   "metadata": {},
   "outputs": [],
   "source": [
    "tttt = full_time_ifft_matrix[full_time_ifft_matrix!=0]\n",
    "tttt[-5:]"
   ]
  },
  {
   "cell_type": "code",
   "execution_count": null,
   "metadata": {},
   "outputs": [],
   "source": [
    "# tmptmp = time_test[:, np.newaxis, :]\n"
   ]
  },
  {
   "cell_type": "code",
   "execution_count": null,
   "metadata": {},
   "outputs": [],
   "source": [
    "shuf2 = np.tile(np.insert(np.ones(8), np.arange(8), np.zeros(8)), (32,1))\n",
    "shuf1 = np.tile(np.insert(np.zeros(8), np.arange(8), np.ones(8)), (32,1))\n",
    "shuffle_mat = np.insert(shuf1.reshape(32, 1, 16), np.arange(32), shuf2.reshape(32,1,16),axis=0).squeeze()\n",
    "t2 = np.concatenate((shuffle_mat, shuffle_mat[:,1:]),axis=1)*tst\n",
    "# shufodd = np.roll(np.insert(shuf1.reshape(16, 1, 32), np.arange(16), shuf2.reshape(16,1,32),axis=0).squeeze(),1,axis=1)\n",
    "# shufodd = shufodd[:,:-1]\n",
    "# shufeven = shufeven[:,:-1]"
   ]
  },
  {
   "cell_type": "code",
   "execution_count": null,
   "metadata": {},
   "outputs": [],
   "source": [
    "# %%timeit\n"
   ]
  },
  {
   "cell_type": "code",
   "execution_count": null,
   "metadata": {},
   "outputs": [],
   "source": [
    "plt.imshow(tst)\n",
    "plt.colorbar()\n",
    "_ = plt.show()"
   ]
  },
  {
   "cell_type": "code",
   "execution_count": null,
   "metadata": {},
   "outputs": [],
   "source": [
    "plt.imshow(t2)\n",
    "plt.colorbar()\n",
    "_ = plt.show()"
   ]
  },
  {
   "cell_type": "code",
   "execution_count": null,
   "metadata": {},
   "outputs": [],
   "source": [
    "plt.imshow((tst*rangeifft)-t2)\n",
    "_ = plt.colorbar()"
   ]
  },
  {
   "cell_type": "code",
   "execution_count": null,
   "metadata": {},
   "outputs": [],
   "source": [
    "%%timeit\n",
    "Orbit.time_irfft_matrix()"
   ]
  },
  {
   "cell_type": "code",
   "execution_count": null,
   "metadata": {},
   "outputs": [],
   "source": [
    "%%timeit\n",
    "rangefft = np.zeros((31, 64),dtype=int)\n",
    "#odd rows\n",
    "rangefft[1:-15:2,::2] = 1\n",
    "rangefft[:-15:2,1::2] = 1\n",
    "rangefft[-15+1::2,1::2] = 1\n",
    "rangefft[-15::2, ::2] = 1\n",
    "time_mat = rfft(np.eye(Orbit.M), norm='ortho', axis=0)\n",
    "# time_real_mat = rfft(np.eye(Orbit.N//2+1), norm='ortho', axis=0)\n",
    "time_forward = np.concatenate((time_mat[:-1, :].real, time_mat[1:-1, :].imag), axis=0)\n",
    "time_mat_large = np.insert(time_forward, np.arange(time_forward.shape[1]), time_forward, axis=1)*rangefft\n",
    "full_time_fft_matrix = np.kron(time_mat_large, np.eye(Orbit.m))\n",
    "# np.linalg.norm(full_time_ifft_matrix-Orbit.time_ifft_matrix())"
   ]
  },
  {
   "cell_type": "code",
   "execution_count": null,
   "metadata": {},
   "outputs": [],
   "source": [
    "%%timeit\n",
    "rangefft = np.zeros((31, 64),dtype=int)\n",
    "#odd rows\n",
    "rangefft[1:-15:2,::2] = 1\n",
    "rangefft[:-15:2,1::2] = 1\n",
    "rangefft[-15+1::2,1::2] = 1\n",
    "rangefft[-15::2, ::2] = 1"
   ]
  },
  {
   "cell_type": "code",
   "execution_count": null,
   "metadata": {},
   "outputs": [],
   "source": [
    "%%timeit\n",
    "shuf22 = np.tile(np.insert(np.ones(32), np.arange(32), np.zeros(32)).reshape(1, -1), (8, 1))\n",
    "shuf12 = np.tile(np.insert(np.zeros(32), np.arange(32), np.ones(32)).reshape(1, -1), (8, 1))\n",
    "shuffle_mat2 = np.insert(shuf12, np.arange(8), shuf22, axis=0)\n",
    "shuf_final = np.concatenate((shuffle_mat2, shuffle_mat2[1:,:]), axis=0)\n",
    "\n",
    "time_mat = rfft(np.eye(Orbit.M), norm='ortho', axis=0)\n",
    "time_forward = np.concatenate((time_mat[:-1, :].real, time_mat[1:-1, :].imag), axis=0)\n",
    "time_mat_large = np.insert(time_forward, np.arange(time_forward.shape[1]), time_forward, axis=1)*shuf_final\n",
    "full_time_fft_matrix = np.kron(time_mat_large, np.eye(Orbit.m))"
   ]
  },
  {
   "cell_type": "code",
   "execution_count": null,
   "metadata": {},
   "outputs": [],
   "source": [
    "plt.imshow(full_time_ifft_matrix)"
   ]
  },
  {
   "cell_type": "code",
   "execution_count": null,
   "metadata": {},
   "outputs": [],
   "source": [
    "plt.imshow(Orbit.time_irfft_matrix()-full_time_ifft_matrix)"
   ]
  },
  {
   "cell_type": "code",
   "execution_count": null,
   "metadata": {},
   "outputs": [],
   "source": [
    "rangefft = np.zeros((31, 64),dtype=int)\n",
    "rangefft[1::2,::2] = 1\n",
    "rangefft[::2,1::2] = 1"
   ]
  },
  {
   "cell_type": "code",
   "execution_count": null,
   "metadata": {},
   "outputs": [],
   "source": [
    "shuf22 = np.tile(np.insert(np.ones(32), np.arange(32), np.zeros(32)).reshape(1, -1), (8, 1))\n",
    "shuf12 = np.tile(np.insert(np.zeros(32), np.arange(32), np.ones(32)).reshape(1, -1), (8, 1))\n",
    "shuffle_mat2 = np.insert(shuf12, np.arange(8), shuf22, axis=0)\n",
    "shuf_final = np.concatenate((shuffle_mat2, shuffle_mat2[1:,:]), axis=0)"
   ]
  },
  {
   "cell_type": "code",
   "execution_count": null,
   "metadata": {},
   "outputs": [],
   "source": [
    "plt.imshow(np.concatenate((shuffle_mat2, shuffle_mat2[1:,:]), axis=0))"
   ]
  },
  {
   "cell_type": "code",
   "execution_count": null,
   "metadata": {},
   "outputs": [],
   "source": [
    "plt.imshow(np.concatenate((rangefft, rangefft[1:,:]), axis=0))"
   ]
  },
  {
   "cell_type": "code",
   "execution_count": null,
   "metadata": {},
   "outputs": [],
   "source": [
    "np.linalg.norm(np.kron(t3, np.eye(ppoOrbit.m)).dot(ppoOrbit.convert(to='s_modes').state.ravel())-ppo_old_vv.ravel())"
   ]
  },
  {
   "cell_type": "code",
   "execution_count": null,
   "metadata": {},
   "outputs": [],
   "source": [
    "full_time_fft_matrix.dot(ppoOrbit.convert(to='s_modes').state.ravel())"
   ]
  },
  {
   "cell_type": "code",
   "execution_count": null,
   "metadata": {},
   "outputs": [],
   "source": [
    "np.linalg.norm(ppo_old_vv.ravel()-full_time_fft_matrix.dot(ppoOrbit.convert(to='s_modes').state.ravel()))"
   ]
  },
  {
   "cell_type": "code",
   "execution_count": null,
   "metadata": {},
   "outputs": [],
   "source": [
    "full_time_fft_matrix.shape"
   ]
  },
  {
   "cell_type": "code",
   "execution_count": null,
   "metadata": {},
   "outputs": [],
   "source": [
    "self = ppoOrbit\n",
    "ft = np.sqrt(self.N) * old_irfft(np.eye(self.N), axis=0)[:, :-1]\n",
    "indices = np.arange(0, self.n)\n",
    "odd_freq = indices[np.where(~np.mod(indices, 2).astype(bool))]\n",
    "even_freq = indices[np.where(np.mod(indices, 2).astype(bool))]\n",
    "\n",
    "zero = ft[:, 0]\n",
    "real = ft[:, 2 * indices + 1]\n",
    "imaginary = ft[:, 2 * indices + 2]\n",
    "\n",
    "even = np.concatenate((zero.reshape(-1, 1), real[:, even_freq], imaginary[:, even_freq]), axis=1)\n",
    "odd = np.concatenate((real[:, odd_freq], imaginary[:, odd_freq]), axis=1)\n",
    "\n",
    "even_staggered_rows = np.insert(even, np.arange(even.shape[0]), np.zeros([1, even.shape[1]]), axis=0)\n",
    "odd_staggered_rows = np.insert(odd, np.arange(odd.shape[0])+1, np.zeros([1, odd.shape[1]]), axis=0)\n",
    "\n",
    "# Adds a new-axis during the reshape operation\n",
    "e3 = even_staggered_rows.reshape(even_staggered_rows.shape[0], even_staggered_rows.shape[1], 1)\n",
    "o3 = odd_staggered_rows.reshape(odd_staggered_rows.shape[0], odd_staggered_rows.shape[1], 1)\n",
    "shuffle_indices = np.concatenate((np.arange(o3.shape[1] // 2),\n",
    "                                  ((o3.shape[1] // 2) + 1) + np.arange(o3.shape[1] // 2 - 1)), axis=0)\n",
    "irfft_mat = np.squeeze(np.insert(o3, shuffle_indices, e3, axis=1))"
   ]
  },
  {
   "cell_type": "code",
   "execution_count": null,
   "metadata": {},
   "outputs": [],
   "source": [
    "%%timeit\n",
    "even_indices = np.arange(0, Orbit.N//2, 2)\n",
    "odd_indices = np.arange(1, Orbit.N//2, 2)\n",
    "complex_spacetime = ppo_spacetime_modes[:-n, :]+1j*np.concatenate((np.zeros([1,Orbit.m]), ppo_spacetime_modes[-n:, :]),axis=0)\n",
    "full_complex=np.concatenate((complex_spacetime,np.zeros([1,Orbit.m])),axis=0)\n",
    "a, b = full_complex.copy(), full_complex.copy()\n",
    "a[even_indices, :] = 0\n",
    "b[odd_indices, :] = 0\n",
    "irfft(np.concatenate((a,b), axis=1), norm='ortho',axis=0)"
   ]
  },
  {
   "cell_type": "code",
   "execution_count": null,
   "metadata": {},
   "outputs": [],
   "source": [
    "fig, (ax0, ax1, ax2) = plt.subplots(1,3,figsize=(8,8))\n",
    "ax0.imshow(rediscretize(x, newN=512, newM=512).convert(to='field').state, \n",
    "           cmap='jet', vmin=noise_x.state.min(), vmax=noise_x.state.max(),\n",
    "           extent=[0, x.L/(2*pi), 0, x.T],aspect=0.25\n",
    "          )\n",
    "ax1.imshow(rediscretize(noise_y, newN=512, newM=512).convert(to='field').state,\n",
    "           cmap='jet', vmin=noise_x.state.min(), vmax=noise_x.state.max(),\n",
    "           extent=[0, x.L/(2*pi), 0, x.T],aspect=0.25\n",
    "          )\n",
    "im = ax2.imshow(rediscretize(noise_x, newN=512, newM=512).convert(to='field').state,\n",
    "                cmap='jet', vmin=noise_x.state.min(), vmax=noise_x.state.max(),\n",
    "           extent=[0, x.L/(2*pi), 0, x.T],aspect=0.25\n",
    "               )\n",
    "\n",
    "# fig.colorbar(im, ax=[ax0,ax1,ax2])\n",
    "fig.subplots_adjust(right=0.8)\n",
    "# put colorbar at desire position\n",
    "cbar_ax = fig.add_axes([0.85, 0.35, 0.02, 0.29])\n",
    "fig.colorbar(im, cax=cbar_ax)\n",
    "_ = ax1.set_yticks([])\n",
    "_ = ax2.set_yticks([])"
   ]
  },
  {
   "cell_type": "code",
   "execution_count": null,
   "metadata": {},
   "outputs": [],
   "source": [
    "fig, (ax0, ax1, ax2, ax3) = plt.subplots(1,4,figsize=(20,20))\n",
    "ax0.imshow(rediscretize(x, newN=512, newM=512).state, \n",
    "           cmap='jet', vmin=noise_x.state.min(), vmax=noise_x.state.max(),\n",
    "           extent=[0, x.L/(2*pi), 0, x.T],aspect=0.25\n",
    "          )\n",
    "ax1.imshow(rediscretize(noise_y, newN=512, newM=512).state,\n",
    "           cmap='jet', vmin=noise_x.state.min(), vmax=noise_x.state.max(),\n",
    "           extent=[0, x.L/(2*pi), 0, x.T],aspect=0.25\n",
    "          )\n",
    "ax2.imshow(rediscretize(noise_x, newN=512, newM=512).state,\n",
    "                cmap='jet', vmin=noise_x.state.min(), vmax=noise_x.state.max(),\n",
    "           extent=[0, x.L/(2*pi), 0, x.T],aspect=0.25\n",
    "               )\n",
    "im = ax3.imshow(rediscretize(noise_x_result, newN=512, newM=512).state,\n",
    "                cmap='jet', vmin=noise_x.state.min(), vmax=noise_x.state.max(),\n",
    "           extent=[0, x.L/(2*pi), 0, x.T], aspect=0.25\n",
    "               )\n",
    "\n",
    "# fig.colorbar(im, ax=[ax0,ax1,ax2])\n",
    "fig.subplots_adjust(right=0.8)\n",
    "# put colorbar at desire position\n",
    "cbar_ax = fig.add_axes([0.81, 0.395, 0.01, 0.214])\n",
    "fig.colorbar(im, cax=cbar_ax)\n",
    "ax0.set_yticks([0, 10, 20])\n",
    "ax0.set_yticklabels([0, 10, 20])\n",
    "_ = ax1.set_yticks([])\n",
    "_ = ax2.set_yticks([])\n",
    "_ = ax3.set_yticks([])\n",
    "plt.savefig('MNG_noise.pdf', bbox_inches='tight', pad_inches=0)"
   ]
  }
 ],
 "metadata": {
  "kernelspec": {
   "display_name": "Python 3",
   "language": "python",
   "name": "python3"
  },
  "language_info": {
   "codemirror_mode": {
    "name": "ipython",
    "version": 3
   },
   "file_extension": ".py",
   "mimetype": "text/x-python",
   "name": "python",
   "nbconvert_exporter": "python",
   "pygments_lexer": "ipython3",
   "version": "3.7.6"
  }
 },
 "nbformat": 4,
 "nbformat_minor": 2
}
