{
 "cells": [
  {
   "cell_type": "markdown",
   "metadata": {},
   "source": [
    "# New code version"
   ]
  },
  {
   "cell_type": "code",
   "execution_count": 1,
   "metadata": {},
   "outputs": [],
   "source": [
    "from scipy.linalg import lstsq\n",
    "def _state_vector_to_orbit(orbit, correction_vector, parameter_constraints=(False,False,False), **kwargs):\n",
    "    \"\"\"\n",
    "    :param orbit:\n",
    "    :param correction_vector:\n",
    "    :param preconditioning:\n",
    "    :param parameter_constraints:\n",
    "    :param kwargs:\n",
    "    :return:\n",
    "    \"\"\"\n",
    "    correction_vector = correction_vector.reshape(-1, 1)\n",
    "    mode_shape, mode_size = orbit.state.shape, orbit.state.size\n",
    "    d_modes = correction_vector[:mode_size]\n",
    "    # slice the changes to parameters from vector\n",
    "    d_params = correction_vector[mode_size:].ravel()\n",
    "\n",
    "    for i, constrained in enumerate(parameter_constraints):\n",
    "        if constrained or (i == len(d_params)):\n",
    "            d_params = np.insert(d_params, i, 0)\n",
    "    dT, dL, dS = d_params\n",
    "    correction_orbit = orbit.__class__(state=np.reshape(d_modes, mode_shape), state_type='modes', T=dT, L=dL, S=dS)\n",
    "    return correction_orbit\n"
   ]
  },
  {
   "cell_type": "code",
   "execution_count": 15,
   "metadata": {},
   "outputs": [],
   "source": [
    "read_h5(\"C:\\\\Users\\\\Matt\\\\Desktop\\\\orbithunter_test_data\\\\none_1001.h5\").to_h5(directory='local')"
   ]
  },
  {
   "cell_type": "code",
   "execution_count": 24,
   "metadata": {},
   "outputs": [
    {
     "data": {
      "text/plain": [
       "array([[0.]])"
      ]
     },
     "execution_count": 24,
     "metadata": {},
     "output_type": "execute_result"
    }
   ],
   "source": [
    "np.zeros([1, 1])"
   ]
  },
  {
   "cell_type": "code",
   "execution_count": 21,
   "metadata": {},
   "outputs": [
    {
     "name": "stdout",
     "output_type": "stream",
     "text": [
      "53.2 ms ± 1.61 ms per loop (mean ± std. dev. of 7 runs, 10 loops each)\n"
     ]
    }
   ],
   "source": [
    "%%timeit\n",
    "rfft(np.random.randn(1024, 1024), norm='ortho', axis=0, workers=-1)"
   ]
  },
  {
   "cell_type": "code",
   "execution_count": 22,
   "metadata": {},
   "outputs": [
    {
     "name": "stdout",
     "output_type": "stream",
     "text": [
      "69 ms ± 857 µs per loop (mean ± std. dev. of 7 runs, 10 loops each)\n"
     ]
    }
   ],
   "source": [
    "%%timeit\n",
    "rfft(np.random.randn(1024, 1024), norm='ortho', axis=0)"
   ]
  },
  {
   "cell_type": "code",
   "execution_count": 16,
   "metadata": {},
   "outputs": [],
   "source": [
    "np.random.seed(0)\n",
    "np.random.randn()"
   ]
  },
  {
   "cell_type": "code",
   "execution_count": 1,
   "metadata": {},
   "outputs": [],
   "source": [
    "from __future__ import print_function, division, absolute_import\n",
    "import os\n",
    "import sys\n",
    "sys.path.insert(0, \"C:\\\\Users\\\\Matt\\\\Desktop\\\\orbithunter\\\\\")\n",
    "from orbithunter import *\n",
    "import numpy as np\n",
    "# from scipy.fft import irfft,rfft,rfftn,irfftn,fftn,ifftn,fft,ifft,fft2,rfft2\n",
    "import itertools\n",
    "from math import pi\n",
    "# from orbithunter.glue import *\n",
    "import matplotlib.pyplot as plt\n",
    "from scipy.fft import rfft, irfft\n",
    "from functools import lru_cache\n",
    "from orbithunter.arrayops import swap_modes\n",
    "%matplotlib inline\n",
    "\n",
    "import time\n",
    "sr_orbit = read_h5(\"C:\\\\Users\\\\Matt\\\\Desktop\\\\orbithunter_test_data\\\\none_000_021.h5\")\n",
    "orbit = OrbitKS(state=sr_orbit.state, state_type=sr_orbit.state_type, T=sr_orbit.T, L=sr_orbit.L+0.01).convert(to='modes')\n",
    "self = orbit.copy()\n",
    "other = orbit.spatiotemporal_mapping()"
   ]
  },
  {
   "cell_type": "code",
   "execution_count": 4,
   "metadata": {},
   "outputs": [
    {
     "name": "stdout",
     "output_type": "stream",
     "text": [
      "212 µs ± 6.1 µs per loop (mean ± std. dev. of 7 runs, 1000 loops each)\n"
     ]
    }
   ],
   "source": [
    "%%timeit\n",
    "assert self.state_type == 'modes', 'Convert to spatiotemporal Fourier mode basis before computations.'\n",
    "modes = self.state\n",
    "elementwise_dt = self.elementwise_dtn(self.parameters)\n",
    "elementwise_dx2 = self.elementwise_dxn(self.parameters, power=2)\n",
    "elementwise_dx4 = self.elementwise_dxn(self.parameters, power=4)\n",
    "\n",
    "dt = swap_modes(np.multiply(elementwise_dt, modes), dimension='time')\n",
    "dx2 = np.multiply(elementwise_dx2, modes)\n",
    "dx4 = np.multiply(elementwise_dx4, modes)\n",
    "linear_modes = dt + dx2 + dx4\n",
    "\n",
    "# Return Spatial derivative with 1/2 factor. The conversion to modes does not do anything unless original\n",
    "# state has discrete symmetry\n",
    "orbit_field = self.convert(to='field')\n",
    "pseudospectral_modes = orbit_field.statemul(orbit_field).convert(to='modes').state\n",
    "# Return Spatial derivative with 1/2 factor. The conversion to modes does not do anything unless original\n",
    "# state has discrete symmetry\n",
    "nonlinear_modes = 0.5 * swap_modes(np.multiply(self.elementwise_dxn(self.parameters),\n",
    "                                    pseudospectral_modes), dimension='space')\n",
    "\n",
    "mapping_modes = linear_modes + nonlinear_modes\n",
    "self.__class__(state=mapping_modes, state_type='modes', T=self.T, L=self.L)"
   ]
  },
  {
   "cell_type": "code",
   "execution_count": 5,
   "metadata": {},
   "outputs": [
    {
     "name": "stdout",
     "output_type": "stream",
     "text": [
      "208 µs ± 4.87 µs per loop (mean ± std. dev. of 7 runs, 1000 loops each)\n"
     ]
    }
   ],
   "source": [
    "%%timeit\n",
    "assert self.state_type == 'modes', 'Convert to spatiotemporal Fourier mode basis before computations.'\n",
    "modes = self.state\n",
    "# initialize fourier frequency multipliers for derivatives\n",
    "elementwise_dt = self.elementwise_dtn(self.parameters)\n",
    "elementwise_dx2 = self.elementwise_dxn(self.parameters, power=2)\n",
    "elementwise_dx4 = self.elementwise_dxn(self.parameters, power=4)\n",
    "\n",
    "# multiply to produce derivatives of modes\n",
    "dt = swap_modes(np.multiply(elementwise_dt, modes), dimension='time')\n",
    "dx2 = np.multiply(elementwise_dx2, modes)\n",
    "dx4 = np.multiply(elementwise_dx4, modes)\n",
    "# aggregate into linear term of KSe\n",
    "linear_modes = dt + dx2 + dx4\n",
    "\n",
    "# compute nonlinear term 1/2 * (u**2)_x\n",
    "orbit_field = self.convert(to='field')\n",
    "pseudospectral_modes = orbit_field.statemul(orbit_field).convert(to='modes').state\n",
    "nonlinear_modes = 0.5 * swap_modes(np.multiply(self.elementwise_dxn(self.parameters),\n",
    "                                    pseudospectral_modes), dimension='space')\n",
    "\n",
    "# combine linear and nonlinear parts for full mapping\n",
    "mapping_modes = linear_modes + nonlinear_modes"
   ]
  },
  {
   "cell_type": "code",
   "execution_count": 13,
   "metadata": {},
   "outputs": [
    {
     "name": "stdout",
     "output_type": "stream",
     "text": [
      "62 ns ± 0.583 ns per loop (mean ± std. dev. of 7 runs, 10000000 loops each)\n"
     ]
    }
   ],
   "source": [
    "%%timeit\n",
    "other.state"
   ]
  },
  {
   "cell_type": "code",
   "execution_count": 12,
   "metadata": {},
   "outputs": [
    {
     "name": "stdout",
     "output_type": "stream",
     "text": [
      "265 ns ± 4.1 ns per loop (mean ± std. dev. of 7 runs, 1000000 loops each)\n"
     ]
    }
   ],
   "source": [
    "%%timeit\n",
    "other.state.ravel()"
   ]
  },
  {
   "cell_type": "code",
   "execution_count": 11,
   "metadata": {},
   "outputs": [
    {
     "name": "stdout",
     "output_type": "stream",
     "text": [
      "248 µs ± 5.68 µs per loop (mean ± std. dev. of 7 runs, 1000 loops each)\n"
     ]
    }
   ],
   "source": [
    "%%timeit\n",
    "assert self.state_type == 'modes', 'Convert to spatiotemporal Fourier mode basis before computations.'\n",
    "# Compute the linear terms u_t + u_xx + u_xxxx\n",
    "linear_modes = (self.dt() + self.dx(power=2)\n",
    "                + self.dx(power=4))\n",
    "\n",
    "# compute nonlinear term 1/2 * (u**2)_x\n",
    "orbit_field = self.convert(to='field')\n",
    "nonlinear_modes = orbit_field.pseudospectral(orbit_field)\n",
    "mapping_modes = linear_modes + nonlinear_modes\n",
    "# self.__class__(state=mapping_modes, state_type='modes', T=self.T, L=self.L)"
   ]
  },
  {
   "cell_type": "code",
   "execution_count": 7,
   "metadata": {},
   "outputs": [
    {
     "name": "stdout",
     "output_type": "stream",
     "text": [
      "222 µs ± 5.51 µs per loop (mean ± std. dev. of 7 runs, 1000 loops each)\n"
     ]
    }
   ],
   "source": [
    "%%timeit\n",
    "assert self.state_type == 'modes', 'Convert to spatiotemporal Fourier mode basis before computations.'\n",
    "linear_modes = (self.dt(return_modes=True) + self.dx(power=2, return_modes=True)\n",
    "                + self.dx(power=4, return_modes=True))\n",
    "\n",
    "orbit_field = self.convert(to='field')\n",
    "nonlinear_modes = orbit_field.pseudospectral(orbit_field, return_modes=True)\n",
    "mapping_modes = linear_modes + nonlinear_modes\n",
    "# self.__class__(state=mapping_modes, state_type='modes', T=self.T, L=self.L)"
   ]
  },
  {
   "cell_type": "code",
   "execution_count": 36,
   "metadata": {},
   "outputs": [
    {
     "name": "stdout",
     "output_type": "stream",
     "text": [
      "14.8 µs ± 154 ns per loop (mean ± std. dev. of 7 runs, 100000 loops each)\n"
     ]
    }
   ],
   "source": [
    "%%timeit\n",
    "orbit.dt(return_modes=True)"
   ]
  },
  {
   "cell_type": "code",
   "execution_count": 39,
   "metadata": {},
   "outputs": [
    {
     "data": {
      "text/plain": [
       "9.0"
      ]
     },
     "execution_count": 39,
     "metadata": {},
     "output_type": "execute_result"
    }
   ],
   "source": [
    "test = np.ones(9)\n",
    "test.dot(test)"
   ]
  },
  {
   "cell_type": "code",
   "execution_count": 37,
   "metadata": {},
   "outputs": [
    {
     "name": "stdout",
     "output_type": "stream",
     "text": [
      "18.3 µs ± 181 ns per loop (mean ± std. dev. of 7 runs, 100000 loops each)\n"
     ]
    }
   ],
   "source": [
    "%%timeit\n",
    "orbit.dt()"
   ]
  },
  {
   "cell_type": "code",
   "execution_count": null,
   "metadata": {},
   "outputs": [],
   "source": [
    "# power = 1\n",
    "9.1 µs ± 222 w/ , 5.82 µs ± 223  w/o"
   ]
  },
  {
   "cell_type": "code",
   "execution_count": null,
   "metadata": {},
   "outputs": [],
   "source": [
    "# power = 2\n",
    "9.1 µs ± 222 w/ , 5.82 µs ± 223  w/o"
   ]
  },
  {
   "cell_type": "code",
   "execution_count": 2,
   "metadata": {
    "scrolled": true
   },
   "outputs": [],
   "source": [
    "import time\n",
    "sr_orbit = read_h5(\"C:\\\\Users\\\\Matt\\\\Desktop\\\\orbithunter_test_data\\\\none_000_021.h5\")\n",
    "orbit = read_h5(\"C:\\\\Users\\\\Matt\\\\Desktop\\\\orbithunter_test_data\\\\rpo_L21p95_T72p33.h5\", state_type='modes')\n",
    "orbit.L += 0.01\n",
    "self = orbit.copy()\n",
    "other = orbit.spatiotemporal_mapping()"
   ]
  },
  {
   "cell_type": "code",
   "execution_count": 4,
   "metadata": {},
   "outputs": [
    {
     "data": {
      "text/plain": [
       "(31, 30)"
      ]
     },
     "execution_count": 4,
     "metadata": {},
     "output_type": "execute_result"
    }
   ],
   "source": [
    "%%timeit"
   ]
  },
  {
   "cell_type": "code",
   "execution_count": 4,
   "metadata": {
    "scrolled": true
   },
   "outputs": [
    {
     "data": {
      "text/plain": [
       "'RelativeOrbitKS({\"residual\": \"5.93e-04\", \"N\": 32, \"M\": 32, \"T\": \"7.23e+01\", \"L\": \"2.2e+01\", \"S\": \"3.06e+00\"})'"
      ]
     },
     "execution_count": 4,
     "metadata": {},
     "output_type": "execute_result"
    }
   ],
   "source": [
    "repr(orbit)"
   ]
  },
  {
   "cell_type": "code",
   "execution_count": 5,
   "metadata": {},
   "outputs": [
    {
     "data": {
      "text/plain": [
       "0.0"
      ]
     },
     "execution_count": 5,
     "metadata": {},
     "output_type": "execute_result"
    }
   ],
   "source": [
    "orbit.spatiotemporal_mapping().norm() - 0.03443032290778314"
   ]
  },
  {
   "cell_type": "code",
   "execution_count": 6,
   "metadata": {},
   "outputs": [
    {
     "data": {
      "text/plain": [
       "0.0"
      ]
     },
     "execution_count": 6,
     "metadata": {},
     "output_type": "execute_result"
    }
   ],
   "source": [
    "self.rmatvec(other).norm() - 0.07471894992978417"
   ]
  },
  {
   "cell_type": "code",
   "execution_count": 7,
   "metadata": {},
   "outputs": [
    {
     "data": {
      "text/plain": [
       "0.0"
      ]
     },
     "execution_count": 7,
     "metadata": {},
     "output_type": "execute_result"
    }
   ],
   "source": [
    "self.matvec(other).norm() - 35.51666470002293"
   ]
  },
  {
   "cell_type": "code",
   "execution_count": 8,
   "metadata": {},
   "outputs": [
    {
     "data": {
      "text/plain": [
       "(5.08180393309556e-07, -1.387991997803139e-06, -6.820633216230298e-05)"
      ]
     },
     "execution_count": 8,
     "metadata": {},
     "output_type": "execute_result"
    }
   ],
   "source": [
    "self.rmatvec(other).L, self.rmatvec(other).T, self.rmatvec(other).S"
   ]
  },
  {
   "cell_type": "code",
   "execution_count": 7,
   "metadata": {},
   "outputs": [],
   "source": [
    "step_size = 1\n",
    "mapping = orbit.spatiotemporal_mapping()\n",
    "residual = mapping.residual(apply_mapping=False)\n",
    "dx = orbit.rmatvec(mapping, parameter_constraints=(False, False, False),\n",
    "                   preconditioning=True)\n",
    "next_orbit = orbit.increment(dx, stepsize=-1.0*step_size)\n",
    "next_mapping = next_orbit.spatiotemporal_mapping()\n",
    "next_residual = next_mapping.residual(apply_mapping=False)\n",
    "\n",
    "while next_residual >= residual:\n",
    "    step_size = 0.5*step_size\n",
    "    next_orbit = orbit.increment(dx, stepsize=-1.0*step_size)\n",
    "    next_mapping = next_orbit.spatiotemporal_mapping()\n",
    "    next_residual = next_mapping.residual(apply_mapping=False)\n",
    "    if step_size <= 10**-8:\n",
    "        print('u dun goofed')\n",
    "else:\n",
    "    next_orbit, next_mapping, next_residual"
   ]
  },
  {
   "cell_type": "code",
   "execution_count": 8,
   "metadata": {},
   "outputs": [
    {
     "name": "stdout",
     "output_type": "stream",
     "text": [
      "0.0 0.0 0.0 0.0\n"
     ]
    }
   ],
   "source": [
    "print(next_orbit.norm()-22.76238282853366, next_orbit.T-72.3340672503825,\n",
    "      next_orbit.L-21.968938342724154, next_orbit.S-3.0562703767577277)\n"
   ]
  },
  {
   "cell_type": "code",
   "execution_count": 9,
   "metadata": {},
   "outputs": [
    {
     "name": "stdout",
     "output_type": "stream",
     "text": [
      "0.0 0.0 0.0 0.0\n"
     ]
    }
   ],
   "source": [
    "print(next_mapping.norm()-0.027464641646541842, next_mapping.T- 72.3340672503825,\n",
    "      next_mapping.L-21.968938342724154, next_mapping.S-0.0)"
   ]
  },
  {
   "cell_type": "code",
   "execution_count": 10,
   "metadata": {},
   "outputs": [
    {
     "data": {
      "text/plain": [
       "0.0"
      ]
     },
     "execution_count": 10,
     "metadata": {},
     "output_type": "execute_result"
    }
   ],
   "source": [
    "next_residual - 0.00037715327038648027"
   ]
  },
  {
   "cell_type": "code",
   "execution_count": 11,
   "metadata": {},
   "outputs": [],
   "source": [
    "### this is original\n",
    "# self.rmatvec(other).L, self.rmatvec(other).T, self.rmatvec(other).S"
   ]
  },
  {
   "cell_type": "code",
   "execution_count": 13,
   "metadata": {},
   "outputs": [
    {
     "name": "stdout",
     "output_type": "stream",
     "text": [
      "Starting adj numerical method. Initial residual 0.0005927235677671083\n",
      "........................Current residual 1.5616231327871197e-05\n",
      "........................Current residual 1.0388829945645105e-05\n",
      "........................Current residual 8.190282766659456e-06\n",
      "........................Current residual 7.0645968173551904e-06\n",
      "........................Current residual 6.388837847170745e-06\n",
      "........................Current residual 5.926290633066422e-06\n",
      "........................Current residual 5.577572770002696e-06\n",
      "........................Current residual 5.297002488383504e-06\n",
      "........................Current residual 5.0615322563341e-06\n",
      "........................Current residual 4.858380364740954e-06\n",
      "........................Current residual 4.679791323537839e-06\n",
      "........................Current residual 4.5206725989873606e-06\n",
      "........................Current residual 4.37745651507746e-06\n",
      "..\n",
      "Failed to converge. Maximum number of iterations reached. exiting with residual 4.362931352841281e-06\n",
      "adj desc time 47.507981061935425 per step 0.0028996570472372696\n"
     ]
    }
   ],
   "source": [
    "t0=time.time()\n",
    "result = converge(orbit, method='adj', atol=10**-6, verbose=True)\n",
    "t1=time.time()\n",
    "print('adj desc time', t1-t0, 'per step', (t1-t0) / (16384.))"
   ]
  },
  {
   "cell_type": "code",
   "execution_count": 2,
   "metadata": {},
   "outputs": [
    {
     "data": {
      "text/plain": [
       "0.08876794896092312"
      ]
     },
     "execution_count": 2,
     "metadata": {},
     "output_type": "execute_result"
    }
   ],
   "source": [
    "orbit.rmatvec(orbit.spatiotemporal_mapping()).norm()"
   ]
  },
  {
   "cell_type": "code",
   "execution_count": 3,
   "metadata": {},
   "outputs": [
    {
     "data": {
      "text/plain": [
       "96.30987440230632"
      ]
     },
     "execution_count": 3,
     "metadata": {},
     "output_type": "execute_result"
    }
   ],
   "source": [
    "orbit.matvec(orbit.spatiotemporal_mapping(), preconditioning=False).norm()"
   ]
  },
  {
   "cell_type": "code",
   "execution_count": 3,
   "metadata": {},
   "outputs": [
    {
     "data": {
      "text/plain": [
       "0.05590421434252252"
      ]
     },
     "execution_count": 3,
     "metadata": {},
     "output_type": "execute_result"
    }
   ],
   "source": [
    "#matvec_modes\n",
    "modes = self.state\n",
    "other_modes = other.state\n",
    "elementwise_dt = self.elementwise_dtn(self.parameters)\n",
    "elementwise_dx2 = self.elementwise_dxn(self.parameters, power=2)\n",
    "elementwise_dx4 = self.elementwise_dxn(self.parameters, power=4)\n",
    "\n",
    "dt = swap_modes(np.multiply(elementwise_dt, other_modes), dimension='time')\n",
    "dx2 = np.multiply(elementwise_dx2, other_modes)\n",
    "dx4 = np.multiply(elementwise_dx4, other_modes)\n",
    "linear = dt + dx2 + dx4\n",
    "\n",
    "# Compute nonlinear term\n",
    "field = self.convert(to='field')\n",
    "other_field = other.convert(to='field')\n",
    "nonlinear = swap_modes(np.multiply(self.elementwise_dxn(self.parameters),\n",
    "                        field.statemul(other_field).convert(to='modes').state), dimension='space')\n",
    "\n",
    "matvec_modes = linear + nonlinear\n",
    "np.linalg.norm(matvec_modes)"
   ]
  },
  {
   "cell_type": "code",
   "execution_count": 4,
   "metadata": {},
   "outputs": [
    {
     "data": {
      "text/plain": [
       "0.005141676767724666"
      ]
     },
     "execution_count": 4,
     "metadata": {},
     "output_type": "execute_result"
    }
   ],
   "source": [
    "#matvec_T\n",
    "np.linalg.norm((other.T * (-1.0 / self.T) * dt))"
   ]
  },
  {
   "cell_type": "code",
   "execution_count": 5,
   "metadata": {},
   "outputs": [
    {
     "data": {
      "text/plain": [
       "96.27502258075592"
      ]
     },
     "execution_count": 5,
     "metadata": {},
     "output_type": "execute_result"
    }
   ],
   "source": [
    "#matvec_L\n",
    "dx2_self = np.multiply(elementwise_dx2, modes)\n",
    "dx4_self = np.multiply(elementwise_dx4, modes)\n",
    "dfdl_linear = (-2.0/self.L)*dx2_self + (-4.0/self.L)*dx4_self\n",
    "dfdl_nonlinear = (-1.0/self.L) * 0.5 * swap_modes(np.multiply(self.elementwise_dxn(self.parameters),\n",
    "                    field.statemul(field).convert(to='modes').state), dimension='space')\n",
    "dfdl = dfdl_linear + dfdl_nonlinear\n",
    "np.linalg.norm(other.L * dfdl)"
   ]
  },
  {
   "cell_type": "code",
   "execution_count": 6,
   "metadata": {},
   "outputs": [
    {
     "data": {
      "text/plain": [
       "(18.79718802224487, 27.8319306586044)"
      ]
     },
     "execution_count": 6,
     "metadata": {},
     "output_type": "execute_result"
    }
   ],
   "source": [
    "other.T, other.L"
   ]
  },
  {
   "cell_type": "code",
   "execution_count": 7,
   "metadata": {},
   "outputs": [
    {
     "data": {
      "text/plain": [
       "0.03463146244946721"
      ]
     },
     "execution_count": 7,
     "metadata": {},
     "output_type": "execute_result"
    }
   ],
   "source": [
    "orbit.spatiotemporal_mapping().norm()"
   ]
  },
  {
   "cell_type": "code",
   "execution_count": 9,
   "metadata": {},
   "outputs": [
    {
     "data": {
      "text/plain": [
       "0.0005996690956944287"
      ]
     },
     "execution_count": 9,
     "metadata": {},
     "output_type": "execute_result"
    }
   ],
   "source": [
    "orbit.residual()"
   ]
  },
  {
   "cell_type": "code",
   "execution_count": 8,
   "metadata": {},
   "outputs": [
    {
     "data": {
      "text/plain": [
       "array([ 5.07730901e+01,  1.22974859e+00,  2.58080769e-01,  7.44144663e-02,\n",
       "       -2.94728311e-03, -1.20533347e-02, -1.01267168e-03, -3.58197231e-03,\n",
       "       -1.40700545e-04, -6.54248211e-04, -2.09863534e-05, -1.01569199e-04,\n",
       "       -3.19890535e-06, -1.44372840e-05, -4.67817293e-07, -2.21660503e-06,\n",
       "       -2.26327372e+00, -1.60425093e-01, -3.85533941e-01, -4.40208748e-02,\n",
       "       -4.98995499e-02, -6.45213204e-03, -6.16585045e-03, -7.70900088e-04,\n",
       "       -7.13630063e-04, -8.57954987e-05, -7.52343307e-05, -9.01854409e-06,\n",
       "       -6.89802401e-06, -8.93971933e-07, -5.55629035e-07])"
      ]
     },
     "execution_count": 8,
     "metadata": {},
     "output_type": "execute_result"
    }
   ],
   "source": [
    "f = orbit.spatiotemporal_mapping()\n",
    "orbit.matvec(f).state.sum(axis=1)"
   ]
  },
  {
   "cell_type": "code",
   "execution_count": 13,
   "metadata": {
    "scrolled": true
   },
   "outputs": [
    {
     "data": {
      "text/plain": [
       "(0.05590421434252252,\n",
       " 0.005141676767724666,\n",
       " 96.27502258075592,\n",
       " (18.79718802224487, 27.8319306586044))"
      ]
     },
     "execution_count": 13,
     "metadata": {},
     "output_type": "execute_result"
    }
   ],
   "source": [
    "0.05590421434252252, 0.005141676767724666, 96.27502258075592, (18.79718802224487, 27.8319306586044)"
   ]
  },
  {
   "cell_type": "code",
   "execution_count": 15,
   "metadata": {},
   "outputs": [
    {
     "data": {
      "text/plain": [
       "40.096516331264446"
      ]
     },
     "execution_count": 15,
     "metadata": {},
     "output_type": "execute_result"
    }
   ],
   "source": [
    "orbit.matvec().norm()"
   ]
  },
  {
   "cell_type": "code",
   "execution_count": 14,
   "metadata": {},
   "outputs": [],
   "source": []
  },
  {
   "cell_type": "code",
   "execution_count": 2,
   "metadata": {},
   "outputs": [
    {
     "data": {
      "text/plain": [
       "19.781631426604676"
      ]
     },
     "execution_count": 2,
     "metadata": {},
     "output_type": "execute_result"
    }
   ],
   "source": [
    "field = orbit.convert(to='field')\n",
    "np.linalg.norm(other.L * (-1.0 / self.L) * 0.5 * swap_modes(np.multiply(self.elementwise_dxn(self.parameters),\n",
    "                                field.statemul(field).convert(to='modes').state), dimension='space'))"
   ]
  },
  {
   "cell_type": "code",
   "execution_count": 2,
   "metadata": {},
   "outputs": [
    {
     "name": "stdout",
     "output_type": "stream",
     "text": [
      "17 µs ± 272 ns per loop (mean ± std. dev. of 7 runs, 100000 loops each)\n"
     ]
    }
   ],
   "source": [
    "%%timeit \n",
    "modes = self.state\n",
    "elementwise_dt = self.elementwise_dtn(self.parameters)\n",
    "elementwise_dx2 = self.elementwise_dxn(self.parameters, power=2)\n",
    "elementwise_dx4 = self.elementwise_dxn(self.parameters, power=4)\n",
    "dt = swap_modes(np.multiply(elementwise_dt, modes), dimension='time')\n",
    "dx2 = np.multiply(elementwise_dx2, modes)\n",
    "dx4 = np.multiply(elementwise_dx4, modes)\n",
    "linear = dt + dx2 + dx4"
   ]
  },
  {
   "cell_type": "code",
   "execution_count": 3,
   "metadata": {},
   "outputs": [
    {
     "data": {
      "text/plain": [
       "OrbitKS()"
      ]
     },
     "execution_count": 3,
     "metadata": {},
     "output_type": "execute_result"
    }
   ],
   "source": [
    "orbit.matvec(orbit.spatiotemporal_mapping())"
   ]
  },
  {
   "cell_type": "code",
   "execution_count": 7,
   "metadata": {},
   "outputs": [
    {
     "data": {
      "text/plain": [
       "0.05590421434252252"
      ]
     },
     "execution_count": 7,
     "metadata": {},
     "output_type": "execute_result"
    }
   ],
   "source": []
  },
  {
   "cell_type": "code",
   "execution_count": null,
   "metadata": {},
   "outputs": [],
   "source": []
  },
  {
   "cell_type": "code",
   "execution_count": 15,
   "metadata": {},
   "outputs": [
    {
     "name": "stdout",
     "output_type": "stream",
     "text": [
      "349 µs ± 1.91 µs per loop (mean ± std. dev. of 7 runs, 1000 loops each)\n"
     ]
    }
   ],
   "source": [
    "%%timeit\n",
    "\n",
    "# Convert state information to field inplace; derivative operation switches this back to modes?\n",
    "orbit_field = self.convert(to='field')\n",
    "nonlinear = orbit_field.pseudospectral(orbit_field)\n",
    "# Return Spatial derivative with 1/2 factor. The conversion to modes does not do anything unless original\n",
    "# state has discrete symmetry\n",
    "# nonlinear = 0.5 * pseudospectral_orbit.dx().convert(to='modes')"
   ]
  },
  {
   "cell_type": "code",
   "execution_count": 6,
   "metadata": {},
   "outputs": [
    {
     "name": "stdout",
     "output_type": "stream",
     "text": [
      "15.7 µs ± 117 ns per loop (mean ± std. dev. of 7 runs, 100000 loops each)\n"
     ]
    }
   ],
   "source": [
    "%%timeit \n",
    "modes = self.state\n",
    "elementwise_dt = self.elementwise_dtn(self.parameters)\n",
    "elementwise_dx2 = self.elementwise_dxn(self.parameters, power=2)\n",
    "# elementwise_dx4 = self.elementwise_dxn(self.parameters, power=4)\n",
    "dt = swap_modes(np.multiply(elementwise_dt, modes), dimension='time')\n",
    "dx2 = np.multiply(elementwise_dx2, modes)\n",
    "dx4 = np.multiply(elementwise_dx2, dx2)\n",
    "linear = dt + dx2 + dx4"
   ]
  },
  {
   "cell_type": "code",
   "execution_count": 10,
   "metadata": {},
   "outputs": [
    {
     "name": "stdout",
     "output_type": "stream",
     "text": [
      "17.5 µs ± 132 ns per loop (mean ± std. dev. of 7 runs, 100000 loops each)\n"
     ]
    }
   ],
   "source": [
    "%%timeit\n",
    "modes = self.convert(to='modes').state\n",
    "elementwise_dt = self.elementwise_dtn(self.parameters)\n",
    "elementwise_dx2 = self.elementwise_dxn(self.parameters, power=2)\n",
    "elementwise_dx4 = self.elementwise_dxn(self.parameters, power=4)\n",
    "\n",
    "dt = swap_modes(np.multiply(elementwise_dt, modes), dimension='time')\n",
    "dx2 = np.multiply(elementwise_dx2, modes)\n",
    "dx4 = np.multiply(elementwise_dx4, modes)\n",
    "linear = dt + dx2 + dx4"
   ]
  },
  {
   "cell_type": "code",
   "execution_count": 13,
   "metadata": {},
   "outputs": [],
   "source": [
    "modes = self.convert(to='modes').state\n",
    "elementwise_dt = self.elementwise_dtn(self.parameters)\n",
    "elementwise_dx2 = self.elementwise_dxn(self.parameters, power=2)\n",
    "elementwise_dx4 = self.elementwise_dxn(self.parameters, power=4)\n",
    "\n",
    "dt = swap_modes(np.multiply(elementwise_dt, modes), dimension='time')\n",
    "dx2 = np.multiply(elementwise_dx2, modes)\n",
    "dx4 = np.multiply(elementwise_dx4, modes)\n",
    "linear = dt + dx2 + dx4"
   ]
  },
  {
   "cell_type": "code",
   "execution_count": 4,
   "metadata": {},
   "outputs": [
    {
     "name": "stdout",
     "output_type": "stream",
     "text": [
      "181 µs ± 1.1 µs per loop (mean ± std. dev. of 7 runs, 10000 loops each)\n"
     ]
    }
   ],
   "source": [
    "%timeit self.nonlinear()"
   ]
  },
  {
   "cell_type": "code",
   "execution_count": 8,
   "metadata": {},
   "outputs": [
    {
     "name": "stdout",
     "output_type": "stream",
     "text": [
      "94.4 µs ± 793 ns per loop (mean ± std. dev. of 7 runs, 10000 loops each)\n"
     ]
    }
   ],
   "source": [
    "%timeit orbit.convert(to='field')"
   ]
  },
  {
   "cell_type": "code",
   "execution_count": 9,
   "metadata": {},
   "outputs": [
    {
     "name": "stdout",
     "output_type": "stream",
     "text": [
      "446 ns ± 1.05 ns per loop (mean ± std. dev. of 7 runs, 1000000 loops each)\n"
     ]
    }
   ],
   "source": [
    "%timeit orbit.convert(to=orbit.state_type)"
   ]
  },
  {
   "cell_type": "code",
   "execution_count": 6,
   "metadata": {},
   "outputs": [
    {
     "data": {
      "image/png": "[encoded data removed]",
      "text/plain": [
       "<Figure size 195.967x174.13 with 2 Axes>"
      ]
     },
     "metadata": {
      "needs_background": "light"
     },
     "output_type": "display_data"
    }
   ],
   "source": [
    "orbit.plot()"
   ]
  },
  {
   "cell_type": "code",
   "execution_count": 2,
   "metadata": {},
   "outputs": [
    {
     "name": "stdout",
     "output_type": "stream",
     "text": [
      "183 µs ± 1.2 µs per loop (mean ± std. dev. of 7 runs, 10000 loops each)\n"
     ]
    }
   ],
   "source": [
    "%%timeit\n",
    "# Convert state information to field inplace; derivative operation switches this back to modes?\n",
    "orbit_field = self.convert(to='field')\n",
    "# nonlinear = orbit_field.pseudospectral(orbit_field)\n",
    "\n",
    "nonlinear = 0.5 * swap_modes(np.multiply(self.elementwise_dxn(self.parameters), \n",
    "                        orbit_field.statemul(orbit_field).convert(to='modes').state), dimension='space')\n",
    "# orbit_mapping = linear + nonlinear"
   ]
  },
  {
   "cell_type": "code",
   "execution_count": 18,
   "metadata": {},
   "outputs": [
    {
     "name": "stdout",
     "output_type": "stream",
     "text": [
      "286 µs ± 1.38 µs per loop (mean ± std. dev. of 7 runs, 1000 loops each)\n"
     ]
    }
   ],
   "source": [
    "%%timeit\n",
    "# Convert state information to field inplace; derivative operation switches this back to modes?\n",
    "orbit_field = self.convert(to='field')\n",
    "# nonlinear = orbit_field.pseudospectral(orbit_field)\n",
    "nonlinear = 0.5*orbit_field.statemul(orbit_field).dx()\n",
    "# nonlinear = 0.5 * swap_modes(np.multiply(self.elementwise_dxn(self.parameters), \n",
    "#                         orbit_field.statemul(orbit_field).convert(to='modes').state), dimension='space')\n",
    "# orbit_mapping = linear + nonlinear"
   ]
  },
  {
   "cell_type": "code",
   "execution_count": 5,
   "metadata": {},
   "outputs": [
    {
     "name": "stdout",
     "output_type": "stream",
     "text": [
      "201 µs ± 915 ns per loop (mean ± std. dev. of 7 runs, 10000 loops each)\n"
     ]
    }
   ],
   "source": [
    "%%timeit\n",
    "modes = self.convert(to='modes').state\n",
    "elementwise_dt = self.elementwise_dtn(self.parameters)\n",
    "elementwise_dx2 = self.elementwise_dxn(self.parameters, power=2)\n",
    "# elementwise_dx4 = self.elementwise_dxn(self.parameters, power=4)\n",
    "\n",
    "dt = swap_modes(np.multiply(elementwise_dt, modes), dimension='time')\n",
    "dx2 = np.multiply(elementwise_dx2, modes)\n",
    "dx4 = np.multiply(elementwise_dx2, dx2)\n",
    "linear = dt + dx2 + dx4\n",
    "\n",
    "# Convert state information to field inplace; derivative operation switches this back to modes?\n",
    "orbit_field = self.convert(to='field')\n",
    "# nonlinear = orbit_field.pseudospectral(orbit_field)\n",
    "\n",
    "nonlinear = 0.5 * swap_modes(np.multiply(self.elementwise_dxn(self.parameters), \n",
    "                        orbit_field.statemul(orbit_field).convert(to='modes').state), dimension='space')\n",
    "orbit_mapping = linear + nonlinear"
   ]
  },
  {
   "cell_type": "code",
   "execution_count": 6,
   "metadata": {},
   "outputs": [
    {
     "name": "stdout",
     "output_type": "stream",
     "text": [
      "22.4 µs ± 4.29 µs per loop (mean ± std. dev. of 7 runs, 100000 loops each)\n"
     ]
    }
   ],
   "source": [
    "%%timeit \n",
    "wj_matrix = self.elementwise_dtn(self.parameters, power=1)\n",
    "elementwise_qk2 = self.elementwise_dxn(self.parameters, power=2)\n",
    "elementwise_qk4 = self.elementwise_dxn(self.parameters, power=4)\n",
    "dt = swap_modes(np.multiply(wj_matrix, other.state), dimension='time')\n",
    "d2x = np.multiply(elementwise_qk2, other.state)\n",
    "d4x = np.multiply(elementwise_qk4, other.state)\n",
    "linear = -1.0*dt + d2x + d4x"
   ]
  },
  {
   "cell_type": "code",
   "execution_count": 14,
   "metadata": {},
   "outputs": [
    {
     "name": "stdout",
     "output_type": "stream",
     "text": [
      "454 ns ± 1.92 ns per loop (mean ± std. dev. of 7 runs, 1000000 loops each)\n"
     ]
    }
   ],
   "source": [
    "%timeit orbit.convert(to='modes').state_type"
   ]
  },
  {
   "cell_type": "code",
   "execution_count": 15,
   "metadata": {},
   "outputs": [
    {
     "name": "stdout",
     "output_type": "stream",
     "text": [
      "60.6 ns ± 0.587 ns per loop (mean ± std. dev. of 7 runs, 10000000 loops each)\n"
     ]
    }
   ],
   "source": [
    "%timeit assert orbit.state_type == 'modes'"
   ]
  },
  {
   "cell_type": "code",
   "execution_count": 11,
   "metadata": {},
   "outputs": [
    {
     "name": "stdout",
     "output_type": "stream",
     "text": [
      "13.1 µs ± 79.3 ns per loop (mean ± std. dev. of 7 runs, 100000 loops each)\n"
     ]
    }
   ],
   "source": [
    "%%timeit\n",
    "spacetime_modes = self.convert(to='modes').state\n",
    "\n",
    "# Elementwise multiplication of modes with frequencies, this is the derivative.\n",
    "dxn_modes = np.multiply(self.elementwise_dxn(self.parameters, power=power), spacetime_modes)\n",
    "\n",
    "# If the order of the differentiation is odd, need to swap imaginary and real components.\n",
    "if np.mod(power, 2):\n",
    "    dxn_modes = swap_modes(dxn_modes, dimension='space')"
   ]
  },
  {
   "cell_type": "code",
   "execution_count": 10,
   "metadata": {},
   "outputs": [
    {
     "name": "stdout",
     "output_type": "stream",
     "text": [
      "16.7 µs ± 88.3 ns per loop (mean ± std. dev. of 7 runs, 100000 loops each)\n"
     ]
    }
   ],
   "source": [
    "%%timeit    \n",
    "spacetime_modes = self.convert(to='modes').state\n",
    "\n",
    "# Elementwise multiplication of modes with frequencies, this is the derivative.\n",
    "dxn_modes = np.multiply(self.elementwise_dxn(self.parameters, power=power), spacetime_modes)\n",
    "\n",
    "# If the order of the differentiation is odd, need to swap imaginary and real components.\n",
    "if np.mod(power, 2):\n",
    "    dxn_modes = swap_modes(dxn_modes, dimension='space')\n",
    "orbit_dxn = self.__class__(state=dxn_modes, state_type='modes', T=self.T, L=self.L, S=self.S)"
   ]
  },
  {
   "cell_type": "code",
   "execution_count": 4,
   "metadata": {},
   "outputs": [
    {
     "name": "stdout",
     "output_type": "stream",
     "text": [
      "52.4 µs ± 279 ns per loop (mean ± std. dev. of 7 runs, 10000 loops each)\n"
     ]
    }
   ],
   "source": [
    "%%timeit\n",
    "linear = -1.0*other.dt() + other.dx(power=2) + other.dx(power=4)"
   ]
  },
  {
   "cell_type": "code",
   "execution_count": 5,
   "metadata": {},
   "outputs": [
    {
     "name": "stdout",
     "output_type": "stream",
     "text": [
      "30.2 µs ± 297 ns per loop (mean ± std. dev. of 7 runs, 10000 loops each)\n"
     ]
    }
   ],
   "source": [
    "%%timeit\n",
    "linear = -1.0*other.dt_modes() + other.dx_modes(power=2) + other.dx_modes(power=4)"
   ]
  },
  {
   "cell_type": "code",
   "execution_count": 4,
   "metadata": {},
   "outputs": [
    {
     "name": "stdout",
     "output_type": "stream",
     "text": [
      "865 ns ± 4.5 ns per loop (mean ± std. dev. of 7 runs, 1000000 loops each)\n"
     ]
    }
   ],
   "source": [
    "%timeit orbit.elementwise_dxn(orbit.parameters, power=4)"
   ]
  },
  {
   "cell_type": "code",
   "execution_count": 3,
   "metadata": {},
   "outputs": [],
   "source": [
    "linear = -1.0*other.dt() + other.dx(power=2) + other.dx(power=4)\n",
    "\n",
    "# Nonlinear component, equal to -u * v_x\n",
    "orbit_field = self.convert(to='field')\n",
    "nonlinear = orbit_field.rpseudospectral(other)\n",
    "orbit_rmatvec = linear + nonlinear\n",
    "\n",
    "\n",
    "# Derivative with respect to T term equal to DF/DT * v\n",
    "dfdt = (-1.0 / self.T)*self.dt()\n",
    "orbit_rmatvec.T = dfdt.dot(other)\n",
    "\n",
    "\n",
    "# Derivative with respect to L equal to DF/DL * v\n",
    "dfdl_linear = ((-2.0/self.L)*self.dx(power=2) + (-4.0/self.L)*self.dx(power=4))\n",
    "dfdl_nonlinear = (-1.0/self.L) * orbit_field.pseudospectral(orbit_field)\n",
    "dfdl = dfdl_linear + dfdl_nonlinear\n",
    "orbit_rmatvec.L = dfdl.dot(other)\n",
    "\n",
    "\n",
    "# Apply left preconditioning\n",
    "p_matrix = 1.0 / (np.abs(self.elementwise_dtn(self.parameters))\n",
    "                  + np.abs(self.elementwise_dxn(self.parameters, power=2))\n",
    "                  + np.abs(self.elementwise_dxn(self.parameters, power=4)))\n",
    "orbit_rmatvec.state = np.multiply(orbit_rmatvec.state, p_matrix)\n",
    "\n",
    "orbit_rmatvec.T = orbit_rmatvec.T / self.T\n",
    "orbit_rmatvec.L = orbit_rmatvec.L/(self.L**4)\n"
   ]
  },
  {
   "cell_type": "code",
   "execution_count": 4,
   "metadata": {},
   "outputs": [
    {
     "name": "stdout",
     "output_type": "stream",
     "text": [
      "0.0011929008960723877\n"
     ]
    }
   ],
   "source": [
    "t0 = time.time()\n",
    "for x in range(1000):\n",
    "    orbit.rmatvec(orbit.spatiotemporal_mapping())\n",
    "totalt = time.time()-t0\n",
    "print(totalt/1000.)"
   ]
  },
  {
   "cell_type": "code",
   "execution_count": 5,
   "metadata": {},
   "outputs": [
    {
     "data": {
      "text/plain": [
       "28.780369341230333"
      ]
     },
     "execution_count": 5,
     "metadata": {},
     "output_type": "execute_result"
    }
   ],
   "source": [
    "np.linalg.norm(p_matrix)"
   ]
  },
  {
   "cell_type": "code",
   "execution_count": 6,
   "metadata": {},
   "outputs": [
    {
     "data": {
      "text/plain": [
       "(0.08876794896091472,\n",
       " 0.0862369537515598,\n",
       " 0.0746481456886593,\n",
       " -6.4487508377663245e-06,\n",
       " 1.9964930005251016e-07,\n",
       " 0.0)"
      ]
     },
     "execution_count": 6,
     "metadata": {},
     "output_type": "execute_result"
    }
   ],
   "source": [
    "orbit_rmatvec.norm(), linear.norm(), nonlinear.norm(), orbit_rmatvec.T, orbit_rmatvec.L, orbit_rmatvec.S"
   ]
  },
  {
   "cell_type": "code",
   "execution_count": 7,
   "metadata": {},
   "outputs": [
    {
     "data": {
      "text/plain": [
       "0.08876794896091472"
      ]
     },
     "execution_count": 7,
     "metadata": {},
     "output_type": "execute_result"
    }
   ],
   "source": [
    "orbit.rmatvec(orbit.spatiotemporal_mapping()).norm()"
   ]
  },
  {
   "cell_type": "code",
   "execution_count": 8,
   "metadata": {},
   "outputs": [
    {
     "name": "stdout",
     "output_type": "stream",
     "text": [
      "411 µs ± 3.48 µs per loop (mean ± std. dev. of 7 runs, 1000 loops each)\n"
     ]
    }
   ],
   "source": [
    "# the original without caching. \n",
    "%timeit orbit.spatiotemporal_mapping()"
   ]
  },
  {
   "cell_type": "code",
   "execution_count": 9,
   "metadata": {
    "scrolled": true
   },
   "outputs": [
    {
     "name": "stdout",
     "output_type": "stream",
     "text": [
      "1.26 ms ± 174 µs per loop (mean ± std. dev. of 7 runs, 1000 loops each)\n"
     ]
    }
   ],
   "source": [
    "# the original without caching. \n",
    "%timeit orbit.rmatvec(orbit.spatiotemporal_mapping())"
   ]
  },
  {
   "cell_type": "code",
   "execution_count": 10,
   "metadata": {},
   "outputs": [
    {
     "name": "stdout",
     "output_type": "stream",
     "text": [
      "24.3 µs ± 3.43 µs per loop (mean ± std. dev. of 7 runs, 10000 loops each)\n"
     ]
    }
   ],
   "source": [
    "%timeit orbit.dx(power=2) + orbit.dx(power=4)"
   ]
  },
  {
   "cell_type": "code",
   "execution_count": 11,
   "metadata": {},
   "outputs": [
    {
     "name": "stdout",
     "output_type": "stream",
     "text": [
      "30.3 µs ± 159 ns per loop (mean ± std. dev. of 7 runs, 10000 loops each)\n"
     ]
    }
   ],
   "source": [
    "%timeit orbit.dx(power=2) + orbit.dx(power=2).dx(power=2)"
   ]
  },
  {
   "cell_type": "code",
   "execution_count": 12,
   "metadata": {},
   "outputs": [
    {
     "name": "stdout",
     "output_type": "stream",
     "text": [
      "Starting adj numerical method. Initial residual 0.0005996690956943496\n",
      "........................Current residual 9.62781539937062e-06\n",
      "........................Current residual 7.111322261412871e-06\n",
      "........................Current residual 6.280460316994489e-06\n",
      "........................Current residual 5.881058263289789e-06\n",
      "........................Current residual 5.621015125082616e-06\n",
      "........................Current residual 5.415734110640963e-06\n",
      ".............\n",
      "Failed to converge. Maximum number of iterations reached. exiting with residual 5.314735732098758e-06\n",
      "adj desc time 29.445802688598633 per step 0.0017972291680052876\n"
     ]
    }
   ],
   "source": [
    "t0=time.time()\n",
    "result = converge(orbit, method='adj', atol=10**-6, verbose=True)\n",
    "t1=time.time()\n",
    "print('adj desc time', t1-t0, 'per step', (t1-t0) / (16384.))"
   ]
  },
  {
   "cell_type": "code",
   "execution_count": 13,
   "metadata": {},
   "outputs": [
    {
     "name": "stdout",
     "output_type": "stream",
     "text": [
      "14.8 µs ± 87.1 ns per loop (mean ± std. dev. of 7 runs, 100000 loops each)\n"
     ]
    }
   ],
   "source": [
    "%timeit (-2.0/self.L)*self.dx(power=2)"
   ]
  },
  {
   "cell_type": "code",
   "execution_count": 15,
   "metadata": {},
   "outputs": [
    {
     "name": "stdout",
     "output_type": "stream",
     "text": [
      "13.1 µs ± 13.6 ns per loop (mean ± std. dev. of 7 runs, 100000 loops each)\n"
     ]
    }
   ],
   "source": [
    "%%timeit \n",
    "tmp = self.dx(power=2)\n",
    "tmp.state *= -2.0/self.L"
   ]
  },
  {
   "cell_type": "code",
   "execution_count": null,
   "metadata": {},
   "outputs": [],
   "source": [
    "# the original without caching. \n",
    "%%timeit \n",
    "orbit.elementwise_dxn(power=2)"
   ]
  },
  {
   "cell_type": "code",
   "execution_count": 5,
   "metadata": {},
   "outputs": [
    {
     "name": "stdout",
     "output_type": "stream",
     "text": [
      "563 µs ± 2.81 µs per loop (mean ± std. dev. of 7 runs, 1000 loops each)\n"
     ]
    }
   ],
   "source": [
    "%timeit orbit.spatiotemporal_mapping()"
   ]
  },
  {
   "cell_type": "code",
   "execution_count": 9,
   "metadata": {},
   "outputs": [
    {
     "name": "stdout",
     "output_type": "stream",
     "text": [
      "22.2 µs ± 121 ns per loop (mean ± std. dev. of 7 runs, 10000 loops each)\n"
     ]
    }
   ],
   "source": [
    "%timeit orbit.dx(power=2) + orbit.dx(power=4)"
   ]
  },
  {
   "cell_type": "code",
   "execution_count": 10,
   "metadata": {},
   "outputs": [
    {
     "name": "stdout",
     "output_type": "stream",
     "text": [
      "30.9 µs ± 283 ns per loop (mean ± std. dev. of 7 runs, 10000 loops each)\n"
     ]
    }
   ],
   "source": [
    "%timeit orbit.dx(power=2) + orbit.dx(power=2).dx(power=2)"
   ]
  },
  {
   "cell_type": "code",
   "execution_count": 15,
   "metadata": {},
   "outputs": [],
   "source": [
    "orbit1, orbit2 = orbit.copy(), orbit.copy()"
   ]
  },
  {
   "cell_type": "code",
   "execution_count": 16,
   "metadata": {},
   "outputs": [
    {
     "data": {
      "text/plain": [
       "array([[ 1.82701893e+00,  2.66896813e+00,  2.84672811e+00,\n",
       "         4.54719865e+00, -1.32865659e+00, -3.37103121e+00,\n",
       "        -1.67110905e+00,  1.22077502e+00, -1.10552280e+00,\n",
       "        -1.43114686e+01,  4.54719865e+00,  2.64286228e-01,\n",
       "         8.13838926e+00, -2.50099144e+00],\n",
       "       [-2.72598575e-01,  8.02991397e-01,  1.59298279e+00,\n",
       "         9.17621853e-01, -1.72389052e-01, -4.96789766e-01,\n",
       "        -4.52217497e-01,  4.07972599e-01,  1.93859272e+00,\n",
       "         3.16863978e-01, -9.17621853e-01, -8.66658288e-01,\n",
       "        -2.05777059e-01,  3.02162071e-01],\n",
       "       [ 2.99007168e-01,  4.82054834e-01,  1.24146766e-01,\n",
       "        -1.40785808e-01,  4.35438090e-01,  1.61978501e-01,\n",
       "        -1.03895940e-01,  1.99790202e-01, -1.99673650e-01,\n",
       "        -6.24127941e-01, -1.40785808e-01, -8.66140214e-02,\n",
       "        -3.91050694e-01, -1.55491263e-01],\n",
       "       [-4.03433560e-02,  7.26581839e-02,  2.75460967e-01,\n",
       "         2.14412710e-01, -3.95738018e-02, -5.43022380e-03,\n",
       "         3.93155865e-02,  6.03780991e-02,  1.75412373e-01,\n",
       "         5.47925930e-02, -2.14412710e-01, -1.98950937e-01,\n",
       "        -2.24927234e-03, -2.62698350e-02],\n",
       "       [ 3.38443430e-02,  5.45076443e-02,  1.04088010e-02,\n",
       "        -1.76919390e-02,  5.54914970e-02,  3.64669474e-02,\n",
       "        -1.38692429e-02,  2.26140670e-02, -2.25778055e-02,\n",
       "        -5.23285763e-02, -1.76919390e-02, -1.10379450e-02,\n",
       "        -8.80389991e-02, -2.07567888e-02],\n",
       "       [-3.61250894e-03,  8.59351283e-03,  3.70680143e-02,\n",
       "         3.21724761e-02, -6.19983474e-03, -3.34997580e-03,\n",
       "         7.60124360e-03,  5.40650169e-03,  2.07465752e-02,\n",
       "         7.37328648e-03, -3.21724761e-02, -3.11686741e-02,\n",
       "        -1.38760541e-03, -5.07898859e-03],\n",
       "       [ 3.73393806e-03,  6.07425931e-03,  1.16043278e-03,\n",
       "        -1.72780857e-03,  7.11032671e-03,  4.93358896e-03,\n",
       "        -3.17168044e-03,  2.49493765e-03, -2.51604059e-03,\n",
       "        -5.83388956e-03, -1.72780857e-03, -1.41433192e-03,\n",
       "        -1.19107374e-02, -4.74675522e-03],\n",
       "       [-4.08550202e-04,  1.02310465e-03,  4.59192982e-03,\n",
       "         4.17232977e-03, -8.99540118e-04, -1.18917361e-03,\n",
       "         8.22277703e-04,  6.11438586e-04,  2.46999311e-03,\n",
       "         9.13391631e-04, -4.17232977e-03, -4.52229356e-03,\n",
       "        -4.92571838e-04, -5.49428396e-04],\n",
       "       [ 3.99411642e-04,  6.63068288e-04,  1.31254985e-04,\n",
       "        -1.90210228e-04,  8.82925677e-04,  6.41854201e-04,\n",
       "        -5.32755272e-04,  2.66878327e-04, -2.74651878e-04,\n",
       "        -6.59863369e-04, -1.90210228e-04, -1.75624837e-04,\n",
       "        -1.54957312e-03, -7.97324610e-04],\n",
       "       [-4.74970107e-05,  1.17577498e-04,  5.32606116e-04,\n",
       "         4.99580132e-04, -1.21892935e-04, -2.53748881e-04,\n",
       "         5.68898377e-05,  7.10843000e-05,  2.83857190e-04,\n",
       "         1.05941943e-04, -4.99580132e-04, -6.12797167e-04,\n",
       "        -1.05106228e-04, -3.80125743e-05],\n",
       "       [ 4.07212145e-05,  6.78526430e-05,  1.39722966e-05,\n",
       "        -2.07608250e-05,  1.08080039e-04,  8.12206801e-05,\n",
       "        -7.51263123e-05,  2.72090456e-05, -2.81054850e-05,\n",
       "        -7.02434787e-05, -2.07608250e-05, -2.14984565e-05,\n",
       "        -1.96084067e-04, -1.12434472e-04],\n",
       "       [-5.07761692e-06,  1.24988582e-05,  5.73719796e-05,\n",
       "         5.64511535e-05, -1.55902374e-05, -4.26724392e-05,\n",
       "        -5.79581409e-08,  7.59919075e-06,  3.01749129e-05,\n",
       "         1.14119963e-05, -5.64511535e-05, -7.83774160e-05,\n",
       "        -1.76755030e-05,  3.87263914e-08],\n",
       "       [ 3.74701175e-06,  6.14969365e-06,  1.33739259e-06,\n",
       "        -2.12188878e-06,  1.29871180e-05,  9.90023031e-06,\n",
       "        -9.56268505e-06,  2.50367321e-06, -2.54728652e-06,\n",
       "        -6.72352658e-06, -2.12188878e-06, -2.58329840e-06,\n",
       "        -2.39012703e-05, -1.43115696e-05],\n",
       "       [-4.63720171e-07,  1.17004411e-06,  5.59346217e-06,\n",
       "         6.00179995e-06, -1.88974141e-06, -6.19610436e-06,\n",
       "        -8.69088841e-07,  6.94006280e-07,  2.82473636e-06,\n",
       "         1.11260880e-06, -6.00179995e-06, -9.50037164e-06,\n",
       "        -2.56651046e-06,  5.80706598e-07],\n",
       "       [ 2.72074431e-07,  4.29620085e-07,  1.05519507e-07,\n",
       "        -1.85868596e-07,  1.51388263e-06,  1.14225452e-06,\n",
       "        -1.10507446e-06,  1.81794323e-07, -1.77954466e-07,\n",
       "        -5.30482385e-07, -1.85868596e-07, -3.01129979e-07,\n",
       "        -2.75764636e-06, -1.65386081e-06],\n",
       "       [-3.34815896e-08,  8.95089390e-08,  4.70953938e-07,\n",
       "         5.77340513e-07, -2.05666731e-07, -7.80072184e-07,\n",
       "        -2.54745765e-07,  5.01087396e-08,  2.16093695e-07,\n",
       "         9.36785629e-08, -5.77340513e-07, -1.03395648e-06,\n",
       "        -3.23116478e-07,  1.70215679e-07],\n",
       "       [-2.25646881e-03, -5.33818083e-02,  1.51713835e+00,\n",
       "         2.01489783e+00, -7.50437432e-01, -2.51608058e+00,\n",
       "        -1.28557639e+00,  3.37704422e-03, -1.28875086e-01,\n",
       "         3.01777581e-01, -2.01489783e+00, -3.77270374e+00,\n",
       "        -1.04219470e+00,  8.58994680e-01],\n",
       "       [ 8.33435495e-02,  2.14081422e-01,  6.74020520e-02,\n",
       "        -7.83936846e-02,  2.26554355e-01, -4.46737641e-02,\n",
       "        -7.33282524e-02,  5.56883794e-02, -8.86754284e-02,\n",
       "        -3.38852998e-01, -7.83936846e-02, -4.50644631e-02,\n",
       "         1.07852007e-01, -1.09743485e-01],\n",
       "       [ 9.57494542e-04, -2.38941958e-03,  5.30058570e-02,\n",
       "         1.30600677e-01, -4.67880287e-02, -2.72180685e-01,\n",
       "        -2.10922879e-01, -1.43299185e-03, -5.76856917e-03,\n",
       "         1.05435205e-02, -1.30600677e-01, -2.35219305e-01,\n",
       "        -1.12740931e-01,  1.40934162e-01],\n",
       "       [-2.42023723e-03,  2.78869254e-03,  5.11480626e-03,\n",
       "        -2.64255922e-03,  5.10774052e-02,  1.01761974e-02,\n",
       "         2.70937390e-03, -1.61715081e-03, -1.15511427e-03,\n",
       "        -2.57138675e-02, -2.64255922e-03, -1.01599276e-02,\n",
       "        -2.45675137e-02,  4.05486459e-03],\n",
       "       [ 1.68712451e-03, -3.41519103e-03, -4.39794852e-03,\n",
       "         1.00952527e-02, -5.46394743e-03, -2.70117800e-02,\n",
       "        -2.32399173e-02, -2.52496026e-03, -8.24500050e-03,\n",
       "        -8.74806351e-04, -1.00952527e-02, -2.74691187e-02,\n",
       "        -1.11886456e-02,  1.55284163e-02],\n",
       "       [-1.22192979e-03, -1.60978157e-03,  1.68403100e-04,\n",
       "         5.34816667e-04,  7.67018516e-03,  1.85792495e-03,\n",
       "         1.15381017e-03, -8.16467383e-04,  6.66793360e-04,\n",
       "        -8.46619558e-04,  5.34816667e-04, -1.52569469e-03,\n",
       "        -4.48542762e-03,  1.72679895e-03],\n",
       "       [ 3.81793715e-04, -7.45938744e-04, -1.59559223e-03,\n",
       "         7.16033746e-04, -5.45515078e-04, -2.44584312e-03,\n",
       "        -2.39920186e-03, -5.71394674e-04, -1.80085543e-03,\n",
       "        -3.17383027e-04, -7.16033746e-04, -2.74248950e-03,\n",
       "        -1.01310139e-03,  1.60309543e-03],\n",
       "       [-2.63072087e-04, -3.99094542e-04, -2.35459183e-05,\n",
       "         1.56041828e-04,  9.37185238e-04,  1.94501937e-04,\n",
       "         2.14097780e-04, -1.75779149e-04,  1.65310372e-04,\n",
       "         1.18373325e-04,  1.56041828e-04, -1.86417734e-04,\n",
       "        -4.69569213e-04,  3.20419971e-04],\n",
       "       [ 6.25037921e-05, -1.24569927e-04, -3.17777114e-04,\n",
       "        -2.19727971e-06, -4.28882885e-05, -1.92744465e-04,\n",
       "        -2.38320033e-04, -9.35435354e-05, -3.00738408e-04,\n",
       "        -6.32097980e-05,  2.19727972e-06, -2.15613987e-04,\n",
       "        -7.98373714e-05,  1.59240355e-04],\n",
       "       [-4.55429687e-05, -7.06397287e-05, -7.56104426e-06,\n",
       "         2.83505015e-05,  1.00559783e-04,  1.29773659e-05,\n",
       "         3.66768284e-05, -3.04308388e-05,  2.92599337e-05,\n",
       "         3.80119364e-05,  2.83505015e-05, -2.00025846e-05,\n",
       "        -3.13301327e-05,  5.48907527e-05],\n",
       "       [ 9.03229696e-06, -1.85475056e-05, -5.32007202e-05,\n",
       "        -1.38869369e-05, -1.50337308e-06, -1.09514002e-05,\n",
       "        -2.30534471e-05, -1.35177877e-05, -4.47776395e-05,\n",
       "        -1.05822812e-05,  1.38869369e-05, -7.55796686e-06,\n",
       "        -4.53621848e-06,  1.54038209e-05],\n",
       "       [-6.98414872e-06, -1.09562248e-05, -1.44476209e-06,\n",
       "         4.37957290e-06,  9.46143460e-06, -2.70438775e-07,\n",
       "         6.10049050e-06, -4.66665898e-06,  4.53821691e-06,\n",
       "         7.26330952e-06,  4.37957290e-06, -1.88199636e-06,\n",
       "         6.52896958e-07,  9.13002923e-06],\n",
       "       [ 1.22340089e-06, -2.58617439e-06, -8.10986043e-06,\n",
       "        -3.50350765e-06,  3.35479590e-07,  2.08312896e-07,\n",
       "        -2.14926088e-06, -1.83094883e-06, -6.24357729e-06,\n",
       "        -1.61315154e-06,  3.50350765e-06,  1.68656979e-06,\n",
       "         8.62860264e-08,  1.43609020e-06],\n",
       "       [-1.00027518e-06, -1.58676190e-06, -2.36994548e-07,\n",
       "         6.34923917e-07,  7.23965785e-07, -3.02525900e-07,\n",
       "         9.65573270e-07, -6.68362509e-07,  6.57258299e-07,\n",
       "         1.19145205e-06,  6.34923917e-07, -1.44005748e-07,\n",
       "         7.30362130e-07,  1.44508252e-06],\n",
       "       [ 1.80488714e-07, -3.86460711e-07, -1.28845021e-06,\n",
       "        -7.36920281e-07,  1.24145682e-07,  2.10071324e-07,\n",
       "        -1.98309087e-07, -2.70120450e-07, -9.32998690e-07,\n",
       "        -2.56288682e-07,  7.36920282e-07,  6.24122491e-07,\n",
       "         8.70143915e-08,  1.32505896e-07]])"
      ]
     },
     "execution_count": 16,
     "metadata": {},
     "output_type": "execute_result"
    }
   ],
   "source": [
    "orbit1.state"
   ]
  },
  {
   "cell_type": "code",
   "execution_count": 17,
   "metadata": {},
   "outputs": [
    {
     "name": "stdout",
     "output_type": "stream",
     "text": [
      "5.16 µs ± 67.7 ns per loop (mean ± std. dev. of 7 runs, 100000 loops each)\n"
     ]
    }
   ],
   "source": [
    "%%timeit \n",
    "orbit1.state += orbit2.state\n",
    "orbit1.state -= orbit2.state"
   ]
  },
  {
   "cell_type": "code",
   "execution_count": 24,
   "metadata": {},
   "outputs": [],
   "source": [
    "orbit1 = orbit.copy()\n"
   ]
  },
  {
   "cell_type": "code",
   "execution_count": 26,
   "metadata": {},
   "outputs": [
    {
     "name": "stdout",
     "output_type": "stream",
     "text": [
      "8.45 µs ± 97.6 ns per loop (mean ± std. dev. of 7 runs, 100000 loops each)\n"
     ]
    }
   ],
   "source": [
    "\n",
    "%%timeit \n",
    "orbit3 = orbit1 + orbit2\n",
    "orbit3 = orbit3 - orbit2"
   ]
  },
  {
   "cell_type": "code",
   "execution_count": 10,
   "metadata": {},
   "outputs": [
    {
     "name": "stdout",
     "output_type": "stream",
     "text": [
      "1.35 µs ± 8.74 ns per loop (mean ± std. dev. of 7 runs, 1000000 loops each)\n"
     ]
    }
   ],
   "source": [
    "%timeit orbit1.state+orbit2.state"
   ]
  },
  {
   "cell_type": "code",
   "execution_count": 8,
   "metadata": {},
   "outputs": [
    {
     "name": "stdout",
     "output_type": "stream",
     "text": [
      "4.42 µs ± 151 ns per loop (mean ± std. dev. of 7 runs, 100000 loops each)\n"
     ]
    }
   ],
   "source": [
    "%timeit OrbitKS(state=orbit1.state, state_type=orbit1.state_type, T=orbit1.T, L=orbit1.L) "
   ]
  },
  {
   "cell_type": "code",
   "execution_count": 9,
   "metadata": {},
   "outputs": [
    {
     "name": "stdout",
     "output_type": "stream",
     "text": [
      "4.86 µs ± 35.3 ns per loop (mean ± std. dev. of 7 runs, 100000 loops each)\n"
     ]
    }
   ],
   "source": [
    "%timeit orbit1+orbit2"
   ]
  },
  {
   "cell_type": "code",
   "execution_count": 4,
   "metadata": {},
   "outputs": [],
   "source": [
    "parameter_constraints = (False,False,False)\n",
    "A = orbit.jacobian(parameter_constraints=parameter_constraints)\n",
    "b = -1.0 * orbit.spatiotemporal_mapping().state.ravel()\n",
    "correction_tuple = lstsq(A, b.reshape(-1, 1))\n",
    "correction_vector = correction_tuple[0]\n",
    "dorbit = _state_vector_to_orbit(orbit, correction_vector, parameter_constraints=parameter_constraints)\n",
    "next_orbit = orbit.increment(dorbit, stepsize=1)\n",
    "next_residual = next_orbit.residual()\n",
    "\n",
    "dorbit.to_h5('ShiftReflectionOrbitKS_new_dx.h5')\n",
    "next_orbit.to_h5('ShiftReflectionOrbitKS_new_next_orbit.h5')"
   ]
  },
  {
   "cell_type": "code",
   "execution_count": 16,
   "metadata": {},
   "outputs": [],
   "source": [
    "reqva_test = read_h5('reqva_L27p39.h5', directory='data')\n",
    "rpo_test = reqva_test.copy()"
   ]
  },
  {
   "cell_type": "code",
   "execution_count": 19,
   "metadata": {},
   "outputs": [
    {
     "data": {
      "text/plain": [
       "array([[ 2.00816119e+00,  1.01374031e+01,  1.11253909e+01,\n",
       "        -1.40353747e+00,  2.47945593e+00, -4.92810282e+00,\n",
       "        -2.38748576e-01, -1.12657698e+00,  3.57569991e-01,\n",
       "        -6.96102814e-02,  1.76386189e-01, -8.29370045e-03,\n",
       "         2.40090406e-02, -1.05550170e-02,  1.85951257e-05,\n",
       "        -1.06120071e+01,  7.93479330e+00, -1.19937633e+01,\n",
       "        -1.74281001e+00, -8.81762255e+00,  8.85404094e-01,\n",
       "        -6.38238431e-01,  9.23568861e-01,  2.64677768e-01,\n",
       "         1.64914168e-01,  1.22727752e-02, -2.51199462e-02,\n",
       "        -1.18906760e-02, -1.08448457e-02,  1.87626015e-03],\n",
       "       [ 2.12374323e-07, -6.77159230e-09, -1.05227738e-07,\n",
       "         1.04321013e-07,  6.52678136e-08,  7.85444976e-08,\n",
       "        -1.35071526e-08,  1.50644277e-08, -2.41765619e-08,\n",
       "         4.39556843e-09, -7.62882139e-09,  3.81752699e-09,\n",
       "        -1.76076670e-09,  1.25002985e-09, -3.53632751e-10,\n",
       "         2.82497007e-08, -4.47835335e-09,  1.20880617e-07,\n",
       "         1.36970290e-07, -2.24451893e-08, -2.01766804e-08,\n",
       "        -3.00043004e-08, -1.99963628e-08, -6.00474327e-09,\n",
       "         2.27692427e-09,  9.74782064e-10,  2.01072809e-09,\n",
       "        -4.07674250e-10,  6.19455230e-10, -5.44134039e-10],\n",
       "       [ 1.97795310e-08, -1.21006558e-07,  4.56027074e-08,\n",
       "         2.28018897e-08, -1.01067680e-07,  1.40382629e-07,\n",
       "        -7.47252338e-08,  7.37208511e-08, -4.24806551e-08,\n",
       "         2.90932212e-08, -2.03253067e-08,  9.44477168e-09,\n",
       "        -6.19583733e-09,  2.63999019e-09, -1.01703600e-09,\n",
       "         5.54877930e-08, -1.48279914e-07,  1.88243044e-07,\n",
       "        -1.07586080e-07,  1.61246173e-07, -1.08206203e-07,\n",
       "         8.95744288e-08, -5.18933237e-08,  1.41331176e-08,\n",
       "        -1.16153685e-08,  1.08016220e-09, -2.65989058e-10,\n",
       "        -2.25814486e-10,  1.12963177e-09, -6.47929243e-10],\n",
       "       [-7.61809146e-09,  2.64802547e-08, -4.83631032e-08,\n",
       "         1.82496509e-08,  1.78597522e-08, -1.84821319e-08,\n",
       "         2.26896876e-08, -1.76117878e-08,  1.28820544e-08,\n",
       "        -1.06544487e-08,  5.70686479e-09, -4.03807194e-09,\n",
       "         2.29899423e-09, -1.00281052e-09,  5.33569496e-10,\n",
       "        -3.23522339e-08,  5.47233452e-08, -1.70282736e-08,\n",
       "         3.19628234e-09, -1.14240318e-08,  2.12358433e-08,\n",
       "        -2.91348225e-08,  2.10116760e-08, -1.74068416e-08,\n",
       "         1.01626241e-08, -6.19555818e-09,  4.20637337e-09,\n",
       "        -1.95712546e-09,  1.30800833e-09, -8.21142208e-10],\n",
       "       [-1.78098447e-09,  6.45061391e-10, -1.24805266e-08,\n",
       "         1.52970850e-08, -3.22359881e-09,  5.42229200e-09,\n",
       "        -3.51384127e-09,  2.85847466e-09, -9.63756908e-10,\n",
       "        -2.70582340e-10,  1.16237970e-10, -4.00610211e-10,\n",
       "         2.42537057e-10, -1.25721578e-10,  8.06677100e-11,\n",
       "        -3.14719465e-09,  7.33539881e-09, -1.16987345e-08,\n",
       "         1.89579759e-08, -9.01347548e-09,  9.69187098e-09,\n",
       "        -1.17093955e-08,  7.44095314e-09, -5.95441629e-09,\n",
       "         3.54426350e-09, -2.47470550e-09,  1.65332806e-09,\n",
       "        -9.08524735e-10,  6.18697755e-10, -4.01435539e-10],\n",
       "       [ 3.09109288e-10, -1.21850743e-09,  3.18557027e-09,\n",
       "        -5.23485987e-09,  4.03576337e-09,  5.90484769e-10,\n",
       "        -2.21028515e-09,  2.76251932e-09, -2.42415355e-09,\n",
       "         1.57638758e-09, -1.00426019e-09,  5.12965751e-10,\n",
       "        -2.74294332e-10,  1.45258493e-10, -5.28843256e-11,\n",
       "         4.53625533e-09, -8.12814420e-09,  9.31392221e-09,\n",
       "        -7.48179097e-09,  4.39261080e-09, -1.23380453e-09,\n",
       "         1.79038449e-10, -8.36793094e-10,  8.98287320e-10,\n",
       "        -9.10986389e-10,  6.20544447e-10, -3.40941039e-10,\n",
       "         2.26329509e-10, -1.27956698e-10,  8.79496409e-11],\n",
       "       [-5.04663506e-10,  1.81622986e-09, -2.87407245e-09,\n",
       "         2.40037807e-09, -4.83397874e-10, -1.87365473e-09,\n",
       "         3.06790897e-09, -2.64644701e-09,  1.79472034e-09,\n",
       "        -1.08527467e-09,  6.26424890e-10, -3.55516823e-10,\n",
       "         1.88701926e-10, -9.62211755e-11,  3.66851287e-11,\n",
       "        -1.19546866e-09,  1.55924033e-09, -4.74681266e-10,\n",
       "        -1.90689781e-09,  3.85649537e-09, -3.60424917e-09,\n",
       "         1.89018225e-09, -3.65266903e-10, -3.02579869e-10,\n",
       "         3.74201873e-10, -2.86577838e-10,  1.69433515e-10,\n",
       "        -9.16521470e-11,  4.76756915e-11, -2.55177896e-11],\n",
       "       [-3.73551202e-11,  2.43593006e-10, -6.93000652e-10,\n",
       "         1.28100526e-09, -1.70890834e-09,  1.64546172e-09,\n",
       "        -1.12575856e-09,  5.14975735e-10, -7.95010208e-11,\n",
       "        -8.68829167e-11,  9.36429535e-11, -5.82049094e-11,\n",
       "         2.99525277e-11, -1.53793413e-11,  6.07440832e-12,\n",
       "        -4.81850342e-10,  1.04155881e-09, -1.53601233e-09,\n",
       "         1.58045249e-09, -1.16428905e-09,  5.93939675e-10,\n",
       "        -6.82471302e-11, -1.65735938e-10,  1.12095001e-10,\n",
       "         2.31704269e-12, -6.24517597e-11,  6.46828780e-11,\n",
       "        -4.83477414e-11,  3.26468043e-11, -2.31734928e-11],\n",
       "       [ 3.33954741e-11, -1.23640385e-10,  2.30901879e-10,\n",
       "        -2.64049043e-10,  1.70663555e-10, -1.89525861e-12,\n",
       "        -1.60822343e-10,  2.48281076e-10, -2.40081837e-10,\n",
       "         1.73935642e-10, -9.98285245e-11,  4.72499610e-11,\n",
       "        -1.97868105e-11,  8.16477456e-12, -3.00056507e-12,\n",
       "         1.04286169e-10, -1.61560630e-10,  1.14946469e-10,\n",
       "         4.23857450e-11, -2.42990021e-10,  3.66932413e-10,\n",
       "        -3.36370014e-10,  2.06641674e-10, -6.72796198e-11,\n",
       "        -2.07203777e-11,  4.74928154e-11, -3.89812264e-11,\n",
       "         2.27673986e-11, -1.13367097e-11,  5.89975290e-12],\n",
       "       [ 4.11183681e-13, -3.94147654e-12,  1.68776989e-11,\n",
       "        -4.19876951e-11,  7.43007962e-11, -9.99817721e-11,\n",
       "         1.00134194e-10, -8.13583161e-11,  5.50102039e-11,\n",
       "        -2.98563847e-11,  1.27591859e-11, -3.76988946e-12,\n",
       "         3.84698722e-13,  3.59855653e-13, -2.60791851e-13,\n",
       "         2.13397230e-11, -4.78431572e-11,  7.82378204e-11,\n",
       "        -1.00056073e-10,  1.01049792e-10, -8.86634766e-11,\n",
       "         6.67408245e-11, -3.53921229e-11,  1.16443638e-11,\n",
       "        -3.32426297e-13, -1.90207414e-12,  2.67593661e-13,\n",
       "         1.50125711e-12, -2.33732984e-12,  2.36531294e-12],\n",
       "       [-6.20790847e-13,  2.24581027e-12, -4.10250056e-12,\n",
       "         4.47539755e-12, -2.08451168e-12, -2.42657737e-12,\n",
       "         6.54722938e-12, -8.72813721e-12,  8.70054734e-12,\n",
       "        -6.89289658e-12,  4.50592637e-12, -2.54613577e-12,\n",
       "         1.25789599e-12, -5.44665970e-13,  2.00534342e-13,\n",
       "        -2.88105154e-12,  4.79638064e-12, -4.44506310e-12,\n",
       "         1.46255604e-12,  2.84754374e-12, -6.41131797e-12,\n",
       "         7.13355906e-12, -4.90542247e-12,  1.82719399e-12,\n",
       "         4.59707307e-13, -1.49483490e-12,  1.46352360e-12,\n",
       "        -9.65982673e-13,  5.20442276e-13, -2.55937336e-13],\n",
       "       [-7.69899452e-14,  3.43807079e-13, -1.01482584e-12,\n",
       "         1.98214870e-12, -2.94094654e-12,  3.62398205e-12,\n",
       "        -3.72198169e-12,  3.12599425e-12, -2.22162738e-12,\n",
       "         1.39665808e-12, -7.70165780e-13,  3.58108137e-13,\n",
       "        -1.40456334e-13,  4.43791575e-14, -4.27329690e-15,\n",
       "        -1.27674685e-12,  2.56021555e-12, -3.61677353e-12,\n",
       "         4.02562419e-12, -3.50651340e-12,  2.57125473e-12,\n",
       "        -1.81071730e-12,  1.09505164e-12, -4.48942531e-13,\n",
       "         7.97377068e-14,  1.83546862e-14, -8.31407292e-15,\n",
       "        -3.14724605e-14,  7.36221246e-14, -9.18203376e-14],\n",
       "       [ 2.13722472e-14, -9.78685578e-14,  1.62512234e-13,\n",
       "        -7.38043796e-14, -3.01237920e-13,  8.57591371e-13,\n",
       "        -1.20876598e-12,  1.19844016e-12, -9.70349116e-13,\n",
       "         6.65500424e-13, -3.80626702e-13,  1.75608819e-13,\n",
       "        -6.53476555e-14,  1.89628817e-14, -2.77695492e-15,\n",
       "         2.64305770e-13, -4.28020709e-13,  3.80056082e-13,\n",
       "        -1.00143839e-13, -2.24667557e-13,  4.36549838e-13,\n",
       "        -4.26317433e-13,  1.71875224e-13,  1.02385705e-13,\n",
       "        -2.46420483e-13,  2.57578222e-13, -1.95982687e-13,\n",
       "         1.20938443e-13, -5.82543681e-14,  2.55229623e-14],\n",
       "       [ 6.36851860e-15, -2.90061009e-14,  7.80403512e-14,\n",
       "        -1.64279379e-13,  2.59082555e-13, -3.38568503e-13,\n",
       "         3.61165923e-13, -2.94507319e-13,  1.83175279e-13,\n",
       "        -8.49448970e-14,  2.56392282e-14, -2.08279855e-17,\n",
       "        -5.93038082e-15,  5.97368173e-15, -1.84968565e-15,\n",
       "         7.45463924e-14, -1.43830074e-13,  1.91261130e-13,\n",
       "        -1.95711770e-13,  1.30540882e-13, -1.09042150e-14,\n",
       "        -9.36218749e-14,  1.55115144e-13, -1.65774785e-13,\n",
       "         1.31961991e-13, -8.37022124e-14,  3.79525958e-14,\n",
       "        -9.02638118e-15, -4.81721640e-15,  8.72750808e-15],\n",
       "       [-3.83799444e-15,  1.66444293e-14, -3.65419700e-14,\n",
       "         5.06758053e-14, -4.23083085e-14,  1.00045188e-14,\n",
       "         2.79715685e-14, -5.49421324e-14,  6.61658605e-14,\n",
       "        -6.07298746e-14,  4.66092126e-14, -2.96349588e-14,\n",
       "         1.62542622e-14, -7.15815197e-15,  2.12640454e-15,\n",
       "        -3.66371209e-14,  6.25806481e-14, -6.74074425e-14,\n",
       "         4.39743788e-14,  2.54685487e-15, -5.48261159e-14,\n",
       "         8.50805480e-14, -7.91834090e-14,  5.08591839e-14,\n",
       "        -2.14291585e-14,  5.28813738e-16,  8.63489255e-15,\n",
       "        -1.15438850e-14,  8.37293219e-15, -7.67339298e-15],\n",
       "       [-6.38692886e-17, -6.40715339e-16, -1.96774758e-15,\n",
       "         3.97059645e-15, -1.02771385e-14,  1.93806784e-14,\n",
       "        -2.64736606e-14,  2.87609369e-14, -2.60282599e-14,\n",
       "         1.89073634e-14, -1.02610449e-14,  5.00596984e-15,\n",
       "        -1.30855980e-15,  8.88445361e-16, -3.56112061e-16,\n",
       "         9.30816881e-16, -3.03188633e-15,  8.36560901e-16,\n",
       "         1.76977385e-15, -2.85177253e-15,  5.64186132e-15,\n",
       "        -4.52525475e-15,  3.36912869e-15,  2.74045079e-15,\n",
       "        -4.81387382e-15,  6.40531429e-15, -3.78658602e-15,\n",
       "         2.39667127e-15, -1.00900549e-15,  5.67841878e-16],\n",
       "       [ 1.82998871e-07, -2.41492679e-07,  2.37059964e-07,\n",
       "        -6.43902414e-07,  1.21389231e-07, -3.07302967e-07,\n",
       "         1.43238069e-07, -1.61144253e-08,  5.68040368e-08,\n",
       "         7.32621372e-09,  1.98875411e-09, -5.43728314e-10,\n",
       "        -4.39455138e-09, -1.52950108e-10, -1.14698606e-09,\n",
       "         5.30478500e-08, -1.63360121e-07, -1.48647359e-07,\n",
       "        -4.18056422e-07,  4.35779933e-07, -1.48588095e-07,\n",
       "         2.87635664e-07, -8.94750123e-08,  8.30481112e-08,\n",
       "        -6.32642310e-08,  2.11503096e-08, -2.18277731e-08,\n",
       "         8.41232860e-09, -4.86546889e-09,  3.91721347e-09],\n",
       "       [-2.24623804e-10,  8.17424946e-09,  1.27981874e-07,\n",
       "        -1.48900028e-07,  1.77684409e-07, -1.26400698e-07,\n",
       "         3.29322634e-08, -3.86198580e-08,  4.73128284e-09,\n",
       "        -1.97475277e-09,  3.11686080e-09,  2.43933888e-09,\n",
       "         3.31242843e-10,  4.46513899e-10, -1.85009046e-10,\n",
       "         4.17373505e-09, -4.59552910e-08,  1.06340348e-07,\n",
       "        -1.52369484e-07,  1.19412141e-07, -1.46717759e-07,\n",
       "         6.75393350e-08, -3.95863777e-08,  3.46204307e-08,\n",
       "        -8.12584459e-09,  9.52277045e-09, -3.34981706e-09,\n",
       "         6.92327926e-10, -9.68974913e-10, -9.51962955e-11],\n",
       "       [ 7.59125075e-10,  4.36822579e-09, -3.31291496e-08,\n",
       "         5.61084190e-08, -2.18710153e-08,  1.29208883e-08,\n",
       "        -1.42551271e-08,  1.80426419e-09, -3.75466865e-09,\n",
       "         2.43833929e-09, -2.20570809e-10,  1.04162447e-09,\n",
       "        -3.32481350e-10,  1.12088115e-10, -1.43486760e-10,\n",
       "        -2.71706847e-08,  7.21337345e-08, -9.91573422e-08,\n",
       "         6.71830823e-08, -4.72801065e-08,  2.38796374e-08,\n",
       "        -2.12097811e-08,  1.10469321e-08, -2.29260480e-09,\n",
       "         3.84472202e-09, -1.47072535e-09,  9.11041970e-10,\n",
       "        -1.06319098e-09,  4.89308664e-10, -4.39104476e-10],\n",
       "       [ 1.07905079e-09, -2.67803507e-09,  4.01961654e-09,\n",
       "         2.80241403e-09, -1.69315065e-08,  2.41986893e-08,\n",
       "        -1.63049684e-08,  1.16407712e-08, -8.95460729e-09,\n",
       "         5.60019470e-09, -3.79575096e-09,  2.31557473e-09,\n",
       "        -1.23890128e-09,  6.97578290e-10, -2.44217942e-10,\n",
       "         6.98511613e-09, -1.44961175e-08,  1.47795205e-08,\n",
       "        -1.26606105e-08,  2.36553076e-08, -2.31843142e-08,\n",
       "         1.65309333e-08, -1.27993738e-08,  7.72680129e-09,\n",
       "        -4.47459850e-09,  2.71956822e-09, -1.32126954e-09,\n",
       "         7.73297996e-10, -3.94243573e-10,  1.91272504e-10],\n",
       "       [-2.28407107e-10,  1.53572501e-09, -3.03894453e-09,\n",
       "         3.46795900e-09, -2.29117885e-09, -5.55088937e-11,\n",
       "         1.41743975e-09, -5.22833005e-10, -1.80726260e-10,\n",
       "         3.05748455e-10, -2.67052347e-10,  9.21375003e-11,\n",
       "        -2.42444700e-11,  8.81629957e-12,  6.93620612e-12,\n",
       "         2.03621684e-09, -4.44469960e-09,  7.21547411e-09,\n",
       "        -1.00140719e-08,  9.32746157e-09, -4.33356440e-09,\n",
       "         6.63293626e-10,  1.24278732e-09, -1.98225397e-09,\n",
       "         1.55119294e-09, -1.02889497e-09,  6.50558012e-10,\n",
       "        -3.76600737e-10,  2.47879255e-10, -1.68927910e-10],\n",
       "       [-2.42941782e-10,  1.16843887e-09, -3.07229555e-09,\n",
       "         5.22843076e-09, -6.30366860e-09,  5.39828758e-09,\n",
       "        -3.32088630e-09,  1.57036652e-09, -5.03380332e-10,\n",
       "         5.53081141e-11,  4.00042828e-11, -5.96688288e-11,\n",
       "         3.87885151e-11, -1.69319292e-11,  9.85774674e-12,\n",
       "        -1.93821345e-09,  4.06585430e-09, -5.62506913e-09,\n",
       "         5.59606787e-09, -3.94762592e-09,  2.02337804e-09,\n",
       "        -5.59594608e-10,  8.60861456e-11, -1.85269947e-10,\n",
       "         2.27536536e-10, -2.41055984e-10,  2.16235975e-10,\n",
       "        -1.56571122e-10,  1.16846735e-10, -8.68011775e-11],\n",
       "       [ 1.04605826e-10, -3.84267597e-10,  6.83666288e-10,\n",
       "        -6.70306420e-10,  2.24758034e-10,  3.43331403e-10,\n",
       "        -7.82262009e-10,  8.38065136e-10, -5.71764912e-10,\n",
       "         3.04897886e-10, -1.39404071e-10,  6.10290790e-11,\n",
       "        -3.25102535e-11,  1.69107064e-11, -6.95900794e-12,\n",
       "         3.35190442e-10, -4.79797559e-10,  2.04220902e-10,\n",
       "         4.33670887e-10, -1.09954618e-09,  1.30258198e-09,\n",
       "        -8.69393224e-10,  3.17376918e-10,  5.07563779e-11,\n",
       "        -1.69864658e-10,  1.33618959e-10, -7.95103710e-11,\n",
       "         4.32451883e-11, -2.40721025e-11,  1.62790087e-11],\n",
       "       [ 5.53174975e-12, -4.22059694e-11,  1.51140240e-10,\n",
       "        -3.15903977e-10,  4.76364717e-10, -5.53832844e-10,\n",
       "         4.92541566e-10, -3.36468341e-10,  1.64514307e-10,\n",
       "        -4.44965184e-11, -5.27027538e-12,  1.28859251e-11,\n",
       "        -6.87358511e-12,  1.42907914e-12,  1.10841891e-13,\n",
       "         9.89173950e-11, -2.23237630e-10,  3.47815674e-10,\n",
       "        -3.92922703e-10,  3.09322345e-10, -1.59871210e-10,\n",
       "        -3.31897920e-13,  1.16449636e-10, -1.40971900e-10,\n",
       "         1.02861742e-10, -4.98463772e-11,  1.23270584e-11,\n",
       "         3.03265689e-12, -5.95090648e-12,  4.93385885e-12],\n",
       "       [-4.45126172e-12,  1.76896214e-11, -3.82345833e-11,\n",
       "         5.38258751e-11, -5.05542014e-11,  3.47395468e-11,\n",
       "        -1.27852570e-11, -1.09216392e-11,  2.33852038e-11,\n",
       "        -2.47605460e-11,  1.94976975e-11, -1.22137990e-11,\n",
       "         6.47451191e-12, -2.84833759e-12,  9.64837928e-13,\n",
       "        -2.97109111e-11,  5.30784772e-11, -5.68412843e-11,\n",
       "         3.37120647e-11,  1.09716083e-11, -5.43000390e-11,\n",
       "         6.58834642e-11, -5.44734348e-11,  3.57112685e-11,\n",
       "        -1.72755975e-11,  5.32764707e-12,  3.81960888e-13,\n",
       "        -1.90911323e-12,  1.55727131e-12, -9.73974868e-13],\n",
       "       [-2.02635542e-13,  1.20676600e-12, -3.79117670e-12,\n",
       "         7.75882402e-12, -1.12270695e-11,  1.31333526e-11,\n",
       "        -1.25089847e-11,  9.22125243e-12, -5.20735625e-12,\n",
       "         1.87785082e-12,  7.19363172e-15, -5.38759509e-13,\n",
       "         4.36991297e-13, -2.10096147e-13,  6.51123017e-14,\n",
       "        -3.43462709e-12,  7.15064426e-12, -1.03188366e-11,\n",
       "         1.13283427e-11, -9.07350328e-12,  4.61656705e-12,\n",
       "        -6.45680289e-13, -2.35180322e-12,  3.62832376e-12,\n",
       "        -3.00351630e-12,  1.69215184e-12, -5.37127814e-13,\n",
       "        -1.12505274e-13,  3.18942179e-13, -3.22014380e-13],\n",
       "       [ 1.44882733e-13, -5.90201283e-13,  1.16758094e-12,\n",
       "        -1.42139484e-12,  9.51078487e-13,  1.02050549e-13,\n",
       "        -8.91725639e-13,  1.27273713e-12, -1.41790286e-12,\n",
       "         1.27082536e-12, -9.94502575e-13,  7.02920221e-13,\n",
       "        -4.46275916e-13,  2.47843748e-13, -1.02078450e-13,\n",
       "         1.32957107e-12, -2.29636092e-12,  2.45994261e-12,\n",
       "        -1.58011669e-12,  1.06867829e-13,  1.27921277e-12,\n",
       "        -1.87083320e-12,  1.49605532e-12, -9.30303912e-13,\n",
       "         4.92436708e-13, -1.78213820e-13,  1.39042344e-14,\n",
       "         6.15043746e-14, -8.03040267e-14,  7.66119521e-14],\n",
       "       [ 3.55259405e-14, -1.55711435e-13,  3.84901342e-13,\n",
       "        -6.85264431e-13,  9.19534673e-13, -9.97231327e-13,\n",
       "         9.36268831e-13, -6.46402621e-13,  2.84022457e-13,\n",
       "        -3.04451843e-14, -8.02969718e-14,  9.26330622e-14,\n",
       "        -6.26405620e-14,  2.76059294e-14, -9.56665359e-15,\n",
       "         3.91823758e-13, -7.31294338e-13,  9.22191075e-13,\n",
       "        -8.29263369e-13,  4.27765932e-13,  1.32315240e-13,\n",
       "        -5.08413349e-13,  6.08110710e-13, -5.37783233e-13,\n",
       "         3.57243352e-13, -1.55559900e-13,  1.24334743e-14,\n",
       "         5.56367798e-14, -7.10172085e-14,  6.47326406e-14],\n",
       "       [-1.49576949e-14,  5.40958886e-14, -1.02908068e-13,\n",
       "         1.20211559e-13, -5.61214238e-14, -7.39610884e-14,\n",
       "         1.89693440e-13, -2.33953436e-13,  2.21262793e-13,\n",
       "        -1.72728215e-13,  1.15269286e-13, -6.50366525e-14,\n",
       "         3.04081577e-14, -1.49141531e-14,  4.51642987e-15,\n",
       "        -1.07124516e-13,  1.79283898e-13, -1.80250764e-13,\n",
       "         1.07906002e-13,  8.06963921e-15, -1.12108704e-13,\n",
       "         1.48390941e-13, -1.02394364e-13,  2.80629974e-14,\n",
       "         2.67721514e-14, -5.09180614e-14,  4.96212243e-14,\n",
       "        -4.05241123e-14,  2.91842187e-14, -2.06306597e-14],\n",
       "       [ 8.70273644e-17,  3.08371405e-15, -1.69261189e-14,\n",
       "         4.59175077e-14, -8.34358019e-14,  1.23618827e-13,\n",
       "        -1.42245925e-13,  1.30013567e-13, -9.44464276e-14,\n",
       "         5.41589630e-14, -2.33148991e-14,  5.63326131e-15,\n",
       "         1.27489426e-15, -3.15957442e-15,  8.82308049e-16,\n",
       "        -1.49958823e-14,  3.26387414e-14, -5.02985067e-14,\n",
       "         5.98902963e-14, -4.88507142e-14,  1.97882318e-14,\n",
       "         1.13993386e-14, -3.74899254e-14,  5.18171555e-14,\n",
       "        -5.08861462e-14,  3.79394086e-14, -2.16592588e-14,\n",
       "         7.27360011e-15, -6.29108144e-16, -3.43590791e-15],\n",
       "       [ 1.56684170e-16, -7.94890003e-16,  5.15320023e-15,\n",
       "        -1.20363294e-14,  1.43054896e-14, -1.45390238e-14,\n",
       "         8.78541930e-15, -2.75809764e-15, -2.90663903e-15,\n",
       "         5.17204548e-15, -6.61400039e-15,  5.75793647e-15,\n",
       "        -3.52420194e-15,  1.96781224e-15, -7.33703377e-16,\n",
       "         5.41852317e-15, -1.21372749e-14,  1.54906332e-14,\n",
       "        -1.32739620e-14,  4.96457780e-15,  9.40043624e-15,\n",
       "        -1.89414713e-14,  2.00007957e-14, -1.53070096e-14,\n",
       "         1.03130094e-14, -5.78121826e-15,  2.19751076e-15,\n",
       "        -8.61490195e-16, -1.16639033e-15,  1.04887103e-15]])"
      ]
     },
     "execution_count": 19,
     "metadata": {},
     "output_type": "execute_result"
    }
   ],
   "source": [
    "rpo_test.convert(to='modes').state"
   ]
  },
  {
   "cell_type": "code",
   "execution_count": 6,
   "metadata": {},
   "outputs": [
    {
     "data": {
      "text/plain": [
       "'modes'"
      ]
     },
     "execution_count": 6,
     "metadata": {},
     "output_type": "execute_result"
    }
   ],
   "source": [
    "next_orbit.state_type"
   ]
  },
  {
   "cell_type": "code",
   "execution_count": 7,
   "metadata": {},
   "outputs": [
    {
     "data": {
      "text/plain": [
       "'modes'"
      ]
     },
     "execution_count": 7,
     "metadata": {},
     "output_type": "execute_result"
    }
   ],
   "source": [
    "dorbit.state_type"
   ]
  },
  {
   "cell_type": "code",
   "execution_count": 8,
   "metadata": {},
   "outputs": [],
   "source": [
    "from __future__ import print_function, division, absolute_import\n",
    "import os\n",
    "import sys\n",
    "sys.path.insert(0, \"C:\\\\Users\\\\Matt\\\\Desktop\\\\orbithunter\\\\\")\n",
    "from orbithunter import *\n",
    "import numpy as np\n",
    "# from scipy.fft import irfft,rfft,rfftn,irfftn,fftn,ifftn,fft,ifft,fft2,rfft2\n",
    "import itertools\n",
    "from math import pi\n",
    "import matplotlib.pyplot as plt\n",
    "from scipy.fft import rfft, irfft\n",
    "%matplotlib inline"
   ]
  },
  {
   "cell_type": "code",
   "execution_count": 9,
   "metadata": {
    "scrolled": true
   },
   "outputs": [],
   "source": [
    "# To avoid redundant function calls, store optimization variables using\n",
    "# clunky notation.\n",
    "next_orbit = orbit.increment(dorbit, stepsize=1)\n",
    "next_residual = next_orbit.residual()\n",
    "next_residual\n",
    "\n",
    "dorbit.to_h5('ShiftReflectionOrbitKS_new_dx.h5')\n",
    "next_orbit.to_h5('ShiftReflectionOrbitKS_new_next_orbit.h5')"
   ]
  },
  {
   "cell_type": "code",
   "execution_count": 10,
   "metadata": {},
   "outputs": [
    {
     "data": {
      "text/plain": [
       "'modes'"
      ]
     },
     "execution_count": 10,
     "metadata": {},
     "output_type": "execute_result"
    }
   ],
   "source": [
    "dorbit.state_type"
   ]
  },
  {
   "cell_type": "code",
   "execution_count": 11,
   "metadata": {},
   "outputs": [
    {
     "data": {
      "text/plain": [
       "(64, 32)"
      ]
     },
     "execution_count": 11,
     "metadata": {},
     "output_type": "execute_result"
    }
   ],
   "source": [
    "dorbit.convert(to='field').state.shape"
   ]
  },
  {
   "cell_type": "code",
   "execution_count": 12,
   "metadata": {},
   "outputs": [
    {
     "data": {
      "text/plain": [
       "(63, 15)"
      ]
     },
     "execution_count": 12,
     "metadata": {},
     "output_type": "execute_result"
    }
   ],
   "source": [
    "dorbit.state.shape"
   ]
  },
  {
   "cell_type": "code",
   "execution_count": 13,
   "metadata": {},
   "outputs": [
    {
     "data": {
      "text/plain": [
       "(63, 15)"
      ]
     },
     "execution_count": 13,
     "metadata": {},
     "output_type": "execute_result"
    }
   ],
   "source": [
    "next_orbit.state.shape"
   ]
  },
  {
   "cell_type": "code",
   "execution_count": 14,
   "metadata": {},
   "outputs": [],
   "source": [
    "dorbit_new = read_h5('ShiftReflectionOrbitKS_new_dx.h5')\n",
    "norbit_new =  read_h5('ShiftReflectionOrbitKS_new_next_orbit.h5')"
   ]
  },
  {
   "cell_type": "code",
   "execution_count": 15,
   "metadata": {},
   "outputs": [
    {
     "data": {
      "text/plain": [
       "(64, 32)"
      ]
     },
     "execution_count": 15,
     "metadata": {},
     "output_type": "execute_result"
    }
   ],
   "source": [
    "dorbit_new.state.shape"
   ]
  },
  {
   "cell_type": "code",
   "execution_count": 16,
   "metadata": {},
   "outputs": [
    {
     "data": {
      "text/plain": [
       "array([ 2.38527366e+00,  2.12797768e-01,  5.47833998e+00, -1.38041344e+00,\n",
       "        1.10630379e-01, -4.24506919e-01, -1.84223759e-03, -2.66330978e-02,\n",
       "       -1.42215360e-02, -1.32350216e-02,  4.47684091e-03, -5.01678855e-04,\n",
       "        2.91189870e-04,  8.37055394e-05, -6.42482685e-05])"
      ]
     },
     "execution_count": 16,
     "metadata": {},
     "output_type": "execute_result"
    }
   ],
   "source": [
    "dorbit.L, dorbit.T\n",
    "\n",
    "np.diag(dorbit.state)\n",
    "\n",
    "next_orbit.L, next_orbit.T\n",
    "\n",
    "np.diag(next_orbit.state)"
   ]
  },
  {
   "cell_type": "markdown",
   "metadata": {},
   "source": [
    "# Old code version"
   ]
  },
  {
   "cell_type": "code",
   "execution_count": 17,
   "metadata": {},
   "outputs": [
    {
     "data": {
      "image/png": "[encoded data removed]",
      "text/plain": [
       "<Figure size 181.942x349.649 with 2 Axes>"
      ]
     },
     "metadata": {
      "needs_background": "light"
     },
     "output_type": "display_data"
    },
    {
     "name": "stdout",
     "output_type": "stream",
     "text": [
      "Starting lstsq numerical method. Initial residual 0.0019471593337781078\n",
      "0\n",
      "Converged. exiting with residual 3.7852378724652415e-18\n"
     ]
    },
    {
     "ename": "TypeError",
     "evalue": "jacobian() got an unexpected keyword argument 'fixedparams'",
     "output_type": "error",
     "traceback": [
      "\u001b[1;31m---------------------------------------------------------------------------\u001b[0m",
      "\u001b[1;31mTypeError\u001b[0m                                 Traceback (most recent call last)",
      "\u001b[1;32m<ipython-input-17-2d056d1189f5>\u001b[0m in \u001b[0;36m<module>\u001b[1;34m\u001b[0m\n\u001b[0;32m     47\u001b[0m \u001b[1;33m\u001b[0m\u001b[0m\n\u001b[0;32m     48\u001b[0m \u001b[0mparameter_constraints\u001b[0m \u001b[1;33m=\u001b[0m \u001b[1;33m(\u001b[0m\u001b[1;32mFalse\u001b[0m\u001b[1;33m,\u001b[0m\u001b[1;32mFalse\u001b[0m\u001b[1;33m,\u001b[0m\u001b[1;32mFalse\u001b[0m\u001b[1;33m)\u001b[0m\u001b[1;33m\u001b[0m\u001b[1;33m\u001b[0m\u001b[0m\n\u001b[1;32m---> 49\u001b[1;33m \u001b[0mA\u001b[0m \u001b[1;33m=\u001b[0m \u001b[0morbit\u001b[0m\u001b[1;33m.\u001b[0m\u001b[0mjacobian\u001b[0m\u001b[1;33m(\u001b[0m\u001b[0mfixedparams\u001b[0m\u001b[1;33m=\u001b[0m\u001b[0mparameter_constraints\u001b[0m\u001b[1;33m)\u001b[0m\u001b[1;33m\u001b[0m\u001b[1;33m\u001b[0m\u001b[0m\n\u001b[0m\u001b[0;32m     50\u001b[0m \u001b[0mb\u001b[0m \u001b[1;33m=\u001b[0m \u001b[1;33m-\u001b[0m\u001b[1;36m1.0\u001b[0m \u001b[1;33m*\u001b[0m \u001b[0morbit\u001b[0m\u001b[1;33m.\u001b[0m\u001b[0mspatiotemporal_mapping\u001b[0m\u001b[1;33m(\u001b[0m\u001b[1;33m)\u001b[0m\u001b[1;33m.\u001b[0m\u001b[0mstate\u001b[0m\u001b[1;33m.\u001b[0m\u001b[0mravel\u001b[0m\u001b[1;33m(\u001b[0m\u001b[1;33m)\u001b[0m\u001b[1;33m\u001b[0m\u001b[1;33m\u001b[0m\u001b[0m\n\u001b[0;32m     51\u001b[0m \u001b[0mcorrection_tuple\u001b[0m \u001b[1;33m=\u001b[0m \u001b[0mlstsq\u001b[0m\u001b[1;33m(\u001b[0m\u001b[0mA\u001b[0m\u001b[1;33m,\u001b[0m \u001b[0mb\u001b[0m\u001b[1;33m.\u001b[0m\u001b[0mreshape\u001b[0m\u001b[1;33m(\u001b[0m\u001b[1;33m-\u001b[0m\u001b[1;36m1\u001b[0m\u001b[1;33m,\u001b[0m \u001b[1;36m1\u001b[0m\u001b[1;33m)\u001b[0m\u001b[1;33m)\u001b[0m\u001b[1;33m\u001b[0m\u001b[1;33m\u001b[0m\u001b[0m\n",
      "\u001b[1;31mTypeError\u001b[0m: jacobian() got an unexpected keyword argument 'fixedparams'"
     ]
    }
   ],
   "source": [
    "from __future__ import print_function, division, absolute_import\n",
    "import os\n",
    "import sys\n",
    "sys.path.insert(0, \"C:\\\\Users\\\\Matt\\\\Desktop\\\\orbit-tmp\\\\\")\n",
    "from orbithunter import *\n",
    "import numpy as np\n",
    "# from scipy.fft import irfft,rfft,rfftn,irfftn,fftn,ifftn,fft,ifft,fft2,rfft2\n",
    "import itertools\n",
    "from math import pi\n",
    "import matplotlib.pyplot as plt\n",
    "from scipy.fft import rfft, irfft\n",
    "%matplotlib inline\n",
    "\n",
    "orbit = read_h5(\"C:\\\\Users\\\\Matt\\\\Desktop\\\\orbithunter_test_data\\\\ppo_L21p74_T95p23.h5\")\n",
    "orbit.plot(fundamental_domain=False)\n",
    "orbit.residual()\n",
    "converge(orbit, method='lstsq', atol=10**-14, verbose=True)\n",
    "\n",
    "# np.linalg.norm(orbit.spacetime_ifft().spacetime_fft().state - orbit.state)\n",
    "# np.sum(np.abs(np.dot(orbit.jacobian()[:, :-2], orbit.spatiotemporal_mapping().state.ravel())))\n",
    "# np.dot(orbit.jacobian()[:, :-2], orbit.spatiotemporal_mapping().state.ravel())\n",
    "\n",
    "from scipy.linalg import lstsq\n",
    "\n",
    "def _state_vector_to_orbit(orbit, correction_vector, parameter_constraints=(False,False,False), **kwargs):\n",
    "    \"\"\"\n",
    "    :param orbit:\n",
    "    :param correction_vector:\n",
    "    :param preconditioning:\n",
    "    :param parameter_constraints:\n",
    "    :param kwargs:\n",
    "    :return:\n",
    "    \"\"\"\n",
    "    correction_vector = correction_vector.reshape(-1, 1)\n",
    "    mode_shape, mode_size = orbit.state.shape, orbit.state.size\n",
    "    d_modes = correction_vector[:mode_size]\n",
    "    # slice the changes to parameters from vector\n",
    "    d_params = correction_vector[mode_size:].ravel()\n",
    "\n",
    "    for i, constrained in enumerate(parameter_constraints):\n",
    "        if constrained or (i == len(d_params)):\n",
    "            d_params = np.insert(d_params, i, 0)\n",
    "    dT, dL, dS = d_params\n",
    "    correction_orbit = orbit.__class__(state=np.reshape(d_modes, mode_shape), state_type='modes',\n",
    "                                       T=dT, L=dL, S=dS)\n",
    "    return correction_orbit\n",
    "\n",
    "parameter_constraints = (False,False,False)\n",
    "A = orbit.jacobian(fixedparams=parameter_constraints)\n",
    "b = -1.0 * orbit.spatiotemporal_mapping().state.ravel()\n",
    "correction_tuple = lstsq(A, b.reshape(-1, 1))\n",
    "correction_vector = correction_tuple[0]\n",
    "\n",
    "dorbit = _state_vector_to_orbit(orbit, correction_vector, fixedparams=parameter_constraints)\n",
    "\n",
    "# To avoid redundant function calls, store optimization variables using\n",
    "# clunky notation.\n",
    "next_orbit = orbit.increment(dorbit, stepsize=1)\n",
    "next_residual = next_orbit.residual()\n",
    "next_residual\n",
    "\n",
    "dorbit.state.shape\n",
    "\n",
    "dorbit.to_h5('ShiftReflectionOrbitKS_old_dx.h5')\n",
    "next_orbit.to_h5('ShiftReflectionOrbitKS_old_next_orbit.h5')"
   ]
  },
  {
   "cell_type": "markdown",
   "metadata": {},
   "source": [
    "# Comparison, new vs. old"
   ]
  },
  {
   "cell_type": "code",
   "execution_count": null,
   "metadata": {},
   "outputs": [],
   "source": [
    "dorbit_new = read_h5('ShiftReflectionOrbitKS_new_dx.h5')\n",
    "norbit_new =  read_h5('ShiftReflectionOrbitKS_new_next_orbit.h5')\n",
    "dorbit_old = read_h5('ShiftReflectionOrbitKS_old_dx.h5')\n",
    "norbit_old = read_h5('ShiftReflectionOrbitKS_old_next_orbit.h5')"
   ]
  },
  {
   "cell_type": "code",
   "execution_count": null,
   "metadata": {},
   "outputs": [],
   "source": [
    "norbit_new.state - norbit_old.state"
   ]
  },
  {
   "cell_type": "code",
   "execution_count": null,
   "metadata": {},
   "outputs": [],
   "source": [
    "(dorbit_new - dorbit_old).state"
   ]
  },
  {
   "cell_type": "code",
   "execution_count": null,
   "metadata": {},
   "outputs": [],
   "source": [
    "dorbit_new.state.shape"
   ]
  },
  {
   "cell_type": "code",
   "execution_count": null,
   "metadata": {},
   "outputs": [],
   "source": [
    "dorbit_new.state-dorbit_old.state"
   ]
  },
  {
   "cell_type": "code",
   "execution_count": null,
   "metadata": {},
   "outputs": [],
   "source": [
    "dorbit.L, dorbit.T"
   ]
  },
  {
   "cell_type": "code",
   "execution_count": null,
   "metadata": {
    "scrolled": false
   },
   "outputs": [],
   "source": [
    "np.diag(dorbit.state)"
   ]
  },
  {
   "cell_type": "code",
   "execution_count": null,
   "metadata": {},
   "outputs": [],
   "source": [
    "array([-6.65791718e-07, -1.22764484e-06,  3.02886506e-06,  8.73111593e-07,\n",
    "       -4.13432925e-07, -3.69807476e-07,  1.87536145e-07, -6.51217693e-09,\n",
    "       -8.35425775e-08,  6.90374691e-07, -4.07607753e-07,  3.98578887e-06,\n",
    "       -6.97394773e-06,  1.85185123e-05, -3.51514999e-05])"
   ]
  },
  {
   "cell_type": "code",
   "execution_count": null,
   "metadata": {},
   "outputs": [],
   "source": [
    "next_orbit.L, next_orbit.T"
   ]
  },
  {
   "cell_type": "code",
   "execution_count": null,
   "metadata": {
    "scrolled": true
   },
   "outputs": [],
   "source": [
    "np.diag(next_orbit.state)"
   ]
  },
  {
   "cell_type": "code",
   "execution_count": null,
   "metadata": {},
   "outputs": [],
   "source": [
    "dft_mat = rfft(np.eye(32), norm='ortho', axis=0)\n",
    "time_dft_mat = np.concatenate((dft_mat[:-1, :].real,\n",
    "                               dft_mat[1:-1, :].imag), axis=0)\n",
    "ab_time_dft_mat = np.insert(time_dft_mat,\n",
    "                            np.arange(time_dft_mat.shape[1]),\n",
    "                            np.zeros([time_dft_mat.shape[0], time_dft_mat.shape[1]]),\n",
    "                            axis=1)"
   ]
  },
  {
   "cell_type": "code",
   "execution_count": null,
   "metadata": {},
   "outputs": [],
   "source": []
  },
  {
   "cell_type": "code",
   "execution_count": null,
   "metadata": {},
   "outputs": [],
   "source": []
  },
  {
   "cell_type": "code",
   "execution_count": null,
   "metadata": {},
   "outputs": [],
   "source": [
    "from functools import lru_cache\n",
    "\n",
    "rpo_test = reqva_test.copy()\n",
    "class Test:\n",
    "    @lru_cache(maxsize=None)\n",
    "    def cached_borrow(self):\n",
    "        return rpo_test.elementwise_dx()\n",
    "    \n",
    "    @classmethod\n",
    "    @lru_cache(maxsize=None)\n",
    "    def class_cached_borrow(self):\n",
    "        return rpo_test.elementwise_dx()\n",
    "    \n",
    "    def borrow(self):\n",
    "        return rpo_test.elementwise_dx()\n",
    "    \n",
    "class Test2:\n",
    "    def borrow(self):\n",
    "        return rpo_test.elementwise_dx()"
   ]
  },
  {
   "cell_type": "markdown",
   "metadata": {},
   "source": [
    "# Caching"
   ]
  },
  {
   "cell_type": "code",
   "execution_count": null,
   "metadata": {},
   "outputs": [],
   "source": [
    "%timeit Test().borrow()"
   ]
  },
  {
   "cell_type": "code",
   "execution_count": null,
   "metadata": {},
   "outputs": [],
   "source": [
    "instantiated_test_class = Test()\n",
    "%timeit instantiated_test_class.borrow()"
   ]
  },
  {
   "cell_type": "code",
   "execution_count": null,
   "metadata": {},
   "outputs": [],
   "source": [
    "%timeit Test().borrow()"
   ]
  },
  {
   "cell_type": "code",
   "execution_count": null,
   "metadata": {},
   "outputs": [],
   "source": [
    "%timeit Test().cached_borrow()"
   ]
  },
  {
   "cell_type": "code",
   "execution_count": null,
   "metadata": {},
   "outputs": [],
   "source": [
    "%timeit Test().class_cached_borrow()"
   ]
  },
  {
   "cell_type": "code",
   "execution_count": null,
   "metadata": {},
   "outputs": [],
   "source": [
    "t = Test()\n",
    "%timeit -r 100 t.cached_borrow()"
   ]
  },
  {
   "cell_type": "code",
   "execution_count": null,
   "metadata": {},
   "outputs": [],
   "source": [
    "t = Test()\n",
    "%timeit -r 100 t.class_cached_borrow()"
   ]
  },
  {
   "cell_type": "code",
   "execution_count": null,
   "metadata": {},
   "outputs": [],
   "source": [
    "instantiated_test_class = Test()\n",
    "%timeit instantiated_test_class.cached_borrow()"
   ]
  },
  {
   "cell_type": "code",
   "execution_count": null,
   "metadata": {},
   "outputs": [],
   "source": [
    "%timeit Test().class_cached_borrow()"
   ]
  },
  {
   "cell_type": "code",
   "execution_count": null,
   "metadata": {},
   "outputs": [],
   "source": [
    "%timeit Test.class_cached_borrow()"
   ]
  },
  {
   "cell_type": "code",
   "execution_count": null,
   "metadata": {},
   "outputs": [],
   "source": [
    "instantiated_test_class = Test()\n",
    "%timeit instantiated_test_class.class_cached_borrow()"
   ]
  },
  {
   "cell_type": "code",
   "execution_count": null,
   "metadata": {},
   "outputs": [],
   "source": [
    "%timeit Test.class_cached_borrow()"
   ]
  },
  {
   "cell_type": "code",
   "execution_count": null,
   "metadata": {},
   "outputs": [],
   "source": []
  },
  {
   "cell_type": "code",
   "execution_count": null,
   "metadata": {},
   "outputs": [],
   "source": [
    "%timeit Test2().borrow()"
   ]
  },
  {
   "cell_type": "code",
   "execution_count": null,
   "metadata": {},
   "outputs": [],
   "source": [
    "instantiated_test_class = Test()"
   ]
  },
  {
   "cell_type": "code",
   "execution_count": null,
   "metadata": {},
   "outputs": [],
   "source": [
    "%timeit instantiated_test_class.cached_borrow()"
   ]
  },
  {
   "cell_type": "code",
   "execution_count": null,
   "metadata": {},
   "outputs": [],
   "source": [
    "%timeit Test().cached_borrow()"
   ]
  },
  {
   "cell_type": "markdown",
   "metadata": {},
   "source": [
    "# Caching with class methods."
   ]
  },
  {
   "cell_type": "markdown",
   "metadata": {},
   "source": [
    "Testing cases for class method caching. Classmethod on both method in test and method in parent class. \n",
    "\n",
    "Return elementwise_dx() by passing arguments, i.e. without instantiation. \n",
    "\n",
    "\n",
    "See if calling the class method once and then timing it with another class member works.\n",
    "\n",
    "See if calling the classmethod, which instantiates a new class instance can be shared. "
   ]
  },
  {
   "cell_type": "code",
   "execution_count": null,
   "metadata": {},
   "outputs": [],
   "source": [
    "class TestOrbit():\n",
    "    @classmethod\n",
    "    @lru_cache(maxsize=None)\n",
    "    def elementwise_dx(self, L, N, M, m):\n",
    "        qk = ((2 * pi * self.M / self.L) * np.fft.fftfreq(self.M)[1:self.m+1]).reshape(1, -1)\n",
    "        qk_vec = np.concatenate((qk, -qk), axis=1)\n",
    "        return np.tile(qk_vec, (self.N-1, 1))"
   ]
  },
  {
   "cell_type": "code",
   "execution_count": null,
   "metadata": {},
   "outputs": [],
   "source": [
    "class CacheTestOrbit():\n",
    "    \n",
    "    @classmethod\n",
    "    @lru_cache(maxsize=None)\n",
    "    def cached_function_call(self, L, N, M, m):\n",
    "        qk = ((2 * pi * M / L) * np.fft.fftfreq(M)[1:m+1]).reshape(1, -1)\n",
    "        qk_vec = np.concatenate((qk, -qk), axis=1)\n",
    "        return np.tile(qk_vec, (N-1, 1)) \n",
    "    \n",
    "    @classmethod\n",
    "    @lru_cache(maxsize=None)\n",
    "    def cached_function_call(self, L, N, M, m):\n",
    "        qk = ((2 * pi * M / L) * np.fft.fftfreq(M)[1:m+1]).reshape(1, -1)\n",
    "        qk_vec = np.concatenate((qk, -qk), axis=1)\n",
    "        return np.tile(qk_vec, (N-1, 1)) \n",
    "    \n",
    "    @classmethod\n",
    "    @lru_cache(maxsize=None)\n",
    "    def cached_elementwise_with_instantiation(self, orbit):\n",
    "        return RelativeOrbitKS(state=orbit.state,state_type=orbit.state_type, L=orbit.L,\n",
    "                               N=orbit.N, M=orbit.M, m=orbit.m).elementwise_dx()\n",
    "        \n",
    "    @classmethod\n",
    "    @lru_cache(maxsize=None)\n",
    "    def cached_elementwise_without_instantiation(self, orbit):\n",
    "        return orbit.elementwise_dx()"
   ]
  },
  {
   "cell_type": "markdown",
   "metadata": {},
   "source": [
    "First test the caching by calling an instantiated instance, then class generator, then different class instance. "
   ]
  },
  {
   "cell_type": "code",
   "execution_count": null,
   "metadata": {},
   "outputs": [],
   "source": [
    "(L, N, M, m) = rpo_test.L, rpo_test.N, rpo_test.M, rpo_test.m"
   ]
  },
  {
   "cell_type": "code",
   "execution_count": null,
   "metadata": {},
   "outputs": [],
   "source": [
    "c = CacheTestOrbit()\n",
    "%timeit c.cached_elementwise_without_instantiation(L,N,M,m)"
   ]
  },
  {
   "cell_type": "code",
   "execution_count": null,
   "metadata": {},
   "outputs": [],
   "source": [
    "%%timeit CacheTestOrbit().cached_elementwise_without_instantiation(rpo_test)\n",
    "orbit\n",
    "rpo_test"
   ]
  },
  {
   "cell_type": "code",
   "execution_count": null,
   "metadata": {},
   "outputs": [],
   "source": [
    "c = CacheTestOrbit()\n",
    "%timeit c.cached_elementwise_without_instantiation(rpo_test)"
   ]
  },
  {
   "cell_type": "code",
   "execution_count": null,
   "metadata": {},
   "outputs": [],
   "source": [
    "# orbit = rpo_test\n",
    "c = CacheTestOrbit()\n",
    "%timeit c.cached_elementwise_with_instantiation(rpo_test)"
   ]
  },
  {
   "cell_type": "code",
   "execution_count": null,
   "metadata": {},
   "outputs": [],
   "source": [
    "%timeit CacheTestOrbit.cached_elementwise_without_instantiation(rpo_test)"
   ]
  },
  {
   "cell_type": "code",
   "execution_count": null,
   "metadata": {},
   "outputs": [],
   "source": [
    "# orbit = rpo_test\n",
    "%timeit CacheTestOrbit.cached_elementwise_with_instantiation(rpo_test)"
   ]
  },
  {
   "cell_type": "code",
   "execution_count": null,
   "metadata": {},
   "outputs": [],
   "source": [
    "orbit = rpo_test\n",
    "c = CacheTestOrbit()\n",
    "%timeit c.cached_elementwise_with_instantiation(orbit)"
   ]
  },
  {
   "cell_type": "code",
   "execution_count": null,
   "metadata": {},
   "outputs": [],
   "source": [
    "orbit = rpo_test\n",
    "%timeit CacheTestOrbit.cached_elementwise_with_instantiation(orbit)"
   ]
  },
  {
   "cell_type": "code",
   "execution_count": null,
   "metadata": {},
   "outputs": [],
   "source": [
    "orbit = rpo_test\n",
    "%timeit = CacheTestOrbit().cached_elementwise_with_instantiation(RelativeOrbitKS(state=orbit.state,state_type=orbit.state_type, L=orbit.L,\n",
    "                               N=orbit.N, M=orbit.M, m=orbit.m))"
   ]
  },
  {
   "cell_type": "code",
   "execution_count": null,
   "metadata": {},
   "outputs": [],
   "source": [
    "orbit = rpo_test"
   ]
  },
  {
   "cell_type": "code",
   "execution_count": null,
   "metadata": {},
   "outputs": [],
   "source": [
    "    @classmethod\n",
    "    @lru_cache(maxsize=None)\n",
    "    def wave_vector(self, orbit):\n",
    "        return  super().wave_vector()\n",
    "    "
   ]
  },
  {
   "cell_type": "code",
   "execution_count": null,
   "metadata": {},
   "outputs": [],
   "source": [
    "np.linalg.norm(np.ravel(self.elementwise_dx()))"
   ]
  },
  {
   "cell_type": "markdown",
   "metadata": {},
   "source": [
    "# Actual orbit caching."
   ]
  },
  {
   "cell_type": "markdown",
   "metadata": {},
   "source": [
    "Note, do not want to cache the actual jacobian, mapping, rmatvec functions because this will emulate the adjoint descent process, for instance. Only want to see the effect of caching elementwise and frequency vector functions. Want to also check performance of clean vs. current coding implementations for those functions. \n",
    "\n",
    "Classmethod is ok, but because caching happens with respect to immutable types, need to pass parameters instead of class instances. The classmethod does not have knowledge of an instance's attributes, even if called as instance.classmethod(). need to pass it immutable \n",
    "\n",
    "# need to check\n",
    "whether or not caching an classmethod that doesn't take arguments will return the same value even if the computation would be different. \n",
    "\n",
    "\n",
    "Why am I trying to do class methods instead of functions?"
   ]
  },
  {
   "cell_type": "code",
   "execution_count": 8,
   "metadata": {},
   "outputs": [
    {
     "data": {
      "text/plain": [
       "RelativeOrbitKS()"
      ]
     },
     "execution_count": 8,
     "metadata": {},
     "output_type": "execute_result"
    }
   ],
   "source": [
    "#     @classmethod\n",
    "#     @lru_cache(maxsize=None)\n",
    "#     def cached_function_call(orbit, L, N, M, m):\n",
    "#         qk = ((2 * pi * M / L) * np.fft.fftfreq(M)[1:m+1]).reshape(1, -1)\n",
    "#         qk_vec = np.concatenate((qk, -qk), axis=1)\n",
    "#         return np.tile(qk_vec, (N-1, 1)) \n",
    "    \n",
    "#     @classmethod\n",
    "#     @lru_cache(maxsize=None)\n",
    "#     def cached_elementwise_with_instantiation(orbit, orbit):\n",
    "#         return RelativeOrbitKS(state=orbit.state,state_type=orbit.state_type, L=orbit.L,\n",
    "#                                N=orbit.N, M=orbit.M, m=orbit.m).elementwise_dx()\n",
    " "
   ]
  },
  {
   "cell_type": "markdown",
   "metadata": {},
   "source": [
    "First, test that the classmethod caching does anything to the original code, then compare with \"cleaned up\" versions. "
   ]
  },
  {
   "cell_type": "code",
   "execution_count": null,
   "metadata": {},
   "outputs": [],
   "source": []
  },
  {
   "cell_type": "code",
   "execution_count": 64,
   "metadata": {},
   "outputs": [],
   "source": [
    "from functools import lru_cache\n",
    "class CachedOrbitKS(OrbitKS):\n",
    "\n",
    "    def __init__(self, state=None, state_type='modes', T=0., L=0., S=0.):\n",
    "        super().__init__( state=None, state_type='modes', T=0., L=0., S=0.)\n",
    "        \n",
    "    def dt(self, power=1):\n",
    "        \"\"\" A time derivative of the current state.\n",
    "\n",
    "        Parameters\n",
    "        ----------\n",
    "        power :int\n",
    "            The order of the derivative.\n",
    "\n",
    "        Returns\n",
    "        ----------\n",
    "        orbit_dtn : OrbitKS or subclass instance\n",
    "            The class instance whose state is the time derivative in\n",
    "            the spatiotemporal mode basis.\n",
    "        \"\"\"\n",
    "        spacetime_modes = self.convert(to='modes').state\n",
    "        \n",
    "        # Elementwise multiplication of modes with frequencies, this is the derivative.\n",
    "        dtn_modes = np.multiply(self.elementwise_dtn(self, power=power), spacetime_modes)\n",
    "        \n",
    "        # If the order of the derivative is odd, then imaginary component and real components switch.\n",
    "        if np.mod(order, 2):\n",
    "            dtn_modes = swap_modes(dtn_modes, dimension='time')\n",
    "\n",
    "        orbit_dtn = self.__class__(state=dtn_modes, state_type='modes', T=self.T, L=self.L, S=self.S)\n",
    "        return orbit_dtn\n",
    "\n",
    "    def dx(self, power=1):\n",
    "        \"\"\" A spatial derivative of the current state.\n",
    "\n",
    "        Parameters\n",
    "        ----------\n",
    "        power :int\n",
    "            The order of the derivative.\n",
    "\n",
    "        Returns\n",
    "        ----------\n",
    "        orbit_dxn : OrbitKS or subclass instance\n",
    "            Class instance whose spatiotemporal state represents the spatial derivative in the\n",
    "            the basis of the original state.\n",
    "\n",
    "        Notes\n",
    "        -----\n",
    "        Dimensions provided to np.tile in defining elementwise_dxn were originally (self.N-1, 1).\n",
    "        \"\"\"\n",
    "        spacetime_modes = self.convert(to='modes').state\n",
    "\n",
    "        # Elementwise multiplication of modes with frequencies, this is the derivative.\n",
    "        dxn_modes = np.multiply(self.elementwise_dxn(self, power=power), spacetime_modes)\n",
    "\n",
    "        # If the order of the differentiation is odd, need to swap imaginary and real components.\n",
    "        if np.mod(order, 2):\n",
    "            dxn_modes = swap_modes(dxn_modes, dimension='space')\n",
    "        orbit_dxn = self.__class__(state=dxn_modes, state_type='modes', T=self.T, L=self.L, S=self.S)\n",
    "        return orbit_dxn.convert(to=self.state_type)\n",
    "    \n",
    "    \n",
    "    @classmethod\n",
    "    @lru_cache()\n",
    "    def wave_vector(cls, orbit):\n",
    "        \"\"\" Spatial frequency vector for the current state\n",
    "\n",
    "        Returns\n",
    "        -------\n",
    "        ndarray :\n",
    "            Array of spatial frequencies of shape (m, 1)\n",
    "        \"\"\"\n",
    "        return ((2 * pi * orbit.M / orbit.L) * np.fft.fftfreq(orbit.M)[1:orbit.m+1]).reshape(1, -1)\n",
    "\n",
    "    @classmethod\n",
    "    @lru_cache()\n",
    "    def frequency_vector(cls, orbit):\n",
    "        \"\"\"\n",
    "        Returns\n",
    "        -------\n",
    "        ndarray\n",
    "            Temporal frequency array of shape {n, 1}\n",
    "\n",
    "        Notes\n",
    "        -----\n",
    "        Extra factor of '-1' because of how the state is ordered; see __init__ for\n",
    "        more details.\n",
    "\n",
    "        \"\"\"\n",
    "        return (-1.0 * (2 * pi * orbit.N / orbit.T) * np.fft.fftfreq(orbit.N)[1:orbit.n+1]).reshape(-1, 1)\n",
    "\n",
    "    @classmethod\n",
    "    @lru_cache()\n",
    "    def elementwise_dxn(cls, orbit, power=1):\n",
    "        \"\"\" Matrix of temporal mode frequencies\n",
    "\n",
    "        Creates and returns a matrix whose elements\n",
    "        are the properly ordered spatial frequencies,\n",
    "        which is the same shape as the spatiotemporal\n",
    "        Fourier mode state. The elementwise product\n",
    "        with a set of spatiotemporal Fourier modes\n",
    "        is equivalent to taking a spatial derivative.\n",
    "\n",
    "        Returns\n",
    "        ----------\n",
    "        matrix\n",
    "            Matrix of spatial frequencies\n",
    "        \"\"\"\n",
    "        qkn = orbit.wave_vector(orbit)**order\n",
    "        # Coefficients which depend on the order of the derivative, see SO(2) generator of rotations for reference.\n",
    "        c1, c2 = so2_coefficients(power=power)\n",
    "        # Create elementwise spatial frequency matrix\n",
    "        dxn_multipliers = np.tile(np.concatenate((c1*qkn, c2*qkn), axis=1), (spacetime_modes.shape[0], 1))\n",
    "        return dxn_multipliers\n",
    "\n",
    "    @classmethod\n",
    "    @lru_cache()\n",
    "    def elementwise_dtn(cls, orbit, power=1):\n",
    "        \"\"\" Matrix of temporal mode frequencies\n",
    "\n",
    "        Creates and returns a matrix whose elements\n",
    "        are the properly ordered temporal frequencies,\n",
    "        which is the same shape as the spatiotemporal\n",
    "        Fourier mode state. The elementwise product\n",
    "        with a set of spatiotemporal Fourier modes\n",
    "        is equivalent to taking a time derivative.\n",
    "\n",
    "\n",
    "        Returns\n",
    "        ----------\n",
    "        matrix\n",
    "            Matrix of temporal frequencies\n",
    "        \"\"\"\n",
    "        \n",
    "        wj = orbit.frequency_vector()\n",
    "        # Coefficients which depend on the order of the derivative, see SO(2) generator of rotations for reference.\n",
    "        c1, c2 = so2_coefficients(power=power)\n",
    "        # The Nyquist frequency is never included, this is how time frequency modes are ordered.\n",
    "        wjn_vec = np.concatenate(([[0]], c1*wj**order, c2*wj**order), axis=0)\n",
    "        # Elementwise product of modes with time frequencies is the spectral derivative.\n",
    "        dtn_multipliers = np.tile(wjn_vec, (1, orbit.state.shape[1]))\n",
    "        return dtn_multipliers\n",
    "\n",
    "# ORIGINAL VERSION\n",
    "\n",
    "    def rmatvec(self, other, parameter_constraints=(False, False), preconditioning=True):\n",
    "        \"\"\" Matrix-vector product with the adjoint of the Jacobian\n",
    "\n",
    "        Parameters\n",
    "        ----------\n",
    "        other : OrbitKS\n",
    "            OrbitKS whose state represents the vector in the matrix-vector product.\n",
    "        parameter_constraints : (bool, bool)\n",
    "            Whether or not period T or spatial period L are fixed.\n",
    "        preconditioning : bool\n",
    "            Whether or not to apply (left) preconditioning to the adjoint matrix vector product.\n",
    "\n",
    "        Returns\n",
    "        -------\n",
    "        orbit_rmatvec :\n",
    "            OrbitKS with values representative of the adjoint-vector product A^H * x.\n",
    "\n",
    "        \"\"\"\n",
    "\n",
    "        # Linear component of the product, equal to -v_t + v_xx + v_xxxx\n",
    "        wj_matrix = self.elementwise_dtn(self)\n",
    "        qk_matrix = self.elementwise_dxn(self)\n",
    "        elementwise_qk2 = -1.0*qk_matrix**2\n",
    "        elementwise_qk4 = qk_matrix**4\n",
    "\n",
    "        dt = swap_modes(np.multiply(wj_matrix, other.state), dimension='time')\n",
    "        d2x = np.multiply(elementwise_qk2, other.state)\n",
    "        d4x = np.multiply(elementwise_qk4, other.state)\n",
    "        linear = -1.0*dt + d2x + d4x\n",
    "\n",
    "        # Nonlinear component, equal to -u * v_x\n",
    "        orbit_field = self.convert(to='field')\n",
    "        nonlinear = orbit_field.rpseudospectral(other).state\n",
    "        orbit_rmatvec = self.__class__(state=(linear + nonlinear))\n",
    "\n",
    "        if not parameter_constraints[0]:\n",
    "            # Derivative with respect to T term equal to DF/DT * v\n",
    "            dt_self = swap_modes(np.multiply(wj_matrix, self.state), dimension='time')\n",
    "            dfdt = (-1.0 / self.T)*dt_self\n",
    "            orbit_rmatvec.T = np.dot(dfdt.ravel(), other.state.ravel())\n",
    "\n",
    "        if not parameter_constraints[1]:\n",
    "            # Derivative with respect to L equal to DF/DL * v\n",
    "            d2x_self = np.multiply(elementwise_qk2, self.state)\n",
    "            d4x_self = np.multiply(elementwise_qk4, self.state)\n",
    "            dfdl_linear = ((-2.0/self.L)*d2x_self + (-4.0/self.L)*d4x_self)\n",
    "            dfdl_nonlinear = (-1.0/self.L) * orbit_field.pseudospectral(orbit_field).state\n",
    "            dfdl = dfdl_linear + dfdl_nonlinear\n",
    "            orbit_rmatvec.L = np.dot(dfdl.ravel(), other.state.ravel())\n",
    "\n",
    "        if preconditioning:\n",
    "            # Apply left preconditioning\n",
    "            p_matrix = 1.0 / (np.abs(wj_matrix) + qk_matrix**2 + qk_matrix**4)\n",
    "            orbit_rmatvec.state = np.multiply(orbit_rmatvec.state, p_matrix)\n",
    "\n",
    "            if not parameter_constraints[0]:\n",
    "                orbit_rmatvec.T = orbit_rmatvec.T / self.T\n",
    "            if not parameter_constraints[1]:\n",
    "                orbit_rmatvec.L = orbit_rmatvec.L/(self.L**4)\n",
    "\n",
    "        return orbit_rmatvec\n",
    "    \n",
    "    def spatiotemporal_mapping(self):\n",
    "        \"\"\" The Kuramoto-Sivashinsky equation evaluated at the current state.\n",
    "\n",
    "        Returns\n",
    "        -------\n",
    "        OrbitKS :\n",
    "            OrbitKS whose state is representative of the equation u_t + u_xx + u_xxxx + 1/2 (u^2)_x\n",
    "        :return:\n",
    "        \"\"\"\n",
    "        # For specific computation of the linear component instead\n",
    "        # of arbitrary derivatives we can optimize the calculation by being specific.\n",
    "\n",
    "        wj_matrix = self.elementwise_dtn(self)\n",
    "        qk_matrix = self.elementwise_dxn(self)\n",
    "        elementwise_d2xd4x = -1.0*qk_matrix**2 + qk_matrix**4\n",
    "        ut = swap_modes(np.multiply(wj_matrix, self.state), dimension='time')\n",
    "        u2x_u4x = np.multiply(elementwise_d2xd4x, self.state)\n",
    "        linear = ut + u2x_u4x\n",
    "        # Convert state information to field inplace; derivative operation switches this back to modes?\n",
    "        orbit_field = self.convert(to='field')\n",
    "        nonlinear = orbit_field.pseudospectral(orbit_field).state\n",
    "        orbit_mapping = self.__class__(state=(linear + nonlinear),\n",
    "                                       T=self.T, L=self.L, S=self.S)\n",
    "\n",
    "        return orbit_mapping\n",
    "    \n",
    "# CLEAN VERSIONS    \n",
    "\n",
    "    def rmatvec(self, other, parameter_constraints=(False, False), preconditioning=True):\n",
    "        \"\"\" Matrix-vector product with the adjoint of the Jacobian\n",
    "\n",
    "        Parameters\n",
    "        ----------\n",
    "        other : OrbitKS\n",
    "            OrbitKS whose state represents the vector in the matrix-vector product.\n",
    "        parameter_constraints : (bool, bool)\n",
    "            Whether or not period T or spatial period L are fixed.\n",
    "        preconditioning : bool\n",
    "            Whether or not to apply (left) preconditioning to the adjoint matrix vector product.\n",
    "\n",
    "        Returns\n",
    "        -------\n",
    "        orbit_rmatvec :\n",
    "            OrbitKS with values representative of the adjoint-vector product A^H * x.\n",
    "\n",
    "        \"\"\"\n",
    "\n",
    "        dt = swap_modes(np.multiply(wj_matrix, other.state), dimension='time')\n",
    "        d2x = np.multiply(elementwise_qk2, other.state)\n",
    "        d4x = np.multiply(elementwise_qk4, other.state)\n",
    "        linear = -1.0*self.dt() + d2x + d4x\n",
    "\n",
    "        # Nonlinear component, equal to -u * v_x\n",
    "        orbit_field = self.convert(to='field')\n",
    "        nonlinear = orbit_field.rpseudospectral(other).state\n",
    "        orbit_rmatvec = self.__class__(state=(linear + nonlinear))\n",
    "\n",
    "        if not parameter_constraints[0]:\n",
    "            # Derivative with respect to T term equal to DF/DT * v\n",
    "            dt_self = swap_modes(np.multiply(wj_matrix, self.state), dimension='time')\n",
    "            dfdt = (-1.0 / self.T)*dt_self\n",
    "            orbit_rmatvec.T = np.dot(dfdt.ravel(), other.state.ravel())\n",
    "\n",
    "        if not parameter_constraints[1]:\n",
    "            # Derivative with respect to L equal to DF/DL * v\n",
    "            d2x_self = np.multiply(elementwise_qk2, self.state)\n",
    "            d4x_self = np.multiply(elementwise_qk4, self.state)\n",
    "            dfdl_linear = ((-2.0/self.L)*d2x_self + (-4.0/self.L)*d4x_self)\n",
    "            dfdl_nonlinear = (-1.0/self.L) * orbit_field.pseudospectral(orbit_field).state\n",
    "            dfdl = dfdl_linear + dfdl_nonlinear\n",
    "            orbit_rmatvec.L = np.dot(dfdl.ravel(), other.state.ravel())\n",
    "\n",
    "        if preconditioning:\n",
    "            # Apply left preconditioning\n",
    "            p_matrix = 1.0 / (np.abs(wj_matrix) + qk_matrix**2 + qk_matrix**4)\n",
    "            orbit_rmatvec.state = np.multiply(orbit_rmatvec.state, p_matrix)\n",
    "\n",
    "            if not parameter_constraints[0]:\n",
    "                orbit_rmatvec.T = orbit_rmatvec.T / self.T\n",
    "            if not parameter_constraints[1]:\n",
    "                orbit_rmatvec.L = orbit_rmatvec.L/(self.L**4)\n",
    "\n",
    "        return orbit_rmatvec\n",
    "    \n",
    "    def spatiotemporal_mapping(self):\n",
    "        \"\"\" The Kuramoto-Sivashinsky equation evaluated at the current state.\n",
    "\n",
    "        Returns\n",
    "        -------\n",
    "        OrbitKS :\n",
    "            OrbitKS whose state is representative of the equation u_t + u_xx + u_xxxx + 1/2 (u^2)_x\n",
    "        :return:\n",
    "        \"\"\"\n",
    "        # For specific computation of the linear component instead\n",
    "        # of arbitrary derivatives we can optimize the calculation by being specific.\n",
    "\n",
    "        wj_matrix = self.elementwise_dtn(self)\n",
    "        qk_matrix = self.elementwise_dxn(self)\n",
    "        elementwise_d2xd4x = -1.0*qk_matrix**2 + qk_matrix**4\n",
    "        ut = swap_modes(np.multiply(wj_matrix, self.state), dimension='time')\n",
    "        u2x_u4x = np.multiply(elementwise_d2xd4x, self.state)\n",
    "        linear = ut + u2x_u4x\n",
    "        # Convert state information to field inplace; derivative operation switches this back to modes?\n",
    "        orbit_field = self.convert(to='field')\n",
    "        nonlinear = orbit_field.pseudospectral(orbit_field).state\n",
    "        orbit_mapping = self.__class__(state=(linear + nonlinear),\n",
    "                                       T=self.T, L=self.L, S=self.S)\n",
    "\n",
    "        return orbit_mapping"
   ]
  },
  {
   "cell_type": "code",
   "execution_count": 68,
   "metadata": {},
   "outputs": [
    {
     "data": {
      "text/plain": [
       "<bound method OrbitKS.__repr__ of OrbitKS()>"
      ]
     },
     "execution_count": 68,
     "metadata": {},
     "output_type": "execute_result"
    }
   ],
   "source": [
    "OrbitKS().spatiotemporal_mapping().__repr__"
   ]
  },
  {
   "cell_type": "code",
   "execution_count": 59,
   "metadata": {},
   "outputs": [],
   "source": [
    "test0 = CachedRelativeOrbitKS(state=rpo_test.state, state_type=rpo_test.state_type, L=rpo_test.L, T=rpo_test.T, S=rpo_test.S)"
   ]
  },
  {
   "cell_type": "code",
   "execution_count": 60,
   "metadata": {},
   "outputs": [
    {
     "name": "stdout",
     "output_type": "stream",
     "text": [
      "CachedRelativeOrbitKS()\n"
     ]
    }
   ],
   "source": [
    "print(test0)"
   ]
  },
  {
   "cell_type": "code",
   "execution_count": 63,
   "metadata": {},
   "outputs": [
    {
     "data": {
      "text/plain": [
       "False"
      ]
     },
     "execution_count": 63,
     "metadata": {},
     "output_type": "execute_result"
    }
   ],
   "source": [
    "RelativeOrbitKS(state=orbit.state,state_type=orbit.state_type,T=orbit.T, L=orbit.L,N=orbit.N, M=orbit.M, m=orbit.m) == RelativeOrbitKS(state=orbit.state,state_type=orbit.state_type,T=orbit.T, L=orbit.L,N=orbit.N, M=orbit.M, m=orbit.m)"
   ]
  },
  {
   "cell_type": "code",
   "execution_count": 61,
   "metadata": {},
   "outputs": [
    {
     "name": "stdout",
     "output_type": "stream",
     "text": [
      "26.1 µs ± 2.49 µs per loop (mean ± std. dev. of 7 runs, 10000 loops each)\n"
     ]
    }
   ],
   "source": [
    "%timeit test0.frequency_vector(orbit)"
   ]
  },
  {
   "cell_type": "code",
   "execution_count": 50,
   "metadata": {},
   "outputs": [],
   "source": [
    "test1 = CachedRelativeOrbitKS(state=next_orbit.state, state_type=next_orbit.state_type, L=next_orbit.L, T=next_orbit.T, S=rpo_test.S)"
   ]
  },
  {
   "cell_type": "code",
   "execution_count": null,
   "metadata": {},
   "outputs": [],
   "source": [
    "test1.frequency_vector()"
   ]
  },
  {
   "cell_type": "code",
   "execution_count": null,
   "metadata": {},
   "outputs": [],
   "source": [
    "test1.mode_shape"
   ]
  },
  {
   "cell_type": "code",
   "execution_count": null,
   "metadata": {},
   "outputs": [],
   "source": [
    "%timeit -r 1 -n 50 test.borrow"
   ]
  },
  {
   "cell_type": "code",
   "execution_count": null,
   "metadata": {},
   "outputs": [],
   "source": [
    "%timeit -r 1 -n 1 test.borrow"
   ]
  },
  {
   "cell_type": "code",
   "execution_count": null,
   "metadata": {},
   "outputs": [],
   "source": [
    "np.sum(time_dft_mat[0]*rpo_test.state[0,:]"
   ]
  },
  {
   "cell_type": "code",
   "execution_count": null,
   "metadata": {},
   "outputs": [],
   "source": [
    "np.linalg.norm([3,4], ord=1)"
   ]
  },
  {
   "cell_type": "markdown",
   "metadata": {},
   "source": [
    "# ab_time_dft_mat.shape"
   ]
  },
  {
   "cell_type": "code",
   "execution_count": null,
   "metadata": {},
   "outputs": [],
   "source": [
    "time_dft_mat.shape"
   ]
  },
  {
   "cell_type": "code",
   "execution_count": null,
   "metadata": {},
   "outputs": [],
   "source": [
    "ab_time_dft_mat.shape"
   ]
  },
  {
   "cell_type": "code",
   "execution_count": null,
   "metadata": {},
   "outputs": [],
   "source": [
    "os.getcwd()"
   ]
  },
  {
   "cell_type": "code",
   "execution_count": null,
   "metadata": {},
   "outputs": [],
   "source": []
  },
  {
   "cell_type": "code",
   "execution_count": null,
   "metadata": {},
   "outputs": [],
   "source": [
    "reqva_test.residual()\n",
    "converge(reqva_test, method='lstsq', atol=10**-14, verbose=True)"
   ]
  },
  {
   "cell_type": "code",
   "execution_count": null,
   "metadata": {},
   "outputs": [],
   "source": [
    "reqva_test.plot(fundamental_domain=False)"
   ]
  },
  {
   "cell_type": "code",
   "execution_count": null,
   "metadata": {},
   "outputs": [],
   "source": [
    "spacetime_modes = (1./np.sqrt(32)) * self.state"
   ]
  },
  {
   "cell_type": "code",
   "execution_count": null,
   "metadata": {
    "scrolled": true
   },
   "outputs": [],
   "source": [
    "np.sum((1./np.sqrt(32)) * np.concatenate((0*np.eye(15), np.eye(15)), axis=1),axis=1)"
   ]
  },
  {
   "cell_type": "code",
   "execution_count": null,
   "metadata": {
    "scrolled": true
   },
   "outputs": [],
   "source": [
    "dft_mat = rfft(np.eye(32), norm='ortho', axis=0)\n",
    "time_idft_mat = np.concatenate((dft_mat[:-1, :].real,\n",
    "                                        dft_mat[1:-1, :].imag), axis=0)\n",
    "time_idft_mat"
   ]
  },
  {
   "cell_type": "code",
   "execution_count": null,
   "metadata": {},
   "outputs": [],
   "source": [
    "rpo_test = reqva_test.copy()\n",
    "\n",
    "rpo_test.convert(to='s_modes', inplace=True)\n",
    "rpo_test.state = np.tile(reqva_test.convert(to='s_modes').state[-1,:].reshape(1,-1),(32,1))\n",
    "smode0 = rpo_test.state[0,0]\n",
    "rpo_test.convert(to='modes', inplace=True)"
   ]
  },
  {
   "cell_type": "markdown",
   "metadata": {},
   "source": [
    "The transformation from s_modes to modes should result in division by np.sqrt(32). So what is going on. "
   ]
  },
  {
   "cell_type": "code",
   "execution_count": null,
   "metadata": {},
   "outputs": [],
   "source": [
    "rpo_test.state[0,0], smode0"
   ]
  },
  {
   "cell_type": "code",
   "execution_count": null,
   "metadata": {},
   "outputs": [],
   "source": [
    "rpo_test.comoving_mapping_component().change_reference_frame().plot()"
   ]
  },
  {
   "cell_type": "code",
   "execution_count": null,
   "metadata": {},
   "outputs": [],
   "source": [
    "rpo_test.change_reference_frame().comoving_mapping_component().state"
   ]
  },
  {
   "cell_type": "code",
   "execution_count": null,
   "metadata": {},
   "outputs": [],
   "source": [
    "rpo_test.change_reference_frame().plot(fundamental_domain=False)"
   ]
  },
  {
   "cell_type": "code",
   "execution_count": null,
   "metadata": {},
   "outputs": [],
   "source": [
    "rpo_test.change_reference_frame().dt().state"
   ]
  },
  {
   "cell_type": "code",
   "execution_count": null,
   "metadata": {},
   "outputs": [],
   "source": [
    "(1/np.sqrt(32)) * smode0"
   ]
  },
  {
   "cell_type": "code",
   "execution_count": null,
   "metadata": {},
   "outputs": [],
   "source": [
    "dft_mat = rfft(np.eye(32), norm='ortho', axis=0)\n",
    "time_dft_mat = np.concatenate((dft_mat[:-1, :].real,\n",
    "                               dft_mat[1:-1, :].imag), axis=0)\n",
    "ab_time_dft_mat = np.insert(time_dft_mat,\n",
    "                            np.arange(time_dft_mat.shape[1]),\n",
    "                            np.zeros([time_dft_mat.shape[0], time_dft_mat.shape[1]]),\n",
    "                            axis=1)\n",
    "ab_time_dft_mat.shape"
   ]
  },
  {
   "cell_type": "code",
   "execution_count": null,
   "metadata": {},
   "outputs": [],
   "source": [
    "np.sqrt(32)"
   ]
  },
  {
   "cell_type": "code",
   "execution_count": null,
   "metadata": {},
   "outputs": [],
   "source": [
    "rfft(np.ones(32), norm='ortho')"
   ]
  },
  {
   "cell_type": "code",
   "execution_count": null,
   "metadata": {},
   "outputs": [],
   "source": [
    "reqva_test.convert(to='s_modes').state[-1,0]"
   ]
  },
  {
   "cell_type": "code",
   "execution_count": null,
   "metadata": {},
   "outputs": [],
   "source": [
    "rpo_test.time_transform_matrix()*np.sqrt(32)"
   ]
  },
  {
   "cell_type": "code",
   "execution_count": null,
   "metadata": {},
   "outputs": [],
   "source": [
    "ShiftReflectionOrbitKS()"
   ]
  },
  {
   "cell_type": "code",
   "execution_count": null,
   "metadata": {},
   "outputs": [],
   "source": [
    "# atorus = \n",
    "# torus = \n",
    "# a = read_h5(\"C:\\\\Users\\\\Matt\\\\Desktop\\\\orbithunter_test_data\\\\anti_L17p5_T17.h5\")\n",
    "# defect0 = read_h5(\"C:\\\\Users\\\\Matt\\\\Desktop\\\\orbithunter_test_data\\\\rpo_L12p87_T26.h5\")\n",
    "o2 = read_h5(\"C:\\\\Users\\\\Matt\\\\Desktop\\\\orbithunter_test_data\\\\full_L26.7_T54.h5\")\n",
    "# defect = read_h5(\"C:\\\\Users\\\\Matt\\\\Desktop\\\\orbithunter_test_data\\\\rpo_L13p02_T15.h5\")\n",
    "sr = read_h5(\"C:\\\\Users\\\\Matt\\\\Desktop\\\\orbithunter_test_data\\\\ppo_L34p09_T23p18.h5\")\n",
    "# e = read_h5(\"C:\\\\Users\\\\Matt\\\\Desktop\\\\orbithunter_test_data\\\\eqva_L3p195.h5\")\n",
    "srtest = read_h5(\"C:\\\\Users\\\\Matt\\\\Desktop\\\\orbithunter_test_data\\\\rpo_L22p01_T85p99.h5\")\n",
    "\n"
   ]
  },
  {
   "cell_type": "code",
   "execution_count": null,
   "metadata": {},
   "outputs": [],
   "source": [
    "ft = sr.spacetime_fft_matrix()\n",
    "ift = sr.spacetime_ifft_matrix()"
   ]
  },
  {
   "cell_type": "code",
   "execution_count": null,
   "metadata": {},
   "outputs": [],
   "source": [
    "sr = 1.5 * sr"
   ]
  },
  {
   "cell_type": "code",
   "execution_count": null,
   "metadata": {},
   "outputs": [],
   "source": [
    "converge(sr, method='lstsq', verbose=True)"
   ]
  },
  {
   "cell_type": "code",
   "execution_count": null,
   "metadata": {},
   "outputs": [],
   "source": [
    "# srtest.plot(fundamental_domain=False)\n",
    "\n",
    "# srtest.S\n",
    "\n",
    "# srtest.reflection().plot(fundamental_domain=False)\n",
    "\n",
    "# srtest_refl = srtest.reflection()\n",
    "\n",
    "# sr_srrefl_state = np.concatenate((srtest_refl.state, srtest.state))\n",
    "\n",
    "# test_orbit = ShiftReflectionOrbitKS(state=sr_srrefl_state, statetype='field', T=2*srtest.T, L=srtest.L)\n",
    "\n",
    "# test_orbit.plot(fundamental_domain=False)"
   ]
  },
  {
   "cell_type": "code",
   "execution_count": null,
   "metadata": {},
   "outputs": [],
   "source": [
    "test_orbit.time_transform_matrix().shape"
   ]
  },
  {
   "cell_type": "code",
   "execution_count": null,
   "metadata": {},
   "outputs": [],
   "source": [
    "np.dot(test_orbit.time_transform_matrix(), test_orbit.time_inv_transform_matrix()).shape#.sum(axis=1).sum()"
   ]
  },
  {
   "cell_type": "code",
   "execution_count": null,
   "metadata": {},
   "outputs": [],
   "source": [
    "test_orbit.time_transform_matrix()"
   ]
  },
  {
   "cell_type": "code",
   "execution_count": null,
   "metadata": {
    "scrolled": true
   },
   "outputs": [],
   "source": [
    "test_orbit_result = converge(test_orbit, method='lstsq', verbose=True)"
   ]
  },
  {
   "cell_type": "code",
   "execution_count": null,
   "metadata": {},
   "outputs": [],
   "source": [
    "o2 = read_h5(\"C:\\\\Users\\\\Matt\\\\Desktop\\\\orbithunter_test_data\\\\full_L26.7_T54.h5\")\n",
    "a2 = AntisymmetricOrbit(state=np.roll(o2.state, 6 ,axis=1), statetype=o2.statetype, T=o2.T, L=o2.L)\n",
    "a2result = converge(a2, verbose=True)\n",
    "a3 = a2result.orbit.convert(to='field')\n",
    "o3 = Orbit(state=np.roll(a3.state, 6 ,axis=1), statetype=a3.statetype, T=a3.T, L=a3.L)\n",
    "o3result = converge(o3, fixedparams=(False, True, False), verbose=True)\n",
    "o4 = o3result.orbit.convert(to='field')\n",
    "o4 = Orbit(state=np.roll(o4.state, 6 ,axis=1), statetype=o4.statetype, T=o4.T, L=o4.L)\n",
    "o4result = converge(o4, fixedparams=(False, True, False), verbose=True)"
   ]
  },
  {
   "cell_type": "code",
   "execution_count": null,
   "metadata": {},
   "outputs": [],
   "source": [
    "a2 = AntisymmetricOrbit(state=np.roll(o2.state, 6 ,axis=1), statetype=o2.statetype, T=o2.T, L=o2.L)"
   ]
  },
  {
   "cell_type": "code",
   "execution_count": null,
   "metadata": {},
   "outputs": [],
   "source": [
    "o3result.orbit.L"
   ]
  },
  {
   "cell_type": "code",
   "execution_count": null,
   "metadata": {},
   "outputs": [],
   "source": [
    "a3.L"
   ]
  },
  {
   "cell_type": "code",
   "execution_count": null,
   "metadata": {},
   "outputs": [],
   "source": [
    "o3result.orbit.L"
   ]
  },
  {
   "cell_type": "code",
   "execution_count": null,
   "metadata": {},
   "outputs": [],
   "source": [
    "a3.L-0.01"
   ]
  },
  {
   "cell_type": "code",
   "execution_count": null,
   "metadata": {},
   "outputs": [],
   "source": [
    "o2.plot(fundamental_domain=False)"
   ]
  },
  {
   "cell_type": "code",
   "execution_count": null,
   "metadata": {},
   "outputs": [],
   "source": [
    "defect.S"
   ]
  },
  {
   "cell_type": "code",
   "execution_count": null,
   "metadata": {},
   "outputs": [],
   "source": [
    "defect.to_fundamental_domain().plot(fundamental_domain=False)"
   ]
  },
  {
   "cell_type": "code",
   "execution_count": null,
   "metadata": {},
   "outputs": [],
   "source": [
    "defect.to_fundamental_domain().calculate_shift()"
   ]
  },
  {
   "cell_type": "code",
   "execution_count": null,
   "metadata": {},
   "outputs": [],
   "source": [
    "defect.plot()"
   ]
  },
  {
   "cell_type": "code",
   "execution_count": null,
   "metadata": {},
   "outputs": [],
   "source": [
    "defect2 = RelativeOrbit(state=defect.state, T=defect.T, L=defect.L, S=-1.0*defect.to_fundamental_domain().calculate_shift())\n",
    "defect2 = defect2.to_fundamental_domain()"
   ]
  },
  {
   "cell_type": "code",
   "execution_count": null,
   "metadata": {},
   "outputs": [],
   "source": [
    "defect2.S = defect.S+defect2.S"
   ]
  },
  {
   "cell_type": "code",
   "execution_count": null,
   "metadata": {},
   "outputs": [],
   "source": [
    "defect2.S "
   ]
  },
  {
   "cell_type": "code",
   "execution_count": null,
   "metadata": {},
   "outputs": [],
   "source": [
    "defect2.plot(padding=False, fundamental_domain=False)"
   ]
  },
  {
   "cell_type": "code",
   "execution_count": null,
   "metadata": {},
   "outputs": [],
   "source": [
    "result = converge(defect2, verbose=True)"
   ]
  },
  {
   "cell_type": "code",
   "execution_count": null,
   "metadata": {},
   "outputs": [],
   "source": [
    "result.orbit.S"
   ]
  },
  {
   "cell_type": "code",
   "execution_count": null,
   "metadata": {},
   "outputs": [],
   "source": [
    "result.orbit.plot(fundamental_domain=False)"
   ]
  },
  {
   "cell_type": "code",
   "execution_count": null,
   "metadata": {},
   "outputs": [],
   "source": [
    "fig = plt.figure(figsize=(20,20))\n",
    "plt.imshow(np.tile(result.orbit.state, (32,32)),cmap='jet',aspect='auto')"
   ]
  },
  {
   "cell_type": "code",
   "execution_count": null,
   "metadata": {},
   "outputs": [],
   "source": [
    "defect = read_h5(\"C:\\\\Users\\\\Matt\\\\Desktop\\\\orbithunter_test_data\\\\rpo_L13p02_T15.h5\")"
   ]
  },
  {
   "cell_type": "code",
   "execution_count": null,
   "metadata": {},
   "outputs": [],
   "source": [
    "defect0 = read_h5(\"C:\\\\Users\\\\Matt\\\\Desktop\\\\orbithunter_test_data\\\\rpo_L12p87_T26.h5\")\n",
    "defect0.S *=-1"
   ]
  },
  {
   "cell_type": "code",
   "execution_count": null,
   "metadata": {},
   "outputs": [],
   "source": [
    "defect0.residual()"
   ]
  },
  {
   "cell_type": "code",
   "execution_count": null,
   "metadata": {},
   "outputs": [],
   "source": [
    "defect.S"
   ]
  },
  {
   "cell_type": "code",
   "execution_count": null,
   "metadata": {},
   "outputs": [],
   "source": [
    "defect.plot(fundamental_domain=False)"
   ]
  },
  {
   "cell_type": "code",
   "execution_count": null,
   "metadata": {
    "scrolled": false
   },
   "outputs": [],
   "source": [
    "exit_code = 1\n",
    "result = converge(defect2, fixedparams=(False, False, False), verbose=True)\n",
    "defect_down = result.orbit\n",
    "\n",
    "while exit_code == 1:\n",
    "    # print(wiggle_freeboundary.residual())\n",
    "    defect_down.L -= 0.01\n",
    "    # print(wiggle_freeboundary.residual())\n",
    "    result = converge(defect_down, fixedparams=(False, True, False), verbose=True)\n",
    "    exit_code = result.exit_code\n",
    "    if exit_code == 1:\n",
    "        defect_down = result.orbit\n",
    "        print(result.orbit.state_vector()[-3:])\n",
    "        defect_down.plot()\n",
    "defect_down.plot()"
   ]
  },
  {
   "cell_type": "code",
   "execution_count": null,
   "metadata": {},
   "outputs": [],
   "source": [
    "exit_code = 1\n",
    "result = converge(defect, fixedparams=(False, False, True), verbose=True)\n",
    "defect_down = result.orbit\n",
    "\n",
    "while exit_code == 1:\n",
    "    # print(wiggle_freeboundary.residual())\n",
    "    defect_down.S += 2\n",
    "    # print(wiggle_freeboundary.residual())\n",
    "    result = converge(defect_down, method='lstsq', fixedparams=(False,False,False), verbose=True)\n",
    "    exit_code = result.exit_code\n",
    "    if exit_code == 1:\n",
    "        defect_down = result.orbit\n",
    "        print(result.orbit.state_vector()[-3:])\n",
    "        defect_down.plot(fundamental_domain=False)\n",
    "defect_down.plot(fundamental_domain=False)"
   ]
  },
  {
   "cell_type": "code",
   "execution_count": null,
   "metadata": {},
   "outputs": [],
   "source": [
    "fig = plt.figure(figsize=(20,20))\n",
    "plt.imshow(np.tile(defect.state, (32,32)),cmap='jet',aspect='auto')"
   ]
  },
  {
   "cell_type": "code",
   "execution_count": null,
   "metadata": {},
   "outputs": [],
   "source": [
    "exit_code = 1\n",
    "result = converge(defect_down, fixedparams=(False, False, False), verbose=True)\n",
    "defect_down = result.torus\n",
    "\n",
    "while exit_code == 1:\n",
    "    # print(wiggle_freeboundary.residual())\n",
    "    defect_down.L -= 0.01\n",
    "    # print(wiggle_freeboundary.residual())\n",
    "    result = converge(defect_down, method='lstsq', fixedparams=(False,True,False), verbose=True)\n",
    "    exit_code = result.exit_code\n",
    "    if exit_code == 1:\n",
    "        defect_down = result.torus\n",
    "        print(result.torus.L)\n",
    "        defect_down.plot()\n",
    "defect_down.plot()"
   ]
  },
  {
   "cell_type": "code",
   "execution_count": null,
   "metadata": {},
   "outputs": [],
   "source": [
    "# defect = rediscretize(defect, newN=32, newM=32)#.to_fundamental_domain()\n",
    "# result = converge(defect, fixedparams=(False, False, False), verbose=True)\n",
    "# defect = result.torus"
   ]
  },
  {
   "cell_type": "code",
   "execution_count": null,
   "metadata": {},
   "outputs": [],
   "source": [
    "defect.S"
   ]
  },
  {
   "cell_type": "code",
   "execution_count": null,
   "metadata": {},
   "outputs": [],
   "source": [
    "defect.plot()"
   ]
  },
  {
   "cell_type": "code",
   "execution_count": null,
   "metadata": {},
   "outputs": [],
   "source": [
    "\n",
    "\n",
    "defect_down = RelativeTorus(state=defect.convert(to='field').state, statetype='field', T=defect.T, L=defect.L, S=defect.S)\n",
    "exit_code = 1\n",
    "result = converge(defect_down, fixedparams=(False, False, False), verbose=True)\n",
    "defect_down = result.torus\n",
    "\n",
    "while exit_code == 1:\n",
    "    # print(wiggle_freeboundary.residual())\n",
    "    defect_down.L -= 0.01\n",
    "    # print(wiggle_freeboundary.residual())\n",
    "    result = converge(defect_down,  fixedparams=(False,True,False), verbose=True)\n",
    "    exit_code = result.exit_code\n",
    "    if exit_code == 1:\n",
    "        defect_down = result.torus\n",
    "        defect_down.plot(save=True)\n",
    "defect_down.plot(save=True)"
   ]
  },
  {
   "cell_type": "code",
   "execution_count": null,
   "metadata": {
    "scrolled": false
   },
   "outputs": [],
   "source": [
    "defect_up = RelativeTorus(state=defect.convert(to='field').state, statetype='field', T=defect.T, L=defect.L, S=defect.S)\n",
    "exit_code = 1\n",
    "result = converge(defect_up, fixedparams=(False, False, False), verbose=True)\n",
    "defect_up = result.torus\n",
    "\n",
    "while exit_code == 1:\n",
    "    defect_up.L += 2\n",
    "    print(defect_up.L)\n",
    "    result = converge(defect_up,  fixedparams=(False,False,False), verbose=True)\n",
    "    exit_code = result.exit_code\n",
    "    if exit_code == 1:\n",
    "        defect_up = result.torus\n",
    "        print(result.torus.L)\n",
    "        defect_up.plot()\n",
    "defect_up.plot()"
   ]
  },
  {
   "cell_type": "code",
   "execution_count": null,
   "metadata": {},
   "outputs": [],
   "source": [
    "result = converge(rediscretize(a, newN=32, newM=32), fixedparams=(False, False, False), verbose=True)\n",
    "wiggle = result.torus"
   ]
  },
  {
   "cell_type": "code",
   "execution_count": null,
   "metadata": {},
   "outputs": [],
   "source": [
    "wiggle.plot()"
   ]
  },
  {
   "cell_type": "code",
   "execution_count": null,
   "metadata": {},
   "outputs": [],
   "source": [
    "wiggle_up = Torus(state=wiggle.convert(to='field').state, statetype='field', T=wiggle.T, L=wiggle.L)\n",
    "exit_code = 1"
   ]
  },
  {
   "cell_type": "code",
   "execution_count": null,
   "metadata": {},
   "outputs": [],
   "source": [
    "wiggle_up.N"
   ]
  },
  {
   "cell_type": "code",
   "execution_count": null,
   "metadata": {
    "scrolled": false
   },
   "outputs": [],
   "source": [
    "niter=0\n",
    "while exit_code == 1:\n",
    "    wiggle_up.L += 0.01\n",
    "    result = converge(wiggle_up, method='lstsq', fixedparams=(False, True, False), verbose=False)\n",
    "    exit_code = result.exit_code\n",
    "    \n",
    "    if exit_code == 1:\n",
    "        niter+=1\n",
    "        wiggle_up = result.torus\n",
    "        print(result.torus.L)\n",
    "        if niter % 5 == 0:\n",
    "            wiggle_up.plot()\n",
    "        # wiggle_freeboundary.plot()\n",
    "wiggle_up.plot()"
   ]
  },
  {
   "cell_type": "code",
   "execution_count": null,
   "metadata": {},
   "outputs": [],
   "source": [
    "wiggle_up = Torus(state=wiggle.convert(to='field').state, statetype='field', T=wiggle.T, L=wiggle.L)\n",
    "exit_code = 1"
   ]
  },
  {
   "cell_type": "code",
   "execution_count": null,
   "metadata": {
    "scrolled": false
   },
   "outputs": [],
   "source": [
    "while exit_code == 1:\n",
    "    # print(wiggle_freeboundary.residual())\n",
    "    wiggle_up.L += 0.5\n",
    "    # print(wiggle_freeboundary.residual())\n",
    "    result = converge(wiggle_up, verbose=True)\n",
    "    exit_code = result.exit_code\n",
    "    if exit_code == 1:\n",
    "        wiggle_up = result.torus\n",
    "        print(result.torus.L)\n",
    "        wiggle_up.plot()\n",
    "        \n",
    "print(result.torus.L)\n",
    "wiggle_up.plot()"
   ]
  },
  {
   "cell_type": "code",
   "execution_count": null,
   "metadata": {},
   "outputs": [],
   "source": [
    "result = converge(wiggle, fixedparams=(False, True, False), verbose=True)\n",
    "wiggle = result.torus"
   ]
  },
  {
   "cell_type": "code",
   "execution_count": null,
   "metadata": {},
   "outputs": [],
   "source": [
    "wiggle_freeboundary = RelativeTorus(state=wiggle.state, statetype=wiggle.statetype, T=wiggle.T, L=wiggle.L, S=0)\n",
    "exit_code = 1\n",
    "\n",
    "wiggle_freeboundary.S = float(wiggle_freeboundary.calculate_shift())\n",
    "\n",
    "\n",
    "\n",
    "while exit_code == 1:\n",
    "    wiggle_freeboundary.L -= 0.01\n",
    "    result = converge(wiggle_freeboundary, fixedparams=(False, True, False), verbose=True)\n",
    "    exit_code = result.exit_code\n",
    "    print(exit_code, result.torus.L)\n",
    "    if exit_code == 1:\n",
    "        wiggle_freeboundary = result.torus"
   ]
  },
  {
   "cell_type": "code",
   "execution_count": null,
   "metadata": {},
   "outputs": [],
   "source": [
    "# defect_down = rediscretize(r, newN=32, newM=32)#.to_fundamental_domain()\n",
    "defect_down = defect\n",
    "# defect = RelativeTorus(state=wiggle.state, statetype=wiggle.statetype, T=wiggle.T, L=wiggle.L, S=0)\n",
    "exit_code = 1\n",
    "# wiggle_freeboundary.S = float(wiggle_freeboundary.calculate_shift())\n",
    "\n",
    "while exit_code == 1:\n",
    "    defect_down.L -= 0.1\n",
    "    result = converge(defect_down, method='lstsq', fixedparams=(False, True, False),  verbose=True)\n",
    "    exit_code = result.exit_code\n",
    "    if exit_code == 1:\n",
    "        defect_down = result.torus"
   ]
  },
  {
   "cell_type": "code",
   "execution_count": null,
   "metadata": {},
   "outputs": [],
   "source": [
    "defect_up = rediscretize(r, newN=32, newM=32)#.to_fundamental_domain()\n",
    "# wiggle_freeboundary = RelativeTorus(state=wiggle.state, statetype=wiggle.statetype, T=wiggle.T, L=wiggle.L, S=0)\n",
    "exit_code = 1\n",
    "while exit_code == 1:\n",
    "    defect_down.L += 0.1\n",
    "    result = converge(defect_down, fixedparams=(False, False, False),  verbose=True)\n",
    "    exit_code = result.exit_code\n",
    "    if exit_code == 1:\n",
    "        defect_down = result.torus"
   ]
  },
  {
   "cell_type": "code",
   "execution_count": null,
   "metadata": {},
   "outputs": [],
   "source": [
    "result"
   ]
  },
  {
   "cell_type": "code",
   "execution_count": null,
   "metadata": {},
   "outputs": [],
   "source": [
    "result = converge(wiggle_freeboundary, fixedparams=(False, True, False), method='lstsq', verbose=True)\n"
   ]
  },
  {
   "cell_type": "code",
   "execution_count": null,
   "metadata": {},
   "outputs": [],
   "source": [
    "wiggle_freeboundary.plot(fundamental_domain=False)"
   ]
  },
  {
   "cell_type": "code",
   "execution_count": null,
   "metadata": {},
   "outputs": [],
   "source": [
    "def draw_nodal_lines(orbit, epsilon=0.2):\n",
    "    orbit_dx_field = orbit.dx().convert(to='field').state\n",
    "    nodal = np.where(np.abs(orbit_dx_field)< epsilon) \n",
    "    not_nodal = np.where(np.abs(orbit_dx_field) >= epsilon)\n",
    "    orbit_dx_field[nodal]=1\n",
    "    orbit_dx_field[not_nodal]=None\n",
    "    \n",
    "    return orbit_dx_field"
   ]
  },
  {
   "cell_type": "code",
   "execution_count": null,
   "metadata": {},
   "outputs": [],
   "source": [
    "# anew = rediscretize(a, newN=256, newM=256)\n",
    "# rnew = rediscretize(r, newN=256, newM=256)\n",
    "# enew = rediscretize(e, newN=256, newM=256)\n",
    "# anew.plot(fundamental_domain=False, padding=False)\n",
    "# rnew.comoving_transformation().plot(fundamental_domain=False, padding=False)"
   ]
  },
  {
   "cell_type": "code",
   "execution_count": null,
   "metadata": {},
   "outputs": [],
   "source": [
    "rnode = draw_nodal_lines(rnew.to_fundamental_domain(), epsilon=0.1)\n",
    "rnode_halfcell = np.roll(rnode, rnode.shape[1]//2, axis=1)\n",
    "\n",
    "fig = plt.figure()\n",
    "plt.imshow(rnode, origin='lower')\n",
    "_ = plt.show()\n",
    "\n",
    "fig = plt.figure()\n",
    "plt.imshow(rnode_halfcell, origin='lower')\n",
    "_ = plt.show()"
   ]
  },
  {
   "cell_type": "code",
   "execution_count": null,
   "metadata": {},
   "outputs": [],
   "source": [
    "wiggle_freeboundary"
   ]
  },
  {
   "cell_type": "code",
   "execution_count": null,
   "metadata": {},
   "outputs": [],
   "source": [
    "anode = draw_nodal_lines(anew, epsilon=0.1)\n",
    "anode_halfcell = np.roll(anode, anode.shape[1]//2, axis=1)\n",
    "\n",
    "fig = plt.figure()\n",
    "plt.imshow(anode, origin='lower')\n",
    "_ = plt.show()\n",
    "\n",
    "fig = plt.figure()\n",
    "plt.imshow(anode_halfcell, origin='lower')\n",
    "_ = plt.show()"
   ]
  },
  {
   "cell_type": "code",
   "execution_count": null,
   "metadata": {},
   "outputs": [],
   "source": [
    "fig = plt.figure()\n",
    "plt.imshow(draw_nodal_lines(rediscretize(a, newN=256, newM=256)))\n",
    "_ = plt.show()"
   ]
  },
  {
   "cell_type": "code",
   "execution_count": null,
   "metadata": {},
   "outputs": [],
   "source": [
    "Torus(state=draw_nodal_lines(a), statetype='field',"
   ]
  },
  {
   "cell_type": "code",
   "execution_count": null,
   "metadata": {},
   "outputs": [],
   "source": [
    "e.convert(to='field').state.shape"
   ]
  },
  {
   "cell_type": "code",
   "execution_count": null,
   "metadata": {},
   "outputs": [],
   "source": [
    "e.convert(to='modes').state.shape"
   ]
  },
  {
   "cell_type": "code",
   "execution_count": null,
   "metadata": {},
   "outputs": [],
   "source": [
    "converge(e)"
   ]
  },
  {
   "cell_type": "code",
   "execution_count": null,
   "metadata": {},
   "outputs": [],
   "source": [
    "e.N"
   ]
  },
  {
   "cell_type": "code",
   "execution_count": null,
   "metadata": {},
   "outputs": [],
   "source": [
    "padding = np.zeros([e.state.shape[0], 32])\n",
    "eqv_modes = e.convert(to='modes').state\n",
    "padded_modes = np.concatenate((eqv_modes, padding), axis=1)"
   ]
  },
  {
   "cell_type": "code",
   "execution_count": null,
   "metadata": {},
   "outputs": [],
   "source": [
    "padded_modes.shape"
   ]
  },
  {
   "cell_type": "code",
   "execution_count": null,
   "metadata": {
    "scrolled": true
   },
   "outputs": [],
   "source": [
    "e.convert(to='modes').state"
   ]
  },
  {
   "cell_type": "code",
   "execution_count": null,
   "metadata": {},
   "outputs": [],
   "source": [
    "e.convert(to='field').state.shape"
   ]
  },
  {
   "cell_type": "code",
   "execution_count": null,
   "metadata": {},
   "outputs": [],
   "source": [
    "e3 = rediscretize(e.convert(to='field'), newN=32, newM=32)"
   ]
  },
  {
   "cell_type": "code",
   "execution_count": null,
   "metadata": {},
   "outputs": [],
   "source": [
    "e3.state.shape"
   ]
  },
  {
   "cell_type": "code",
   "execution_count": null,
   "metadata": {},
   "outputs": [],
   "source": [
    "erd = rediscretize(e.convert(to='field'), newN=a.N+2, newM=a.M+2)"
   ]
  },
  {
   "cell_type": "code",
   "execution_count": null,
   "metadata": {},
   "outputs": [],
   "source": [
    "ard = rediscretize(a.convert(to='field'), newN=a.N+2, newM=a.M+2)"
   ]
  },
  {
   "cell_type": "code",
   "execution_count": null,
   "metadata": {},
   "outputs": [],
   "source": [
    "ord_ = rediscretize(o.convert(to='field'), newN=o.N+2, newM=o.M+2)\n",
    "ord_ = rediscretize(o.convert(to='field'), newN=o.N-2, newM=o.M-2)"
   ]
  },
  {
   "cell_type": "code",
   "execution_count": null,
   "metadata": {},
   "outputs": [],
   "source": [
    "ord_.plot()"
   ]
  },
  {
   "cell_type": "code",
   "execution_count": null,
   "metadata": {},
   "outputs": [],
   "source": [
    "o2rd = rediscretize(o2.convert(to='field'), newN=o2.N+2, newM=o2.M+2)\n",
    "o2rd_ = rediscretize(o2.convert(to='field'), newN=o2.N-2, newM=o2.M-2)"
   ]
  },
  {
   "cell_type": "code",
   "execution_count": null,
   "metadata": {},
   "outputs": [],
   "source": [
    "rrd = rediscretize(r.convert(to='field'), newN=r.N+2, newM=r.M+2)\n",
    "rrd = rediscretize(r.convert(to='field'), newN=r.N-2, newM=r.M-2)"
   ]
  },
  {
   "cell_type": "code",
   "execution_count": null,
   "metadata": {},
   "outputs": [],
   "source": [
    "srrd = rediscretize(sr.convert(to='field'), newN=sr.N+2, newM=sr.M+2)\n",
    "srrd = rediscretize(sr.convert(to='field'), newN=sr.N-2, newM=sr.M-2)"
   ]
  },
  {
   "cell_type": "code",
   "execution_count": null,
   "metadata": {},
   "outputs": [],
   "source": [
    "erd = rediscretize(e.convert(to='field'), newN=e.N+2, newM=e.M+2)\n",
    "erd = rediscretize(e.convert(to='field'), newN=e.N-2, newM=e.M-2)"
   ]
  },
  {
   "cell_type": "code",
   "execution_count": null,
   "metadata": {},
   "outputs": [],
   "source": [
    "a_result = converge(ard, verbose=True)\n",
    "a_result"
   ]
  },
  {
   "cell_type": "code",
   "execution_count": null,
   "metadata": {},
   "outputs": [],
   "source": [
    "a_result.torus.plot()"
   ]
  },
  {
   "cell_type": "code",
   "execution_count": null,
   "metadata": {},
   "outputs": [],
   "source": [
    "o_result = converge(ord_, verbose=True)\n",
    "o_result"
   ]
  },
  {
   "cell_type": "code",
   "execution_count": null,
   "metadata": {},
   "outputs": [],
   "source": [
    "o_result.torus.plot()"
   ]
  },
  {
   "cell_type": "code",
   "execution_count": null,
   "metadata": {},
   "outputs": [],
   "source": [
    "ord_.mode_shape"
   ]
  },
  {
   "cell_type": "code",
   "execution_count": null,
   "metadata": {},
   "outputs": [],
   "source": [
    "ord_.plot()"
   ]
  },
  {
   "cell_type": "code",
   "execution_count": null,
   "metadata": {},
   "outputs": [],
   "source": [
    "o2_result = converge(o2rd, verbose=True)\n",
    "o2_result"
   ]
  },
  {
   "cell_type": "code",
   "execution_count": null,
   "metadata": {},
   "outputs": [],
   "source": [
    "o2_result.torus.plot()"
   ]
  },
  {
   "cell_type": "code",
   "execution_count": null,
   "metadata": {},
   "outputs": [],
   "source": [
    "o2_result = converge(o2, atol=10**-14, verbose=True)\n",
    "o2_result"
   ]
  },
  {
   "cell_type": "code",
   "execution_count": null,
   "metadata": {},
   "outputs": [],
   "source": [
    "o2_result.torus.plot()"
   ]
  },
  {
   "cell_type": "code",
   "execution_count": null,
   "metadata": {},
   "outputs": [],
   "source": [
    "r_result = converge(rrd, verbose=True)\n",
    "r_result"
   ]
  },
  {
   "cell_type": "code",
   "execution_count": null,
   "metadata": {},
   "outputs": [],
   "source": [
    "r_result.torus.plot()"
   ]
  },
  {
   "cell_type": "code",
   "execution_count": null,
   "metadata": {},
   "outputs": [],
   "source": [
    "sr_result = converge(srrd, verbose=True)\n",
    "sr_result"
   ]
  },
  {
   "cell_type": "code",
   "execution_count": null,
   "metadata": {},
   "outputs": [],
   "source": [
    "sr_result.torus.plot()"
   ]
  },
  {
   "cell_type": "code",
   "execution_count": null,
   "metadata": {},
   "outputs": [],
   "source": [
    "e.elementwise_dx()"
   ]
  },
  {
   "cell_type": "code",
   "execution_count": null,
   "metadata": {},
   "outputs": [],
   "source": [
    "e.wave_vector().shape"
   ]
  },
  {
   "cell_type": "code",
   "execution_count": null,
   "metadata": {},
   "outputs": [],
   "source": [
    "e.m"
   ]
  },
  {
   "cell_type": "code",
   "execution_count": null,
   "metadata": {},
   "outputs": [],
   "source": []
  },
  {
   "cell_type": "code",
   "execution_count": null,
   "metadata": {},
   "outputs": [],
   "source": []
  },
  {
   "cell_type": "code",
   "execution_count": null,
   "metadata": {},
   "outputs": [],
   "source": []
  },
  {
   "cell_type": "code",
   "execution_count": null,
   "metadata": {},
   "outputs": [],
   "source": [
    "x0 = AntisymmetricOrbit(state=torus.state, statetype=torus.statetype, L=torus.L, T=torus.T)\n",
    "\n",
    "xfr = converge(x0, method='lstsq')\n",
    "xf = xfr.orbit"
   ]
  },
  {
   "cell_type": "code",
   "execution_count": null,
   "metadata": {},
   "outputs": [],
   "source": [
    "xf.plot(fundamental_domain=False)\n",
    "xf.residual()\n"
   ]
  },
  {
   "cell_type": "code",
   "execution_count": null,
   "metadata": {},
   "outputs": [],
   "source": [
    "# x0 = rediscretize(xf.convert(to='field'), newN=16, newM=32)\n",
    "x = ShiftReflectionOrbit(state=np.roll(xf.convert(to='field').state,7,axis=1), statetype='field',T=xf.T, L=xf.L) \n",
    "\n",
    "x.residual()\n",
    "\n",
    "x.plot(fundamental_domain=False)"
   ]
  },
  {
   "cell_type": "code",
   "execution_count": null,
   "metadata": {},
   "outputs": [],
   "source": [
    "xf_result = converge(x, atol=10**-14, max_iter=10000, verbose=True)\n",
    "\n",
    "xf_result.orbit.residual()\n",
    "\n",
    "xf_result.orbit.state\n",
    "\n",
    "xf_result = converge(xfa, method='lstsq', atol=10**-14, verbose=True)\n",
    "\n",
    "ppotorus.plot()\n",
    "\n",
    "ppotorus.residual()\n",
    "\n",
    "xf_result = converge(ppotorus, method='lstsq',atol=10**-14, verbose=True)\n",
    "\n",
    "xf_result.orbit.residual()\n",
    "\n",
    "xf_result.orbit.plot()\n",
    "\n",
    "xf_result.orbit.statetype\n",
    "\n",
    "x0 = xf_result.orbit.convert(to='field')\n",
    "x = Torus(state=x0.state,statetype='field',T=x0.T, L=x0.L) \n",
    "\n",
    "x.plot()\n",
    "\n",
    "x.residual()\n",
    "\n",
    "xf_result = converge(x, method='lstsq',atol=10**-14, verbose=True)\n",
    "\n",
    "xf_result.orbit.plot()\n",
    "\n",
    "xf = converge(x,method='adj',atol=10**-14, verbose=True)\n",
    "\n",
    "xff = converge(xf.torus, method='lstsq',atol=10**-14, verbose=True)\n",
    "\n",
    "xf.torus.residual()\n",
    "\n",
    "atorus = AntisymmetricOrbit(state=torus.state, statetype='field', T=torus.T, L=torus.L)\n",
    "\n",
    "ppotorus = ShiftReflectionOrbit(state=torus.state, statetype='field', T=torus.T, L=torus.L)\n",
    "\n",
    "a_old_vv = atorus.convert(to='modes').state\n",
    "\n",
    "u = torus.convert(to='field').state\n",
    "\n",
    "a_old_v = atorus.convert(to='s_modes').state\n",
    "ppo_old_v = ppotorus.convert(to='s_modes').state\n",
    "old_v = torus.convert(to='s_modes').state\n",
    "\n",
    "a_old_vv = atorus.convert(to='modes').state\n",
    "ppo_old_vv = ppotorus.convert(to='modes').state\n",
    "old_vv = torus.convert(to='modes').state"
   ]
  },
  {
   "cell_type": "code",
   "execution_count": null,
   "metadata": {},
   "outputs": [],
   "source": [
    "space_modes = rfft(torus.convert(to='field').state, norm='ortho', axis=1)[:, 1:-1]\n",
    "spatial_modes = np.concatenate((space_modes.real, space_modes.imag), axis=1)"
   ]
  },
  {
   "cell_type": "code",
   "execution_count": null,
   "metadata": {},
   "outputs": [],
   "source": []
  },
  {
   "cell_type": "code",
   "execution_count": null,
   "metadata": {},
   "outputs": [],
   "source": []
  },
  {
   "cell_type": "code",
   "execution_count": null,
   "metadata": {},
   "outputs": [],
   "source": [
    "modes = rfft(spatial_modes, norm='ortho', axis=0)\n",
    "modes_real = modes.real[:-1, -atorus.m:]\n",
    "modes_imag = modes.imag[1:-1, -atorus.m:]\n",
    "anti_spacetime_modes = np.concatenate((modes_real, modes_imag),axis=0)"
   ]
  },
  {
   "cell_type": "code",
   "execution_count": null,
   "metadata": {},
   "outputs": [],
   "source": [
    "# PPO\n",
    "modes = rfft(spatial_modes, norm='ortho', axis=0)\n",
    "modes_real = modes.real[:-1, :-torus.m] + modes.real[:-1, -torus.m:]\n",
    "modes_imag = modes.imag[1:-1, :-torus.m] + modes.imag[1:-1, -torus.m:]\n",
    "ppo_spacetime_modes = np.concatenate((modes_real, modes_imag),axis=0)"
   ]
  },
  {
   "cell_type": "code",
   "execution_count": null,
   "metadata": {},
   "outputs": [],
   "source": [
    "# Torus, RelativeTorus\n",
    "modes = rfft(spatial_modes, norm='ortho', axis=0)\n",
    "modes_real = modes.real[:-1, :] \n",
    "modes_imag = modes.imag[1:-1, :]\n",
    "spacetime_modes = np.concatenate((modes_real, modes_imag),axis=0)"
   ]
  },
  {
   "cell_type": "code",
   "execution_count": null,
   "metadata": {},
   "outputs": [],
   "source": [
    "mat_tmp = irfft(np.eye(torus.N//2+1), norm='ortho', axis=0)\n",
    "time_irfft_mat = np.concatenate((mat_tmp[:,:-1], mat_tmp[:,1:-1]),axis=1)"
   ]
  },
  {
   "cell_type": "code",
   "execution_count": null,
   "metadata": {},
   "outputs": [],
   "source": [
    "np.linalg.norm(f.transpose()-space_mat)"
   ]
  },
  {
   "cell_type": "code",
   "execution_count": null,
   "metadata": {},
   "outputs": [],
   "source": [
    "self = torus\n",
    "fx = (1 / np.sqrt(self.M)) * old_rfft(np.eye(self.M), axis=0)[1:self.M - 1, :]\n",
    "fx_a = np.zeros([self.m, self.M], float)\n",
    "fx_b = np.zeros([self.m, self.M], float)\n",
    "\n",
    "indices = np.arange(0, self.m)\n",
    "fx_a[indices, :] = fx[2 * indices, :]\n",
    "fx_b[indices, :] = fx[2 * indices + 1, :]\n",
    "\n",
    "ff = np.concatenate((fx_a, fx_b), axis=0)"
   ]
  },
  {
   "cell_type": "code",
   "execution_count": null,
   "metadata": {},
   "outputs": [],
   "source": [
    "plt.imshow(f-space_mat)\n",
    "_ = plt.show()"
   ]
  },
  {
   "cell_type": "code",
   "execution_count": null,
   "metadata": {},
   "outputs": [],
   "source": [
    "space_real_mat = irfft(np.eye(torus.M//2 + 1), norm='ortho', axis=0)\n",
    "\n",
    "space_imag_mat = irfft(1j*np.eye(torus.M//2 + 1), norm='ortho', axis=0)\n",
    "\n",
    "space_mat = np.concatenate((space_real_mat[:, 1:-1], space_imag_mat[:, 1:-1]),axis=1)\n",
    "\n",
    "space_ifft_matrix = np.kron(space_mat, np.eye(torus.N))\n",
    "\n",
    "np.linalg.norm(space_ifft_matrix-torus.space_irfft_matrix())"
   ]
  },
  {
   "cell_type": "code",
   "execution_count": null,
   "metadata": {},
   "outputs": [],
   "source": [
    "space_mat.shape"
   ]
  },
  {
   "cell_type": "code",
   "execution_count": null,
   "metadata": {},
   "outputs": [],
   "source": [
    "np.eye(torus.M//2 + 1).shape"
   ]
  },
  {
   "cell_type": "code",
   "execution_count": null,
   "metadata": {},
   "outputs": [],
   "source": [
    "irfft(np.eye(torus.M//2 + 1), norm='ortho', axis=0)"
   ]
  },
  {
   "cell_type": "code",
   "execution_count": null,
   "metadata": {},
   "outputs": [],
   "source": [
    "fx = np.sqrt(self.M)*old_irfft(np.eye(self.M), axis=0)[:, 1:self.M-1]\n",
    "fx_a = np.zeros([self.M, self.m], float)\n",
    "fx_b = np.zeros([self.M, self.m], float)\n",
    "\n",
    "indices = np.arange(0, self.m)\n",
    "fx_a[:, indices] = fx[:, 2 * indices]\n",
    "fx_b[:, indices] = fx[:, 2 * indices + 1]\n",
    "\n",
    "fb = np.concatenate((fx_a, fx_b), axis=1)"
   ]
  },
  {
   "cell_type": "code",
   "execution_count": null,
   "metadata": {},
   "outputs": [],
   "source": [
    "imag_idft_matrix = irfft(1j*np.eye((torus.N//2)+1), norm='ortho', axis=0)\n",
    "real_idft_matrix = irfft(np.eye((torus.N//2)+1), norm='ortho', axis=0)\n",
    "time_idft_matrix = np.concatenate((real_idft_matrix[:, :-1], imag_idft_matrix[:, 1:-1]),axis=1)\n",
    "ab_time_idft_matrix = np.insert(time_idft_matrix, np.arange(time_idft_matrix.shape[0]), time_dft_matrix, axis=0)\n",
    "\n",
    "ab_transform_formatter = np.zeros((2*torus.N, torus.N-1),dtype=int)\n",
    "ab_transform_formatter[::2,1:-torus.n:2] = 1\n",
    "ab_transform_formatter[1::2,:-torus.n:2] = 1\n",
    "ab_transform_formatter[1::2,-torus.n+1::2] = 1\n",
    "ab_transform_formatter[::2,-torus.n::2] = 1\n",
    "\n",
    "full_time_ifft_matrix = np.kron(ab_time_idft_matrix*ab_transform_formatter, \n",
    "                                np.eye(torus.mode_shape[1]))"
   ]
  },
  {
   "cell_type": "code",
   "execution_count": null,
   "metadata": {},
   "outputs": [],
   "source": [
    "ab_transform_formatter = np.zeros((torus.N-1, 2*torus.N),dtype=int)\n",
    "#odd rows\n",
    "ab_transform_formatter[1:-torus.n:2,::2] = 1\n",
    "ab_transform_formatter[:-torus.n:2,1::2] = 1\n",
    "ab_transform_formatter[-torus.n+1::2,1::2] = 1\n",
    "ab_transform_formatter[-torus.n::2, ::2] = 1\n",
    "\n",
    "full_dft_mat = rfft(np.eye(torus.M), norm='ortho', axis=0)\n",
    "# time_real_mat = rfft(np.eye(torus.N//2+1), norm='ortho', axis=0)\n",
    "time_dft_mat = np.concatenate((full_dft_mat[:-1, :].real, full_dft_mat[1:-1, :].imag), axis=0)\n",
    "ab_time_dft_matrix = np.insert(time_dft_mat, np.arange(time_dft_mat.shape[1]), time_dft_mat, axis=1)\n",
    "full_time_fft_matrix = np.kron(ab_time_dft_matrix*ab_transform_formatter, np.eye(torus.m))"
   ]
  },
  {
   "cell_type": "code",
   "execution_count": null,
   "metadata": {},
   "outputs": [],
   "source": [
    "idft_mat = irfft(np.eye(torus.N//2 + 1), norm='ortho', axis=0)\n",
    "time_idft_mat = np.concatenate((idft_mat[:, :-1].real, \n",
    "                                idft_mat[:, 1:-1].imag), axis=1)"
   ]
  },
  {
   "cell_type": "code",
   "execution_count": null,
   "metadata": {},
   "outputs": [],
   "source": [
    "torus.dt_matrix().shape"
   ]
  },
  {
   "cell_type": "code",
   "execution_count": null,
   "metadata": {},
   "outputs": [],
   "source": [
    "torus.dx_matrix(power=2).shape"
   ]
  },
  {
   "cell_type": "code",
   "execution_count": null,
   "metadata": {},
   "outputs": [],
   "source": [
    "%%timeit\n",
    "torus.dt_matrix() + torus.dx_matrix(power=2, statetype='modes') + torus.dx_matrix(power=4, statetype='modes')"
   ]
  },
  {
   "cell_type": "code",
   "execution_count": null,
   "metadata": {},
   "outputs": [],
   "source": [
    "%%timeit\n",
    "qk=torus.wave_vector().ravel()\n",
    "dx2 = -1*np.kron(np.eye(torus.N-1), np.diag(qk**2))\n",
    "dx4 = -1*np.kron(np.eye(torus.N-1), np.diag(qk**4))\n",
    "jl = torus.dt_matrix() + dx2 + dx4"
   ]
  },
  {
   "cell_type": "code",
   "execution_count": null,
   "metadata": {},
   "outputs": [],
   "source": [
    "idft_mat = irfft(np.eye(torus.M//2 + 1), norm='ortho', axis=0)[:, 1:-1]\n",
    "space_idft_mat = np.concatenate((idft_mat.real, idft_mat.imag), axis=1)\n",
    "space_idft_mat.shape"
   ]
  },
  {
   "cell_type": "code",
   "execution_count": null,
   "metadata": {},
   "outputs": [],
   "source": [
    "dft_mat = rfft(np.eye(torus.N), norm='ortho', axis=0)\n",
    "time_dft_mat = np.concatenate((dft_mat[:-1,:].real, dft_mat[1:-1,:].imag), axis=0)\n",
    "ab_time_dft_mat = np.insert(time_dft_mat, \n",
    "                             np.arange(time_dft_mat.shape[1]), \n",
    "                             np.zeros([time_dft_mat.shape[0], time_dft_mat.shape[1]]),\n",
    "                             axis=1)\n",
    "np.kron(ab_time_dft_mat, np.eye(torus.m)).shape"
   ]
  },
  {
   "cell_type": "code",
   "execution_count": null,
   "metadata": {},
   "outputs": [],
   "source": [
    "plt.imshow(ab_time_idft_mat)\n",
    "plt.colorbar()\n",
    "_ = plt.show()"
   ]
  },
  {
   "cell_type": "code",
   "execution_count": null,
   "metadata": {},
   "outputs": [],
   "source": [
    "ab_time_idft_mat.shape"
   ]
  },
  {
   "cell_type": "code",
   "execution_count": null,
   "metadata": {},
   "outputs": [],
   "source": [
    "tttt = full_time_ifft_matrix[full_time_ifft_matrix!=0]\n",
    "tttt[-5:]"
   ]
  },
  {
   "cell_type": "code",
   "execution_count": null,
   "metadata": {},
   "outputs": [],
   "source": [
    "# tmptmp = time_test[:, np.newaxis, :]\n"
   ]
  },
  {
   "cell_type": "code",
   "execution_count": null,
   "metadata": {},
   "outputs": [],
   "source": [
    "shuf2 = np.tile(np.insert(np.ones(8), np.arange(8), np.zeros(8)), (32,1))\n",
    "shuf1 = np.tile(np.insert(np.zeros(8), np.arange(8), np.ones(8)), (32,1))\n",
    "shuffle_mat = np.insert(shuf1.reshape(32, 1, 16), np.arange(32), shuf2.reshape(32,1,16),axis=0).squeeze()\n",
    "t2 = np.concatenate((shuffle_mat, shuffle_mat[:,1:]),axis=1)*tst\n",
    "# shufodd = np.roll(np.insert(shuf1.reshape(16, 1, 32), np.arange(16), shuf2.reshape(16,1,32),axis=0).squeeze(),1,axis=1)\n",
    "# shufodd = shufodd[:,:-1]\n",
    "# shufeven = shufeven[:,:-1]"
   ]
  },
  {
   "cell_type": "code",
   "execution_count": null,
   "metadata": {},
   "outputs": [],
   "source": [
    "# %%timeit\n"
   ]
  },
  {
   "cell_type": "code",
   "execution_count": null,
   "metadata": {},
   "outputs": [],
   "source": [
    "plt.imshow(tst)\n",
    "plt.colorbar()\n",
    "_ = plt.show()"
   ]
  },
  {
   "cell_type": "code",
   "execution_count": null,
   "metadata": {},
   "outputs": [],
   "source": [
    "plt.imshow(t2)\n",
    "plt.colorbar()\n",
    "_ = plt.show()"
   ]
  },
  {
   "cell_type": "code",
   "execution_count": null,
   "metadata": {},
   "outputs": [],
   "source": [
    "plt.imshow((tst*rangeifft)-t2)\n",
    "_ = plt.colorbar()"
   ]
  },
  {
   "cell_type": "code",
   "execution_count": null,
   "metadata": {},
   "outputs": [],
   "source": [
    "%%timeit\n",
    "torus.time_irfft_matrix()"
   ]
  },
  {
   "cell_type": "code",
   "execution_count": null,
   "metadata": {},
   "outputs": [],
   "source": [
    "%%timeit\n",
    "rangefft = np.zeros((31, 64),dtype=int)\n",
    "#odd rows\n",
    "rangefft[1:-15:2,::2] = 1\n",
    "rangefft[:-15:2,1::2] = 1\n",
    "rangefft[-15+1::2,1::2] = 1\n",
    "rangefft[-15::2, ::2] = 1\n",
    "time_mat = rfft(np.eye(torus.M), norm='ortho', axis=0)\n",
    "# time_real_mat = rfft(np.eye(torus.N//2+1), norm='ortho', axis=0)\n",
    "time_forward = np.concatenate((time_mat[:-1, :].real, time_mat[1:-1, :].imag), axis=0)\n",
    "time_mat_large = np.insert(time_forward, np.arange(time_forward.shape[1]), time_forward, axis=1)*rangefft\n",
    "full_time_fft_matrix = np.kron(time_mat_large, np.eye(torus.m))\n",
    "# np.linalg.norm(full_time_ifft_matrix-torus.time_ifft_matrix())"
   ]
  },
  {
   "cell_type": "code",
   "execution_count": null,
   "metadata": {},
   "outputs": [],
   "source": [
    "%%timeit\n",
    "rangefft = np.zeros((31, 64),dtype=int)\n",
    "#odd rows\n",
    "rangefft[1:-15:2,::2] = 1\n",
    "rangefft[:-15:2,1::2] = 1\n",
    "rangefft[-15+1::2,1::2] = 1\n",
    "rangefft[-15::2, ::2] = 1"
   ]
  },
  {
   "cell_type": "code",
   "execution_count": null,
   "metadata": {},
   "outputs": [],
   "source": [
    "%%timeit\n",
    "shuf22 = np.tile(np.insert(np.ones(32), np.arange(32), np.zeros(32)).reshape(1, -1), (8, 1))\n",
    "shuf12 = np.tile(np.insert(np.zeros(32), np.arange(32), np.ones(32)).reshape(1, -1), (8, 1))\n",
    "shuffle_mat2 = np.insert(shuf12, np.arange(8), shuf22, axis=0)\n",
    "shuf_final = np.concatenate((shuffle_mat2, shuffle_mat2[1:,:]), axis=0)\n",
    "\n",
    "time_mat = rfft(np.eye(torus.M), norm='ortho', axis=0)\n",
    "time_forward = np.concatenate((time_mat[:-1, :].real, time_mat[1:-1, :].imag), axis=0)\n",
    "time_mat_large = np.insert(time_forward, np.arange(time_forward.shape[1]), time_forward, axis=1)*shuf_final\n",
    "full_time_fft_matrix = np.kron(time_mat_large, np.eye(torus.m))"
   ]
  },
  {
   "cell_type": "code",
   "execution_count": null,
   "metadata": {},
   "outputs": [],
   "source": [
    "plt.imshow(full_time_ifft_matrix)"
   ]
  },
  {
   "cell_type": "code",
   "execution_count": null,
   "metadata": {},
   "outputs": [],
   "source": [
    "plt.imshow(torus.time_irfft_matrix()-full_time_ifft_matrix)"
   ]
  },
  {
   "cell_type": "code",
   "execution_count": null,
   "metadata": {},
   "outputs": [],
   "source": [
    "rangefft = np.zeros((31, 64),dtype=int)\n",
    "rangefft[1::2,::2] = 1\n",
    "rangefft[::2,1::2] = 1"
   ]
  },
  {
   "cell_type": "code",
   "execution_count": null,
   "metadata": {},
   "outputs": [],
   "source": [
    "shuf22 = np.tile(np.insert(np.ones(32), np.arange(32), np.zeros(32)).reshape(1, -1), (8, 1))\n",
    "shuf12 = np.tile(np.insert(np.zeros(32), np.arange(32), np.ones(32)).reshape(1, -1), (8, 1))\n",
    "shuffle_mat2 = np.insert(shuf12, np.arange(8), shuf22, axis=0)\n",
    "shuf_final = np.concatenate((shuffle_mat2, shuffle_mat2[1:,:]), axis=0)"
   ]
  },
  {
   "cell_type": "code",
   "execution_count": null,
   "metadata": {},
   "outputs": [],
   "source": [
    "plt.imshow(np.concatenate((shuffle_mat2, shuffle_mat2[1:,:]), axis=0))"
   ]
  },
  {
   "cell_type": "code",
   "execution_count": null,
   "metadata": {},
   "outputs": [],
   "source": [
    "plt.imshow(np.concatenate((rangefft, rangefft[1:,:]), axis=0))"
   ]
  },
  {
   "cell_type": "code",
   "execution_count": null,
   "metadata": {},
   "outputs": [],
   "source": [
    "np.linalg.norm(np.kron(t3, np.eye(ppotorus.m)).dot(ppotorus.convert(to='s_modes').state.ravel())-ppo_old_vv.ravel())"
   ]
  },
  {
   "cell_type": "code",
   "execution_count": null,
   "metadata": {},
   "outputs": [],
   "source": [
    "full_time_fft_matrix.dot(ppotorus.convert(to='s_modes').state.ravel())"
   ]
  },
  {
   "cell_type": "code",
   "execution_count": null,
   "metadata": {},
   "outputs": [],
   "source": [
    "np.linalg.norm(ppo_old_vv.ravel()-full_time_fft_matrix.dot(ppotorus.convert(to='s_modes').state.ravel()))"
   ]
  },
  {
   "cell_type": "code",
   "execution_count": null,
   "metadata": {},
   "outputs": [],
   "source": [
    "full_time_fft_matrix.shape"
   ]
  },
  {
   "cell_type": "code",
   "execution_count": null,
   "metadata": {},
   "outputs": [],
   "source": [
    "self = ppotorus\n",
    "ft = np.sqrt(self.N) * old_irfft(np.eye(self.N), axis=0)[:, :-1]\n",
    "indices = np.arange(0, self.n)\n",
    "odd_freq = indices[np.where(~np.mod(indices, 2).astype(bool))]\n",
    "even_freq = indices[np.where(np.mod(indices, 2).astype(bool))]\n",
    "\n",
    "zero = ft[:, 0]\n",
    "real = ft[:, 2 * indices + 1]\n",
    "imaginary = ft[:, 2 * indices + 2]\n",
    "\n",
    "even = np.concatenate((zero.reshape(-1, 1), real[:, even_freq], imaginary[:, even_freq]), axis=1)\n",
    "odd = np.concatenate((real[:, odd_freq], imaginary[:, odd_freq]), axis=1)\n",
    "\n",
    "even_staggered_rows = np.insert(even, np.arange(even.shape[0]), np.zeros([1, even.shape[1]]), axis=0)\n",
    "odd_staggered_rows = np.insert(odd, np.arange(odd.shape[0])+1, np.zeros([1, odd.shape[1]]), axis=0)\n",
    "\n",
    "# Adds a new-axis during the reshape operation\n",
    "e3 = even_staggered_rows.reshape(even_staggered_rows.shape[0], even_staggered_rows.shape[1], 1)\n",
    "o3 = odd_staggered_rows.reshape(odd_staggered_rows.shape[0], odd_staggered_rows.shape[1], 1)\n",
    "shuffle_indices = np.concatenate((np.arange(o3.shape[1] // 2),\n",
    "                                  ((o3.shape[1] // 2) + 1) + np.arange(o3.shape[1] // 2 - 1)), axis=0)\n",
    "irfft_mat = np.squeeze(np.insert(o3, shuffle_indices, e3, axis=1))"
   ]
  },
  {
   "cell_type": "code",
   "execution_count": null,
   "metadata": {},
   "outputs": [],
   "source": [
    "%%timeit\n",
    "even_indices = np.arange(0, torus.N//2, 2)\n",
    "odd_indices = np.arange(1, torus.N//2, 2)\n",
    "complex_spacetime = ppo_spacetime_modes[:-n, :]+1j*np.concatenate((np.zeros([1,torus.m]), ppo_spacetime_modes[-n:, :]),axis=0)\n",
    "full_complex=np.concatenate((complex_spacetime,np.zeros([1,torus.m])),axis=0)\n",
    "a, b = full_complex.copy(), full_complex.copy()\n",
    "a[even_indices, :] = 0\n",
    "b[odd_indices, :] = 0\n",
    "irfft(np.concatenate((a,b), axis=1), norm='ortho',axis=0)"
   ]
  },
  {
   "cell_type": "code",
   "execution_count": null,
   "metadata": {},
   "outputs": [],
   "source": [
    "fig, (ax0, ax1, ax2) = plt.subplots(1,3,figsize=(8,8))\n",
    "ax0.imshow(rediscretize(x, newN=512, newM=512).convert(to='field').state, \n",
    "           cmap='jet', vmin=noise_x.state.min(), vmax=noise_x.state.max(),\n",
    "           extent=[0, x.L/(2*pi), 0, x.T],aspect=0.25\n",
    "          )\n",
    "ax1.imshow(rediscretize(noise_y, newN=512, newM=512).convert(to='field').state,\n",
    "           cmap='jet', vmin=noise_x.state.min(), vmax=noise_x.state.max(),\n",
    "           extent=[0, x.L/(2*pi), 0, x.T],aspect=0.25\n",
    "          )\n",
    "im = ax2.imshow(rediscretize(noise_x, newN=512, newM=512).convert(to='field').state,\n",
    "                cmap='jet', vmin=noise_x.state.min(), vmax=noise_x.state.max(),\n",
    "           extent=[0, x.L/(2*pi), 0, x.T],aspect=0.25\n",
    "               )\n",
    "\n",
    "# fig.colorbar(im, ax=[ax0,ax1,ax2])\n",
    "fig.subplots_adjust(right=0.8)\n",
    "# put colorbar at desire position\n",
    "cbar_ax = fig.add_axes([0.85, 0.35, 0.02, 0.29])\n",
    "fig.colorbar(im, cax=cbar_ax)\n",
    "_ = ax1.set_yticks([])\n",
    "_ = ax2.set_yticks([])"
   ]
  },
  {
   "cell_type": "code",
   "execution_count": null,
   "metadata": {},
   "outputs": [],
   "source": [
    "fig, (ax0, ax1, ax2, ax3) = plt.subplots(1,4,figsize=(20,20))\n",
    "ax0.imshow(rediscretize(x, newN=512, newM=512).state, \n",
    "           cmap='jet', vmin=noise_x.state.min(), vmax=noise_x.state.max(),\n",
    "           extent=[0, x.L/(2*pi), 0, x.T],aspect=0.25\n",
    "          )\n",
    "ax1.imshow(rediscretize(noise_y, newN=512, newM=512).state,\n",
    "           cmap='jet', vmin=noise_x.state.min(), vmax=noise_x.state.max(),\n",
    "           extent=[0, x.L/(2*pi), 0, x.T],aspect=0.25\n",
    "          )\n",
    "ax2.imshow(rediscretize(noise_x, newN=512, newM=512).state,\n",
    "                cmap='jet', vmin=noise_x.state.min(), vmax=noise_x.state.max(),\n",
    "           extent=[0, x.L/(2*pi), 0, x.T],aspect=0.25\n",
    "               )\n",
    "im = ax3.imshow(rediscretize(noise_x_result, newN=512, newM=512).state,\n",
    "                cmap='jet', vmin=noise_x.state.min(), vmax=noise_x.state.max(),\n",
    "           extent=[0, x.L/(2*pi), 0, x.T], aspect=0.25\n",
    "               )\n",
    "\n",
    "# fig.colorbar(im, ax=[ax0,ax1,ax2])\n",
    "fig.subplots_adjust(right=0.8)\n",
    "# put colorbar at desire position\n",
    "cbar_ax = fig.add_axes([0.81, 0.395, 0.01, 0.214])\n",
    "fig.colorbar(im, cax=cbar_ax)\n",
    "ax0.set_yticks([0, 10, 20])\n",
    "ax0.set_yticklabels([0, 10, 20])\n",
    "_ = ax1.set_yticks([])\n",
    "_ = ax2.set_yticks([])\n",
    "_ = ax3.set_yticks([])\n",
    "plt.savefig('MNG_noise.pdf', bbox_inches='tight', pad_inches=0)"
   ]
  }
 ],
 "metadata": {
  "kernelspec": {
   "display_name": "Python 3",
   "language": "python",
   "name": "python3"
  },
  "language_info": {
   "codemirror_mode": {
    "name": "ipython",
    "version": 3
   },
   "file_extension": ".py",
   "mimetype": "text/x-python",
   "name": "python",
   "nbconvert_exporter": "python",
   "pygments_lexer": "ipython3",
   "version": "3.7.6"
  }
 },
 "nbformat": 4,
 "nbformat_minor": 2
}
