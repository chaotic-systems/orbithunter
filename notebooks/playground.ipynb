{
 "cells": [
  {
   "cell_type": "markdown",
   "metadata": {},
   "source": [
    "# New code version"
   ]
  },
  {
   "cell_type": "code",
   "execution_count": 1,
   "metadata": {},
   "outputs": [],
   "source": [
    "from __future__ import print_function, division, absolute_import\n",
    "import os\n",
    "import sys\n",
    "sys.path.insert(0, \"C:\\\\Users\\\\Matt\\\\Desktop\\\\orbithunter\\\\\")\n",
    "from orbithunter import *\n",
    "import numpy as np\n",
    "# from scipy.fft import irfft,rfft,rfftn,irfftn,fftn,ifftn,fft,ifft,fft2,rfft2\n",
    "import itertools\n",
    "from math import pi\n",
    "# from orbithunter.glue import *\n",
    "import matplotlib.pyplot as plt\n",
    "from scipy.fft import rfft, irfft\n",
    "from functools import lru_cache\n",
    "from orbithunter.arrayops import swap_modes\n",
    "%matplotlib inline\n",
    "\n",
    "import time"
   ]
  },
  {
   "cell_type": "code",
   "execution_count": 2,
   "metadata": {},
   "outputs": [],
   "source": [
    "sr_orbit = read_h5(\"C:\\\\Users\\\\Matt\\\\Desktop\\\\orbithunter_test_data\\\\none_000_021.h5\", data_format='kstori')\n",
    "orbit = OrbitKS(state=sr_orbit.state, state_type=sr_orbit.state_type, T=sr_orbit.T, L=sr_orbit.L+0.01).convert(to='modes')\n",
    "self = orbit.copy()\n",
    "other = orbit.spatiotemporal_mapping()"
   ]
  },
  {
   "cell_type": "code",
   "execution_count": 3,
   "metadata": {},
   "outputs": [],
   "source": [
    "eqva_orbit = read_h5('EquilibriumOrbitKS_L11p436.h5', data_format='kstori', directory='local', state_type='field')\n",
    "reqva_orbit = read_h5('reqva_L27p39.h5', data_format='kstori',  directory='local', state_type='field')"
   ]
  },
  {
   "cell_type": "code",
   "execution_count": 10,
   "metadata": {},
   "outputs": [
    {
     "data": {
      "text/plain": [
       "2"
      ]
     },
     "execution_count": 10,
     "metadata": {},
     "output_type": "execute_result"
    }
   ],
   "source": [
    "len('testestestes.'.split('.'))"
   ]
  },
  {
   "cell_type": "code",
   "execution_count": 6,
   "metadata": {},
   "outputs": [],
   "source": [
    "eqva_orbit.to_h5(filename='test.h5', directory='')"
   ]
  },
  {
   "cell_type": "code",
   "execution_count": 9,
   "metadata": {},
   "outputs": [],
   "source": [
    "?fig.add_axes"
   ]
  },
  {
   "cell_type": "code",
   "execution_count": 37,
   "metadata": {},
   "outputs": [],
   "source": [
    "?isinstance"
   ]
  },
  {
   "cell_type": "code",
   "execution_count": 39,
   "metadata": {},
   "outputs": [
    {
     "data": {
      "text/plain": [
       "True"
      ]
     },
     "execution_count": 39,
     "metadata": {},
     "output_type": "execute_result"
    }
   ],
   "source": [
    "isinstance(None, type(None))"
   ]
  },
  {
   "cell_type": "code",
   "execution_count": 41,
   "metadata": {},
   "outputs": [
    {
     "data": {
      "text/plain": [
       "['__class__',\n",
       " '__delattr__',\n",
       " '__dict__',\n",
       " '__dir__',\n",
       " '__doc__',\n",
       " '__eq__',\n",
       " '__format__',\n",
       " '__ge__',\n",
       " '__getattribute__',\n",
       " '__gt__',\n",
       " '__hash__',\n",
       " '__init__',\n",
       " '__init_subclass__',\n",
       " '__le__',\n",
       " '__lt__',\n",
       " '__module__',\n",
       " '__ne__',\n",
       " '__new__',\n",
       " '__reduce__',\n",
       " '__reduce_ex__',\n",
       " '__repr__',\n",
       " '__setattr__',\n",
       " '__sizeof__',\n",
       " '__str__',\n",
       " '__subclasshook__',\n",
       " '__weakref__',\n",
       " '_add_solids',\n",
       " '_boundaries',\n",
       " '_central_N',\n",
       " '_config_axes',\n",
       " '_edges',\n",
       " '_extend_lower',\n",
       " '_extend_upper',\n",
       " '_extended_N',\n",
       " '_find_range',\n",
       " '_get_extension_lengths',\n",
       " '_get_ticker_locator_formatter',\n",
       " '_inside',\n",
       " '_label',\n",
       " '_labelkw',\n",
       " '_locate',\n",
       " '_manual_tick_data_values',\n",
       " '_mesh',\n",
       " '_outline',\n",
       " '_patch_ax',\n",
       " '_process_values',\n",
       " '_proportional_y',\n",
       " '_reset_locator_formatter_scale',\n",
       " '_set_label',\n",
       " '_slice_dict',\n",
       " '_ticker',\n",
       " '_uniform_y',\n",
       " '_use_auto_colorbar_locator',\n",
       " '_values',\n",
       " '_y',\n",
       " 'add_lines',\n",
       " 'alpha',\n",
       " 'ax',\n",
       " 'boundaries',\n",
       " 'cmap',\n",
       " 'config_axis',\n",
       " 'dividers',\n",
       " 'draw_all',\n",
       " 'drawedges',\n",
       " 'extend',\n",
       " 'extendfrac',\n",
       " 'extendrect',\n",
       " 'filled',\n",
       " 'formatter',\n",
       " 'get_clim',\n",
       " 'get_cmap',\n",
       " 'get_ticks',\n",
       " 'lines',\n",
       " 'locator',\n",
       " 'mappable',\n",
       " 'minorticks_off',\n",
       " 'minorticks_on',\n",
       " 'n_rasterize',\n",
       " 'norm',\n",
       " 'on_mappable_changed',\n",
       " 'orientation',\n",
       " 'outline',\n",
       " 'patch',\n",
       " 'remove',\n",
       " 'set_alpha',\n",
       " 'set_clim',\n",
       " 'set_cmap',\n",
       " 'set_label',\n",
       " 'set_norm',\n",
       " 'set_ticklabels',\n",
       " 'set_ticks',\n",
       " 'solids',\n",
       " 'spacing',\n",
       " 'stale',\n",
       " 'ticklocation',\n",
       " 'update_bruteforce',\n",
       " 'update_normal',\n",
       " 'update_ticks',\n",
       " 'values',\n",
       " 'vmax',\n",
       " 'vmin']"
      ]
     },
     "execution_count": 41,
     "metadata": {},
     "output_type": "execute_result"
    },
    {
     "data": {
      "image/png": "[encoded data removed]",
      "text/plain": [
       "<Figure size 432x288 with 2 Axes>"
      ]
     },
     "metadata": {
      "needs_background": "light"
     },
     "output_type": "display_data"
    }
   ],
   "source": [
    "plt.figure()\n",
    "plt.imshow(np.ones([10,10]))\n",
    "cbar = plt.colorbar()\n",
    "dir(cbar)"
   ]
  },
  {
   "cell_type": "code",
   "execution_count": 17,
   "metadata": {},
   "outputs": [
    {
     "data": {
      "text/plain": [
       "['__class__',\n",
       " '__delattr__',\n",
       " '__dict__',\n",
       " '__dir__',\n",
       " '__doc__',\n",
       " '__eq__',\n",
       " '__format__',\n",
       " '__ge__',\n",
       " '__getattribute__',\n",
       " '__getstate__',\n",
       " '__gt__',\n",
       " '__hash__',\n",
       " '__init__',\n",
       " '__init_subclass__',\n",
       " '__le__',\n",
       " '__lt__',\n",
       " '__module__',\n",
       " '__ne__',\n",
       " '__new__',\n",
       " '__reduce__',\n",
       " '__reduce_ex__',\n",
       " '__repr__',\n",
       " '__setattr__',\n",
       " '__setstate__',\n",
       " '__sizeof__',\n",
       " '__str__',\n",
       " '__subclasshook__',\n",
       " '__weakref__',\n",
       " '_add_axes_internal',\n",
       " '_agg_filter',\n",
       " '_align_xlabel_grp',\n",
       " '_align_ylabel_grp',\n",
       " '_alpha',\n",
       " '_animated',\n",
       " '_axobservers',\n",
       " '_axstack',\n",
       " '_cachedRenderer',\n",
       " '_clipon',\n",
       " '_clippath',\n",
       " '_constrained',\n",
       " '_constrained_layout_pads',\n",
       " '_contains',\n",
       " '_dpi',\n",
       " '_gci',\n",
       " '_get_axes',\n",
       " '_get_clipping_extent_bbox',\n",
       " '_get_dpi',\n",
       " '_gid',\n",
       " '_gridspecs',\n",
       " '_in_layout',\n",
       " '_label',\n",
       " '_layoutbox',\n",
       " '_make_key',\n",
       " '_mouseover',\n",
       " '_oid',\n",
       " '_path_effects',\n",
       " '_picker',\n",
       " '_process_projection_requirements',\n",
       " '_prop_order',\n",
       " '_propobservers',\n",
       " '_rasterized',\n",
       " '_remove_ax',\n",
       " '_remove_method',\n",
       " '_repr_html_',\n",
       " '_set_artist_props',\n",
       " '_set_dpi',\n",
       " '_set_gc_clip',\n",
       " '_sketch',\n",
       " '_snap',\n",
       " '_stale',\n",
       " '_sticky_edges',\n",
       " '_suptitle',\n",
       " '_tight',\n",
       " '_tight_parameters',\n",
       " '_transform',\n",
       " '_transformSet',\n",
       " '_url',\n",
       " '_visible',\n",
       " 'add_artist',\n",
       " 'add_axes',\n",
       " 'add_axobserver',\n",
       " 'add_callback',\n",
       " 'add_gridspec',\n",
       " 'add_subplot',\n",
       " 'align_labels',\n",
       " 'align_xlabels',\n",
       " 'align_ylabels',\n",
       " 'aname',\n",
       " 'artists',\n",
       " 'autofmt_xdate',\n",
       " 'axes',\n",
       " 'bbox',\n",
       " 'bbox_inches',\n",
       " 'callbacks',\n",
       " 'canvas',\n",
       " 'clear',\n",
       " 'clf',\n",
       " 'clipbox',\n",
       " 'colorbar',\n",
       " 'contains',\n",
       " 'convert_xunits',\n",
       " 'convert_yunits',\n",
       " 'delaxes',\n",
       " 'dpi',\n",
       " 'dpi_scale_trans',\n",
       " 'draw',\n",
       " 'draw_artist',\n",
       " 'eventson',\n",
       " 'execute_constrained_layout',\n",
       " 'figimage',\n",
       " 'figure',\n",
       " 'findobj',\n",
       " 'format_cursor_data',\n",
       " 'frameon',\n",
       " 'gca',\n",
       " 'get_agg_filter',\n",
       " 'get_alpha',\n",
       " 'get_animated',\n",
       " 'get_axes',\n",
       " 'get_children',\n",
       " 'get_clip_box',\n",
       " 'get_clip_on',\n",
       " 'get_clip_path',\n",
       " 'get_constrained_layout',\n",
       " 'get_constrained_layout_pads',\n",
       " 'get_contains',\n",
       " 'get_cursor_data',\n",
       " 'get_default_bbox_extra_artists',\n",
       " 'get_dpi',\n",
       " 'get_edgecolor',\n",
       " 'get_facecolor',\n",
       " 'get_figheight',\n",
       " 'get_figure',\n",
       " 'get_figwidth',\n",
       " 'get_frameon',\n",
       " 'get_gid',\n",
       " 'get_in_layout',\n",
       " 'get_label',\n",
       " 'get_path_effects',\n",
       " 'get_picker',\n",
       " 'get_rasterized',\n",
       " 'get_size_inches',\n",
       " 'get_sketch_params',\n",
       " 'get_snap',\n",
       " 'get_tight_layout',\n",
       " 'get_tightbbox',\n",
       " 'get_transform',\n",
       " 'get_transformed_clip_path_and_affine',\n",
       " 'get_url',\n",
       " 'get_visible',\n",
       " 'get_window_extent',\n",
       " 'get_zorder',\n",
       " 'ginput',\n",
       " 'have_units',\n",
       " 'images',\n",
       " 'init_layoutbox',\n",
       " 'is_transform_set',\n",
       " 'legend',\n",
       " 'legends',\n",
       " 'lines',\n",
       " 'mouseover',\n",
       " 'number',\n",
       " 'patch',\n",
       " 'patches',\n",
       " 'pchanged',\n",
       " 'pick',\n",
       " 'pickable',\n",
       " 'properties',\n",
       " 'remove',\n",
       " 'remove_callback',\n",
       " 'savefig',\n",
       " 'sca',\n",
       " 'set',\n",
       " 'set_agg_filter',\n",
       " 'set_alpha',\n",
       " 'set_animated',\n",
       " 'set_canvas',\n",
       " 'set_clip_box',\n",
       " 'set_clip_on',\n",
       " 'set_clip_path',\n",
       " 'set_constrained_layout',\n",
       " 'set_constrained_layout_pads',\n",
       " 'set_contains',\n",
       " 'set_dpi',\n",
       " 'set_edgecolor',\n",
       " 'set_facecolor',\n",
       " 'set_figheight',\n",
       " 'set_figure',\n",
       " 'set_figwidth',\n",
       " 'set_frameon',\n",
       " 'set_gid',\n",
       " 'set_in_layout',\n",
       " 'set_label',\n",
       " 'set_path_effects',\n",
       " 'set_picker',\n",
       " 'set_rasterized',\n",
       " 'set_size_inches',\n",
       " 'set_sketch_params',\n",
       " 'set_snap',\n",
       " 'set_tight_layout',\n",
       " 'set_transform',\n",
       " 'set_url',\n",
       " 'set_visible',\n",
       " 'set_zorder',\n",
       " 'show',\n",
       " 'stale',\n",
       " 'stale_callback',\n",
       " 'sticky_edges',\n",
       " 'subplotpars',\n",
       " 'subplots',\n",
       " 'subplots_adjust',\n",
       " 'suppressComposite',\n",
       " 'suptitle',\n",
       " 'text',\n",
       " 'texts',\n",
       " 'tight_layout',\n",
       " 'transFigure',\n",
       " 'update',\n",
       " 'update_from',\n",
       " 'waitforbuttonpress',\n",
       " 'zorder']"
      ]
     },
     "execution_count": 17,
     "metadata": {},
     "output_type": "execute_result"
    },
    {
     "data": {
      "text/plain": [
       "<Figure size 432x288 with 0 Axes>"
      ]
     },
     "metadata": {},
     "output_type": "display_data"
    }
   ],
   "source": [
    "dir()"
   ]
  },
  {
   "cell_type": "code",
   "execution_count": 7,
   "metadata": {},
   "outputs": [
    {
     "data": {
      "text/plain": [
       "['__class__',\n",
       " '__delattr__',\n",
       " '__dict__',\n",
       " '__dir__',\n",
       " '__doc__',\n",
       " '__eq__',\n",
       " '__format__',\n",
       " '__ge__',\n",
       " '__getattribute__',\n",
       " '__getstate__',\n",
       " '__gt__',\n",
       " '__hash__',\n",
       " '__init__',\n",
       " '__init_subclass__',\n",
       " '__le__',\n",
       " '__lt__',\n",
       " '__module__',\n",
       " '__ne__',\n",
       " '__new__',\n",
       " '__reduce__',\n",
       " '__reduce_ex__',\n",
       " '__repr__',\n",
       " '__setattr__',\n",
       " '__setstate__',\n",
       " '__sizeof__',\n",
       " '__str__',\n",
       " '__subclasshook__',\n",
       " '__weakref__',\n",
       " '_add_axes_internal',\n",
       " '_agg_filter',\n",
       " '_align_xlabel_grp',\n",
       " '_align_ylabel_grp',\n",
       " '_alpha',\n",
       " '_animated',\n",
       " '_axobservers',\n",
       " '_axstack',\n",
       " '_cachedRenderer',\n",
       " '_clipon',\n",
       " '_clippath',\n",
       " '_constrained',\n",
       " '_constrained_layout_pads',\n",
       " '_contains',\n",
       " '_dpi',\n",
       " '_gci',\n",
       " '_get_axes',\n",
       " '_get_clipping_extent_bbox',\n",
       " '_get_dpi',\n",
       " '_gid',\n",
       " '_gridspecs',\n",
       " '_in_layout',\n",
       " '_label',\n",
       " '_layoutbox',\n",
       " '_make_key',\n",
       " '_mouseover',\n",
       " '_oid',\n",
       " '_path_effects',\n",
       " '_picker',\n",
       " '_process_projection_requirements',\n",
       " '_prop_order',\n",
       " '_propobservers',\n",
       " '_rasterized',\n",
       " '_remove_ax',\n",
       " '_remove_method',\n",
       " '_repr_html_',\n",
       " '_set_artist_props',\n",
       " '_set_dpi',\n",
       " '_set_gc_clip',\n",
       " '_sketch',\n",
       " '_snap',\n",
       " '_stale',\n",
       " '_sticky_edges',\n",
       " '_suptitle',\n",
       " '_tight',\n",
       " '_tight_parameters',\n",
       " '_transform',\n",
       " '_transformSet',\n",
       " '_url',\n",
       " '_visible',\n",
       " 'add_artist',\n",
       " 'add_axes',\n",
       " 'add_axobserver',\n",
       " 'add_callback',\n",
       " 'add_gridspec',\n",
       " 'add_subplot',\n",
       " 'align_labels',\n",
       " 'align_xlabels',\n",
       " 'align_ylabels',\n",
       " 'aname',\n",
       " 'artists',\n",
       " 'autofmt_xdate',\n",
       " 'axes',\n",
       " 'bbox',\n",
       " 'bbox_inches',\n",
       " 'callbacks',\n",
       " 'canvas',\n",
       " 'clear',\n",
       " 'clf',\n",
       " 'clipbox',\n",
       " 'colorbar',\n",
       " 'contains',\n",
       " 'convert_xunits',\n",
       " 'convert_yunits',\n",
       " 'delaxes',\n",
       " 'dpi',\n",
       " 'dpi_scale_trans',\n",
       " 'draw',\n",
       " 'draw_artist',\n",
       " 'eventson',\n",
       " 'execute_constrained_layout',\n",
       " 'figimage',\n",
       " 'figure',\n",
       " 'findobj',\n",
       " 'format_cursor_data',\n",
       " 'frameon',\n",
       " 'gca',\n",
       " 'get_agg_filter',\n",
       " 'get_alpha',\n",
       " 'get_animated',\n",
       " 'get_axes',\n",
       " 'get_children',\n",
       " 'get_clip_box',\n",
       " 'get_clip_on',\n",
       " 'get_clip_path',\n",
       " 'get_constrained_layout',\n",
       " 'get_constrained_layout_pads',\n",
       " 'get_contains',\n",
       " 'get_cursor_data',\n",
       " 'get_default_bbox_extra_artists',\n",
       " 'get_dpi',\n",
       " 'get_edgecolor',\n",
       " 'get_facecolor',\n",
       " 'get_figheight',\n",
       " 'get_figure',\n",
       " 'get_figwidth',\n",
       " 'get_frameon',\n",
       " 'get_gid',\n",
       " 'get_in_layout',\n",
       " 'get_label',\n",
       " 'get_path_effects',\n",
       " 'get_picker',\n",
       " 'get_rasterized',\n",
       " 'get_size_inches',\n",
       " 'get_sketch_params',\n",
       " 'get_snap',\n",
       " 'get_tight_layout',\n",
       " 'get_tightbbox',\n",
       " 'get_transform',\n",
       " 'get_transformed_clip_path_and_affine',\n",
       " 'get_url',\n",
       " 'get_visible',\n",
       " 'get_window_extent',\n",
       " 'get_zorder',\n",
       " 'ginput',\n",
       " 'have_units',\n",
       " 'images',\n",
       " 'init_layoutbox',\n",
       " 'is_transform_set',\n",
       " 'legend',\n",
       " 'legends',\n",
       " 'lines',\n",
       " 'mouseover',\n",
       " 'number',\n",
       " 'patch',\n",
       " 'patches',\n",
       " 'pchanged',\n",
       " 'pick',\n",
       " 'pickable',\n",
       " 'properties',\n",
       " 'remove',\n",
       " 'remove_callback',\n",
       " 'savefig',\n",
       " 'sca',\n",
       " 'set',\n",
       " 'set_agg_filter',\n",
       " 'set_alpha',\n",
       " 'set_animated',\n",
       " 'set_canvas',\n",
       " 'set_clip_box',\n",
       " 'set_clip_on',\n",
       " 'set_clip_path',\n",
       " 'set_constrained_layout',\n",
       " 'set_constrained_layout_pads',\n",
       " 'set_contains',\n",
       " 'set_dpi',\n",
       " 'set_edgecolor',\n",
       " 'set_facecolor',\n",
       " 'set_figheight',\n",
       " 'set_figure',\n",
       " 'set_figwidth',\n",
       " 'set_frameon',\n",
       " 'set_gid',\n",
       " 'set_in_layout',\n",
       " 'set_label',\n",
       " 'set_path_effects',\n",
       " 'set_picker',\n",
       " 'set_rasterized',\n",
       " 'set_size_inches',\n",
       " 'set_sketch_params',\n",
       " 'set_snap',\n",
       " 'set_tight_layout',\n",
       " 'set_transform',\n",
       " 'set_url',\n",
       " 'set_visible',\n",
       " 'set_zorder',\n",
       " 'show',\n",
       " 'stale',\n",
       " 'stale_callback',\n",
       " 'sticky_edges',\n",
       " 'subplotpars',\n",
       " 'subplots',\n",
       " 'subplots_adjust',\n",
       " 'suppressComposite',\n",
       " 'suptitle',\n",
       " 'text',\n",
       " 'texts',\n",
       " 'tight_layout',\n",
       " 'transFigure',\n",
       " 'update',\n",
       " 'update_from',\n",
       " 'waitforbuttonpress',\n",
       " 'zorder']"
      ]
     },
     "execution_count": 7,
     "metadata": {},
     "output_type": "execute_result"
    },
    {
     "data": {
      "text/plain": [
       "<Figure size 432x288 with 0 Axes>"
      ]
     },
     "metadata": {},
     "output_type": "display_data"
    }
   ],
   "source": [
    "dir(plt.figure())"
   ]
  },
  {
   "cell_type": "code",
   "execution_count": 2,
   "metadata": {},
   "outputs": [
    {
     "data": {
      "text/plain": [
       "2.48"
      ]
     },
     "execution_count": 2,
     "metadata": {},
     "output_type": "execute_result"
    }
   ],
   "source": [
    "np.round(22 / (2*pi*np.sqrt(2)), 2)"
   ]
  },
  {
   "cell_type": "code",
   "execution_count": 4,
   "metadata": {},
   "outputs": [
    {
     "data": {
      "image/png": "[encoded data removed]",
      "text/plain": [
       "<Figure size 92.88x72 with 2 Axes>"
      ]
     },
     "metadata": {
      "needs_background": "light"
     },
     "output_type": "display_data"
    }
   ],
   "source": [
    "eqva_orbit.plot()"
   ]
  },
  {
   "cell_type": "code",
   "execution_count": 4,
   "metadata": {},
   "outputs": [
    {
     "data": {
      "image/png": "[encoded data removed]",
      "text/plain": [
       "<Figure size 221.76x144 with 2 Axes>"
      ]
     },
     "metadata": {
      "needs_background": "light"
     },
     "output_type": "display_data"
    }
   ],
   "source": [
    "reqva_orbit.plot()"
   ]
  },
  {
   "cell_type": "code",
   "execution_count": 201,
   "metadata": {},
   "outputs": [
    {
     "name": "stderr",
     "output_type": "stream",
     "text": [
      "C:\\Users\\Matt\\Desktop\\orbithunter\\orbithunter\\orbit.py:869: UserWarning: Tight layout not applied. The left and right margins cannot be made large enough to accommodate all axes decorations. \n",
      "  # Create save name if one doesn't exist.\n"
     ]
    },
    {
     "data": {
      "image/png": "[encoded data removed]",
      "text/plain": [
       "<Figure size 72x72 with 2 Axes>"
      ]
     },
     "metadata": {
      "needs_background": "light"
     },
     "output_type": "display_data"
    }
   ],
   "source": [
    "eqva_orbit.plot(figsize=(1,1))"
   ]
  },
  {
   "cell_type": "code",
   "execution_count": 179,
   "metadata": {},
   "outputs": [
    {
     "data": {
      "text/plain": [
       "<matplotlib.image.AxesImage at 0x146a694b8c8>"
      ]
     },
     "execution_count": 179,
     "metadata": {},
     "output_type": "execute_result"
    },
    {
     "data": {
      "image/png": "[encoded data removed]",
      "text/plain": [
       "<Figure size 558x288 with 1 Axes>"
      ]
     },
     "metadata": {
      "needs_background": "light"
     },
     "output_type": "display_data"
    }
   ],
   "source": [
    "pad_eqva = eqva_orbit.convert(to='s_modes').mode_padding(size=64, dimension='space')\n",
    "plt.matshow(pad_eqva.state)"
   ]
  },
  {
   "cell_type": "code",
   "execution_count": 129,
   "metadata": {},
   "outputs": [],
   "source": [
    "orbit = read_h5(\"C:\\\\Users\\\\Matt\\\\Desktop\\\\orbithunter_test_data\\\\none_000_021.h5\", data_format='kstori', state_type='field')"
   ]
  },
  {
   "cell_type": "code",
   "execution_count": 130,
   "metadata": {},
   "outputs": [],
   "source": [
    "space_modes_complex = rfft(orbit.convert(to='field').state, norm='ortho', axis=1)[:, 1:-1]\n",
    "spatial_modes = np.concatenate((space_modes_complex.real, space_modes_complex.imag), axis=1)"
   ]
  },
  {
   "cell_type": "code",
   "execution_count": 133,
   "metadata": {},
   "outputs": [
    {
     "data": {
      "text/plain": [
       "(32, 9)"
      ]
     },
     "execution_count": 133,
     "metadata": {},
     "output_type": "execute_result"
    }
   ],
   "source": [
    "rfft(orbit.convert(to='field').state, norm='ortho', axis=1).shape"
   ]
  },
  {
   "cell_type": "code",
   "execution_count": 116,
   "metadata": {},
   "outputs": [
    {
     "data": {
      "text/plain": [
       "2.6882830713723984"
      ]
     },
     "execution_count": 116,
     "metadata": {},
     "output_type": "execute_result"
    }
   ],
   "source": [
    "orbit_s_modes = orbit.convert(to='s_modes')\n",
    "complex_modes = orbit_s_modes.state[:, :-orbit_s_modes.m] + 1j * orbit_s_modes.state[:, -orbit_s_modes.m:]\n",
    "z = np.zeros([s_modes.N, 1])\n",
    "space_modes = np.concatenate((z, complex_modes, z), axis=1)\n",
    "# this divides by 64, the new value of m. were divided by 1/sqrt(16) on the forward, this means that it should be 1/sqrt(16)\n",
    "field = irfft(space_modes, axis=1)\n",
    "(np.sqrt(16)*field).max()"
   ]
  },
  {
   "cell_type": "code",
   "execution_count": 151,
   "metadata": {},
   "outputs": [
    {
     "data": {
      "text/plain": [
       "2.6882830713723984"
      ]
     },
     "execution_count": 151,
     "metadata": {},
     "output_type": "execute_result"
    }
   ],
   "source": [
    "orbit_s_modes = orbit.convert(to='s_modes')\n",
    "complex_modes = orbit_s_modes.state[:, :-orbit_s_modes.m] + 1j * orbit_s_modes.state[:, -orbit_s_modes.m:]\n",
    "z = np.zeros([s_modes.N, 1])\n",
    "space_modes = np.concatenate((z, complex_modes, z), axis=1)\n",
    "# this divides by 64, the new value of m. were divided by 1/sqrt(16) on the forward, this means that it should be 1/sqrt(16)\n",
    "field = irfft(space_modes, norm='ortho', axis=1)\n",
    "unpadded_max = (field).max()\n",
    "unpadded_max"
   ]
  },
  {
   "cell_type": "code",
   "execution_count": 166,
   "metadata": {},
   "outputs": [
    {
     "data": {
      "text/plain": [
       "OrbitKS({\"state_type\": \"s_modes\", \"N\": 32, \"M\": 16, \"T\": \"1.88e+01\", \"L\": \"2.78e+01\", \"S\": \"0.e+00\"})"
      ]
     },
     "execution_count": 166,
     "metadata": {},
     "output_type": "execute_result"
    }
   ],
   "source": [
    "orbit.convert(to='s_modes')"
   ]
  },
  {
   "cell_type": "code",
   "execution_count": 169,
   "metadata": {},
   "outputs": [
    {
     "data": {
      "text/plain": [
       "3.782213978508417e-15"
      ]
     },
     "execution_count": 169,
     "metadata": {},
     "output_type": "execute_result"
    }
   ],
   "source": [
    "(orbit.mode_padding(dimension='space', size=64).convert(to='s_modes')-orbit.convert(to='s_modes').mode_padding(dimension='space', size=64)).norm()"
   ]
  },
  {
   "cell_type": "code",
   "execution_count": 198,
   "metadata": {},
   "outputs": [
    {
     "data": {
      "text/plain": [
       "OrbitKS({\"state_type\": \"field\", \"N\": 32, \"M\": 64, \"T\": \"1.88e+01\", \"L\": \"2.78e+01\", \"S\": \"0.e+00\"})"
      ]
     },
     "execution_count": 198,
     "metadata": {},
     "output_type": "execute_result"
    }
   ],
   "source": [
    "orbit.mode_padding(dimension='space', size=64)"
   ]
  },
  {
   "cell_type": "code",
   "execution_count": 200,
   "metadata": {},
   "outputs": [
    {
     "data": {
      "text/plain": [
       "<Figure size 73.44x727.2 with 0 Axes>"
      ]
     },
     "execution_count": 200,
     "metadata": {},
     "output_type": "execute_result"
    },
    {
     "data": {
      "text/plain": [
       "<Figure size 73.44x727.2 with 0 Axes>"
      ]
     },
     "metadata": {},
     "output_type": "display_data"
    }
   ],
   "source": [
    "plt.figure(figsize=(1.02, 10.1))"
   ]
  },
  {
   "cell_type": "code",
   "execution_count": 195,
   "metadata": {},
   "outputs": [
    {
     "ename": "ValueError",
     "evalue": "operands could not be broadcast together with shapes (32,16) (32,14) ",
     "output_type": "error",
     "traceback": [
      "\u001b[1;31m---------------------------------------------------------------------------\u001b[0m",
      "\u001b[1;31mValueError\u001b[0m                                Traceback (most recent call last)",
      "\u001b[1;32m<ipython-input-195-6be726f244be>\u001b[0m in \u001b[0;36m<module>\u001b[1;34m\u001b[0m\n\u001b[1;32m----> 1\u001b[1;33m \u001b[1;33m(\u001b[0m\u001b[0morbit\u001b[0m \u001b[1;33m-\u001b[0m \u001b[0morbit\u001b[0m\u001b[1;33m.\u001b[0m\u001b[0mmode_padding\u001b[0m\u001b[1;33m(\u001b[0m\u001b[0mdimension\u001b[0m\u001b[1;33m=\u001b[0m\u001b[1;34m'space'\u001b[0m\u001b[1;33m,\u001b[0m \u001b[0msize\u001b[0m\u001b[1;33m=\u001b[0m\u001b[1;36m64\u001b[0m\u001b[1;33m)\u001b[0m\u001b[1;33m.\u001b[0m\u001b[0mmode_truncation\u001b[0m\u001b[1;33m(\u001b[0m\u001b[0mdimension\u001b[0m\u001b[1;33m=\u001b[0m\u001b[1;34m'space'\u001b[0m\u001b[1;33m,\u001b[0m \u001b[0msize\u001b[0m\u001b[1;33m=\u001b[0m\u001b[1;36m16\u001b[0m\u001b[1;33m)\u001b[0m\u001b[1;33m)\u001b[0m\u001b[1;33m.\u001b[0m\u001b[0mnorm\u001b[0m\u001b[1;33m(\u001b[0m\u001b[1;33m)\u001b[0m\u001b[1;33m\u001b[0m\u001b[1;33m\u001b[0m\u001b[0m\n\u001b[0m",
      "\u001b[1;32m~\\Desktop\\orbithunter\\orbithunter\\orbit.py\u001b[0m in \u001b[0;36m__sub__\u001b[1;34m(self, other)\u001b[0m\n\u001b[0;32m    110\u001b[0m \u001b[1;33m\u001b[0m\u001b[0m\n\u001b[0;32m    111\u001b[0m     \u001b[1;32mdef\u001b[0m \u001b[0m__sub__\u001b[0m\u001b[1;33m(\u001b[0m\u001b[0mself\u001b[0m\u001b[1;33m,\u001b[0m \u001b[0mother\u001b[0m\u001b[1;33m)\u001b[0m\u001b[1;33m:\u001b[0m\u001b[1;33m\u001b[0m\u001b[1;33m\u001b[0m\u001b[0m\n\u001b[1;32m--> 112\u001b[1;33m         \u001b[1;32mreturn\u001b[0m \u001b[0mself\u001b[0m\u001b[1;33m.\u001b[0m\u001b[0m__class__\u001b[0m\u001b[1;33m(\u001b[0m\u001b[0mstate\u001b[0m\u001b[1;33m=\u001b[0m\u001b[1;33m(\u001b[0m\u001b[0mself\u001b[0m\u001b[1;33m.\u001b[0m\u001b[0mstate\u001b[0m\u001b[1;33m-\u001b[0m\u001b[0mother\u001b[0m\u001b[1;33m.\u001b[0m\u001b[0mstate\u001b[0m\u001b[1;33m)\u001b[0m\u001b[1;33m,\u001b[0m  \u001b[0mT\u001b[0m\u001b[1;33m=\u001b[0m\u001b[0mself\u001b[0m\u001b[1;33m.\u001b[0m\u001b[0mT\u001b[0m\u001b[1;33m,\u001b[0m \u001b[0mL\u001b[0m\u001b[1;33m=\u001b[0m\u001b[0mself\u001b[0m\u001b[1;33m.\u001b[0m\u001b[0mL\u001b[0m\u001b[1;33m,\u001b[0m \u001b[0mS\u001b[0m\u001b[1;33m=\u001b[0m\u001b[0mself\u001b[0m\u001b[1;33m.\u001b[0m\u001b[0mS\u001b[0m\u001b[1;33m,\u001b[0m \u001b[0mstate_type\u001b[0m\u001b[1;33m=\u001b[0m\u001b[0mself\u001b[0m\u001b[1;33m.\u001b[0m\u001b[0mstate_type\u001b[0m\u001b[1;33m)\u001b[0m\u001b[1;33m\u001b[0m\u001b[1;33m\u001b[0m\u001b[0m\n\u001b[0m\u001b[0;32m    113\u001b[0m \u001b[1;33m\u001b[0m\u001b[0m\n\u001b[0;32m    114\u001b[0m     \u001b[1;32mdef\u001b[0m \u001b[0m__rsub__\u001b[0m\u001b[1;33m(\u001b[0m\u001b[0mself\u001b[0m\u001b[1;33m,\u001b[0m \u001b[0mother\u001b[0m\u001b[1;33m)\u001b[0m\u001b[1;33m:\u001b[0m\u001b[1;33m\u001b[0m\u001b[1;33m\u001b[0m\u001b[0m\n",
      "\u001b[1;31mValueError\u001b[0m: operands could not be broadcast together with shapes (32,16) (32,14) "
     ]
    }
   ],
   "source": [
    "(orbit - orbit.mode_padding(dimension='space', size=64).mode_truncation(dimension='space', size=16)).norm()"
   ]
  },
  {
   "cell_type": "code",
   "execution_count": 152,
   "metadata": {},
   "outputs": [],
   "source": [
    "orbit_s_modes = orbit.convert(to='s_modes').mode_padding(dimension='space', size=64)\n",
    "complex_modes = orbit_s_modes.state[:, :-orbit_s_modes.m] + 1j * orbit_s_modes.state[:, -orbit_s_modes.m:]\n",
    "z = np.zeros([s_modes.N, 1])\n",
    "\n",
    "space_modes = np.concatenate((z, complex_modes, z), axis=1)\n",
    "padded_field = (8/4.) * irfft(space_modes, norm='ortho', axis=1)\n",
    "padded_max = (padded_field).max()"
   ]
  },
  {
   "cell_type": "code",
   "execution_count": 163,
   "metadata": {},
   "outputs": [],
   "source": [
    "renormed_field = (unpadded_max * (padded_field / padded_max))"
   ]
  },
  {
   "cell_type": "code",
   "execution_count": 164,
   "metadata": {},
   "outputs": [
    {
     "data": {
      "text/plain": [
       "<matplotlib.image.AxesImage at 0x146a680a908>"
      ]
     },
     "execution_count": 164,
     "metadata": {},
     "output_type": "execute_result"
    },
    {
     "data": {
      "image/png": "[encoded data removed]",
      "text/plain": [
       "<Figure size 288x576 with 1 Axes>"
      ]
     },
     "metadata": {
      "needs_background": "light"
     },
     "output_type": "display_data"
    }
   ],
   "source": [
    "plt.matshow(field, cmap='jet')"
   ]
  },
  {
   "cell_type": "code",
   "execution_count": 165,
   "metadata": {},
   "outputs": [
    {
     "data": {
      "text/plain": [
       "<matplotlib.image.AxesImage at 0x146a6863a08>"
      ]
     },
     "execution_count": 165,
     "metadata": {},
     "output_type": "execute_result"
    },
    {
     "data": {
      "image/png": "[encoded data removed]",
      "text/plain": [
       "<Figure size 576x288 with 1 Axes>"
      ]
     },
     "metadata": {
      "needs_background": "light"
     },
     "output_type": "display_data"
    }
   ],
   "source": [
    "plt.matshow(renormed_field, cmap='jet')"
   ]
  },
  {
   "cell_type": "code",
   "execution_count": 150,
   "metadata": {
    "scrolled": true
   },
   "outputs": [
    {
     "data": {
      "text/plain": [
       "2.7573938788952694"
      ]
     },
     "execution_count": 150,
     "metadata": {},
     "output_type": "execute_result"
    }
   ],
   "source": [
    "padded_max"
   ]
  },
  {
   "cell_type": "code",
   "execution_count": 79,
   "metadata": {},
   "outputs": [
    {
     "data": {
      "text/plain": [
       "(1.5273862859998846+0.14424452310717006j)"
      ]
     },
     "execution_count": 79,
     "metadata": {},
     "output_type": "execute_result"
    }
   ],
   "source": [
    "rfft(orbit.state, norm='ortho', axis=1).max()"
   ]
  },
  {
   "cell_type": "code",
   "execution_count": 136,
   "metadata": {},
   "outputs": [],
   "source": [
    "size=64\n",
    "s_modes = orbit.convert(to='s_modes')\n",
    "first_half = s_modes.state[:, :-s_modes.m]\n",
    "second_half = s_modes.state[:, -s_modes.m:]\n",
    "padding_number = int((size-s_modes.M) // 2)\n",
    "padding = np.zeros([s_modes.state.shape[0], padding_number])"
   ]
  },
  {
   "cell_type": "code",
   "execution_count": 137,
   "metadata": {},
   "outputs": [],
   "source": [
    "# padded_s_modes = np.sqrt(size / s_modes.M) * np.concatenate((first_half, padding, second_half, padding), axis=1)\n",
    "padded_s_modes = np.concatenate((first_half, padding, second_half, padding), axis=1)"
   ]
  },
  {
   "cell_type": "code",
   "execution_count": 140,
   "metadata": {},
   "outputs": [
    {
     "data": {
      "text/plain": [
       "(32, 24)"
      ]
     },
     "execution_count": 140,
     "metadata": {},
     "output_type": "execute_result"
    }
   ],
   "source": [
    "padding.shape"
   ]
  },
  {
   "cell_type": "code",
   "execution_count": 141,
   "metadata": {
    "scrolled": true
   },
   "outputs": [
    {
     "data": {
      "text/plain": [
       "array([[0., 0., 0., 0., 0., 0., 0.],\n",
       "       [0., 0., 0., 0., 0., 0., 0.],\n",
       "       [0., 0., 0., 0., 0., 0., 0.],\n",
       "       [0., 0., 0., 0., 0., 0., 0.],\n",
       "       [0., 0., 0., 0., 0., 0., 0.],\n",
       "       [0., 0., 0., 0., 0., 0., 0.],\n",
       "       [0., 0., 0., 0., 0., 0., 0.],\n",
       "       [0., 0., 0., 0., 0., 0., 0.],\n",
       "       [0., 0., 0., 0., 0., 0., 0.],\n",
       "       [0., 0., 0., 0., 0., 0., 0.],\n",
       "       [0., 0., 0., 0., 0., 0., 0.],\n",
       "       [0., 0., 0., 0., 0., 0., 0.],\n",
       "       [0., 0., 0., 0., 0., 0., 0.],\n",
       "       [0., 0., 0., 0., 0., 0., 0.],\n",
       "       [0., 0., 0., 0., 0., 0., 0.],\n",
       "       [0., 0., 0., 0., 0., 0., 0.],\n",
       "       [0., 0., 0., 0., 0., 0., 0.],\n",
       "       [0., 0., 0., 0., 0., 0., 0.],\n",
       "       [0., 0., 0., 0., 0., 0., 0.],\n",
       "       [0., 0., 0., 0., 0., 0., 0.],\n",
       "       [0., 0., 0., 0., 0., 0., 0.],\n",
       "       [0., 0., 0., 0., 0., 0., 0.],\n",
       "       [0., 0., 0., 0., 0., 0., 0.],\n",
       "       [0., 0., 0., 0., 0., 0., 0.],\n",
       "       [0., 0., 0., 0., 0., 0., 0.],\n",
       "       [0., 0., 0., 0., 0., 0., 0.],\n",
       "       [0., 0., 0., 0., 0., 0., 0.],\n",
       "       [0., 0., 0., 0., 0., 0., 0.],\n",
       "       [0., 0., 0., 0., 0., 0., 0.],\n",
       "       [0., 0., 0., 0., 0., 0., 0.],\n",
       "       [0., 0., 0., 0., 0., 0., 0.],\n",
       "       [0., 0., 0., 0., 0., 0., 0.]])"
      ]
     },
     "execution_count": 141,
     "metadata": {},
     "output_type": "execute_result"
    }
   ],
   "source": [
    "padded_s_modes[:,24:31]"
   ]
  },
  {
   "cell_type": "code",
   "execution_count": 84,
   "metadata": {},
   "outputs": [
    {
     "data": {
      "text/plain": [
       "(1.5273862859998846+0.14424452310717006j)"
      ]
     },
     "execution_count": 84,
     "metadata": {},
     "output_type": "execute_result"
    }
   ],
   "source": []
  },
  {
   "cell_type": "code",
   "execution_count": 86,
   "metadata": {},
   "outputs": [
    {
     "data": {
      "text/plain": [
       "array([ 0.31163503+0.44160174j,  0.92175403+0.48656726j,\n",
       "        1.0639268 -2.59017364j,  0.9841701 +0.54428178j,\n",
       "       -0.13403777-0.02516495j, -0.46912749+1.30593555j,\n",
       "       -0.33030646-0.48167274j])"
      ]
     },
     "execution_count": 86,
     "metadata": {},
     "output_type": "execute_result"
    }
   ],
   "source": [
    "complex_modes[1,:]"
   ]
  },
  {
   "cell_type": "code",
   "execution_count": null,
   "metadata": {},
   "outputs": [],
   "source": [
    "# Re-add the zeroth and Nyquist spatial frequency modes (zeros) and then transform back\n",
    "z = np.zeros([orbit_s_modes.N, 1])\n",
    "space_modes = np.concatenate((z, complex_modes, z), axis=1)\n",
    "field = irfft(space_modes, axis=1)\n",
    "field.max() * 64 / np.sqrt(16)"
   ]
  },
  {
   "cell_type": "code",
   "execution_count": 49,
   "metadata": {},
   "outputs": [
    {
     "data": {
      "text/plain": [
       "(33,)"
      ]
     },
     "execution_count": 49,
     "metadata": {},
     "output_type": "execute_result"
    }
   ],
   "source": [
    "rfft(np.ones(64)).shape"
   ]
  },
  {
   "cell_type": "code",
   "execution_count": 50,
   "metadata": {},
   "outputs": [
    {
     "data": {
      "text/plain": [
       "(17,)"
      ]
     },
     "execution_count": 50,
     "metadata": {},
     "output_type": "execute_result"
    }
   ],
   "source": [
    "rfft(np.ones(32)).shape"
   ]
  },
  {
   "cell_type": "code",
   "execution_count": 45,
   "metadata": {},
   "outputs": [
    {
     "data": {
      "text/plain": [
       "(32, 62)"
      ]
     },
     "execution_count": 45,
     "metadata": {},
     "output_type": "execute_result"
    }
   ],
   "source": [
    "padded_s_modes.shape"
   ]
  },
  {
   "cell_type": "code",
   "execution_count": 32,
   "metadata": {},
   "outputs": [],
   "source": []
  },
  {
   "cell_type": "code",
   "execution_count": 40,
   "metadata": {},
   "outputs": [
    {
     "data": {
      "text/plain": [
       "(32, 9)"
      ]
     },
     "execution_count": 40,
     "metadata": {},
     "output_type": "execute_result"
    }
   ],
   "source": [
    "rfft(orbit.convert(to='field').state, norm='ortho', axis=1).shape"
   ]
  },
  {
   "cell_type": "code",
   "execution_count": 41,
   "metadata": {},
   "outputs": [
    {
     "data": {
      "text/plain": [
       "7"
      ]
     },
     "execution_count": 41,
     "metadata": {},
     "output_type": "execute_result"
    }
   ],
   "source": [
    "orbit.m"
   ]
  },
  {
   "cell_type": "code",
   "execution_count": 60,
   "metadata": {},
   "outputs": [
    {
     "data": {
      "text/plain": [
       "2.688283071372399"
      ]
     },
     "execution_count": 60,
     "metadata": {},
     "output_type": "execute_result"
    }
   ],
   "source": [
    "orbit.convert(to='field').state.max()"
   ]
  },
  {
   "cell_type": "code",
   "execution_count": 62,
   "metadata": {},
   "outputs": [
    {
     "data": {
      "text/plain": [
       "array([[1., 0., 0., ..., 0., 0., 0.],\n",
       "       [1., 0., 0., ..., 0., 0., 0.],\n",
       "       [1., 0., 0., ..., 0., 0., 0.],\n",
       "       ...,\n",
       "       [1., 0., 0., ..., 0., 0., 0.],\n",
       "       [1., 0., 0., ..., 0., 0., 0.],\n",
       "       [1., 0., 0., ..., 0., 0., 0.]])"
      ]
     },
     "execution_count": 62,
     "metadata": {},
     "output_type": "execute_result"
    }
   ],
   "source": [
    "irfft(np.ones(space_modes.shape), axis=1) #this is divided by 64. "
   ]
  },
  {
   "cell_type": "code",
   "execution_count": 61,
   "metadata": {},
   "outputs": [
    {
     "data": {
      "text/plain": [
       "array([[8., 0., 0., ..., 0., 0., 0.],\n",
       "       [8., 0., 0., ..., 0., 0., 0.],\n",
       "       [8., 0., 0., ..., 0., 0., 0.],\n",
       "       ...,\n",
       "       [8., 0., 0., ..., 0., 0., 0.],\n",
       "       [8., 0., 0., ..., 0., 0., 0.],\n",
       "       [8., 0., 0., ..., 0., 0., 0.]])"
      ]
     },
     "execution_count": 61,
     "metadata": {},
     "output_type": "execute_result"
    }
   ],
   "source": [
    "irfft(np.ones(space_modes.shape), norm='ortho', axis=1)"
   ]
  },
  {
   "cell_type": "code",
   "execution_count": 72,
   "metadata": {},
   "outputs": [
    {
     "data": {
      "text/plain": [
       "2.757393878895269"
      ]
     },
     "execution_count": 72,
     "metadata": {},
     "output_type": "execute_result"
    }
   ],
   "source": [
    "orbit_s_modes = orbit.convert(to='s_modes').mode_padding(dimension='space', size=64)\n",
    "complex_modes = orbit_s_modes.state[:, :-orbit_s_modes.m] + 1j * orbit_s_modes.state[:, -orbit_s_modes.m:]\n",
    "# Re-add the zeroth and Nyquist spatial frequency modes (zeros) and then transform back\n",
    "z = np.zeros([orbit_s_modes.N, 1])\n",
    "space_modes = np.concatenate((z, complex_modes, z), axis=1)\n",
    "field = irfft(space_modes, axis=1)\n",
    "field.max() * 64 / np.sqrt(16)"
   ]
  },
  {
   "cell_type": "code",
   "execution_count": 57,
   "metadata": {},
   "outputs": [
    {
     "data": {
      "text/plain": [
       "(32, 31)"
      ]
     },
     "execution_count": 57,
     "metadata": {},
     "output_type": "execute_result"
    }
   ],
   "source": [
    "complex_modes.shape"
   ]
  },
  {
   "cell_type": "code",
   "execution_count": 56,
   "metadata": {},
   "outputs": [
    {
     "data": {
      "text/plain": [
       "(32, 33)"
      ]
     },
     "execution_count": 56,
     "metadata": {},
     "output_type": "execute_result"
    }
   ],
   "source": [
    "space_modes.shape"
   ]
  },
  {
   "cell_type": "code",
   "execution_count": 38,
   "metadata": {},
   "outputs": [
    {
     "data": {
      "text/plain": [
       "array([[-1.11022302e-16,  1.11022302e-16,  2.22044605e-16,\n",
       "         2.22044605e-16,  8.32667268e-17,  0.00000000e+00,\n",
       "         1.66533454e-16],\n",
       "       [-5.55111512e-17,  0.00000000e+00,  0.00000000e+00,\n",
       "         0.00000000e+00,  2.77555756e-17, -5.55111512e-17,\n",
       "        -1.66533454e-16],\n",
       "       [-1.11022302e-16,  1.11022302e-16,  0.00000000e+00,\n",
       "         0.00000000e+00,  1.38777878e-16, -2.22044605e-16,\n",
       "         2.77555756e-17],\n",
       "       [-1.11022302e-16,  0.00000000e+00,  0.00000000e+00,\n",
       "         0.00000000e+00,  5.55111512e-17,  0.00000000e+00,\n",
       "         6.93889390e-17],\n",
       "       [-5.55111512e-17,  0.00000000e+00,  0.00000000e+00,\n",
       "         1.11022302e-16, -2.77555756e-17, -1.42247325e-16,\n",
       "         1.11022302e-16],\n",
       "       [ 8.32667268e-17,  5.55111512e-17, -8.32667268e-17,\n",
       "        -5.55111512e-17, -2.77555756e-17,  1.59594560e-16,\n",
       "        -3.81639165e-17],\n",
       "       [-5.55111512e-17, -1.11022302e-16, -4.16333634e-17,\n",
       "         1.11022302e-16,  2.77555756e-17, -1.38777878e-16,\n",
       "        -1.38777878e-17],\n",
       "       [-2.77555756e-17,  0.00000000e+00, -1.21430643e-16,\n",
       "         0.00000000e+00, -8.32667268e-17,  8.32667268e-17,\n",
       "         1.94289029e-16],\n",
       "       [ 0.00000000e+00,  1.11022302e-16,  0.00000000e+00,\n",
       "        -5.55111512e-17, -1.38777878e-17,  0.00000000e+00,\n",
       "         1.38777878e-17],\n",
       "       [ 0.00000000e+00,  1.66533454e-16, -4.16333634e-17,\n",
       "        -1.11022302e-16, -4.16333634e-17,  1.11022302e-16,\n",
       "         8.32667268e-17],\n",
       "       [ 5.55111512e-17,  1.66533454e-16, -2.77555756e-17,\n",
       "        -4.16333634e-17,  2.08166817e-17,  0.00000000e+00,\n",
       "        -2.77555756e-17],\n",
       "       [ 1.66533454e-16,  2.22044605e-16,  2.77555756e-17,\n",
       "         6.93889390e-17,  2.94902991e-17, -8.32667268e-17,\n",
       "        -1.66533454e-16],\n",
       "       [ 5.55111512e-17,  5.55111512e-17,  1.11022302e-16,\n",
       "         1.38777878e-17, -2.08166817e-17,  0.00000000e+00,\n",
       "        -1.66533454e-16],\n",
       "       [ 0.00000000e+00, -1.11022302e-16, -8.32667268e-17,\n",
       "         0.00000000e+00, -8.32667268e-17, -8.32667268e-17,\n",
       "         8.32667268e-17],\n",
       "       [-1.11022302e-16, -5.55111512e-17, -2.77555756e-17,\n",
       "        -4.16333634e-17, -8.32667268e-17,  6.93889390e-18,\n",
       "         1.87350135e-16],\n",
       "       [-1.11022302e-16,  1.11022302e-16,  8.32667268e-17,\n",
       "         5.55111512e-17, -5.55111512e-17, -5.55111512e-17,\n",
       "         6.93889390e-17],\n",
       "       [-1.11022302e-16,  5.55111512e-17,  6.93889390e-17,\n",
       "        -1.11022302e-16,  1.38777878e-16, -1.11022302e-16,\n",
       "        -8.32667268e-17],\n",
       "       [ 1.11022302e-16,  2.22044605e-16, -7.45931095e-17,\n",
       "         1.11022302e-16, -6.93889390e-17, -2.22044605e-16,\n",
       "         5.55111512e-17],\n",
       "       [ 1.66533454e-16,  5.55111512e-17, -5.55111512e-17,\n",
       "         1.11022302e-16, -1.11022302e-16, -1.11022302e-16,\n",
       "        -5.55111512e-17],\n",
       "       [ 1.11022302e-16,  1.38777878e-16,  5.55111512e-17,\n",
       "        -2.22044605e-16,  0.00000000e+00,  0.00000000e+00,\n",
       "        -1.66533454e-16],\n",
       "       [ 1.66533454e-16, -1.11022302e-16,  1.11022302e-16,\n",
       "         0.00000000e+00, -1.66533454e-16,  0.00000000e+00,\n",
       "        -1.11022302e-16],\n",
       "       [ 1.66533454e-16,  1.94289029e-16,  0.00000000e+00,\n",
       "         0.00000000e+00,  1.11022302e-16,  0.00000000e+00,\n",
       "        -1.11022302e-16],\n",
       "       [-2.22044605e-16,  2.22044605e-16, -1.11022302e-16,\n",
       "         2.22044605e-16,  0.00000000e+00,  0.00000000e+00,\n",
       "         2.22044605e-16],\n",
       "       [ 1.11022302e-16,  3.05311332e-16,  0.00000000e+00,\n",
       "         0.00000000e+00,  0.00000000e+00,  0.00000000e+00,\n",
       "        -2.22044605e-16],\n",
       "       [ 0.00000000e+00,  1.11022302e-16,  0.00000000e+00,\n",
       "         0.00000000e+00,  1.11022302e-16, -2.22044605e-16,\n",
       "        -1.11022302e-16],\n",
       "       [-1.11022302e-16,  1.11022302e-16, -2.22044605e-16,\n",
       "         0.00000000e+00,  3.33066907e-16,  0.00000000e+00,\n",
       "         0.00000000e+00],\n",
       "       [-2.77555756e-16,  3.33066907e-16,  0.00000000e+00,\n",
       "         0.00000000e+00,  3.33066907e-16, -2.22044605e-16,\n",
       "         0.00000000e+00],\n",
       "       [ 3.33066907e-16,  1.11022302e-16, -2.22044605e-16,\n",
       "         0.00000000e+00,  1.66533454e-16, -2.22044605e-16,\n",
       "        -4.44089210e-16],\n",
       "       [-3.33066907e-16, -2.22044605e-16,  0.00000000e+00,\n",
       "         0.00000000e+00,  2.22044605e-16,  0.00000000e+00,\n",
       "         1.11022302e-16],\n",
       "       [-1.66533454e-16,  3.33066907e-16, -2.22044605e-16,\n",
       "         0.00000000e+00,  1.11022302e-16, -2.22044605e-16,\n",
       "         0.00000000e+00],\n",
       "       [ 5.55111512e-17,  2.22044605e-16,  2.22044605e-16,\n",
       "         2.22044605e-16,  8.32667268e-17, -2.22044605e-16,\n",
       "        -1.11022302e-16],\n",
       "       [-1.66533454e-16,  0.00000000e+00,  0.00000000e+00,\n",
       "         2.22044605e-16,  2.77555756e-16, -1.11022302e-16,\n",
       "         0.00000000e+00]])"
      ]
     },
     "execution_count": 38,
     "metadata": {},
     "output_type": "execute_result"
    }
   ],
   "source": [
    "space_modes_complex.real-orbit_s_modes.state[:, :-orbit_s_modes.m]"
   ]
  },
  {
   "cell_type": "code",
   "execution_count": 37,
   "metadata": {},
   "outputs": [
    {
     "data": {
      "text/plain": [
       "(32, 7)"
      ]
     },
     "execution_count": 37,
     "metadata": {},
     "output_type": "execute_result"
    }
   ],
   "source": [
    "orbit_s_modes.state[:, :-orbit_s_modes.m].shape"
   ]
  },
  {
   "cell_type": "code",
   "execution_count": 28,
   "metadata": {},
   "outputs": [
    {
     "data": {
      "text/plain": [
       "7"
      ]
     },
     "execution_count": 28,
     "metadata": {},
     "output_type": "execute_result"
    }
   ],
   "source": [
    "orbit_s_modes.m"
   ]
  },
  {
   "cell_type": "code",
   "execution_count": null,
   "metadata": {},
   "outputs": [],
   "source": []
  },
  {
   "cell_type": "code",
   "execution_count": 19,
   "metadata": {},
   "outputs": [
    {
     "data": {
      "text/plain": [
       "(32, 31)"
      ]
     },
     "execution_count": 19,
     "metadata": {},
     "output_type": "execute_result"
    }
   ],
   "source": [
    "orbit_s_modes.state[:, :-orbit_s_modes.m].shape"
   ]
  },
  {
   "cell_type": "code",
   "execution_count": 15,
   "metadata": {},
   "outputs": [
    {
     "data": {
      "text/plain": [
       "(32, 62)"
      ]
     },
     "execution_count": 15,
     "metadata": {},
     "output_type": "execute_result"
    }
   ],
   "source": [
    "orbit_s_modes.state.shape"
   ]
  },
  {
   "cell_type": "code",
   "execution_count": 13,
   "metadata": {},
   "outputs": [
    {
     "data": {
      "text/plain": [
       "(32, 31)"
      ]
     },
     "execution_count": 13,
     "metadata": {},
     "output_type": "execute_result"
    }
   ],
   "source": [
    "complex_modes.shape"
   ]
  },
  {
   "cell_type": "code",
   "execution_count": 8,
   "metadata": {},
   "outputs": [
    {
     "data": {
      "text/plain": [
       "2.688283071372399"
      ]
     },
     "execution_count": 8,
     "metadata": {},
     "output_type": "execute_result"
    }
   ],
   "source": [
    "field = orbit.convert(to='field')\n",
    "field_max = field.state.max()\n",
    "field_max"
   ]
  },
  {
   "cell_type": "code",
   "execution_count": 18,
   "metadata": {
    "scrolled": true
   },
   "outputs": [
    {
     "data": {
      "text/plain": [
       "2.757393878895269"
      ]
     },
     "execution_count": 18,
     "metadata": {},
     "output_type": "execute_result"
    }
   ],
   "source": [
    "field_large = field.mode_padding(dimension='space', size=64)\n",
    "large_max = field_large.state.max()\n",
    "np.sqrt(64/16)*large_max"
   ]
  },
  {
   "cell_type": "code",
   "execution_count": 16,
   "metadata": {},
   "outputs": [
    {
     "ename": "ValueError",
     "evalue": "all the input array dimensions for the concatenation axis must match exactly, but along dimension 0, the array at index 0 has size 32 and the array at index 1 has size 31",
     "output_type": "error",
     "traceback": [
      "\u001b[1;31m---------------------------------------------------------------------------\u001b[0m",
      "\u001b[1;31mValueError\u001b[0m                                Traceback (most recent call last)",
      "\u001b[1;32m<ipython-input-16-bd0e745021c3>\u001b[0m in \u001b[0;36m<module>\u001b[1;34m\u001b[0m\n\u001b[0;32m      2\u001b[0m \u001b[1;31m# Re-add the zeroth and Nyquist spatial frequency modes (zeros) and then transform back\u001b[0m\u001b[1;33m\u001b[0m\u001b[1;33m\u001b[0m\u001b[1;33m\u001b[0m\u001b[0m\n\u001b[0;32m      3\u001b[0m \u001b[0mz\u001b[0m \u001b[1;33m=\u001b[0m \u001b[0mnp\u001b[0m\u001b[1;33m.\u001b[0m\u001b[0mzeros\u001b[0m\u001b[1;33m(\u001b[0m\u001b[1;33m[\u001b[0m\u001b[0morbit\u001b[0m\u001b[1;33m.\u001b[0m\u001b[0mN\u001b[0m\u001b[1;33m,\u001b[0m \u001b[1;36m1\u001b[0m\u001b[1;33m]\u001b[0m\u001b[1;33m)\u001b[0m\u001b[1;33m\u001b[0m\u001b[1;33m\u001b[0m\u001b[0m\n\u001b[1;32m----> 4\u001b[1;33m \u001b[0mfield\u001b[0m \u001b[1;33m=\u001b[0m \u001b[0mirfft\u001b[0m\u001b[1;33m(\u001b[0m\u001b[0mnp\u001b[0m\u001b[1;33m.\u001b[0m\u001b[0mconcatenate\u001b[0m\u001b[1;33m(\u001b[0m\u001b[1;33m(\u001b[0m\u001b[0mz\u001b[0m\u001b[1;33m,\u001b[0m \u001b[0mcomplex_modes\u001b[0m\u001b[1;33m,\u001b[0m \u001b[0mz\u001b[0m\u001b[1;33m)\u001b[0m\u001b[1;33m,\u001b[0m \u001b[0maxis\u001b[0m\u001b[1;33m=\u001b[0m\u001b[1;36m1\u001b[0m\u001b[1;33m)\u001b[0m\u001b[1;33m,\u001b[0m \u001b[0mnorm\u001b[0m\u001b[1;33m=\u001b[0m\u001b[1;34m'ortho'\u001b[0m\u001b[1;33m,\u001b[0m \u001b[0maxis\u001b[0m\u001b[1;33m=\u001b[0m\u001b[1;36m1\u001b[0m\u001b[1;33m)\u001b[0m\u001b[1;33m\u001b[0m\u001b[1;33m\u001b[0m\u001b[0m\n\u001b[0m",
      "\u001b[1;32m<__array_function__ internals>\u001b[0m in \u001b[0;36mconcatenate\u001b[1;34m(*args, **kwargs)\u001b[0m\n",
      "\u001b[1;31mValueError\u001b[0m: all the input array dimensions for the concatenation axis must match exactly, but along dimension 0, the array at index 0 has size 32 and the array at index 1 has size 31"
     ]
    }
   ],
   "source": [
    "complex_modes = orbit.state[:, :-orbit.m] + 1j * orbit.state[:, -orbit.m:]\n",
    "# Re-add the zeroth and Nyquist spatial frequency modes (zeros) and then transform back\n",
    "z = np.zeros([orbit.N, 1])\n",
    "field = irfft(np.concatenate((z, complex_modes, z), axis=1), norm='ortho', axis=1)"
   ]
  },
  {
   "cell_type": "code",
   "execution_count": 14,
   "metadata": {},
   "outputs": [
    {
     "data": {
      "text/plain": [
       "1.949872371842242"
      ]
     },
     "execution_count": 14,
     "metadata": {},
     "output_type": "execute_result"
    }
   ],
   "source": [
    "(field_max/large_max)"
   ]
  },
  {
   "cell_type": "code",
   "execution_count": null,
   "metadata": {},
   "outputs": [],
   "source": [
    "parameter_based=False\n",
    "newN, newM = 128, 128\n",
    "# Return class object with new discretization size. Not performed in place\n",
    "# because it is used in other functions; don't want user to be caught unawares\n",
    "\n",
    "# Copy state information to new orbit; don't perform operations inplace, only create new orbit\n",
    "placeholder_orbit = orbit.__class__(state=orbit.state, state_type=orbit.state_type, T=orbit.T, L=orbit.L, S=orbit.S)\n",
    "# placeholder_orbit = placeholder_orbit.convert(to='modes')"
   ]
  },
  {
   "cell_type": "code",
   "execution_count": null,
   "metadata": {},
   "outputs": [],
   "source": [
    "placeholder_orbit.convert(to='field').state.max(), placeholder_orbit.convert(to='field').convert(to='modes').convert(to='field').state.max()"
   ]
  },
  {
   "cell_type": "code",
   "execution_count": null,
   "metadata": {},
   "outputs": [],
   "source": [
    "#placeholders for workaround of rfft normalization change\n",
    "oldN, oldM = orbit.N, orbit.M\n",
    "if np.mod(newN, 2) or np.mod(newM, 2):\n",
    "    raise ValueError('New discretization size must be an even number, preferably a power of 2')\n",
    "else:\n",
    "    if newM == orbit.M:\n",
    "        pass\n",
    "    elif newM > orbit.M:\n",
    "        placeholder_orbit = placeholder_orbit.mode_padding(newM, dimension='space')\n",
    "    elif newM < orbit.M:\n",
    "        placeholder_orbit = placeholder_orbit.mode_truncation(newM, dimension='space')\n",
    "\n",
    "    if newN == orbit.N:\n",
    "        pass\n",
    "    elif newN > orbit.N:\n",
    "        placeholder_orbit = placeholder_orbit.mode_padding(newN, dimension='time')\n",
    "    elif newN < orbit.N:\n",
    "        placeholder_orbit = placeholder_orbit.mode_truncation(newN, dimension='time')\n",
    "\n",
    "\n",
    "    # Keep the norm of the physical field the same, need to\n",
    "    # account for discrepancy between new and old Fourier transform\n",
    "    # normalization factors. This is equivalent to normalizing\n",
    "    # by 1/N and 1/M on forward transforms; the reason why\n",
    "    # it was not implemented this way is to not have to keep\n",
    "    # track of normalization factors anywhere but here.\n",
    "    placeholder_orbit.state = (np.sqrt(newN*newM)/np.sqrt(oldN*oldM))*placeholder_orbit.state\n",
    "    placeholder_orbit.convert(inplace=True, to=orbit.state_type)"
   ]
  },
  {
   "cell_type": "code",
   "execution_count": 3,
   "metadata": {},
   "outputs": [
    {
     "data": {
      "text/plain": [
       "31.999999999999993"
      ]
     },
     "execution_count": 3,
     "metadata": {},
     "output_type": "execute_result"
    }
   ],
   "source": [
    "# norm = ortho divides by sqrt(16) = 4. \n",
    "(irfft(np.concatenate((rfft(np.ones(16), norm='ortho'),np.zeros(8))),norm='ortho')[0] / irfft(np.concatenate((rfft(np.ones(16), norm='ortho'),np.zeros(8))))[0])**2"
   ]
  },
  {
   "cell_type": "code",
   "execution_count": 12,
   "metadata": {},
   "outputs": [
    {
     "data": {
      "text/plain": [
       "array([1., 1., 1., 1., 1., 1., 1., 1., 1., 1., 1., 1., 1., 1., 1., 1., 1.,\n",
       "       1., 1., 1., 1., 1., 1., 1., 1., 1., 1., 1., 1., 1., 1., 1.])"
      ]
     },
     "execution_count": 12,
     "metadata": {},
     "output_type": "execute_result"
    }
   ],
   "source": [
    "32/16 * irfft(np.concatenate((rfft(np.ones(16)),np.zeros(8))))"
   ]
  },
  {
   "cell_type": "code",
   "execution_count": 46,
   "metadata": {},
   "outputs": [
    {
     "data": {
      "text/plain": [
       "array([0.25, 0.25, 0.25, 0.25, 0.25, 0.25, 0.25, 0.25, 0.25, 0.25, 0.25,\n",
       "       0.25, 0.25, 0.25, 0.25, 0.25])"
      ]
     },
     "execution_count": 46,
     "metadata": {},
     "output_type": "execute_result"
    }
   ],
   "source": [
    "irfft(rfft(np.ones(16), norm='ortho'))"
   ]
  },
  {
   "cell_type": "code",
   "execution_count": 8,
   "metadata": {},
   "outputs": [],
   "source": [
    "size=64\n",
    "s_modes = orbit.convert(to='s_modes')\n",
    "first_half = s_modes.state[:, :-s_modes.m]\n",
    "second_half = s_modes.state[:, -s_modes.m:]\n",
    "padding_number = int((size-s_modes.M) // 2)\n",
    "padding = np.zeros([s_modes.state.shape[0], padding_number])\n",
    "padded_s_modes = np.sqrt(size / s_modes.M) * np.concatenate((first_half, padding, second_half, padding), axis=1)"
   ]
  },
  {
   "cell_type": "code",
   "execution_count": 13,
   "metadata": {},
   "outputs": [
    {
     "data": {
      "text/plain": [
       "(32, 62)"
      ]
     },
     "execution_count": 13,
     "metadata": {},
     "output_type": "execute_result"
    }
   ],
   "source": [
    "padded_s_modes.shape"
   ]
  },
  {
   "cell_type": "code",
   "execution_count": 76,
   "metadata": {},
   "outputs": [
    {
     "data": {
      "text/plain": [
       "2.688283071372399"
      ]
     },
     "execution_count": 76,
     "metadata": {},
     "output_type": "execute_result"
    }
   ],
   "source": [
    "orbit.convert(to='field').state.max()"
   ]
  },
  {
   "cell_type": "code",
   "execution_count": 6,
   "metadata": {},
   "outputs": [
    {
     "data": {
      "text/plain": [
       "2.757393878895269"
      ]
     },
     "execution_count": 6,
     "metadata": {},
     "output_type": "execute_result"
    }
   ],
   "source": [
    "orbit.convert(to='field').mode_padding(dimension='space', size=64).state.max()"
   ]
  },
  {
   "cell_type": "code",
   "execution_count": 74,
   "metadata": {},
   "outputs": [
    {
     "data": {
      "text/plain": [
       "OrbitKS({\"state_type\": \"modes\", \"N\": 32, \"M\": 64, \"T\": \"1.88e+01\", \"L\": \"2.78e+01\", \"S\": \"0.e+00\"})"
      ]
     },
     "execution_count": 74,
     "metadata": {},
     "output_type": "execute_result"
    }
   ],
   "source": [
    "orbit.mode_padding(dimension='space', size=64)"
   ]
  },
  {
   "cell_type": "code",
   "execution_count": 23,
   "metadata": {},
   "outputs": [
    {
     "data": {
      "text/plain": [
       "5.65685424949238"
      ]
     },
     "execution_count": 23,
     "metadata": {},
     "output_type": "execute_result"
    }
   ],
   "source": [
    "(np.sqrt(newN*newM)/np.sqrt(oldN*oldM))"
   ]
  },
  {
   "cell_type": "code",
   "execution_count": 22,
   "metadata": {},
   "outputs": [
    {
     "data": {
      "text/plain": [
       "46.037681844495985"
      ]
     },
     "execution_count": 22,
     "metadata": {},
     "output_type": "execute_result"
    }
   ],
   "source": [
    "placeholder_orbit.state.max()"
   ]
  },
  {
   "cell_type": "code",
   "execution_count": 17,
   "metadata": {
    "scrolled": true
   },
   "outputs": [
    {
     "data": {
      "image/png": "[encoded data removed]",
      "text/plain": [
       "<Figure size 195.967x174.13 with 2 Axes>"
      ]
     },
     "metadata": {
      "needs_background": "light"
     },
     "output_type": "display_data"
    }
   ],
   "source": [
    "orbit.plot(padding=False)"
   ]
  },
  {
   "cell_type": "code",
   "execution_count": 13,
   "metadata": {},
   "outputs": [],
   "source": [
    "orbit = orbit.convert(to='field')"
   ]
  },
  {
   "cell_type": "code",
   "execution_count": 14,
   "metadata": {},
   "outputs": [
    {
     "data": {
      "text/plain": [
       "(2.688283071372399, 2.688283071372399, 2.7573938788952685)"
      ]
     },
     "execution_count": 14,
     "metadata": {},
     "output_type": "execute_result"
    }
   ],
   "source": [
    "(orbit.state.max(),\n",
    "rediscretize(orbit, newN=32).state.max(),\n",
    "rediscretize(orbit, newM=64).state.max())#plot(padding=False)"
   ]
  },
  {
   "cell_type": "code",
   "execution_count": 10,
   "metadata": {},
   "outputs": [
    {
     "data": {
      "text/plain": [
       "(1.4576252487176573, 1.4576252487176573, 8.245573582375865)"
      ]
     },
     "execution_count": 10,
     "metadata": {},
     "output_type": "execute_result"
    }
   ],
   "source": [
    "(eqva_orbit.state.max(),\n",
    "rediscretize(eqva_orbit, newN=32).state.max(),\n",
    "rediscretize(eqva_orbit, newM=64).state.max())#plot(padding=False)"
   ]
  },
  {
   "cell_type": "code",
   "execution_count": 3,
   "metadata": {},
   "outputs": [
    {
     "data": {
      "text/plain": [
       "1.4576252487176573"
      ]
     },
     "execution_count": 3,
     "metadata": {},
     "output_type": "execute_result"
    }
   ],
   "source": [
    "rediscretize(eqva_orbit, newN=32).state.max()#plot(padding=False)"
   ]
  },
  {
   "cell_type": "code",
   "execution_count": 4,
   "metadata": {},
   "outputs": [
    {
     "data": {
      "text/plain": [
       "8.245573582375865"
      ]
     },
     "execution_count": 4,
     "metadata": {},
     "output_type": "execute_result"
    }
   ],
   "source": [
    "rediscretize(eqva_orbit, newM=64).state.max()#plot(padding=False)"
   ]
  },
  {
   "cell_type": "code",
   "execution_count": 12,
   "metadata": {},
   "outputs": [
    {
     "data": {
      "image/png": "[encoded data removed]",
      "text/plain": [
       "<Figure size 149.939x144 with 2 Axes>"
      ]
     },
     "metadata": {
      "needs_background": "light"
     },
     "output_type": "display_data"
    }
   ],
   "source": [
    "eqva_orbit.mode_padding(size=200, dimension='space').plot(padding=False)"
   ]
  },
  {
   "cell_type": "code",
   "execution_count": 7,
   "metadata": {},
   "outputs": [
    {
     "data": {
      "image/png": "[encoded data removed]",
      "text/plain": [
       "<Figure size 149.939x144 with 2 Axes>"
      ]
     },
     "metadata": {
      "needs_background": "light"
     },
     "output_type": "display_data"
    }
   ],
   "source": [
    "eqva_orbit.plot(padding = False)"
   ]
  },
  {
   "cell_type": "code",
   "execution_count": 10,
   "metadata": {},
   "outputs": [],
   "source": [
    "reqva = read_h5('reqva_L27p39.h5', data_format='kstori',  directory='local', state_type='modes')\n",
    "reqva.L += 0.01\n",
    "rpo = change_orbit_type(reqva, RelativeOrbitKS) \n",
    "# reqva = reqva.flatten_time_dimension()"
   ]
  },
  {
   "cell_type": "code",
   "execution_count": 11,
   "metadata": {},
   "outputs": [
    {
     "name": "stdout",
     "output_type": "stream",
     "text": [
      "3.1223192596549397e-06\n"
     ]
    }
   ],
   "source": [
    "from scipy.linalg import lstsq\n",
    "orbit = rpo\n",
    "parameter_constraints= (False, False, False)\n",
    "orbit.convert(inplace=True, to='modes')\n",
    "preconditioning = False\n",
    "atol = orbit.N*orbit.M*10**-15\n",
    "\n",
    "n_iter = 0\n",
    "exit_code = 0\n",
    "damp = 0\n",
    "\n",
    "residual = orbit.residual()\n",
    "#     while residual > atol and n_iter < max_iter:\n",
    "damp = 0\n",
    "n_iter += 1\n",
    "if preconditioning:\n",
    "    A = np.multiply(orbit.preconditioner(parameter_constraints=parameter_constraints),\n",
    "                    orbit.jacobian(parameter_constraints=parameter_constraints))\n",
    "    b = -1.0 * orbit.precondition(orbit.spatiotemporal_mapping()).state.ravel()\n",
    "else:\n",
    "    A = orbit.jacobian(parameter_constraints=parameter_constraints)\n",
    "    b = -1.0 * orbit.spatiotemporal_mapping().state.ravel()\n",
    "correction_tuple = lstsq(A, b.reshape(-1, 1))\n",
    "correction_vector = correction_tuple[0]\n",
    "dorbit = _state_vector_to_orbit(orbit, correction_vector, parameter_constraints=parameter_constraints)\n",
    "\n",
    "# To avoid redundant function calls, store optimization variables using\n",
    "# clunky notation.\n",
    "next_orbit = orbit.increment(dorbit, stepsize=2**-damp)\n",
    "next_residual = next_orbit.residual()\n",
    "print(next_residual)"
   ]
  },
  {
   "cell_type": "code",
   "execution_count": 12,
   "metadata": {},
   "outputs": [],
   "source": [
    "from scipy.linalg import lstsq\n",
    "orbit = reqva\n",
    "parameter_constraints= (False, False, False)\n",
    "orbit.convert(inplace=True, to='modes')\n",
    "preconditioning = False\n",
    "atol = orbit.N*orbit.M*10**-15\n",
    "\n",
    "n_iter = 0\n",
    "exit_code = 0\n",
    "damp = 0\n",
    "\n",
    "residual = orbit.residual()"
   ]
  },
  {
   "cell_type": "code",
   "execution_count": 13,
   "metadata": {},
   "outputs": [
    {
     "data": {
      "text/plain": [
       "1.3659644511468517e-05"
      ]
     },
     "execution_count": 13,
     "metadata": {},
     "output_type": "execute_result"
    }
   ],
   "source": [
    "residual"
   ]
  },
  {
   "cell_type": "code",
   "execution_count": 14,
   "metadata": {},
   "outputs": [
    {
     "name": "stdout",
     "output_type": "stream",
     "text": [
      "3.2788810863702737e-08\n"
     ]
    }
   ],
   "source": [
    "#     while residual > atol and n_iter < max_iter:\n",
    "damp = 0\n",
    "n_iter += 1\n",
    "if preconditioning:\n",
    "    A = np.multiply(orbit.preconditioner(parameter_constraints=parameter_constraints),\n",
    "                    orbit.jacobian(parameter_constraints=parameter_constraints))\n",
    "    b2 = -1.0 * orbit.precondition(orbit.spatiotemporal_mapping()).state.ravel()\n",
    "else:\n",
    "    A = orbit.jacobian(parameter_constraints=parameter_constraints)\n",
    "    b2 = -1.0 * orbit.spatiotemporal_mapping().state.ravel()\n",
    "correction_tuple = lstsq(A, b2.reshape(-1, 1))\n",
    "correction_vector2 = correction_tuple[0]\n",
    "dorbit2 = _state_vector_to_orbit(orbit, correction_vector2, parameter_constraints=parameter_constraints)\n",
    "\n",
    "# To avoid redundant function calls, store optimization variables using\n",
    "# clunky notation.\n",
    "next_orbit2 = orbit.increment(dorbit2, stepsize=2**-damp)\n",
    "next_residual2 = next_orbit2.residual()\n",
    "print(next_residual2)"
   ]
  },
  {
   "cell_type": "code",
   "execution_count": 15,
   "metadata": {},
   "outputs": [],
   "source": [
    "def test_if_derivatives_are_equal(orbit1, orbit2):\n",
    "    test_values = {}\n",
    "    test_values['dt'] = (orbit1.dt(return_modes=True) -orbit2.dt(return_modes=True)).sum()\n",
    "    test_values['dx2']=(orbit1.dx(power=2, return_modes=True) -orbit2.dx(power=2, return_modes=True)).sum()\n",
    "    test_values['dx4'] = (orbit1.dx(power=4,return_modes=True) -orbit2.dx(power=4,return_modes=True)).sum()\n",
    "    test_values['cm'] = (orbit1.comoving_mapping_component(return_modes=True)\n",
    "                        - orbit2.comoving_mapping_component(return_modes=True)).sum()\n",
    "    \n",
    "    orbit1_field = orbit1.convert(to='field')\n",
    "    orbit2_field = orbit2.convert(to='field')\n",
    "    test_values['pse'] = (orbit1_field.pseudospectral(orbit1_field, return_modes=True)\n",
    "                         -orbit2_field.pseudospectral(orbit2_field, return_modes=True)).sum()\n",
    "    return test_values"
   ]
  },
  {
   "cell_type": "code",
   "execution_count": 154,
   "metadata": {},
   "outputs": [
    {
     "data": {
      "text/plain": [
       "array([[ 4.85049899e+00,  1.28832957e+00,  2.77816895e+01,\n",
       "         2.01012684e+00,  1.34235019e+01,  3.66802474e+01,\n",
       "         6.37011084e+00,  3.87757497e+01, -2.41350362e+01,\n",
       "         6.58801599e+00, -2.81225919e+01,  2.04925518e+00,\n",
       "        -7.78311188e+00,  4.78379176e+00, -2.27386743e-02,\n",
       "        -1.63382386e+00,  1.45167993e+01, -1.34993536e-01,\n",
       "        -3.39980020e+00,  2.21613447e+01, -1.92006466e+01,\n",
       "         1.14041929e+01, -3.80144211e+01, -1.58070172e+01,\n",
       "        -1.75094773e+01, -1.15125652e+00,  5.78847515e+00,\n",
       "         4.01523086e+00,  4.78965128e+00, -1.12111905e+00]])"
      ]
     },
     "execution_count": 154,
     "metadata": {},
     "output_type": "execute_result"
    }
   ],
   "source": [
    "# mapping_modes = (next_orbit2.dt(return_modes=True) + next_orbit2.dx(power=2, return_modes=True)\n",
    "#                  + next_orbit2.dx(power=4, return_modes=True)\n",
    "#                  + next_orbit2.convert(to='field').pseudospectral(next_orbit2.convert(to='field'), return_modes=True)\n",
    "#                  + next_orbit2.comoving_mapping_component(return_modes=True))\n",
    "# mapping_modes"
   ]
  },
  {
   "cell_type": "code",
   "execution_count": 162,
   "metadata": {},
   "outputs": [],
   "source": [
    "st = reqva.state + dorbit2.state\n",
    "t = reqva.T + dorbit2.T\n",
    "l = reqva.L + dorbit2.L\n",
    "s = reqva.S + dorbit2.S\n",
    "manual_increment = reqva.__class__(state=st, state_type='modes', T=t, L=l, S=s, N=reqva.N)"
   ]
  },
  {
   "cell_type": "code",
   "execution_count": 163,
   "metadata": {},
   "outputs": [
    {
     "data": {
      "text/plain": [
       "1.3526384853875008e-15"
      ]
     },
     "execution_count": 163,
     "metadata": {},
     "output_type": "execute_result"
    }
   ],
   "source": [
    "manual_increment.residual()"
   ]
  },
  {
   "cell_type": "code",
   "execution_count": 165,
   "metadata": {},
   "outputs": [
    {
     "data": {
      "text/plain": [
       "4333.391169971804"
      ]
     },
     "execution_count": 165,
     "metadata": {},
     "output_type": "execute_result"
    }
   ],
   "source": [
    "next_orbit2.residual()"
   ]
  },
  {
   "cell_type": "code",
   "execution_count": 166,
   "metadata": {},
   "outputs": [
    {
     "data": {
      "text/plain": [
       "{'dt': 0.0, 'dx2': 0.0, 'dx4': 0.0, 'cm': 0.0, 'pse': -49.240977791687676}"
      ]
     },
     "execution_count": 166,
     "metadata": {},
     "output_type": "execute_result"
    }
   ],
   "source": [
    "test_if_derivatives_are_equal(manual_increment, next_orbit2)"
   ]
  },
  {
   "cell_type": "code",
   "execution_count": null,
   "metadata": {},
   "outputs": [],
   "source": [
    "0.5 * self.statemul(other).dx(return_modes=return_modes)"
   ]
  },
  {
   "cell_type": "code",
   "execution_count": 179,
   "metadata": {},
   "outputs": [
    {
     "name": "stdout",
     "output_type": "stream",
     "text": [
      "74 ns ± 0.842 ns per loop (mean ± std. dev. of 7 runs, 10000000 loops each)\n"
     ]
    }
   ],
   "source": [
    "%%timeit\n",
    "rpo.state_type=='modes'"
   ]
  },
  {
   "cell_type": "code",
   "execution_count": 189,
   "metadata": {},
   "outputs": [
    {
     "data": {
      "text/plain": [
       "RelativeOrbitKS({\"state_type\": \"modes\", \"frame\": \"comoving\", \"N\": 32, \"M\": 32, \"T\": \"1.93e+01\", \"L\": \"2.74e+01\", \"S\": \"7.45e+00\"})"
      ]
     },
     "execution_count": 189,
     "metadata": {},
     "output_type": "execute_result"
    }
   ],
   "source": [
    "next_orbit"
   ]
  },
  {
   "cell_type": "code",
   "execution_count": 190,
   "metadata": {},
   "outputs": [
    {
     "data": {
      "text/plain": [
       "(19.25946666563527, 27.39126432496096, 7.4488396290745325, 1, 32, 1, 15, 1, 30)"
      ]
     },
     "execution_count": 190,
     "metadata": {},
     "output_type": "execute_result"
    }
   ],
   "source": [
    "next_orbit2.spatiotemporal_mapping().parameters"
   ]
  },
  {
   "cell_type": "code",
   "execution_count": 185,
   "metadata": {},
   "outputs": [
    {
     "name": "stdout",
     "output_type": "stream",
     "text": [
      "24.3 ns ± 0.359 ns per loop (mean ± std. dev. of 7 runs, 10000000 loops each)\n"
     ]
    }
   ],
   "source": [
    "%%timeit\n",
    "converted_orbit = self"
   ]
  },
  {
   "cell_type": "code",
   "execution_count": 183,
   "metadata": {},
   "outputs": [
    {
     "name": "stdout",
     "output_type": "stream",
     "text": [
      "243 ns ± 2.37 ns per loop (mean ± std. dev. of 7 runs, 1000000 loops each)\n"
     ]
    }
   ],
   "source": [
    "%%timeit\n",
    "self = rpo\n",
    "to = 'modes'\n",
    "inplace=False\n",
    "\n",
    "if to == 'field':\n",
    "    if self.state_type == 's_modes':\n",
    "        return self.inv_space_transform()\n",
    "    elif self.state_type == 'modes':\n",
    "        return self.inv_spacetime_transform()\n",
    "    else:\n",
    "        return self\n",
    "elif to == 's_modes':\n",
    "    if self.state_type == 'field':\n",
    "        return self.space_transform()\n",
    "    elif self.state_type == 'modes':\n",
    "        return self.inv_time_transform()\n",
    "    else:\n",
    "        return self\n",
    "elif to == 'modes':\n",
    "    if self.state_type == 's_modes':\n",
    "        return self.time_transform()\n",
    "    elif self.state_type == 'field':\n",
    "        return self.spacetime_transform()\n",
    "    else:\n",
    "        return self\n",
    "else:\n",
    "    raise ValueError('Trying to convert to unrecognizable state type.')\n",
    "\n",
    "if inplace:\n",
    "    self.state = converted_orbit.state\n",
    "    self.state_type = to\n",
    "else:\n",
    "    pass"
   ]
  },
  {
   "cell_type": "code",
   "execution_count": 175,
   "metadata": {},
   "outputs": [
    {
     "data": {
      "text/plain": [
       "array([[ 6.54885887, 11.18796206, 12.74270283, ..., -2.61509456,\n",
       "        -0.85118921,  2.17129262],\n",
       "       [ 6.54885887, 11.18796206, 12.74270283, ..., -2.61509456,\n",
       "        -0.85118921,  2.17129262],\n",
       "       [ 6.54885887, 11.18796206, 12.74270283, ..., -2.61509456,\n",
       "        -0.85118921,  2.17129262],\n",
       "       ...,\n",
       "       [ 6.54885887, 11.18796206, 12.74270283, ..., -2.61509456,\n",
       "        -0.85118921,  2.17129262],\n",
       "       [ 6.54885887, 11.18796206, 12.74270283, ..., -2.61509456,\n",
       "        -0.85118921,  2.17129262],\n",
       "       [ 6.54885887, 11.18796206, 12.74270283, ..., -2.61509456,\n",
       "        -0.85118921,  2.17129262]])"
      ]
     },
     "execution_count": 175,
     "metadata": {},
     "output_type": "execute_result"
    }
   ],
   "source": [
    "manual_increment.convert(to='field').state * np.sqrt(32)"
   ]
  },
  {
   "cell_type": "code",
   "execution_count": 172,
   "metadata": {
    "scrolled": true
   },
   "outputs": [
    {
     "data": {
      "text/plain": [
       "array([[ 6.54885887, 11.18796206, 12.74270283,  7.51896536, -2.15744723,\n",
       "        -8.33021314, -7.72933176, -3.84138905, -0.39193262,  1.53637918,\n",
       "         2.85574985,  5.0421946 ,  8.79062457, 12.58802474, 12.3285526 ,\n",
       "         5.04531451, -4.71693796, -9.1702639 , -7.5022855 , -4.25669075,\n",
       "        -2.74979912, -3.32152733, -4.58399269, -5.23226869, -5.02983887,\n",
       "        -4.48751375, -4.07376571, -3.83517188, -3.47996805, -2.61509456,\n",
       "        -0.85118921,  2.17129262]])"
      ]
     },
     "execution_count": 172,
     "metadata": {},
     "output_type": "execute_result"
    }
   ],
   "source": [
    "next_orbit2.convert(to='field').state"
   ]
  },
  {
   "cell_type": "code",
   "execution_count": 169,
   "metadata": {},
   "outputs": [
    {
     "data": {
      "text/plain": [
       "array([[-4.85049898e+00, -1.28832958e+00, -2.77816895e+01,\n",
       "        -2.01012683e+00, -1.34235018e+01, -3.66802474e+01,\n",
       "        -6.37011084e+00, -3.87757497e+01,  2.41350362e+01,\n",
       "        -6.58801599e+00,  2.81225919e+01, -2.04925518e+00,\n",
       "         7.78311188e+00, -4.78379176e+00,  2.27386743e-02,\n",
       "         1.63382386e+00, -1.45167993e+01,  1.34993557e-01,\n",
       "         3.39980020e+00, -2.21613447e+01,  1.92006466e+01,\n",
       "        -1.14041929e+01,  3.80144211e+01,  1.58070172e+01,\n",
       "         1.75094773e+01,  1.15125652e+00, -5.78847515e+00,\n",
       "        -4.01523086e+00, -4.78965128e+00,  1.12111905e+00]])"
      ]
     },
     "execution_count": 169,
     "metadata": {},
     "output_type": "execute_result"
    }
   ],
   "source": [
    "\n",
    "(manual_increment.convert(to='field').pseudospectral(manual_increment.convert(to='field'), return_modes=True)\n",
    "-next_orbit2.convert(to='field').pseudospectral(next_orbit2.convert(to='field'), return_modes=True))"
   ]
  },
  {
   "cell_type": "code",
   "execution_count": 151,
   "metadata": {},
   "outputs": [
    {
     "data": {
      "text/plain": [
       "array([[ 5.89208171e+00,  1.56498191e+00,  3.37474526e+01,\n",
       "         2.44177591e+00,  1.63060275e+01,  4.45568623e+01,\n",
       "         7.73801082e+00,  4.71023470e+01, -2.93177271e+01,\n",
       "         8.00270832e+00, -3.41615594e+01,  2.48930657e+00,\n",
       "        -9.45443580e+00,  5.81104997e+00, -2.76215143e-02,\n",
       "        -1.98466667e+00,  1.76340966e+01, -1.63981701e-01,\n",
       "        -4.12986389e+00,  2.69202105e+01, -2.33237404e+01,\n",
       "         1.38530978e+01, -4.61775327e+01, -1.92013724e+01,\n",
       "        -2.12694140e+01, -1.39847417e+00,  7.03147629e+00,\n",
       "         4.87745043e+00,  5.81816774e+00, -1.36186506e+00]])"
      ]
     },
     "execution_count": 151,
     "metadata": {},
     "output_type": "execute_result"
    }
   ],
   "source": [
    "next_orbit2_field = next_orbit2.convert(to='field')\n",
    "next_orbit2_field.pseudospectral(next_orbit2_field, return_modes=True)"
   ]
  },
  {
   "cell_type": "code",
   "execution_count": 148,
   "metadata": {},
   "outputs": [
    {
     "data": {
      "text/plain": [
       "array([[ 2.00816125e+00,  1.01374028e+01,  1.11253908e+01,\n",
       "        -1.40353720e+00,  2.47945576e+00, -4.92810250e+00,\n",
       "        -2.38748744e-01, -1.12657681e+00,  3.57569875e-01,\n",
       "        -6.96102188e-02,  1.76386141e-01, -8.29367991e-03,\n",
       "         2.40090279e-02, -1.05550110e-02,  1.85931832e-05,\n",
       "        -1.06120070e+01,  7.93479302e+00, -1.19937626e+01,\n",
       "        -1.74281050e+00, -8.81762180e+00,  8.85403579e-01,\n",
       "        -6.38238181e-01,  9.23568682e-01,  2.64677827e-01,\n",
       "         1.64914124e-01,  1.22727921e-02, -2.51199514e-02,\n",
       "        -1.18906723e-02, -1.08448453e-02,  1.87626012e-03]])"
      ]
     },
     "execution_count": 148,
     "metadata": {},
     "output_type": "execute_result"
    }
   ],
   "source": []
  },
  {
   "cell_type": "code",
   "execution_count": 140,
   "metadata": {},
   "outputs": [
    {
     "data": {
      "text/plain": [
       "4333.391169971804"
      ]
     },
     "execution_count": 140,
     "metadata": {},
     "output_type": "execute_result"
    }
   ],
   "source": [
    "manual_increment.residual()"
   ]
  },
  {
   "cell_type": "code",
   "execution_count": 132,
   "metadata": {},
   "outputs": [],
   "source": [
    "orbit_field = reqva.convert(to='field')\n",
    "mapping_modes = (reqva.dt(return_modes=True) + reqva.dx(power=2, return_modes=True)\n",
    "                 + reqva.dx(power=4, return_modes=True)\n",
    "                 + orbit_field.pseudospectral(orbit_field, return_modes=True))"
   ]
  },
  {
   "cell_type": "code",
   "execution_count": 133,
   "metadata": {},
   "outputs": [],
   "source": [
    "\n",
    "# return next_orbit2.__class__(state=mapping_modes, state_type='modes', T=next_orbit2.T, L=next_orbit2.L, S=next_orbit2.S)"
   ]
  },
  {
   "cell_type": "code",
   "execution_count": 134,
   "metadata": {},
   "outputs": [
    {
     "data": {
      "text/plain": [
       "RelativeEquilibriumOrbitKS({\"state_type\": \"modes\", \"frame\": \"comoving\", \"N\": 1, \"M\": 32, \"T\": \"1.93e+01\", \"L\": \"2.74e+01\", \"S\": \"7.45e+00\"})"
      ]
     },
     "execution_count": 134,
     "metadata": {},
     "output_type": "execute_result"
    }
   ],
   "source": [
    "next_orbit2.__class__(state=mapping_modes, state_type='modes', T=next_orbit2.T, L=next_orbit2.L, S=next_orbit2.S)"
   ]
  },
  {
   "cell_type": "code",
   "execution_count": 136,
   "metadata": {},
   "outputs": [
    {
     "data": {
      "text/plain": [
       "RelativeEquilibriumOrbitKS({\"state_type\": \"modes\", \"frame\": \"comoving\", \"N\": 32, \"M\": 32, \"T\": \"1.93e+01\", \"L\": \"2.74e+01\", \"S\": \"7.45e+00\"})"
      ]
     },
     "execution_count": 136,
     "metadata": {},
     "output_type": "execute_result"
    }
   ],
   "source": []
  },
  {
   "cell_type": "code",
   "execution_count": 125,
   "metadata": {},
   "outputs": [
    {
     "data": {
      "text/plain": [
       "4333.391169971804"
      ]
     },
     "execution_count": 125,
     "metadata": {},
     "output_type": "execute_result"
    }
   ],
   "source": [
    "0.5 * mapping_modes.ravel().dot(mapping_modes.ravel())"
   ]
  },
  {
   "cell_type": "code",
   "execution_count": 127,
   "metadata": {},
   "outputs": [
    {
     "data": {
      "text/plain": [
       "array([[0., 0., 0., 0., 0., 0., 0., 0., 0., 0., 0., 0., 0., 0., 0., 0.,\n",
       "        0., 0., 0., 0., 0., 0., 0., 0., 0., 0., 0., 0., 0., 0.]])"
      ]
     },
     "execution_count": 127,
     "metadata": {},
     "output_type": "execute_result"
    }
   ],
   "source": []
  },
  {
   "cell_type": "code",
   "execution_count": 123,
   "metadata": {},
   "outputs": [
    {
     "data": {
      "text/plain": [
       "array([[-4.12038501e-08,  4.57397857e-08,  3.96994575e-08,\n",
       "         2.83688278e-07,  6.68203111e-08, -5.58377997e-08,\n",
       "        -1.80326580e-07, -1.23910863e-07, -1.92348823e-07,\n",
       "         3.49543208e-07, -1.22373225e-07,  4.02715387e-07,\n",
       "        -2.22346468e-07,  1.47342171e-07, -1.31646574e-07,\n",
       "        -1.23259617e-07,  2.59225433e-07, -6.63468915e-08,\n",
       "         3.07952011e-07, -4.58293610e-07, -2.99422709e-11,\n",
       "        -1.09845081e-07,  2.05336525e-07,  1.63004383e-08,\n",
       "         4.65319798e-07, -3.23526165e-07,  3.11944760e-07,\n",
       "        -4.75561839e-07,  3.25234407e-07, -3.84836816e-07]])"
      ]
     },
     "execution_count": 123,
     "metadata": {},
     "output_type": "execute_result"
    }
   ],
   "source": [
    "mapping_modes"
   ]
  },
  {
   "cell_type": "code",
   "execution_count": 104,
   "metadata": {},
   "outputs": [
    {
     "data": {
      "text/plain": [
       "array([[0., 0., 0., 0., 0., 0., 0., 0., 0., 0., 0., 0., 0., 0., 0., 0.,\n",
       "        0., 0., 0., 0., 0., 0., 0., 0., 0., 0., 0., 0., 0., 0.]])"
      ]
     },
     "execution_count": 104,
     "metadata": {},
     "output_type": "execute_result"
    }
   ],
   "source": [
    "reqva.dt(return_modes=True) - rpo.dt(return_modes=True)[0,:]"
   ]
  },
  {
   "cell_type": "code",
   "execution_count": 129,
   "metadata": {},
   "outputs": [
    {
     "data": {
      "text/plain": [
       "array([[-1.78880016e-08,  3.37179440e-08, -1.19513943e-07,\n",
       "         1.14325969e-07, -1.92895055e-07,  8.44505986e-08,\n",
       "        -3.47628915e-08,  2.59818190e-08, -9.98956423e-09,\n",
       "         1.86141281e-08, -1.01124906e-08,  7.15377370e-09,\n",
       "        -7.67401604e-09,  4.43562030e-09, -4.28850375e-09,\n",
       "        -4.36245478e-08, -3.40658801e-08, -6.42722240e-08,\n",
       "         1.04603813e-07, -1.33523612e-07,  9.70887362e-08,\n",
       "        -4.25594306e-08,  4.20910521e-08, -1.75066262e-08,\n",
       "         5.02927272e-09, -4.45767953e-09, -3.71766714e-09,\n",
       "         1.57970929e-09, -1.03166070e-09,  9.75227861e-10]])"
      ]
     },
     "execution_count": 129,
     "metadata": {},
     "output_type": "execute_result"
    }
   ],
   "source": [
    "reqva.comoving_mapping_component(return_modes=True)-next_orbit2.comoving_mapping_component(return_modes=True)\n"
   ]
  },
  {
   "cell_type": "code",
   "execution_count": 106,
   "metadata": {},
   "outputs": [
    {
     "data": {
      "text/plain": [
       "array([[-6.93889390e-17, -4.44089210e-16, -1.77635684e-15,\n",
       "         4.44089210e-16,  4.44089210e-16,  1.77635684e-15,\n",
       "        -1.66533454e-15,  0.00000000e+00, -6.66133815e-15,\n",
       "        -1.16018306e-14,  6.88338275e-15,  1.38777878e-17,\n",
       "        -1.58484337e-14,  9.17321774e-15,  1.31439998e-14,\n",
       "         2.22044605e-16, -4.44089210e-16,  2.66453526e-15,\n",
       "         6.66133815e-16,  7.10542736e-15,  2.44249065e-15,\n",
       "         2.22044605e-15, -2.22044605e-15, -8.88178420e-16,\n",
       "        -4.21884749e-15,  5.64825964e-15,  3.35842465e-15,\n",
       "         1.38777878e-17, -1.37251321e-14, -6.93889390e-18]])"
      ]
     },
     "execution_count": 106,
     "metadata": {},
     "output_type": "execute_result"
    }
   ],
   "source": [
    "power = 2\n",
    "reqva.dx(power=power, return_modes=True)-rpo.dx(power=power, return_modes=True)[0,:]"
   ]
  },
  {
   "cell_type": "code",
   "execution_count": 107,
   "metadata": {},
   "outputs": [
    {
     "data": {
      "text/plain": [
       "array([[ 3.46944695e-18,  1.11022302e-16,  8.88178420e-16,\n",
       "        -3.33066907e-16, -8.88178420e-16, -3.55271368e-15,\n",
       "         4.44089210e-15,  0.00000000e+00,  2.84217094e-14,\n",
       "         6.10622664e-14, -4.35207426e-14, -5.55111512e-17,\n",
       "         1.40776280e-13, -9.45910017e-14, -1.55612936e-13,\n",
       "        -1.38777878e-17,  5.55111512e-17, -1.33226763e-15,\n",
       "        -4.44089210e-16, -8.88178420e-15, -4.44089210e-15,\n",
       "        -5.32907052e-15,  8.88178420e-15,  2.66453526e-15,\n",
       "         2.22044605e-14, -3.59157148e-14, -2.55351296e-14,\n",
       "        -1.11022302e-16,  1.41664458e-13,  5.55111512e-17]])"
      ]
     },
     "execution_count": 107,
     "metadata": {},
     "output_type": "execute_result"
    }
   ],
   "source": [
    "power = 4\n",
    "reqva.dx(power=power, return_modes=True)-rpo.dx(power=power, return_modes=True)[0,:]"
   ]
  },
  {
   "cell_type": "code",
   "execution_count": 110,
   "metadata": {},
   "outputs": [
    {
     "data": {
      "text/plain": [
       "array([[ 6.66133815e-16,  0.00000000e+00,  6.21724894e-15,\n",
       "         1.94289029e-15,  2.66453526e-15,  3.55271368e-15,\n",
       "         2.22044605e-16,  1.24344979e-14, -4.44089210e-15,\n",
       "         6.21724894e-15, -2.66453526e-15, -1.77635684e-15,\n",
       "         2.22044605e-15,  6.88338275e-15,  6.11143081e-15,\n",
       "        -3.88578059e-16,  2.66453526e-15, -3.08780779e-16,\n",
       "        -1.11022302e-16,  5.32907052e-15,  0.00000000e+00,\n",
       "         5.32907052e-15, -1.77635684e-15,  4.44089210e-16,\n",
       "        -8.88178420e-16, -5.55111512e-17,  3.77475828e-15,\n",
       "         2.22044605e-16, -3.99680289e-15, -1.19348975e-15]])"
      ]
     },
     "execution_count": 110,
     "metadata": {},
     "output_type": "execute_result"
    }
   ],
   "source": [
    "orbit_field = rpo.convert(to='field')\n",
    "reqva_orbit_field = reqva.convert(to='field')\n",
    "\n",
    "reqva_orbit_field.pseudospectral(reqva_orbit_field, return_modes=True) - orbit_field.pseudospectral(orbit_field, return_modes=True)[0,:]"
   ]
  },
  {
   "cell_type": "code",
   "execution_count": 18,
   "metadata": {},
   "outputs": [],
   "source": []
  },
  {
   "cell_type": "code",
   "execution_count": 19,
   "metadata": {},
   "outputs": [
    {
     "data": {
      "text/plain": [
       "(19.259466674989493,\n",
       " 27.39126452358788,\n",
       " 7.448839604888563,\n",
       " 32,\n",
       " 32,\n",
       " 1,\n",
       " 15,\n",
       " 1,\n",
       " 30)"
      ]
     },
     "execution_count": 19,
     "metadata": {},
     "output_type": "execute_result"
    }
   ],
   "source": [
    "reqva.parameters"
   ]
  },
  {
   "cell_type": "code",
   "execution_count": 20,
   "metadata": {},
   "outputs": [
    {
     "data": {
      "text/plain": [
       "9.578960408473783e-13"
      ]
     },
     "execution_count": 20,
     "metadata": {},
     "output_type": "execute_result"
    }
   ],
   "source": [
    "reqva.residual()"
   ]
  },
  {
   "cell_type": "code",
   "execution_count": 125,
   "metadata": {},
   "outputs": [
    {
     "data": {
      "text/plain": [
       "array([[ 2.00816125e+00,  1.01374028e+01,  1.11253908e+01,\n",
       "        -1.40353720e+00,  2.47945576e+00, -4.92810250e+00,\n",
       "        -2.38748744e-01, -1.12657681e+00,  3.57569875e-01,\n",
       "        -6.96102188e-02,  1.76386141e-01, -8.29367991e-03,\n",
       "         2.40090279e-02, -1.05550110e-02,  1.85931832e-05,\n",
       "        -1.06120070e+01,  7.93479302e+00, -1.19937626e+01,\n",
       "        -1.74281050e+00, -8.81762180e+00,  8.85403579e-01,\n",
       "        -6.38238181e-01,  9.23568682e-01,  2.64677827e-01,\n",
       "         1.64914124e-01,  1.22727921e-02, -2.51199514e-02,\n",
       "        -1.18906723e-02, -1.08448453e-02,  1.87626012e-03]])"
      ]
     },
     "execution_count": 125,
     "metadata": {},
     "output_type": "execute_result"
    }
   ],
   "source": [
    "next_orbit2.state"
   ]
  },
  {
   "cell_type": "code",
   "execution_count": 126,
   "metadata": {},
   "outputs": [
    {
     "data": {
      "text/plain": [
       "array([[ 2.00816125e+00,  1.01374028e+01,  1.11253908e+01,\n",
       "        -1.40353720e+00,  2.47945576e+00, -4.92810250e+00,\n",
       "        -2.38748744e-01, -1.12657681e+00,  3.57569875e-01,\n",
       "        -6.96102188e-02,  1.76386141e-01, -8.29367991e-03,\n",
       "         2.40090279e-02, -1.05550110e-02,  1.85931832e-05,\n",
       "        -1.06120070e+01,  7.93479302e+00, -1.19937626e+01,\n",
       "        -1.74281050e+00, -8.81762180e+00,  8.85403579e-01,\n",
       "        -6.38238181e-01,  9.23568682e-01,  2.64677827e-01,\n",
       "         1.64914124e-01,  1.22727921e-02, -2.51199514e-02,\n",
       "        -1.18906723e-02, -1.08448453e-02,  1.87626012e-03]])"
      ]
     },
     "execution_count": 126,
     "metadata": {},
     "output_type": "execute_result"
    }
   ],
   "source": [
    "next_orbit2.convert(to='modes').state"
   ]
  },
  {
   "cell_type": "code",
   "execution_count": 127,
   "metadata": {},
   "outputs": [
    {
     "data": {
      "text/plain": [
       "array([[ 4.85049899e+00,  1.28832957e+00,  2.77816895e+01,\n",
       "         2.01012684e+00,  1.34235019e+01,  3.66802474e+01,\n",
       "         6.37011084e+00,  3.87757497e+01, -2.41350362e+01,\n",
       "         6.58801599e+00, -2.81225919e+01,  2.04925518e+00,\n",
       "        -7.78311188e+00,  4.78379176e+00, -2.27386743e-02,\n",
       "        -1.63382386e+00,  1.45167993e+01, -1.34993536e-01,\n",
       "        -3.39980020e+00,  2.21613447e+01, -1.92006466e+01,\n",
       "         1.14041929e+01, -3.80144211e+01, -1.58070172e+01,\n",
       "        -1.75094773e+01, -1.15125652e+00,  5.78847515e+00,\n",
       "         4.01523086e+00,  4.78965128e+00, -1.12111905e+00]])"
      ]
     },
     "execution_count": 127,
     "metadata": {},
     "output_type": "execute_result"
    }
   ],
   "source": [
    "next_orbit2.convert(to='modes').spatiotemporal_mapping().state"
   ]
  },
  {
   "cell_type": "code",
   "execution_count": 107,
   "metadata": {},
   "outputs": [],
   "source": [
    "tmp = next_orbit.state.copy()\n",
    "tmp[0,:] = next_orbit2.state\n",
    "next_orbit.state = tmp"
   ]
  },
  {
   "cell_type": "code",
   "execution_count": 114,
   "metadata": {},
   "outputs": [
    {
     "data": {
      "text/plain": [
       "RelativeEquilibriumOrbitKS({\"state_type\": \"modes\", \"frame\": \"comoving\", \"N\": 1, \"M\": 32, \"T\": \"2.74e-08\", \"L\": \"2.e-07\", \"S\": \"-7.08e-08\"})"
      ]
     },
     "execution_count": 114,
     "metadata": {},
     "output_type": "execute_result"
    }
   ],
   "source": [
    "dorbit2"
   ]
  },
  {
   "cell_type": "code",
   "execution_count": 115,
   "metadata": {},
   "outputs": [
    {
     "data": {
      "text/plain": [
       "array([ 2.73793255e-08,  1.99950090e-07, -7.07910566e-08, -3.10000000e+01,\n",
       "        0.00000000e+00,  0.00000000e+00,  0.00000000e+00,  0.00000000e+00,\n",
       "        0.00000000e+00])"
      ]
     },
     "execution_count": 115,
     "metadata": {},
     "output_type": "execute_result"
    }
   ],
   "source": [
    "np.array(next_orbit2.parameters)-np.array( orbit.parameters)"
   ]
  },
  {
   "cell_type": "code",
   "execution_count": 108,
   "metadata": {},
   "outputs": [
    {
     "data": {
      "text/plain": [
       "1.352638509915428e-15"
      ]
     },
     "execution_count": 108,
     "metadata": {},
     "output_type": "execute_result"
    }
   ],
   "source": [
    "next_orbit.residual()"
   ]
  },
  {
   "cell_type": "code",
   "execution_count": 110,
   "metadata": {},
   "outputs": [
    {
     "data": {
      "text/plain": [
       "array([[ 2.00816125e+00,  1.01374028e+01,  1.11253908e+01,\n",
       "        -1.40353720e+00,  2.47945576e+00, -4.92810250e+00,\n",
       "        -2.38748744e-01, -1.12657681e+00,  3.57569875e-01,\n",
       "        -6.96102188e-02,  1.76386141e-01, -8.29367991e-03,\n",
       "         2.40090279e-02, -1.05550110e-02,  1.85931832e-05,\n",
       "        -1.06120070e+01,  7.93479302e+00, -1.19937626e+01,\n",
       "        -1.74281050e+00, -8.81762180e+00,  8.85403579e-01,\n",
       "        -6.38238181e-01,  9.23568682e-01,  2.64677827e-01,\n",
       "         1.64914124e-01,  1.22727921e-02, -2.51199514e-02,\n",
       "        -1.18906723e-02, -1.08448453e-02,  1.87626012e-03]])"
      ]
     },
     "execution_count": 110,
     "metadata": {},
     "output_type": "execute_result"
    }
   ],
   "source": [
    "next_orbit2.state"
   ]
  },
  {
   "cell_type": "code",
   "execution_count": 85,
   "metadata": {},
   "outputs": [
    {
     "data": {
      "text/plain": [
       "array([[ 6.87257040e-09, -1.02774949e-08,  2.33022761e-08,\n",
       "         4.51473592e-09,  2.85524338e-08, -3.44045953e-09,\n",
       "         2.89335766e-09, -4.78498874e-09, -1.54271079e-09,\n",
       "        -1.06800410e-09, -8.74328127e-11,  1.95233895e-10,\n",
       "         1.00106654e-10,  9.83356469e-11, -1.82266186e-11,\n",
       "         1.30052613e-09,  1.31304188e-08,  2.16151408e-08,\n",
       "        -3.63583674e-09,  8.02873368e-09, -1.91492679e-08,\n",
       "        -1.08233983e-09, -5.83675586e-09,  2.08413081e-09,\n",
       "        -4.50793562e-10,  1.25653363e-09, -6.44424843e-11,\n",
       "         2.02120064e-10, -9.57004736e-11,  1.74848126e-13],\n",
       "       [-3.41283048e-21, -3.18929433e-21,  1.01323082e-20,\n",
       "        -7.17430365e-21,  2.80630868e-21,  4.11987200e-20,\n",
       "         7.13561527e-21,  7.41472294e-21, -2.68823193e-20,\n",
       "        -1.60247133e-20, -3.81628615e-20, -1.06641390e-20,\n",
       "         6.97989663e-21, -1.88361854e-20, -1.99272999e-20,\n",
       "         3.73344713e-21, -9.88553649e-21, -6.15719099e-21,\n",
       "        -1.57064234e-20,  5.14890408e-21, -5.96721077e-21,\n",
       "        -1.00555102e-20, -3.81194618e-20, -2.72180495e-20,\n",
       "         1.35456040e-21,  1.32937382e-20,  2.35369649e-20,\n",
       "         1.12427647e-20,  3.30502425e-21,  3.74063509e-20],\n",
       "       [-2.09064711e-21,  6.91405851e-21,  7.76224994e-21,\n",
       "        -8.91520588e-21,  3.20813752e-22,  1.37194813e-20,\n",
       "        -2.56366071e-20, -1.87027253e-20, -5.62356918e-21,\n",
       "        -1.56508965e-20, -8.54779455e-22, -4.65535111e-21,\n",
       "         1.81565790e-20,  3.84631656e-20,  5.91755091e-20,\n",
       "        -5.44414116e-21, -1.83621009e-20,  1.87543852e-20,\n",
       "        -1.64288040e-20,  5.12115653e-21,  1.23158850e-20,\n",
       "        -3.84453224e-20,  2.98301971e-20, -3.37141908e-20,\n",
       "         5.15735265e-20, -1.88811260e-20,  1.77933025e-20,\n",
       "        -1.65083864e-20, -2.07793587e-21, -1.76913505e-20],\n",
       "       [-9.95061644e-22,  2.36494373e-22,  1.05578854e-22,\n",
       "        -1.32349447e-21, -9.15324835e-22, -3.00508670e-21,\n",
       "        -1.05847383e-21, -2.91248829e-20, -8.60440190e-21,\n",
       "        -1.18629677e-20, -4.03587839e-21,  4.76390087e-22,\n",
       "         3.63266596e-21, -1.56137019e-20,  1.57655757e-21,\n",
       "        -1.67430855e-21, -1.00962189e-21, -9.01260025e-22,\n",
       "         2.66792196e-21,  2.52299175e-21, -4.08215521e-22,\n",
       "        -3.66924485e-21, -3.70974000e-20,  5.02256795e-21,\n",
       "        -2.47732386e-21,  9.44537712e-21, -2.15546439e-22,\n",
       "         6.37810488e-21, -8.80433936e-21,  5.41004110e-21],\n",
       "       [ 1.53029602e-21, -6.90319283e-21,  1.89683441e-21,\n",
       "         1.28972846e-22,  4.00653076e-22, -6.47381641e-22,\n",
       "         2.93596269e-21,  2.75629788e-21,  9.80066828e-22,\n",
       "         1.16280497e-20,  1.69455839e-21,  1.63603748e-21,\n",
       "         3.18813636e-22, -2.18253857e-21, -5.53031603e-21,\n",
       "        -1.43272390e-21, -6.32023043e-21,  1.31813715e-22,\n",
       "         4.41057004e-21, -2.56320270e-21, -6.22433348e-21,\n",
       "         1.87717321e-21, -1.30344860e-21,  1.28681064e-21,\n",
       "        -2.16053320e-23, -4.44424190e-21, -2.63853573e-23,\n",
       "         1.23928601e-21, -1.86209474e-20,  7.11372277e-21],\n",
       "       [-3.98704692e-21, -1.31829044e-21,  9.82426153e-23,\n",
       "        -2.59842095e-22,  2.68469980e-21, -2.20539689e-21,\n",
       "        -4.74591661e-21, -2.66249864e-21,  1.47073345e-22,\n",
       "        -1.53333408e-21,  1.86949673e-21,  1.25299679e-21,\n",
       "        -5.78108178e-21, -3.76933106e-21, -2.32891617e-20,\n",
       "         3.41252283e-21,  2.69346722e-21, -2.43320755e-22,\n",
       "         3.50274884e-21,  1.79049660e-21,  1.45749893e-21,\n",
       "        -4.19189133e-21, -5.68437361e-22,  1.16616769e-21,\n",
       "         9.04715814e-21, -1.70975615e-21,  1.05505310e-21,\n",
       "         6.47775275e-22, -5.83796665e-21,  1.09735254e-20],\n",
       "       [-3.39961456e-21,  2.24773426e-21, -1.56361707e-21,\n",
       "        -4.01515471e-21, -2.28640619e-21,  2.56707031e-21,\n",
       "        -3.42330606e-21,  1.88446346e-20, -1.69213732e-21,\n",
       "         1.56834741e-22, -8.28978782e-22,  6.22801534e-22,\n",
       "         8.58027177e-21, -2.06467804e-21, -1.99787860e-20,\n",
       "         3.43696498e-21, -2.09832509e-21,  8.70911532e-22,\n",
       "        -8.72839286e-22, -1.66662862e-21, -8.22621911e-22,\n",
       "         6.29710873e-21,  4.78578516e-21,  1.21626646e-21,\n",
       "        -6.17792082e-22, -4.23453450e-21,  7.56289516e-22,\n",
       "        -1.43419362e-20,  1.54915336e-20, -8.91308370e-21],\n",
       "       [ 1.26788432e-20,  7.29792732e-21, -7.55255671e-21,\n",
       "         1.21750964e-21, -1.74573317e-21, -5.64929825e-21,\n",
       "         2.97488524e-21, -2.14038763e-20,  1.82862201e-21,\n",
       "        -2.70192101e-21,  2.90425999e-21, -1.21761397e-21,\n",
       "         3.11665483e-21,  5.38306975e-22, -2.61198632e-20,\n",
       "         1.91787926e-21,  5.27229940e-22, -4.59735802e-21,\n",
       "         3.69338537e-24, -2.80962158e-21,  3.21550444e-21,\n",
       "        -3.14246886e-21, -2.10652994e-20,  3.85012365e-22,\n",
       "         4.31047954e-21,  4.57168405e-21,  3.94299331e-22,\n",
       "         6.60271060e-21, -5.70307538e-21,  2.42618599e-21],\n",
       "       [-4.01830087e-24,  8.02267233e-25,  4.70618740e-25,\n",
       "         2.30922120e-23,  1.18801535e-23,  5.16156645e-23,\n",
       "         4.25515543e-24,  9.76891270e-23,  6.69196435e-22,\n",
       "         1.17105843e-21, -5.72025796e-23,  1.55934267e-22,\n",
       "        -3.49271316e-23,  1.40144834e-22, -2.92288108e-22,\n",
       "         4.07611340e-24,  7.20587948e-25,  2.01846313e-23,\n",
       "        -1.63774807e-23,  1.23995112e-23, -2.69851087e-23,\n",
       "        -7.11598310e-23,  4.00380736e-23,  3.66815030e-21,\n",
       "        -1.47891311e-21,  3.84738410e-21, -3.29747372e-22,\n",
       "         7.39132840e-23, -3.17292944e-22, -4.70885490e-23],\n",
       "       [-4.15120255e-21,  1.10980556e-20, -5.27544054e-21,\n",
       "        -2.19995249e-21, -4.32592598e-21,  8.65200549e-23,\n",
       "        -8.00136278e-21, -6.81283195e-21, -1.41597411e-20,\n",
       "         1.73210191e-21, -2.32188315e-21, -2.53010776e-21,\n",
       "        -2.80478266e-21, -2.11890678e-22, -1.97944857e-20,\n",
       "         1.28580111e-21,  1.33339491e-21,  4.85098949e-21,\n",
       "        -4.04678807e-22,  3.26742727e-21,  4.80093130e-21,\n",
       "         3.75964425e-21,  4.83236673e-21, -3.54340277e-20,\n",
       "         2.31319014e-21, -6.24962306e-21, -3.41126265e-22,\n",
       "        -5.48186328e-21,  6.56403549e-21,  9.26995167e-22],\n",
       "       [-6.16581699e-23,  6.54271180e-21, -2.95192824e-21,\n",
       "        -5.55080206e-21, -6.04193595e-21, -3.04794153e-21,\n",
       "        -4.49011904e-21, -3.02436583e-21, -1.74939572e-21,\n",
       "         2.68919289e-21,  1.48004667e-21, -1.80277909e-21,\n",
       "         2.04498244e-21,  1.12541743e-21,  6.15875902e-21,\n",
       "         5.66264604e-21, -2.57829147e-21,  2.79628787e-21,\n",
       "         2.43130823e-21,  1.45558537e-21, -3.62764131e-21,\n",
       "        -4.28243085e-22,  1.36058761e-21,  2.04804096e-21,\n",
       "         1.10640497e-21, -6.26767062e-22, -2.12412637e-21,\n",
       "        -8.92303400e-22, -1.72935848e-21,  4.31070419e-21],\n",
       "       [-5.37907263e-21, -4.13260854e-21, -9.41741197e-22,\n",
       "        -1.10807363e-20,  5.28306976e-22,  8.07042395e-21,\n",
       "        -3.91478587e-21,  1.72616779e-21, -2.10596930e-21,\n",
       "        -1.37884088e-20, -2.37853076e-21, -6.64291521e-21,\n",
       "        -3.20093577e-21,  1.68466967e-21,  5.31108252e-21,\n",
       "         5.04578771e-21, -1.27849234e-22, -4.50438807e-21,\n",
       "         2.56603315e-21,  6.01201226e-21,  6.61813876e-21,\n",
       "        -3.23118180e-22,  6.32798534e-22, -1.97854894e-21,\n",
       "        -8.60576109e-21,  1.25422043e-21, -3.49934814e-21,\n",
       "         2.51933057e-21, -3.70056805e-21, -7.57921666e-21],\n",
       "       [-1.55790050e-24,  4.39198240e-24, -2.25238934e-23,\n",
       "        -1.59061028e-24, -2.79055285e-23,  3.03022344e-23,\n",
       "        -6.41084924e-23, -1.47845104e-22, -1.05050229e-22,\n",
       "        -1.45762362e-21, -5.31087210e-23,  2.07326666e-24,\n",
       "         1.34839525e-23,  3.41789855e-23,  6.14570570e-22,\n",
       "        -2.52785065e-24, -1.45485892e-23,  1.02201270e-23,\n",
       "        -5.81627465e-24,  3.93154104e-23,  2.39714804e-23,\n",
       "         3.64926214e-23, -6.41993221e-22,  4.02291745e-24,\n",
       "         1.68806855e-22,  2.20729331e-23,  4.12170184e-23,\n",
       "         8.08605557e-23,  1.89681193e-22, -2.18313357e-22],\n",
       "       [ 3.14280904e-21,  2.38258676e-21,  1.35631184e-21,\n",
       "        -4.19874027e-21,  4.81970994e-22, -1.76294012e-21,\n",
       "         4.92673446e-21, -5.43497963e-21, -1.35816227e-21,\n",
       "        -1.27210900e-21, -4.24061861e-22, -2.77950149e-21,\n",
       "        -3.43756592e-21, -2.98139735e-21, -2.50856318e-20,\n",
       "         6.27411519e-21, -1.18790623e-21, -1.76177494e-21,\n",
       "         2.97746379e-21, -1.55079209e-21,  1.95100746e-21,\n",
       "         6.26079868e-22,  4.71987847e-21,  5.24169754e-22,\n",
       "         1.54869508e-21,  2.73460901e-21,  6.66077066e-21,\n",
       "         3.04946755e-21,  2.26199966e-21,  2.60160647e-20],\n",
       "       [-1.43727661e-21, -9.99068874e-21,  6.11126875e-21,\n",
       "         1.82310491e-21,  4.80698023e-22,  6.01360923e-22,\n",
       "         4.19819764e-21, -4.68067682e-21, -6.32817951e-21,\n",
       "        -5.00567133e-22,  7.10981908e-22, -1.73086165e-22,\n",
       "         6.32972569e-21, -8.09077010e-21,  1.58037546e-20,\n",
       "         7.03055258e-21, -3.15582904e-21,  4.61777748e-21,\n",
       "        -2.04086353e-21, -2.72759773e-21, -7.53864225e-21,\n",
       "         9.97878226e-22,  1.93570326e-21,  6.71011417e-21,\n",
       "         4.62302840e-22,  1.73371920e-22,  4.56556058e-22,\n",
       "         2.18428501e-20,  1.14731689e-20, -1.36323826e-21],\n",
       "       [-2.81168024e-21,  1.46442337e-21,  4.93339685e-21,\n",
       "         3.45391299e-22,  2.41615348e-21, -1.97949251e-21,\n",
       "         2.08494183e-21,  4.50791734e-21, -9.72634699e-23,\n",
       "        -2.38860887e-22, -4.89742873e-21, -7.69701119e-21,\n",
       "         4.38763765e-21, -1.81727322e-22, -2.97484861e-20,\n",
       "         3.76814064e-21, -2.36896139e-21,  9.19828540e-21,\n",
       "         4.09926417e-21,  2.83809763e-21,  3.81130811e-21,\n",
       "        -1.68517089e-21,  1.71363716e-21,  3.71878086e-21,\n",
       "         5.03727086e-22, -2.05006661e-21,  1.72460551e-21,\n",
       "        -1.37461742e-20,  8.91442755e-21,  2.58269615e-21],\n",
       "       [-4.59512777e-21, -4.94167043e-21,  3.09606003e-21,\n",
       "        -8.01934126e-21, -1.01119743e-21, -1.49834844e-20,\n",
       "         1.58745597e-20,  6.04010282e-20,  4.14131593e-20,\n",
       "         5.05023704e-20, -1.67370394e-20,  9.59448589e-22,\n",
       "        -3.44625180e-20,  1.09946751e-20, -2.03585956e-20,\n",
       "        -4.62809345e-21,  1.66548827e-20, -2.62460160e-21,\n",
       "         1.46751971e-20,  2.35594147e-20,  8.48757345e-21,\n",
       "         8.72606720e-20, -4.34065371e-21,  3.30318767e-20,\n",
       "        -6.23893003e-20, -1.88475385e-20, -3.45691321e-20,\n",
       "        -1.06946991e-21,  1.29953639e-20,  4.16791664e-20],\n",
       "       [-1.16789127e-21,  7.71001001e-21, -1.01465531e-20,\n",
       "        -1.57932907e-20,  2.42243611e-20, -1.24295777e-20,\n",
       "         2.33891171e-20, -7.17654640e-21,  1.11718147e-20,\n",
       "        -2.05858382e-20, -4.61346626e-21, -3.83114262e-21,\n",
       "        -3.18669310e-21,  5.28394934e-21,  1.24803849e-22,\n",
       "        -6.40084468e-21,  7.84096094e-21,  1.67588046e-21,\n",
       "        -1.36441228e-20,  1.40994281e-20, -8.33794560e-21,\n",
       "         2.32356327e-20, -4.44099240e-20,  2.38894879e-20,\n",
       "        -3.54596816e-20,  2.31783253e-20, -1.28431524e-20,\n",
       "         1.57206999e-20, -7.16422176e-21,  5.60380010e-21],\n",
       "       [ 1.79630124e-21,  4.68253407e-22,  1.43908588e-22,\n",
       "         1.61835245e-22, -3.03342399e-22,  1.94767039e-21,\n",
       "        -2.43110782e-21, -3.43877519e-20,  4.09693390e-21,\n",
       "        -2.36677584e-21,  7.22458003e-21,  1.27055878e-23,\n",
       "         5.31614767e-21, -2.32834608e-20,  1.02417128e-20,\n",
       "        -3.88025875e-23, -1.97428533e-21, -9.31366551e-22,\n",
       "         2.31459099e-21,  6.47866092e-22,  2.60233074e-21,\n",
       "        -1.20715662e-21,  3.35364739e-20, -3.43173634e-21,\n",
       "         5.58248034e-21, -1.02616104e-21,  1.01018759e-21,\n",
       "        -1.12633352e-21, -9.12236423e-21, -4.39445274e-21],\n",
       "       [ 7.17957309e-22, -1.07301447e-21,  2.73036398e-21,\n",
       "         3.49861443e-21,  5.65061679e-22, -2.10295034e-21,\n",
       "         4.21060384e-22, -1.08880260e-21,  1.15948503e-21,\n",
       "         2.15461924e-21, -1.97765309e-21,  1.97796373e-21,\n",
       "        -3.08765269e-21, -2.50462246e-20,  1.06554352e-20,\n",
       "         2.65755709e-21,  3.84569590e-21, -3.00059427e-22,\n",
       "         8.08996012e-22, -3.27622396e-21, -1.71674972e-21,\n",
       "         1.54012818e-21,  4.36840889e-23,  2.20339620e-21,\n",
       "        -8.21329834e-22,  4.99122717e-22, -5.61830790e-22,\n",
       "        -6.69453462e-21, -3.43611409e-21, -4.19566803e-21],\n",
       "       [-4.42585929e-22, -5.52307390e-21, -5.86680020e-22,\n",
       "        -1.20803917e-22, -7.02920632e-22, -6.41114719e-22,\n",
       "         1.20326107e-21, -2.99816571e-22,  8.25147300e-22,\n",
       "         1.78586518e-21, -9.25716928e-22, -7.62100769e-22,\n",
       "        -5.73422744e-22, -5.05421536e-21, -4.42229226e-21,\n",
       "        -3.04161358e-21,  2.88169532e-21, -3.99942817e-22,\n",
       "        -2.04672045e-21,  2.05294632e-21,  1.66950563e-21,\n",
       "        -3.42925240e-21, -1.24266768e-21, -2.20239168e-21,\n",
       "         1.00077599e-21,  3.79528923e-22, -6.75682493e-22,\n",
       "        -2.42690598e-21, -1.43005016e-20, -3.07069660e-21],\n",
       "       [ 3.66327690e-21,  3.36515696e-22,  1.04811226e-21,\n",
       "        -1.17929831e-21,  6.65204564e-22, -4.13964076e-21,\n",
       "        -4.99040911e-22, -2.87333984e-21,  5.25614420e-22,\n",
       "         3.60176496e-21, -1.54035912e-21, -3.25733831e-22,\n",
       "         1.49648654e-21,  7.04304138e-22,  8.87303835e-21,\n",
       "         7.07497538e-21,  4.24518178e-22, -4.58991959e-22,\n",
       "         7.66337916e-21,  2.85377945e-21, -3.08767474e-21,\n",
       "         2.00710174e-21,  1.63783170e-20,  3.90668955e-22,\n",
       "         2.94617805e-21, -3.56159001e-21,  5.72739209e-22,\n",
       "        -6.68915726e-21, -6.42371037e-21,  4.04982182e-21],\n",
       "       [ 7.14267442e-22,  1.14642570e-21,  3.91645419e-21,\n",
       "        -4.72431817e-21, -2.27400264e-21, -1.06080817e-21,\n",
       "        -1.09586006e-21,  2.40842059e-20,  2.31323169e-21,\n",
       "        -1.07276350e-21, -1.79457247e-21, -2.02807486e-21,\n",
       "        -3.84214452e-21, -2.17097884e-22, -5.09677019e-21,\n",
       "         5.77393291e-21,  1.56699617e-21,  5.25936901e-21,\n",
       "        -2.70224444e-21,  6.33398140e-21,  6.00633659e-21,\n",
       "        -4.69237769e-21, -1.29152970e-20, -1.40014664e-22,\n",
       "        -3.15578976e-21, -1.24684042e-21,  4.38714399e-22,\n",
       "         1.72054330e-21,  2.39748316e-22, -5.70934510e-21],\n",
       "       [ 5.97228667e-24, -6.46772865e-25,  2.01247595e-23,\n",
       "        -1.80481284e-23,  6.99944816e-24, -4.00709612e-23,\n",
       "        -4.32844916e-23,  4.10387260e-23,  3.68586790e-21,\n",
       "         7.34255200e-22, -2.97103189e-21,  2.21161069e-25,\n",
       "        -7.25121220e-24, -1.47046009e-22, -1.71008971e-22,\n",
       "         3.36346595e-24, -3.98839900e-24,  1.21869165e-24,\n",
       "        -3.35401677e-23,  8.68405248e-25, -5.80973987e-23,\n",
       "         3.48396903e-23, -1.21914097e-22, -5.29480514e-22,\n",
       "         3.75340379e-21, -6.70358933e-22, -1.74371567e-22,\n",
       "        -9.23061773e-23, -9.12386866e-24, -5.62349926e-23],\n",
       "       [ 4.65321880e-21, -4.08628705e-21, -1.61023622e-21,\n",
       "        -2.36711574e-22,  2.43155484e-21,  2.56748180e-21,\n",
       "        -4.29838924e-21,  5.03093388e-21, -3.65465843e-20,\n",
       "         2.03341033e-21,  2.39779225e-21,  3.74575984e-21,\n",
       "         5.86320579e-22,  4.03684731e-21, -1.69616996e-21,\n",
       "         3.30074108e-21, -2.27067798e-21,  2.95092333e-21,\n",
       "         4.42278090e-21,  9.69418452e-21,  3.03183533e-23,\n",
       "        -3.41441699e-22, -1.33910106e-21,  1.46950762e-20,\n",
       "        -1.74804617e-21, -3.86478419e-21,  1.82089587e-21,\n",
       "        -5.92689862e-21, -4.30928864e-23, -4.23884518e-21],\n",
       "       [ 9.19188413e-22, -7.81527769e-21, -8.54233036e-21,\n",
       "         1.65069941e-21, -1.57911406e-21, -2.69649092e-21,\n",
       "         9.14966691e-23,  2.45339919e-21, -2.48705537e-22,\n",
       "         1.35139225e-21,  1.08897530e-21, -1.70086919e-21,\n",
       "        -9.33754653e-21,  4.39812384e-22,  1.32698888e-21,\n",
       "        -5.38678475e-21, -2.49315983e-21,  4.61760575e-21,\n",
       "         3.58043525e-21,  7.01426887e-22,  3.22189178e-21,\n",
       "         4.23733716e-21,  9.34940774e-22,  2.75144940e-21,\n",
       "        -7.80561715e-22, -6.28172058e-22, -6.50482319e-22,\n",
       "        -8.96604942e-21,  2.42543180e-21,  3.78983923e-21],\n",
       "       [ 5.38372539e-22, -2.87060591e-21,  4.09432033e-21,\n",
       "         2.87201207e-22,  4.52533800e-21, -9.62302847e-21,\n",
       "         3.11431600e-21,  3.80082319e-21,  1.20069252e-21,\n",
       "         1.19157511e-20,  9.17541684e-22,  2.17080206e-21,\n",
       "        -2.84790778e-21,  6.99723957e-21, -1.24173661e-20,\n",
       "         3.83553474e-21, -1.51619496e-21,  5.96060871e-22,\n",
       "         7.74512661e-22,  1.68760238e-21,  4.05419441e-21,\n",
       "         2.40595169e-21, -1.44720243e-21, -3.19980755e-21,\n",
       "        -1.68646163e-20, -1.79686580e-21,  1.24187917e-21,\n",
       "         8.72834798e-21, -9.23135007e-22, -8.02575241e-21],\n",
       "       [-6.90240509e-25, -1.38234388e-23,  1.20392604e-23,\n",
       "        -2.04484288e-25,  4.27473454e-23,  2.82364486e-23,\n",
       "         1.59337064e-23, -6.55607026e-22,  5.03939993e-23,\n",
       "        -1.92703938e-21,  1.00816279e-22, -2.19581464e-23,\n",
       "         1.43296763e-22,  1.51201117e-22, -3.29542600e-21,\n",
       "         2.79641152e-24, -4.87686522e-25,  2.21809183e-23,\n",
       "         7.27379648e-24,  1.63916697e-23, -3.19078643e-23,\n",
       "         4.40966406e-23,  1.71778439e-22,  2.04081525e-23,\n",
       "         6.41128353e-23,  1.03132435e-22,  4.56310044e-23,\n",
       "         1.20658127e-22, -6.92928116e-22, -2.84689071e-21],\n",
       "       [ 1.03141459e-21, -7.13632600e-22,  4.53396410e-21,\n",
       "         2.40447987e-21, -2.95414794e-21, -2.49216768e-21,\n",
       "         4.92155518e-21,  8.95039447e-21,  3.20912662e-21,\n",
       "        -2.73089415e-21,  1.44678863e-21, -5.28494778e-22,\n",
       "        -3.39121250e-21, -1.39122334e-20, -2.35535213e-21,\n",
       "         4.56511566e-21,  4.52545839e-21, -6.46084796e-21,\n",
       "        -1.49223038e-20, -6.82271359e-21,  1.29555084e-20,\n",
       "        -4.62315169e-22,  6.74704379e-21, -3.50221841e-22,\n",
       "        -1.03420537e-21, -2.26338100e-21, -7.77436689e-22,\n",
       "        -6.96377929e-21,  2.82246980e-20, -8.68539780e-21],\n",
       "       [-3.97002477e-21, -4.72523705e-21,  5.67053039e-22,\n",
       "         1.97014890e-21, -5.64621628e-21,  5.91538792e-21,\n",
       "        -2.35196140e-21, -3.75223230e-21, -2.14978075e-21,\n",
       "        -6.84284307e-22, -5.64621916e-22,  1.13959695e-21,\n",
       "        -3.36050764e-22,  1.46770041e-23,  2.48812850e-20,\n",
       "        -7.09340095e-22, -5.67381684e-21,  4.14051350e-21,\n",
       "         1.23989382e-21,  3.22143130e-21,  3.98507154e-21,\n",
       "         4.69992805e-21, -4.38005517e-21,  2.59032899e-21,\n",
       "         3.36384537e-22,  3.72823133e-21,  1.53404911e-21,\n",
       "        -7.99219335e-22,  1.09054408e-20,  9.27439835e-21],\n",
       "       [-8.29259140e-22,  6.55874716e-21,  6.96657986e-21,\n",
       "        -1.78674833e-22,  3.22418170e-21,  1.27978220e-22,\n",
       "         2.88431526e-21, -3.35489036e-22, -4.09193967e-21,\n",
       "        -4.75054685e-22,  3.63766449e-22,  1.13517047e-21,\n",
       "         6.77788521e-21,  3.43018808e-21, -9.80197399e-22,\n",
       "        -7.82205753e-22,  2.74467781e-21,  3.30052255e-21,\n",
       "        -4.82234772e-21, -3.98684549e-21, -1.11242540e-20,\n",
       "        -3.23466479e-21, -1.43430319e-21, -6.15053737e-21,\n",
       "        -4.94677701e-21,  4.27054471e-21,  1.78059904e-21,\n",
       "        -2.80288589e-21, -3.39021446e-22, -6.91962700e-22]])"
      ]
     },
     "execution_count": 85,
     "metadata": {},
     "output_type": "execute_result"
    }
   ],
   "source": [
    "next_orbit.spatiotemporal_mapping().state"
   ]
  },
  {
   "cell_type": "code",
   "execution_count": 84,
   "metadata": {},
   "outputs": [
    {
     "data": {
      "text/plain": [
       "array([[ 4.85049899e+00,  1.28832957e+00,  2.77816895e+01,\n",
       "         2.01012684e+00,  1.34235019e+01,  3.66802474e+01,\n",
       "         6.37011084e+00,  3.87757497e+01, -2.41350362e+01,\n",
       "         6.58801599e+00, -2.81225919e+01,  2.04925518e+00,\n",
       "        -7.78311188e+00,  4.78379176e+00, -2.27386743e-02,\n",
       "        -1.63382386e+00,  1.45167993e+01, -1.34993536e-01,\n",
       "        -3.39980020e+00,  2.21613447e+01, -1.92006466e+01,\n",
       "         1.14041929e+01, -3.80144211e+01, -1.58070172e+01,\n",
       "        -1.75094773e+01, -1.15125652e+00,  5.78847515e+00,\n",
       "         4.01523086e+00,  4.78965128e+00, -1.12111905e+00]])"
      ]
     },
     "execution_count": 84,
     "metadata": {},
     "output_type": "execute_result"
    }
   ],
   "source": [
    "next_orbit2.spatiotemporal_mapping().state"
   ]
  },
  {
   "cell_type": "code",
   "execution_count": 50,
   "metadata": {},
   "outputs": [
    {
     "data": {
      "text/plain": [
       "array([[-4.12038501e-08,  4.57397857e-08,  3.96994575e-08,\n",
       "         2.83688278e-07,  6.68203111e-08, -5.58377997e-08,\n",
       "        -1.80326580e-07, -1.23910863e-07, -1.92348823e-07,\n",
       "         3.49543208e-07, -1.22373225e-07,  4.02715387e-07,\n",
       "        -2.22346468e-07,  1.47342171e-07, -1.31646574e-07,\n",
       "        -1.23259617e-07,  2.59225433e-07, -6.63468915e-08,\n",
       "         3.07952011e-07, -4.58293610e-07, -2.99422709e-11,\n",
       "        -1.09845081e-07,  2.05336525e-07,  1.63004383e-08,\n",
       "         4.65319798e-07, -3.23526165e-07,  3.11944760e-07,\n",
       "        -4.75561839e-07,  3.25234407e-07, -3.84836816e-07]])"
      ]
     },
     "execution_count": 50,
     "metadata": {},
     "output_type": "execute_result"
    }
   ],
   "source": [
    "reqva.spatiotemporal_mapping().state"
   ]
  },
  {
   "cell_type": "code",
   "execution_count": 56,
   "metadata": {},
   "outputs": [
    {
     "data": {
      "text/plain": [
       "array([[ 0.00000000e+00,  0.00000000e+00, -3.99680289e-15,\n",
       "        -1.77635684e-15, -4.44089210e-16, -1.16573418e-15,\n",
       "        -2.44249065e-15, -1.29896094e-14, -1.79023463e-14,\n",
       "        -5.64548408e-14,  4.08319212e-14,  2.30371278e-15,\n",
       "        -1.27009514e-13,  7.69523334e-14,  1.36356638e-13,\n",
       "         2.77555756e-16, -1.77635684e-15,  0.00000000e+00,\n",
       "        -2.77555756e-16, -3.77475828e-15,  1.77635684e-15,\n",
       "        -1.33226763e-15, -4.44089210e-15, -9.99200722e-16,\n",
       "        -1.49116830e-14,  2.93098879e-14,  1.84279675e-14,\n",
       "         1.93942085e-15, -1.25005908e-13, -3.39470476e-16]])"
      ]
     },
     "execution_count": 56,
     "metadata": {},
     "output_type": "execute_result"
    }
   ],
   "source": [
    "rpo.spatiotemporal_mapping().state[0,:] - reqva.spatiotemporal_mapping().state"
   ]
  },
  {
   "cell_type": "code",
   "execution_count": 5,
   "metadata": {},
   "outputs": [],
   "source": [
    "rpo.L = rpo.L + 0.01\n",
    "reqva.L = reqva.L + 0.01"
   ]
  },
  {
   "cell_type": "code",
   "execution_count": 6,
   "metadata": {},
   "outputs": [
    {
     "data": {
      "text/plain": [
       "(0.0004371086243667791, 0.00043710862436699595)"
      ]
     },
     "execution_count": 6,
     "metadata": {},
     "output_type": "execute_result"
    }
   ],
   "source": [
    "rpo.residual(), reqva.residual()"
   ]
  },
  {
   "cell_type": "code",
   "execution_count": 19,
   "metadata": {},
   "outputs": [
    {
     "data": {
      "text/plain": [
       "(1, 30)"
      ]
     },
     "execution_count": 19,
     "metadata": {},
     "output_type": "execute_result"
    }
   ],
   "source": [
    "reqva_orbit.state.shape"
   ]
  },
  {
   "cell_type": "code",
   "execution_count": 8,
   "metadata": {},
   "outputs": [
    {
     "data": {
      "text/plain": [
       "(1, 30)"
      ]
     },
     "execution_count": 8,
     "metadata": {},
     "output_type": "execute_result"
    }
   ],
   "source": [
    "reqva_orbit.state.shape"
   ]
  },
  {
   "cell_type": "code",
   "execution_count": 6,
   "metadata": {},
   "outputs": [
    {
     "data": {
      "image/png": "[encoded data removed]",
      "text/plain": [
       "<Figure size 195.028x175.408 with 2 Axes>"
      ]
     },
     "metadata": {
      "needs_background": "light"
     },
     "output_type": "display_data"
    }
   ],
   "source": [
    "reqva_orbit.plot()"
   ]
  },
  {
   "cell_type": "code",
   "execution_count": 12,
   "metadata": {},
   "outputs": [
    {
     "data": {
      "text/plain": [
       "(31, 14)"
      ]
     },
     "execution_count": 12,
     "metadata": {},
     "output_type": "execute_result"
    }
   ],
   "source": [
    "self.state.shape"
   ]
  },
  {
   "cell_type": "code",
   "execution_count": 15,
   "metadata": {},
   "outputs": [
    {
     "data": {
      "text/plain": [
       "(1, 14)"
      ]
     },
     "execution_count": 15,
     "metadata": {},
     "output_type": "execute_result"
    }
   ],
   "source": [
    "np.tile(self.state[-1, :].reshape(1, -1), (1, 1)).shape"
   ]
  },
  {
   "cell_type": "code",
   "execution_count": null,
   "metadata": {},
   "outputs": [],
   "source": []
  },
  {
   "cell_type": "code",
   "execution_count": null,
   "metadata": {},
   "outputs": [],
   "source": []
  },
  {
   "cell_type": "code",
   "execution_count": 3,
   "metadata": {},
   "outputs": [],
   "source": [
    "import pytest"
   ]
  },
  {
   "cell_type": "code",
   "execution_count": 7,
   "metadata": {},
   "outputs": [],
   "source": [
    "import time\n",
    "sr_orbit = read_h5(\"C:\\\\Users\\\\Matt\\\\Desktop\\\\orbithunter_test_data\\\\none_000_021.h5\")\n",
    "orbit = read_h5(\"C:\\\\Users\\\\Matt\\\\Desktop\\\\orbithunter_test_data\\\\rpo_L21p95_T72p33.h5\", state_type='modes')\n",
    "orbit.L += 0.01\n",
    "self = orbit.copy()\n",
    "other = orbit.spatiotemporal_mapping()"
   ]
  },
  {
   "cell_type": "code",
   "execution_count": 29,
   "metadata": {},
   "outputs": [],
   "source": [
    "i = np.eye(32, k=1)"
   ]
  },
  {
   "cell_type": "code",
   "execution_count": 41,
   "metadata": {},
   "outputs": [],
   "source": [
    "from scipy.linalg import eig, inv"
   ]
  },
  {
   "cell_type": "code",
   "execution_count": 38,
   "metadata": {},
   "outputs": [],
   "source": [
    "?eig"
   ]
  },
  {
   "cell_type": "code",
   "execution_count": 45,
   "metadata": {},
   "outputs": [
    {
     "data": {
      "text/plain": [
       "array([[1.        , 0.89442719],\n",
       "       [0.        , 0.4472136 ]])"
      ]
     },
     "execution_count": 45,
     "metadata": {},
     "output_type": "execute_result"
    }
   ],
   "source": [
    "V"
   ]
  },
  {
   "cell_type": "code",
   "execution_count": 46,
   "metadata": {},
   "outputs": [
    {
     "data": {
      "text/plain": [
       "(array([4.+0.j, 9.+0.j]),\n",
       " array([[1.        , 0.89442719],\n",
       "        [0.        , 0.4472136 ]]))"
      ]
     },
     "execution_count": 46,
     "metadata": {},
     "output_type": "execute_result"
    }
   ],
   "source": [
    "eig([[4,10],[0,9]])"
   ]
  },
  {
   "cell_type": "code",
   "execution_count": 47,
   "metadata": {},
   "outputs": [],
   "source": [
    "LAMBDA, V = eig([[2,2],[0,3]])"
   ]
  },
  {
   "cell_type": "code",
   "execution_count": 49,
   "metadata": {},
   "outputs": [
    {
     "data": {
      "text/plain": [
       "array([[2.+0.j, 0.+0.j],\n",
       "       [0.+0.j, 3.+0.j]])"
      ]
     },
     "execution_count": 49,
     "metadata": {},
     "output_type": "execute_result"
    }
   ],
   "source": []
  },
  {
   "cell_type": "code",
   "execution_count": 50,
   "metadata": {},
   "outputs": [
    {
     "data": {
      "text/plain": [
       "array([[2.+0.j, 2.+0.j],\n",
       "       [0.+0.j, 3.+0.j]])"
      ]
     },
     "execution_count": 50,
     "metadata": {},
     "output_type": "execute_result"
    }
   ],
   "source": [
    "np.dot(np.dot(V, np.diag(LAMBDA)), inv(V))"
   ]
  },
  {
   "cell_type": "code",
   "execution_count": 35,
   "metadata": {},
   "outputs": [
    {
     "data": {
      "text/plain": [
       "array([[0., 0., 0., ..., 0., 0., 0.],\n",
       "       [0., 0., 0., ..., 0., 0., 0.],\n",
       "       [0., 0., 0., ..., 0., 0., 0.],\n",
       "       ...,\n",
       "       [0., 0., 0., ..., 0., 0., 0.],\n",
       "       [0., 0., 0., ..., 0., 0., 0.],\n",
       "       [0., 0., 0., ..., 0., 0., 0.]])"
      ]
     },
     "execution_count": 35,
     "metadata": {},
     "output_type": "execute_result"
    }
   ],
   "source": [
    "m = i.copy()\n",
    "for x in range(2, m.shape[1]+1):\n",
    "    m = np.dot(m, i)\n",
    "m"
   ]
  },
  {
   "cell_type": "code",
   "execution_count": 36,
   "metadata": {},
   "outputs": [
    {
     "data": {
      "text/plain": [
       "32"
      ]
     },
     "execution_count": 36,
     "metadata": {},
     "output_type": "execute_result"
    }
   ],
   "source": [
    "max(list(range(2, m.shape[1]+1)))"
   ]
  },
  {
   "cell_type": "code",
   "execution_count": 26,
   "metadata": {},
   "outputs": [
    {
     "ename": "AttributeError",
     "evalue": "OrbitKS has no attribute called ' change_reference_frame '",
     "output_type": "error",
     "traceback": [
      "\u001b[1;31m---------------------------------------------------------------------------\u001b[0m",
      "\u001b[1;31mAttributeError\u001b[0m                            Traceback (most recent call last)",
      "\u001b[1;32m<ipython-input-26-026104bb3ce9>\u001b[0m in \u001b[0;36m<module>\u001b[1;34m\u001b[0m\n\u001b[1;32m----> 1\u001b[1;33m \u001b[0mself\u001b[0m\u001b[1;33m.\u001b[0m\u001b[0mchange_reference_frame\u001b[0m\u001b[1;33m(\u001b[0m\u001b[1;33m)\u001b[0m\u001b[1;33m\u001b[0m\u001b[1;33m\u001b[0m\u001b[0m\n\u001b[0m",
      "\u001b[1;32m~\\Desktop\\orbithunter\\orbithunter\\orbit.py\u001b[0m in \u001b[0;36m__getattr__\u001b[1;34m(self, attr)\u001b[0m\n\u001b[0;32m    204\u001b[0m             \u001b[1;32melse\u001b[0m\u001b[1;33m:\u001b[0m\u001b[1;33m\u001b[0m\u001b[1;33m\u001b[0m\u001b[0m\n\u001b[0;32m    205\u001b[0m                 \u001b[0merror_message\u001b[0m \u001b[1;33m=\u001b[0m \u001b[1;34m' '\u001b[0m\u001b[1;33m.\u001b[0m\u001b[0mjoin\u001b[0m\u001b[1;33m(\u001b[0m\u001b[1;33m[\u001b[0m\u001b[0mself\u001b[0m\u001b[1;33m.\u001b[0m\u001b[0m__class__\u001b[0m\u001b[1;33m.\u001b[0m\u001b[0m__name__\u001b[0m\u001b[1;33m,\u001b[0m \u001b[1;34m'has no attribute called \\' {} \\''\u001b[0m\u001b[1;33m.\u001b[0m\u001b[0mformat\u001b[0m\u001b[1;33m(\u001b[0m\u001b[0mattr\u001b[0m\u001b[1;33m)\u001b[0m\u001b[1;33m]\u001b[0m\u001b[1;33m)\u001b[0m\u001b[1;33m\u001b[0m\u001b[1;33m\u001b[0m\u001b[0m\n\u001b[1;32m--> 206\u001b[1;33m                 \u001b[1;32mraise\u001b[0m \u001b[0mAttributeError\u001b[0m\u001b[1;33m(\u001b[0m\u001b[0merror_message\u001b[0m\u001b[1;33m)\u001b[0m\u001b[1;33m\u001b[0m\u001b[1;33m\u001b[0m\u001b[0m\n\u001b[0m\u001b[0;32m    207\u001b[0m         \u001b[1;32mexcept\u001b[0m \u001b[0mValueError\u001b[0m\u001b[1;33m:\u001b[0m\u001b[1;33m\u001b[0m\u001b[1;33m\u001b[0m\u001b[0m\n\u001b[0;32m    208\u001b[0m             \u001b[0mprint\u001b[0m\u001b[1;33m(\u001b[0m\u001b[1;34m'Attribute is not of readable type'\u001b[0m\u001b[1;33m)\u001b[0m\u001b[1;33m\u001b[0m\u001b[1;33m\u001b[0m\u001b[0m\n",
      "\u001b[1;31mAttributeError\u001b[0m: OrbitKS has no attribute called ' change_reference_frame '"
     ]
    }
   ],
   "source": [
    "self.change_reference_frame()"
   ]
  },
  {
   "cell_type": "code",
   "execution_count": 19,
   "metadata": {},
   "outputs": [
    {
     "data": {
      "image/png": "[encoded data removed]",
      "text/plain": [
       "<Figure size 504x504 with 2 Axes>"
      ]
     },
     "metadata": {
      "needs_background": "light"
     },
     "output_type": "display_data"
    },
    {
     "data": {
      "image/png": "[encoded data removed]",
      "text/plain": [
       "<Figure size 504x504 with 2 Axes>"
      ]
     },
     "metadata": {
      "needs_background": "light"
     },
     "output_type": "display_data"
    },
    {
     "data": {
      "text/plain": [
       "(None, None)"
      ]
     },
     "execution_count": 19,
     "metadata": {},
     "output_type": "execute_result"
    }
   ],
   "source": [
    "self.plot(figsize=(7,7)), self.plot(fundamental_domain=False,figsize=(7,7))"
   ]
  },
  {
   "cell_type": "code",
   "execution_count": 2,
   "metadata": {},
   "outputs": [],
   "source": [
    "read_h5(\"C:\\\\Users\\\\Matt\\\\Desktop\\\\orbithunter_test_data\\\\none_1001.h5\").to_h5(directory='local')"
   ]
  },
  {
   "cell_type": "code",
   "execution_count": 6,
   "metadata": {},
   "outputs": [
    {
     "data": {
      "text/plain": [
       "(448, 14)"
      ]
     },
     "execution_count": 6,
     "metadata": {},
     "output_type": "execute_result"
    }
   ],
   "source": [
    "np.tile(np.eye(self.M-2), (self.N,1)).shape"
   ]
  },
  {
   "cell_type": "code",
   "execution_count": 3,
   "metadata": {},
   "outputs": [
    {
     "data": {
      "text/plain": [
       "array([[0.]])"
      ]
     },
     "execution_count": 3,
     "metadata": {},
     "output_type": "execute_result"
    }
   ],
   "source": [
    "np.zeros([1, 1])"
   ]
  },
  {
   "cell_type": "code",
   "execution_count": 21,
   "metadata": {},
   "outputs": [
    {
     "name": "stdout",
     "output_type": "stream",
     "text": [
      "53.2 ms ± 1.61 ms per loop (mean ± std. dev. of 7 runs, 10 loops each)\n"
     ]
    }
   ],
   "source": [
    "%%timeit\n",
    "rfft(np.random.randn(1024, 1024), norm='ortho', axis=0, workers=-1)"
   ]
  },
  {
   "cell_type": "code",
   "execution_count": 22,
   "metadata": {},
   "outputs": [
    {
     "name": "stdout",
     "output_type": "stream",
     "text": [
      "69 ms ± 857 µs per loop (mean ± std. dev. of 7 runs, 10 loops each)\n"
     ]
    }
   ],
   "source": [
    "%%timeit\n",
    "rfft(np.random.randn(1024, 1024), norm='ortho', axis=0)"
   ]
  },
  {
   "cell_type": "code",
   "execution_count": 16,
   "metadata": {},
   "outputs": [],
   "source": [
    "np.random.seed(0)\n",
    "np.random.randn()"
   ]
  },
  {
   "cell_type": "code",
   "execution_count": 4,
   "metadata": {},
   "outputs": [
    {
     "name": "stdout",
     "output_type": "stream",
     "text": [
      "212 µs ± 6.1 µs per loop (mean ± std. dev. of 7 runs, 1000 loops each)\n"
     ]
    }
   ],
   "source": [
    "%%timeit\n",
    "assert self.state_type == 'modes', 'Convert to spatiotemporal Fourier mode basis before computations.'\n",
    "modes = self.state\n",
    "elementwise_dt = self.elementwise_dtn(self.parameters)\n",
    "elementwise_dx2 = self.elementwise_dxn(self.parameters, power=2)\n",
    "elementwise_dx4 = self.elementwise_dxn(self.parameters, power=4)\n",
    "\n",
    "dt = swap_modes(np.multiply(elementwise_dt, modes), dimension='time')\n",
    "dx2 = np.multiply(elementwise_dx2, modes)\n",
    "dx4 = np.multiply(elementwise_dx4, modes)\n",
    "linear_modes = dt + dx2 + dx4\n",
    "\n",
    "# Return Spatial derivative with 1/2 factor. The conversion to modes does not do anything unless original\n",
    "# state has discrete symmetry\n",
    "orbit_field = self.convert(to='field')\n",
    "pseudospectral_modes = orbit_field.statemul(orbit_field).convert(to='modes').state\n",
    "# Return Spatial derivative with 1/2 factor. The conversion to modes does not do anything unless original\n",
    "# state has discrete symmetry\n",
    "nonlinear_modes = 0.5 * swap_modes(np.multiply(self.elementwise_dxn(self.parameters),\n",
    "                                    pseudospectral_modes), dimension='space')\n",
    "\n",
    "mapping_modes = linear_modes + nonlinear_modes\n",
    "self.__class__(state=mapping_modes, state_type='modes', T=self.T, L=self.L)"
   ]
  },
  {
   "cell_type": "code",
   "execution_count": 5,
   "metadata": {},
   "outputs": [
    {
     "name": "stdout",
     "output_type": "stream",
     "text": [
      "208 µs ± 4.87 µs per loop (mean ± std. dev. of 7 runs, 1000 loops each)\n"
     ]
    }
   ],
   "source": [
    "%%timeit\n",
    "assert self.state_type == 'modes', 'Convert to spatiotemporal Fourier mode basis before computations.'\n",
    "modes = self.state\n",
    "# initialize fourier frequency multipliers for derivatives\n",
    "elementwise_dt = self.elementwise_dtn(self.parameters)\n",
    "elementwise_dx2 = self.elementwise_dxn(self.parameters, power=2)\n",
    "elementwise_dx4 = self.elementwise_dxn(self.parameters, power=4)\n",
    "\n",
    "# multiply to produce derivatives of modes\n",
    "dt = swap_modes(np.multiply(elementwise_dt, modes), dimension='time')\n",
    "dx2 = np.multiply(elementwise_dx2, modes)\n",
    "dx4 = np.multiply(elementwise_dx4, modes)\n",
    "# aggregate into linear term of KSe\n",
    "linear_modes = dt + dx2 + dx4\n",
    "\n",
    "# compute nonlinear term 1/2 * (u**2)_x\n",
    "orbit_field = self.convert(to='field')\n",
    "pseudospectral_modes = orbit_field.statemul(orbit_field).convert(to='modes').state\n",
    "nonlinear_modes = 0.5 * swap_modes(np.multiply(self.elementwise_dxn(self.parameters),\n",
    "                                    pseudospectral_modes), dimension='space')\n",
    "\n",
    "# combine linear and nonlinear parts for full mapping\n",
    "mapping_modes = linear_modes + nonlinear_modes"
   ]
  },
  {
   "cell_type": "code",
   "execution_count": 13,
   "metadata": {},
   "outputs": [
    {
     "name": "stdout",
     "output_type": "stream",
     "text": [
      "62 ns ± 0.583 ns per loop (mean ± std. dev. of 7 runs, 10000000 loops each)\n"
     ]
    }
   ],
   "source": [
    "%%timeit\n",
    "other.state"
   ]
  },
  {
   "cell_type": "code",
   "execution_count": 12,
   "metadata": {},
   "outputs": [
    {
     "name": "stdout",
     "output_type": "stream",
     "text": [
      "265 ns ± 4.1 ns per loop (mean ± std. dev. of 7 runs, 1000000 loops each)\n"
     ]
    }
   ],
   "source": [
    "%%timeit\n",
    "other.state.ravel()"
   ]
  },
  {
   "cell_type": "code",
   "execution_count": 11,
   "metadata": {},
   "outputs": [
    {
     "name": "stdout",
     "output_type": "stream",
     "text": [
      "248 µs ± 5.68 µs per loop (mean ± std. dev. of 7 runs, 1000 loops each)\n"
     ]
    }
   ],
   "source": [
    "%%timeit\n",
    "assert self.state_type == 'modes', 'Convert to spatiotemporal Fourier mode basis before computations.'\n",
    "# Compute the linear terms u_t + u_xx + u_xxxx\n",
    "linear_modes = (self.dt() + self.dx(power=2)\n",
    "                + self.dx(power=4))\n",
    "\n",
    "# compute nonlinear term 1/2 * (u**2)_x\n",
    "orbit_field = self.convert(to='field')\n",
    "nonlinear_modes = orbit_field.pseudospectral(orbit_field)\n",
    "mapping_modes = linear_modes + nonlinear_modes\n",
    "# self.__class__(state=mapping_modes, state_type='modes', T=self.T, L=self.L)"
   ]
  },
  {
   "cell_type": "code",
   "execution_count": 7,
   "metadata": {},
   "outputs": [
    {
     "name": "stdout",
     "output_type": "stream",
     "text": [
      "222 µs ± 5.51 µs per loop (mean ± std. dev. of 7 runs, 1000 loops each)\n"
     ]
    }
   ],
   "source": [
    "%%timeit\n",
    "assert self.state_type == 'modes', 'Convert to spatiotemporal Fourier mode basis before computations.'\n",
    "linear_modes = (self.dt(return_modes=True) + self.dx(power=2, return_modes=True)\n",
    "                + self.dx(power=4, return_modes=True))\n",
    "\n",
    "orbit_field = self.convert(to='field')\n",
    "nonlinear_modes = orbit_field.pseudospectral(orbit_field, return_modes=True)\n",
    "mapping_modes = linear_modes + nonlinear_modes\n",
    "# self.__class__(state=mapping_modes, state_type='modes', T=self.T, L=self.L)"
   ]
  },
  {
   "cell_type": "code",
   "execution_count": 36,
   "metadata": {},
   "outputs": [
    {
     "name": "stdout",
     "output_type": "stream",
     "text": [
      "14.8 µs ± 154 ns per loop (mean ± std. dev. of 7 runs, 100000 loops each)\n"
     ]
    }
   ],
   "source": [
    "%%timeit\n",
    "orbit.dt(return_modes=True)"
   ]
  },
  {
   "cell_type": "code",
   "execution_count": 39,
   "metadata": {},
   "outputs": [
    {
     "data": {
      "text/plain": [
       "9.0"
      ]
     },
     "execution_count": 39,
     "metadata": {},
     "output_type": "execute_result"
    }
   ],
   "source": [
    "test = np.ones(9)\n",
    "test.dot(test)"
   ]
  },
  {
   "cell_type": "code",
   "execution_count": 37,
   "metadata": {},
   "outputs": [
    {
     "name": "stdout",
     "output_type": "stream",
     "text": [
      "18.3 µs ± 181 ns per loop (mean ± std. dev. of 7 runs, 100000 loops each)\n"
     ]
    }
   ],
   "source": [
    "%%timeit\n",
    "orbit.dt()"
   ]
  },
  {
   "cell_type": "code",
   "execution_count": null,
   "metadata": {},
   "outputs": [],
   "source": [
    "# power = 1\n",
    "9.1 µs ± 222 w/ , 5.82 µs ± 223  w/o"
   ]
  },
  {
   "cell_type": "code",
   "execution_count": null,
   "metadata": {},
   "outputs": [],
   "source": [
    "# power = 2\n",
    "9.1 µs ± 222 w/ , 5.82 µs ± 223  w/o"
   ]
  },
  {
   "cell_type": "code",
   "execution_count": 2,
   "metadata": {
    "scrolled": true
   },
   "outputs": [],
   "source": []
  },
  {
   "cell_type": "code",
   "execution_count": 4,
   "metadata": {},
   "outputs": [
    {
     "data": {
      "text/plain": [
       "(31, 30)"
      ]
     },
     "execution_count": 4,
     "metadata": {},
     "output_type": "execute_result"
    }
   ],
   "source": [
    "%%timeit"
   ]
  },
  {
   "cell_type": "code",
   "execution_count": 4,
   "metadata": {
    "scrolled": true
   },
   "outputs": [
    {
     "data": {
      "text/plain": [
       "'RelativeOrbitKS({\"residual\": \"5.93e-04\", \"N\": 32, \"M\": 32, \"T\": \"7.23e+01\", \"L\": \"2.2e+01\", \"S\": \"3.06e+00\"})'"
      ]
     },
     "execution_count": 4,
     "metadata": {},
     "output_type": "execute_result"
    }
   ],
   "source": [
    "repr(orbit)"
   ]
  },
  {
   "cell_type": "code",
   "execution_count": 5,
   "metadata": {},
   "outputs": [
    {
     "data": {
      "text/plain": [
       "0.0"
      ]
     },
     "execution_count": 5,
     "metadata": {},
     "output_type": "execute_result"
    }
   ],
   "source": [
    "orbit.spatiotemporal_mapping().norm() - 0.03443032290778314"
   ]
  },
  {
   "cell_type": "code",
   "execution_count": 6,
   "metadata": {},
   "outputs": [
    {
     "data": {
      "text/plain": [
       "0.0"
      ]
     },
     "execution_count": 6,
     "metadata": {},
     "output_type": "execute_result"
    }
   ],
   "source": [
    "self.rmatvec(other).norm() - 0.07471894992978417"
   ]
  },
  {
   "cell_type": "code",
   "execution_count": 7,
   "metadata": {},
   "outputs": [
    {
     "data": {
      "text/plain": [
       "0.0"
      ]
     },
     "execution_count": 7,
     "metadata": {},
     "output_type": "execute_result"
    }
   ],
   "source": [
    "self.matvec(other).norm() - 35.51666470002293"
   ]
  },
  {
   "cell_type": "code",
   "execution_count": 8,
   "metadata": {},
   "outputs": [
    {
     "data": {
      "text/plain": [
       "(5.08180393309556e-07, -1.387991997803139e-06, -6.820633216230298e-05)"
      ]
     },
     "execution_count": 8,
     "metadata": {},
     "output_type": "execute_result"
    }
   ],
   "source": [
    "self.rmatvec(other).L, self.rmatvec(other).T, self.rmatvec(other).S"
   ]
  },
  {
   "cell_type": "code",
   "execution_count": 7,
   "metadata": {},
   "outputs": [],
   "source": [
    "step_size = 1\n",
    "mapping = orbit.spatiotemporal_mapping()\n",
    "residual = mapping.residual(apply_mapping=False)\n",
    "dx = orbit.rmatvec(mapping, parameter_constraints=(False, False, False),\n",
    "                   preconditioning=True)\n",
    "next_orbit = orbit.increment(dx, stepsize=-1.0*step_size)\n",
    "next_mapping = next_orbit.spatiotemporal_mapping()\n",
    "next_residual = next_mapping.residual(apply_mapping=False)\n",
    "\n",
    "while next_residual >= residual:\n",
    "    step_size = 0.5*step_size\n",
    "    next_orbit = orbit.increment(dx, stepsize=-1.0*step_size)\n",
    "    next_mapping = next_orbit.spatiotemporal_mapping()\n",
    "    next_residual = next_mapping.residual(apply_mapping=False)\n",
    "    if step_size <= 10**-8:\n",
    "        print('u dun goofed')\n",
    "else:\n",
    "    next_orbit, next_mapping, next_residual"
   ]
  },
  {
   "cell_type": "code",
   "execution_count": 8,
   "metadata": {},
   "outputs": [
    {
     "name": "stdout",
     "output_type": "stream",
     "text": [
      "0.0 0.0 0.0 0.0\n"
     ]
    }
   ],
   "source": [
    "print(next_orbit.norm()-22.76238282853366, next_orbit.T-72.3340672503825,\n",
    "      next_orbit.L-21.968938342724154, next_orbit.S-3.0562703767577277)\n"
   ]
  },
  {
   "cell_type": "code",
   "execution_count": 9,
   "metadata": {},
   "outputs": [
    {
     "name": "stdout",
     "output_type": "stream",
     "text": [
      "0.0 0.0 0.0 0.0\n"
     ]
    }
   ],
   "source": [
    "print(next_mapping.norm()-0.027464641646541842, next_mapping.T- 72.3340672503825,\n",
    "      next_mapping.L-21.968938342724154, next_mapping.S-0.0)"
   ]
  },
  {
   "cell_type": "code",
   "execution_count": 10,
   "metadata": {},
   "outputs": [
    {
     "data": {
      "text/plain": [
       "0.0"
      ]
     },
     "execution_count": 10,
     "metadata": {},
     "output_type": "execute_result"
    }
   ],
   "source": [
    "next_residual - 0.00037715327038648027"
   ]
  },
  {
   "cell_type": "code",
   "execution_count": 11,
   "metadata": {},
   "outputs": [],
   "source": [
    "### this is original\n",
    "# self.rmatvec(other).L, self.rmatvec(other).T, self.rmatvec(other).S"
   ]
  },
  {
   "cell_type": "code",
   "execution_count": 13,
   "metadata": {},
   "outputs": [
    {
     "name": "stdout",
     "output_type": "stream",
     "text": [
      "Starting adj numerical method. Initial residual 0.0005927235677671083\n",
      "........................Current residual 1.5616231327871197e-05\n",
      "........................Current residual 1.0388829945645105e-05\n",
      "........................Current residual 8.190282766659456e-06\n",
      "........................Current residual 7.0645968173551904e-06\n",
      "........................Current residual 6.388837847170745e-06\n",
      "........................Current residual 5.926290633066422e-06\n",
      "........................Current residual 5.577572770002696e-06\n",
      "........................Current residual 5.297002488383504e-06\n",
      "........................Current residual 5.0615322563341e-06\n",
      "........................Current residual 4.858380364740954e-06\n",
      "........................Current residual 4.679791323537839e-06\n",
      "........................Current residual 4.5206725989873606e-06\n",
      "........................Current residual 4.37745651507746e-06\n",
      "..\n",
      "Failed to converge. Maximum number of iterations reached. exiting with residual 4.362931352841281e-06\n",
      "adj desc time 47.507981061935425 per step 0.0028996570472372696\n"
     ]
    }
   ],
   "source": [
    "t0=time.time()\n",
    "result = converge(orbit, method='adj', atol=10**-6, verbose=True)\n",
    "t1=time.time()\n",
    "print('adj desc time', t1-t0, 'per step', (t1-t0) / (16384.))"
   ]
  },
  {
   "cell_type": "code",
   "execution_count": 2,
   "metadata": {},
   "outputs": [
    {
     "data": {
      "text/plain": [
       "0.08876794896092312"
      ]
     },
     "execution_count": 2,
     "metadata": {},
     "output_type": "execute_result"
    }
   ],
   "source": [
    "orbit.rmatvec(orbit.spatiotemporal_mapping()).norm()"
   ]
  },
  {
   "cell_type": "code",
   "execution_count": 3,
   "metadata": {},
   "outputs": [
    {
     "data": {
      "text/plain": [
       "96.30987440230632"
      ]
     },
     "execution_count": 3,
     "metadata": {},
     "output_type": "execute_result"
    }
   ],
   "source": [
    "orbit.matvec(orbit.spatiotemporal_mapping(), preconditioning=False).norm()"
   ]
  },
  {
   "cell_type": "code",
   "execution_count": 3,
   "metadata": {},
   "outputs": [
    {
     "data": {
      "text/plain": [
       "0.05590421434252252"
      ]
     },
     "execution_count": 3,
     "metadata": {},
     "output_type": "execute_result"
    }
   ],
   "source": [
    "#matvec_modes\n",
    "modes = self.state\n",
    "other_modes = other.state\n",
    "elementwise_dt = self.elementwise_dtn(self.parameters)\n",
    "elementwise_dx2 = self.elementwise_dxn(self.parameters, power=2)\n",
    "elementwise_dx4 = self.elementwise_dxn(self.parameters, power=4)\n",
    "\n",
    "dt = swap_modes(np.multiply(elementwise_dt, other_modes), dimension='time')\n",
    "dx2 = np.multiply(elementwise_dx2, other_modes)\n",
    "dx4 = np.multiply(elementwise_dx4, other_modes)\n",
    "linear = dt + dx2 + dx4\n",
    "\n",
    "# Compute nonlinear term\n",
    "field = self.convert(to='field')\n",
    "other_field = other.convert(to='field')\n",
    "nonlinear = swap_modes(np.multiply(self.elementwise_dxn(self.parameters),\n",
    "                        field.statemul(other_field).convert(to='modes').state), dimension='space')\n",
    "\n",
    "matvec_modes = linear + nonlinear\n",
    "np.linalg.norm(matvec_modes)"
   ]
  },
  {
   "cell_type": "code",
   "execution_count": 4,
   "metadata": {},
   "outputs": [
    {
     "data": {
      "text/plain": [
       "0.005141676767724666"
      ]
     },
     "execution_count": 4,
     "metadata": {},
     "output_type": "execute_result"
    }
   ],
   "source": [
    "#matvec_T\n",
    "np.linalg.norm((other.T * (-1.0 / self.T) * dt))"
   ]
  },
  {
   "cell_type": "code",
   "execution_count": 5,
   "metadata": {},
   "outputs": [
    {
     "data": {
      "text/plain": [
       "96.27502258075592"
      ]
     },
     "execution_count": 5,
     "metadata": {},
     "output_type": "execute_result"
    }
   ],
   "source": [
    "#matvec_L\n",
    "dx2_self = np.multiply(elementwise_dx2, modes)\n",
    "dx4_self = np.multiply(elementwise_dx4, modes)\n",
    "dfdl_linear = (-2.0/self.L)*dx2_self + (-4.0/self.L)*dx4_self\n",
    "dfdl_nonlinear = (-1.0/self.L) * 0.5 * swap_modes(np.multiply(self.elementwise_dxn(self.parameters),\n",
    "                    field.statemul(field).convert(to='modes').state), dimension='space')\n",
    "dfdl = dfdl_linear + dfdl_nonlinear\n",
    "np.linalg.norm(other.L * dfdl)"
   ]
  },
  {
   "cell_type": "code",
   "execution_count": 6,
   "metadata": {},
   "outputs": [
    {
     "data": {
      "text/plain": [
       "(18.79718802224487, 27.8319306586044)"
      ]
     },
     "execution_count": 6,
     "metadata": {},
     "output_type": "execute_result"
    }
   ],
   "source": [
    "other.T, other.L"
   ]
  },
  {
   "cell_type": "code",
   "execution_count": 7,
   "metadata": {},
   "outputs": [
    {
     "data": {
      "text/plain": [
       "0.03463146244946721"
      ]
     },
     "execution_count": 7,
     "metadata": {},
     "output_type": "execute_result"
    }
   ],
   "source": [
    "orbit.spatiotemporal_mapping().norm()"
   ]
  },
  {
   "cell_type": "code",
   "execution_count": 9,
   "metadata": {},
   "outputs": [
    {
     "data": {
      "text/plain": [
       "0.0005996690956944287"
      ]
     },
     "execution_count": 9,
     "metadata": {},
     "output_type": "execute_result"
    }
   ],
   "source": [
    "orbit.residual()"
   ]
  },
  {
   "cell_type": "code",
   "execution_count": 8,
   "metadata": {},
   "outputs": [
    {
     "data": {
      "text/plain": [
       "array([ 5.07730901e+01,  1.22974859e+00,  2.58080769e-01,  7.44144663e-02,\n",
       "       -2.94728311e-03, -1.20533347e-02, -1.01267168e-03, -3.58197231e-03,\n",
       "       -1.40700545e-04, -6.54248211e-04, -2.09863534e-05, -1.01569199e-04,\n",
       "       -3.19890535e-06, -1.44372840e-05, -4.67817293e-07, -2.21660503e-06,\n",
       "       -2.26327372e+00, -1.60425093e-01, -3.85533941e-01, -4.40208748e-02,\n",
       "       -4.98995499e-02, -6.45213204e-03, -6.16585045e-03, -7.70900088e-04,\n",
       "       -7.13630063e-04, -8.57954987e-05, -7.52343307e-05, -9.01854409e-06,\n",
       "       -6.89802401e-06, -8.93971933e-07, -5.55629035e-07])"
      ]
     },
     "execution_count": 8,
     "metadata": {},
     "output_type": "execute_result"
    }
   ],
   "source": [
    "f = orbit.spatiotemporal_mapping()\n",
    "orbit.matvec(f).state.sum(axis=1)"
   ]
  },
  {
   "cell_type": "code",
   "execution_count": 13,
   "metadata": {
    "scrolled": true
   },
   "outputs": [
    {
     "data": {
      "text/plain": [
       "(0.05590421434252252,\n",
       " 0.005141676767724666,\n",
       " 96.27502258075592,\n",
       " (18.79718802224487, 27.8319306586044))"
      ]
     },
     "execution_count": 13,
     "metadata": {},
     "output_type": "execute_result"
    }
   ],
   "source": [
    "0.05590421434252252, 0.005141676767724666, 96.27502258075592, (18.79718802224487, 27.8319306586044)"
   ]
  },
  {
   "cell_type": "code",
   "execution_count": 15,
   "metadata": {},
   "outputs": [
    {
     "data": {
      "text/plain": [
       "40.096516331264446"
      ]
     },
     "execution_count": 15,
     "metadata": {},
     "output_type": "execute_result"
    }
   ],
   "source": [
    "orbit.matvec().norm()"
   ]
  },
  {
   "cell_type": "code",
   "execution_count": 14,
   "metadata": {},
   "outputs": [],
   "source": []
  },
  {
   "cell_type": "code",
   "execution_count": 2,
   "metadata": {},
   "outputs": [
    {
     "data": {
      "text/plain": [
       "19.781631426604676"
      ]
     },
     "execution_count": 2,
     "metadata": {},
     "output_type": "execute_result"
    }
   ],
   "source": [
    "field = orbit.convert(to='field')\n",
    "np.linalg.norm(other.L * (-1.0 / self.L) * 0.5 * swap_modes(np.multiply(self.elementwise_dxn(self.parameters),\n",
    "                                field.statemul(field).convert(to='modes').state), dimension='space'))"
   ]
  },
  {
   "cell_type": "code",
   "execution_count": 2,
   "metadata": {},
   "outputs": [
    {
     "name": "stdout",
     "output_type": "stream",
     "text": [
      "17 µs ± 272 ns per loop (mean ± std. dev. of 7 runs, 100000 loops each)\n"
     ]
    }
   ],
   "source": [
    "%%timeit \n",
    "modes = self.state\n",
    "elementwise_dt = self.elementwise_dtn(self.parameters)\n",
    "elementwise_dx2 = self.elementwise_dxn(self.parameters, power=2)\n",
    "elementwise_dx4 = self.elementwise_dxn(self.parameters, power=4)\n",
    "dt = swap_modes(np.multiply(elementwise_dt, modes), dimension='time')\n",
    "dx2 = np.multiply(elementwise_dx2, modes)\n",
    "dx4 = np.multiply(elementwise_dx4, modes)\n",
    "linear = dt + dx2 + dx4"
   ]
  },
  {
   "cell_type": "code",
   "execution_count": 3,
   "metadata": {},
   "outputs": [
    {
     "data": {
      "text/plain": [
       "OrbitKS()"
      ]
     },
     "execution_count": 3,
     "metadata": {},
     "output_type": "execute_result"
    }
   ],
   "source": [
    "orbit.matvec(orbit.spatiotemporal_mapping())"
   ]
  },
  {
   "cell_type": "code",
   "execution_count": 7,
   "metadata": {},
   "outputs": [
    {
     "data": {
      "text/plain": [
       "0.05590421434252252"
      ]
     },
     "execution_count": 7,
     "metadata": {},
     "output_type": "execute_result"
    }
   ],
   "source": []
  },
  {
   "cell_type": "code",
   "execution_count": null,
   "metadata": {},
   "outputs": [],
   "source": []
  },
  {
   "cell_type": "code",
   "execution_count": 15,
   "metadata": {},
   "outputs": [
    {
     "name": "stdout",
     "output_type": "stream",
     "text": [
      "349 µs ± 1.91 µs per loop (mean ± std. dev. of 7 runs, 1000 loops each)\n"
     ]
    }
   ],
   "source": [
    "%%timeit\n",
    "\n",
    "# Convert state information to field inplace; derivative operation switches this back to modes?\n",
    "orbit_field = self.convert(to='field')\n",
    "nonlinear = orbit_field.pseudospectral(orbit_field)\n",
    "# Return Spatial derivative with 1/2 factor. The conversion to modes does not do anything unless original\n",
    "# state has discrete symmetry\n",
    "# nonlinear = 0.5 * pseudospectral_orbit.dx().convert(to='modes')"
   ]
  },
  {
   "cell_type": "code",
   "execution_count": 6,
   "metadata": {},
   "outputs": [
    {
     "name": "stdout",
     "output_type": "stream",
     "text": [
      "15.7 µs ± 117 ns per loop (mean ± std. dev. of 7 runs, 100000 loops each)\n"
     ]
    }
   ],
   "source": [
    "%%timeit \n",
    "modes = self.state\n",
    "elementwise_dt = self.elementwise_dtn(self.parameters)\n",
    "elementwise_dx2 = self.elementwise_dxn(self.parameters, power=2)\n",
    "# elementwise_dx4 = self.elementwise_dxn(self.parameters, power=4)\n",
    "dt = swap_modes(np.multiply(elementwise_dt, modes), dimension='time')\n",
    "dx2 = np.multiply(elementwise_dx2, modes)\n",
    "dx4 = np.multiply(elementwise_dx2, dx2)\n",
    "linear = dt + dx2 + dx4"
   ]
  },
  {
   "cell_type": "code",
   "execution_count": 10,
   "metadata": {},
   "outputs": [
    {
     "name": "stdout",
     "output_type": "stream",
     "text": [
      "17.5 µs ± 132 ns per loop (mean ± std. dev. of 7 runs, 100000 loops each)\n"
     ]
    }
   ],
   "source": [
    "%%timeit\n",
    "modes = self.convert(to='modes').state\n",
    "elementwise_dt = self.elementwise_dtn(self.parameters)\n",
    "elementwise_dx2 = self.elementwise_dxn(self.parameters, power=2)\n",
    "elementwise_dx4 = self.elementwise_dxn(self.parameters, power=4)\n",
    "\n",
    "dt = swap_modes(np.multiply(elementwise_dt, modes), dimension='time')\n",
    "dx2 = np.multiply(elementwise_dx2, modes)\n",
    "dx4 = np.multiply(elementwise_dx4, modes)\n",
    "linear = dt + dx2 + dx4"
   ]
  },
  {
   "cell_type": "code",
   "execution_count": 13,
   "metadata": {},
   "outputs": [],
   "source": [
    "modes = self.convert(to='modes').state\n",
    "elementwise_dt = self.elementwise_dtn(self.parameters)\n",
    "elementwise_dx2 = self.elementwise_dxn(self.parameters, power=2)\n",
    "elementwise_dx4 = self.elementwise_dxn(self.parameters, power=4)\n",
    "\n",
    "dt = swap_modes(np.multiply(elementwise_dt, modes), dimension='time')\n",
    "dx2 = np.multiply(elementwise_dx2, modes)\n",
    "dx4 = np.multiply(elementwise_dx4, modes)\n",
    "linear = dt + dx2 + dx4"
   ]
  },
  {
   "cell_type": "code",
   "execution_count": 4,
   "metadata": {},
   "outputs": [
    {
     "name": "stdout",
     "output_type": "stream",
     "text": [
      "181 µs ± 1.1 µs per loop (mean ± std. dev. of 7 runs, 10000 loops each)\n"
     ]
    }
   ],
   "source": [
    "%timeit self.nonlinear()"
   ]
  },
  {
   "cell_type": "code",
   "execution_count": 8,
   "metadata": {},
   "outputs": [
    {
     "name": "stdout",
     "output_type": "stream",
     "text": [
      "94.4 µs ± 793 ns per loop (mean ± std. dev. of 7 runs, 10000 loops each)\n"
     ]
    }
   ],
   "source": [
    "%timeit orbit.convert(to='field')"
   ]
  },
  {
   "cell_type": "code",
   "execution_count": 9,
   "metadata": {},
   "outputs": [
    {
     "name": "stdout",
     "output_type": "stream",
     "text": [
      "446 ns ± 1.05 ns per loop (mean ± std. dev. of 7 runs, 1000000 loops each)\n"
     ]
    }
   ],
   "source": [
    "%timeit orbit.convert(to=orbit.state_type)"
   ]
  },
  {
   "cell_type": "code",
   "execution_count": 6,
   "metadata": {},
   "outputs": [
    {
     "data": {
      "image/png": "[encoded data removed]",
      "text/plain": [
       "<Figure size 195.967x174.13 with 2 Axes>"
      ]
     },
     "metadata": {
      "needs_background": "light"
     },
     "output_type": "display_data"
    }
   ],
   "source": [
    "orbit.plot()"
   ]
  },
  {
   "cell_type": "code",
   "execution_count": 2,
   "metadata": {},
   "outputs": [
    {
     "name": "stdout",
     "output_type": "stream",
     "text": [
      "183 µs ± 1.2 µs per loop (mean ± std. dev. of 7 runs, 10000 loops each)\n"
     ]
    }
   ],
   "source": [
    "%%timeit\n",
    "# Convert state information to field inplace; derivative operation switches this back to modes?\n",
    "orbit_field = self.convert(to='field')\n",
    "# nonlinear = orbit_field.pseudospectral(orbit_field)\n",
    "\n",
    "nonlinear = 0.5 * swap_modes(np.multiply(self.elementwise_dxn(self.parameters), \n",
    "                        orbit_field.statemul(orbit_field).convert(to='modes').state), dimension='space')\n",
    "# orbit_mapping = linear + nonlinear"
   ]
  },
  {
   "cell_type": "code",
   "execution_count": 18,
   "metadata": {},
   "outputs": [
    {
     "name": "stdout",
     "output_type": "stream",
     "text": [
      "286 µs ± 1.38 µs per loop (mean ± std. dev. of 7 runs, 1000 loops each)\n"
     ]
    }
   ],
   "source": [
    "%%timeit\n",
    "# Convert state information to field inplace; derivative operation switches this back to modes?\n",
    "orbit_field = self.convert(to='field')\n",
    "# nonlinear = orbit_field.pseudospectral(orbit_field)\n",
    "nonlinear = 0.5*orbit_field.statemul(orbit_field).dx()\n",
    "# nonlinear = 0.5 * swap_modes(np.multiply(self.elementwise_dxn(self.parameters), \n",
    "#                         orbit_field.statemul(orbit_field).convert(to='modes').state), dimension='space')\n",
    "# orbit_mapping = linear + nonlinear"
   ]
  },
  {
   "cell_type": "code",
   "execution_count": 5,
   "metadata": {},
   "outputs": [
    {
     "name": "stdout",
     "output_type": "stream",
     "text": [
      "201 µs ± 915 ns per loop (mean ± std. dev. of 7 runs, 10000 loops each)\n"
     ]
    }
   ],
   "source": [
    "%%timeit\n",
    "modes = self.convert(to='modes').state\n",
    "elementwise_dt = self.elementwise_dtn(self.parameters)\n",
    "elementwise_dx2 = self.elementwise_dxn(self.parameters, power=2)\n",
    "# elementwise_dx4 = self.elementwise_dxn(self.parameters, power=4)\n",
    "\n",
    "dt = swap_modes(np.multiply(elementwise_dt, modes), dimension='time')\n",
    "dx2 = np.multiply(elementwise_dx2, modes)\n",
    "dx4 = np.multiply(elementwise_dx2, dx2)\n",
    "linear = dt + dx2 + dx4\n",
    "\n",
    "# Convert state information to field inplace; derivative operation switches this back to modes?\n",
    "orbit_field = self.convert(to='field')\n",
    "# nonlinear = orbit_field.pseudospectral(orbit_field)\n",
    "\n",
    "nonlinear = 0.5 * swap_modes(np.multiply(self.elementwise_dxn(self.parameters), \n",
    "                        orbit_field.statemul(orbit_field).convert(to='modes').state), dimension='space')\n",
    "orbit_mapping = linear + nonlinear"
   ]
  },
  {
   "cell_type": "code",
   "execution_count": 6,
   "metadata": {},
   "outputs": [
    {
     "name": "stdout",
     "output_type": "stream",
     "text": [
      "22.4 µs ± 4.29 µs per loop (mean ± std. dev. of 7 runs, 100000 loops each)\n"
     ]
    }
   ],
   "source": [
    "%%timeit \n",
    "wj_matrix = self.elementwise_dtn(self.parameters, power=1)\n",
    "elementwise_qk2 = self.elementwise_dxn(self.parameters, power=2)\n",
    "elementwise_qk4 = self.elementwise_dxn(self.parameters, power=4)\n",
    "dt = swap_modes(np.multiply(wj_matrix, other.state), dimension='time')\n",
    "d2x = np.multiply(elementwise_qk2, other.state)\n",
    "d4x = np.multiply(elementwise_qk4, other.state)\n",
    "linear = -1.0*dt + d2x + d4x"
   ]
  },
  {
   "cell_type": "code",
   "execution_count": 14,
   "metadata": {},
   "outputs": [
    {
     "name": "stdout",
     "output_type": "stream",
     "text": [
      "454 ns ± 1.92 ns per loop (mean ± std. dev. of 7 runs, 1000000 loops each)\n"
     ]
    }
   ],
   "source": [
    "%timeit orbit.convert(to='modes').state_type"
   ]
  },
  {
   "cell_type": "code",
   "execution_count": 15,
   "metadata": {},
   "outputs": [
    {
     "name": "stdout",
     "output_type": "stream",
     "text": [
      "60.6 ns ± 0.587 ns per loop (mean ± std. dev. of 7 runs, 10000000 loops each)\n"
     ]
    }
   ],
   "source": [
    "%timeit assert orbit.state_type == 'modes'"
   ]
  },
  {
   "cell_type": "code",
   "execution_count": 11,
   "metadata": {},
   "outputs": [
    {
     "name": "stdout",
     "output_type": "stream",
     "text": [
      "13.1 µs ± 79.3 ns per loop (mean ± std. dev. of 7 runs, 100000 loops each)\n"
     ]
    }
   ],
   "source": [
    "%%timeit\n",
    "spacetime_modes = self.convert(to='modes').state\n",
    "\n",
    "# Elementwise multiplication of modes with frequencies, this is the derivative.\n",
    "dxn_modes = np.multiply(self.elementwise_dxn(self.parameters, power=power), spacetime_modes)\n",
    "\n",
    "# If the order of the differentiation is odd, need to swap imaginary and real components.\n",
    "if np.mod(power, 2):\n",
    "    dxn_modes = swap_modes(dxn_modes, dimension='space')"
   ]
  },
  {
   "cell_type": "code",
   "execution_count": 10,
   "metadata": {},
   "outputs": [
    {
     "name": "stdout",
     "output_type": "stream",
     "text": [
      "16.7 µs ± 88.3 ns per loop (mean ± std. dev. of 7 runs, 100000 loops each)\n"
     ]
    }
   ],
   "source": [
    "%%timeit    \n",
    "spacetime_modes = self.convert(to='modes').state\n",
    "\n",
    "# Elementwise multiplication of modes with frequencies, this is the derivative.\n",
    "dxn_modes = np.multiply(self.elementwise_dxn(self.parameters, power=power), spacetime_modes)\n",
    "\n",
    "# If the order of the differentiation is odd, need to swap imaginary and real components.\n",
    "if np.mod(power, 2):\n",
    "    dxn_modes = swap_modes(dxn_modes, dimension='space')\n",
    "orbit_dxn = self.__class__(state=dxn_modes, state_type='modes', T=self.T, L=self.L, S=self.S)"
   ]
  },
  {
   "cell_type": "code",
   "execution_count": 4,
   "metadata": {},
   "outputs": [
    {
     "name": "stdout",
     "output_type": "stream",
     "text": [
      "52.4 µs ± 279 ns per loop (mean ± std. dev. of 7 runs, 10000 loops each)\n"
     ]
    }
   ],
   "source": [
    "%%timeit\n",
    "linear = -1.0*other.dt() + other.dx(power=2) + other.dx(power=4)"
   ]
  },
  {
   "cell_type": "code",
   "execution_count": 5,
   "metadata": {},
   "outputs": [
    {
     "name": "stdout",
     "output_type": "stream",
     "text": [
      "30.2 µs ± 297 ns per loop (mean ± std. dev. of 7 runs, 10000 loops each)\n"
     ]
    }
   ],
   "source": [
    "%%timeit\n",
    "linear = -1.0*other.dt_modes() + other.dx_modes(power=2) + other.dx_modes(power=4)"
   ]
  },
  {
   "cell_type": "code",
   "execution_count": 4,
   "metadata": {},
   "outputs": [
    {
     "name": "stdout",
     "output_type": "stream",
     "text": [
      "865 ns ± 4.5 ns per loop (mean ± std. dev. of 7 runs, 1000000 loops each)\n"
     ]
    }
   ],
   "source": [
    "%timeit orbit.elementwise_dxn(orbit.parameters, power=4)"
   ]
  },
  {
   "cell_type": "code",
   "execution_count": 3,
   "metadata": {},
   "outputs": [],
   "source": [
    "linear = -1.0*other.dt() + other.dx(power=2) + other.dx(power=4)\n",
    "\n",
    "# Nonlinear component, equal to -u * v_x\n",
    "orbit_field = self.convert(to='field')\n",
    "nonlinear = orbit_field.rpseudospectral(other)\n",
    "orbit_rmatvec = linear + nonlinear\n",
    "\n",
    "\n",
    "# Derivative with respect to T term equal to DF/DT * v\n",
    "dfdt = (-1.0 / self.T)*self.dt()\n",
    "orbit_rmatvec.T = dfdt.dot(other)\n",
    "\n",
    "\n",
    "# Derivative with respect to L equal to DF/DL * v\n",
    "dfdl_linear = ((-2.0/self.L)*self.dx(power=2) + (-4.0/self.L)*self.dx(power=4))\n",
    "dfdl_nonlinear = (-1.0/self.L) * orbit_field.pseudospectral(orbit_field)\n",
    "dfdl = dfdl_linear + dfdl_nonlinear\n",
    "orbit_rmatvec.L = dfdl.dot(other)\n",
    "\n",
    "\n",
    "# Apply left preconditioning\n",
    "p_matrix = 1.0 / (np.abs(self.elementwise_dtn(self.parameters))\n",
    "                  + np.abs(self.elementwise_dxn(self.parameters, power=2))\n",
    "                  + np.abs(self.elementwise_dxn(self.parameters, power=4)))\n",
    "orbit_rmatvec.state = np.multiply(orbit_rmatvec.state, p_matrix)\n",
    "\n",
    "orbit_rmatvec.T = orbit_rmatvec.T / self.T\n",
    "orbit_rmatvec.L = orbit_rmatvec.L/(self.L**4)\n"
   ]
  },
  {
   "cell_type": "code",
   "execution_count": 4,
   "metadata": {},
   "outputs": [
    {
     "name": "stdout",
     "output_type": "stream",
     "text": [
      "0.0011929008960723877\n"
     ]
    }
   ],
   "source": [
    "t0 = time.time()\n",
    "for x in range(1000):\n",
    "    orbit.rmatvec(orbit.spatiotemporal_mapping())\n",
    "totalt = time.time()-t0\n",
    "print(totalt/1000.)"
   ]
  },
  {
   "cell_type": "code",
   "execution_count": 5,
   "metadata": {},
   "outputs": [
    {
     "data": {
      "text/plain": [
       "28.780369341230333"
      ]
     },
     "execution_count": 5,
     "metadata": {},
     "output_type": "execute_result"
    }
   ],
   "source": [
    "np.linalg.norm(p_matrix)"
   ]
  },
  {
   "cell_type": "code",
   "execution_count": 6,
   "metadata": {},
   "outputs": [
    {
     "data": {
      "text/plain": [
       "(0.08876794896091472,\n",
       " 0.0862369537515598,\n",
       " 0.0746481456886593,\n",
       " -6.4487508377663245e-06,\n",
       " 1.9964930005251016e-07,\n",
       " 0.0)"
      ]
     },
     "execution_count": 6,
     "metadata": {},
     "output_type": "execute_result"
    }
   ],
   "source": [
    "orbit_rmatvec.norm(), linear.norm(), nonlinear.norm(), orbit_rmatvec.T, orbit_rmatvec.L, orbit_rmatvec.S"
   ]
  },
  {
   "cell_type": "code",
   "execution_count": 7,
   "metadata": {},
   "outputs": [
    {
     "data": {
      "text/plain": [
       "0.08876794896091472"
      ]
     },
     "execution_count": 7,
     "metadata": {},
     "output_type": "execute_result"
    }
   ],
   "source": [
    "orbit.rmatvec(orbit.spatiotemporal_mapping()).norm()"
   ]
  },
  {
   "cell_type": "code",
   "execution_count": 8,
   "metadata": {},
   "outputs": [
    {
     "name": "stdout",
     "output_type": "stream",
     "text": [
      "411 µs ± 3.48 µs per loop (mean ± std. dev. of 7 runs, 1000 loops each)\n"
     ]
    }
   ],
   "source": [
    "# the original without caching. \n",
    "%timeit orbit.spatiotemporal_mapping()"
   ]
  },
  {
   "cell_type": "code",
   "execution_count": 9,
   "metadata": {
    "scrolled": true
   },
   "outputs": [
    {
     "name": "stdout",
     "output_type": "stream",
     "text": [
      "1.26 ms ± 174 µs per loop (mean ± std. dev. of 7 runs, 1000 loops each)\n"
     ]
    }
   ],
   "source": [
    "# the original without caching. \n",
    "%timeit orbit.rmatvec(orbit.spatiotemporal_mapping())"
   ]
  },
  {
   "cell_type": "code",
   "execution_count": 10,
   "metadata": {},
   "outputs": [
    {
     "name": "stdout",
     "output_type": "stream",
     "text": [
      "24.3 µs ± 3.43 µs per loop (mean ± std. dev. of 7 runs, 10000 loops each)\n"
     ]
    }
   ],
   "source": [
    "%timeit orbit.dx(power=2) + orbit.dx(power=4)"
   ]
  },
  {
   "cell_type": "code",
   "execution_count": 11,
   "metadata": {},
   "outputs": [
    {
     "name": "stdout",
     "output_type": "stream",
     "text": [
      "30.3 µs ± 159 ns per loop (mean ± std. dev. of 7 runs, 10000 loops each)\n"
     ]
    }
   ],
   "source": [
    "%timeit orbit.dx(power=2) + orbit.dx(power=2).dx(power=2)"
   ]
  },
  {
   "cell_type": "code",
   "execution_count": 12,
   "metadata": {},
   "outputs": [
    {
     "name": "stdout",
     "output_type": "stream",
     "text": [
      "Starting adj numerical method. Initial residual 0.0005996690956943496\n",
      "........................Current residual 9.62781539937062e-06\n",
      "........................Current residual 7.111322261412871e-06\n",
      "........................Current residual 6.280460316994489e-06\n",
      "........................Current residual 5.881058263289789e-06\n",
      "........................Current residual 5.621015125082616e-06\n",
      "........................Current residual 5.415734110640963e-06\n",
      ".............\n",
      "Failed to converge. Maximum number of iterations reached. exiting with residual 5.314735732098758e-06\n",
      "adj desc time 29.445802688598633 per step 0.0017972291680052876\n"
     ]
    }
   ],
   "source": [
    "t0=time.time()\n",
    "result = converge(orbit, method='adj', atol=10**-6, verbose=True)\n",
    "t1=time.time()\n",
    "print('adj desc time', t1-t0, 'per step', (t1-t0) / (16384.))"
   ]
  },
  {
   "cell_type": "code",
   "execution_count": 13,
   "metadata": {},
   "outputs": [
    {
     "name": "stdout",
     "output_type": "stream",
     "text": [
      "14.8 µs ± 87.1 ns per loop (mean ± std. dev. of 7 runs, 100000 loops each)\n"
     ]
    }
   ],
   "source": [
    "%timeit (-2.0/self.L)*self.dx(power=2)"
   ]
  },
  {
   "cell_type": "code",
   "execution_count": 15,
   "metadata": {},
   "outputs": [
    {
     "name": "stdout",
     "output_type": "stream",
     "text": [
      "13.1 µs ± 13.6 ns per loop (mean ± std. dev. of 7 runs, 100000 loops each)\n"
     ]
    }
   ],
   "source": [
    "%%timeit \n",
    "tmp = self.dx(power=2)\n",
    "tmp.state *= -2.0/self.L"
   ]
  },
  {
   "cell_type": "code",
   "execution_count": null,
   "metadata": {},
   "outputs": [],
   "source": [
    "# the original without caching. \n",
    "%%timeit \n",
    "orbit.elementwise_dxn(power=2)"
   ]
  },
  {
   "cell_type": "code",
   "execution_count": 5,
   "metadata": {},
   "outputs": [
    {
     "name": "stdout",
     "output_type": "stream",
     "text": [
      "563 µs ± 2.81 µs per loop (mean ± std. dev. of 7 runs, 1000 loops each)\n"
     ]
    }
   ],
   "source": [
    "%timeit orbit.spatiotemporal_mapping()"
   ]
  },
  {
   "cell_type": "code",
   "execution_count": 9,
   "metadata": {},
   "outputs": [
    {
     "name": "stdout",
     "output_type": "stream",
     "text": [
      "22.2 µs ± 121 ns per loop (mean ± std. dev. of 7 runs, 10000 loops each)\n"
     ]
    }
   ],
   "source": [
    "%timeit orbit.dx(power=2) + orbit.dx(power=4)"
   ]
  },
  {
   "cell_type": "code",
   "execution_count": 10,
   "metadata": {},
   "outputs": [
    {
     "name": "stdout",
     "output_type": "stream",
     "text": [
      "30.9 µs ± 283 ns per loop (mean ± std. dev. of 7 runs, 10000 loops each)\n"
     ]
    }
   ],
   "source": [
    "%timeit orbit.dx(power=2) + orbit.dx(power=2).dx(power=2)"
   ]
  },
  {
   "cell_type": "code",
   "execution_count": 15,
   "metadata": {},
   "outputs": [],
   "source": [
    "orbit1, orbit2 = orbit.copy(), orbit.copy()"
   ]
  },
  {
   "cell_type": "code",
   "execution_count": 16,
   "metadata": {},
   "outputs": [
    {
     "data": {
      "text/plain": [
       "array([[ 1.82701893e+00,  2.66896813e+00,  2.84672811e+00,\n",
       "         4.54719865e+00, -1.32865659e+00, -3.37103121e+00,\n",
       "        -1.67110905e+00,  1.22077502e+00, -1.10552280e+00,\n",
       "        -1.43114686e+01,  4.54719865e+00,  2.64286228e-01,\n",
       "         8.13838926e+00, -2.50099144e+00],\n",
       "       [-2.72598575e-01,  8.02991397e-01,  1.59298279e+00,\n",
       "         9.17621853e-01, -1.72389052e-01, -4.96789766e-01,\n",
       "        -4.52217497e-01,  4.07972599e-01,  1.93859272e+00,\n",
       "         3.16863978e-01, -9.17621853e-01, -8.66658288e-01,\n",
       "        -2.05777059e-01,  3.02162071e-01],\n",
       "       [ 2.99007168e-01,  4.82054834e-01,  1.24146766e-01,\n",
       "        -1.40785808e-01,  4.35438090e-01,  1.61978501e-01,\n",
       "        -1.03895940e-01,  1.99790202e-01, -1.99673650e-01,\n",
       "        -6.24127941e-01, -1.40785808e-01, -8.66140214e-02,\n",
       "        -3.91050694e-01, -1.55491263e-01],\n",
       "       [-4.03433560e-02,  7.26581839e-02,  2.75460967e-01,\n",
       "         2.14412710e-01, -3.95738018e-02, -5.43022380e-03,\n",
       "         3.93155865e-02,  6.03780991e-02,  1.75412373e-01,\n",
       "         5.47925930e-02, -2.14412710e-01, -1.98950937e-01,\n",
       "        -2.24927234e-03, -2.62698350e-02],\n",
       "       [ 3.38443430e-02,  5.45076443e-02,  1.04088010e-02,\n",
       "        -1.76919390e-02,  5.54914970e-02,  3.64669474e-02,\n",
       "        -1.38692429e-02,  2.26140670e-02, -2.25778055e-02,\n",
       "        -5.23285763e-02, -1.76919390e-02, -1.10379450e-02,\n",
       "        -8.80389991e-02, -2.07567888e-02],\n",
       "       [-3.61250894e-03,  8.59351283e-03,  3.70680143e-02,\n",
       "         3.21724761e-02, -6.19983474e-03, -3.34997580e-03,\n",
       "         7.60124360e-03,  5.40650169e-03,  2.07465752e-02,\n",
       "         7.37328648e-03, -3.21724761e-02, -3.11686741e-02,\n",
       "        -1.38760541e-03, -5.07898859e-03],\n",
       "       [ 3.73393806e-03,  6.07425931e-03,  1.16043278e-03,\n",
       "        -1.72780857e-03,  7.11032671e-03,  4.93358896e-03,\n",
       "        -3.17168044e-03,  2.49493765e-03, -2.51604059e-03,\n",
       "        -5.83388956e-03, -1.72780857e-03, -1.41433192e-03,\n",
       "        -1.19107374e-02, -4.74675522e-03],\n",
       "       [-4.08550202e-04,  1.02310465e-03,  4.59192982e-03,\n",
       "         4.17232977e-03, -8.99540118e-04, -1.18917361e-03,\n",
       "         8.22277703e-04,  6.11438586e-04,  2.46999311e-03,\n",
       "         9.13391631e-04, -4.17232977e-03, -4.52229356e-03,\n",
       "        -4.92571838e-04, -5.49428396e-04],\n",
       "       [ 3.99411642e-04,  6.63068288e-04,  1.31254985e-04,\n",
       "        -1.90210228e-04,  8.82925677e-04,  6.41854201e-04,\n",
       "        -5.32755272e-04,  2.66878327e-04, -2.74651878e-04,\n",
       "        -6.59863369e-04, -1.90210228e-04, -1.75624837e-04,\n",
       "        -1.54957312e-03, -7.97324610e-04],\n",
       "       [-4.74970107e-05,  1.17577498e-04,  5.32606116e-04,\n",
       "         4.99580132e-04, -1.21892935e-04, -2.53748881e-04,\n",
       "         5.68898377e-05,  7.10843000e-05,  2.83857190e-04,\n",
       "         1.05941943e-04, -4.99580132e-04, -6.12797167e-04,\n",
       "        -1.05106228e-04, -3.80125743e-05],\n",
       "       [ 4.07212145e-05,  6.78526430e-05,  1.39722966e-05,\n",
       "        -2.07608250e-05,  1.08080039e-04,  8.12206801e-05,\n",
       "        -7.51263123e-05,  2.72090456e-05, -2.81054850e-05,\n",
       "        -7.02434787e-05, -2.07608250e-05, -2.14984565e-05,\n",
       "        -1.96084067e-04, -1.12434472e-04],\n",
       "       [-5.07761692e-06,  1.24988582e-05,  5.73719796e-05,\n",
       "         5.64511535e-05, -1.55902374e-05, -4.26724392e-05,\n",
       "        -5.79581409e-08,  7.59919075e-06,  3.01749129e-05,\n",
       "         1.14119963e-05, -5.64511535e-05, -7.83774160e-05,\n",
       "        -1.76755030e-05,  3.87263914e-08],\n",
       "       [ 3.74701175e-06,  6.14969365e-06,  1.33739259e-06,\n",
       "        -2.12188878e-06,  1.29871180e-05,  9.90023031e-06,\n",
       "        -9.56268505e-06,  2.50367321e-06, -2.54728652e-06,\n",
       "        -6.72352658e-06, -2.12188878e-06, -2.58329840e-06,\n",
       "        -2.39012703e-05, -1.43115696e-05],\n",
       "       [-4.63720171e-07,  1.17004411e-06,  5.59346217e-06,\n",
       "         6.00179995e-06, -1.88974141e-06, -6.19610436e-06,\n",
       "        -8.69088841e-07,  6.94006280e-07,  2.82473636e-06,\n",
       "         1.11260880e-06, -6.00179995e-06, -9.50037164e-06,\n",
       "        -2.56651046e-06,  5.80706598e-07],\n",
       "       [ 2.72074431e-07,  4.29620085e-07,  1.05519507e-07,\n",
       "        -1.85868596e-07,  1.51388263e-06,  1.14225452e-06,\n",
       "        -1.10507446e-06,  1.81794323e-07, -1.77954466e-07,\n",
       "        -5.30482385e-07, -1.85868596e-07, -3.01129979e-07,\n",
       "        -2.75764636e-06, -1.65386081e-06],\n",
       "       [-3.34815896e-08,  8.95089390e-08,  4.70953938e-07,\n",
       "         5.77340513e-07, -2.05666731e-07, -7.80072184e-07,\n",
       "        -2.54745765e-07,  5.01087396e-08,  2.16093695e-07,\n",
       "         9.36785629e-08, -5.77340513e-07, -1.03395648e-06,\n",
       "        -3.23116478e-07,  1.70215679e-07],\n",
       "       [-2.25646881e-03, -5.33818083e-02,  1.51713835e+00,\n",
       "         2.01489783e+00, -7.50437432e-01, -2.51608058e+00,\n",
       "        -1.28557639e+00,  3.37704422e-03, -1.28875086e-01,\n",
       "         3.01777581e-01, -2.01489783e+00, -3.77270374e+00,\n",
       "        -1.04219470e+00,  8.58994680e-01],\n",
       "       [ 8.33435495e-02,  2.14081422e-01,  6.74020520e-02,\n",
       "        -7.83936846e-02,  2.26554355e-01, -4.46737641e-02,\n",
       "        -7.33282524e-02,  5.56883794e-02, -8.86754284e-02,\n",
       "        -3.38852998e-01, -7.83936846e-02, -4.50644631e-02,\n",
       "         1.07852007e-01, -1.09743485e-01],\n",
       "       [ 9.57494542e-04, -2.38941958e-03,  5.30058570e-02,\n",
       "         1.30600677e-01, -4.67880287e-02, -2.72180685e-01,\n",
       "        -2.10922879e-01, -1.43299185e-03, -5.76856917e-03,\n",
       "         1.05435205e-02, -1.30600677e-01, -2.35219305e-01,\n",
       "        -1.12740931e-01,  1.40934162e-01],\n",
       "       [-2.42023723e-03,  2.78869254e-03,  5.11480626e-03,\n",
       "        -2.64255922e-03,  5.10774052e-02,  1.01761974e-02,\n",
       "         2.70937390e-03, -1.61715081e-03, -1.15511427e-03,\n",
       "        -2.57138675e-02, -2.64255922e-03, -1.01599276e-02,\n",
       "        -2.45675137e-02,  4.05486459e-03],\n",
       "       [ 1.68712451e-03, -3.41519103e-03, -4.39794852e-03,\n",
       "         1.00952527e-02, -5.46394743e-03, -2.70117800e-02,\n",
       "        -2.32399173e-02, -2.52496026e-03, -8.24500050e-03,\n",
       "        -8.74806351e-04, -1.00952527e-02, -2.74691187e-02,\n",
       "        -1.11886456e-02,  1.55284163e-02],\n",
       "       [-1.22192979e-03, -1.60978157e-03,  1.68403100e-04,\n",
       "         5.34816667e-04,  7.67018516e-03,  1.85792495e-03,\n",
       "         1.15381017e-03, -8.16467383e-04,  6.66793360e-04,\n",
       "        -8.46619558e-04,  5.34816667e-04, -1.52569469e-03,\n",
       "        -4.48542762e-03,  1.72679895e-03],\n",
       "       [ 3.81793715e-04, -7.45938744e-04, -1.59559223e-03,\n",
       "         7.16033746e-04, -5.45515078e-04, -2.44584312e-03,\n",
       "        -2.39920186e-03, -5.71394674e-04, -1.80085543e-03,\n",
       "        -3.17383027e-04, -7.16033746e-04, -2.74248950e-03,\n",
       "        -1.01310139e-03,  1.60309543e-03],\n",
       "       [-2.63072087e-04, -3.99094542e-04, -2.35459183e-05,\n",
       "         1.56041828e-04,  9.37185238e-04,  1.94501937e-04,\n",
       "         2.14097780e-04, -1.75779149e-04,  1.65310372e-04,\n",
       "         1.18373325e-04,  1.56041828e-04, -1.86417734e-04,\n",
       "        -4.69569213e-04,  3.20419971e-04],\n",
       "       [ 6.25037921e-05, -1.24569927e-04, -3.17777114e-04,\n",
       "        -2.19727971e-06, -4.28882885e-05, -1.92744465e-04,\n",
       "        -2.38320033e-04, -9.35435354e-05, -3.00738408e-04,\n",
       "        -6.32097980e-05,  2.19727972e-06, -2.15613987e-04,\n",
       "        -7.98373714e-05,  1.59240355e-04],\n",
       "       [-4.55429687e-05, -7.06397287e-05, -7.56104426e-06,\n",
       "         2.83505015e-05,  1.00559783e-04,  1.29773659e-05,\n",
       "         3.66768284e-05, -3.04308388e-05,  2.92599337e-05,\n",
       "         3.80119364e-05,  2.83505015e-05, -2.00025846e-05,\n",
       "        -3.13301327e-05,  5.48907527e-05],\n",
       "       [ 9.03229696e-06, -1.85475056e-05, -5.32007202e-05,\n",
       "        -1.38869369e-05, -1.50337308e-06, -1.09514002e-05,\n",
       "        -2.30534471e-05, -1.35177877e-05, -4.47776395e-05,\n",
       "        -1.05822812e-05,  1.38869369e-05, -7.55796686e-06,\n",
       "        -4.53621848e-06,  1.54038209e-05],\n",
       "       [-6.98414872e-06, -1.09562248e-05, -1.44476209e-06,\n",
       "         4.37957290e-06,  9.46143460e-06, -2.70438775e-07,\n",
       "         6.10049050e-06, -4.66665898e-06,  4.53821691e-06,\n",
       "         7.26330952e-06,  4.37957290e-06, -1.88199636e-06,\n",
       "         6.52896958e-07,  9.13002923e-06],\n",
       "       [ 1.22340089e-06, -2.58617439e-06, -8.10986043e-06,\n",
       "        -3.50350765e-06,  3.35479590e-07,  2.08312896e-07,\n",
       "        -2.14926088e-06, -1.83094883e-06, -6.24357729e-06,\n",
       "        -1.61315154e-06,  3.50350765e-06,  1.68656979e-06,\n",
       "         8.62860264e-08,  1.43609020e-06],\n",
       "       [-1.00027518e-06, -1.58676190e-06, -2.36994548e-07,\n",
       "         6.34923917e-07,  7.23965785e-07, -3.02525900e-07,\n",
       "         9.65573270e-07, -6.68362509e-07,  6.57258299e-07,\n",
       "         1.19145205e-06,  6.34923917e-07, -1.44005748e-07,\n",
       "         7.30362130e-07,  1.44508252e-06],\n",
       "       [ 1.80488714e-07, -3.86460711e-07, -1.28845021e-06,\n",
       "        -7.36920281e-07,  1.24145682e-07,  2.10071324e-07,\n",
       "        -1.98309087e-07, -2.70120450e-07, -9.32998690e-07,\n",
       "        -2.56288682e-07,  7.36920282e-07,  6.24122491e-07,\n",
       "         8.70143915e-08,  1.32505896e-07]])"
      ]
     },
     "execution_count": 16,
     "metadata": {},
     "output_type": "execute_result"
    }
   ],
   "source": [
    "orbit1.state"
   ]
  },
  {
   "cell_type": "code",
   "execution_count": 17,
   "metadata": {},
   "outputs": [
    {
     "name": "stdout",
     "output_type": "stream",
     "text": [
      "5.16 µs ± 67.7 ns per loop (mean ± std. dev. of 7 runs, 100000 loops each)\n"
     ]
    }
   ],
   "source": [
    "%%timeit \n",
    "orbit1.state += orbit2.state\n",
    "orbit1.state -= orbit2.state"
   ]
  },
  {
   "cell_type": "code",
   "execution_count": 24,
   "metadata": {},
   "outputs": [],
   "source": [
    "orbit1 = orbit.copy()\n"
   ]
  },
  {
   "cell_type": "code",
   "execution_count": 26,
   "metadata": {},
   "outputs": [
    {
     "name": "stdout",
     "output_type": "stream",
     "text": [
      "8.45 µs ± 97.6 ns per loop (mean ± std. dev. of 7 runs, 100000 loops each)\n"
     ]
    }
   ],
   "source": [
    "\n",
    "%%timeit \n",
    "orbit3 = orbit1 + orbit2\n",
    "orbit3 = orbit3 - orbit2"
   ]
  },
  {
   "cell_type": "code",
   "execution_count": 10,
   "metadata": {},
   "outputs": [
    {
     "name": "stdout",
     "output_type": "stream",
     "text": [
      "1.35 µs ± 8.74 ns per loop (mean ± std. dev. of 7 runs, 1000000 loops each)\n"
     ]
    }
   ],
   "source": [
    "%timeit orbit1.state+orbit2.state"
   ]
  },
  {
   "cell_type": "code",
   "execution_count": 8,
   "metadata": {},
   "outputs": [
    {
     "name": "stdout",
     "output_type": "stream",
     "text": [
      "4.42 µs ± 151 ns per loop (mean ± std. dev. of 7 runs, 100000 loops each)\n"
     ]
    }
   ],
   "source": [
    "%timeit OrbitKS(state=orbit1.state, state_type=orbit1.state_type, T=orbit1.T, L=orbit1.L) "
   ]
  },
  {
   "cell_type": "code",
   "execution_count": 9,
   "metadata": {},
   "outputs": [
    {
     "name": "stdout",
     "output_type": "stream",
     "text": [
      "4.86 µs ± 35.3 ns per loop (mean ± std. dev. of 7 runs, 100000 loops each)\n"
     ]
    }
   ],
   "source": [
    "%timeit orbit1+orbit2"
   ]
  },
  {
   "cell_type": "code",
   "execution_count": 4,
   "metadata": {},
   "outputs": [],
   "source": [
    "parameter_constraints = (False,False,False)\n",
    "A = orbit.jacobian(parameter_constraints=parameter_constraints)\n",
    "b = -1.0 * orbit.spatiotemporal_mapping().state.ravel()\n",
    "correction_tuple = lstsq(A, b.reshape(-1, 1))\n",
    "correction_vector = correction_tuple[0]\n",
    "dorbit = _state_vector_to_orbit(orbit, correction_vector, parameter_constraints=parameter_constraints)\n",
    "next_orbit = orbit.increment(dorbit, stepsize=1)\n",
    "next_residual = next_orbit.residual()\n",
    "\n",
    "dorbit.to_h5('ShiftReflectionOrbitKS_new_dx.h5')\n",
    "next_orbit.to_h5('ShiftReflectionOrbitKS_new_next_orbit.h5')"
   ]
  },
  {
   "cell_type": "code",
   "execution_count": 16,
   "metadata": {},
   "outputs": [],
   "source": [
    "reqva_test = read_h5('reqva_L27p39.h5', directory='data')\n",
    "rpo_test = reqva_test.copy()"
   ]
  },
  {
   "cell_type": "code",
   "execution_count": 19,
   "metadata": {},
   "outputs": [
    {
     "data": {
      "text/plain": [
       "array([[ 2.00816119e+00,  1.01374031e+01,  1.11253909e+01,\n",
       "        -1.40353747e+00,  2.47945593e+00, -4.92810282e+00,\n",
       "        -2.38748576e-01, -1.12657698e+00,  3.57569991e-01,\n",
       "        -6.96102814e-02,  1.76386189e-01, -8.29370045e-03,\n",
       "         2.40090406e-02, -1.05550170e-02,  1.85951257e-05,\n",
       "        -1.06120071e+01,  7.93479330e+00, -1.19937633e+01,\n",
       "        -1.74281001e+00, -8.81762255e+00,  8.85404094e-01,\n",
       "        -6.38238431e-01,  9.23568861e-01,  2.64677768e-01,\n",
       "         1.64914168e-01,  1.22727752e-02, -2.51199462e-02,\n",
       "        -1.18906760e-02, -1.08448457e-02,  1.87626015e-03],\n",
       "       [ 2.12374323e-07, -6.77159230e-09, -1.05227738e-07,\n",
       "         1.04321013e-07,  6.52678136e-08,  7.85444976e-08,\n",
       "        -1.35071526e-08,  1.50644277e-08, -2.41765619e-08,\n",
       "         4.39556843e-09, -7.62882139e-09,  3.81752699e-09,\n",
       "        -1.76076670e-09,  1.25002985e-09, -3.53632751e-10,\n",
       "         2.82497007e-08, -4.47835335e-09,  1.20880617e-07,\n",
       "         1.36970290e-07, -2.24451893e-08, -2.01766804e-08,\n",
       "        -3.00043004e-08, -1.99963628e-08, -6.00474327e-09,\n",
       "         2.27692427e-09,  9.74782064e-10,  2.01072809e-09,\n",
       "        -4.07674250e-10,  6.19455230e-10, -5.44134039e-10],\n",
       "       [ 1.97795310e-08, -1.21006558e-07,  4.56027074e-08,\n",
       "         2.28018897e-08, -1.01067680e-07,  1.40382629e-07,\n",
       "        -7.47252338e-08,  7.37208511e-08, -4.24806551e-08,\n",
       "         2.90932212e-08, -2.03253067e-08,  9.44477168e-09,\n",
       "        -6.19583733e-09,  2.63999019e-09, -1.01703600e-09,\n",
       "         5.54877930e-08, -1.48279914e-07,  1.88243044e-07,\n",
       "        -1.07586080e-07,  1.61246173e-07, -1.08206203e-07,\n",
       "         8.95744288e-08, -5.18933237e-08,  1.41331176e-08,\n",
       "        -1.16153685e-08,  1.08016220e-09, -2.65989058e-10,\n",
       "        -2.25814486e-10,  1.12963177e-09, -6.47929243e-10],\n",
       "       [-7.61809146e-09,  2.64802547e-08, -4.83631032e-08,\n",
       "         1.82496509e-08,  1.78597522e-08, -1.84821319e-08,\n",
       "         2.26896876e-08, -1.76117878e-08,  1.28820544e-08,\n",
       "        -1.06544487e-08,  5.70686479e-09, -4.03807194e-09,\n",
       "         2.29899423e-09, -1.00281052e-09,  5.33569496e-10,\n",
       "        -3.23522339e-08,  5.47233452e-08, -1.70282736e-08,\n",
       "         3.19628234e-09, -1.14240318e-08,  2.12358433e-08,\n",
       "        -2.91348225e-08,  2.10116760e-08, -1.74068416e-08,\n",
       "         1.01626241e-08, -6.19555818e-09,  4.20637337e-09,\n",
       "        -1.95712546e-09,  1.30800833e-09, -8.21142208e-10],\n",
       "       [-1.78098447e-09,  6.45061391e-10, -1.24805266e-08,\n",
       "         1.52970850e-08, -3.22359881e-09,  5.42229200e-09,\n",
       "        -3.51384127e-09,  2.85847466e-09, -9.63756908e-10,\n",
       "        -2.70582340e-10,  1.16237970e-10, -4.00610211e-10,\n",
       "         2.42537057e-10, -1.25721578e-10,  8.06677100e-11,\n",
       "        -3.14719465e-09,  7.33539881e-09, -1.16987345e-08,\n",
       "         1.89579759e-08, -9.01347548e-09,  9.69187098e-09,\n",
       "        -1.17093955e-08,  7.44095314e-09, -5.95441629e-09,\n",
       "         3.54426350e-09, -2.47470550e-09,  1.65332806e-09,\n",
       "        -9.08524735e-10,  6.18697755e-10, -4.01435539e-10],\n",
       "       [ 3.09109288e-10, -1.21850743e-09,  3.18557027e-09,\n",
       "        -5.23485987e-09,  4.03576337e-09,  5.90484769e-10,\n",
       "        -2.21028515e-09,  2.76251932e-09, -2.42415355e-09,\n",
       "         1.57638758e-09, -1.00426019e-09,  5.12965751e-10,\n",
       "        -2.74294332e-10,  1.45258493e-10, -5.28843256e-11,\n",
       "         4.53625533e-09, -8.12814420e-09,  9.31392221e-09,\n",
       "        -7.48179097e-09,  4.39261080e-09, -1.23380453e-09,\n",
       "         1.79038449e-10, -8.36793094e-10,  8.98287320e-10,\n",
       "        -9.10986389e-10,  6.20544447e-10, -3.40941039e-10,\n",
       "         2.26329509e-10, -1.27956698e-10,  8.79496409e-11],\n",
       "       [-5.04663506e-10,  1.81622986e-09, -2.87407245e-09,\n",
       "         2.40037807e-09, -4.83397874e-10, -1.87365473e-09,\n",
       "         3.06790897e-09, -2.64644701e-09,  1.79472034e-09,\n",
       "        -1.08527467e-09,  6.26424890e-10, -3.55516823e-10,\n",
       "         1.88701926e-10, -9.62211755e-11,  3.66851287e-11,\n",
       "        -1.19546866e-09,  1.55924033e-09, -4.74681266e-10,\n",
       "        -1.90689781e-09,  3.85649537e-09, -3.60424917e-09,\n",
       "         1.89018225e-09, -3.65266903e-10, -3.02579869e-10,\n",
       "         3.74201873e-10, -2.86577838e-10,  1.69433515e-10,\n",
       "        -9.16521470e-11,  4.76756915e-11, -2.55177896e-11],\n",
       "       [-3.73551202e-11,  2.43593006e-10, -6.93000652e-10,\n",
       "         1.28100526e-09, -1.70890834e-09,  1.64546172e-09,\n",
       "        -1.12575856e-09,  5.14975735e-10, -7.95010208e-11,\n",
       "        -8.68829167e-11,  9.36429535e-11, -5.82049094e-11,\n",
       "         2.99525277e-11, -1.53793413e-11,  6.07440832e-12,\n",
       "        -4.81850342e-10,  1.04155881e-09, -1.53601233e-09,\n",
       "         1.58045249e-09, -1.16428905e-09,  5.93939675e-10,\n",
       "        -6.82471302e-11, -1.65735938e-10,  1.12095001e-10,\n",
       "         2.31704269e-12, -6.24517597e-11,  6.46828780e-11,\n",
       "        -4.83477414e-11,  3.26468043e-11, -2.31734928e-11],\n",
       "       [ 3.33954741e-11, -1.23640385e-10,  2.30901879e-10,\n",
       "        -2.64049043e-10,  1.70663555e-10, -1.89525861e-12,\n",
       "        -1.60822343e-10,  2.48281076e-10, -2.40081837e-10,\n",
       "         1.73935642e-10, -9.98285245e-11,  4.72499610e-11,\n",
       "        -1.97868105e-11,  8.16477456e-12, -3.00056507e-12,\n",
       "         1.04286169e-10, -1.61560630e-10,  1.14946469e-10,\n",
       "         4.23857450e-11, -2.42990021e-10,  3.66932413e-10,\n",
       "        -3.36370014e-10,  2.06641674e-10, -6.72796198e-11,\n",
       "        -2.07203777e-11,  4.74928154e-11, -3.89812264e-11,\n",
       "         2.27673986e-11, -1.13367097e-11,  5.89975290e-12],\n",
       "       [ 4.11183681e-13, -3.94147654e-12,  1.68776989e-11,\n",
       "        -4.19876951e-11,  7.43007962e-11, -9.99817721e-11,\n",
       "         1.00134194e-10, -8.13583161e-11,  5.50102039e-11,\n",
       "        -2.98563847e-11,  1.27591859e-11, -3.76988946e-12,\n",
       "         3.84698722e-13,  3.59855653e-13, -2.60791851e-13,\n",
       "         2.13397230e-11, -4.78431572e-11,  7.82378204e-11,\n",
       "        -1.00056073e-10,  1.01049792e-10, -8.86634766e-11,\n",
       "         6.67408245e-11, -3.53921229e-11,  1.16443638e-11,\n",
       "        -3.32426297e-13, -1.90207414e-12,  2.67593661e-13,\n",
       "         1.50125711e-12, -2.33732984e-12,  2.36531294e-12],\n",
       "       [-6.20790847e-13,  2.24581027e-12, -4.10250056e-12,\n",
       "         4.47539755e-12, -2.08451168e-12, -2.42657737e-12,\n",
       "         6.54722938e-12, -8.72813721e-12,  8.70054734e-12,\n",
       "        -6.89289658e-12,  4.50592637e-12, -2.54613577e-12,\n",
       "         1.25789599e-12, -5.44665970e-13,  2.00534342e-13,\n",
       "        -2.88105154e-12,  4.79638064e-12, -4.44506310e-12,\n",
       "         1.46255604e-12,  2.84754374e-12, -6.41131797e-12,\n",
       "         7.13355906e-12, -4.90542247e-12,  1.82719399e-12,\n",
       "         4.59707307e-13, -1.49483490e-12,  1.46352360e-12,\n",
       "        -9.65982673e-13,  5.20442276e-13, -2.55937336e-13],\n",
       "       [-7.69899452e-14,  3.43807079e-13, -1.01482584e-12,\n",
       "         1.98214870e-12, -2.94094654e-12,  3.62398205e-12,\n",
       "        -3.72198169e-12,  3.12599425e-12, -2.22162738e-12,\n",
       "         1.39665808e-12, -7.70165780e-13,  3.58108137e-13,\n",
       "        -1.40456334e-13,  4.43791575e-14, -4.27329690e-15,\n",
       "        -1.27674685e-12,  2.56021555e-12, -3.61677353e-12,\n",
       "         4.02562419e-12, -3.50651340e-12,  2.57125473e-12,\n",
       "        -1.81071730e-12,  1.09505164e-12, -4.48942531e-13,\n",
       "         7.97377068e-14,  1.83546862e-14, -8.31407292e-15,\n",
       "        -3.14724605e-14,  7.36221246e-14, -9.18203376e-14],\n",
       "       [ 2.13722472e-14, -9.78685578e-14,  1.62512234e-13,\n",
       "        -7.38043796e-14, -3.01237920e-13,  8.57591371e-13,\n",
       "        -1.20876598e-12,  1.19844016e-12, -9.70349116e-13,\n",
       "         6.65500424e-13, -3.80626702e-13,  1.75608819e-13,\n",
       "        -6.53476555e-14,  1.89628817e-14, -2.77695492e-15,\n",
       "         2.64305770e-13, -4.28020709e-13,  3.80056082e-13,\n",
       "        -1.00143839e-13, -2.24667557e-13,  4.36549838e-13,\n",
       "        -4.26317433e-13,  1.71875224e-13,  1.02385705e-13,\n",
       "        -2.46420483e-13,  2.57578222e-13, -1.95982687e-13,\n",
       "         1.20938443e-13, -5.82543681e-14,  2.55229623e-14],\n",
       "       [ 6.36851860e-15, -2.90061009e-14,  7.80403512e-14,\n",
       "        -1.64279379e-13,  2.59082555e-13, -3.38568503e-13,\n",
       "         3.61165923e-13, -2.94507319e-13,  1.83175279e-13,\n",
       "        -8.49448970e-14,  2.56392282e-14, -2.08279855e-17,\n",
       "        -5.93038082e-15,  5.97368173e-15, -1.84968565e-15,\n",
       "         7.45463924e-14, -1.43830074e-13,  1.91261130e-13,\n",
       "        -1.95711770e-13,  1.30540882e-13, -1.09042150e-14,\n",
       "        -9.36218749e-14,  1.55115144e-13, -1.65774785e-13,\n",
       "         1.31961991e-13, -8.37022124e-14,  3.79525958e-14,\n",
       "        -9.02638118e-15, -4.81721640e-15,  8.72750808e-15],\n",
       "       [-3.83799444e-15,  1.66444293e-14, -3.65419700e-14,\n",
       "         5.06758053e-14, -4.23083085e-14,  1.00045188e-14,\n",
       "         2.79715685e-14, -5.49421324e-14,  6.61658605e-14,\n",
       "        -6.07298746e-14,  4.66092126e-14, -2.96349588e-14,\n",
       "         1.62542622e-14, -7.15815197e-15,  2.12640454e-15,\n",
       "        -3.66371209e-14,  6.25806481e-14, -6.74074425e-14,\n",
       "         4.39743788e-14,  2.54685487e-15, -5.48261159e-14,\n",
       "         8.50805480e-14, -7.91834090e-14,  5.08591839e-14,\n",
       "        -2.14291585e-14,  5.28813738e-16,  8.63489255e-15,\n",
       "        -1.15438850e-14,  8.37293219e-15, -7.67339298e-15],\n",
       "       [-6.38692886e-17, -6.40715339e-16, -1.96774758e-15,\n",
       "         3.97059645e-15, -1.02771385e-14,  1.93806784e-14,\n",
       "        -2.64736606e-14,  2.87609369e-14, -2.60282599e-14,\n",
       "         1.89073634e-14, -1.02610449e-14,  5.00596984e-15,\n",
       "        -1.30855980e-15,  8.88445361e-16, -3.56112061e-16,\n",
       "         9.30816881e-16, -3.03188633e-15,  8.36560901e-16,\n",
       "         1.76977385e-15, -2.85177253e-15,  5.64186132e-15,\n",
       "        -4.52525475e-15,  3.36912869e-15,  2.74045079e-15,\n",
       "        -4.81387382e-15,  6.40531429e-15, -3.78658602e-15,\n",
       "         2.39667127e-15, -1.00900549e-15,  5.67841878e-16],\n",
       "       [ 1.82998871e-07, -2.41492679e-07,  2.37059964e-07,\n",
       "        -6.43902414e-07,  1.21389231e-07, -3.07302967e-07,\n",
       "         1.43238069e-07, -1.61144253e-08,  5.68040368e-08,\n",
       "         7.32621372e-09,  1.98875411e-09, -5.43728314e-10,\n",
       "        -4.39455138e-09, -1.52950108e-10, -1.14698606e-09,\n",
       "         5.30478500e-08, -1.63360121e-07, -1.48647359e-07,\n",
       "        -4.18056422e-07,  4.35779933e-07, -1.48588095e-07,\n",
       "         2.87635664e-07, -8.94750123e-08,  8.30481112e-08,\n",
       "        -6.32642310e-08,  2.11503096e-08, -2.18277731e-08,\n",
       "         8.41232860e-09, -4.86546889e-09,  3.91721347e-09],\n",
       "       [-2.24623804e-10,  8.17424946e-09,  1.27981874e-07,\n",
       "        -1.48900028e-07,  1.77684409e-07, -1.26400698e-07,\n",
       "         3.29322634e-08, -3.86198580e-08,  4.73128284e-09,\n",
       "        -1.97475277e-09,  3.11686080e-09,  2.43933888e-09,\n",
       "         3.31242843e-10,  4.46513899e-10, -1.85009046e-10,\n",
       "         4.17373505e-09, -4.59552910e-08,  1.06340348e-07,\n",
       "        -1.52369484e-07,  1.19412141e-07, -1.46717759e-07,\n",
       "         6.75393350e-08, -3.95863777e-08,  3.46204307e-08,\n",
       "        -8.12584459e-09,  9.52277045e-09, -3.34981706e-09,\n",
       "         6.92327926e-10, -9.68974913e-10, -9.51962955e-11],\n",
       "       [ 7.59125075e-10,  4.36822579e-09, -3.31291496e-08,\n",
       "         5.61084190e-08, -2.18710153e-08,  1.29208883e-08,\n",
       "        -1.42551271e-08,  1.80426419e-09, -3.75466865e-09,\n",
       "         2.43833929e-09, -2.20570809e-10,  1.04162447e-09,\n",
       "        -3.32481350e-10,  1.12088115e-10, -1.43486760e-10,\n",
       "        -2.71706847e-08,  7.21337345e-08, -9.91573422e-08,\n",
       "         6.71830823e-08, -4.72801065e-08,  2.38796374e-08,\n",
       "        -2.12097811e-08,  1.10469321e-08, -2.29260480e-09,\n",
       "         3.84472202e-09, -1.47072535e-09,  9.11041970e-10,\n",
       "        -1.06319098e-09,  4.89308664e-10, -4.39104476e-10],\n",
       "       [ 1.07905079e-09, -2.67803507e-09,  4.01961654e-09,\n",
       "         2.80241403e-09, -1.69315065e-08,  2.41986893e-08,\n",
       "        -1.63049684e-08,  1.16407712e-08, -8.95460729e-09,\n",
       "         5.60019470e-09, -3.79575096e-09,  2.31557473e-09,\n",
       "        -1.23890128e-09,  6.97578290e-10, -2.44217942e-10,\n",
       "         6.98511613e-09, -1.44961175e-08,  1.47795205e-08,\n",
       "        -1.26606105e-08,  2.36553076e-08, -2.31843142e-08,\n",
       "         1.65309333e-08, -1.27993738e-08,  7.72680129e-09,\n",
       "        -4.47459850e-09,  2.71956822e-09, -1.32126954e-09,\n",
       "         7.73297996e-10, -3.94243573e-10,  1.91272504e-10],\n",
       "       [-2.28407107e-10,  1.53572501e-09, -3.03894453e-09,\n",
       "         3.46795900e-09, -2.29117885e-09, -5.55088937e-11,\n",
       "         1.41743975e-09, -5.22833005e-10, -1.80726260e-10,\n",
       "         3.05748455e-10, -2.67052347e-10,  9.21375003e-11,\n",
       "        -2.42444700e-11,  8.81629957e-12,  6.93620612e-12,\n",
       "         2.03621684e-09, -4.44469960e-09,  7.21547411e-09,\n",
       "        -1.00140719e-08,  9.32746157e-09, -4.33356440e-09,\n",
       "         6.63293626e-10,  1.24278732e-09, -1.98225397e-09,\n",
       "         1.55119294e-09, -1.02889497e-09,  6.50558012e-10,\n",
       "        -3.76600737e-10,  2.47879255e-10, -1.68927910e-10],\n",
       "       [-2.42941782e-10,  1.16843887e-09, -3.07229555e-09,\n",
       "         5.22843076e-09, -6.30366860e-09,  5.39828758e-09,\n",
       "        -3.32088630e-09,  1.57036652e-09, -5.03380332e-10,\n",
       "         5.53081141e-11,  4.00042828e-11, -5.96688288e-11,\n",
       "         3.87885151e-11, -1.69319292e-11,  9.85774674e-12,\n",
       "        -1.93821345e-09,  4.06585430e-09, -5.62506913e-09,\n",
       "         5.59606787e-09, -3.94762592e-09,  2.02337804e-09,\n",
       "        -5.59594608e-10,  8.60861456e-11, -1.85269947e-10,\n",
       "         2.27536536e-10, -2.41055984e-10,  2.16235975e-10,\n",
       "        -1.56571122e-10,  1.16846735e-10, -8.68011775e-11],\n",
       "       [ 1.04605826e-10, -3.84267597e-10,  6.83666288e-10,\n",
       "        -6.70306420e-10,  2.24758034e-10,  3.43331403e-10,\n",
       "        -7.82262009e-10,  8.38065136e-10, -5.71764912e-10,\n",
       "         3.04897886e-10, -1.39404071e-10,  6.10290790e-11,\n",
       "        -3.25102535e-11,  1.69107064e-11, -6.95900794e-12,\n",
       "         3.35190442e-10, -4.79797559e-10,  2.04220902e-10,\n",
       "         4.33670887e-10, -1.09954618e-09,  1.30258198e-09,\n",
       "        -8.69393224e-10,  3.17376918e-10,  5.07563779e-11,\n",
       "        -1.69864658e-10,  1.33618959e-10, -7.95103710e-11,\n",
       "         4.32451883e-11, -2.40721025e-11,  1.62790087e-11],\n",
       "       [ 5.53174975e-12, -4.22059694e-11,  1.51140240e-10,\n",
       "        -3.15903977e-10,  4.76364717e-10, -5.53832844e-10,\n",
       "         4.92541566e-10, -3.36468341e-10,  1.64514307e-10,\n",
       "        -4.44965184e-11, -5.27027538e-12,  1.28859251e-11,\n",
       "        -6.87358511e-12,  1.42907914e-12,  1.10841891e-13,\n",
       "         9.89173950e-11, -2.23237630e-10,  3.47815674e-10,\n",
       "        -3.92922703e-10,  3.09322345e-10, -1.59871210e-10,\n",
       "        -3.31897920e-13,  1.16449636e-10, -1.40971900e-10,\n",
       "         1.02861742e-10, -4.98463772e-11,  1.23270584e-11,\n",
       "         3.03265689e-12, -5.95090648e-12,  4.93385885e-12],\n",
       "       [-4.45126172e-12,  1.76896214e-11, -3.82345833e-11,\n",
       "         5.38258751e-11, -5.05542014e-11,  3.47395468e-11,\n",
       "        -1.27852570e-11, -1.09216392e-11,  2.33852038e-11,\n",
       "        -2.47605460e-11,  1.94976975e-11, -1.22137990e-11,\n",
       "         6.47451191e-12, -2.84833759e-12,  9.64837928e-13,\n",
       "        -2.97109111e-11,  5.30784772e-11, -5.68412843e-11,\n",
       "         3.37120647e-11,  1.09716083e-11, -5.43000390e-11,\n",
       "         6.58834642e-11, -5.44734348e-11,  3.57112685e-11,\n",
       "        -1.72755975e-11,  5.32764707e-12,  3.81960888e-13,\n",
       "        -1.90911323e-12,  1.55727131e-12, -9.73974868e-13],\n",
       "       [-2.02635542e-13,  1.20676600e-12, -3.79117670e-12,\n",
       "         7.75882402e-12, -1.12270695e-11,  1.31333526e-11,\n",
       "        -1.25089847e-11,  9.22125243e-12, -5.20735625e-12,\n",
       "         1.87785082e-12,  7.19363172e-15, -5.38759509e-13,\n",
       "         4.36991297e-13, -2.10096147e-13,  6.51123017e-14,\n",
       "        -3.43462709e-12,  7.15064426e-12, -1.03188366e-11,\n",
       "         1.13283427e-11, -9.07350328e-12,  4.61656705e-12,\n",
       "        -6.45680289e-13, -2.35180322e-12,  3.62832376e-12,\n",
       "        -3.00351630e-12,  1.69215184e-12, -5.37127814e-13,\n",
       "        -1.12505274e-13,  3.18942179e-13, -3.22014380e-13],\n",
       "       [ 1.44882733e-13, -5.90201283e-13,  1.16758094e-12,\n",
       "        -1.42139484e-12,  9.51078487e-13,  1.02050549e-13,\n",
       "        -8.91725639e-13,  1.27273713e-12, -1.41790286e-12,\n",
       "         1.27082536e-12, -9.94502575e-13,  7.02920221e-13,\n",
       "        -4.46275916e-13,  2.47843748e-13, -1.02078450e-13,\n",
       "         1.32957107e-12, -2.29636092e-12,  2.45994261e-12,\n",
       "        -1.58011669e-12,  1.06867829e-13,  1.27921277e-12,\n",
       "        -1.87083320e-12,  1.49605532e-12, -9.30303912e-13,\n",
       "         4.92436708e-13, -1.78213820e-13,  1.39042344e-14,\n",
       "         6.15043746e-14, -8.03040267e-14,  7.66119521e-14],\n",
       "       [ 3.55259405e-14, -1.55711435e-13,  3.84901342e-13,\n",
       "        -6.85264431e-13,  9.19534673e-13, -9.97231327e-13,\n",
       "         9.36268831e-13, -6.46402621e-13,  2.84022457e-13,\n",
       "        -3.04451843e-14, -8.02969718e-14,  9.26330622e-14,\n",
       "        -6.26405620e-14,  2.76059294e-14, -9.56665359e-15,\n",
       "         3.91823758e-13, -7.31294338e-13,  9.22191075e-13,\n",
       "        -8.29263369e-13,  4.27765932e-13,  1.32315240e-13,\n",
       "        -5.08413349e-13,  6.08110710e-13, -5.37783233e-13,\n",
       "         3.57243352e-13, -1.55559900e-13,  1.24334743e-14,\n",
       "         5.56367798e-14, -7.10172085e-14,  6.47326406e-14],\n",
       "       [-1.49576949e-14,  5.40958886e-14, -1.02908068e-13,\n",
       "         1.20211559e-13, -5.61214238e-14, -7.39610884e-14,\n",
       "         1.89693440e-13, -2.33953436e-13,  2.21262793e-13,\n",
       "        -1.72728215e-13,  1.15269286e-13, -6.50366525e-14,\n",
       "         3.04081577e-14, -1.49141531e-14,  4.51642987e-15,\n",
       "        -1.07124516e-13,  1.79283898e-13, -1.80250764e-13,\n",
       "         1.07906002e-13,  8.06963921e-15, -1.12108704e-13,\n",
       "         1.48390941e-13, -1.02394364e-13,  2.80629974e-14,\n",
       "         2.67721514e-14, -5.09180614e-14,  4.96212243e-14,\n",
       "        -4.05241123e-14,  2.91842187e-14, -2.06306597e-14],\n",
       "       [ 8.70273644e-17,  3.08371405e-15, -1.69261189e-14,\n",
       "         4.59175077e-14, -8.34358019e-14,  1.23618827e-13,\n",
       "        -1.42245925e-13,  1.30013567e-13, -9.44464276e-14,\n",
       "         5.41589630e-14, -2.33148991e-14,  5.63326131e-15,\n",
       "         1.27489426e-15, -3.15957442e-15,  8.82308049e-16,\n",
       "        -1.49958823e-14,  3.26387414e-14, -5.02985067e-14,\n",
       "         5.98902963e-14, -4.88507142e-14,  1.97882318e-14,\n",
       "         1.13993386e-14, -3.74899254e-14,  5.18171555e-14,\n",
       "        -5.08861462e-14,  3.79394086e-14, -2.16592588e-14,\n",
       "         7.27360011e-15, -6.29108144e-16, -3.43590791e-15],\n",
       "       [ 1.56684170e-16, -7.94890003e-16,  5.15320023e-15,\n",
       "        -1.20363294e-14,  1.43054896e-14, -1.45390238e-14,\n",
       "         8.78541930e-15, -2.75809764e-15, -2.90663903e-15,\n",
       "         5.17204548e-15, -6.61400039e-15,  5.75793647e-15,\n",
       "        -3.52420194e-15,  1.96781224e-15, -7.33703377e-16,\n",
       "         5.41852317e-15, -1.21372749e-14,  1.54906332e-14,\n",
       "        -1.32739620e-14,  4.96457780e-15,  9.40043624e-15,\n",
       "        -1.89414713e-14,  2.00007957e-14, -1.53070096e-14,\n",
       "         1.03130094e-14, -5.78121826e-15,  2.19751076e-15,\n",
       "        -8.61490195e-16, -1.16639033e-15,  1.04887103e-15]])"
      ]
     },
     "execution_count": 19,
     "metadata": {},
     "output_type": "execute_result"
    }
   ],
   "source": [
    "rpo_test.convert(to='modes').state"
   ]
  },
  {
   "cell_type": "code",
   "execution_count": 6,
   "metadata": {},
   "outputs": [
    {
     "data": {
      "text/plain": [
       "'modes'"
      ]
     },
     "execution_count": 6,
     "metadata": {},
     "output_type": "execute_result"
    }
   ],
   "source": [
    "next_orbit.state_type"
   ]
  },
  {
   "cell_type": "code",
   "execution_count": 7,
   "metadata": {},
   "outputs": [
    {
     "data": {
      "text/plain": [
       "'modes'"
      ]
     },
     "execution_count": 7,
     "metadata": {},
     "output_type": "execute_result"
    }
   ],
   "source": [
    "dorbit.state_type"
   ]
  },
  {
   "cell_type": "code",
   "execution_count": 8,
   "metadata": {},
   "outputs": [],
   "source": [
    "from __future__ import print_function, division, absolute_import\n",
    "import os\n",
    "import sys\n",
    "sys.path.insert(0, \"C:\\\\Users\\\\Matt\\\\Desktop\\\\orbithunter\\\\\")\n",
    "from orbithunter import *\n",
    "import numpy as np\n",
    "# from scipy.fft import irfft,rfft,rfftn,irfftn,fftn,ifftn,fft,ifft,fft2,rfft2\n",
    "import itertools\n",
    "from math import pi\n",
    "import matplotlib.pyplot as plt\n",
    "from scipy.fft import rfft, irfft\n",
    "%matplotlib inline"
   ]
  },
  {
   "cell_type": "code",
   "execution_count": 9,
   "metadata": {
    "scrolled": true
   },
   "outputs": [],
   "source": [
    "# To avoid redundant function calls, store optimization variables using\n",
    "# clunky notation.\n",
    "next_orbit = orbit.increment(dorbit, stepsize=1)\n",
    "next_residual = next_orbit.residual()\n",
    "next_residual\n",
    "\n",
    "dorbit.to_h5('ShiftReflectionOrbitKS_new_dx.h5')\n",
    "next_orbit.to_h5('ShiftReflectionOrbitKS_new_next_orbit.h5')"
   ]
  },
  {
   "cell_type": "code",
   "execution_count": 10,
   "metadata": {},
   "outputs": [
    {
     "data": {
      "text/plain": [
       "'modes'"
      ]
     },
     "execution_count": 10,
     "metadata": {},
     "output_type": "execute_result"
    }
   ],
   "source": [
    "dorbit.state_type"
   ]
  },
  {
   "cell_type": "code",
   "execution_count": 11,
   "metadata": {},
   "outputs": [
    {
     "data": {
      "text/plain": [
       "(64, 32)"
      ]
     },
     "execution_count": 11,
     "metadata": {},
     "output_type": "execute_result"
    }
   ],
   "source": [
    "dorbit.convert(to='field').state.shape"
   ]
  },
  {
   "cell_type": "code",
   "execution_count": 12,
   "metadata": {},
   "outputs": [
    {
     "data": {
      "text/plain": [
       "(63, 15)"
      ]
     },
     "execution_count": 12,
     "metadata": {},
     "output_type": "execute_result"
    }
   ],
   "source": [
    "dorbit.state.shape"
   ]
  },
  {
   "cell_type": "code",
   "execution_count": 13,
   "metadata": {},
   "outputs": [
    {
     "data": {
      "text/plain": [
       "(63, 15)"
      ]
     },
     "execution_count": 13,
     "metadata": {},
     "output_type": "execute_result"
    }
   ],
   "source": [
    "next_orbit.state.shape"
   ]
  },
  {
   "cell_type": "code",
   "execution_count": 14,
   "metadata": {},
   "outputs": [],
   "source": [
    "dorbit_new = read_h5('ShiftReflectionOrbitKS_new_dx.h5')\n",
    "norbit_new =  read_h5('ShiftReflectionOrbitKS_new_next_orbit.h5')"
   ]
  },
  {
   "cell_type": "code",
   "execution_count": 15,
   "metadata": {},
   "outputs": [
    {
     "data": {
      "text/plain": [
       "(64, 32)"
      ]
     },
     "execution_count": 15,
     "metadata": {},
     "output_type": "execute_result"
    }
   ],
   "source": [
    "dorbit_new.state.shape"
   ]
  },
  {
   "cell_type": "code",
   "execution_count": 16,
   "metadata": {},
   "outputs": [
    {
     "data": {
      "text/plain": [
       "array([ 2.38527366e+00,  2.12797768e-01,  5.47833998e+00, -1.38041344e+00,\n",
       "        1.10630379e-01, -4.24506919e-01, -1.84223759e-03, -2.66330978e-02,\n",
       "       -1.42215360e-02, -1.32350216e-02,  4.47684091e-03, -5.01678855e-04,\n",
       "        2.91189870e-04,  8.37055394e-05, -6.42482685e-05])"
      ]
     },
     "execution_count": 16,
     "metadata": {},
     "output_type": "execute_result"
    }
   ],
   "source": [
    "dorbit.L, dorbit.T\n",
    "\n",
    "np.diag(dorbit.state)\n",
    "\n",
    "next_orbit.L, next_orbit.T\n",
    "\n",
    "np.diag(next_orbit.state)"
   ]
  },
  {
   "cell_type": "markdown",
   "metadata": {},
   "source": [
    "# Old code version"
   ]
  },
  {
   "cell_type": "code",
   "execution_count": 17,
   "metadata": {},
   "outputs": [
    {
     "data": {
      "image/png": "[encoded data removed]",
      "text/plain": [
       "<Figure size 181.942x349.649 with 2 Axes>"
      ]
     },
     "metadata": {
      "needs_background": "light"
     },
     "output_type": "display_data"
    },
    {
     "name": "stdout",
     "output_type": "stream",
     "text": [
      "Starting lstsq numerical method. Initial residual 0.0019471593337781078\n",
      "0\n",
      "Converged. exiting with residual 3.7852378724652415e-18\n"
     ]
    },
    {
     "ename": "TypeError",
     "evalue": "jacobian() got an unexpected keyword argument 'fixedparams'",
     "output_type": "error",
     "traceback": [
      "\u001b[1;31m---------------------------------------------------------------------------\u001b[0m",
      "\u001b[1;31mTypeError\u001b[0m                                 Traceback (most recent call last)",
      "\u001b[1;32m<ipython-input-17-2d056d1189f5>\u001b[0m in \u001b[0;36m<module>\u001b[1;34m\u001b[0m\n\u001b[0;32m     47\u001b[0m \u001b[1;33m\u001b[0m\u001b[0m\n\u001b[0;32m     48\u001b[0m \u001b[0mparameter_constraints\u001b[0m \u001b[1;33m=\u001b[0m \u001b[1;33m(\u001b[0m\u001b[1;32mFalse\u001b[0m\u001b[1;33m,\u001b[0m\u001b[1;32mFalse\u001b[0m\u001b[1;33m,\u001b[0m\u001b[1;32mFalse\u001b[0m\u001b[1;33m)\u001b[0m\u001b[1;33m\u001b[0m\u001b[1;33m\u001b[0m\u001b[0m\n\u001b[1;32m---> 49\u001b[1;33m \u001b[0mA\u001b[0m \u001b[1;33m=\u001b[0m \u001b[0morbit\u001b[0m\u001b[1;33m.\u001b[0m\u001b[0mjacobian\u001b[0m\u001b[1;33m(\u001b[0m\u001b[0mfixedparams\u001b[0m\u001b[1;33m=\u001b[0m\u001b[0mparameter_constraints\u001b[0m\u001b[1;33m)\u001b[0m\u001b[1;33m\u001b[0m\u001b[1;33m\u001b[0m\u001b[0m\n\u001b[0m\u001b[0;32m     50\u001b[0m \u001b[0mb\u001b[0m \u001b[1;33m=\u001b[0m \u001b[1;33m-\u001b[0m\u001b[1;36m1.0\u001b[0m \u001b[1;33m*\u001b[0m \u001b[0morbit\u001b[0m\u001b[1;33m.\u001b[0m\u001b[0mspatiotemporal_mapping\u001b[0m\u001b[1;33m(\u001b[0m\u001b[1;33m)\u001b[0m\u001b[1;33m.\u001b[0m\u001b[0mstate\u001b[0m\u001b[1;33m.\u001b[0m\u001b[0mravel\u001b[0m\u001b[1;33m(\u001b[0m\u001b[1;33m)\u001b[0m\u001b[1;33m\u001b[0m\u001b[1;33m\u001b[0m\u001b[0m\n\u001b[0;32m     51\u001b[0m \u001b[0mcorrection_tuple\u001b[0m \u001b[1;33m=\u001b[0m \u001b[0mlstsq\u001b[0m\u001b[1;33m(\u001b[0m\u001b[0mA\u001b[0m\u001b[1;33m,\u001b[0m \u001b[0mb\u001b[0m\u001b[1;33m.\u001b[0m\u001b[0mreshape\u001b[0m\u001b[1;33m(\u001b[0m\u001b[1;33m-\u001b[0m\u001b[1;36m1\u001b[0m\u001b[1;33m,\u001b[0m \u001b[1;36m1\u001b[0m\u001b[1;33m)\u001b[0m\u001b[1;33m)\u001b[0m\u001b[1;33m\u001b[0m\u001b[1;33m\u001b[0m\u001b[0m\n",
      "\u001b[1;31mTypeError\u001b[0m: jacobian() got an unexpected keyword argument 'fixedparams'"
     ]
    }
   ],
   "source": [
    "from __future__ import print_function, division, absolute_import\n",
    "import os\n",
    "import sys\n",
    "sys.path.insert(0, \"C:\\\\Users\\\\Matt\\\\Desktop\\\\orbit-tmp\\\\\")\n",
    "from orbithunter import *\n",
    "import numpy as np\n",
    "# from scipy.fft import irfft,rfft,rfftn,irfftn,fftn,ifftn,fft,ifft,fft2,rfft2\n",
    "import itertools\n",
    "from math import pi\n",
    "import matplotlib.pyplot as plt\n",
    "from scipy.fft import rfft, irfft\n",
    "%matplotlib inline\n",
    "\n",
    "orbit = read_h5(\"C:\\\\Users\\\\Matt\\\\Desktop\\\\orbithunter_test_data\\\\ppo_L21p74_T95p23.h5\")\n",
    "orbit.plot(fundamental_domain=False)\n",
    "orbit.residual()\n",
    "converge(orbit, method='lstsq', atol=10**-14, verbose=True)\n",
    "\n",
    "# np.linalg.norm(orbit.spacetime_ifft().spacetime_fft().state - orbit.state)\n",
    "# np.sum(np.abs(np.dot(orbit.jacobian()[:, :-2], orbit.spatiotemporal_mapping().state.ravel())))\n",
    "# np.dot(orbit.jacobian()[:, :-2], orbit.spatiotemporal_mapping().state.ravel())\n",
    "\n",
    "from scipy.linalg import lstsq\n",
    "\n",
    "def _state_vector_to_orbit(orbit, correction_vector, parameter_constraints=(False,False,False), **kwargs):\n",
    "    \"\"\"\n",
    "    :param orbit:\n",
    "    :param correction_vector:\n",
    "    :param preconditioning:\n",
    "    :param parameter_constraints:\n",
    "    :param kwargs:\n",
    "    :return:\n",
    "    \"\"\"\n",
    "    correction_vector = correction_vector.reshape(-1, 1)\n",
    "    mode_shape, mode_size = orbit.state.shape, orbit.state.size\n",
    "    d_modes = correction_vector[:mode_size]\n",
    "    # slice the changes to parameters from vector\n",
    "    d_params = correction_vector[mode_size:].ravel()\n",
    "\n",
    "    for i, constrained in enumerate(parameter_constraints):\n",
    "        if constrained or (i == len(d_params)):\n",
    "            d_params = np.insert(d_params, i, 0)\n",
    "    dT, dL, dS = d_params\n",
    "    correction_orbit = orbit.__class__(state=np.reshape(d_modes, mode_shape), state_type='modes',\n",
    "                                       T=dT, L=dL, S=dS)\n",
    "    return correction_orbit\n",
    "\n",
    "parameter_constraints = (False,False,False)\n",
    "A = orbit.jacobian(fixedparams=parameter_constraints)\n",
    "b = -1.0 * orbit.spatiotemporal_mapping().state.ravel()\n",
    "correction_tuple = lstsq(A, b.reshape(-1, 1))\n",
    "correction_vector = correction_tuple[0]\n",
    "\n",
    "dorbit = _state_vector_to_orbit(orbit, correction_vector, fixedparams=parameter_constraints)\n",
    "\n",
    "# To avoid redundant function calls, store optimization variables using\n",
    "# clunky notation.\n",
    "next_orbit = orbit.increment(dorbit, stepsize=1)\n",
    "next_residual = next_orbit.residual()\n",
    "next_residual\n",
    "\n",
    "dorbit.state.shape\n",
    "\n",
    "dorbit.to_h5('ShiftReflectionOrbitKS_old_dx.h5')\n",
    "next_orbit.to_h5('ShiftReflectionOrbitKS_old_next_orbit.h5')"
   ]
  },
  {
   "cell_type": "markdown",
   "metadata": {},
   "source": [
    "# Comparison, new vs. old"
   ]
  },
  {
   "cell_type": "code",
   "execution_count": null,
   "metadata": {},
   "outputs": [],
   "source": [
    "dorbit_new = read_h5('ShiftReflectionOrbitKS_new_dx.h5')\n",
    "norbit_new =  read_h5('ShiftReflectionOrbitKS_new_next_orbit.h5')\n",
    "dorbit_old = read_h5('ShiftReflectionOrbitKS_old_dx.h5')\n",
    "norbit_old = read_h5('ShiftReflectionOrbitKS_old_next_orbit.h5')"
   ]
  },
  {
   "cell_type": "code",
   "execution_count": null,
   "metadata": {},
   "outputs": [],
   "source": [
    "norbit_new.state - norbit_old.state"
   ]
  },
  {
   "cell_type": "code",
   "execution_count": null,
   "metadata": {},
   "outputs": [],
   "source": [
    "(dorbit_new - dorbit_old).state"
   ]
  },
  {
   "cell_type": "code",
   "execution_count": null,
   "metadata": {},
   "outputs": [],
   "source": [
    "dorbit_new.state.shape"
   ]
  },
  {
   "cell_type": "code",
   "execution_count": null,
   "metadata": {},
   "outputs": [],
   "source": [
    "dorbit_new.state-dorbit_old.state"
   ]
  },
  {
   "cell_type": "code",
   "execution_count": null,
   "metadata": {},
   "outputs": [],
   "source": [
    "dorbit.L, dorbit.T"
   ]
  },
  {
   "cell_type": "code",
   "execution_count": null,
   "metadata": {
    "scrolled": false
   },
   "outputs": [],
   "source": [
    "np.diag(dorbit.state)"
   ]
  },
  {
   "cell_type": "code",
   "execution_count": null,
   "metadata": {},
   "outputs": [],
   "source": [
    "array([-6.65791718e-07, -1.22764484e-06,  3.02886506e-06,  8.73111593e-07,\n",
    "       -4.13432925e-07, -3.69807476e-07,  1.87536145e-07, -6.51217693e-09,\n",
    "       -8.35425775e-08,  6.90374691e-07, -4.07607753e-07,  3.98578887e-06,\n",
    "       -6.97394773e-06,  1.85185123e-05, -3.51514999e-05])"
   ]
  },
  {
   "cell_type": "code",
   "execution_count": null,
   "metadata": {},
   "outputs": [],
   "source": [
    "next_orbit.L, next_orbit.T"
   ]
  },
  {
   "cell_type": "code",
   "execution_count": null,
   "metadata": {
    "scrolled": true
   },
   "outputs": [],
   "source": [
    "np.diag(next_orbit.state)"
   ]
  },
  {
   "cell_type": "code",
   "execution_count": null,
   "metadata": {},
   "outputs": [],
   "source": [
    "dft_mat = rfft(np.eye(32), norm='ortho', axis=0)\n",
    "time_dft_mat = np.concatenate((dft_mat[:-1, :].real,\n",
    "                               dft_mat[1:-1, :].imag), axis=0)\n",
    "ab_time_dft_mat = np.insert(time_dft_mat,\n",
    "                            np.arange(time_dft_mat.shape[1]),\n",
    "                            np.zeros([time_dft_mat.shape[0], time_dft_mat.shape[1]]),\n",
    "                            axis=1)"
   ]
  },
  {
   "cell_type": "code",
   "execution_count": null,
   "metadata": {},
   "outputs": [],
   "source": []
  },
  {
   "cell_type": "code",
   "execution_count": null,
   "metadata": {},
   "outputs": [],
   "source": []
  },
  {
   "cell_type": "code",
   "execution_count": null,
   "metadata": {},
   "outputs": [],
   "source": [
    "from functools import lru_cache\n",
    "\n",
    "rpo_test = reqva_test.copy()\n",
    "class Test:\n",
    "    @lru_cache(maxsize=None)\n",
    "    def cached_borrow(self):\n",
    "        return rpo_test.elementwise_dx()\n",
    "    \n",
    "    @classmethod\n",
    "    @lru_cache(maxsize=None)\n",
    "    def class_cached_borrow(self):\n",
    "        return rpo_test.elementwise_dx()\n",
    "    \n",
    "    def borrow(self):\n",
    "        return rpo_test.elementwise_dx()\n",
    "    \n",
    "class Test2:\n",
    "    def borrow(self):\n",
    "        return rpo_test.elementwise_dx()"
   ]
  },
  {
   "cell_type": "markdown",
   "metadata": {},
   "source": [
    "# Caching"
   ]
  },
  {
   "cell_type": "code",
   "execution_count": null,
   "metadata": {},
   "outputs": [],
   "source": [
    "%timeit Test().borrow()"
   ]
  },
  {
   "cell_type": "code",
   "execution_count": null,
   "metadata": {},
   "outputs": [],
   "source": [
    "instantiated_test_class = Test()\n",
    "%timeit instantiated_test_class.borrow()"
   ]
  },
  {
   "cell_type": "code",
   "execution_count": null,
   "metadata": {},
   "outputs": [],
   "source": [
    "%timeit Test().borrow()"
   ]
  },
  {
   "cell_type": "code",
   "execution_count": null,
   "metadata": {},
   "outputs": [],
   "source": [
    "%timeit Test().cached_borrow()"
   ]
  },
  {
   "cell_type": "code",
   "execution_count": null,
   "metadata": {},
   "outputs": [],
   "source": [
    "%timeit Test().class_cached_borrow()"
   ]
  },
  {
   "cell_type": "code",
   "execution_count": null,
   "metadata": {},
   "outputs": [],
   "source": [
    "t = Test()\n",
    "%timeit -r 100 t.cached_borrow()"
   ]
  },
  {
   "cell_type": "code",
   "execution_count": null,
   "metadata": {},
   "outputs": [],
   "source": [
    "t = Test()\n",
    "%timeit -r 100 t.class_cached_borrow()"
   ]
  },
  {
   "cell_type": "code",
   "execution_count": null,
   "metadata": {},
   "outputs": [],
   "source": [
    "instantiated_test_class = Test()\n",
    "%timeit instantiated_test_class.cached_borrow()"
   ]
  },
  {
   "cell_type": "code",
   "execution_count": null,
   "metadata": {},
   "outputs": [],
   "source": [
    "%timeit Test().class_cached_borrow()"
   ]
  },
  {
   "cell_type": "code",
   "execution_count": null,
   "metadata": {},
   "outputs": [],
   "source": [
    "%timeit Test.class_cached_borrow()"
   ]
  },
  {
   "cell_type": "code",
   "execution_count": null,
   "metadata": {},
   "outputs": [],
   "source": [
    "instantiated_test_class = Test()\n",
    "%timeit instantiated_test_class.class_cached_borrow()"
   ]
  },
  {
   "cell_type": "code",
   "execution_count": null,
   "metadata": {},
   "outputs": [],
   "source": [
    "%timeit Test.class_cached_borrow()"
   ]
  },
  {
   "cell_type": "code",
   "execution_count": null,
   "metadata": {},
   "outputs": [],
   "source": []
  },
  {
   "cell_type": "code",
   "execution_count": null,
   "metadata": {},
   "outputs": [],
   "source": [
    "%timeit Test2().borrow()"
   ]
  },
  {
   "cell_type": "code",
   "execution_count": null,
   "metadata": {},
   "outputs": [],
   "source": [
    "instantiated_test_class = Test()"
   ]
  },
  {
   "cell_type": "code",
   "execution_count": null,
   "metadata": {},
   "outputs": [],
   "source": [
    "%timeit instantiated_test_class.cached_borrow()"
   ]
  },
  {
   "cell_type": "code",
   "execution_count": null,
   "metadata": {},
   "outputs": [],
   "source": [
    "%timeit Test().cached_borrow()"
   ]
  },
  {
   "cell_type": "markdown",
   "metadata": {},
   "source": [
    "# Caching with class methods."
   ]
  },
  {
   "cell_type": "markdown",
   "metadata": {},
   "source": [
    "Testing cases for class method caching. Classmethod on both method in test and method in parent class. \n",
    "\n",
    "Return elementwise_dx() by passing arguments, i.e. without instantiation. \n",
    "\n",
    "\n",
    "See if calling the class method once and then timing it with another class member works.\n",
    "\n",
    "See if calling the classmethod, which instantiates a new class instance can be shared. "
   ]
  },
  {
   "cell_type": "code",
   "execution_count": null,
   "metadata": {},
   "outputs": [],
   "source": [
    "class TestOrbit():\n",
    "    @classmethod\n",
    "    @lru_cache(maxsize=None)\n",
    "    def elementwise_dx(self, L, N, M, m):\n",
    "        qk = ((2 * pi * self.M / self.L) * np.fft.fftfreq(self.M)[1:self.m+1]).reshape(1, -1)\n",
    "        qk_vec = np.concatenate((qk, -qk), axis=1)\n",
    "        return np.tile(qk_vec, (self.N-1, 1))"
   ]
  },
  {
   "cell_type": "code",
   "execution_count": null,
   "metadata": {},
   "outputs": [],
   "source": [
    "class CacheTestOrbit():\n",
    "    \n",
    "    @classmethod\n",
    "    @lru_cache(maxsize=None)\n",
    "    def cached_function_call(self, L, N, M, m):\n",
    "        qk = ((2 * pi * M / L) * np.fft.fftfreq(M)[1:m+1]).reshape(1, -1)\n",
    "        qk_vec = np.concatenate((qk, -qk), axis=1)\n",
    "        return np.tile(qk_vec, (N-1, 1)) \n",
    "    \n",
    "    @classmethod\n",
    "    @lru_cache(maxsize=None)\n",
    "    def cached_function_call(self, L, N, M, m):\n",
    "        qk = ((2 * pi * M / L) * np.fft.fftfreq(M)[1:m+1]).reshape(1, -1)\n",
    "        qk_vec = np.concatenate((qk, -qk), axis=1)\n",
    "        return np.tile(qk_vec, (N-1, 1)) \n",
    "    \n",
    "    @classmethod\n",
    "    @lru_cache(maxsize=None)\n",
    "    def cached_elementwise_with_instantiation(self, orbit):\n",
    "        return RelativeOrbitKS(state=orbit.state,state_type=orbit.state_type, L=orbit.L,\n",
    "                               N=orbit.N, M=orbit.M, m=orbit.m).elementwise_dx()\n",
    "        \n",
    "    @classmethod\n",
    "    @lru_cache(maxsize=None)\n",
    "    def cached_elementwise_without_instantiation(self, orbit):\n",
    "        return orbit.elementwise_dx()"
   ]
  },
  {
   "cell_type": "markdown",
   "metadata": {},
   "source": [
    "First test the caching by calling an instantiated instance, then class generator, then different class instance. "
   ]
  },
  {
   "cell_type": "code",
   "execution_count": null,
   "metadata": {},
   "outputs": [],
   "source": [
    "(L, N, M, m) = rpo_test.L, rpo_test.N, rpo_test.M, rpo_test.m"
   ]
  },
  {
   "cell_type": "code",
   "execution_count": null,
   "metadata": {},
   "outputs": [],
   "source": [
    "c = CacheTestOrbit()\n",
    "%timeit c.cached_elementwise_without_instantiation(L,N,M,m)"
   ]
  },
  {
   "cell_type": "code",
   "execution_count": null,
   "metadata": {},
   "outputs": [],
   "source": [
    "%%timeit CacheTestOrbit().cached_elementwise_without_instantiation(rpo_test)\n",
    "orbit\n",
    "rpo_test"
   ]
  },
  {
   "cell_type": "code",
   "execution_count": null,
   "metadata": {},
   "outputs": [],
   "source": [
    "c = CacheTestOrbit()\n",
    "%timeit c.cached_elementwise_without_instantiation(rpo_test)"
   ]
  },
  {
   "cell_type": "code",
   "execution_count": null,
   "metadata": {},
   "outputs": [],
   "source": [
    "# orbit = rpo_test\n",
    "c = CacheTestOrbit()\n",
    "%timeit c.cached_elementwise_with_instantiation(rpo_test)"
   ]
  },
  {
   "cell_type": "code",
   "execution_count": null,
   "metadata": {},
   "outputs": [],
   "source": [
    "%timeit CacheTestOrbit.cached_elementwise_without_instantiation(rpo_test)"
   ]
  },
  {
   "cell_type": "code",
   "execution_count": null,
   "metadata": {},
   "outputs": [],
   "source": [
    "# orbit = rpo_test\n",
    "%timeit CacheTestOrbit.cached_elementwise_with_instantiation(rpo_test)"
   ]
  },
  {
   "cell_type": "code",
   "execution_count": null,
   "metadata": {},
   "outputs": [],
   "source": [
    "orbit = rpo_test\n",
    "c = CacheTestOrbit()\n",
    "%timeit c.cached_elementwise_with_instantiation(orbit)"
   ]
  },
  {
   "cell_type": "code",
   "execution_count": null,
   "metadata": {},
   "outputs": [],
   "source": [
    "orbit = rpo_test\n",
    "%timeit CacheTestOrbit.cached_elementwise_with_instantiation(orbit)"
   ]
  },
  {
   "cell_type": "code",
   "execution_count": null,
   "metadata": {},
   "outputs": [],
   "source": [
    "orbit = rpo_test\n",
    "%timeit = CacheTestOrbit().cached_elementwise_with_instantiation(RelativeOrbitKS(state=orbit.state,state_type=orbit.state_type, L=orbit.L,\n",
    "                               N=orbit.N, M=orbit.M, m=orbit.m))"
   ]
  },
  {
   "cell_type": "code",
   "execution_count": null,
   "metadata": {},
   "outputs": [],
   "source": [
    "orbit = rpo_test"
   ]
  },
  {
   "cell_type": "code",
   "execution_count": null,
   "metadata": {},
   "outputs": [],
   "source": [
    "    @classmethod\n",
    "    @lru_cache(maxsize=None)\n",
    "    def wave_vector(self, orbit):\n",
    "        return  super().wave_vector()\n",
    "    "
   ]
  },
  {
   "cell_type": "code",
   "execution_count": null,
   "metadata": {},
   "outputs": [],
   "source": [
    "np.linalg.norm(np.ravel(self.elementwise_dx()))"
   ]
  },
  {
   "cell_type": "markdown",
   "metadata": {},
   "source": [
    "# Actual orbit caching."
   ]
  },
  {
   "cell_type": "markdown",
   "metadata": {},
   "source": [
    "Note, do not want to cache the actual jacobian, mapping, rmatvec functions because this will emulate the adjoint descent process, for instance. Only want to see the effect of caching elementwise and frequency vector functions. Want to also check performance of clean vs. current coding implementations for those functions. \n",
    "\n",
    "Classmethod is ok, but because caching happens with respect to immutable types, need to pass parameters instead of class instances. The classmethod does not have knowledge of an instance's attributes, even if called as instance.classmethod(). need to pass it immutable \n",
    "\n",
    "# need to check\n",
    "whether or not caching an classmethod that doesn't take arguments will return the same value even if the computation would be different. \n",
    "\n",
    "\n",
    "Why am I trying to do class methods instead of functions?"
   ]
  },
  {
   "cell_type": "code",
   "execution_count": 8,
   "metadata": {},
   "outputs": [
    {
     "data": {
      "text/plain": [
       "RelativeOrbitKS()"
      ]
     },
     "execution_count": 8,
     "metadata": {},
     "output_type": "execute_result"
    }
   ],
   "source": [
    "#     @classmethod\n",
    "#     @lru_cache(maxsize=None)\n",
    "#     def cached_function_call(orbit, L, N, M, m):\n",
    "#         qk = ((2 * pi * M / L) * np.fft.fftfreq(M)[1:m+1]).reshape(1, -1)\n",
    "#         qk_vec = np.concatenate((qk, -qk), axis=1)\n",
    "#         return np.tile(qk_vec, (N-1, 1)) \n",
    "    \n",
    "#     @classmethod\n",
    "#     @lru_cache(maxsize=None)\n",
    "#     def cached_elementwise_with_instantiation(orbit, orbit):\n",
    "#         return RelativeOrbitKS(state=orbit.state,state_type=orbit.state_type, L=orbit.L,\n",
    "#                                N=orbit.N, M=orbit.M, m=orbit.m).elementwise_dx()\n",
    " "
   ]
  },
  {
   "cell_type": "markdown",
   "metadata": {},
   "source": [
    "First, test that the classmethod caching does anything to the original code, then compare with \"cleaned up\" versions. "
   ]
  },
  {
   "cell_type": "code",
   "execution_count": null,
   "metadata": {},
   "outputs": [],
   "source": []
  },
  {
   "cell_type": "code",
   "execution_count": 64,
   "metadata": {},
   "outputs": [],
   "source": [
    "from functools import lru_cache\n",
    "class CachedOrbitKS(OrbitKS):\n",
    "\n",
    "    def __init__(self, state=None, state_type='modes', T=0., L=0., S=0.):\n",
    "        super().__init__( state=None, state_type='modes', T=0., L=0., S=0.)\n",
    "        \n",
    "    def dt(self, power=1):\n",
    "        \"\"\" A time derivative of the current state.\n",
    "\n",
    "        Parameters\n",
    "        ----------\n",
    "        power :int\n",
    "            The order of the derivative.\n",
    "\n",
    "        Returns\n",
    "        ----------\n",
    "        orbit_dtn : OrbitKS or subclass instance\n",
    "            The class instance whose state is the time derivative in\n",
    "            the spatiotemporal mode basis.\n",
    "        \"\"\"\n",
    "        spacetime_modes = self.convert(to='modes').state\n",
    "        \n",
    "        # Elementwise multiplication of modes with frequencies, this is the derivative.\n",
    "        dtn_modes = np.multiply(self.elementwise_dtn(self, power=power), spacetime_modes)\n",
    "        \n",
    "        # If the order of the derivative is odd, then imaginary component and real components switch.\n",
    "        if np.mod(order, 2):\n",
    "            dtn_modes = swap_modes(dtn_modes, dimension='time')\n",
    "\n",
    "        orbit_dtn = self.__class__(state=dtn_modes, state_type='modes', T=self.T, L=self.L, S=self.S)\n",
    "        return orbit_dtn\n",
    "\n",
    "    def dx(self, power=1):\n",
    "        \"\"\" A spatial derivative of the current state.\n",
    "\n",
    "        Parameters\n",
    "        ----------\n",
    "        power :int\n",
    "            The order of the derivative.\n",
    "\n",
    "        Returns\n",
    "        ----------\n",
    "        orbit_dxn : OrbitKS or subclass instance\n",
    "            Class instance whose spatiotemporal state represents the spatial derivative in the\n",
    "            the basis of the original state.\n",
    "\n",
    "        Notes\n",
    "        -----\n",
    "        Dimensions provided to np.tile in defining elementwise_dxn were originally (self.N-1, 1).\n",
    "        \"\"\"\n",
    "        spacetime_modes = self.convert(to='modes').state\n",
    "\n",
    "        # Elementwise multiplication of modes with frequencies, this is the derivative.\n",
    "        dxn_modes = np.multiply(self.elementwise_dxn(self, power=power), spacetime_modes)\n",
    "\n",
    "        # If the order of the differentiation is odd, need to swap imaginary and real components.\n",
    "        if np.mod(order, 2):\n",
    "            dxn_modes = swap_modes(dxn_modes, dimension='space')\n",
    "        orbit_dxn = self.__class__(state=dxn_modes, state_type='modes', T=self.T, L=self.L, S=self.S)\n",
    "        return orbit_dxn.convert(to=self.state_type)\n",
    "    \n",
    "    \n",
    "    @classmethod\n",
    "    @lru_cache()\n",
    "    def wave_vector(cls, orbit):\n",
    "        \"\"\" Spatial frequency vector for the current state\n",
    "\n",
    "        Returns\n",
    "        -------\n",
    "        ndarray :\n",
    "            Array of spatial frequencies of shape (m, 1)\n",
    "        \"\"\"\n",
    "        return ((2 * pi * orbit.M / orbit.L) * np.fft.fftfreq(orbit.M)[1:orbit.m+1]).reshape(1, -1)\n",
    "\n",
    "    @classmethod\n",
    "    @lru_cache()\n",
    "    def frequency_vector(cls, orbit):\n",
    "        \"\"\"\n",
    "        Returns\n",
    "        -------\n",
    "        ndarray\n",
    "            Temporal frequency array of shape {n, 1}\n",
    "\n",
    "        Notes\n",
    "        -----\n",
    "        Extra factor of '-1' because of how the state is ordered; see __init__ for\n",
    "        more details.\n",
    "\n",
    "        \"\"\"\n",
    "        return (-1.0 * (2 * pi * orbit.N / orbit.T) * np.fft.fftfreq(orbit.N)[1:orbit.n+1]).reshape(-1, 1)\n",
    "\n",
    "    @classmethod\n",
    "    @lru_cache()\n",
    "    def elementwise_dxn(cls, orbit, power=1):\n",
    "        \"\"\" Matrix of temporal mode frequencies\n",
    "\n",
    "        Creates and returns a matrix whose elements\n",
    "        are the properly ordered spatial frequencies,\n",
    "        which is the same shape as the spatiotemporal\n",
    "        Fourier mode state. The elementwise product\n",
    "        with a set of spatiotemporal Fourier modes\n",
    "        is equivalent to taking a spatial derivative.\n",
    "\n",
    "        Returns\n",
    "        ----------\n",
    "        matrix\n",
    "            Matrix of spatial frequencies\n",
    "        \"\"\"\n",
    "        qkn = orbit.wave_vector(orbit)**order\n",
    "        # Coefficients which depend on the order of the derivative, see SO(2) generator of rotations for reference.\n",
    "        c1, c2 = so2_coefficients(power=power)\n",
    "        # Create elementwise spatial frequency matrix\n",
    "        dxn_multipliers = np.tile(np.concatenate((c1*qkn, c2*qkn), axis=1), (spacetime_modes.shape[0], 1))\n",
    "        return dxn_multipliers\n",
    "\n",
    "    @classmethod\n",
    "    @lru_cache()\n",
    "    def elementwise_dtn(cls, orbit, power=1):\n",
    "        \"\"\" Matrix of temporal mode frequencies\n",
    "\n",
    "        Creates and returns a matrix whose elements\n",
    "        are the properly ordered temporal frequencies,\n",
    "        which is the same shape as the spatiotemporal\n",
    "        Fourier mode state. The elementwise product\n",
    "        with a set of spatiotemporal Fourier modes\n",
    "        is equivalent to taking a time derivative.\n",
    "\n",
    "\n",
    "        Returns\n",
    "        ----------\n",
    "        matrix\n",
    "            Matrix of temporal frequencies\n",
    "        \"\"\"\n",
    "        \n",
    "        wj = orbit.frequency_vector()\n",
    "        # Coefficients which depend on the order of the derivative, see SO(2) generator of rotations for reference.\n",
    "        c1, c2 = so2_coefficients(power=power)\n",
    "        # The Nyquist frequency is never included, this is how time frequency modes are ordered.\n",
    "        wjn_vec = np.concatenate(([[0]], c1*wj**order, c2*wj**order), axis=0)\n",
    "        # Elementwise product of modes with time frequencies is the spectral derivative.\n",
    "        dtn_multipliers = np.tile(wjn_vec, (1, orbit.state.shape[1]))\n",
    "        return dtn_multipliers\n",
    "\n",
    "# ORIGINAL VERSION\n",
    "\n",
    "    def rmatvec(self, other, parameter_constraints=(False, False), preconditioning=True):\n",
    "        \"\"\" Matrix-vector product with the adjoint of the Jacobian\n",
    "\n",
    "        Parameters\n",
    "        ----------\n",
    "        other : OrbitKS\n",
    "            OrbitKS whose state represents the vector in the matrix-vector product.\n",
    "        parameter_constraints : (bool, bool)\n",
    "            Whether or not period T or spatial period L are fixed.\n",
    "        preconditioning : bool\n",
    "            Whether or not to apply (left) preconditioning to the adjoint matrix vector product.\n",
    "\n",
    "        Returns\n",
    "        -------\n",
    "        orbit_rmatvec :\n",
    "            OrbitKS with values representative of the adjoint-vector product A^H * x.\n",
    "\n",
    "        \"\"\"\n",
    "\n",
    "        # Linear component of the product, equal to -v_t + v_xx + v_xxxx\n",
    "        wj_matrix = self.elementwise_dtn(self)\n",
    "        qk_matrix = self.elementwise_dxn(self)\n",
    "        elementwise_qk2 = -1.0*qk_matrix**2\n",
    "        elementwise_qk4 = qk_matrix**4\n",
    "\n",
    "        dt = swap_modes(np.multiply(wj_matrix, other.state), dimension='time')\n",
    "        d2x = np.multiply(elementwise_qk2, other.state)\n",
    "        d4x = np.multiply(elementwise_qk4, other.state)\n",
    "        linear = -1.0*dt + d2x + d4x\n",
    "\n",
    "        # Nonlinear component, equal to -u * v_x\n",
    "        orbit_field = self.convert(to='field')\n",
    "        nonlinear = orbit_field.rpseudospectral(other).state\n",
    "        orbit_rmatvec = self.__class__(state=(linear + nonlinear))\n",
    "\n",
    "        if not parameter_constraints[0]:\n",
    "            # Derivative with respect to T term equal to DF/DT * v\n",
    "            dt_self = swap_modes(np.multiply(wj_matrix, self.state), dimension='time')\n",
    "            dfdt = (-1.0 / self.T)*dt_self\n",
    "            orbit_rmatvec.T = np.dot(dfdt.ravel(), other.state.ravel())\n",
    "\n",
    "        if not parameter_constraints[1]:\n",
    "            # Derivative with respect to L equal to DF/DL * v\n",
    "            d2x_self = np.multiply(elementwise_qk2, self.state)\n",
    "            d4x_self = np.multiply(elementwise_qk4, self.state)\n",
    "            dfdl_linear = ((-2.0/self.L)*d2x_self + (-4.0/self.L)*d4x_self)\n",
    "            dfdl_nonlinear = (-1.0/self.L) * orbit_field.pseudospectral(orbit_field).state\n",
    "            dfdl = dfdl_linear + dfdl_nonlinear\n",
    "            orbit_rmatvec.L = np.dot(dfdl.ravel(), other.state.ravel())\n",
    "\n",
    "        if preconditioning:\n",
    "            # Apply left preconditioning\n",
    "            p_matrix = 1.0 / (np.abs(wj_matrix) + qk_matrix**2 + qk_matrix**4)\n",
    "            orbit_rmatvec.state = np.multiply(orbit_rmatvec.state, p_matrix)\n",
    "\n",
    "            if not parameter_constraints[0]:\n",
    "                orbit_rmatvec.T = orbit_rmatvec.T / self.T\n",
    "            if not parameter_constraints[1]:\n",
    "                orbit_rmatvec.L = orbit_rmatvec.L/(self.L**4)\n",
    "\n",
    "        return orbit_rmatvec\n",
    "    \n",
    "    def spatiotemporal_mapping(self):\n",
    "        \"\"\" The Kuramoto-Sivashinsky equation evaluated at the current state.\n",
    "\n",
    "        Returns\n",
    "        -------\n",
    "        OrbitKS :\n",
    "            OrbitKS whose state is representative of the equation u_t + u_xx + u_xxxx + 1/2 (u^2)_x\n",
    "        :return:\n",
    "        \"\"\"\n",
    "        # For specific computation of the linear component instead\n",
    "        # of arbitrary derivatives we can optimize the calculation by being specific.\n",
    "\n",
    "        wj_matrix = self.elementwise_dtn(self)\n",
    "        qk_matrix = self.elementwise_dxn(self)\n",
    "        elementwise_d2xd4x = -1.0*qk_matrix**2 + qk_matrix**4\n",
    "        ut = swap_modes(np.multiply(wj_matrix, self.state), dimension='time')\n",
    "        u2x_u4x = np.multiply(elementwise_d2xd4x, self.state)\n",
    "        linear = ut + u2x_u4x\n",
    "        # Convert state information to field inplace; derivative operation switches this back to modes?\n",
    "        orbit_field = self.convert(to='field')\n",
    "        nonlinear = orbit_field.pseudospectral(orbit_field).state\n",
    "        orbit_mapping = self.__class__(state=(linear + nonlinear),\n",
    "                                       T=self.T, L=self.L, S=self.S)\n",
    "\n",
    "        return orbit_mapping\n",
    "    \n",
    "# CLEAN VERSIONS    \n",
    "\n",
    "    def rmatvec(self, other, parameter_constraints=(False, False), preconditioning=True):\n",
    "        \"\"\" Matrix-vector product with the adjoint of the Jacobian\n",
    "\n",
    "        Parameters\n",
    "        ----------\n",
    "        other : OrbitKS\n",
    "            OrbitKS whose state represents the vector in the matrix-vector product.\n",
    "        parameter_constraints : (bool, bool)\n",
    "            Whether or not period T or spatial period L are fixed.\n",
    "        preconditioning : bool\n",
    "            Whether or not to apply (left) preconditioning to the adjoint matrix vector product.\n",
    "\n",
    "        Returns\n",
    "        -------\n",
    "        orbit_rmatvec :\n",
    "            OrbitKS with values representative of the adjoint-vector product A^H * x.\n",
    "\n",
    "        \"\"\"\n",
    "\n",
    "        dt = swap_modes(np.multiply(wj_matrix, other.state), dimension='time')\n",
    "        d2x = np.multiply(elementwise_qk2, other.state)\n",
    "        d4x = np.multiply(elementwise_qk4, other.state)\n",
    "        linear = -1.0*self.dt() + d2x + d4x\n",
    "\n",
    "        # Nonlinear component, equal to -u * v_x\n",
    "        orbit_field = self.convert(to='field')\n",
    "        nonlinear = orbit_field.rpseudospectral(other).state\n",
    "        orbit_rmatvec = self.__class__(state=(linear + nonlinear))\n",
    "\n",
    "        if not parameter_constraints[0]:\n",
    "            # Derivative with respect to T term equal to DF/DT * v\n",
    "            dt_self = swap_modes(np.multiply(wj_matrix, self.state), dimension='time')\n",
    "            dfdt = (-1.0 / self.T)*dt_self\n",
    "            orbit_rmatvec.T = np.dot(dfdt.ravel(), other.state.ravel())\n",
    "\n",
    "        if not parameter_constraints[1]:\n",
    "            # Derivative with respect to L equal to DF/DL * v\n",
    "            d2x_self = np.multiply(elementwise_qk2, self.state)\n",
    "            d4x_self = np.multiply(elementwise_qk4, self.state)\n",
    "            dfdl_linear = ((-2.0/self.L)*d2x_self + (-4.0/self.L)*d4x_self)\n",
    "            dfdl_nonlinear = (-1.0/self.L) * orbit_field.pseudospectral(orbit_field).state\n",
    "            dfdl = dfdl_linear + dfdl_nonlinear\n",
    "            orbit_rmatvec.L = np.dot(dfdl.ravel(), other.state.ravel())\n",
    "\n",
    "        if preconditioning:\n",
    "            # Apply left preconditioning\n",
    "            p_matrix = 1.0 / (np.abs(wj_matrix) + qk_matrix**2 + qk_matrix**4)\n",
    "            orbit_rmatvec.state = np.multiply(orbit_rmatvec.state, p_matrix)\n",
    "\n",
    "            if not parameter_constraints[0]:\n",
    "                orbit_rmatvec.T = orbit_rmatvec.T / self.T\n",
    "            if not parameter_constraints[1]:\n",
    "                orbit_rmatvec.L = orbit_rmatvec.L/(self.L**4)\n",
    "\n",
    "        return orbit_rmatvec\n",
    "    \n",
    "    def spatiotemporal_mapping(self):\n",
    "        \"\"\" The Kuramoto-Sivashinsky equation evaluated at the current state.\n",
    "\n",
    "        Returns\n",
    "        -------\n",
    "        OrbitKS :\n",
    "            OrbitKS whose state is representative of the equation u_t + u_xx + u_xxxx + 1/2 (u^2)_x\n",
    "        :return:\n",
    "        \"\"\"\n",
    "        # For specific computation of the linear component instead\n",
    "        # of arbitrary derivatives we can optimize the calculation by being specific.\n",
    "\n",
    "        wj_matrix = self.elementwise_dtn(self)\n",
    "        qk_matrix = self.elementwise_dxn(self)\n",
    "        elementwise_d2xd4x = -1.0*qk_matrix**2 + qk_matrix**4\n",
    "        ut = swap_modes(np.multiply(wj_matrix, self.state), dimension='time')\n",
    "        u2x_u4x = np.multiply(elementwise_d2xd4x, self.state)\n",
    "        linear = ut + u2x_u4x\n",
    "        # Convert state information to field inplace; derivative operation switches this back to modes?\n",
    "        orbit_field = self.convert(to='field')\n",
    "        nonlinear = orbit_field.pseudospectral(orbit_field).state\n",
    "        orbit_mapping = self.__class__(state=(linear + nonlinear),\n",
    "                                       T=self.T, L=self.L, S=self.S)\n",
    "\n",
    "        return orbit_mapping"
   ]
  },
  {
   "cell_type": "code",
   "execution_count": 68,
   "metadata": {},
   "outputs": [
    {
     "data": {
      "text/plain": [
       "<bound method OrbitKS.__repr__ of OrbitKS()>"
      ]
     },
     "execution_count": 68,
     "metadata": {},
     "output_type": "execute_result"
    }
   ],
   "source": [
    "OrbitKS().spatiotemporal_mapping().__repr__"
   ]
  },
  {
   "cell_type": "code",
   "execution_count": 59,
   "metadata": {},
   "outputs": [],
   "source": [
    "test0 = CachedRelativeOrbitKS(state=rpo_test.state, state_type=rpo_test.state_type, L=rpo_test.L, T=rpo_test.T, S=rpo_test.S)"
   ]
  },
  {
   "cell_type": "code",
   "execution_count": 60,
   "metadata": {},
   "outputs": [
    {
     "name": "stdout",
     "output_type": "stream",
     "text": [
      "CachedRelativeOrbitKS()\n"
     ]
    }
   ],
   "source": [
    "print(test0)"
   ]
  },
  {
   "cell_type": "code",
   "execution_count": 63,
   "metadata": {},
   "outputs": [
    {
     "data": {
      "text/plain": [
       "False"
      ]
     },
     "execution_count": 63,
     "metadata": {},
     "output_type": "execute_result"
    }
   ],
   "source": [
    "RelativeOrbitKS(state=orbit.state,state_type=orbit.state_type,T=orbit.T, L=orbit.L,N=orbit.N, M=orbit.M, m=orbit.m) == RelativeOrbitKS(state=orbit.state,state_type=orbit.state_type,T=orbit.T, L=orbit.L,N=orbit.N, M=orbit.M, m=orbit.m)"
   ]
  },
  {
   "cell_type": "code",
   "execution_count": 61,
   "metadata": {},
   "outputs": [
    {
     "name": "stdout",
     "output_type": "stream",
     "text": [
      "26.1 µs ± 2.49 µs per loop (mean ± std. dev. of 7 runs, 10000 loops each)\n"
     ]
    }
   ],
   "source": [
    "%timeit test0.frequency_vector(orbit)"
   ]
  },
  {
   "cell_type": "code",
   "execution_count": 50,
   "metadata": {},
   "outputs": [],
   "source": [
    "test1 = CachedRelativeOrbitKS(state=next_orbit.state, state_type=next_orbit.state_type, L=next_orbit.L, T=next_orbit.T, S=rpo_test.S)"
   ]
  },
  {
   "cell_type": "code",
   "execution_count": null,
   "metadata": {},
   "outputs": [],
   "source": [
    "test1.frequency_vector()"
   ]
  },
  {
   "cell_type": "code",
   "execution_count": null,
   "metadata": {},
   "outputs": [],
   "source": [
    "test1.mode_shape"
   ]
  },
  {
   "cell_type": "code",
   "execution_count": null,
   "metadata": {},
   "outputs": [],
   "source": [
    "%timeit -r 1 -n 50 test.borrow"
   ]
  },
  {
   "cell_type": "code",
   "execution_count": null,
   "metadata": {},
   "outputs": [],
   "source": [
    "%timeit -r 1 -n 1 test.borrow"
   ]
  },
  {
   "cell_type": "code",
   "execution_count": null,
   "metadata": {},
   "outputs": [],
   "source": [
    "np.sum(time_dft_mat[0]*rpo_test.state[0,:]"
   ]
  },
  {
   "cell_type": "code",
   "execution_count": null,
   "metadata": {},
   "outputs": [],
   "source": [
    "np.linalg.norm([3,4], ord=1)"
   ]
  },
  {
   "cell_type": "markdown",
   "metadata": {},
   "source": [
    "# ab_time_dft_mat.shape"
   ]
  },
  {
   "cell_type": "code",
   "execution_count": null,
   "metadata": {},
   "outputs": [],
   "source": [
    "time_dft_mat.shape"
   ]
  },
  {
   "cell_type": "code",
   "execution_count": null,
   "metadata": {},
   "outputs": [],
   "source": [
    "ab_time_dft_mat.shape"
   ]
  },
  {
   "cell_type": "code",
   "execution_count": null,
   "metadata": {},
   "outputs": [],
   "source": [
    "os.getcwd()"
   ]
  },
  {
   "cell_type": "code",
   "execution_count": null,
   "metadata": {},
   "outputs": [],
   "source": []
  },
  {
   "cell_type": "code",
   "execution_count": null,
   "metadata": {},
   "outputs": [],
   "source": [
    "reqva_test.residual()\n",
    "converge(reqva_test, method='lstsq', atol=10**-14, verbose=True)"
   ]
  },
  {
   "cell_type": "code",
   "execution_count": null,
   "metadata": {},
   "outputs": [],
   "source": [
    "reqva_test.plot(fundamental_domain=False)"
   ]
  },
  {
   "cell_type": "code",
   "execution_count": null,
   "metadata": {},
   "outputs": [],
   "source": [
    "spacetime_modes = (1./np.sqrt(32)) * self.state"
   ]
  },
  {
   "cell_type": "code",
   "execution_count": null,
   "metadata": {
    "scrolled": true
   },
   "outputs": [],
   "source": [
    "np.sum((1./np.sqrt(32)) * np.concatenate((0*np.eye(15), np.eye(15)), axis=1),axis=1)"
   ]
  },
  {
   "cell_type": "code",
   "execution_count": null,
   "metadata": {
    "scrolled": true
   },
   "outputs": [],
   "source": [
    "dft_mat = rfft(np.eye(32), norm='ortho', axis=0)\n",
    "time_idft_mat = np.concatenate((dft_mat[:-1, :].real,\n",
    "                                        dft_mat[1:-1, :].imag), axis=0)\n",
    "time_idft_mat"
   ]
  },
  {
   "cell_type": "code",
   "execution_count": null,
   "metadata": {},
   "outputs": [],
   "source": [
    "rpo_test = reqva_test.copy()\n",
    "\n",
    "rpo_test.convert(to='s_modes', inplace=True)\n",
    "rpo_test.state = np.tile(reqva_test.convert(to='s_modes').state[-1,:].reshape(1,-1),(32,1))\n",
    "smode0 = rpo_test.state[0,0]\n",
    "rpo_test.convert(to='modes', inplace=True)"
   ]
  },
  {
   "cell_type": "markdown",
   "metadata": {},
   "source": [
    "The transformation from s_modes to modes should result in division by np.sqrt(32). So what is going on. "
   ]
  },
  {
   "cell_type": "code",
   "execution_count": null,
   "metadata": {},
   "outputs": [],
   "source": [
    "rpo_test.state[0,0], smode0"
   ]
  },
  {
   "cell_type": "code",
   "execution_count": null,
   "metadata": {},
   "outputs": [],
   "source": [
    "rpo_test.comoving_mapping_component().change_reference_frame().plot()"
   ]
  },
  {
   "cell_type": "code",
   "execution_count": null,
   "metadata": {},
   "outputs": [],
   "source": [
    "rpo_test.change_reference_frame().comoving_mapping_component().state"
   ]
  },
  {
   "cell_type": "code",
   "execution_count": null,
   "metadata": {},
   "outputs": [],
   "source": [
    "rpo_test.change_reference_frame().plot(fundamental_domain=False)"
   ]
  },
  {
   "cell_type": "code",
   "execution_count": null,
   "metadata": {},
   "outputs": [],
   "source": [
    "rpo_test.change_reference_frame().dt().state"
   ]
  },
  {
   "cell_type": "code",
   "execution_count": null,
   "metadata": {},
   "outputs": [],
   "source": [
    "(1/np.sqrt(32)) * smode0"
   ]
  },
  {
   "cell_type": "code",
   "execution_count": null,
   "metadata": {},
   "outputs": [],
   "source": [
    "dft_mat = rfft(np.eye(32), norm='ortho', axis=0)\n",
    "time_dft_mat = np.concatenate((dft_mat[:-1, :].real,\n",
    "                               dft_mat[1:-1, :].imag), axis=0)\n",
    "ab_time_dft_mat = np.insert(time_dft_mat,\n",
    "                            np.arange(time_dft_mat.shape[1]),\n",
    "                            np.zeros([time_dft_mat.shape[0], time_dft_mat.shape[1]]),\n",
    "                            axis=1)\n",
    "ab_time_dft_mat.shape"
   ]
  },
  {
   "cell_type": "code",
   "execution_count": null,
   "metadata": {},
   "outputs": [],
   "source": [
    "np.sqrt(32)"
   ]
  },
  {
   "cell_type": "code",
   "execution_count": null,
   "metadata": {},
   "outputs": [],
   "source": [
    "rfft(np.ones(32), norm='ortho')"
   ]
  },
  {
   "cell_type": "code",
   "execution_count": null,
   "metadata": {},
   "outputs": [],
   "source": [
    "reqva_test.convert(to='s_modes').state[-1,0]"
   ]
  },
  {
   "cell_type": "code",
   "execution_count": null,
   "metadata": {},
   "outputs": [],
   "source": [
    "rpo_test.time_transform_matrix()*np.sqrt(32)"
   ]
  },
  {
   "cell_type": "code",
   "execution_count": null,
   "metadata": {},
   "outputs": [],
   "source": [
    "ShiftReflectionOrbitKS()"
   ]
  },
  {
   "cell_type": "code",
   "execution_count": null,
   "metadata": {},
   "outputs": [],
   "source": [
    "# aOrbit = \n",
    "# Orbit = \n",
    "# a = read_h5(\"C:\\\\Users\\\\Matt\\\\Desktop\\\\orbithunter_test_data\\\\anti_L17p5_T17.h5\")\n",
    "# defect0 = read_h5(\"C:\\\\Users\\\\Matt\\\\Desktop\\\\orbithunter_test_data\\\\rpo_L12p87_T26.h5\")\n",
    "o2 = read_h5(\"C:\\\\Users\\\\Matt\\\\Desktop\\\\orbithunter_test_data\\\\full_L26.7_T54.h5\")\n",
    "# defect = read_h5(\"C:\\\\Users\\\\Matt\\\\Desktop\\\\orbithunter_test_data\\\\rpo_L13p02_T15.h5\")\n",
    "sr = read_h5(\"C:\\\\Users\\\\Matt\\\\Desktop\\\\orbithunter_test_data\\\\ppo_L34p09_T23p18.h5\")\n",
    "# e = read_h5(\"C:\\\\Users\\\\Matt\\\\Desktop\\\\orbithunter_test_data\\\\eqva_L3p195.h5\")\n",
    "srtest = read_h5(\"C:\\\\Users\\\\Matt\\\\Desktop\\\\orbithunter_test_data\\\\rpo_L22p01_T85p99.h5\")\n",
    "\n"
   ]
  },
  {
   "cell_type": "code",
   "execution_count": null,
   "metadata": {},
   "outputs": [],
   "source": [
    "ft = sr.spacetime_fft_matrix()\n",
    "ift = sr.spacetime_ifft_matrix()"
   ]
  },
  {
   "cell_type": "code",
   "execution_count": null,
   "metadata": {},
   "outputs": [],
   "source": [
    "sr = 1.5 * sr"
   ]
  },
  {
   "cell_type": "code",
   "execution_count": null,
   "metadata": {},
   "outputs": [],
   "source": [
    "converge(sr, method='lstsq', verbose=True)"
   ]
  },
  {
   "cell_type": "code",
   "execution_count": null,
   "metadata": {},
   "outputs": [],
   "source": [
    "# srtest.plot(fundamental_domain=False)\n",
    "\n",
    "# srtest.S\n",
    "\n",
    "# srtest.reflection().plot(fundamental_domain=False)\n",
    "\n",
    "# srtest_refl = srtest.reflection()\n",
    "\n",
    "# sr_srrefl_state = np.concatenate((srtest_refl.state, srtest.state))\n",
    "\n",
    "# test_orbit = ShiftReflectionOrbitKS(state=sr_srrefl_state, statetype='field', T=2*srtest.T, L=srtest.L)\n",
    "\n",
    "# test_orbit.plot(fundamental_domain=False)"
   ]
  },
  {
   "cell_type": "code",
   "execution_count": null,
   "metadata": {},
   "outputs": [],
   "source": [
    "test_orbit.time_transform_matrix().shape"
   ]
  },
  {
   "cell_type": "code",
   "execution_count": null,
   "metadata": {},
   "outputs": [],
   "source": [
    "np.dot(test_orbit.time_transform_matrix(), test_orbit.time_inv_transform_matrix()).shape#.sum(axis=1).sum()"
   ]
  },
  {
   "cell_type": "code",
   "execution_count": null,
   "metadata": {},
   "outputs": [],
   "source": [
    "test_orbit.time_transform_matrix()"
   ]
  },
  {
   "cell_type": "code",
   "execution_count": null,
   "metadata": {
    "scrolled": true
   },
   "outputs": [],
   "source": [
    "test_orbit_result = converge(test_orbit, method='lstsq', verbose=True)"
   ]
  },
  {
   "cell_type": "code",
   "execution_count": null,
   "metadata": {},
   "outputs": [],
   "source": [
    "o2 = read_h5(\"C:\\\\Users\\\\Matt\\\\Desktop\\\\orbithunter_test_data\\\\full_L26.7_T54.h5\")\n",
    "a2 = AntisymmetricOrbit(state=np.roll(o2.state, 6 ,axis=1), statetype=o2.statetype, T=o2.T, L=o2.L)\n",
    "a2result = converge(a2, verbose=True)\n",
    "a3 = a2result.orbit.convert(to='field')\n",
    "o3 = Orbit(state=np.roll(a3.state, 6 ,axis=1), statetype=a3.statetype, T=a3.T, L=a3.L)\n",
    "o3result = converge(o3, fixedparams=(False, True, False), verbose=True)\n",
    "o4 = o3result.orbit.convert(to='field')\n",
    "o4 = Orbit(state=np.roll(o4.state, 6 ,axis=1), statetype=o4.statetype, T=o4.T, L=o4.L)\n",
    "o4result = converge(o4, fixedparams=(False, True, False), verbose=True)"
   ]
  },
  {
   "cell_type": "code",
   "execution_count": null,
   "metadata": {},
   "outputs": [],
   "source": [
    "a2 = AntisymmetricOrbit(state=np.roll(o2.state, 6 ,axis=1), statetype=o2.statetype, T=o2.T, L=o2.L)"
   ]
  },
  {
   "cell_type": "code",
   "execution_count": null,
   "metadata": {},
   "outputs": [],
   "source": [
    "o3result.orbit.L"
   ]
  },
  {
   "cell_type": "code",
   "execution_count": null,
   "metadata": {},
   "outputs": [],
   "source": [
    "a3.L"
   ]
  },
  {
   "cell_type": "code",
   "execution_count": null,
   "metadata": {},
   "outputs": [],
   "source": [
    "o3result.orbit.L"
   ]
  },
  {
   "cell_type": "code",
   "execution_count": null,
   "metadata": {},
   "outputs": [],
   "source": [
    "a3.L-0.01"
   ]
  },
  {
   "cell_type": "code",
   "execution_count": null,
   "metadata": {},
   "outputs": [],
   "source": [
    "o2.plot(fundamental_domain=False)"
   ]
  },
  {
   "cell_type": "code",
   "execution_count": null,
   "metadata": {},
   "outputs": [],
   "source": [
    "defect.S"
   ]
  },
  {
   "cell_type": "code",
   "execution_count": null,
   "metadata": {},
   "outputs": [],
   "source": [
    "defect.to_fundamental_domain().plot(fundamental_domain=False)"
   ]
  },
  {
   "cell_type": "code",
   "execution_count": null,
   "metadata": {},
   "outputs": [],
   "source": [
    "defect.to_fundamental_domain().calculate_shift()"
   ]
  },
  {
   "cell_type": "code",
   "execution_count": null,
   "metadata": {},
   "outputs": [],
   "source": [
    "defect.plot()"
   ]
  },
  {
   "cell_type": "code",
   "execution_count": null,
   "metadata": {},
   "outputs": [],
   "source": [
    "defect2 = RelativeOrbit(state=defect.state, T=defect.T, L=defect.L, S=-1.0*defect.to_fundamental_domain().calculate_shift())\n",
    "defect2 = defect2.to_fundamental_domain()"
   ]
  },
  {
   "cell_type": "code",
   "execution_count": null,
   "metadata": {},
   "outputs": [],
   "source": [
    "defect2.S = defect.S+defect2.S"
   ]
  },
  {
   "cell_type": "code",
   "execution_count": null,
   "metadata": {},
   "outputs": [],
   "source": [
    "defect2.S "
   ]
  },
  {
   "cell_type": "code",
   "execution_count": null,
   "metadata": {},
   "outputs": [],
   "source": [
    "defect2.plot(padding=False, fundamental_domain=False)"
   ]
  },
  {
   "cell_type": "code",
   "execution_count": null,
   "metadata": {},
   "outputs": [],
   "source": [
    "result = converge(defect2, verbose=True)"
   ]
  },
  {
   "cell_type": "code",
   "execution_count": null,
   "metadata": {},
   "outputs": [],
   "source": [
    "result.orbit.S"
   ]
  },
  {
   "cell_type": "code",
   "execution_count": null,
   "metadata": {},
   "outputs": [],
   "source": [
    "result.orbit.plot(fundamental_domain=False)"
   ]
  },
  {
   "cell_type": "code",
   "execution_count": null,
   "metadata": {},
   "outputs": [],
   "source": [
    "fig = plt.figure(figsize=(20,20))\n",
    "plt.imshow(np.tile(result.orbit.state, (32,32)),cmap='jet',aspect='auto')"
   ]
  },
  {
   "cell_type": "code",
   "execution_count": null,
   "metadata": {},
   "outputs": [],
   "source": [
    "defect = read_h5(\"C:\\\\Users\\\\Matt\\\\Desktop\\\\orbithunter_test_data\\\\rpo_L13p02_T15.h5\")"
   ]
  },
  {
   "cell_type": "code",
   "execution_count": null,
   "metadata": {},
   "outputs": [],
   "source": [
    "defect0 = read_h5(\"C:\\\\Users\\\\Matt\\\\Desktop\\\\orbithunter_test_data\\\\rpo_L12p87_T26.h5\")\n",
    "defect0.S *=-1"
   ]
  },
  {
   "cell_type": "code",
   "execution_count": null,
   "metadata": {},
   "outputs": [],
   "source": [
    "defect0.residual()"
   ]
  },
  {
   "cell_type": "code",
   "execution_count": null,
   "metadata": {},
   "outputs": [],
   "source": [
    "defect.S"
   ]
  },
  {
   "cell_type": "code",
   "execution_count": null,
   "metadata": {},
   "outputs": [],
   "source": [
    "defect.plot(fundamental_domain=False)"
   ]
  },
  {
   "cell_type": "code",
   "execution_count": null,
   "metadata": {
    "scrolled": false
   },
   "outputs": [],
   "source": [
    "exit_code = 1\n",
    "result = converge(defect2, fixedparams=(False, False, False), verbose=True)\n",
    "defect_down = result.orbit\n",
    "\n",
    "while exit_code == 1:\n",
    "    # print(wiggle_freeboundary.residual())\n",
    "    defect_down.L -= 0.01\n",
    "    # print(wiggle_freeboundary.residual())\n",
    "    result = converge(defect_down, fixedparams=(False, True, False), verbose=True)\n",
    "    exit_code = result.exit_code\n",
    "    if exit_code == 1:\n",
    "        defect_down = result.orbit\n",
    "        print(result.orbit.state_vector()[-3:])\n",
    "        defect_down.plot()\n",
    "defect_down.plot()"
   ]
  },
  {
   "cell_type": "code",
   "execution_count": null,
   "metadata": {},
   "outputs": [],
   "source": [
    "exit_code = 1\n",
    "result = converge(defect, fixedparams=(False, False, True), verbose=True)\n",
    "defect_down = result.orbit\n",
    "\n",
    "while exit_code == 1:\n",
    "    # print(wiggle_freeboundary.residual())\n",
    "    defect_down.S += 2\n",
    "    # print(wiggle_freeboundary.residual())\n",
    "    result = converge(defect_down, method='lstsq', fixedparams=(False,False,False), verbose=True)\n",
    "    exit_code = result.exit_code\n",
    "    if exit_code == 1:\n",
    "        defect_down = result.orbit\n",
    "        print(result.orbit.state_vector()[-3:])\n",
    "        defect_down.plot(fundamental_domain=False)\n",
    "defect_down.plot(fundamental_domain=False)"
   ]
  },
  {
   "cell_type": "code",
   "execution_count": null,
   "metadata": {},
   "outputs": [],
   "source": [
    "fig = plt.figure(figsize=(20,20))\n",
    "plt.imshow(np.tile(defect.state, (32,32)),cmap='jet',aspect='auto')"
   ]
  },
  {
   "cell_type": "code",
   "execution_count": null,
   "metadata": {},
   "outputs": [],
   "source": [
    "exit_code = 1\n",
    "result = converge(defect_down, fixedparams=(False, False, False), verbose=True)\n",
    "defect_down = result.Orbit\n",
    "\n",
    "while exit_code == 1:\n",
    "    # print(wiggle_freeboundary.residual())\n",
    "    defect_down.L -= 0.01\n",
    "    # print(wiggle_freeboundary.residual())\n",
    "    result = converge(defect_down, method='lstsq', fixedparams=(False,True,False), verbose=True)\n",
    "    exit_code = result.exit_code\n",
    "    if exit_code == 1:\n",
    "        defect_down = result.Orbit\n",
    "        print(result.Orbit.L)\n",
    "        defect_down.plot()\n",
    "defect_down.plot()"
   ]
  },
  {
   "cell_type": "code",
   "execution_count": null,
   "metadata": {},
   "outputs": [],
   "source": [
    "# defect = rediscretize(defect, newN=32, newM=32)#.to_fundamental_domain()\n",
    "# result = converge(defect, fixedparams=(False, False, False), verbose=True)\n",
    "# defect = result.Orbit"
   ]
  },
  {
   "cell_type": "code",
   "execution_count": null,
   "metadata": {},
   "outputs": [],
   "source": [
    "defect.S"
   ]
  },
  {
   "cell_type": "code",
   "execution_count": null,
   "metadata": {},
   "outputs": [],
   "source": [
    "defect.plot()"
   ]
  },
  {
   "cell_type": "code",
   "execution_count": null,
   "metadata": {},
   "outputs": [],
   "source": [
    "\n",
    "\n",
    "defect_down = RelativeOrbit(state=defect.convert(to='field').state, statetype='field', T=defect.T, L=defect.L, S=defect.S)\n",
    "exit_code = 1\n",
    "result = converge(defect_down, fixedparams=(False, False, False), verbose=True)\n",
    "defect_down = result.Orbit\n",
    "\n",
    "while exit_code == 1:\n",
    "    # print(wiggle_freeboundary.residual())\n",
    "    defect_down.L -= 0.01\n",
    "    # print(wiggle_freeboundary.residual())\n",
    "    result = converge(defect_down,  fixedparams=(False,True,False), verbose=True)\n",
    "    exit_code = result.exit_code\n",
    "    if exit_code == 1:\n",
    "        defect_down = result.Orbit\n",
    "        defect_down.plot(save=True)\n",
    "defect_down.plot(save=True)"
   ]
  },
  {
   "cell_type": "code",
   "execution_count": null,
   "metadata": {
    "scrolled": false
   },
   "outputs": [],
   "source": [
    "defect_up = RelativeOrbit(state=defect.convert(to='field').state, statetype='field', T=defect.T, L=defect.L, S=defect.S)\n",
    "exit_code = 1\n",
    "result = converge(defect_up, fixedparams=(False, False, False), verbose=True)\n",
    "defect_up = result.Orbit\n",
    "\n",
    "while exit_code == 1:\n",
    "    defect_up.L += 2\n",
    "    print(defect_up.L)\n",
    "    result = converge(defect_up,  fixedparams=(False,False,False), verbose=True)\n",
    "    exit_code = result.exit_code\n",
    "    if exit_code == 1:\n",
    "        defect_up = result.Orbit\n",
    "        print(result.Orbit.L)\n",
    "        defect_up.plot()\n",
    "defect_up.plot()"
   ]
  },
  {
   "cell_type": "code",
   "execution_count": null,
   "metadata": {},
   "outputs": [],
   "source": [
    "result = converge(rediscretize(a, newN=32, newM=32), fixedparams=(False, False, False), verbose=True)\n",
    "wiggle = result.Orbit"
   ]
  },
  {
   "cell_type": "code",
   "execution_count": null,
   "metadata": {},
   "outputs": [],
   "source": [
    "wiggle.plot()"
   ]
  },
  {
   "cell_type": "code",
   "execution_count": null,
   "metadata": {},
   "outputs": [],
   "source": [
    "wiggle_up = Orbit(state=wiggle.convert(to='field').state, statetype='field', T=wiggle.T, L=wiggle.L)\n",
    "exit_code = 1"
   ]
  },
  {
   "cell_type": "code",
   "execution_count": null,
   "metadata": {},
   "outputs": [],
   "source": [
    "wiggle_up.N"
   ]
  },
  {
   "cell_type": "code",
   "execution_count": null,
   "metadata": {
    "scrolled": false
   },
   "outputs": [],
   "source": [
    "niter=0\n",
    "while exit_code == 1:\n",
    "    wiggle_up.L += 0.01\n",
    "    result = converge(wiggle_up, method='lstsq', fixedparams=(False, True, False), verbose=False)\n",
    "    exit_code = result.exit_code\n",
    "    \n",
    "    if exit_code == 1:\n",
    "        niter+=1\n",
    "        wiggle_up = result.Orbit\n",
    "        print(result.Orbit.L)\n",
    "        if niter % 5 == 0:\n",
    "            wiggle_up.plot()\n",
    "        # wiggle_freeboundary.plot()\n",
    "wiggle_up.plot()"
   ]
  },
  {
   "cell_type": "code",
   "execution_count": null,
   "metadata": {},
   "outputs": [],
   "source": [
    "wiggle_up = Orbit(state=wiggle.convert(to='field').state, statetype='field', T=wiggle.T, L=wiggle.L)\n",
    "exit_code = 1"
   ]
  },
  {
   "cell_type": "code",
   "execution_count": null,
   "metadata": {
    "scrolled": false
   },
   "outputs": [],
   "source": [
    "while exit_code == 1:\n",
    "    # print(wiggle_freeboundary.residual())\n",
    "    wiggle_up.L += 0.5\n",
    "    # print(wiggle_freeboundary.residual())\n",
    "    result = converge(wiggle_up, verbose=True)\n",
    "    exit_code = result.exit_code\n",
    "    if exit_code == 1:\n",
    "        wiggle_up = result.Orbit\n",
    "        print(result.Orbit.L)\n",
    "        wiggle_up.plot()\n",
    "        \n",
    "print(result.Orbit.L)\n",
    "wiggle_up.plot()"
   ]
  },
  {
   "cell_type": "code",
   "execution_count": null,
   "metadata": {},
   "outputs": [],
   "source": [
    "result = converge(wiggle, fixedparams=(False, True, False), verbose=True)\n",
    "wiggle = result.Orbit"
   ]
  },
  {
   "cell_type": "code",
   "execution_count": null,
   "metadata": {},
   "outputs": [],
   "source": [
    "wiggle_freeboundary = RelativeOrbit(state=wiggle.state, statetype=wiggle.statetype, T=wiggle.T, L=wiggle.L, S=0)\n",
    "exit_code = 1\n",
    "\n",
    "wiggle_freeboundary.S = float(wiggle_freeboundary.calculate_shift())\n",
    "\n",
    "\n",
    "\n",
    "while exit_code == 1:\n",
    "    wiggle_freeboundary.L -= 0.01\n",
    "    result = converge(wiggle_freeboundary, fixedparams=(False, True, False), verbose=True)\n",
    "    exit_code = result.exit_code\n",
    "    print(exit_code, result.Orbit.L)\n",
    "    if exit_code == 1:\n",
    "        wiggle_freeboundary = result.Orbit"
   ]
  },
  {
   "cell_type": "code",
   "execution_count": null,
   "metadata": {},
   "outputs": [],
   "source": [
    "# defect_down = rediscretize(r, newN=32, newM=32)#.to_fundamental_domain()\n",
    "defect_down = defect\n",
    "# defect = RelativeOrbit(state=wiggle.state, statetype=wiggle.statetype, T=wiggle.T, L=wiggle.L, S=0)\n",
    "exit_code = 1\n",
    "# wiggle_freeboundary.S = float(wiggle_freeboundary.calculate_shift())\n",
    "\n",
    "while exit_code == 1:\n",
    "    defect_down.L -= 0.1\n",
    "    result = converge(defect_down, method='lstsq', fixedparams=(False, True, False),  verbose=True)\n",
    "    exit_code = result.exit_code\n",
    "    if exit_code == 1:\n",
    "        defect_down = result.Orbit"
   ]
  },
  {
   "cell_type": "code",
   "execution_count": null,
   "metadata": {},
   "outputs": [],
   "source": [
    "defect_up = rediscretize(r, newN=32, newM=32)#.to_fundamental_domain()\n",
    "# wiggle_freeboundary = RelativeOrbit(state=wiggle.state, statetype=wiggle.statetype, T=wiggle.T, L=wiggle.L, S=0)\n",
    "exit_code = 1\n",
    "while exit_code == 1:\n",
    "    defect_down.L += 0.1\n",
    "    result = converge(defect_down, fixedparams=(False, False, False),  verbose=True)\n",
    "    exit_code = result.exit_code\n",
    "    if exit_code == 1:\n",
    "        defect_down = result.Orbit"
   ]
  },
  {
   "cell_type": "code",
   "execution_count": null,
   "metadata": {},
   "outputs": [],
   "source": [
    "result"
   ]
  },
  {
   "cell_type": "code",
   "execution_count": null,
   "metadata": {},
   "outputs": [],
   "source": [
    "result = converge(wiggle_freeboundary, fixedparams=(False, True, False), method='lstsq', verbose=True)\n"
   ]
  },
  {
   "cell_type": "code",
   "execution_count": null,
   "metadata": {},
   "outputs": [],
   "source": [
    "wiggle_freeboundary.plot(fundamental_domain=False)"
   ]
  },
  {
   "cell_type": "code",
   "execution_count": null,
   "metadata": {},
   "outputs": [],
   "source": [
    "def draw_nodal_lines(orbit, epsilon=0.2):\n",
    "    orbit_dx_field = orbit.dx().convert(to='field').state\n",
    "    nodal = np.where(np.abs(orbit_dx_field)< epsilon) \n",
    "    not_nodal = np.where(np.abs(orbit_dx_field) >= epsilon)\n",
    "    orbit_dx_field[nodal]=1\n",
    "    orbit_dx_field[not_nodal]=None\n",
    "    \n",
    "    return orbit_dx_field"
   ]
  },
  {
   "cell_type": "code",
   "execution_count": null,
   "metadata": {},
   "outputs": [],
   "source": [
    "# anew = rediscretize(a, newN=256, newM=256)\n",
    "# rnew = rediscretize(r, newN=256, newM=256)\n",
    "# enew = rediscretize(e, newN=256, newM=256)\n",
    "# anew.plot(fundamental_domain=False, padding=False)\n",
    "# rnew.comoving_transformation().plot(fundamental_domain=False, padding=False)"
   ]
  },
  {
   "cell_type": "code",
   "execution_count": null,
   "metadata": {},
   "outputs": [],
   "source": [
    "rnode = draw_nodal_lines(rnew.to_fundamental_domain(), epsilon=0.1)\n",
    "rnode_halfcell = np.roll(rnode, rnode.shape[1]//2, axis=1)\n",
    "\n",
    "fig = plt.figure()\n",
    "plt.imshow(rnode, origin='lower')\n",
    "_ = plt.show()\n",
    "\n",
    "fig = plt.figure()\n",
    "plt.imshow(rnode_halfcell, origin='lower')\n",
    "_ = plt.show()"
   ]
  },
  {
   "cell_type": "code",
   "execution_count": null,
   "metadata": {},
   "outputs": [],
   "source": [
    "wiggle_freeboundary"
   ]
  },
  {
   "cell_type": "code",
   "execution_count": null,
   "metadata": {},
   "outputs": [],
   "source": [
    "anode = draw_nodal_lines(anew, epsilon=0.1)\n",
    "anode_halfcell = np.roll(anode, anode.shape[1]//2, axis=1)\n",
    "\n",
    "fig = plt.figure()\n",
    "plt.imshow(anode, origin='lower')\n",
    "_ = plt.show()\n",
    "\n",
    "fig = plt.figure()\n",
    "plt.imshow(anode_halfcell, origin='lower')\n",
    "_ = plt.show()"
   ]
  },
  {
   "cell_type": "code",
   "execution_count": null,
   "metadata": {},
   "outputs": [],
   "source": [
    "fig = plt.figure()\n",
    "plt.imshow(draw_nodal_lines(rediscretize(a, newN=256, newM=256)))\n",
    "_ = plt.show()"
   ]
  },
  {
   "cell_type": "code",
   "execution_count": null,
   "metadata": {},
   "outputs": [],
   "source": [
    "Orbit(state=draw_nodal_lines(a), statetype='field',"
   ]
  },
  {
   "cell_type": "code",
   "execution_count": null,
   "metadata": {},
   "outputs": [],
   "source": [
    "e.convert(to='field').state.shape"
   ]
  },
  {
   "cell_type": "code",
   "execution_count": null,
   "metadata": {},
   "outputs": [],
   "source": [
    "e.convert(to='modes').state.shape"
   ]
  },
  {
   "cell_type": "code",
   "execution_count": null,
   "metadata": {},
   "outputs": [],
   "source": [
    "converge(e)"
   ]
  },
  {
   "cell_type": "code",
   "execution_count": null,
   "metadata": {},
   "outputs": [],
   "source": [
    "e.N"
   ]
  },
  {
   "cell_type": "code",
   "execution_count": null,
   "metadata": {},
   "outputs": [],
   "source": [
    "padding = np.zeros([e.state.shape[0], 32])\n",
    "eqv_modes = e.convert(to='modes').state\n",
    "padded_modes = np.concatenate((eqv_modes, padding), axis=1)"
   ]
  },
  {
   "cell_type": "code",
   "execution_count": null,
   "metadata": {},
   "outputs": [],
   "source": [
    "padded_modes.shape"
   ]
  },
  {
   "cell_type": "code",
   "execution_count": null,
   "metadata": {
    "scrolled": true
   },
   "outputs": [],
   "source": [
    "e.convert(to='modes').state"
   ]
  },
  {
   "cell_type": "code",
   "execution_count": null,
   "metadata": {},
   "outputs": [],
   "source": [
    "e.convert(to='field').state.shape"
   ]
  },
  {
   "cell_type": "code",
   "execution_count": null,
   "metadata": {},
   "outputs": [],
   "source": [
    "e3 = rediscretize(e.convert(to='field'), newN=32, newM=32)"
   ]
  },
  {
   "cell_type": "code",
   "execution_count": null,
   "metadata": {},
   "outputs": [],
   "source": [
    "e3.state.shape"
   ]
  },
  {
   "cell_type": "code",
   "execution_count": null,
   "metadata": {},
   "outputs": [],
   "source": [
    "erd = rediscretize(e.convert(to='field'), newN=a.N+2, newM=a.M+2)"
   ]
  },
  {
   "cell_type": "code",
   "execution_count": null,
   "metadata": {},
   "outputs": [],
   "source": [
    "ard = rediscretize(a.convert(to='field'), newN=a.N+2, newM=a.M+2)"
   ]
  },
  {
   "cell_type": "code",
   "execution_count": null,
   "metadata": {},
   "outputs": [],
   "source": [
    "ord_ = rediscretize(o.convert(to='field'), newN=o.N+2, newM=o.M+2)\n",
    "ord_ = rediscretize(o.convert(to='field'), newN=o.N-2, newM=o.M-2)"
   ]
  },
  {
   "cell_type": "code",
   "execution_count": null,
   "metadata": {},
   "outputs": [],
   "source": [
    "ord_.plot()"
   ]
  },
  {
   "cell_type": "code",
   "execution_count": null,
   "metadata": {},
   "outputs": [],
   "source": [
    "o2rd = rediscretize(o2.convert(to='field'), newN=o2.N+2, newM=o2.M+2)\n",
    "o2rd_ = rediscretize(o2.convert(to='field'), newN=o2.N-2, newM=o2.M-2)"
   ]
  },
  {
   "cell_type": "code",
   "execution_count": null,
   "metadata": {},
   "outputs": [],
   "source": [
    "rrd = rediscretize(r.convert(to='field'), newN=r.N+2, newM=r.M+2)\n",
    "rrd = rediscretize(r.convert(to='field'), newN=r.N-2, newM=r.M-2)"
   ]
  },
  {
   "cell_type": "code",
   "execution_count": null,
   "metadata": {},
   "outputs": [],
   "source": [
    "srrd = rediscretize(sr.convert(to='field'), newN=sr.N+2, newM=sr.M+2)\n",
    "srrd = rediscretize(sr.convert(to='field'), newN=sr.N-2, newM=sr.M-2)"
   ]
  },
  {
   "cell_type": "code",
   "execution_count": null,
   "metadata": {},
   "outputs": [],
   "source": [
    "erd = rediscretize(e.convert(to='field'), newN=e.N+2, newM=e.M+2)\n",
    "erd = rediscretize(e.convert(to='field'), newN=e.N-2, newM=e.M-2)"
   ]
  },
  {
   "cell_type": "code",
   "execution_count": null,
   "metadata": {},
   "outputs": [],
   "source": [
    "a_result = converge(ard, verbose=True)\n",
    "a_result"
   ]
  },
  {
   "cell_type": "code",
   "execution_count": null,
   "metadata": {},
   "outputs": [],
   "source": [
    "a_result.Orbit.plot()"
   ]
  },
  {
   "cell_type": "code",
   "execution_count": null,
   "metadata": {},
   "outputs": [],
   "source": [
    "o_result = converge(ord_, verbose=True)\n",
    "o_result"
   ]
  },
  {
   "cell_type": "code",
   "execution_count": null,
   "metadata": {},
   "outputs": [],
   "source": [
    "o_result.Orbit.plot()"
   ]
  },
  {
   "cell_type": "code",
   "execution_count": null,
   "metadata": {},
   "outputs": [],
   "source": [
    "ord_.mode_shape"
   ]
  },
  {
   "cell_type": "code",
   "execution_count": null,
   "metadata": {},
   "outputs": [],
   "source": [
    "ord_.plot()"
   ]
  },
  {
   "cell_type": "code",
   "execution_count": null,
   "metadata": {},
   "outputs": [],
   "source": [
    "o2_result = converge(o2rd, verbose=True)\n",
    "o2_result"
   ]
  },
  {
   "cell_type": "code",
   "execution_count": null,
   "metadata": {},
   "outputs": [],
   "source": [
    "o2_result.Orbit.plot()"
   ]
  },
  {
   "cell_type": "code",
   "execution_count": null,
   "metadata": {},
   "outputs": [],
   "source": [
    "o2_result = converge(o2, atol=10**-14, verbose=True)\n",
    "o2_result"
   ]
  },
  {
   "cell_type": "code",
   "execution_count": null,
   "metadata": {},
   "outputs": [],
   "source": [
    "o2_result.Orbit.plot()"
   ]
  },
  {
   "cell_type": "code",
   "execution_count": null,
   "metadata": {},
   "outputs": [],
   "source": [
    "r_result = converge(rrd, verbose=True)\n",
    "r_result"
   ]
  },
  {
   "cell_type": "code",
   "execution_count": null,
   "metadata": {},
   "outputs": [],
   "source": [
    "r_result.Orbit.plot()"
   ]
  },
  {
   "cell_type": "code",
   "execution_count": null,
   "metadata": {},
   "outputs": [],
   "source": [
    "sr_result = converge(srrd, verbose=True)\n",
    "sr_result"
   ]
  },
  {
   "cell_type": "code",
   "execution_count": null,
   "metadata": {},
   "outputs": [],
   "source": [
    "sr_result.Orbit.plot()"
   ]
  },
  {
   "cell_type": "code",
   "execution_count": null,
   "metadata": {},
   "outputs": [],
   "source": [
    "e.elementwise_dx()"
   ]
  },
  {
   "cell_type": "code",
   "execution_count": null,
   "metadata": {},
   "outputs": [],
   "source": [
    "e.wave_vector().shape"
   ]
  },
  {
   "cell_type": "code",
   "execution_count": null,
   "metadata": {},
   "outputs": [],
   "source": [
    "e.m"
   ]
  },
  {
   "cell_type": "code",
   "execution_count": null,
   "metadata": {},
   "outputs": [],
   "source": []
  },
  {
   "cell_type": "code",
   "execution_count": null,
   "metadata": {},
   "outputs": [],
   "source": []
  },
  {
   "cell_type": "code",
   "execution_count": null,
   "metadata": {},
   "outputs": [],
   "source": []
  },
  {
   "cell_type": "code",
   "execution_count": null,
   "metadata": {},
   "outputs": [],
   "source": [
    "x0 = AntisymmetricOrbit(state=Orbit.state, statetype=Orbit.statetype, L=Orbit.L, T=Orbit.T)\n",
    "\n",
    "xfr = converge(x0, method='lstsq')\n",
    "xf = xfr.orbit"
   ]
  },
  {
   "cell_type": "code",
   "execution_count": null,
   "metadata": {},
   "outputs": [],
   "source": [
    "xf.plot(fundamental_domain=False)\n",
    "xf.residual()\n"
   ]
  },
  {
   "cell_type": "code",
   "execution_count": null,
   "metadata": {},
   "outputs": [],
   "source": [
    "# x0 = rediscretize(xf.convert(to='field'), newN=16, newM=32)\n",
    "x = ShiftReflectionOrbit(state=np.roll(xf.convert(to='field').state,7,axis=1), statetype='field',T=xf.T, L=xf.L) \n",
    "\n",
    "x.residual()\n",
    "\n",
    "x.plot(fundamental_domain=False)"
   ]
  },
  {
   "cell_type": "code",
   "execution_count": null,
   "metadata": {},
   "outputs": [],
   "source": [
    "xf_result = converge(x, atol=10**-14, max_iter=10000, verbose=True)\n",
    "\n",
    "xf_result.orbit.residual()\n",
    "\n",
    "xf_result.orbit.state\n",
    "\n",
    "xf_result = converge(xfa, method='lstsq', atol=10**-14, verbose=True)\n",
    "\n",
    "ppoOrbit.plot()\n",
    "\n",
    "ppoOrbit.residual()\n",
    "\n",
    "xf_result = converge(ppoOrbit, method='lstsq',atol=10**-14, verbose=True)\n",
    "\n",
    "xf_result.orbit.residual()\n",
    "\n",
    "xf_result.orbit.plot()\n",
    "\n",
    "xf_result.orbit.statetype\n",
    "\n",
    "x0 = xf_result.orbit.convert(to='field')\n",
    "x = Orbit(state=x0.state,statetype='field',T=x0.T, L=x0.L) \n",
    "\n",
    "x.plot()\n",
    "\n",
    "x.residual()\n",
    "\n",
    "xf_result = converge(x, method='lstsq',atol=10**-14, verbose=True)\n",
    "\n",
    "xf_result.orbit.plot()\n",
    "\n",
    "xf = converge(x,method='adj',atol=10**-14, verbose=True)\n",
    "\n",
    "xff = converge(xf.Orbit, method='lstsq',atol=10**-14, verbose=True)\n",
    "\n",
    "xf.Orbit.residual()\n",
    "\n",
    "aOrbit = AntisymmetricOrbit(state=Orbit.state, statetype='field', T=Orbit.T, L=Orbit.L)\n",
    "\n",
    "ppoOrbit = ShiftReflectionOrbit(state=Orbit.state, statetype='field', T=Orbit.T, L=Orbit.L)\n",
    "\n",
    "a_old_vv = aOrbit.convert(to='modes').state\n",
    "\n",
    "u = Orbit.convert(to='field').state\n",
    "\n",
    "a_old_v = aOrbit.convert(to='s_modes').state\n",
    "ppo_old_v = ppoOrbit.convert(to='s_modes').state\n",
    "old_v = Orbit.convert(to='s_modes').state\n",
    "\n",
    "a_old_vv = aOrbit.convert(to='modes').state\n",
    "ppo_old_vv = ppoOrbit.convert(to='modes').state\n",
    "old_vv = Orbit.convert(to='modes').state"
   ]
  },
  {
   "cell_type": "code",
   "execution_count": null,
   "metadata": {},
   "outputs": [],
   "source": [
    "space_modes = rfft(Orbit.convert(to='field').state, norm='ortho', axis=1)[:, 1:-1]\n",
    "spatial_modes = np.concatenate((space_modes.real, space_modes.imag), axis=1)"
   ]
  },
  {
   "cell_type": "code",
   "execution_count": null,
   "metadata": {},
   "outputs": [],
   "source": []
  },
  {
   "cell_type": "code",
   "execution_count": null,
   "metadata": {},
   "outputs": [],
   "source": []
  },
  {
   "cell_type": "code",
   "execution_count": null,
   "metadata": {},
   "outputs": [],
   "source": [
    "modes = rfft(spatial_modes, norm='ortho', axis=0)\n",
    "modes_real = modes.real[:-1, -aOrbit.m:]\n",
    "modes_imag = modes.imag[1:-1, -aOrbit.m:]\n",
    "anti_spacetime_modes = np.concatenate((modes_real, modes_imag),axis=0)"
   ]
  },
  {
   "cell_type": "code",
   "execution_count": null,
   "metadata": {},
   "outputs": [],
   "source": [
    "# PPO\n",
    "modes = rfft(spatial_modes, norm='ortho', axis=0)\n",
    "modes_real = modes.real[:-1, :-Orbit.m] + modes.real[:-1, -Orbit.m:]\n",
    "modes_imag = modes.imag[1:-1, :-Orbit.m] + modes.imag[1:-1, -Orbit.m:]\n",
    "ppo_spacetime_modes = np.concatenate((modes_real, modes_imag),axis=0)"
   ]
  },
  {
   "cell_type": "code",
   "execution_count": null,
   "metadata": {},
   "outputs": [],
   "source": [
    "# Orbit, RelativeOrbit\n",
    "modes = rfft(spatial_modes, norm='ortho', axis=0)\n",
    "modes_real = modes.real[:-1, :] \n",
    "modes_imag = modes.imag[1:-1, :]\n",
    "spacetime_modes = np.concatenate((modes_real, modes_imag),axis=0)"
   ]
  },
  {
   "cell_type": "code",
   "execution_count": null,
   "metadata": {},
   "outputs": [],
   "source": [
    "mat_tmp = irfft(np.eye(Orbit.N//2+1), norm='ortho', axis=0)\n",
    "time_irfft_mat = np.concatenate((mat_tmp[:,:-1], mat_tmp[:,1:-1]),axis=1)"
   ]
  },
  {
   "cell_type": "code",
   "execution_count": null,
   "metadata": {},
   "outputs": [],
   "source": [
    "np.linalg.norm(f.transpose()-space_mat)"
   ]
  },
  {
   "cell_type": "code",
   "execution_count": null,
   "metadata": {},
   "outputs": [],
   "source": [
    "self = Orbit\n",
    "fx = (1 / np.sqrt(self.M)) * old_rfft(np.eye(self.M), axis=0)[1:self.M - 1, :]\n",
    "fx_a = np.zeros([self.m, self.M], float)\n",
    "fx_b = np.zeros([self.m, self.M], float)\n",
    "\n",
    "indices = np.arange(0, self.m)\n",
    "fx_a[indices, :] = fx[2 * indices, :]\n",
    "fx_b[indices, :] = fx[2 * indices + 1, :]\n",
    "\n",
    "ff = np.concatenate((fx_a, fx_b), axis=0)"
   ]
  },
  {
   "cell_type": "code",
   "execution_count": null,
   "metadata": {},
   "outputs": [],
   "source": [
    "plt.imshow(f-space_mat)\n",
    "_ = plt.show()"
   ]
  },
  {
   "cell_type": "code",
   "execution_count": null,
   "metadata": {},
   "outputs": [],
   "source": [
    "space_real_mat = irfft(np.eye(Orbit.M//2 + 1), norm='ortho', axis=0)\n",
    "\n",
    "space_imag_mat = irfft(1j*np.eye(Orbit.M//2 + 1), norm='ortho', axis=0)\n",
    "\n",
    "space_mat = np.concatenate((space_real_mat[:, 1:-1], space_imag_mat[:, 1:-1]),axis=1)\n",
    "\n",
    "space_ifft_matrix = np.kron(space_mat, np.eye(Orbit.N))\n",
    "\n",
    "np.linalg.norm(space_ifft_matrix-Orbit.space_irfft_matrix())"
   ]
  },
  {
   "cell_type": "code",
   "execution_count": null,
   "metadata": {},
   "outputs": [],
   "source": [
    "space_mat.shape"
   ]
  },
  {
   "cell_type": "code",
   "execution_count": null,
   "metadata": {},
   "outputs": [],
   "source": [
    "np.eye(Orbit.M//2 + 1).shape"
   ]
  },
  {
   "cell_type": "code",
   "execution_count": null,
   "metadata": {},
   "outputs": [],
   "source": [
    "irfft(np.eye(Orbit.M//2 + 1), norm='ortho', axis=0)"
   ]
  },
  {
   "cell_type": "code",
   "execution_count": null,
   "metadata": {},
   "outputs": [],
   "source": [
    "fx = np.sqrt(self.M)*old_irfft(np.eye(self.M), axis=0)[:, 1:self.M-1]\n",
    "fx_a = np.zeros([self.M, self.m], float)\n",
    "fx_b = np.zeros([self.M, self.m], float)\n",
    "\n",
    "indices = np.arange(0, self.m)\n",
    "fx_a[:, indices] = fx[:, 2 * indices]\n",
    "fx_b[:, indices] = fx[:, 2 * indices + 1]\n",
    "\n",
    "fb = np.concatenate((fx_a, fx_b), axis=1)"
   ]
  },
  {
   "cell_type": "code",
   "execution_count": null,
   "metadata": {},
   "outputs": [],
   "source": [
    "imag_idft_matrix = irfft(1j*np.eye((Orbit.N//2)+1), norm='ortho', axis=0)\n",
    "real_idft_matrix = irfft(np.eye((Orbit.N//2)+1), norm='ortho', axis=0)\n",
    "time_idft_matrix = np.concatenate((real_idft_matrix[:, :-1], imag_idft_matrix[:, 1:-1]),axis=1)\n",
    "ab_time_idft_matrix = np.insert(time_idft_matrix, np.arange(time_idft_matrix.shape[0]), time_dft_matrix, axis=0)\n",
    "\n",
    "ab_transform_formatter = np.zeros((2*Orbit.N, Orbit.N-1),dtype=int)\n",
    "ab_transform_formatter[::2,1:-Orbit.n:2] = 1\n",
    "ab_transform_formatter[1::2,:-Orbit.n:2] = 1\n",
    "ab_transform_formatter[1::2,-Orbit.n+1::2] = 1\n",
    "ab_transform_formatter[::2,-Orbit.n::2] = 1\n",
    "\n",
    "full_time_ifft_matrix = np.kron(ab_time_idft_matrix*ab_transform_formatter, \n",
    "                                np.eye(Orbit.mode_shape[1]))"
   ]
  },
  {
   "cell_type": "code",
   "execution_count": null,
   "metadata": {},
   "outputs": [],
   "source": [
    "ab_transform_formatter = np.zeros((Orbit.N-1, 2*Orbit.N),dtype=int)\n",
    "#odd rows\n",
    "ab_transform_formatter[1:-Orbit.n:2,::2] = 1\n",
    "ab_transform_formatter[:-Orbit.n:2,1::2] = 1\n",
    "ab_transform_formatter[-Orbit.n+1::2,1::2] = 1\n",
    "ab_transform_formatter[-Orbit.n::2, ::2] = 1\n",
    "\n",
    "full_dft_mat = rfft(np.eye(Orbit.M), norm='ortho', axis=0)\n",
    "# time_real_mat = rfft(np.eye(Orbit.N//2+1), norm='ortho', axis=0)\n",
    "time_dft_mat = np.concatenate((full_dft_mat[:-1, :].real, full_dft_mat[1:-1, :].imag), axis=0)\n",
    "ab_time_dft_matrix = np.insert(time_dft_mat, np.arange(time_dft_mat.shape[1]), time_dft_mat, axis=1)\n",
    "full_time_fft_matrix = np.kron(ab_time_dft_matrix*ab_transform_formatter, np.eye(Orbit.m))"
   ]
  },
  {
   "cell_type": "code",
   "execution_count": null,
   "metadata": {},
   "outputs": [],
   "source": [
    "idft_mat = irfft(np.eye(Orbit.N//2 + 1), norm='ortho', axis=0)\n",
    "time_idft_mat = np.concatenate((idft_mat[:, :-1].real, \n",
    "                                idft_mat[:, 1:-1].imag), axis=1)"
   ]
  },
  {
   "cell_type": "code",
   "execution_count": null,
   "metadata": {},
   "outputs": [],
   "source": [
    "Orbit.dt_matrix().shape"
   ]
  },
  {
   "cell_type": "code",
   "execution_count": null,
   "metadata": {},
   "outputs": [],
   "source": [
    "Orbit.dx_matrix(power=2).shape"
   ]
  },
  {
   "cell_type": "code",
   "execution_count": null,
   "metadata": {},
   "outputs": [],
   "source": [
    "%%timeit\n",
    "Orbit.dt_matrix() + Orbit.dx_matrix(power=2, statetype='modes') + Orbit.dx_matrix(power=4, statetype='modes')"
   ]
  },
  {
   "cell_type": "code",
   "execution_count": null,
   "metadata": {},
   "outputs": [],
   "source": [
    "%%timeit\n",
    "qk=Orbit.wave_vector().ravel()\n",
    "dx2 = -1*np.kron(np.eye(Orbit.N-1), np.diag(qk**2))\n",
    "dx4 = -1*np.kron(np.eye(Orbit.N-1), np.diag(qk**4))\n",
    "jl = Orbit.dt_matrix() + dx2 + dx4"
   ]
  },
  {
   "cell_type": "code",
   "execution_count": null,
   "metadata": {},
   "outputs": [],
   "source": [
    "idft_mat = irfft(np.eye(Orbit.M//2 + 1), norm='ortho', axis=0)[:, 1:-1]\n",
    "space_idft_mat = np.concatenate((idft_mat.real, idft_mat.imag), axis=1)\n",
    "space_idft_mat.shape"
   ]
  },
  {
   "cell_type": "code",
   "execution_count": null,
   "metadata": {},
   "outputs": [],
   "source": [
    "dft_mat = rfft(np.eye(Orbit.N), norm='ortho', axis=0)\n",
    "time_dft_mat = np.concatenate((dft_mat[:-1,:].real, dft_mat[1:-1,:].imag), axis=0)\n",
    "ab_time_dft_mat = np.insert(time_dft_mat, \n",
    "                             np.arange(time_dft_mat.shape[1]), \n",
    "                             np.zeros([time_dft_mat.shape[0], time_dft_mat.shape[1]]),\n",
    "                             axis=1)\n",
    "np.kron(ab_time_dft_mat, np.eye(Orbit.m)).shape"
   ]
  },
  {
   "cell_type": "code",
   "execution_count": null,
   "metadata": {},
   "outputs": [],
   "source": [
    "plt.imshow(ab_time_idft_mat)\n",
    "plt.colorbar()\n",
    "_ = plt.show()"
   ]
  },
  {
   "cell_type": "code",
   "execution_count": null,
   "metadata": {},
   "outputs": [],
   "source": [
    "ab_time_idft_mat.shape"
   ]
  },
  {
   "cell_type": "code",
   "execution_count": null,
   "metadata": {},
   "outputs": [],
   "source": [
    "tttt = full_time_ifft_matrix[full_time_ifft_matrix!=0]\n",
    "tttt[-5:]"
   ]
  },
  {
   "cell_type": "code",
   "execution_count": null,
   "metadata": {},
   "outputs": [],
   "source": [
    "# tmptmp = time_test[:, np.newaxis, :]\n"
   ]
  },
  {
   "cell_type": "code",
   "execution_count": null,
   "metadata": {},
   "outputs": [],
   "source": [
    "shuf2 = np.tile(np.insert(np.ones(8), np.arange(8), np.zeros(8)), (32,1))\n",
    "shuf1 = np.tile(np.insert(np.zeros(8), np.arange(8), np.ones(8)), (32,1))\n",
    "shuffle_mat = np.insert(shuf1.reshape(32, 1, 16), np.arange(32), shuf2.reshape(32,1,16),axis=0).squeeze()\n",
    "t2 = np.concatenate((shuffle_mat, shuffle_mat[:,1:]),axis=1)*tst\n",
    "# shufodd = np.roll(np.insert(shuf1.reshape(16, 1, 32), np.arange(16), shuf2.reshape(16,1,32),axis=0).squeeze(),1,axis=1)\n",
    "# shufodd = shufodd[:,:-1]\n",
    "# shufeven = shufeven[:,:-1]"
   ]
  },
  {
   "cell_type": "code",
   "execution_count": null,
   "metadata": {},
   "outputs": [],
   "source": [
    "# %%timeit\n"
   ]
  },
  {
   "cell_type": "code",
   "execution_count": null,
   "metadata": {},
   "outputs": [],
   "source": [
    "plt.imshow(tst)\n",
    "plt.colorbar()\n",
    "_ = plt.show()"
   ]
  },
  {
   "cell_type": "code",
   "execution_count": null,
   "metadata": {},
   "outputs": [],
   "source": [
    "plt.imshow(t2)\n",
    "plt.colorbar()\n",
    "_ = plt.show()"
   ]
  },
  {
   "cell_type": "code",
   "execution_count": null,
   "metadata": {},
   "outputs": [],
   "source": [
    "plt.imshow((tst*rangeifft)-t2)\n",
    "_ = plt.colorbar()"
   ]
  },
  {
   "cell_type": "code",
   "execution_count": null,
   "metadata": {},
   "outputs": [],
   "source": [
    "%%timeit\n",
    "Orbit.time_irfft_matrix()"
   ]
  },
  {
   "cell_type": "code",
   "execution_count": null,
   "metadata": {},
   "outputs": [],
   "source": [
    "%%timeit\n",
    "rangefft = np.zeros((31, 64),dtype=int)\n",
    "#odd rows\n",
    "rangefft[1:-15:2,::2] = 1\n",
    "rangefft[:-15:2,1::2] = 1\n",
    "rangefft[-15+1::2,1::2] = 1\n",
    "rangefft[-15::2, ::2] = 1\n",
    "time_mat = rfft(np.eye(Orbit.M), norm='ortho', axis=0)\n",
    "# time_real_mat = rfft(np.eye(Orbit.N//2+1), norm='ortho', axis=0)\n",
    "time_forward = np.concatenate((time_mat[:-1, :].real, time_mat[1:-1, :].imag), axis=0)\n",
    "time_mat_large = np.insert(time_forward, np.arange(time_forward.shape[1]), time_forward, axis=1)*rangefft\n",
    "full_time_fft_matrix = np.kron(time_mat_large, np.eye(Orbit.m))\n",
    "# np.linalg.norm(full_time_ifft_matrix-Orbit.time_ifft_matrix())"
   ]
  },
  {
   "cell_type": "code",
   "execution_count": null,
   "metadata": {},
   "outputs": [],
   "source": [
    "%%timeit\n",
    "rangefft = np.zeros((31, 64),dtype=int)\n",
    "#odd rows\n",
    "rangefft[1:-15:2,::2] = 1\n",
    "rangefft[:-15:2,1::2] = 1\n",
    "rangefft[-15+1::2,1::2] = 1\n",
    "rangefft[-15::2, ::2] = 1"
   ]
  },
  {
   "cell_type": "code",
   "execution_count": null,
   "metadata": {},
   "outputs": [],
   "source": [
    "%%timeit\n",
    "shuf22 = np.tile(np.insert(np.ones(32), np.arange(32), np.zeros(32)).reshape(1, -1), (8, 1))\n",
    "shuf12 = np.tile(np.insert(np.zeros(32), np.arange(32), np.ones(32)).reshape(1, -1), (8, 1))\n",
    "shuffle_mat2 = np.insert(shuf12, np.arange(8), shuf22, axis=0)\n",
    "shuf_final = np.concatenate((shuffle_mat2, shuffle_mat2[1:,:]), axis=0)\n",
    "\n",
    "time_mat = rfft(np.eye(Orbit.M), norm='ortho', axis=0)\n",
    "time_forward = np.concatenate((time_mat[:-1, :].real, time_mat[1:-1, :].imag), axis=0)\n",
    "time_mat_large = np.insert(time_forward, np.arange(time_forward.shape[1]), time_forward, axis=1)*shuf_final\n",
    "full_time_fft_matrix = np.kron(time_mat_large, np.eye(Orbit.m))"
   ]
  },
  {
   "cell_type": "code",
   "execution_count": null,
   "metadata": {},
   "outputs": [],
   "source": [
    "plt.imshow(full_time_ifft_matrix)"
   ]
  },
  {
   "cell_type": "code",
   "execution_count": null,
   "metadata": {},
   "outputs": [],
   "source": [
    "plt.imshow(Orbit.time_irfft_matrix()-full_time_ifft_matrix)"
   ]
  },
  {
   "cell_type": "code",
   "execution_count": null,
   "metadata": {},
   "outputs": [],
   "source": [
    "rangefft = np.zeros((31, 64),dtype=int)\n",
    "rangefft[1::2,::2] = 1\n",
    "rangefft[::2,1::2] = 1"
   ]
  },
  {
   "cell_type": "code",
   "execution_count": null,
   "metadata": {},
   "outputs": [],
   "source": [
    "shuf22 = np.tile(np.insert(np.ones(32), np.arange(32), np.zeros(32)).reshape(1, -1), (8, 1))\n",
    "shuf12 = np.tile(np.insert(np.zeros(32), np.arange(32), np.ones(32)).reshape(1, -1), (8, 1))\n",
    "shuffle_mat2 = np.insert(shuf12, np.arange(8), shuf22, axis=0)\n",
    "shuf_final = np.concatenate((shuffle_mat2, shuffle_mat2[1:,:]), axis=0)"
   ]
  },
  {
   "cell_type": "code",
   "execution_count": null,
   "metadata": {},
   "outputs": [],
   "source": [
    "plt.imshow(np.concatenate((shuffle_mat2, shuffle_mat2[1:,:]), axis=0))"
   ]
  },
  {
   "cell_type": "code",
   "execution_count": null,
   "metadata": {},
   "outputs": [],
   "source": [
    "plt.imshow(np.concatenate((rangefft, rangefft[1:,:]), axis=0))"
   ]
  },
  {
   "cell_type": "code",
   "execution_count": null,
   "metadata": {},
   "outputs": [],
   "source": [
    "np.linalg.norm(np.kron(t3, np.eye(ppoOrbit.m)).dot(ppoOrbit.convert(to='s_modes').state.ravel())-ppo_old_vv.ravel())"
   ]
  },
  {
   "cell_type": "code",
   "execution_count": null,
   "metadata": {},
   "outputs": [],
   "source": [
    "full_time_fft_matrix.dot(ppoOrbit.convert(to='s_modes').state.ravel())"
   ]
  },
  {
   "cell_type": "code",
   "execution_count": null,
   "metadata": {},
   "outputs": [],
   "source": [
    "np.linalg.norm(ppo_old_vv.ravel()-full_time_fft_matrix.dot(ppoOrbit.convert(to='s_modes').state.ravel()))"
   ]
  },
  {
   "cell_type": "code",
   "execution_count": null,
   "metadata": {},
   "outputs": [],
   "source": [
    "full_time_fft_matrix.shape"
   ]
  },
  {
   "cell_type": "code",
   "execution_count": null,
   "metadata": {},
   "outputs": [],
   "source": [
    "self = ppoOrbit\n",
    "ft = np.sqrt(self.N) * old_irfft(np.eye(self.N), axis=0)[:, :-1]\n",
    "indices = np.arange(0, self.n)\n",
    "odd_freq = indices[np.where(~np.mod(indices, 2).astype(bool))]\n",
    "even_freq = indices[np.where(np.mod(indices, 2).astype(bool))]\n",
    "\n",
    "zero = ft[:, 0]\n",
    "real = ft[:, 2 * indices + 1]\n",
    "imaginary = ft[:, 2 * indices + 2]\n",
    "\n",
    "even = np.concatenate((zero.reshape(-1, 1), real[:, even_freq], imaginary[:, even_freq]), axis=1)\n",
    "odd = np.concatenate((real[:, odd_freq], imaginary[:, odd_freq]), axis=1)\n",
    "\n",
    "even_staggered_rows = np.insert(even, np.arange(even.shape[0]), np.zeros([1, even.shape[1]]), axis=0)\n",
    "odd_staggered_rows = np.insert(odd, np.arange(odd.shape[0])+1, np.zeros([1, odd.shape[1]]), axis=0)\n",
    "\n",
    "# Adds a new-axis during the reshape operation\n",
    "e3 = even_staggered_rows.reshape(even_staggered_rows.shape[0], even_staggered_rows.shape[1], 1)\n",
    "o3 = odd_staggered_rows.reshape(odd_staggered_rows.shape[0], odd_staggered_rows.shape[1], 1)\n",
    "shuffle_indices = np.concatenate((np.arange(o3.shape[1] // 2),\n",
    "                                  ((o3.shape[1] // 2) + 1) + np.arange(o3.shape[1] // 2 - 1)), axis=0)\n",
    "irfft_mat = np.squeeze(np.insert(o3, shuffle_indices, e3, axis=1))"
   ]
  },
  {
   "cell_type": "code",
   "execution_count": null,
   "metadata": {},
   "outputs": [],
   "source": [
    "%%timeit\n",
    "even_indices = np.arange(0, Orbit.N//2, 2)\n",
    "odd_indices = np.arange(1, Orbit.N//2, 2)\n",
    "complex_spacetime = ppo_spacetime_modes[:-n, :]+1j*np.concatenate((np.zeros([1,Orbit.m]), ppo_spacetime_modes[-n:, :]),axis=0)\n",
    "full_complex=np.concatenate((complex_spacetime,np.zeros([1,Orbit.m])),axis=0)\n",
    "a, b = full_complex.copy(), full_complex.copy()\n",
    "a[even_indices, :] = 0\n",
    "b[odd_indices, :] = 0\n",
    "irfft(np.concatenate((a,b), axis=1), norm='ortho',axis=0)"
   ]
  },
  {
   "cell_type": "code",
   "execution_count": null,
   "metadata": {},
   "outputs": [],
   "source": [
    "fig, (ax0, ax1, ax2) = plt.subplots(1,3,figsize=(8,8))\n",
    "ax0.imshow(rediscretize(x, newN=512, newM=512).convert(to='field').state, \n",
    "           cmap='jet', vmin=noise_x.state.min(), vmax=noise_x.state.max(),\n",
    "           extent=[0, x.L/(2*pi), 0, x.T],aspect=0.25\n",
    "          )\n",
    "ax1.imshow(rediscretize(noise_y, newN=512, newM=512).convert(to='field').state,\n",
    "           cmap='jet', vmin=noise_x.state.min(), vmax=noise_x.state.max(),\n",
    "           extent=[0, x.L/(2*pi), 0, x.T],aspect=0.25\n",
    "          )\n",
    "im = ax2.imshow(rediscretize(noise_x, newN=512, newM=512).convert(to='field').state,\n",
    "                cmap='jet', vmin=noise_x.state.min(), vmax=noise_x.state.max(),\n",
    "           extent=[0, x.L/(2*pi), 0, x.T],aspect=0.25\n",
    "               )\n",
    "\n",
    "# fig.colorbar(im, ax=[ax0,ax1,ax2])\n",
    "fig.subplots_adjust(right=0.8)\n",
    "# put colorbar at desire position\n",
    "cbar_ax = fig.add_axes([0.85, 0.35, 0.02, 0.29])\n",
    "fig.colorbar(im, cax=cbar_ax)\n",
    "_ = ax1.set_yticks([])\n",
    "_ = ax2.set_yticks([])"
   ]
  },
  {
   "cell_type": "code",
   "execution_count": null,
   "metadata": {},
   "outputs": [],
   "source": [
    "fig, (ax0, ax1, ax2, ax3) = plt.subplots(1,4,figsize=(20,20))\n",
    "ax0.imshow(rediscretize(x, newN=512, newM=512).state, \n",
    "           cmap='jet', vmin=noise_x.state.min(), vmax=noise_x.state.max(),\n",
    "           extent=[0, x.L/(2*pi), 0, x.T],aspect=0.25\n",
    "          )\n",
    "ax1.imshow(rediscretize(noise_y, newN=512, newM=512).state,\n",
    "           cmap='jet', vmin=noise_x.state.min(), vmax=noise_x.state.max(),\n",
    "           extent=[0, x.L/(2*pi), 0, x.T],aspect=0.25\n",
    "          )\n",
    "ax2.imshow(rediscretize(noise_x, newN=512, newM=512).state,\n",
    "                cmap='jet', vmin=noise_x.state.min(), vmax=noise_x.state.max(),\n",
    "           extent=[0, x.L/(2*pi), 0, x.T],aspect=0.25\n",
    "               )\n",
    "im = ax3.imshow(rediscretize(noise_x_result, newN=512, newM=512).state,\n",
    "                cmap='jet', vmin=noise_x.state.min(), vmax=noise_x.state.max(),\n",
    "           extent=[0, x.L/(2*pi), 0, x.T], aspect=0.25\n",
    "               )\n",
    "\n",
    "# fig.colorbar(im, ax=[ax0,ax1,ax2])\n",
    "fig.subplots_adjust(right=0.8)\n",
    "# put colorbar at desire position\n",
    "cbar_ax = fig.add_axes([0.81, 0.395, 0.01, 0.214])\n",
    "fig.colorbar(im, cax=cbar_ax)\n",
    "ax0.set_yticks([0, 10, 20])\n",
    "ax0.set_yticklabels([0, 10, 20])\n",
    "_ = ax1.set_yticks([])\n",
    "_ = ax2.set_yticks([])\n",
    "_ = ax3.set_yticks([])\n",
    "plt.savefig('MNG_noise.pdf', bbox_inches='tight', pad_inches=0)"
   ]
  }
 ],
 "metadata": {
  "kernelspec": {
   "display_name": "Python 3",
   "language": "python",
   "name": "python3"
  },
  "language_info": {
   "codemirror_mode": {
    "name": "ipython",
    "version": 3
   },
   "file_extension": ".py",
   "mimetype": "text/x-python",
   "name": "python",
   "nbconvert_exporter": "python",
   "pygments_lexer": "ipython3",
   "version": "3.7.6"
  }
 },
 "nbformat": 4,
 "nbformat_minor": 2
}
