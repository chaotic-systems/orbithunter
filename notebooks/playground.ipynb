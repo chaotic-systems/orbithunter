{
 "cells": [
  {
   "cell_type": "code",
   "execution_count": 4,
   "metadata": {},
   "outputs": [],
   "source": [
    "from __future__ import print_function, division, absolute_import\n",
    "import os\n",
    "import sys\n",
    "sys.path.insert(0, \"C:\\\\Users\\\\Matt\\\\Desktop\\\\orbithunter\\\\\")\n",
    "from orbithunter import *\n",
    "import numpy as np\n",
    "# from scipy.fft import irfft,rfft,rfftn,irfftn,fftn,ifftn,fft,ifft,fft2,rfft2\n",
    "import itertools\n",
    "from math import pi\n",
    "# from orbithunter.glue import *\n",
    "import matplotlib.pyplot as plt\n",
    "from scipy.fft import rfft, irfft\n",
    "%matplotlib inline"
   ]
  },
  {
   "cell_type": "code",
   "execution_count": 42,
   "metadata": {},
   "outputs": [],
   "source": [
    "dft_mat = rfft(np.eye(32), norm='ortho', axis=0)\n",
    "time_dft_mat = np.concatenate((dft_mat[:-1, :].real,\n",
    "                               dft_mat[1:-1, :].imag), axis=0)\n",
    "ab_time_dft_mat = np.insert(time_dft_mat,\n",
    "                            np.arange(time_dft_mat.shape[1]),\n",
    "                            np.zeros([time_dft_mat.shape[0], time_dft_mat.shape[1]]),\n",
    "                            axis=1)"
   ]
  },
  {
   "cell_type": "code",
   "execution_count": 50,
   "metadata": {},
   "outputs": [
    {
     "ename": "ValueError",
     "evalue": "operands could not be broadcast together with shapes (32,) (30,) ",
     "output_type": "error",
     "traceback": [
      "\u001b[1;31m---------------------------------------------------------------------------\u001b[0m",
      "\u001b[1;31mValueError\u001b[0m                                Traceback (most recent call last)",
      "\u001b[1;32m<ipython-input-50-45678f5e2913>\u001b[0m in \u001b[0;36m<module>\u001b[1;34m\u001b[0m\n\u001b[1;32m----> 1\u001b[1;33m \u001b[0mnp\u001b[0m\u001b[1;33m.\u001b[0m\u001b[0msum\u001b[0m\u001b[1;33m(\u001b[0m\u001b[0mtime_dft_mat\u001b[0m\u001b[1;33m[\u001b[0m\u001b[1;36m0\u001b[0m\u001b[1;33m]\u001b[0m\u001b[1;33m*\u001b[0m\u001b[0mrpo_test\u001b[0m\u001b[1;33m.\u001b[0m\u001b[0mstate\u001b[0m\u001b[1;33m[\u001b[0m\u001b[1;36m0\u001b[0m\u001b[1;33m,\u001b[0m\u001b[1;33m:\u001b[0m\u001b[1;33m]\u001b[0m\u001b[1;33m)\u001b[0m\u001b[1;33m\u001b[0m\u001b[1;33m\u001b[0m\u001b[0m\n\u001b[0m",
      "\u001b[1;31mValueError\u001b[0m: operands could not be broadcast together with shapes (32,) (30,) "
     ]
    }
   ],
   "source": [
    "np.sum(time_dft_mat[0]*rpo_test.state[0,:]"
   ]
  },
  {
   "cell_type": "code",
   "execution_count": 53,
   "metadata": {},
   "outputs": [
    {
     "data": {
      "text/plain": [
       "(31, 64)"
      ]
     },
     "execution_count": 53,
     "metadata": {},
     "output_type": "execute_result"
    }
   ],
   "source": [
    "ab_time_dft_mat.shape"
   ]
  },
  {
   "cell_type": "code",
   "execution_count": 51,
   "metadata": {},
   "outputs": [
    {
     "data": {
      "text/plain": [
       "(31, 32)"
      ]
     },
     "execution_count": 51,
     "metadata": {},
     "output_type": "execute_result"
    }
   ],
   "source": [
    "time_dft_mat.shape"
   ]
  },
  {
   "cell_type": "code",
   "execution_count": 44,
   "metadata": {},
   "outputs": [
    {
     "data": {
      "text/plain": [
       "(31, 64)"
      ]
     },
     "execution_count": 44,
     "metadata": {},
     "output_type": "execute_result"
    }
   ],
   "source": [
    "ab_time_dft_mat.shape"
   ]
  },
  {
   "cell_type": "code",
   "execution_count": 3,
   "metadata": {},
   "outputs": [
    {
     "data": {
      "text/plain": [
       "'C:\\\\Users\\\\Matt\\\\Desktop\\\\orbithunter\\\\notebooks'"
      ]
     },
     "execution_count": 3,
     "metadata": {},
     "output_type": "execute_result"
    }
   ],
   "source": [
    "os.getcwd()"
   ]
  },
  {
   "cell_type": "code",
   "execution_count": 8,
   "metadata": {},
   "outputs": [],
   "source": [
    "reqva_test = read_h5('reqva_L27p39.h5', directory='data')"
   ]
  },
  {
   "cell_type": "code",
   "execution_count": 9,
   "metadata": {},
   "outputs": [
    {
     "data": {
      "image/png": "[encoded data removed]",
      "text/plain": [
       "<Figure size 195.028x175.408 with 2 Axes>"
      ]
     },
     "metadata": {
      "needs_background": "light"
     },
     "output_type": "display_data"
    }
   ],
   "source": [
    "reqva_test.plot(fundamental_domain=False)"
   ]
  },
  {
   "cell_type": "code",
   "execution_count": 10,
   "metadata": {},
   "outputs": [
    {
     "ename": "NameError",
     "evalue": "name 'self' is not defined",
     "output_type": "error",
     "traceback": [
      "\u001b[1;31m---------------------------------------------------------------------------\u001b[0m",
      "\u001b[1;31mNameError\u001b[0m                                 Traceback (most recent call last)",
      "\u001b[1;32m<ipython-input-10-eed76d0764d1>\u001b[0m in \u001b[0;36m<module>\u001b[1;34m\u001b[0m\n\u001b[1;32m----> 1\u001b[1;33m \u001b[0mspacetime_modes\u001b[0m \u001b[1;33m=\u001b[0m \u001b[1;33m(\u001b[0m\u001b[1;36m1.\u001b[0m\u001b[1;33m/\u001b[0m\u001b[0mnp\u001b[0m\u001b[1;33m.\u001b[0m\u001b[0msqrt\u001b[0m\u001b[1;33m(\u001b[0m\u001b[1;36m32\u001b[0m\u001b[1;33m)\u001b[0m\u001b[1;33m)\u001b[0m \u001b[1;33m*\u001b[0m \u001b[0mself\u001b[0m\u001b[1;33m.\u001b[0m\u001b[0mstate\u001b[0m\u001b[1;33m\u001b[0m\u001b[1;33m\u001b[0m\u001b[0m\n\u001b[0m",
      "\u001b[1;31mNameError\u001b[0m: name 'self' is not defined"
     ]
    }
   ],
   "source": [
    "spacetime_modes = (1./np.sqrt(32)) * self.state"
   ]
  },
  {
   "cell_type": "code",
   "execution_count": 11,
   "metadata": {
    "scrolled": true
   },
   "outputs": [
    {
     "data": {
      "text/plain": [
       "array([0.1767767, 0.1767767, 0.1767767, 0.1767767, 0.1767767, 0.1767767,\n",
       "       0.1767767, 0.1767767, 0.1767767, 0.1767767, 0.1767767, 0.1767767,\n",
       "       0.1767767, 0.1767767, 0.1767767])"
      ]
     },
     "execution_count": 11,
     "metadata": {},
     "output_type": "execute_result"
    }
   ],
   "source": [
    "np.sum((1./np.sqrt(32)) * np.concatenate((0*np.eye(15), np.eye(15)), axis=1),axis=1)"
   ]
  },
  {
   "cell_type": "code",
   "execution_count": 12,
   "metadata": {
    "scrolled": true
   },
   "outputs": [
    {
     "data": {
      "text/plain": [
       "array([[ 0.1767767 ,  0.1767767 ,  0.1767767 ,  0.1767767 ,  0.1767767 ,\n",
       "         0.1767767 ,  0.1767767 ,  0.1767767 ,  0.1767767 ,  0.1767767 ,\n",
       "         0.1767767 ,  0.1767767 ,  0.1767767 ,  0.1767767 ,  0.1767767 ,\n",
       "         0.1767767 ,  0.1767767 ,  0.1767767 ,  0.1767767 ,  0.1767767 ,\n",
       "         0.1767767 ,  0.1767767 ,  0.1767767 ,  0.1767767 ,  0.1767767 ,\n",
       "         0.1767767 ,  0.1767767 ,  0.1767767 ,  0.1767767 ,  0.1767767 ,\n",
       "         0.1767767 ,  0.1767767 ],\n",
       "       [ 0.1767767 ,  0.17337998,  0.16332037,  0.14698445,  0.125     ,\n",
       "         0.09821187,  0.06764951,  0.03448742,  0.        , -0.03448742,\n",
       "        -0.06764951, -0.09821187, -0.125     , -0.14698445, -0.16332037,\n",
       "        -0.17337998, -0.1767767 , -0.17337998, -0.16332037, -0.14698445,\n",
       "        -0.125     , -0.09821187, -0.06764951, -0.03448742,  0.        ,\n",
       "         0.03448742,  0.06764951,  0.09821187,  0.125     ,  0.14698445,\n",
       "         0.16332037,  0.17337998],\n",
       "       [ 0.1767767 ,  0.16332037,  0.125     ,  0.06764951,  0.        ,\n",
       "        -0.06764951, -0.125     , -0.16332037, -0.1767767 , -0.16332037,\n",
       "        -0.125     , -0.06764951,  0.        ,  0.06764951,  0.125     ,\n",
       "         0.16332037,  0.1767767 ,  0.16332037,  0.125     ,  0.06764951,\n",
       "         0.        , -0.06764951, -0.125     , -0.16332037, -0.1767767 ,\n",
       "        -0.16332037, -0.125     , -0.06764951,  0.        ,  0.06764951,\n",
       "         0.125     ,  0.16332037],\n",
       "       [ 0.1767767 ,  0.14698445,  0.06764951, -0.03448742, -0.125     ,\n",
       "        -0.17337998, -0.16332037, -0.09821187,  0.        ,  0.09821187,\n",
       "         0.16332037,  0.17337998,  0.125     ,  0.03448742, -0.06764951,\n",
       "        -0.14698445, -0.1767767 , -0.14698445, -0.06764951,  0.03448742,\n",
       "         0.125     ,  0.17337998,  0.16332037,  0.09821187,  0.        ,\n",
       "        -0.09821187, -0.16332037, -0.17337998, -0.125     , -0.03448742,\n",
       "         0.06764951,  0.14698445],\n",
       "       [ 0.1767767 ,  0.125     ,  0.        , -0.125     , -0.1767767 ,\n",
       "        -0.125     ,  0.        ,  0.125     ,  0.1767767 ,  0.125     ,\n",
       "         0.        , -0.125     , -0.1767767 , -0.125     ,  0.        ,\n",
       "         0.125     ,  0.1767767 ,  0.125     ,  0.        , -0.125     ,\n",
       "        -0.1767767 , -0.125     ,  0.        ,  0.125     ,  0.1767767 ,\n",
       "         0.125     ,  0.        , -0.125     , -0.1767767 , -0.125     ,\n",
       "         0.        ,  0.125     ],\n",
       "       [ 0.1767767 ,  0.09821187, -0.06764951, -0.17337998, -0.125     ,\n",
       "         0.03448742,  0.16332037,  0.14698445,  0.        , -0.14698445,\n",
       "        -0.16332037, -0.03448742,  0.125     ,  0.17337998,  0.06764951,\n",
       "        -0.09821187, -0.1767767 , -0.09821187,  0.06764951,  0.17337998,\n",
       "         0.125     , -0.03448742, -0.16332037, -0.14698445,  0.        ,\n",
       "         0.14698445,  0.16332037,  0.03448742, -0.125     , -0.17337998,\n",
       "        -0.06764951,  0.09821187],\n",
       "       [ 0.1767767 ,  0.06764951, -0.125     , -0.16332037,  0.        ,\n",
       "         0.16332037,  0.125     , -0.06764951, -0.1767767 , -0.06764951,\n",
       "         0.125     ,  0.16332037,  0.        , -0.16332037, -0.125     ,\n",
       "         0.06764951,  0.1767767 ,  0.06764951, -0.125     , -0.16332037,\n",
       "         0.        ,  0.16332037,  0.125     , -0.06764951, -0.1767767 ,\n",
       "        -0.06764951,  0.125     ,  0.16332037,  0.        , -0.16332037,\n",
       "        -0.125     ,  0.06764951],\n",
       "       [ 0.1767767 ,  0.03448742, -0.16332037, -0.09821187,  0.125     ,\n",
       "         0.14698445, -0.06764951, -0.17337998,  0.        ,  0.17337998,\n",
       "         0.06764951, -0.14698445, -0.125     ,  0.09821187,  0.16332037,\n",
       "        -0.03448742, -0.1767767 , -0.03448742,  0.16332037,  0.09821187,\n",
       "        -0.125     , -0.14698445,  0.06764951,  0.17337998,  0.        ,\n",
       "        -0.17337998, -0.06764951,  0.14698445,  0.125     , -0.09821187,\n",
       "        -0.16332037,  0.03448742],\n",
       "       [ 0.1767767 ,  0.        , -0.1767767 ,  0.        ,  0.1767767 ,\n",
       "         0.        , -0.1767767 ,  0.        ,  0.1767767 ,  0.        ,\n",
       "        -0.1767767 ,  0.        ,  0.1767767 ,  0.        , -0.1767767 ,\n",
       "         0.        ,  0.1767767 ,  0.        , -0.1767767 ,  0.        ,\n",
       "         0.1767767 ,  0.        , -0.1767767 ,  0.        ,  0.1767767 ,\n",
       "         0.        , -0.1767767 ,  0.        ,  0.1767767 ,  0.        ,\n",
       "        -0.1767767 ,  0.        ],\n",
       "       [ 0.1767767 , -0.03448742, -0.16332037,  0.09821187,  0.125     ,\n",
       "        -0.14698445, -0.06764951,  0.17337998,  0.        , -0.17337998,\n",
       "         0.06764951,  0.14698445, -0.125     , -0.09821187,  0.16332037,\n",
       "         0.03448742, -0.1767767 ,  0.03448742,  0.16332037, -0.09821187,\n",
       "        -0.125     ,  0.14698445,  0.06764951, -0.17337998,  0.        ,\n",
       "         0.17337998, -0.06764951, -0.14698445,  0.125     ,  0.09821187,\n",
       "        -0.16332037, -0.03448742],\n",
       "       [ 0.1767767 , -0.06764951, -0.125     ,  0.16332037,  0.        ,\n",
       "        -0.16332037,  0.125     ,  0.06764951, -0.1767767 ,  0.06764951,\n",
       "         0.125     , -0.16332037,  0.        ,  0.16332037, -0.125     ,\n",
       "        -0.06764951,  0.1767767 , -0.06764951, -0.125     ,  0.16332037,\n",
       "         0.        , -0.16332037,  0.125     ,  0.06764951, -0.1767767 ,\n",
       "         0.06764951,  0.125     , -0.16332037,  0.        ,  0.16332037,\n",
       "        -0.125     , -0.06764951],\n",
       "       [ 0.1767767 , -0.09821187, -0.06764951,  0.17337998, -0.125     ,\n",
       "        -0.03448742,  0.16332037, -0.14698445,  0.        ,  0.14698445,\n",
       "        -0.16332037,  0.03448742,  0.125     , -0.17337998,  0.06764951,\n",
       "         0.09821187, -0.1767767 ,  0.09821187,  0.06764951, -0.17337998,\n",
       "         0.125     ,  0.03448742, -0.16332037,  0.14698445,  0.        ,\n",
       "        -0.14698445,  0.16332037, -0.03448742, -0.125     ,  0.17337998,\n",
       "        -0.06764951, -0.09821187],\n",
       "       [ 0.1767767 , -0.125     ,  0.        ,  0.125     , -0.1767767 ,\n",
       "         0.125     ,  0.        , -0.125     ,  0.1767767 , -0.125     ,\n",
       "         0.        ,  0.125     , -0.1767767 ,  0.125     ,  0.        ,\n",
       "        -0.125     ,  0.1767767 , -0.125     ,  0.        ,  0.125     ,\n",
       "        -0.1767767 ,  0.125     ,  0.        , -0.125     ,  0.1767767 ,\n",
       "        -0.125     ,  0.        ,  0.125     , -0.1767767 ,  0.125     ,\n",
       "         0.        , -0.125     ],\n",
       "       [ 0.1767767 , -0.14698445,  0.06764951,  0.03448742, -0.125     ,\n",
       "         0.17337998, -0.16332037,  0.09821187,  0.        , -0.09821187,\n",
       "         0.16332037, -0.17337998,  0.125     , -0.03448742, -0.06764951,\n",
       "         0.14698445, -0.1767767 ,  0.14698445, -0.06764951, -0.03448742,\n",
       "         0.125     , -0.17337998,  0.16332037, -0.09821187,  0.        ,\n",
       "         0.09821187, -0.16332037,  0.17337998, -0.125     ,  0.03448742,\n",
       "         0.06764951, -0.14698445],\n",
       "       [ 0.1767767 , -0.16332037,  0.125     , -0.06764951,  0.        ,\n",
       "         0.06764951, -0.125     ,  0.16332037, -0.1767767 ,  0.16332037,\n",
       "        -0.125     ,  0.06764951,  0.        , -0.06764951,  0.125     ,\n",
       "        -0.16332037,  0.1767767 , -0.16332037,  0.125     , -0.06764951,\n",
       "         0.        ,  0.06764951, -0.125     ,  0.16332037, -0.1767767 ,\n",
       "         0.16332037, -0.125     ,  0.06764951,  0.        , -0.06764951,\n",
       "         0.125     , -0.16332037],\n",
       "       [ 0.1767767 , -0.17337998,  0.16332037, -0.14698445,  0.125     ,\n",
       "        -0.09821187,  0.06764951, -0.03448742,  0.        ,  0.03448742,\n",
       "        -0.06764951,  0.09821187, -0.125     ,  0.14698445, -0.16332037,\n",
       "         0.17337998, -0.1767767 ,  0.17337998, -0.16332037,  0.14698445,\n",
       "        -0.125     ,  0.09821187, -0.06764951,  0.03448742,  0.        ,\n",
       "        -0.03448742,  0.06764951, -0.09821187,  0.125     , -0.14698445,\n",
       "         0.16332037, -0.17337998],\n",
       "       [ 0.        , -0.03448742, -0.06764951, -0.09821187, -0.125     ,\n",
       "        -0.14698445, -0.16332037, -0.17337998, -0.1767767 , -0.17337998,\n",
       "        -0.16332037, -0.14698445, -0.125     , -0.09821187, -0.06764951,\n",
       "        -0.03448742,  0.        ,  0.03448742,  0.06764951,  0.09821187,\n",
       "         0.125     ,  0.14698445,  0.16332037,  0.17337998,  0.1767767 ,\n",
       "         0.17337998,  0.16332037,  0.14698445,  0.125     ,  0.09821187,\n",
       "         0.06764951,  0.03448742],\n",
       "       [-0.        , -0.06764951, -0.125     , -0.16332037, -0.1767767 ,\n",
       "        -0.16332037, -0.125     , -0.06764951, -0.        ,  0.06764951,\n",
       "         0.125     ,  0.16332037,  0.1767767 ,  0.16332037,  0.125     ,\n",
       "         0.06764951, -0.        , -0.06764951, -0.125     , -0.16332037,\n",
       "        -0.1767767 , -0.16332037, -0.125     , -0.06764951, -0.        ,\n",
       "         0.06764951,  0.125     ,  0.16332037,  0.1767767 ,  0.16332037,\n",
       "         0.125     ,  0.06764951],\n",
       "       [ 0.        , -0.09821187, -0.16332037, -0.17337998, -0.125     ,\n",
       "        -0.03448742,  0.06764951,  0.14698445,  0.1767767 ,  0.14698445,\n",
       "         0.06764951, -0.03448742, -0.125     , -0.17337998, -0.16332037,\n",
       "        -0.09821187,  0.        ,  0.09821187,  0.16332037,  0.17337998,\n",
       "         0.125     ,  0.03448742, -0.06764951, -0.14698445, -0.1767767 ,\n",
       "        -0.14698445, -0.06764951,  0.03448742,  0.125     ,  0.17337998,\n",
       "         0.16332037,  0.09821187],\n",
       "       [ 0.        , -0.125     , -0.1767767 , -0.125     ,  0.        ,\n",
       "         0.125     ,  0.1767767 ,  0.125     ,  0.        , -0.125     ,\n",
       "        -0.1767767 , -0.125     ,  0.        ,  0.125     ,  0.1767767 ,\n",
       "         0.125     ,  0.        , -0.125     , -0.1767767 , -0.125     ,\n",
       "         0.        ,  0.125     ,  0.1767767 ,  0.125     ,  0.        ,\n",
       "        -0.125     , -0.1767767 , -0.125     ,  0.        ,  0.125     ,\n",
       "         0.1767767 ,  0.125     ],\n",
       "       [ 0.        , -0.14698445, -0.16332037, -0.03448742,  0.125     ,\n",
       "         0.17337998,  0.06764951, -0.09821187, -0.1767767 , -0.09821187,\n",
       "         0.06764951,  0.17337998,  0.125     , -0.03448742, -0.16332037,\n",
       "        -0.14698445,  0.        ,  0.14698445,  0.16332037,  0.03448742,\n",
       "        -0.125     , -0.17337998, -0.06764951,  0.09821187,  0.1767767 ,\n",
       "         0.09821187, -0.06764951, -0.17337998, -0.125     ,  0.03448742,\n",
       "         0.16332037,  0.14698445],\n",
       "       [ 0.        , -0.16332037, -0.125     ,  0.06764951,  0.1767767 ,\n",
       "         0.06764951, -0.125     , -0.16332037,  0.        ,  0.16332037,\n",
       "         0.125     , -0.06764951, -0.1767767 , -0.06764951,  0.125     ,\n",
       "         0.16332037,  0.        , -0.16332037, -0.125     ,  0.06764951,\n",
       "         0.1767767 ,  0.06764951, -0.125     , -0.16332037,  0.        ,\n",
       "         0.16332037,  0.125     , -0.06764951, -0.1767767 , -0.06764951,\n",
       "         0.125     ,  0.16332037],\n",
       "       [ 0.        , -0.17337998, -0.06764951,  0.14698445,  0.125     ,\n",
       "        -0.09821187, -0.16332037,  0.03448742,  0.1767767 ,  0.03448742,\n",
       "        -0.16332037, -0.09821187,  0.125     ,  0.14698445, -0.06764951,\n",
       "        -0.17337998,  0.        ,  0.17337998,  0.06764951, -0.14698445,\n",
       "        -0.125     ,  0.09821187,  0.16332037, -0.03448742, -0.1767767 ,\n",
       "        -0.03448742,  0.16332037,  0.09821187, -0.125     , -0.14698445,\n",
       "         0.06764951,  0.17337998],\n",
       "       [-0.        , -0.1767767 , -0.        ,  0.1767767 , -0.        ,\n",
       "        -0.1767767 , -0.        ,  0.1767767 , -0.        , -0.1767767 ,\n",
       "        -0.        ,  0.1767767 , -0.        , -0.1767767 , -0.        ,\n",
       "         0.1767767 , -0.        , -0.1767767 , -0.        ,  0.1767767 ,\n",
       "        -0.        , -0.1767767 , -0.        ,  0.1767767 , -0.        ,\n",
       "        -0.1767767 , -0.        ,  0.1767767 , -0.        , -0.1767767 ,\n",
       "        -0.        ,  0.1767767 ],\n",
       "       [ 0.        , -0.17337998,  0.06764951,  0.14698445, -0.125     ,\n",
       "        -0.09821187,  0.16332037,  0.03448742, -0.1767767 ,  0.03448742,\n",
       "         0.16332037, -0.09821187, -0.125     ,  0.14698445,  0.06764951,\n",
       "        -0.17337998,  0.        ,  0.17337998, -0.06764951, -0.14698445,\n",
       "         0.125     ,  0.09821187, -0.16332037, -0.03448742,  0.1767767 ,\n",
       "        -0.03448742, -0.16332037,  0.09821187,  0.125     , -0.14698445,\n",
       "        -0.06764951,  0.17337998],\n",
       "       [ 0.        , -0.16332037,  0.125     ,  0.06764951, -0.1767767 ,\n",
       "         0.06764951,  0.125     , -0.16332037,  0.        ,  0.16332037,\n",
       "        -0.125     , -0.06764951,  0.1767767 , -0.06764951, -0.125     ,\n",
       "         0.16332037,  0.        , -0.16332037,  0.125     ,  0.06764951,\n",
       "        -0.1767767 ,  0.06764951,  0.125     , -0.16332037,  0.        ,\n",
       "         0.16332037, -0.125     , -0.06764951,  0.1767767 , -0.06764951,\n",
       "        -0.125     ,  0.16332037],\n",
       "       [ 0.        , -0.14698445,  0.16332037, -0.03448742, -0.125     ,\n",
       "         0.17337998, -0.06764951, -0.09821187,  0.1767767 , -0.09821187,\n",
       "        -0.06764951,  0.17337998, -0.125     , -0.03448742,  0.16332037,\n",
       "        -0.14698445,  0.        ,  0.14698445, -0.16332037,  0.03448742,\n",
       "         0.125     , -0.17337998,  0.06764951,  0.09821187, -0.1767767 ,\n",
       "         0.09821187,  0.06764951, -0.17337998,  0.125     ,  0.03448742,\n",
       "        -0.16332037,  0.14698445],\n",
       "       [ 0.        , -0.125     ,  0.1767767 , -0.125     ,  0.        ,\n",
       "         0.125     , -0.1767767 ,  0.125     ,  0.        , -0.125     ,\n",
       "         0.1767767 , -0.125     ,  0.        ,  0.125     , -0.1767767 ,\n",
       "         0.125     ,  0.        , -0.125     ,  0.1767767 , -0.125     ,\n",
       "         0.        ,  0.125     , -0.1767767 ,  0.125     ,  0.        ,\n",
       "        -0.125     ,  0.1767767 , -0.125     ,  0.        ,  0.125     ,\n",
       "        -0.1767767 ,  0.125     ],\n",
       "       [ 0.        , -0.09821187,  0.16332037, -0.17337998,  0.125     ,\n",
       "        -0.03448742, -0.06764951,  0.14698445, -0.1767767 ,  0.14698445,\n",
       "        -0.06764951, -0.03448742,  0.125     , -0.17337998,  0.16332037,\n",
       "        -0.09821187,  0.        ,  0.09821187, -0.16332037,  0.17337998,\n",
       "        -0.125     ,  0.03448742,  0.06764951, -0.14698445,  0.1767767 ,\n",
       "        -0.14698445,  0.06764951,  0.03448742, -0.125     ,  0.17337998,\n",
       "        -0.16332037,  0.09821187],\n",
       "       [ 0.        , -0.06764951,  0.125     , -0.16332037,  0.1767767 ,\n",
       "        -0.16332037,  0.125     , -0.06764951,  0.        ,  0.06764951,\n",
       "        -0.125     ,  0.16332037, -0.1767767 ,  0.16332037, -0.125     ,\n",
       "         0.06764951,  0.        , -0.06764951,  0.125     , -0.16332037,\n",
       "         0.1767767 , -0.16332037,  0.125     , -0.06764951,  0.        ,\n",
       "         0.06764951, -0.125     ,  0.16332037, -0.1767767 ,  0.16332037,\n",
       "        -0.125     ,  0.06764951],\n",
       "       [ 0.        , -0.03448742,  0.06764951, -0.09821187,  0.125     ,\n",
       "        -0.14698445,  0.16332037, -0.17337998,  0.1767767 , -0.17337998,\n",
       "         0.16332037, -0.14698445,  0.125     , -0.09821187,  0.06764951,\n",
       "        -0.03448742,  0.        ,  0.03448742, -0.06764951,  0.09821187,\n",
       "        -0.125     ,  0.14698445, -0.16332037,  0.17337998, -0.1767767 ,\n",
       "         0.17337998, -0.16332037,  0.14698445, -0.125     ,  0.09821187,\n",
       "        -0.06764951,  0.03448742]])"
      ]
     },
     "execution_count": 12,
     "metadata": {},
     "output_type": "execute_result"
    }
   ],
   "source": [
    "dft_mat = rfft(np.eye(32), norm='ortho', axis=0)\n",
    "time_idft_mat = np.concatenate((dft_mat[:-1, :].real,\n",
    "                                        dft_mat[1:-1, :].imag), axis=0)\n",
    "time_idft_mat"
   ]
  },
  {
   "cell_type": "code",
   "execution_count": 57,
   "metadata": {},
   "outputs": [
    {
     "data": {
      "text/plain": [
       "RelativeOrbitKS()"
      ]
     },
     "execution_count": 57,
     "metadata": {},
     "output_type": "execute_result"
    }
   ],
   "source": [
    "rpo_test = reqva_test.copy()\n",
    "\n",
    "rpo_test.convert(to='s_modes', inplace=True)\n",
    "rpo_test.state = np.tile(reqva_test.convert(to='s_modes').state[-1,:].reshape(1,-1),(32,1))\n",
    "smode0 = rpo_test.state[0,0]\n",
    "rpo_test.convert(to='modes', inplace=True)"
   ]
  },
  {
   "cell_type": "markdown",
   "metadata": {},
   "source": [
    "The transformation from s_modes to modes should result in division by np.sqrt(32). So what the fuck is going on. "
   ]
  },
  {
   "cell_type": "code",
   "execution_count": 60,
   "metadata": {},
   "outputs": [
    {
     "data": {
      "text/plain": [
       "(2.0081617017736693, 0.06275505318042716)"
      ]
     },
     "execution_count": 60,
     "metadata": {},
     "output_type": "execute_result"
    }
   ],
   "source": [
    "rpo_test.state[0,0], smode0"
   ]
  },
  {
   "cell_type": "code",
   "execution_count": 63,
   "metadata": {},
   "outputs": [
    {
     "data": {
      "text/plain": [
       "0.06275505318042716"
      ]
     },
     "execution_count": 63,
     "metadata": {},
     "output_type": "execute_result"
    }
   ],
   "source": [
    "(1/np.sqrt(32)) * smode0"
   ]
  },
  {
   "cell_type": "code",
   "execution_count": 65,
   "metadata": {},
   "outputs": [
    {
     "data": {
      "text/plain": [
       "(31, 64)"
      ]
     },
     "execution_count": 65,
     "metadata": {},
     "output_type": "execute_result"
    }
   ],
   "source": [
    "dft_mat = rfft(np.eye(32), norm='ortho', axis=0)\n",
    "time_dft_mat = np.concatenate((dft_mat[:-1, :].real,\n",
    "                               dft_mat[1:-1, :].imag), axis=0)\n",
    "ab_time_dft_mat = np.insert(time_dft_mat,\n",
    "                            np.arange(time_dft_mat.shape[1]),\n",
    "                            np.zeros([time_dft_mat.shape[0], time_dft_mat.shape[1]]),\n",
    "                            axis=1)\n",
    "ab_time_dft_mat.shape"
   ]
  },
  {
   "cell_type": "code",
   "execution_count": 69,
   "metadata": {},
   "outputs": [
    {
     "data": {
      "text/plain": [
       "5.656854249492381"
      ]
     },
     "execution_count": 69,
     "metadata": {},
     "output_type": "execute_result"
    }
   ],
   "source": [
    "np.sqrt(32)"
   ]
  },
  {
   "cell_type": "code",
   "execution_count": 68,
   "metadata": {},
   "outputs": [
    {
     "data": {
      "text/plain": [
       "array([5.65685425+0.j, 0.        +0.j, 0.        -0.j, 0.        +0.j,\n",
       "       0.        +0.j, 0.        +0.j, 0.        +0.j, 0.        +0.j,\n",
       "       0.        -0.j, 0.        +0.j, 0.        +0.j, 0.        +0.j,\n",
       "       0.        +0.j, 0.        +0.j, 0.        +0.j, 0.        +0.j,\n",
       "       0.        +0.j])"
      ]
     },
     "execution_count": 68,
     "metadata": {},
     "output_type": "execute_result"
    }
   ],
   "source": [
    "rfft(np.ones(32), norm='ortho')"
   ]
  },
  {
   "cell_type": "code",
   "execution_count": 47,
   "metadata": {},
   "outputs": [
    {
     "data": {
      "text/plain": [
       "0.35499618926081977"
      ]
     },
     "execution_count": 47,
     "metadata": {},
     "output_type": "execute_result"
    }
   ],
   "source": [
    "reqva_test.convert(to='s_modes').state[-1,0]"
   ]
  },
  {
   "cell_type": "code",
   "execution_count": 53,
   "metadata": {},
   "outputs": [
    {
     "data": {
      "text/plain": [
       "array([[1.        , 0.        , 0.        , ..., 0.        , 0.        ,\n",
       "        0.        ],\n",
       "       [0.        , 1.        , 0.        , ..., 0.        , 0.        ,\n",
       "        0.        ],\n",
       "       [0.        , 0.        , 1.        , ..., 0.        , 0.        ,\n",
       "        0.        ],\n",
       "       ...,\n",
       "       [0.        , 0.        , 0.        , ..., 0.19509032, 0.        ,\n",
       "        0.        ],\n",
       "       [0.        , 0.        , 0.        , ..., 0.        , 0.19509032,\n",
       "        0.        ],\n",
       "       [0.        , 0.        , 0.        , ..., 0.        , 0.        ,\n",
       "        0.19509032]])"
      ]
     },
     "execution_count": 53,
     "metadata": {},
     "output_type": "execute_result"
    }
   ],
   "source": [
    "rpo_test.time_transform_matrix()*np.sqrt(32)"
   ]
  },
  {
   "cell_type": "code",
   "execution_count": 60,
   "metadata": {},
   "outputs": [],
   "source": []
  },
  {
   "cell_type": "code",
   "execution_count": 63,
   "metadata": {},
   "outputs": [],
   "source": [
    "?OrbitKS"
   ]
  },
  {
   "cell_type": "code",
   "execution_count": 66,
   "metadata": {},
   "outputs": [
    {
     "data": {
      "text/plain": [
       "0.17677669529663687"
      ]
     },
     "execution_count": 66,
     "metadata": {},
     "output_type": "execute_result"
    }
   ],
   "source": [
    "1/np.sqrt(32)"
   ]
  },
  {
   "cell_type": "code",
   "execution_count": 74,
   "metadata": {},
   "outputs": [
    {
     "data": {
      "text/plain": [
       "(17, 32)"
      ]
     },
     "execution_count": 74,
     "metadata": {},
     "output_type": "execute_result"
    }
   ],
   "source": [
    "rfft(np.eye(32), norm='ortho', axis=0).shape"
   ]
  },
  {
   "cell_type": "code",
   "execution_count": 78,
   "metadata": {},
   "outputs": [
    {
     "data": {
      "text/plain": [
       "0.17677669529663687"
      ]
     },
     "execution_count": 78,
     "metadata": {},
     "output_type": "execute_result"
    }
   ],
   "source": [
    "(irfft(np.eye(17), norm='ortho', axis=0)[0,0])"
   ]
  },
  {
   "cell_type": "code",
   "execution_count": 67,
   "metadata": {},
   "outputs": [
    {
     "data": {
      "text/plain": [
       "array([0.1767767+0.j, 0.1767767+0.j, 0.1767767+0.j, 0.1767767+0.j,\n",
       "       0.1767767+0.j, 0.1767767+0.j, 0.1767767+0.j, 0.1767767+0.j,\n",
       "       0.1767767+0.j, 0.1767767+0.j, 0.1767767+0.j, 0.1767767+0.j,\n",
       "       0.1767767+0.j, 0.1767767+0.j, 0.1767767+0.j, 0.1767767+0.j,\n",
       "       0.1767767+0.j, 0.1767767+0.j, 0.1767767+0.j, 0.1767767+0.j,\n",
       "       0.1767767+0.j, 0.1767767+0.j, 0.1767767+0.j, 0.1767767+0.j,\n",
       "       0.1767767+0.j, 0.1767767+0.j, 0.1767767+0.j, 0.1767767+0.j,\n",
       "       0.1767767+0.j, 0.1767767+0.j, 0.1767767+0.j, 0.1767767+0.j])"
      ]
     },
     "execution_count": 67,
     "metadata": {},
     "output_type": "execute_result"
    }
   ],
   "source": [
    "rfft(np.eye(32), norm='ortho', axis=0)[0,:]"
   ]
  },
  {
   "cell_type": "markdown",
   "metadata": {},
   "source": [
    "The relation between the magnitude of the modes and magnitude of the s_modes is "
   ]
  },
  {
   "cell_type": "code",
   "execution_count": 58,
   "metadata": {},
   "outputs": [
    {
     "data": {
      "text/plain": [
       "0.35499618926081977"
      ]
     },
     "execution_count": 58,
     "metadata": {},
     "output_type": "execute_result"
    }
   ],
   "source": [
    "reqva_test.convert(to='s_modes').state[-1,0]"
   ]
  },
  {
   "cell_type": "code",
   "execution_count": 57,
   "metadata": {},
   "outputs": [
    {
     "data": {
      "text/plain": [
       "0.17677669529663692"
      ]
     },
     "execution_count": 57,
     "metadata": {},
     "output_type": "execute_result"
    }
   ],
   "source": [
    "reqva_test.convert(to='s_modes').state[-1,0]/rpo_test.state[0,0]"
   ]
  },
  {
   "cell_type": "code",
   "execution_count": 56,
   "metadata": {},
   "outputs": [
    {
     "data": {
      "text/plain": [
       "5.656854249492381"
      ]
     },
     "execution_count": 56,
     "metadata": {},
     "output_type": "execute_result"
    }
   ],
   "source": [
    "np.sqrt(32)"
   ]
  },
  {
   "cell_type": "code",
   "execution_count": 59,
   "metadata": {},
   "outputs": [
    {
     "data": {
      "text/plain": [
       "2.0081617017736693"
      ]
     },
     "execution_count": 59,
     "metadata": {},
     "output_type": "execute_result"
    }
   ],
   "source": [
    "rpo_test.state[0,0]"
   ]
  },
  {
   "cell_type": "code",
   "execution_count": null,
   "metadata": {},
   "outputs": [],
   "source": [
    "rpo_test.state = "
   ]
  },
  {
   "cell_type": "code",
   "execution_count": 24,
   "metadata": {},
   "outputs": [
    {
     "data": {
      "text/plain": [
       "array([ 2.00816119e+00,  2.12374323e-07,  1.97795310e-08, -7.61809146e-09,\n",
       "       -1.78098447e-09,  3.09109288e-10, -5.04663506e-10, -3.73551202e-11,\n",
       "        3.33954741e-11,  4.11183681e-13, -6.20790847e-13, -7.69899452e-14,\n",
       "        2.13722472e-14,  6.36851860e-15, -3.83799444e-15, -6.38692886e-17,\n",
       "        1.82998871e-07, -2.24623804e-10,  7.59125075e-10,  1.07905079e-09,\n",
       "       -2.28407107e-10, -2.42941782e-10,  1.04605826e-10,  5.53174975e-12,\n",
       "       -4.45126172e-12, -2.02635542e-13,  1.44882733e-13,  3.55259405e-14,\n",
       "       -1.49576949e-14,  8.70273644e-17,  1.56684170e-16])"
      ]
     },
     "execution_count": 24,
     "metadata": {},
     "output_type": "execute_result"
    }
   ],
   "source": [
    "reqva_test.convert(to='modes').state[:,0]"
   ]
  },
  {
   "cell_type": "code",
   "execution_count": 20,
   "metadata": {},
   "outputs": [
    {
     "data": {
      "text/plain": [
       "<matplotlib.colorbar.Colorbar at 0x23ad0bf0e88>"
      ]
     },
     "execution_count": 20,
     "metadata": {},
     "output_type": "execute_result"
    },
    {
     "data": {
      "image/png": "[encoded data removed]",
      "text/plain": [
       "<Figure size 288x297.6 with 2 Axes>"
      ]
     },
     "metadata": {
      "needs_background": "light"
     },
     "output_type": "display_data"
    }
   ],
   "source": [
    "plt.matshow(np.log10(np.abs(reqva_test.convert(to='modes').state)+1))\n",
    "plt.colorbar()"
   ]
  },
  {
   "cell_type": "code",
   "execution_count": 12,
   "metadata": {},
   "outputs": [
    {
     "name": "stdout",
     "output_type": "stream",
     "text": [
      "Incompatible type provided for field or modes: 2-D NumPy arrays only\n"
     ]
    },
    {
     "data": {
      "text/plain": [
       "AntisymmetricOrbitKS()"
      ]
     },
     "execution_count": 12,
     "metadata": {},
     "output_type": "execute_result"
    }
   ],
   "source": [
    "AntisymmetricOrbitKS(state=None)"
   ]
  },
  {
   "cell_type": "code",
   "execution_count": 4,
   "metadata": {},
   "outputs": [
    {
     "name": "stdout",
     "output_type": "stream",
     "text": [
      "Incompatible type provided for field or modes: 2-D NumPy arrays only\n"
     ]
    },
    {
     "data": {
      "text/plain": [
       "ShiftReflectionOrbitKS()"
      ]
     },
     "execution_count": 4,
     "metadata": {},
     "output_type": "execute_result"
    }
   ],
   "source": [
    "ShiftReflectionOrbitKS()"
   ]
  },
  {
   "cell_type": "code",
   "execution_count": null,
   "metadata": {},
   "outputs": [],
   "source": [
    "# atorus = \n",
    "# torus = \n",
    "# a = read_h5(\"C:\\\\Users\\\\Matt\\\\Desktop\\\\orbithunter_test_data\\\\anti_L17p5_T17.h5\")\n",
    "# defect0 = read_h5(\"C:\\\\Users\\\\Matt\\\\Desktop\\\\orbithunter_test_data\\\\rpo_L12p87_T26.h5\")\n",
    "o2 = read_h5(\"C:\\\\Users\\\\Matt\\\\Desktop\\\\orbithunter_test_data\\\\full_L26.7_T54.h5\")\n",
    "# defect = read_h5(\"C:\\\\Users\\\\Matt\\\\Desktop\\\\orbithunter_test_data\\\\rpo_L13p02_T15.h5\")\n",
    "# sr = read_h5(\"C:\\\\Users\\\\Matt\\\\Desktop\\\\orbithunter_test_data\\\\ppo_L34p09_T23p18.h5\")\n",
    "# e = read_h5(\"C:\\\\Users\\\\Matt\\\\Desktop\\\\orbithunter_test_data\\\\eqva_L3p195.h5\")\n",
    "srtest = read_h5(\"C:\\\\Users\\\\Matt\\\\Desktop\\\\orbithunter_test_data\\\\rpo_L22p01_T85p99.h5\")\n",
    "\n"
   ]
  },
  {
   "cell_type": "code",
   "execution_count": null,
   "metadata": {},
   "outputs": [],
   "source": [
    "srtest.plot(fundamental_domain=False)\n",
    "\n",
    "srtest.S\n",
    "\n",
    "srtest.reflection().plot(fundamental_domain=False)\n",
    "\n",
    "srtest_refl = srtest.reflection()\n",
    "\n",
    "sr_srrefl_state = np.concatenate((srtest_refl.state, srtest.state))\n",
    "\n",
    "test_orbit = ShiftReflectionOrbitKS(state=sr_srrefl_state,statetype='field',T=2*srtest.T,L=srtest.L)\n",
    "\n",
    "test_orbit.plot(fundamental_domain=False)"
   ]
  },
  {
   "cell_type": "code",
   "execution_count": null,
   "metadata": {},
   "outputs": [],
   "source": []
  },
  {
   "cell_type": "code",
   "execution_count": null,
   "metadata": {},
   "outputs": [],
   "source": [
    "test_orbit.time_transform_matrix().shape"
   ]
  },
  {
   "cell_type": "code",
   "execution_count": null,
   "metadata": {},
   "outputs": [],
   "source": [
    "np.dot(test_orbit.time_transform_matrix(), test_orbit.time_inv_transform_matrix()).shape#.sum(axis=1).sum()"
   ]
  },
  {
   "cell_type": "code",
   "execution_count": null,
   "metadata": {},
   "outputs": [],
   "source": [
    "test_orbit.time_transform_matrix()"
   ]
  },
  {
   "cell_type": "code",
   "execution_count": null,
   "metadata": {
    "scrolled": true
   },
   "outputs": [],
   "source": [
    "test_orbit_result = converge(test_orbit, method='lstsq', verbose=True)"
   ]
  },
  {
   "cell_type": "code",
   "execution_count": null,
   "metadata": {},
   "outputs": [],
   "source": [
    "o2 = read_h5(\"C:\\\\Users\\\\Matt\\\\Desktop\\\\orbithunter_test_data\\\\full_L26.7_T54.h5\")\n",
    "a2 = AntisymmetricOrbit(state=np.roll(o2.state, 6 ,axis=1), statetype=o2.statetype, T=o2.T, L=o2.L)\n",
    "a2result = converge(a2, verbose=True)\n",
    "a3 = a2result.orbit.convert(to='field')\n",
    "o3 = Orbit(state=np.roll(a3.state, 6 ,axis=1), statetype=a3.statetype, T=a3.T, L=a3.L)\n",
    "o3result = converge(o3, fixedparams=(False, True, False), verbose=True)\n",
    "o4 = o3result.orbit.convert(to='field')\n",
    "o4 = Orbit(state=np.roll(o4.state, 6 ,axis=1), statetype=o4.statetype, T=o4.T, L=o4.L)\n",
    "o4result = converge(o4, fixedparams=(False, True, False), verbose=True)"
   ]
  },
  {
   "cell_type": "code",
   "execution_count": null,
   "metadata": {},
   "outputs": [],
   "source": [
    "a2 = AntisymmetricOrbit(state=np.roll(o2.state, 6 ,axis=1), statetype=o2.statetype, T=o2.T, L=o2.L)"
   ]
  },
  {
   "cell_type": "code",
   "execution_count": null,
   "metadata": {},
   "outputs": [],
   "source": [
    "o3result.orbit.L"
   ]
  },
  {
   "cell_type": "code",
   "execution_count": null,
   "metadata": {},
   "outputs": [],
   "source": [
    "a3.L"
   ]
  },
  {
   "cell_type": "code",
   "execution_count": null,
   "metadata": {},
   "outputs": [],
   "source": [
    "o3result.orbit.L"
   ]
  },
  {
   "cell_type": "code",
   "execution_count": null,
   "metadata": {},
   "outputs": [],
   "source": [
    "a3.L-0.01"
   ]
  },
  {
   "cell_type": "code",
   "execution_count": null,
   "metadata": {},
   "outputs": [],
   "source": [
    "o2.plot(fundamental_domain=False)"
   ]
  },
  {
   "cell_type": "code",
   "execution_count": null,
   "metadata": {},
   "outputs": [],
   "source": [
    "defect.S"
   ]
  },
  {
   "cell_type": "code",
   "execution_count": null,
   "metadata": {},
   "outputs": [],
   "source": [
    "defect.to_fundamental_domain().plot(fundamental_domain=False)"
   ]
  },
  {
   "cell_type": "code",
   "execution_count": null,
   "metadata": {},
   "outputs": [],
   "source": [
    "defect.to_fundamental_domain().calculate_shift()"
   ]
  },
  {
   "cell_type": "code",
   "execution_count": null,
   "metadata": {},
   "outputs": [],
   "source": [
    "defect.plot()"
   ]
  },
  {
   "cell_type": "code",
   "execution_count": null,
   "metadata": {},
   "outputs": [],
   "source": [
    "defect2 = RelativeOrbit(state=defect.state, T=defect.T, L=defect.L, S=-1.0*defect.to_fundamental_domain().calculate_shift())\n",
    "defect2 = defect2.to_fundamental_domain()"
   ]
  },
  {
   "cell_type": "code",
   "execution_count": null,
   "metadata": {},
   "outputs": [],
   "source": [
    "defect2.S = defect.S+defect2.S"
   ]
  },
  {
   "cell_type": "code",
   "execution_count": null,
   "metadata": {},
   "outputs": [],
   "source": [
    "defect2.S "
   ]
  },
  {
   "cell_type": "code",
   "execution_count": null,
   "metadata": {},
   "outputs": [],
   "source": [
    "defect2.plot(padding=False, fundamental_domain=False)"
   ]
  },
  {
   "cell_type": "code",
   "execution_count": null,
   "metadata": {},
   "outputs": [],
   "source": [
    "result = converge(defect2, verbose=True)"
   ]
  },
  {
   "cell_type": "code",
   "execution_count": null,
   "metadata": {},
   "outputs": [],
   "source": [
    "result.orbit.S"
   ]
  },
  {
   "cell_type": "code",
   "execution_count": null,
   "metadata": {},
   "outputs": [],
   "source": [
    "result.orbit.plot(fundamental_domain=False)"
   ]
  },
  {
   "cell_type": "code",
   "execution_count": null,
   "metadata": {},
   "outputs": [],
   "source": [
    "fig = plt.figure(figsize=(20,20))\n",
    "plt.imshow(np.tile(result.orbit.state, (32,32)),cmap='jet',aspect='auto')"
   ]
  },
  {
   "cell_type": "code",
   "execution_count": null,
   "metadata": {},
   "outputs": [],
   "source": [
    "defect = read_h5(\"C:\\\\Users\\\\Matt\\\\Desktop\\\\orbithunter_test_data\\\\rpo_L13p02_T15.h5\")"
   ]
  },
  {
   "cell_type": "code",
   "execution_count": null,
   "metadata": {},
   "outputs": [],
   "source": [
    "defect0 = read_h5(\"C:\\\\Users\\\\Matt\\\\Desktop\\\\orbithunter_test_data\\\\rpo_L12p87_T26.h5\")\n",
    "defect0.S *=-1"
   ]
  },
  {
   "cell_type": "code",
   "execution_count": null,
   "metadata": {},
   "outputs": [],
   "source": [
    "defect0.residual()"
   ]
  },
  {
   "cell_type": "code",
   "execution_count": null,
   "metadata": {},
   "outputs": [],
   "source": [
    "defect.S"
   ]
  },
  {
   "cell_type": "code",
   "execution_count": null,
   "metadata": {},
   "outputs": [],
   "source": [
    "defect.plot(fundamental_domain=False)"
   ]
  },
  {
   "cell_type": "code",
   "execution_count": null,
   "metadata": {
    "scrolled": false
   },
   "outputs": [],
   "source": [
    "exit_code = 1\n",
    "result = converge(defect2, fixedparams=(False, False, False), verbose=True)\n",
    "defect_down = result.orbit\n",
    "\n",
    "while exit_code == 1:\n",
    "    # print(wiggle_freeboundary.residual())\n",
    "    defect_down.L -= 0.01\n",
    "    # print(wiggle_freeboundary.residual())\n",
    "    result = converge(defect_down, fixedparams=(False, True, False), verbose=True)\n",
    "    exit_code = result.exit_code\n",
    "    if exit_code == 1:\n",
    "        defect_down = result.orbit\n",
    "        print(result.orbit.state_vector()[-3:])\n",
    "        defect_down.plot()\n",
    "defect_down.plot()"
   ]
  },
  {
   "cell_type": "code",
   "execution_count": null,
   "metadata": {},
   "outputs": [],
   "source": [
    "exit_code = 1\n",
    "result = converge(defect, fixedparams=(False, False, True), verbose=True)\n",
    "defect_down = result.orbit\n",
    "\n",
    "while exit_code == 1:\n",
    "    # print(wiggle_freeboundary.residual())\n",
    "    defect_down.S += 2\n",
    "    # print(wiggle_freeboundary.residual())\n",
    "    result = converge(defect_down, method='lstsq', fixedparams=(False,False,False), verbose=True)\n",
    "    exit_code = result.exit_code\n",
    "    if exit_code == 1:\n",
    "        defect_down = result.orbit\n",
    "        print(result.orbit.state_vector()[-3:])\n",
    "        defect_down.plot(fundamental_domain=False)\n",
    "defect_down.plot(fundamental_domain=False)"
   ]
  },
  {
   "cell_type": "code",
   "execution_count": null,
   "metadata": {},
   "outputs": [],
   "source": [
    "fig = plt.figure(figsize=(20,20))\n",
    "plt.imshow(np.tile(defect.state, (32,32)),cmap='jet',aspect='auto')"
   ]
  },
  {
   "cell_type": "code",
   "execution_count": null,
   "metadata": {},
   "outputs": [],
   "source": [
    "exit_code = 1\n",
    "result = converge(defect_down, fixedparams=(False, False, False), verbose=True)\n",
    "defect_down = result.torus\n",
    "\n",
    "while exit_code == 1:\n",
    "    # print(wiggle_freeboundary.residual())\n",
    "    defect_down.L -= 0.01\n",
    "    # print(wiggle_freeboundary.residual())\n",
    "    result = converge(defect_down, method='lstsq', fixedparams=(False,True,False), verbose=True)\n",
    "    exit_code = result.exit_code\n",
    "    if exit_code == 1:\n",
    "        defect_down = result.torus\n",
    "        print(result.torus.L)\n",
    "        defect_down.plot()\n",
    "defect_down.plot()"
   ]
  },
  {
   "cell_type": "code",
   "execution_count": null,
   "metadata": {},
   "outputs": [],
   "source": [
    "# defect = rediscretize(defect, newN=32, newM=32)#.to_fundamental_domain()\n",
    "# result = converge(defect, fixedparams=(False, False, False), verbose=True)\n",
    "# defect = result.torus"
   ]
  },
  {
   "cell_type": "code",
   "execution_count": null,
   "metadata": {},
   "outputs": [],
   "source": [
    "defect.S"
   ]
  },
  {
   "cell_type": "code",
   "execution_count": null,
   "metadata": {},
   "outputs": [],
   "source": [
    "defect.plot()"
   ]
  },
  {
   "cell_type": "code",
   "execution_count": null,
   "metadata": {},
   "outputs": [],
   "source": [
    "\n",
    "\n",
    "defect_down = RelativeTorus(state=defect.convert(to='field').state, statetype='field', T=defect.T, L=defect.L, S=defect.S)\n",
    "exit_code = 1\n",
    "result = converge(defect_down, fixedparams=(False, False, False), verbose=True)\n",
    "defect_down = result.torus\n",
    "\n",
    "while exit_code == 1:\n",
    "    # print(wiggle_freeboundary.residual())\n",
    "    defect_down.L -= 0.01\n",
    "    # print(wiggle_freeboundary.residual())\n",
    "    result = converge(defect_down,  fixedparams=(False,True,False), verbose=True)\n",
    "    exit_code = result.exit_code\n",
    "    if exit_code == 1:\n",
    "        defect_down = result.torus\n",
    "        defect_down.plot(save=True)\n",
    "defect_down.plot(save=True)"
   ]
  },
  {
   "cell_type": "code",
   "execution_count": null,
   "metadata": {
    "scrolled": false
   },
   "outputs": [],
   "source": [
    "defect_up = RelativeTorus(state=defect.convert(to='field').state, statetype='field', T=defect.T, L=defect.L, S=defect.S)\n",
    "exit_code = 1\n",
    "result = converge(defect_up, fixedparams=(False, False, False), verbose=True)\n",
    "defect_up = result.torus\n",
    "\n",
    "while exit_code == 1:\n",
    "    defect_up.L += 2\n",
    "    print(defect_up.L)\n",
    "    result = converge(defect_up,  fixedparams=(False,False,False), verbose=True)\n",
    "    exit_code = result.exit_code\n",
    "    if exit_code == 1:\n",
    "        defect_up = result.torus\n",
    "        print(result.torus.L)\n",
    "        defect_up.plot()\n",
    "defect_up.plot()"
   ]
  },
  {
   "cell_type": "code",
   "execution_count": null,
   "metadata": {},
   "outputs": [],
   "source": [
    "result = converge(rediscretize(a, newN=32, newM=32), fixedparams=(False, False, False), verbose=True)\n",
    "wiggle = result.torus"
   ]
  },
  {
   "cell_type": "code",
   "execution_count": null,
   "metadata": {},
   "outputs": [],
   "source": [
    "wiggle.plot()"
   ]
  },
  {
   "cell_type": "code",
   "execution_count": null,
   "metadata": {},
   "outputs": [],
   "source": [
    "wiggle_up = Torus(state=wiggle.convert(to='field').state, statetype='field', T=wiggle.T, L=wiggle.L)\n",
    "exit_code = 1"
   ]
  },
  {
   "cell_type": "code",
   "execution_count": null,
   "metadata": {},
   "outputs": [],
   "source": [
    "wiggle_up.N"
   ]
  },
  {
   "cell_type": "code",
   "execution_count": null,
   "metadata": {
    "scrolled": false
   },
   "outputs": [],
   "source": [
    "niter=0\n",
    "while exit_code == 1:\n",
    "    wiggle_up.L += 0.01\n",
    "    result = converge(wiggle_up, method='lstsq', fixedparams=(False, True, False), verbose=False)\n",
    "    exit_code = result.exit_code\n",
    "    \n",
    "    if exit_code == 1:\n",
    "        niter+=1\n",
    "        wiggle_up = result.torus\n",
    "        print(result.torus.L)\n",
    "        if niter % 5 == 0:\n",
    "            wiggle_up.plot()\n",
    "        # wiggle_freeboundary.plot()\n",
    "wiggle_up.plot()"
   ]
  },
  {
   "cell_type": "code",
   "execution_count": null,
   "metadata": {},
   "outputs": [],
   "source": [
    "wiggle_up = Torus(state=wiggle.convert(to='field').state, statetype='field', T=wiggle.T, L=wiggle.L)\n",
    "exit_code = 1"
   ]
  },
  {
   "cell_type": "code",
   "execution_count": null,
   "metadata": {
    "scrolled": false
   },
   "outputs": [],
   "source": [
    "while exit_code == 1:\n",
    "    # print(wiggle_freeboundary.residual())\n",
    "    wiggle_up.L += 0.5\n",
    "    # print(wiggle_freeboundary.residual())\n",
    "    result = converge(wiggle_up, verbose=True)\n",
    "    exit_code = result.exit_code\n",
    "    if exit_code == 1:\n",
    "        wiggle_up = result.torus\n",
    "        print(result.torus.L)\n",
    "        wiggle_up.plot()\n",
    "        \n",
    "print(result.torus.L)\n",
    "wiggle_up.plot()"
   ]
  },
  {
   "cell_type": "code",
   "execution_count": null,
   "metadata": {},
   "outputs": [],
   "source": [
    "result = converge(wiggle, fixedparams=(False, True, False), verbose=True)\n",
    "wiggle = result.torus"
   ]
  },
  {
   "cell_type": "code",
   "execution_count": null,
   "metadata": {},
   "outputs": [],
   "source": [
    "wiggle_freeboundary = RelativeTorus(state=wiggle.state, statetype=wiggle.statetype, T=wiggle.T, L=wiggle.L, S=0)\n",
    "exit_code = 1\n",
    "\n",
    "wiggle_freeboundary.S = float(wiggle_freeboundary.calculate_shift())\n",
    "\n",
    "\n",
    "\n",
    "while exit_code == 1:\n",
    "    wiggle_freeboundary.L -= 0.01\n",
    "    result = converge(wiggle_freeboundary, fixedparams=(False, True, False), verbose=True)\n",
    "    exit_code = result.exit_code\n",
    "    print(exit_code, result.torus.L)\n",
    "    if exit_code == 1:\n",
    "        wiggle_freeboundary = result.torus"
   ]
  },
  {
   "cell_type": "code",
   "execution_count": null,
   "metadata": {},
   "outputs": [],
   "source": [
    "# defect_down = rediscretize(r, newN=32, newM=32)#.to_fundamental_domain()\n",
    "defect_down = defect\n",
    "# defect = RelativeTorus(state=wiggle.state, statetype=wiggle.statetype, T=wiggle.T, L=wiggle.L, S=0)\n",
    "exit_code = 1\n",
    "# wiggle_freeboundary.S = float(wiggle_freeboundary.calculate_shift())\n",
    "\n",
    "while exit_code == 1:\n",
    "    defect_down.L -= 0.1\n",
    "    result = converge(defect_down, method='lstsq', fixedparams=(False, True, False),  verbose=True)\n",
    "    exit_code = result.exit_code\n",
    "    if exit_code == 1:\n",
    "        defect_down = result.torus"
   ]
  },
  {
   "cell_type": "code",
   "execution_count": null,
   "metadata": {},
   "outputs": [],
   "source": [
    "defect_up = rediscretize(r, newN=32, newM=32)#.to_fundamental_domain()\n",
    "# wiggle_freeboundary = RelativeTorus(state=wiggle.state, statetype=wiggle.statetype, T=wiggle.T, L=wiggle.L, S=0)\n",
    "exit_code = 1\n",
    "while exit_code == 1:\n",
    "    defect_down.L += 0.1\n",
    "    result = converge(defect_down, fixedparams=(False, False, False),  verbose=True)\n",
    "    exit_code = result.exit_code\n",
    "    if exit_code == 1:\n",
    "        defect_down = result.torus"
   ]
  },
  {
   "cell_type": "code",
   "execution_count": null,
   "metadata": {},
   "outputs": [],
   "source": [
    "result"
   ]
  },
  {
   "cell_type": "code",
   "execution_count": null,
   "metadata": {},
   "outputs": [],
   "source": [
    "result = converge(wiggle_freeboundary, fixedparams=(False, True, False), method='lstsq', verbose=True)\n"
   ]
  },
  {
   "cell_type": "code",
   "execution_count": null,
   "metadata": {},
   "outputs": [],
   "source": [
    "wiggle_freeboundary.plot(fundamental_domain=False)"
   ]
  },
  {
   "cell_type": "code",
   "execution_count": null,
   "metadata": {},
   "outputs": [],
   "source": [
    "def draw_nodal_lines(orbit, epsilon=0.2):\n",
    "    orbit_dx_field = orbit.dx().convert(to='field').state\n",
    "    nodal = np.where(np.abs(orbit_dx_field)< epsilon) \n",
    "    not_nodal = np.where(np.abs(orbit_dx_field) >= epsilon)\n",
    "    orbit_dx_field[nodal]=1\n",
    "    orbit_dx_field[not_nodal]=None\n",
    "    \n",
    "    return orbit_dx_field"
   ]
  },
  {
   "cell_type": "code",
   "execution_count": null,
   "metadata": {},
   "outputs": [],
   "source": [
    "# anew = rediscretize(a, newN=256, newM=256)\n",
    "# rnew = rediscretize(r, newN=256, newM=256)\n",
    "# enew = rediscretize(e, newN=256, newM=256)\n",
    "# anew.plot(fundamental_domain=False, padding=False)\n",
    "# rnew.comoving_transformation().plot(fundamental_domain=False, padding=False)"
   ]
  },
  {
   "cell_type": "code",
   "execution_count": null,
   "metadata": {},
   "outputs": [],
   "source": [
    "rnode = draw_nodal_lines(rnew.to_fundamental_domain(), epsilon=0.1)\n",
    "rnode_halfcell = np.roll(rnode, rnode.shape[1]//2, axis=1)\n",
    "\n",
    "fig = plt.figure()\n",
    "plt.imshow(rnode, origin='lower')\n",
    "_ = plt.show()\n",
    "\n",
    "fig = plt.figure()\n",
    "plt.imshow(rnode_halfcell, origin='lower')\n",
    "_ = plt.show()"
   ]
  },
  {
   "cell_type": "code",
   "execution_count": null,
   "metadata": {},
   "outputs": [],
   "source": [
    "wiggle_freeboundary"
   ]
  },
  {
   "cell_type": "code",
   "execution_count": null,
   "metadata": {},
   "outputs": [],
   "source": [
    "anode = draw_nodal_lines(anew, epsilon=0.1)\n",
    "anode_halfcell = np.roll(anode, anode.shape[1]//2, axis=1)\n",
    "\n",
    "fig = plt.figure()\n",
    "plt.imshow(anode, origin='lower')\n",
    "_ = plt.show()\n",
    "\n",
    "fig = plt.figure()\n",
    "plt.imshow(anode_halfcell, origin='lower')\n",
    "_ = plt.show()"
   ]
  },
  {
   "cell_type": "code",
   "execution_count": null,
   "metadata": {},
   "outputs": [],
   "source": [
    "fig = plt.figure()\n",
    "plt.imshow(draw_nodal_lines(rediscretize(a, newN=256, newM=256)))\n",
    "_ = plt.show()"
   ]
  },
  {
   "cell_type": "code",
   "execution_count": null,
   "metadata": {},
   "outputs": [],
   "source": [
    "Torus(state=draw_nodal_lines(a), statetype='field',"
   ]
  },
  {
   "cell_type": "code",
   "execution_count": null,
   "metadata": {},
   "outputs": [],
   "source": [
    "e.convert(to='field').state.shape"
   ]
  },
  {
   "cell_type": "code",
   "execution_count": null,
   "metadata": {},
   "outputs": [],
   "source": [
    "e.convert(to='modes').state.shape"
   ]
  },
  {
   "cell_type": "code",
   "execution_count": null,
   "metadata": {},
   "outputs": [],
   "source": [
    "converge(e)"
   ]
  },
  {
   "cell_type": "code",
   "execution_count": null,
   "metadata": {},
   "outputs": [],
   "source": [
    "e.N"
   ]
  },
  {
   "cell_type": "code",
   "execution_count": null,
   "metadata": {},
   "outputs": [],
   "source": [
    "padding = np.zeros([e.state.shape[0], 32])\n",
    "eqv_modes = e.convert(to='modes').state\n",
    "padded_modes = np.concatenate((eqv_modes, padding), axis=1)"
   ]
  },
  {
   "cell_type": "code",
   "execution_count": null,
   "metadata": {},
   "outputs": [],
   "source": [
    "padded_modes.shape"
   ]
  },
  {
   "cell_type": "code",
   "execution_count": null,
   "metadata": {
    "scrolled": true
   },
   "outputs": [],
   "source": [
    "e.convert(to='modes').state"
   ]
  },
  {
   "cell_type": "code",
   "execution_count": null,
   "metadata": {},
   "outputs": [],
   "source": [
    "e.convert(to='field').state.shape"
   ]
  },
  {
   "cell_type": "code",
   "execution_count": null,
   "metadata": {},
   "outputs": [],
   "source": [
    "e3 = rediscretize(e.convert(to='field'), newN=32, newM=32)"
   ]
  },
  {
   "cell_type": "code",
   "execution_count": null,
   "metadata": {},
   "outputs": [],
   "source": [
    "e3.state.shape"
   ]
  },
  {
   "cell_type": "code",
   "execution_count": null,
   "metadata": {},
   "outputs": [],
   "source": [
    "erd = rediscretize(e.convert(to='field'), newN=a.N+2, newM=a.M+2)"
   ]
  },
  {
   "cell_type": "code",
   "execution_count": null,
   "metadata": {},
   "outputs": [],
   "source": [
    "ard = rediscretize(a.convert(to='field'), newN=a.N+2, newM=a.M+2)"
   ]
  },
  {
   "cell_type": "code",
   "execution_count": null,
   "metadata": {},
   "outputs": [],
   "source": [
    "ord_ = rediscretize(o.convert(to='field'), newN=o.N+2, newM=o.M+2)\n",
    "ord_ = rediscretize(o.convert(to='field'), newN=o.N-2, newM=o.M-2)"
   ]
  },
  {
   "cell_type": "code",
   "execution_count": null,
   "metadata": {},
   "outputs": [],
   "source": [
    "ord_.plot()"
   ]
  },
  {
   "cell_type": "code",
   "execution_count": null,
   "metadata": {},
   "outputs": [],
   "source": [
    "o2rd = rediscretize(o2.convert(to='field'), newN=o2.N+2, newM=o2.M+2)\n",
    "o2rd_ = rediscretize(o2.convert(to='field'), newN=o2.N-2, newM=o2.M-2)"
   ]
  },
  {
   "cell_type": "code",
   "execution_count": null,
   "metadata": {},
   "outputs": [],
   "source": [
    "rrd = rediscretize(r.convert(to='field'), newN=r.N+2, newM=r.M+2)\n",
    "rrd = rediscretize(r.convert(to='field'), newN=r.N-2, newM=r.M-2)"
   ]
  },
  {
   "cell_type": "code",
   "execution_count": null,
   "metadata": {},
   "outputs": [],
   "source": [
    "srrd = rediscretize(sr.convert(to='field'), newN=sr.N+2, newM=sr.M+2)\n",
    "srrd = rediscretize(sr.convert(to='field'), newN=sr.N-2, newM=sr.M-2)"
   ]
  },
  {
   "cell_type": "code",
   "execution_count": null,
   "metadata": {},
   "outputs": [],
   "source": [
    "erd = rediscretize(e.convert(to='field'), newN=e.N+2, newM=e.M+2)\n",
    "erd = rediscretize(e.convert(to='field'), newN=e.N-2, newM=e.M-2)"
   ]
  },
  {
   "cell_type": "code",
   "execution_count": null,
   "metadata": {},
   "outputs": [],
   "source": [
    "a_result = converge(ard, verbose=True)\n",
    "a_result"
   ]
  },
  {
   "cell_type": "code",
   "execution_count": null,
   "metadata": {},
   "outputs": [],
   "source": [
    "a_result.torus.plot()"
   ]
  },
  {
   "cell_type": "code",
   "execution_count": null,
   "metadata": {},
   "outputs": [],
   "source": [
    "o_result = converge(ord_, verbose=True)\n",
    "o_result"
   ]
  },
  {
   "cell_type": "code",
   "execution_count": null,
   "metadata": {},
   "outputs": [],
   "source": [
    "o_result.torus.plot()"
   ]
  },
  {
   "cell_type": "code",
   "execution_count": null,
   "metadata": {},
   "outputs": [],
   "source": [
    "ord_.mode_shape"
   ]
  },
  {
   "cell_type": "code",
   "execution_count": null,
   "metadata": {},
   "outputs": [],
   "source": [
    "ord_.plot()"
   ]
  },
  {
   "cell_type": "code",
   "execution_count": null,
   "metadata": {},
   "outputs": [],
   "source": [
    "o2_result = converge(o2rd, verbose=True)\n",
    "o2_result"
   ]
  },
  {
   "cell_type": "code",
   "execution_count": null,
   "metadata": {},
   "outputs": [],
   "source": [
    "o2_result.torus.plot()"
   ]
  },
  {
   "cell_type": "code",
   "execution_count": null,
   "metadata": {},
   "outputs": [],
   "source": [
    "o2_result = converge(o2, atol=10**-14, verbose=True)\n",
    "o2_result"
   ]
  },
  {
   "cell_type": "code",
   "execution_count": null,
   "metadata": {},
   "outputs": [],
   "source": [
    "o2_result.torus.plot()"
   ]
  },
  {
   "cell_type": "code",
   "execution_count": null,
   "metadata": {},
   "outputs": [],
   "source": [
    "r_result = converge(rrd, verbose=True)\n",
    "r_result"
   ]
  },
  {
   "cell_type": "code",
   "execution_count": null,
   "metadata": {},
   "outputs": [],
   "source": [
    "r_result.torus.plot()"
   ]
  },
  {
   "cell_type": "code",
   "execution_count": null,
   "metadata": {},
   "outputs": [],
   "source": [
    "sr_result = converge(srrd, verbose=True)\n",
    "sr_result"
   ]
  },
  {
   "cell_type": "code",
   "execution_count": null,
   "metadata": {},
   "outputs": [],
   "source": [
    "sr_result.torus.plot()"
   ]
  },
  {
   "cell_type": "code",
   "execution_count": null,
   "metadata": {},
   "outputs": [],
   "source": [
    "e.elementwise_dx()"
   ]
  },
  {
   "cell_type": "code",
   "execution_count": null,
   "metadata": {},
   "outputs": [],
   "source": [
    "e.wave_vector().shape"
   ]
  },
  {
   "cell_type": "code",
   "execution_count": null,
   "metadata": {},
   "outputs": [],
   "source": [
    "e.m"
   ]
  },
  {
   "cell_type": "code",
   "execution_count": null,
   "metadata": {},
   "outputs": [],
   "source": []
  },
  {
   "cell_type": "code",
   "execution_count": null,
   "metadata": {},
   "outputs": [],
   "source": [
    "torus = read_h5(\"C:\\\\Users\\\\Matt\\\\Desktop\\\\full_L26.7_T54.h5\")\n",
    "torus.state = np.roll(torus.state,6,axis=1)\n",
    "torus.plot(fundamental_domain=False)"
   ]
  },
  {
   "cell_type": "code",
   "execution_count": null,
   "metadata": {},
   "outputs": [],
   "source": [
    "x0 = AntisymmetricTorus(state=torus.state, statetype=torus.statetype, L=torus.L, T=torus.T)"
   ]
  },
  {
   "cell_type": "code",
   "execution_count": null,
   "metadata": {},
   "outputs": [],
   "source": [
    "xfr = converge(x0, method='lstsq')\n",
    "xf = xfr.torus"
   ]
  },
  {
   "cell_type": "code",
   "execution_count": null,
   "metadata": {},
   "outputs": [],
   "source": [
    "xf.residual()"
   ]
  },
  {
   "cell_type": "code",
   "execution_count": null,
   "metadata": {},
   "outputs": [],
   "source": [
    "xf.plot(fundamental_domain=False)"
   ]
  },
  {
   "cell_type": "code",
   "execution_count": null,
   "metadata": {},
   "outputs": [],
   "source": [
    "# x0 = rediscretize(xf.convert(to='field'), newN=16, newM=32)\n",
    "x = ShiftReflectionTorus(state=np.roll(xf.convert(to='field').state,7,axis=1), statetype='field',T=xf.T, L=xf.L) "
   ]
  },
  {
   "cell_type": "code",
   "execution_count": null,
   "metadata": {},
   "outputs": [],
   "source": [
    "x.residual()"
   ]
  },
  {
   "cell_type": "code",
   "execution_count": null,
   "metadata": {},
   "outputs": [],
   "source": [
    "x.plot(fundamental_domain=False)"
   ]
  },
  {
   "cell_type": "code",
   "execution_count": null,
   "metadata": {
    "scrolled": false
   },
   "outputs": [],
   "source": [
    "xf_result = converge(x, atol=10**-14, max_iter=10000, verbose=True)"
   ]
  },
  {
   "cell_type": "code",
   "execution_count": null,
   "metadata": {},
   "outputs": [],
   "source": [
    "xf_result.torus.residual()"
   ]
  },
  {
   "cell_type": "code",
   "execution_count": null,
   "metadata": {},
   "outputs": [],
   "source": [
    "xf_result.torus.state"
   ]
  },
  {
   "cell_type": "code",
   "execution_count": null,
   "metadata": {},
   "outputs": [],
   "source": [
    "xf_result = converge(xfa, method='lstsq', atol=10**-14, verbose=True)"
   ]
  },
  {
   "cell_type": "code",
   "execution_count": null,
   "metadata": {},
   "outputs": [],
   "source": [
    "ppotorus.plot()"
   ]
  },
  {
   "cell_type": "code",
   "execution_count": null,
   "metadata": {},
   "outputs": [],
   "source": [
    "ppotorus.residual()"
   ]
  },
  {
   "cell_type": "code",
   "execution_count": null,
   "metadata": {},
   "outputs": [],
   "source": [
    "xf_result = converge(ppotorus, method='lstsq',atol=10**-14, verbose=True)"
   ]
  },
  {
   "cell_type": "code",
   "execution_count": null,
   "metadata": {},
   "outputs": [],
   "source": [
    "xf_result.torus.residual()"
   ]
  },
  {
   "cell_type": "code",
   "execution_count": null,
   "metadata": {},
   "outputs": [],
   "source": [
    "xf_result.torus.plot()"
   ]
  },
  {
   "cell_type": "code",
   "execution_count": null,
   "metadata": {},
   "outputs": [],
   "source": [
    "xf_result.torus.statetype"
   ]
  },
  {
   "cell_type": "code",
   "execution_count": null,
   "metadata": {},
   "outputs": [],
   "source": [
    "x0 = xf_result.torus.convert(to='field')\n",
    "x = Torus(state=x0.state,statetype='field',T=x0.T, L=x0.L) "
   ]
  },
  {
   "cell_type": "code",
   "execution_count": null,
   "metadata": {},
   "outputs": [],
   "source": [
    "x.plot()"
   ]
  },
  {
   "cell_type": "code",
   "execution_count": null,
   "metadata": {},
   "outputs": [],
   "source": [
    "x.residual()"
   ]
  },
  {
   "cell_type": "code",
   "execution_count": null,
   "metadata": {
    "scrolled": true
   },
   "outputs": [],
   "source": [
    "xf_result = converge(x, method='lstsq',atol=10**-14, verbose=True)"
   ]
  },
  {
   "cell_type": "code",
   "execution_count": null,
   "metadata": {},
   "outputs": [],
   "source": [
    "xf_result.torus.plot()"
   ]
  },
  {
   "cell_type": "code",
   "execution_count": null,
   "metadata": {},
   "outputs": [],
   "source": [
    "xf = converge(x,method='adj',atol=10**-14, verbose=True)"
   ]
  },
  {
   "cell_type": "code",
   "execution_count": null,
   "metadata": {},
   "outputs": [],
   "source": [
    "xff = converge(xf.torus, method='lstsq',atol=10**-14, verbose=True)"
   ]
  },
  {
   "cell_type": "code",
   "execution_count": null,
   "metadata": {},
   "outputs": [],
   "source": [
    "xf.torus.residual()"
   ]
  },
  {
   "cell_type": "code",
   "execution_count": null,
   "metadata": {},
   "outputs": [],
   "source": [
    "atorus = AntisymmetricTorus(state=torus.state, statetype='field', T=torus.T, L=torus.L)"
   ]
  },
  {
   "cell_type": "code",
   "execution_count": null,
   "metadata": {},
   "outputs": [],
   "source": [
    "ppotorus = ShiftReflectionTorus(state=torus.state, statetype='field', T=torus.T, L=torus.L)"
   ]
  },
  {
   "cell_type": "code",
   "execution_count": null,
   "metadata": {},
   "outputs": [],
   "source": [
    "a_old_vv = atorus.convert(to='modes').state"
   ]
  },
  {
   "cell_type": "code",
   "execution_count": null,
   "metadata": {},
   "outputs": [],
   "source": [
    "u = torus.convert(to='field').state"
   ]
  },
  {
   "cell_type": "code",
   "execution_count": null,
   "metadata": {},
   "outputs": [],
   "source": [
    "a_old_v = atorus.convert(to='s_modes').state\n",
    "ppo_old_v = ppotorus.convert(to='s_modes').state\n",
    "old_v = torus.convert(to='s_modes').state"
   ]
  },
  {
   "cell_type": "code",
   "execution_count": null,
   "metadata": {},
   "outputs": [],
   "source": [
    "a_old_vv = atorus.convert(to='modes').state\n",
    "ppo_old_vv = ppotorus.convert(to='modes').state\n",
    "old_vv = torus.convert(to='modes').state"
   ]
  },
  {
   "cell_type": "code",
   "execution_count": null,
   "metadata": {},
   "outputs": [],
   "source": [
    "space_modes = rfft(torus.convert(to='field').state, norm='ortho', axis=1)[:, 1:-1]\n",
    "spatial_modes = np.concatenate((space_modes.real, space_modes.imag), axis=1)"
   ]
  },
  {
   "cell_type": "code",
   "execution_count": null,
   "metadata": {},
   "outputs": [],
   "source": [
    "modes = rfft(spatial_modes, norm='ortho', axis=0)\n",
    "modes_real = modes.real[:-1, -atorus.m:]\n",
    "modes_imag = modes.imag[1:-1, -atorus.m:]\n",
    "anti_spacetime_modes = np.concatenate((modes_real, modes_imag),axis=0)"
   ]
  },
  {
   "cell_type": "code",
   "execution_count": null,
   "metadata": {},
   "outputs": [],
   "source": [
    "# PPO\n",
    "modes = rfft(spatial_modes, norm='ortho', axis=0)\n",
    "modes_real = modes.real[:-1, :-torus.m] + modes.real[:-1, -torus.m:]\n",
    "modes_imag = modes.imag[1:-1, :-torus.m] + modes.imag[1:-1, -torus.m:]\n",
    "ppo_spacetime_modes = np.concatenate((modes_real, modes_imag),axis=0)"
   ]
  },
  {
   "cell_type": "code",
   "execution_count": null,
   "metadata": {},
   "outputs": [],
   "source": [
    "# Torus, RelativeTorus\n",
    "modes = rfft(spatial_modes, norm='ortho', axis=0)\n",
    "modes_real = modes.real[:-1, :] \n",
    "modes_imag = modes.imag[1:-1, :]\n",
    "spacetime_modes = np.concatenate((modes_real, modes_imag),axis=0)"
   ]
  },
  {
   "cell_type": "code",
   "execution_count": null,
   "metadata": {},
   "outputs": [],
   "source": [
    "mat_tmp = irfft(np.eye(torus.N//2+1), norm='ortho', axis=0)\n",
    "time_irfft_mat = np.concatenate((mat_tmp[:,:-1], mat_tmp[:,1:-1]),axis=1)"
   ]
  },
  {
   "cell_type": "code",
   "execution_count": null,
   "metadata": {},
   "outputs": [],
   "source": [
    "np.linalg.norm(f.transpose()-space_mat)"
   ]
  },
  {
   "cell_type": "code",
   "execution_count": null,
   "metadata": {},
   "outputs": [],
   "source": [
    "self = torus\n",
    "fx = (1 / np.sqrt(self.M)) * old_rfft(np.eye(self.M), axis=0)[1:self.M - 1, :]\n",
    "fx_a = np.zeros([self.m, self.M], float)\n",
    "fx_b = np.zeros([self.m, self.M], float)\n",
    "\n",
    "indices = np.arange(0, self.m)\n",
    "fx_a[indices, :] = fx[2 * indices, :]\n",
    "fx_b[indices, :] = fx[2 * indices + 1, :]\n",
    "\n",
    "ff = np.concatenate((fx_a, fx_b), axis=0)"
   ]
  },
  {
   "cell_type": "code",
   "execution_count": null,
   "metadata": {},
   "outputs": [],
   "source": [
    "plt.imshow(f-space_mat)\n",
    "_ = plt.show()"
   ]
  },
  {
   "cell_type": "code",
   "execution_count": null,
   "metadata": {},
   "outputs": [],
   "source": [
    "space_real_mat = irfft(np.eye(torus.M//2 + 1), norm='ortho', axis=0)\n",
    "\n",
    "space_imag_mat = irfft(1j*np.eye(torus.M//2 + 1), norm='ortho', axis=0)\n",
    "\n",
    "space_mat = np.concatenate((space_real_mat[:, 1:-1], space_imag_mat[:, 1:-1]),axis=1)\n",
    "\n",
    "space_ifft_matrix = np.kron(space_mat, np.eye(torus.N))\n",
    "\n",
    "np.linalg.norm(space_ifft_matrix-torus.space_irfft_matrix())"
   ]
  },
  {
   "cell_type": "code",
   "execution_count": null,
   "metadata": {},
   "outputs": [],
   "source": [
    "space_mat.shape"
   ]
  },
  {
   "cell_type": "code",
   "execution_count": null,
   "metadata": {},
   "outputs": [],
   "source": [
    "np.eye(torus.M//2 + 1).shape"
   ]
  },
  {
   "cell_type": "code",
   "execution_count": null,
   "metadata": {},
   "outputs": [],
   "source": [
    "irfft(np.eye(torus.M//2 + 1), norm='ortho', axis=0)"
   ]
  },
  {
   "cell_type": "code",
   "execution_count": null,
   "metadata": {},
   "outputs": [],
   "source": [
    "fx = np.sqrt(self.M)*old_irfft(np.eye(self.M), axis=0)[:, 1:self.M-1]\n",
    "fx_a = np.zeros([self.M, self.m], float)\n",
    "fx_b = np.zeros([self.M, self.m], float)\n",
    "\n",
    "indices = np.arange(0, self.m)\n",
    "fx_a[:, indices] = fx[:, 2 * indices]\n",
    "fx_b[:, indices] = fx[:, 2 * indices + 1]\n",
    "\n",
    "fb = np.concatenate((fx_a, fx_b), axis=1)"
   ]
  },
  {
   "cell_type": "code",
   "execution_count": null,
   "metadata": {},
   "outputs": [],
   "source": [
    "imag_idft_matrix = irfft(1j*np.eye((torus.N//2)+1), norm='ortho', axis=0)\n",
    "real_idft_matrix = irfft(np.eye((torus.N//2)+1), norm='ortho', axis=0)\n",
    "time_idft_matrix = np.concatenate((real_idft_matrix[:, :-1], imag_idft_matrix[:, 1:-1]),axis=1)\n",
    "ab_time_idft_matrix = np.insert(time_idft_matrix, np.arange(time_idft_matrix.shape[0]), time_dft_matrix, axis=0)\n",
    "\n",
    "ab_transform_formatter = np.zeros((2*torus.N, torus.N-1),dtype=int)\n",
    "ab_transform_formatter[::2,1:-torus.n:2] = 1\n",
    "ab_transform_formatter[1::2,:-torus.n:2] = 1\n",
    "ab_transform_formatter[1::2,-torus.n+1::2] = 1\n",
    "ab_transform_formatter[::2,-torus.n::2] = 1\n",
    "\n",
    "full_time_ifft_matrix = np.kron(ab_time_idft_matrix*ab_transform_formatter, \n",
    "                                np.eye(torus.mode_shape[1]))"
   ]
  },
  {
   "cell_type": "code",
   "execution_count": null,
   "metadata": {},
   "outputs": [],
   "source": [
    "ab_transform_formatter = np.zeros((torus.N-1, 2*torus.N),dtype=int)\n",
    "#odd rows\n",
    "ab_transform_formatter[1:-torus.n:2,::2] = 1\n",
    "ab_transform_formatter[:-torus.n:2,1::2] = 1\n",
    "ab_transform_formatter[-torus.n+1::2,1::2] = 1\n",
    "ab_transform_formatter[-torus.n::2, ::2] = 1\n",
    "\n",
    "full_dft_mat = rfft(np.eye(torus.M), norm='ortho', axis=0)\n",
    "# time_real_mat = rfft(np.eye(torus.N//2+1), norm='ortho', axis=0)\n",
    "time_dft_mat = np.concatenate((full_dft_mat[:-1, :].real, full_dft_mat[1:-1, :].imag), axis=0)\n",
    "ab_time_dft_matrix = np.insert(time_dft_mat, np.arange(time_dft_mat.shape[1]), time_dft_mat, axis=1)\n",
    "full_time_fft_matrix = np.kron(ab_time_dft_matrix*ab_transform_formatter, np.eye(torus.m))"
   ]
  },
  {
   "cell_type": "code",
   "execution_count": null,
   "metadata": {},
   "outputs": [],
   "source": [
    "idft_mat = irfft(np.eye(torus.N//2 + 1), norm='ortho', axis=0)\n",
    "time_idft_mat = np.concatenate((idft_mat[:, :-1].real, \n",
    "                                idft_mat[:, 1:-1].imag), axis=1)"
   ]
  },
  {
   "cell_type": "code",
   "execution_count": null,
   "metadata": {},
   "outputs": [],
   "source": [
    "torus.dt_matrix().shape"
   ]
  },
  {
   "cell_type": "code",
   "execution_count": null,
   "metadata": {},
   "outputs": [],
   "source": [
    "torus.dx_matrix(order=2).shape"
   ]
  },
  {
   "cell_type": "code",
   "execution_count": null,
   "metadata": {},
   "outputs": [],
   "source": [
    "%%timeit\n",
    "torus.dt_matrix() + torus.dx_matrix(order=2, statetype='modes') + torus.dx_matrix(order=4, statetype='modes')"
   ]
  },
  {
   "cell_type": "code",
   "execution_count": null,
   "metadata": {},
   "outputs": [],
   "source": [
    "%%timeit\n",
    "qk=torus.wave_vector().ravel()\n",
    "dx2 = -1*np.kron(np.eye(torus.N-1), np.diag(qk**2))\n",
    "dx4 = -1*np.kron(np.eye(torus.N-1), np.diag(qk**4))\n",
    "jl = torus.dt_matrix() + dx2 + dx4"
   ]
  },
  {
   "cell_type": "code",
   "execution_count": null,
   "metadata": {},
   "outputs": [],
   "source": [
    "idft_mat = irfft(np.eye(torus.M//2 + 1), norm='ortho', axis=0)[:, 1:-1]\n",
    "space_idft_mat = np.concatenate((idft_mat.real, idft_mat.imag), axis=1)\n",
    "space_idft_mat.shape"
   ]
  },
  {
   "cell_type": "code",
   "execution_count": null,
   "metadata": {},
   "outputs": [],
   "source": [
    "dft_mat = rfft(np.eye(torus.N), norm='ortho', axis=0)\n",
    "time_dft_mat = np.concatenate((dft_mat[:-1,:].real, dft_mat[1:-1,:].imag), axis=0)\n",
    "ab_time_dft_mat = np.insert(time_dft_mat, \n",
    "                             np.arange(time_dft_mat.shape[1]), \n",
    "                             np.zeros([time_dft_mat.shape[0], time_dft_mat.shape[1]]),\n",
    "                             axis=1)\n",
    "np.kron(ab_time_dft_mat, np.eye(torus.m)).shape"
   ]
  },
  {
   "cell_type": "code",
   "execution_count": null,
   "metadata": {},
   "outputs": [],
   "source": [
    "plt.imshow(ab_time_idft_mat)\n",
    "plt.colorbar()\n",
    "_ = plt.show()"
   ]
  },
  {
   "cell_type": "code",
   "execution_count": null,
   "metadata": {},
   "outputs": [],
   "source": [
    "ab_time_idft_mat.shape"
   ]
  },
  {
   "cell_type": "code",
   "execution_count": null,
   "metadata": {},
   "outputs": [],
   "source": [
    "tttt = full_time_ifft_matrix[full_time_ifft_matrix!=0]\n",
    "tttt[-5:]"
   ]
  },
  {
   "cell_type": "code",
   "execution_count": null,
   "metadata": {},
   "outputs": [],
   "source": [
    "# tmptmp = time_test[:, np.newaxis, :]\n"
   ]
  },
  {
   "cell_type": "code",
   "execution_count": null,
   "metadata": {},
   "outputs": [],
   "source": [
    "shuf2 = np.tile(np.insert(np.ones(8), np.arange(8), np.zeros(8)), (32,1))\n",
    "shuf1 = np.tile(np.insert(np.zeros(8), np.arange(8), np.ones(8)), (32,1))\n",
    "shuffle_mat = np.insert(shuf1.reshape(32, 1, 16), np.arange(32), shuf2.reshape(32,1,16),axis=0).squeeze()\n",
    "t2 = np.concatenate((shuffle_mat, shuffle_mat[:,1:]),axis=1)*tst\n",
    "# shufodd = np.roll(np.insert(shuf1.reshape(16, 1, 32), np.arange(16), shuf2.reshape(16,1,32),axis=0).squeeze(),1,axis=1)\n",
    "# shufodd = shufodd[:,:-1]\n",
    "# shufeven = shufeven[:,:-1]"
   ]
  },
  {
   "cell_type": "code",
   "execution_count": null,
   "metadata": {},
   "outputs": [],
   "source": [
    "# %%timeit\n"
   ]
  },
  {
   "cell_type": "code",
   "execution_count": null,
   "metadata": {},
   "outputs": [],
   "source": [
    "plt.imshow(tst)\n",
    "plt.colorbar()\n",
    "_ = plt.show()"
   ]
  },
  {
   "cell_type": "code",
   "execution_count": null,
   "metadata": {},
   "outputs": [],
   "source": [
    "plt.imshow(t2)\n",
    "plt.colorbar()\n",
    "_ = plt.show()"
   ]
  },
  {
   "cell_type": "code",
   "execution_count": null,
   "metadata": {},
   "outputs": [],
   "source": [
    "plt.imshow((tst*rangeifft)-t2)\n",
    "_ = plt.colorbar()"
   ]
  },
  {
   "cell_type": "code",
   "execution_count": null,
   "metadata": {},
   "outputs": [],
   "source": [
    "%%timeit\n",
    "torus.time_irfft_matrix()"
   ]
  },
  {
   "cell_type": "code",
   "execution_count": null,
   "metadata": {},
   "outputs": [],
   "source": [
    "%%timeit\n",
    "rangefft = np.zeros((31, 64),dtype=int)\n",
    "#odd rows\n",
    "rangefft[1:-15:2,::2] = 1\n",
    "rangefft[:-15:2,1::2] = 1\n",
    "rangefft[-15+1::2,1::2] = 1\n",
    "rangefft[-15::2, ::2] = 1\n",
    "time_mat = rfft(np.eye(torus.M), norm='ortho', axis=0)\n",
    "# time_real_mat = rfft(np.eye(torus.N//2+1), norm='ortho', axis=0)\n",
    "time_forward = np.concatenate((time_mat[:-1, :].real, time_mat[1:-1, :].imag), axis=0)\n",
    "time_mat_large = np.insert(time_forward, np.arange(time_forward.shape[1]), time_forward, axis=1)*rangefft\n",
    "full_time_fft_matrix = np.kron(time_mat_large, np.eye(torus.m))\n",
    "# np.linalg.norm(full_time_ifft_matrix-torus.time_ifft_matrix())"
   ]
  },
  {
   "cell_type": "code",
   "execution_count": null,
   "metadata": {},
   "outputs": [],
   "source": [
    "%%timeit\n",
    "rangefft = np.zeros((31, 64),dtype=int)\n",
    "#odd rows\n",
    "rangefft[1:-15:2,::2] = 1\n",
    "rangefft[:-15:2,1::2] = 1\n",
    "rangefft[-15+1::2,1::2] = 1\n",
    "rangefft[-15::2, ::2] = 1"
   ]
  },
  {
   "cell_type": "code",
   "execution_count": null,
   "metadata": {},
   "outputs": [],
   "source": [
    "%%timeit\n",
    "shuf22 = np.tile(np.insert(np.ones(32), np.arange(32), np.zeros(32)).reshape(1, -1), (8, 1))\n",
    "shuf12 = np.tile(np.insert(np.zeros(32), np.arange(32), np.ones(32)).reshape(1, -1), (8, 1))\n",
    "shuffle_mat2 = np.insert(shuf12, np.arange(8), shuf22, axis=0)\n",
    "shuf_final = np.concatenate((shuffle_mat2, shuffle_mat2[1:,:]), axis=0)\n",
    "\n",
    "time_mat = rfft(np.eye(torus.M), norm='ortho', axis=0)\n",
    "time_forward = np.concatenate((time_mat[:-1, :].real, time_mat[1:-1, :].imag), axis=0)\n",
    "time_mat_large = np.insert(time_forward, np.arange(time_forward.shape[1]), time_forward, axis=1)*shuf_final\n",
    "full_time_fft_matrix = np.kron(time_mat_large, np.eye(torus.m))"
   ]
  },
  {
   "cell_type": "code",
   "execution_count": null,
   "metadata": {},
   "outputs": [],
   "source": [
    "plt.imshow(full_time_ifft_matrix)"
   ]
  },
  {
   "cell_type": "code",
   "execution_count": null,
   "metadata": {},
   "outputs": [],
   "source": [
    "plt.imshow(torus.time_irfft_matrix()-full_time_ifft_matrix)"
   ]
  },
  {
   "cell_type": "code",
   "execution_count": null,
   "metadata": {},
   "outputs": [],
   "source": [
    "rangefft = np.zeros((31, 64),dtype=int)\n",
    "rangefft[1::2,::2] = 1\n",
    "rangefft[::2,1::2] = 1"
   ]
  },
  {
   "cell_type": "code",
   "execution_count": null,
   "metadata": {},
   "outputs": [],
   "source": [
    "%%timeit\n",
    "rangefft = np.zeros((31, 64),dtype=int)\n",
    "#odd rows\n",
    "rangefft[1:-15:2,::2] = 1\n",
    "rangefft[:-15:2,1::2] = 1\n",
    "rangefft[-15+1::2,1::2] = 1\n",
    "rangefft[-15::2, ::2] = 1\n",
    "# rangefft[1:16:2,::2] = 1\n",
    "# rangefft[:16:2,1::2] = 1\n",
    "# rangefft[16::2,1::2] = 1\n",
    "# rangefft[16::2, ::2] = 1"
   ]
  },
  {
   "cell_type": "code",
   "execution_count": null,
   "metadata": {},
   "outputs": [],
   "source": [
    "%%timeit\n",
    "rangefft = np.zeros((16, 64),dtype=int)\n",
    "#odd rows\n",
    "rangefft[1::2,::2] = 1\n",
    "rangefft[::2,1::2] = 1\n",
    "rangefft = np.concatenate((rangefft, rangefft[1:, :]),axis=0) \n",
    "# rangefft[1:16:2,::2] = 1\n",
    "# rangefft[:16:2,1::2] = 1\n",
    "# rangefft[16::2,1::2] = 1\n",
    "# rangefft[16::2, ::2] = 1"
   ]
  },
  {
   "cell_type": "code",
   "execution_count": null,
   "metadata": {},
   "outputs": [],
   "source": [
    "rangefft = np.zeros((16, 64),dtype=int)\n",
    "#odd rows\n",
    "rangefft[1::2,::2] = 1\n",
    "rangefft[::2,1::2] = 1\n",
    "rangefft = np.concatenate((rangefft, rangefft[1:, :]),axis=0) \n",
    "plt.imshow(rangefft)"
   ]
  },
  {
   "cell_type": "code",
   "execution_count": null,
   "metadata": {},
   "outputs": [],
   "source": [
    "%%timeit\n"
   ]
  },
  {
   "cell_type": "code",
   "execution_count": null,
   "metadata": {},
   "outputs": [],
   "source": [
    "shuf22 = np.tile(np.insert(np.ones(32), np.arange(32), np.zeros(32)).reshape(1, -1), (8, 1))\n",
    "shuf12 = np.tile(np.insert(np.zeros(32), np.arange(32), np.ones(32)).reshape(1, -1), (8, 1))\n",
    "shuffle_mat2 = np.insert(shuf12, np.arange(8), shuf22, axis=0)\n",
    "shuf_final = np.concatenate((shuffle_mat2, shuffle_mat2[1:,:]), axis=0)"
   ]
  },
  {
   "cell_type": "code",
   "execution_count": null,
   "metadata": {},
   "outputs": [],
   "source": [
    "plt.imshow(rangefft-shuf_final)"
   ]
  },
  {
   "cell_type": "code",
   "execution_count": null,
   "metadata": {},
   "outputs": [],
   "source": [
    "\n",
    "# t3 = np.concatenate((shuffle_mat2, shuffle_mat2[1:,:]), axis=0)*time_mat_large"
   ]
  },
  {
   "cell_type": "code",
   "execution_count": null,
   "metadata": {},
   "outputs": [],
   "source": [
    "plt.imshow(np.concatenate((shuffle_mat2, shuffle_mat2[1:,:]), axis=0))"
   ]
  },
  {
   "cell_type": "code",
   "execution_count": null,
   "metadata": {},
   "outputs": [],
   "source": [
    "plt.imshow(np.concatenate((rangefft, rangefft[1:,:]), axis=0))"
   ]
  },
  {
   "cell_type": "code",
   "execution_count": null,
   "metadata": {},
   "outputs": [],
   "source": [
    "np.linalg.norm(np.kron(t3, np.eye(ppotorus.m)).dot(ppotorus.convert(to='s_modes').state.ravel())-ppo_old_vv.ravel())"
   ]
  },
  {
   "cell_type": "code",
   "execution_count": null,
   "metadata": {},
   "outputs": [],
   "source": [
    "full_time_fft_matrix.dot(ppotorus.convert(to='s_modes').state.ravel())"
   ]
  },
  {
   "cell_type": "code",
   "execution_count": null,
   "metadata": {},
   "outputs": [],
   "source": [
    "np.linalg.norm(ppo_old_vv.ravel()-full_time_fft_matrix.dot(ppotorus.convert(to='s_modes').state.ravel()))"
   ]
  },
  {
   "cell_type": "code",
   "execution_count": null,
   "metadata": {},
   "outputs": [],
   "source": [
    "full_time_fft_matrix.shape"
   ]
  },
  {
   "cell_type": "code",
   "execution_count": null,
   "metadata": {},
   "outputs": [],
   "source": [
    "self = ppotorus\n",
    "ft = np.sqrt(self.N) * old_irfft(np.eye(self.N), axis=0)[:, :-1]\n",
    "indices = np.arange(0, self.n)\n",
    "odd_freq = indices[np.where(~np.mod(indices, 2).astype(bool))]\n",
    "even_freq = indices[np.where(np.mod(indices, 2).astype(bool))]\n",
    "\n",
    "zero = ft[:, 0]\n",
    "real = ft[:, 2 * indices + 1]\n",
    "imaginary = ft[:, 2 * indices + 2]\n",
    "\n",
    "even = np.concatenate((zero.reshape(-1, 1), real[:, even_freq], imaginary[:, even_freq]), axis=1)\n",
    "odd = np.concatenate((real[:, odd_freq], imaginary[:, odd_freq]), axis=1)\n",
    "\n",
    "even_staggered_rows = np.insert(even, np.arange(even.shape[0]), np.zeros([1, even.shape[1]]), axis=0)\n",
    "odd_staggered_rows = np.insert(odd, np.arange(odd.shape[0])+1, np.zeros([1, odd.shape[1]]), axis=0)\n",
    "\n",
    "# Adds a new-axis during the reshape operation\n",
    "e3 = even_staggered_rows.reshape(even_staggered_rows.shape[0], even_staggered_rows.shape[1], 1)\n",
    "o3 = odd_staggered_rows.reshape(odd_staggered_rows.shape[0], odd_staggered_rows.shape[1], 1)\n",
    "shuffle_indices = np.concatenate((np.arange(o3.shape[1] // 2),\n",
    "                                  ((o3.shape[1] // 2) + 1) + np.arange(o3.shape[1] // 2 - 1)), axis=0)\n",
    "irfft_mat = np.squeeze(np.insert(o3, shuffle_indices, e3, axis=1))"
   ]
  },
  {
   "cell_type": "code",
   "execution_count": null,
   "metadata": {},
   "outputs": [],
   "source": [
    "plt.imshow(ppotorus.time_irfft_matrix())"
   ]
  },
  {
   "cell_type": "code",
   "execution_count": null,
   "metadata": {},
   "outputs": [],
   "source": [
    "%%timeit\n",
    "even_indices = np.arange(0, torus.N//2, 2)\n",
    "odd_indices = np.arange(1, torus.N//2, 2)\n",
    "complex_spacetime = ppo_spacetime_modes[:-n, :]+1j*np.concatenate((np.zeros([1,torus.m]), ppo_spacetime_modes[-n:, :]),axis=0)\n",
    "full_complex=np.concatenate((complex_spacetime,np.zeros([1,torus.m])),axis=0)\n",
    "a, b = full_complex.copy(), full_complex.copy()\n",
    "a[even_indices, :] = 0\n",
    "b[odd_indices, :] = 0\n",
    "irfft(np.concatenate((a,b), axis=1), norm='ortho',axis=0)"
   ]
  },
  {
   "cell_type": "code",
   "execution_count": null,
   "metadata": {},
   "outputs": [],
   "source": [
    "torus = read_h5(\"C:\\\\Users\\\\Matt\\\\Desktop\\\\ppo_L21p99_T10p25.h5\")"
   ]
  },
  {
   "cell_type": "code",
   "execution_count": null,
   "metadata": {},
   "outputs": [],
   "source": [
    "x.convert(to='field', inplace=True)\n",
    "np.random.seed(seed=0)\n",
    "y = np.max(np.abs(x.state))*np.random.randn(32, 32)\n",
    "noise_x = x.__class__(state=x.state + y, statetype='field', T=x.T, L=x.L, S=x.S)\n",
    "noise_y = x.__class__(state=y, statetype='field', T=x.T, L=x.L, S=x.S)"
   ]
  },
  {
   "cell_type": "code",
   "execution_count": null,
   "metadata": {},
   "outputs": [],
   "source": [
    "rediscretize(noise_x, newN=128, newM=128)"
   ]
  },
  {
   "cell_type": "code",
   "execution_count": null,
   "metadata": {},
   "outputs": [],
   "source": [
    "plt.imshow(rediscretize(noise_x, newN=512, newM=512).state)"
   ]
  },
  {
   "cell_type": "code",
   "execution_count": null,
   "metadata": {},
   "outputs": [],
   "source": [
    "fig, (ax0, ax1, ax2) = plt.subplots(1,3,figsize=(8,8))\n",
    "ax0.imshow(rediscretize(x, newN=512, newM=512).convert(to='field').state, \n",
    "           cmap='jet', vmin=noise_x.state.min(), vmax=noise_x.state.max(),\n",
    "           extent=[0, x.L/(2*pi), 0, x.T],aspect=0.25\n",
    "          )\n",
    "ax1.imshow(rediscretize(noise_y, newN=512, newM=512).convert(to='field').state,\n",
    "           cmap='jet', vmin=noise_x.state.min(), vmax=noise_x.state.max(),\n",
    "           extent=[0, x.L/(2*pi), 0, x.T],aspect=0.25\n",
    "          )\n",
    "im = ax2.imshow(rediscretize(noise_x, newN=512, newM=512).convert(to='field').state,\n",
    "                cmap='jet', vmin=noise_x.state.min(), vmax=noise_x.state.max(),\n",
    "           extent=[0, x.L/(2*pi), 0, x.T],aspect=0.25\n",
    "               )\n",
    "\n",
    "# fig.colorbar(im, ax=[ax0,ax1,ax2])\n",
    "fig.subplots_adjust(right=0.8)\n",
    "# put colorbar at desire position\n",
    "cbar_ax = fig.add_axes([0.85, 0.35, 0.02, 0.29])\n",
    "fig.colorbar(im, cax=cbar_ax)\n",
    "_ = ax1.set_yticks([])\n",
    "_ = ax2.set_yticks([])"
   ]
  },
  {
   "cell_type": "code",
   "execution_count": null,
   "metadata": {},
   "outputs": [],
   "source": [
    "np.linalg.norm(x.state)"
   ]
  },
  {
   "cell_type": "code",
   "execution_count": null,
   "metadata": {},
   "outputs": [],
   "source": [
    "noise_x.copy()"
   ]
  },
  {
   "cell_type": "code",
   "execution_count": null,
   "metadata": {},
   "outputs": [],
   "source": [
    "final_result = converge(noise_x, method='hybrid', verbose=True)\n",
    "final_result"
   ]
  },
  {
   "cell_type": "code",
   "execution_count": null,
   "metadata": {},
   "outputs": [],
   "source": [
    "noise_y.state.max(), noise_y.state.min()"
   ]
  },
  {
   "cell_type": "code",
   "execution_count": null,
   "metadata": {},
   "outputs": [],
   "source": [
    "noise_x_result = final_result.torus\n",
    "noise_x_result = noise_x_result.convert(to='field')"
   ]
  },
  {
   "cell_type": "code",
   "execution_count": null,
   "metadata": {},
   "outputs": [],
   "source": [
    "x.state.max(), x.state.min()"
   ]
  },
  {
   "cell_type": "code",
   "execution_count": null,
   "metadata": {},
   "outputs": [],
   "source": [
    "noise_x_result.T, noise_x_result.L"
   ]
  },
  {
   "cell_type": "code",
   "execution_count": null,
   "metadata": {},
   "outputs": [],
   "source": [
    "noise_x_result.plot(fundamental_domain=False)"
   ]
  },
  {
   "cell_type": "code",
   "execution_count": null,
   "metadata": {},
   "outputs": [],
   "source": [
    "plt.rcParams.update({'font.size': 22})"
   ]
  },
  {
   "cell_type": "code",
   "execution_count": null,
   "metadata": {},
   "outputs": [],
   "source": [
    "fig, (ax0, ax1, ax2, ax3) = plt.subplots(1,4,figsize=(20,20))\n",
    "ax0.imshow(rediscretize(x, newN=512, newM=512).state, \n",
    "           cmap='jet', vmin=noise_x.state.min(), vmax=noise_x.state.max(),\n",
    "           extent=[0, x.L/(2*pi), 0, x.T],aspect=0.25\n",
    "          )\n",
    "ax1.imshow(rediscretize(noise_y, newN=512, newM=512).state,\n",
    "           cmap='jet', vmin=noise_x.state.min(), vmax=noise_x.state.max(),\n",
    "           extent=[0, x.L/(2*pi), 0, x.T],aspect=0.25\n",
    "          )\n",
    "ax2.imshow(rediscretize(noise_x, newN=512, newM=512).state,\n",
    "                cmap='jet', vmin=noise_x.state.min(), vmax=noise_x.state.max(),\n",
    "           extent=[0, x.L/(2*pi), 0, x.T],aspect=0.25\n",
    "               )\n",
    "im = ax3.imshow(rediscretize(noise_x_result, newN=512, newM=512).state,\n",
    "                cmap='jet', vmin=noise_x.state.min(), vmax=noise_x.state.max(),\n",
    "           extent=[0, x.L/(2*pi), 0, x.T], aspect=0.25\n",
    "               )\n",
    "\n",
    "# fig.colorbar(im, ax=[ax0,ax1,ax2])\n",
    "fig.subplots_adjust(right=0.8)\n",
    "# put colorbar at desire position\n",
    "cbar_ax = fig.add_axes([0.81, 0.395, 0.01, 0.214])\n",
    "fig.colorbar(im, cax=cbar_ax)\n",
    "ax0.set_yticks([0, 10, 20])\n",
    "ax0.set_yticklabels([0, 10, 20])\n",
    "_ = ax1.set_yticks([])\n",
    "_ = ax2.set_yticks([])\n",
    "_ = ax3.set_yticks([])\n",
    "plt.savefig('MNG_noise.pdf', bbox_inches='tight', pad_inches=0)"
   ]
  },
  {
   "cell_type": "code",
   "execution_count": null,
   "metadata": {},
   "outputs": [],
   "source": [
    "filename = 'C:\\\\Users\\\\Matt\\\\Desktop\\\\rpo_L13p02_T15.h5'\n",
    "\n",
    "merger = read_h5(filename)\n",
    "\n",
    "merger.plot()\n",
    "\n",
    "merger.state.shape"
   ]
  },
  {
   "cell_type": "code",
   "execution_count": null,
   "metadata": {},
   "outputs": [],
   "source": [
    "merger.residual()"
   ]
  },
  {
   "cell_type": "code",
   "execution_count": null,
   "metadata": {
    "scrolled": true
   },
   "outputs": [],
   "source": [
    "np.random.seed(seed=0)\n",
    "test =  0.1*np.random.randn(32, 16)\n",
    "merger.state = merger.state + test"
   ]
  },
  {
   "cell_type": "code",
   "execution_count": null,
   "metadata": {
    "scrolled": true
   },
   "outputs": [],
   "source": [
    "merger.residual()"
   ]
  },
  {
   "cell_type": "code",
   "execution_count": null,
   "metadata": {
    "scrolled": true
   },
   "outputs": [],
   "source": [
    "merger.plot()"
   ]
  },
  {
   "cell_type": "code",
   "execution_count": null,
   "metadata": {},
   "outputs": [],
   "source": [
    "merger_result =  converge(merger, verbose=True)\n",
    "merger_torus_final = merger_result.torus"
   ]
  },
  {
   "cell_type": "code",
   "execution_count": null,
   "metadata": {},
   "outputs": [],
   "source": [
    "merger_torus_final.plot(fundamental_domain=False)\n",
    "merger_torus_final.S"
   ]
  },
  {
   "cell_type": "code",
   "execution_count": null,
   "metadata": {},
   "outputs": [],
   "source": []
  },
  {
   "cell_type": "code",
   "execution_count": null,
   "metadata": {},
   "outputs": [],
   "source": [
    "filename = 'C:\\\\Users\\\\Matt\\\\Desktop\\\\eqva_L3p195.h5'\n",
    "\n",
    "streak = read_h5(filename)"
   ]
  },
  {
   "cell_type": "code",
   "execution_count": null,
   "metadata": {},
   "outputs": [],
   "source": [
    "streak = rediscretize(streak, newM=16, newN=16)"
   ]
  },
  {
   "cell_type": "code",
   "execution_count": null,
   "metadata": {},
   "outputs": [],
   "source": [
    "streak.state.shape"
   ]
  },
  {
   "cell_type": "code",
   "execution_count": null,
   "metadata": {},
   "outputs": [],
   "source": [
    "streak_field = streak.state"
   ]
  },
  {
   "cell_type": "code",
   "execution_count": null,
   "metadata": {},
   "outputs": [],
   "source": [
    "bottom = np.concatenate((streak_field, streak_field),axis=1)\n",
    "top = np.roll(np.concatenate((0*streak_field, streak_field),axis=1),-8,axis=1)"
   ]
  },
  {
   "cell_type": "code",
   "execution_count": null,
   "metadata": {},
   "outputs": [],
   "source": [
    "merger = 2*np.concatenate((top, bottom),axis=0)"
   ]
  },
  {
   "cell_type": "code",
   "execution_count": null,
   "metadata": {},
   "outputs": [],
   "source": [
    "plt.imshow(merger, cmap='jet')\n",
    "plt.colorbar()\n",
    "_ = plt.show()"
   ]
  },
  {
   "cell_type": "code",
   "execution_count": null,
   "metadata": {},
   "outputs": [],
   "source": [
    "merger_torus_guess = RelativeTorus(state=merger, statetype='field', T=15, L=13, S=3.34)#.to_fundamental_domain()"
   ]
  },
  {
   "cell_type": "code",
   "execution_count": null,
   "metadata": {},
   "outputs": [],
   "source": [
    "merger_torus_guess.plot(fundamental_domain=False, padding=False, save=True, filename='streak_merger_initial.h5')"
   ]
  },
  {
   "cell_type": "code",
   "execution_count": null,
   "metadata": {},
   "outputs": [],
   "source": [
    "merger_torus_guess = RelativeTorus(state=merger, statetype='field', T=15, L=13, S=3.34).to_fundamental_domain()"
   ]
  },
  {
   "cell_type": "code",
   "execution_count": null,
   "metadata": {},
   "outputs": [],
   "source": [
    "adjoint_result =  converge(merger_torus_guess, method='adj', preconditioning=True, verbose=True)\n",
    "adjoint_torus = adjoint_result.torus"
   ]
  },
  {
   "cell_type": "code",
   "execution_count": null,
   "metadata": {},
   "outputs": [],
   "source": [
    "adjoint_torus.S"
   ]
  },
  {
   "cell_type": "code",
   "execution_count": null,
   "metadata": {},
   "outputs": [],
   "source": [
    "adjoint_torus.plot()"
   ]
  },
  {
   "cell_type": "code",
   "execution_count": null,
   "metadata": {},
   "outputs": [],
   "source": [
    "adjoint_torus.plot(fundamental_domain=False)"
   ]
  },
  {
   "cell_type": "code",
   "execution_count": null,
   "metadata": {},
   "outputs": [],
   "source": [
    "adjoint_torus.residual()"
   ]
  },
  {
   "cell_type": "code",
   "execution_count": null,
   "metadata": {},
   "outputs": [],
   "source": [
    "final_result =  converge(adjoint_torus, method='lstsq', preconditioning=False, verbose=True)\n",
    "final_torus = final_result.torus"
   ]
  },
  {
   "cell_type": "code",
   "execution_count": null,
   "metadata": {},
   "outputs": [],
   "source": []
  },
  {
   "cell_type": "code",
   "execution_count": null,
   "metadata": {},
   "outputs": [],
   "source": [
    "final_result"
   ]
  },
  {
   "cell_type": "code",
   "execution_count": null,
   "metadata": {},
   "outputs": [],
   "source": [
    "final_torus.plot(save=True, filename='streak_merger.h5')"
   ]
  },
  {
   "cell_type": "code",
   "execution_count": null,
   "metadata": {},
   "outputs": [],
   "source": [
    "merger_torus_guess.plot()"
   ]
  },
  {
   "cell_type": "code",
   "execution_count": null,
   "metadata": {},
   "outputs": [],
   "source": [
    "lstsqonly =  converge(merger_torus_guess, method='lstsq', verbose=True)\n",
    "mergertest = lstsqonly.torus"
   ]
  },
  {
   "cell_type": "code",
   "execution_count": null,
   "metadata": {},
   "outputs": [],
   "source": [
    "mergertest.plot()"
   ]
  },
  {
   "cell_type": "code",
   "execution_count": null,
   "metadata": {},
   "outputs": [],
   "source": [
    "gap_field = 2*np.concatenate((streak_field, gap_middle, streak_field),axis=1)"
   ]
  },
  {
   "cell_type": "code",
   "execution_count": null,
   "metadata": {},
   "outputs": [],
   "source": [
    "plt.imshow(gap_field,cmap='jet')\n",
    "plt.colorbar()\n",
    "_ = plt.show()"
   ]
  },
  {
   "cell_type": "code",
   "execution_count": null,
   "metadata": {},
   "outputs": [],
   "source": [
    "gap_torus_guess = AntisymmetricTorus(state=gap_field, statetype='field', T=17, L=17.5)#.to_fundamental_domain()"
   ]
  },
  {
   "cell_type": "code",
   "execution_count": null,
   "metadata": {},
   "outputs": [],
   "source": [
    "gap_adjoint_result =  converge(gap_torus_guess, method='adj', preconditioning=True, verbose=True)\n",
    "gap_adjoint_torus = gap_adjoint_result.torus"
   ]
  },
  {
   "cell_type": "code",
   "execution_count": null,
   "metadata": {},
   "outputs": [],
   "source": [
    "gap_result =  converge(gap_torus_guess, method='lstsq',verbose=True)\n",
    "gap_torus = gap_result.torus"
   ]
  },
  {
   "cell_type": "code",
   "execution_count": null,
   "metadata": {},
   "outputs": [],
   "source": [
    "gap_torus.plot()"
   ]
  },
  {
   "cell_type": "code",
   "execution_count": null,
   "metadata": {},
   "outputs": [],
   "source": [
    "gap_adjoint_torus.plot(fundamental_domain=False)"
   ]
  },
  {
   "cell_type": "code",
   "execution_count": null,
   "metadata": {},
   "outputs": [],
   "source": [
    "filename = 'C:\\\\Users\\\\Matt\\\\Desktop\\\\anti_L17p5_T17.h5'\n",
    "\n",
    "gap = read_h5(filename)"
   ]
  },
  {
   "cell_type": "code",
   "execution_count": null,
   "metadata": {},
   "outputs": [],
   "source": [
    "gap = rediscretize(gap, newN=64, newM=64)"
   ]
  },
  {
   "cell_type": "code",
   "execution_count": null,
   "metadata": {},
   "outputs": [],
   "source": [
    "plt.imshow"
   ]
  },
  {
   "cell_type": "code",
   "execution_count": null,
   "metadata": {},
   "outputs": [],
   "source": [
    "sr_gap = gap.state + np.fliplr(np.roll(gap.state,gap.state.shape[0],axis=0))"
   ]
  },
  {
   "cell_type": "code",
   "execution_count": null,
   "metadata": {},
   "outputs": [],
   "source": [
    "plt.imshow(sr_gap, cmap='jet')\n",
    "plt.colorbar()\n",
    "plt.show()"
   ]
  },
  {
   "cell_type": "code",
   "execution_count": null,
   "metadata": {},
   "outputs": [],
   "source": []
  },
  {
   "cell_type": "code",
   "execution_count": null,
   "metadata": {},
   "outputs": [],
   "source": [
    "gap.plot(fundamental_domain=False)"
   ]
  },
  {
   "cell_type": "code",
   "execution_count": null,
   "metadata": {},
   "outputs": [],
   "source": [
    "%%timeit \n",
    "areal = vv.real[:-1, :-torus.m] \n",
    "breal = vv.real[:-1, -torus.m:]\n",
    "vr = areal + breal"
   ]
  },
  {
   "cell_type": "code",
   "execution_count": null,
   "metadata": {},
   "outputs": [],
   "source": [
    "vv0 = vv[0, :]\n",
    "vvn0 = vv[1:-1, :]"
   ]
  },
  {
   "cell_type": "code",
   "execution_count": null,
   "metadata": {},
   "outputs": [],
   "source": [
    "vvf = np.concatenate((vv0.real.reshape(1,-1), vvn0.real, vvn0.imag),axis=0)"
   ]
  },
  {
   "cell_type": "code",
   "execution_count": null,
   "metadata": {},
   "outputs": [],
   "source": [
    "vvf[0, :]"
   ]
  },
  {
   "cell_type": "code",
   "execution_count": null,
   "metadata": {},
   "outputs": [],
   "source": [
    "plt.imshow(np.log(np.abs(vvf)))\n",
    "plt.colorbar()\n",
    "_ = plt.show()"
   ]
  },
  {
   "cell_type": "code",
   "execution_count": null,
   "metadata": {},
   "outputs": [],
   "source": [
    "v = rfft(u, norm='ortho', axis=1)"
   ]
  },
  {
   "cell_type": "code",
   "execution_count": null,
   "metadata": {
    "scrolled": true
   },
   "outputs": [],
   "source": [
    "new_v = np.concatenate((np.real(v[:, 1:-1]), np.imag(v[:, 1:-1])),axis=1)"
   ]
  },
  {
   "cell_type": "code",
   "execution_count": null,
   "metadata": {},
   "outputs": [],
   "source": [
    "new_vv = rfft(new_v, norm='ortho',axis=0)\n",
    "new_vv_real = new_vv.real\n",
    "new_vv_imag = new_vv.imag"
   ]
  },
  {
   "cell_type": "code",
   "execution_count": null,
   "metadata": {},
   "outputs": [],
   "source": [
    "new_vv[0, :]"
   ]
  },
  {
   "cell_type": "code",
   "execution_count": null,
   "metadata": {},
   "outputs": [],
   "source": [
    "time_real = new_vv_real[:, :-torus.m]+new_vv_real[:,-torus.m:]"
   ]
  },
  {
   "cell_type": "code",
   "execution_count": null,
   "metadata": {},
   "outputs": [],
   "source": [
    "time_imag = new_vv_imag[:, :-torus.m]+new_vv_imag[:,-torus.m:]"
   ]
  },
  {
   "cell_type": "code",
   "execution_count": null,
   "metadata": {
    "scrolled": true
   },
   "outputs": [],
   "source": [
    "plt.imshow(np.abs(new_vv))"
   ]
  },
  {
   "cell_type": "code",
   "execution_count": null,
   "metadata": {},
   "outputs": [],
   "source": [
    "plt.imshow(time_real)"
   ]
  },
  {
   "cell_type": "code",
   "execution_count": null,
   "metadata": {},
   "outputs": [],
   "source": [
    "plt.imshow(time_imag)"
   ]
  },
  {
   "cell_type": "code",
   "execution_count": null,
   "metadata": {},
   "outputs": [],
   "source": [
    "plt.imshow(new_v)\n",
    "plt.colorbar()\n",
    "_ = plt.show()"
   ]
  },
  {
   "cell_type": "code",
   "execution_count": null,
   "metadata": {},
   "outputs": [],
   "source": [
    "plt.imshow(old_v-new_v)\n",
    "plt.colorbar()\n",
    "_ = plt.show()"
   ]
  },
  {
   "cell_type": "code",
   "execution_count": null,
   "metadata": {},
   "outputs": [],
   "source": []
  }
 ],
 "metadata": {
  "kernelspec": {
   "display_name": "Python 3",
   "language": "python",
   "name": "python3"
  },
  "language_info": {
   "codemirror_mode": {
    "name": "ipython",
    "version": 3
   },
   "file_extension": ".py",
   "mimetype": "text/x-python",
   "name": "python",
   "nbconvert_exporter": "python",
   "pygments_lexer": "ipython3",
   "version": "3.7.6"
  }
 },
 "nbformat": 4,
 "nbformat_minor": 2
}
