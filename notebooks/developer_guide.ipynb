{
 "cells": [
  {
   "cell_type": "code",
   "execution_count": 1,
   "id": "attempted-aquatic",
   "metadata": {},
   "outputs": [],
   "source": [
    "import os\n",
    "import sys\n",
    "import numpy as np\n",
    "import itertools\n",
    "import time\n",
    "import matplotlib.pyplot as plt\n",
    "from math import pi\n",
    "import h5py\n",
    "sys.path.insert(0, \"C:\\\\Users\\\\Matt\\\\Desktop\\\\orbithunter\\\\\")\n",
    "import orbithunter as orb"
   ]
  },
  {
   "cell_type": "markdown",
   "id": "surface-waterproof",
   "metadata": {},
   "source": [
    "# Developer Guide\n",
    "\n",
    "This notebook acts to serve as an interactive example of the [developer's guide](https://orbithunter.readthedocs.io/en/latest/guide.html). It's goal is to show how easy it is to implement your equations,\n",
    "and the relatively small number of functions and methods required to yield access to all of the tools that orbithunter provides. To do so I will work with the Lorenz equation; a dynamical system defined for the coordinates `(x, y, z)`. In the\n",
    "spatiotemporal formulation, only `t` is a continuous dimension; x, y, z are coupled bit their concatenation does not correspond to a continuous field dimension. Therefore, for every orbit, the discretization will be represented by an array of dimension\n",
    "$(N, 3)$. This is a simple example of a non-trivial system. Additionally, I have only experienced good results with spectral methods, an implicity assumption of the code. \n",
    "\n",
    "To break this down into pieces, I will first define all required functions ***outside*** of the class definition, and then collect them all at the end.\n",
    "\n",
    "\\begin{eqnarray}\n",
    " \\dot{x} = \\sigma(y-x) \\\\\n",
    " \\dot{y} = \\rho x - y - xz \\\\\n",
    " \\dot{z} = xy - bz\n",
    "\\end{eqnarray}\n",
    "\n",
    "The equations will be solved as a system of differential algebraic equations\n",
    "\n",
    "\\begin{eqnarray}\n",
    " \\omega_j \\tilde{x} - \\sigma(\\tilde{y} - \\tilde{x}) = 0 \\\\\n",
    " \\omega_j \\tilde{y} - \\rho \\tilde{x} + \\tilde{y} + \\mathcal{F}(x \\cdot z) = 0 \\\\\n",
    " \\omega_j \\tilde{z} - \\mathcal{F}(x\\cdot y) + b \\tilde{z} = 0\n",
    "\\end{eqnarray}\n",
    "\n",
    "Where it is understood that $x\\cdot y$ is the nonlinear term computed as a product in physical space and variables\n",
    "marked by $~$ are The temporal Fourier modes of the coordinates $(x, y, z)$\n",
    "\n",
    "The defaults are set such that $t\\in(0, 100), \\sigma=10,\\rho=20, b=8/3$\n",
    "\n",
    "\n",
    "# Static methods\n",
    "\n",
    "These methods contain labels, shapes, etc.\n",
    "\n"
   ]
  },
  {
   "cell_type": "code",
   "execution_count": null,
   "id": "secure-marketing",
   "metadata": {},
   "outputs": [],
   "source": []
  },
  {
   "cell_type": "markdown",
   "id": "drawn-cambodia",
   "metadata": {},
   "source": [
    "We can now move onto the methods which actually evaluate the functions. I will\n",
    "be working under the assumption that the default cost function is to be used:\n",
    "$\\frac{F^2}{2}$. We must implement the transforms first. Because we have parameters which are real-valued, it will benefit us to make the equations real valued."
   ]
  },
  {
   "cell_type": "code",
   "execution_count": 2,
   "id": "wrong-jackson",
   "metadata": {},
   "outputs": [],
   "source": [
    "from scipy.fft import rfft, irfft"
   ]
  },
  {
   "cell_type": "code",
   "execution_count": 3,
   "id": "rocky-basin",
   "metadata": {},
   "outputs": [],
   "source": [
    "import numpy as np"
   ]
  },
  {
   "cell_type": "code",
   "execution_count": 19,
   "id": "satisfied-label",
   "metadata": {},
   "outputs": [],
   "source": [
    "class TestOrbit(orb.Orbit):\n",
    "\n",
    "    def transform(self, to=None):\n",
    "        if self.state is None:\n",
    "            raise ValueError(\n",
    "                \"Trying to transform an unpopulated {} instance.\".format(str(self))\n",
    "            )\n",
    "        elif self.basis is None:\n",
    "            raise ValueError(\n",
    "                \"Trying to transform state with unknown basis\".format(str(self))\n",
    "            )\n",
    "\n",
    "        if to == \"physical\":\n",
    "            if self.basis == \"spectral\":\n",
    "                return self._inv_time_transform()\n",
    "            else:\n",
    "                return self\n",
    "        elif to == \"spectral\":\n",
    "            if self.basis == \"physical\":\n",
    "                return self._time_transform()\n",
    "            else:\n",
    "                return self\n",
    "        else:\n",
    "            raise ValueError(\"Trying to transform to unrecognized basis.\")\n",
    "\n",
    "    def _time_transform(self):\n",
    "\n",
    "        xyz = self.state\n",
    "        modes = rfft(xyz, axis=0, norm='ortho')\n",
    "        # do not include nyquist frequency (last row)\n",
    "        modes = np.concatenate((modes.real[:-1, :], modes.imag[1:-1, :]), axis=0)\n",
    "        # So that F^T = F^{-1}\n",
    "        modes[1:, :] = np.sqrt(2) * modes[1:, :]\n",
    "        return self.__class__(**{**vars(self), 'state':modes, 'basis':\"spectral\"})\n",
    "\n",
    "    def _inv_time_transform(self):\n",
    "        # Take rfft, accounting for unitary normalization.\n",
    "        # Take rfft, accounting for unitary normalization.\n",
    "        modes = self.state.astype(complex)\n",
    "        if modes.shape[0] > 1:\n",
    "            modes[1 : -max([int(self.n // 2) - 1, 1]), :] += (\n",
    "                1j * modes[-max([int(self.n // 2) - 1, 1]) :, :]\n",
    "            )\n",
    "            # if first statement evaluates to zero, then take all rows of\n",
    "            # axis by providing None as end of slice.\n",
    "            n_rows = (-max([int(self.n // 2) - 1, 1]) + 1) or None\n",
    "            modes = modes[:n_rows, :]\n",
    "            modes[1:, :] /= np.sqrt(2)\n",
    "            if modes.shape[0] == 1:\n",
    "                modes = np.pad(modes, ((0, 1), (0, 0)))\n",
    "            modes[-1, :] = 0\n",
    "        else:\n",
    "            if modes.shape[0] == 1:\n",
    "                modes = np.pad(modes, ((0, 1), (0, 0)))\n",
    "            modes[-1, :] = 0\n",
    "        xyz = irfft(modes, axis=0, norm='ortho')\n",
    "        return self.__class__(**{**vars(self), 'state':xyz, 'basis':\"physical\"})\n",
    "    \n",
    "    @staticmethod\n",
    "    def bases_labels():\n",
    "        return \"physical\", \"spectral\"\n",
    "    \n",
    "    @staticmethod\n",
    "    def parameter_labels():\n",
    "        return 't', 'sigma', 'rho', 'b'\n",
    "    \n",
    "    @staticmethod\n",
    "    def discretization_labels():\n",
    "        \"\"\"\n",
    "        Labels for time and spatial dimensions; space is treated as a vector of 3 \n",
    "        coordinates\n",
    "\n",
    "        \"\"\"\n",
    "        return 'n', 'ijk'\n",
    "    \n",
    "    @staticmethod\n",
    "    def dimension_labels():\n",
    "        return 't', 'x'\n",
    "    \n",
    "    @staticmethod\n",
    "    def minimal_shapes():\n",
    "        return 2, 3\n",
    "    \n",
    "    @staticmethod\n",
    "    def minimal_shape_increments():\n",
    "        return 1, 0\n",
    "    \n",
    "    @staticmethod\n",
    "    def continuous_dimensions():\n",
    "        return True, False\n",
    "\n",
    "    @staticmethod\n",
    "    def default_shape():\n",
    "        return (4, 3)\n",
    "\n",
    "    @staticmethod\n",
    "    def _default_parameter_ranges():\n",
    "        return {'t': (0, 100), 'sigma':10, 'rho':28, 'b':8./3.}\n",
    "    \n",
    "    @staticmethod\n",
    "    def default_constraints():\n",
    "        return {'t': False, 'sigma':True, 'rho': True, 'b':True}\n",
    "    \n",
    "    @classmethod\n",
    "    def _dimension_indexing_order(cls):\n",
    "        return False, True\n",
    "    \n",
    "    def _pad(self, size, axis=0):\n",
    "        \"\"\"\n",
    "        Increase the size of the discretization via zero-padding\n",
    "\n",
    "        Parameters\n",
    "        ----------\n",
    "        size : int\n",
    "            The new size of the discretization, must be an even integer\n",
    "            larger than the current size of the discretization (handled by resize method).\n",
    "\n",
    "        axis : int\n",
    "            The dimension of the state that will be padded.\n",
    "\n",
    "        Returns\n",
    "        -------\n",
    "        OrbitKS :\n",
    "            OrbitKS instance with larger discretization.\n",
    "\n",
    "        Notes\n",
    "        -----\n",
    "        Need to account for the normalization factors by multiplying by old, dividing by new.\n",
    "\n",
    "        \"\"\"\n",
    "        modes = self.transform(to=\"spectral\")\n",
    "        if axis == 0:\n",
    "            # Due to formatting, can prepend and append zeros to second half as opposed to appending\n",
    "            # to first and second halves.\n",
    "            padding = (size - modes.n) // 2\n",
    "            padding_tuple = ((padding, padding), (0, 0))\n",
    "            padded_modes = np.concatenate(\n",
    "                (\n",
    "                    modes.state[: -(modes.n // 2 - 1), :],\n",
    "                    np.pad(modes.state[-(modes.n // 2 - 1) :, :], padding_tuple),\n",
    "                ),\n",
    "                axis=0,\n",
    "            )\n",
    "            padded_modes *= np.sqrt(size / modes.n)\n",
    "            return self.__class__(\n",
    "                **{\n",
    "                    **vars(self),\n",
    "                    \"state\": padded_modes,\n",
    "                    \"basis\": \"modes\",\n",
    "                    \"discretization\": (size, self.m),\n",
    "                }\n",
    "            ).transform(to=self.basis)\n",
    "\n",
    "        else:\n",
    "            return self\n",
    "            \n",
    "    def _truncate(self, size, axis=0):\n",
    "        \"\"\"\n",
    "        Decrease the size of the discretization via truncation\n",
    "\n",
    "        Parameters\n",
    "        ----------\n",
    "        size : int\n",
    "            The new size of the discretization, must be an even integer\n",
    "            smaller than the current size of the discretization (handled by resize method).\n",
    "\n",
    "        axis : int\n",
    "            The dimension of the state that will be truncated.\n",
    "\n",
    "        Returns\n",
    "        -------\n",
    "        OrbitKS :\n",
    "            OrbitKS instance with smaller discretization.\n",
    "\n",
    "        Notes\n",
    "        -----\n",
    "        Need to account for the normalization factors by multiplying by old, dividing by new.\n",
    "\n",
    "        \"\"\"\n",
    "        modes = self.transform(to=\"spectral\")\n",
    "        if axis == 0:\n",
    "            truncate_number = int(size // 2) - 1\n",
    "            # Split into real and imaginary components, truncate separately.\n",
    "            first_half = modes.state[: truncate_number + 1, :]\n",
    "            second_half = modes.state[\n",
    "                -(modes.n // 2 - 1) : -(modes.n // 2 - 1) + truncate_number, :\n",
    "            ]\n",
    "            truncated_modes = np.sqrt(size / modes.n) * np.concatenate(\n",
    "                (first_half, second_half), axis=0\n",
    "            )\n",
    "            return self.__class__(\n",
    "                **{\n",
    "                    **vars(self),\n",
    "                    \"state\": truncated_modes,\n",
    "                    \"basis\": \"modes\",\n",
    "                    \"discretization\": (size, self.m),\n",
    "                }\n",
    "            ).transform(to=self.basis)\n",
    "        else:\n",
    "            return self\n",
    "        \n",
    "    def plot(self):\n",
    "        from mpl_toolkits import mplot3d\n",
    "        import numpy as np\n",
    "        import matplotlib.pyplot as plt\n",
    "\n",
    "        fig = plt.figure()\n",
    "        ax = plt.axes(projection='3d')\n",
    "        xyz = self.transform(to='physical').state\n",
    "        ax.plot3D(xyz[:,0], xyz[:, 1], xyz[:, 2], 'gray')\n",
    "        plt.show()\n"
   ]
  },
  {
   "cell_type": "code",
   "execution_count": 20,
   "id": "editorial-december",
   "metadata": {},
   "outputs": [],
   "source": [
    "fake_xyz = np.concatenate((np.cos(2*pi/8 *np.arange(8))[:, None],\n",
    "                           np.cos(2*pi/8 *np.arange(8))[:, None],\n",
    "                           np.sin(2*pi/8 *np.arange(8))[:, None]), axis=1)"
   ]
  },
  {
   "cell_type": "code",
   "execution_count": 27,
   "id": "regional-registrar",
   "metadata": {},
   "outputs": [],
   "source": [
    "orbit = TestOrbit(state=fake_xyz, basis=\"physical\")"
   ]
  },
  {
   "cell_type": "markdown",
   "id": "czech-click",
   "metadata": {},
   "source": [
    "To check the transforms, let's look at the non-zero modes and how they\n",
    "arrange real, imaginary components. Because of how the dummy trajectory\n",
    "was made, there should only be 1 nonzero component per coordinate; imaginary\n",
    "corresponds to sine, real corresponds to cosine."
   ]
  },
  {
   "cell_type": "code",
   "execution_count": 28,
   "id": "defined-pursuit",
   "metadata": {},
   "outputs": [
    {
     "data": {
      "image/png": "[encoded data removed]",
      "text/plain": [
       "<Figure size 432x288 with 2 Axes>"
      ]
     },
     "metadata": {
      "needs_background": "light"
     },
     "output_type": "display_data"
    }
   ],
   "source": [
    "plt.figure()\n",
    "plt.imshow(orbit.transform(to='spectral').state)\n",
    "plt.colorbar()\n",
    "plt.xticks((0, 1, 2), labels=('x', 'y', 'z'))\n",
    "plt.yticks(range(7), (0, 1, 2, 3, 1, 2, 3))\n",
    "plt.show()"
   ]
  },
  {
   "cell_type": "code",
   "execution_count": 31,
   "id": "contemporary-spanking",
   "metadata": {},
   "outputs": [],
   "source": [
    "orbit = orbit.populate(attr='parameters')"
   ]
  },
  {
   "cell_type": "markdown",
   "id": "offensive-dealer",
   "metadata": {},
   "source": [
    "We can now plot in 3-d! "
   ]
  },
  {
   "cell_type": "code",
   "execution_count": 33,
   "id": "accredited-explosion",
   "metadata": {
    "scrolled": true
   },
   "outputs": [
    {
     "data": {
      "image/png": "[encoded data removed]",
      "text/plain": [
       "<Figure size 432x288 with 1 Axes>"
      ]
     },
     "metadata": {
      "needs_background": "light"
     },
     "output_type": "display_data"
    }
   ],
   "source": [
    "orbit.plot()"
   ]
  },
  {
   "cell_type": "code",
   "execution_count": 34,
   "id": "three-organ",
   "metadata": {},
   "outputs": [
    {
     "data": {
      "text/plain": [
       "array([[ 1.00000000e+00],\n",
       "       [ 1.00000000e+00],\n",
       "       [ 0.00000000e+00],\n",
       "       [ 7.07106781e-01],\n",
       "       [ 7.07106781e-01],\n",
       "       [ 7.07106781e-01],\n",
       "       [ 6.12323400e-17],\n",
       "       [ 6.12323400e-17],\n",
       "       [ 1.00000000e+00],\n",
       "       [-7.07106781e-01],\n",
       "       [-7.07106781e-01],\n",
       "       [ 7.07106781e-01],\n",
       "       [-1.00000000e+00],\n",
       "       [-1.00000000e+00],\n",
       "       [ 1.22464680e-16],\n",
       "       [-7.07106781e-01],\n",
       "       [-7.07106781e-01],\n",
       "       [-7.07106781e-01],\n",
       "       [-1.83697020e-16],\n",
       "       [-1.83697020e-16],\n",
       "       [-1.00000000e+00],\n",
       "       [ 7.07106781e-01],\n",
       "       [ 7.07106781e-01],\n",
       "       [-7.07106781e-01],\n",
       "       [ 5.31165709e+01],\n",
       "       [ 1.00000000e+01],\n",
       "       [ 2.80000000e+01],\n",
       "       [ 2.66666667e+00]])"
      ]
     },
     "execution_count": 34,
     "metadata": {},
     "output_type": "execute_result"
    }
   ],
   "source": [
    "orbit.orbit_vector()"
   ]
  },
  {
   "cell_type": "code",
   "execution_count": null,
   "id": "subsequent-overall",
   "metadata": {},
   "outputs": [],
   "source": []
  },
  {
   "cell_type": "code",
   "execution_count": null,
   "id": "introductory-breach",
   "metadata": {},
   "outputs": [],
   "source": []
  },
  {
   "cell_type": "code",
   "execution_count": null,
   "id": "anticipated-commodity",
   "metadata": {},
   "outputs": [],
   "source": []
  }
 ],
 "metadata": {
  "kernelspec": {
   "display_name": "Python 3",
   "language": "python",
   "name": "python3"
  },
  "language_info": {
   "codemirror_mode": {
    "name": "ipython",
    "version": 3
   },
   "file_extension": ".py",
   "mimetype": "text/x-python",
   "name": "python",
   "nbconvert_exporter": "python",
   "pygments_lexer": "ipython3",
   "version": "3.7.6"
  }
 },
 "nbformat": 4,
 "nbformat_minor": 5
}
