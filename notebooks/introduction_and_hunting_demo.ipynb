{
 "cells": [
  {
   "cell_type": "code",
   "execution_count": 1,
   "metadata": {},
   "outputs": [],
   "source": [
    "import sys\n",
    "sys.path.insert(0, \"C:\\\\Users\\\\Matt\\\\Desktop\\\\orbithunter\\\\\")\n",
    "from orbithunter import *\n",
    "import numpy as np\n",
    "import matplotlib.pyplot as plt\n",
    "from math import pi"
   ]
  },
  {
   "cell_type": "markdown",
   "metadata": {},
   "source": [
    "This notebook walksthough the basics of the orbithunter package, for the implementation by Matthew Gudorf for the spatiotemporal Kuramoto-Sivashinsky equation (the original purpose/foundation).\n",
    "\n",
    "# orbithunter\n",
    "\n",
    "The point of this package is to provide an interface and framework for solving chaotic, nonlinear partial differential equations in a spatiotemporal manner which does not have the pitfall of exponentially dynamical instabilities, because there are no dynamics. The unstable PDE, which is typically solve in terms of spatial Fourier modes as tower of ODEs, is replaced in full by a system of differential algebraic equations. This formulation allows the equations to determine the spatiotemporal\n",
    "domain size (including spatial dimensions) instead of fixing them. This is believed to be a much more natural representation because of invariance to spatiotemporal translations.\n",
    "\n",
    "This walkthrough demonstrates the user friendliness of the orbithunter package as well as its utility in finding (\"unstable\") periodic orbits of the Kuramoto-Sivashinsky equation. "
   ]
  },
  {
   "cell_type": "markdown",
   "metadata": {},
   "source": [
    "### Introduction to the OrbitKS class and its subclasses.\n",
    "\n",
    "Each spatiotemporal solution to the KSE is a scalar spatiotemporal velocity field $u(t,x)$ which satisfies the equation\n",
    "\\begin{equation}\n",
    "F(u) = u_t + u_{xx}+ u_{xxxx} + \\frac{1}{2}\\partial_x u^2 = 0\n",
    "\\end{equation}"
   ]
  },
  {
   "cell_type": "markdown",
   "metadata": {},
   "source": [
    "These solutions, or initial conditions with which to find solutions, are represented via Python class objects (object oriented programming). There are a number of symmetries that the solutions are equivariant under, meaning that the application of the group operations maintain a scalar field's status as a solution. These objects represent two dimensional discretizations of $u$. orbithunter takes the opinion that to exactly define a solution the following information is required: the spatiotemporal dimensions of the spatiotemporal domain or 'tile', the discretization size, and the field values corresponding to this discretization size."
   ]
  },
  {
   "cell_type": "markdown",
   "metadata": {},
   "source": [
    "#### Creating initial conditions for periodic orbits.\n",
    "Again, the user friendliness and compatibility with jupyter notebooks has been maximized. \n",
    "This makes demonstration via notebooks especially easy. \n",
    "\n",
    "If the user does not have access to any saved orbits, initial guesses can be created in various ways.\n",
    "If the user desires more control, they can pass a custom ```state``` tensor, its current basis, and parameters i.e.\n",
    "\n",
    "```orbit_ = OrbitKS(state=user_generated_array, basis=basis_of_user_generated_array, parameters=(T, L, 0))```\n",
    "\n",
    "If the user does not want to create a custom state then the previous statement is adjusted accordingly; control\n",
    "of the parameters is independent of the state such that\n",
    "\n",
    "```orbit_ = OrbitKS(parameters=(T, L, 0))``` OR ```orbit_ = OrbitKS()``` are both valid.\n",
    "\n",
    "Whatever variables are not specified are randomly generated as non-zero values (when applicable; equilibria maintain ```T=0```)\n",
    "If the state is being randomly generated then the user can select a modulation strategy for the mode spectrum from the following: \n",
    "\n",
    "```('gaussian', 'linear', 'piecewise-exponential', 'exponential', 'random')```\n",
    "\n",
    "The default, gaussian modulation, obeys the following formula\n",
    "\n",
    "\\begin{equation}\n",
    "(gaussian)_{jk} \\equiv \\exp\\Big(-\\frac{1}{2}\\frac{(k-\\mu_x)^2}{\\sigma_x^2}-\\frac{1}{2}\\frac{(j-\\mu_t)^2}{\\sigma_t^2}\\Big) \n",
    "\\end{equation}\n",
    "\n",
    "where the default values of $\\mu$ and $\\sigma$ are motivated by physical scales, $\\mu_x \\approx \\frac{L}{2\\pi\\sqrt(2)}, \\mu_t \\approx 20$\n",
    "\n",
    "To randomly initialize a field state (via a number of different methods), call the class constructor without any input to the \"state\" field. Also, the string pertaining to the current basis of the \"state\" information is required. This method will also generate random floating point values for the dimension, which exist within a certain range (from small to medium / large-ish domains). The representation of this object in Python displays all of this information, other than the state because this is too large to print while also maintaining its utility. The default discretization is based on heuristics based on the dimensions."
   ]
  },
  {
   "cell_type": "code",
   "execution_count": 2,
   "metadata": {
    "scrolled": true
   },
   "outputs": [
    {
     "name": "stdout",
     "output_type": "stream",
     "text": [
      "OrbitKS({\"basis\": \"modes\", \"parameters\": [\"107.8102\", \"40.349\", \"0\"], \"field_shape\": [\"64\", \"64\"]})\n"
     ]
    }
   ],
   "source": [
    "# for reproducibility, provide a random seed to the generation process.\n",
    "orbit_example = OrbitKS(seed=0)\n",
    "print(repr(orbit_example))"
   ]
  },
  {
   "cell_type": "markdown",
   "metadata": {},
   "source": [
    "These Orbit class instances have many many methods afforded to them, hence their utility. Let's work through some basics. To plot and display the (padded) field, simply use the plot method."
   ]
  },
  {
   "cell_type": "code",
   "execution_count": 3,
   "metadata": {},
   "outputs": [
    {
     "data": {
      "text/plain": [
       "['AntisymmetricOrbitKS',\n",
       " 'EquilibriumOrbitKS',\n",
       " 'OrbitKS',\n",
       " 'RelativeEquilibriumOrbitKS',\n",
       " 'RelativeOrbitKS',\n",
       " 'ShiftReflectionOrbitKS',\n",
       " '__all__',\n",
       " '__builtins__',\n",
       " '__cached__',\n",
       " '__doc__',\n",
       " '__file__',\n",
       " '__loader__',\n",
       " '__name__',\n",
       " '__package__',\n",
       " '__path__',\n",
       " '__spec__',\n",
       " 'arrayops',\n",
       " 'calculate_spatial_shift',\n",
       " 'check_symbolic_log',\n",
       " 'clip',\n",
       " 'clipping',\n",
       " 'continuation',\n",
       " 'converge',\n",
       " 'convergence_log',\n",
       " 'convert_class',\n",
       " 'core',\n",
       " 'dimension_continuation',\n",
       " 'discretization',\n",
       " 'discretization_continuation',\n",
       " 'generate_symbol_arrays',\n",
       " 'glue',\n",
       " 'gluing',\n",
       " 'gudhi_distance',\n",
       " 'gudhi_plot',\n",
       " 'integration',\n",
       " 'io',\n",
       " 'kse_integrate',\n",
       " 'mask_orbit',\n",
       " 'optimize',\n",
       " 'orbit_complex',\n",
       " 'orbit_ks',\n",
       " 'orbit_persistence',\n",
       " 'parameter_based_discretization',\n",
       " 'parse_class',\n",
       " 'persistent_homology',\n",
       " 'read_h5',\n",
       " 'rediscretize',\n",
       " 'rediscretize_tiling_dictionary',\n",
       " 'refurbish_log',\n",
       " 'so2_coefficients',\n",
       " 'so2_generator',\n",
       " 'swap_modes',\n",
       " 'symbolic_convergence_log',\n",
       " 'tile']"
      ]
     },
     "execution_count": 3,
     "metadata": {},
     "output_type": "execute_result"
    }
   ],
   "source": [
    "import orbithunter as oh\n",
    "dir(oh)"
   ]
  },
  {
   "cell_type": "code",
   "execution_count": null,
   "metadata": {},
   "outputs": [],
   "source": [
    "example_orbit = OrbitKS(seed=5, parameters=(100, 100, 0.), M=96).rescale(3.5)\n",
    "example_orbit.plot()"
   ]
  },
  {
   "cell_type": "code",
   "execution_count": 5,
   "metadata": {},
   "outputs": [
    {
     "data": {
      "text/plain": [
       "OrbitKS({\"basis\": \"modes\", \"parameters\": [\"100.0\", \"100.0\", \"0\"], \"field_shape\": [\"64\", \"128\"]})"
      ]
     },
     "execution_count": 5,
     "metadata": {},
     "output_type": "execute_result"
    }
   ],
   "source": [
    "example_orbit"
   ]
  },
  {
   "cell_type": "code",
   "execution_count": 6,
   "metadata": {},
   "outputs": [],
   "source": [
    "?example_orbit.plot"
   ]
  },
  {
   "cell_type": "markdown",
   "metadata": {},
   "source": [
    "There are a large number of extra parameters that can be specified; the philosophy is to utilize \"keyword arguments\" or kwargs\n",
    "for short, to maintain readability. The docstring for all methods can be accessed by the following command in jupyter: ***NOTE THE LACK OF PARENTHESES***"
   ]
  },
  {
   "cell_type": "markdown",
   "metadata": {},
   "source": [
    "There are many ways that initial conditions can be constructed, there are four templates provided for OrbitKS and its subclasses. These options are ```['random', 'gaussian', 'piecewise_exponential', 'exponential', 'linear']``` The names pertain to the type of mollifier that modulates the spatiotemporal modes. This is better demonstrated via plotting"
   ]
  },
  {
   "cell_type": "markdown",
   "metadata": {},
   "source": [
    "As can be seen, It will benefit us to use an actual solution to the equations, not some arbitrary field. To find a solution starting from an initial condition, we use the \"converge\" function. Let's use the Gaussian spectrum scaling, rescaling the field first to a \"better\" magnitude. "
   ]
  },
  {
   "cell_type": "markdown",
   "metadata": {},
   "source": [
    "The converge function minimizes the cost function $\\frac{1}{2}|F|^2$ where vertical bars represent the $L_2$ norm. To increase viability a number of numerical methods have been \"wrapped\" in order to handle orbit instances. These ***do not*** represent an exhaustive list, and a future goal is to improve the gradient descent via Nesterov acceleration (or similar methods). \n",
    "\n",
    "The default behavior is to use a hybrid method composed of (preconditioned) gradient descent and a direct least squares solver. The latter of these two methods is only afforded to Orbit's with small discretization sizes (hence why the random initial condition generator did not include all possible values). Like every other method, there are a large number of options. The most relevant here determine the numerical method used, the precision required to define convergence, the maximum number of iterations, etc."
   ]
  },
  {
   "cell_type": "code",
   "execution_count": 7,
   "metadata": {},
   "outputs": [],
   "source": [
    "?converge"
   ]
  },
  {
   "cell_type": "code",
   "execution_count": 8,
   "metadata": {},
   "outputs": [
    {
     "data": {
      "text/plain": [
       "OrbitKS({\"basis\": \"modes\", \"parameters\": [\"100.0\", \"100.0\", \"0\"], \"field_shape\": [\"64\", \"128\"]})"
      ]
     },
     "execution_count": 8,
     "metadata": {},
     "output_type": "execute_result"
    }
   ],
   "source": [
    "example_orbit"
   ]
  },
  {
   "cell_type": "code",
   "execution_count": null,
   "metadata": {},
   "outputs": [
    {
     "name": "stdout",
     "output_type": "stream",
     "text": [
      "Starting gradient descent. Initial residual=847.552508348444, target=8.192e-06, max_iter=46080\n",
      "#################################################\n",
      " Residual=117.2443765 after 5000 gradient descent iterations. Current parameter values:(100.02352506050698, 100.11183729445098, 0)\n",
      "#################################################\n",
      " Residual=54.1241204 after 10000 gradient descent iterations. Current parameter values:(100.03877407172463, 99.57081884688421, 0)\n",
      "#################################################\n",
      " Residual=34.2294756 after 15000 gradient descent iterations. Current parameter values:(100.05276972073261, 99.24692843027923, 0)\n",
      "#################################################\n",
      " Residual=26.0172278 after 20000 gradient descent iterations. Current parameter values:(100.06604008762272, 99.06650889330696, 0)\n",
      "#################################################\n",
      " Residual=21.8899206 after 25000 gradient descent iterations. Current parameter values:(100.07880222215192, 98.97066297278388, 0)\n",
      "#################################################\n",
      " Residual=19.4916094 after 30000 gradient descent iterations. Current parameter values:(100.09117294328992, 98.92500516851538, 0)\n",
      "#################################################\n",
      " Residual=17.9456816 after 35000 gradient descent iterations. Current parameter values:(100.10322582374862, 98.91030947452728, 0)\n",
      "#################################################\n",
      " Residual=16.8701430 after 40000 gradient descent iterations. Current parameter values:(100.11501076753994, 98.9156896008164, 0)\n",
      "#################################################\n",
      " Residual=16.0760015 after 45000 gradient descent iterations. Current parameter values:(100.12656293707022, 98.93475219188383, 0)\n",
      "##########\n",
      "Starting lstsq. Initial residual=15.930204228934882, target=8.192e-06\n",
      "######################### Residual=12.2910532 after 25 lstsq iterations\n",
      "#############"
     ]
    }
   ],
   "source": [
    "converge_result = converge(example_orbit, verbose=True, preconditioning=False, method='hybrid', ftol=0)"
   ]
  },
  {
   "cell_type": "code",
   "execution_count": null,
   "metadata": {},
   "outputs": [],
   "source": [
    "converge_result.orbit.plot()\n",
    "c_orbit = converge_result.orbit"
   ]
  },
  {
   "cell_type": "code",
   "execution_count": null,
   "metadata": {},
   "outputs": [],
   "source": [
    "converge_result = converge(example_orbit, verbose=True, preconditioning=False, method='hybrid', ftol=0)"
   ]
  },
  {
   "cell_type": "markdown",
   "metadata": {},
   "source": [
    "With this converged orbit, let's see what kinds of operations are made easy by orbithunter. First differentiation. This is a class dependent method, so dx() and dt() are not required for the parent method. However, to compute the spatiotemporal mapping differentiation will always be required, so use your imagination for whatever you would call your derivative methods. "
   ]
  },
  {
   "cell_type": "code",
   "execution_count": 59,
   "metadata": {},
   "outputs": [],
   "source": [
    "single_line = converge(rediscretize(convert_class(co_, RelativeOrbitKS).rotate(1,axis=1).reflection(), new_shape=(64,64)), method='hybrid').orbit"
   ]
  },
  {
   "cell_type": "code",
   "execution_count": 32,
   "metadata": {},
   "outputs": [
    {
     "data": {
      "image/png": "[encoded data removed]",
      "text/plain": [
       "<Figure size 96.4653x275.976 with 2 Axes>"
      ]
     },
     "metadata": {
      "needs_background": "light"
     },
     "output_type": "display_data"
    }
   ],
   "source": [
    "single_line.plot()"
   ]
  },
  {
   "cell_type": "code",
   "execution_count": 54,
   "metadata": {},
   "outputs": [],
   "source": [
    "test_int = kse_integrate(single_line)"
   ]
  },
  {
   "cell_type": "code",
   "execution_count": 52,
   "metadata": {},
   "outputs": [
    {
     "data": {
      "text/plain": [
       "RelativeOrbitKS({\"state_type\": \"field\", \"parameters\": [\"1.025e+02\", \"2.283e+01\", \"-6.693e-02\"], \"field_shape\": [\"64\", \"64\"]})"
      ]
     },
     "execution_count": 52,
     "metadata": {},
     "output_type": "execute_result"
    }
   ],
   "source": [
    "single_line.dx().dt().convert(to='field')"
   ]
  },
  {
   "cell_type": "markdown",
   "metadata": {},
   "source": [
    "The main purpose of this package is to formulate and study turbulence in a spatiotemporal manner, i.e. Physics. I currently have the relavant Physics functions in a file separate from the class files, but they are class specific and so this is arguably wrong. "
   ]
  },
  {
   "cell_type": "code",
   "execution_count": 22,
   "metadata": {},
   "outputs": [
    {
     "data": {
      "text/plain": [
       "array([0.03596948, 0.03542809, 0.03477134, 0.03402446, 0.03321617,\n",
       "       0.03237751, 0.03154073, 0.03073798, 0.0300001 , 0.02935546,\n",
       "       0.02882882, 0.02844043, 0.02820521, 0.0281322 , 0.02822421,\n",
       "       0.0284777 , 0.02888292, 0.02942431, 0.03008107, 0.03082794,\n",
       "       0.03163624, 0.03247489, 0.03331168, 0.03411443, 0.03485231,\n",
       "       0.03549695, 0.03602359, 0.03641198, 0.0366472 , 0.0367202 ,\n",
       "       0.0366282 , 0.03637471, 0.03596948, 0.03542809, 0.03477134,\n",
       "       0.03402446, 0.03321617, 0.03237751, 0.03154073, 0.03073798,\n",
       "       0.0300001 , 0.02935546, 0.02882882, 0.02844043, 0.02820521,\n",
       "       0.0281322 , 0.02822421, 0.0284777 , 0.02888292, 0.02942431,\n",
       "       0.03008107, 0.03082794, 0.03163624, 0.03247489, 0.03331168,\n",
       "       0.03411443, 0.03485231, 0.03549695, 0.03602359, 0.03641198,\n",
       "       0.0366472 , 0.0367202 , 0.0366282 , 0.03637471])"
      ]
     },
     "execution_count": 22,
     "metadata": {},
     "output_type": "execute_result"
    }
   ],
   "source": [
    "ks.kse_energy(orbit_, average='space')"
   ]
  }
 ],
 "metadata": {
  "kernelspec": {
   "display_name": "Python 3",
   "language": "python",
   "name": "python3"
  },
  "language_info": {
   "codemirror_mode": {
    "name": "ipython",
    "version": 3
   },
   "file_extension": ".py",
   "mimetype": "text/x-python",
   "name": "python",
   "nbconvert_exporter": "python",
   "pygments_lexer": "ipython3",
   "version": "3.7.6"
  }
 },
 "nbformat": 4,
 "nbformat_minor": 4
}
