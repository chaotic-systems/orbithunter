{
 "cells": [
  {
   "cell_type": "code",
   "execution_count": 1,
   "metadata": {
    "scrolled": true
   },
   "outputs": [],
   "source": [
    "import os\n",
    "import sys\n",
    "import numpy as np\n",
    "import itertools\n",
    "import matplotlib.pyplot as plt\n",
    "from math import pi\n",
    "sys.path.insert(0, \"C:\\\\Users\\\\Matt\\\\Desktop\\\\orbithunter\\\\\")\n",
    "import orbithunter as orb\n",
    "import inspect\n",
    "import orbithunter.ks as ks\n",
    "import h5py\n",
    "import time\n",
    "import matplotlib.pyplot as plt \n",
    "from matplotlib import gridspec\n",
    "import pandas as pd"
   ]
  },
  {
   "cell_type": "markdown",
   "metadata": {},
   "source": [
    "# Covering space-time, an investigation.\n",
    "\n",
    "\n",
    "# Table of contents\n",
    "<a id='toc'></a>\n",
    "\n",
    "## [A. Function declarations](#func)\n",
    "\n",
    "## [B. Glossary](#glossary)\n",
    "\n",
    "## [1. Introduction](#intro)\n",
    "\n",
    "## [2. Family overlap](#family)\n",
    "\n",
    "## [3. Group orbit overlap](#grouporbit)\n",
    "    \n",
    "## [4. Minimal covers](#minimal)\n",
    "\n",
    "###  [4.a fundamental_domain==False](#minimal0)\n",
    "###  [4.b fundamental_domain==True](#minimal1)\n",
    "\n",
    "## [5. Current difficulties](#results)\n"
   ]
  },
  {
   "cell_type": "markdown",
   "metadata": {},
   "source": [
    "<a id='func'></a>\n",
    "# A. Function declarations.\n",
    "Some of these are deprecated; work in progress"
   ]
  },
  {
   "cell_type": "code",
   "execution_count": 2,
   "metadata": {},
   "outputs": [],
   "source": [
    "def minimal_covering_set(covering, base, windows, cover_threshold, strides=(1,1), verbose=True, dtype=int):\n",
    "    \"\"\" Find the smallest number of masks which cover a specified proportion of the total cover area.\"\"\"\n",
    "    assert cover_threshold < 1, 'cover threshold must be provided as a float between (0, 1).'\n",
    "    total_mask = covering.any(axis=0)\n",
    "    area_covered = total_mask.astype(bool).sum()\n",
    "    # Find the orbit mask with the largest covering.\n",
    "    sites_covered = covering.sum(axis=tuple(range(1, len(covering.shape))))\n",
    "    minimal_indices = []\n",
    "    max_area_cover_index = np.argmin(sites_covered)\n",
    "    minimal_cover_mask_indices = np.zeros(covering.shape[0], dtype=bool)\n",
    "    minimal_cover_mask_indices[max_area_cover_index] = True\n",
    "    cover_percentage = covering[minimal_cover_mask_indices, ...].any(axis=0).astype(bool).sum() / total_mask.astype(bool).sum()\n",
    "    # If the cover percentage is less than the provided threshold, then look for more masks to add.\n",
    "    \n",
    "    if verbose:\n",
    "        print(sum(minimal_cover_mask_indices), cover_percentage)\n",
    "    percentages = []\n",
    "    percentages.append(cover_percentage)\n",
    "    while cover_percentage < cover_threshold:\n",
    "        # the next mask best mask is the one which covers the most area not covered by the current mask. \n",
    "        orthogonalities = []\n",
    "        # The current union of masks included\n",
    "        minimal_cover = covering[minimal_cover_mask_indices, ...].any(axis=0)\n",
    "        # The current masks not included. \n",
    "        complement_cover = covering[np.invert(minimal_cover_mask_indices), ...]\n",
    "        # Use broadcasting to get the intersection with each excluded mask.\n",
    "        currently_uncovered = (complement_cover & ~minimal_cover)\n",
    "        # Find the next best mask to add by totaling the number of points it covers which are not in minimal cover yet. \n",
    "        next_greatest_contribution = np.argmax(currently_uncovered.sum(axis=tuple(range(1, len(base.shape)+1))))\n",
    "        # demarcate the newer member of the cover. \n",
    "        minimal_cover_mask_indices[next_greatest_contribution] = True\n",
    "        \n",
    "\n",
    "        # Calculate the amount of area covered with inclusion of the next mask. \n",
    "        cover_percentage = (covering[minimal_cover_mask_indices, ...].astype(bool).any(axis=0).sum() \n",
    "                            / total_mask.astype(bool).sum())\n",
    "        percentages.append(cover_percentage)\n",
    "        if verbose:\n",
    "            print(sum(minimal_cover_mask_indices), cover_percentage)\n",
    "    return minimal_cover_mask_indices, percentages\n",
    "        \n",
    "def plot_covering_families(covering, base, windows, verbose=True, figsize=(6,6)):\n",
    "    \"\"\" Given a covering, plot its constituents or plot its union, w\"\"\"\n",
    "\n",
    "    covering_percentages = []\n",
    "    for mask_key in covering:\n",
    "        if covering[mask_key].shape != base.shape:\n",
    "            covering_mask = scanning_mask(covering[mask_key], base, windows[int(mask_key)], strides)\n",
    "        else:\n",
    "            covering_mask = covering[mask_key]\n",
    "        bool_mask = covering_mask.astype(bool).copy()\n",
    "        bool_mask[bool_mask!=0]=1\n",
    "        covering_percentage = covering_mask.astype(bool).sum()/covering_mask.size\n",
    "        print('{}% space-time covered by orbit {}'.format(100*covering_percentage, mask_key))\n",
    "        fig = plt.figure(figsize=figsize) \n",
    "        gs = gridspec.GridSpec(1, 2, width_ratios=[1, 5]) \n",
    "        ax0 = plt.subplot(gs[0])\n",
    "        ax0.imshow(windows[int(mask_key)].state, cmap='jet')\n",
    "        ax1 = plt.subplot(gs[1])\n",
    "        im = ax1.imshow(np.ma.masked_array(base.state, mask=np.invert(bool_mask.astype(bool))), cmap='jet')\n",
    "        _ = plt.show()\n",
    "        _ = plt.close()\n",
    "        print('##############')\n",
    "        \n",
    "def plot_covering_union(covering, base, windows, strides=(1,1), verbose=True, figsize=(6,6)):\n",
    "        covering_mask = covering_union(covering, base, windows, strides)\n",
    "        bool_mask = covering_mask.astype(bool).copy()\n",
    "        bool_mask[bool_mask!=0]=1\n",
    "#         base.plot(figsize=figsize)\n",
    "#         base.__class__(state=np.ma.masked_array(base.state, mask=bool_mask, fill_value=np.nan),\n",
    "#                                      basis='field', parameters=base.parameters).plot(figsize=figsize)\n",
    "        base.__class__(state=np.ma.masked_array(base.state, mask=np.invert(bool_mask.astype(bool)), fill_value=np.nan),\n",
    "                                     basis='field', parameters=base.parameters).plot(figsize=figsize)"
   ]
  },
  {
   "cell_type": "code",
   "execution_count": 3,
   "metadata": {},
   "outputs": [],
   "source": [
    "from ipywidgets import interact, interactive, fixed, interact_manual, HBox, VBox, widgets\n",
    "# import plotly.graph_objs as go\n",
    "import plotly.offline as py\n",
    "import chart_studio.plotly as plotly\n",
    "import seaborn as sns\n",
    "import mpl_toolkits.mplot3d.art3d as art3d\n",
    "from plotly.graph_objects import *\n",
    "import matplotlib.pyplot as plt \n",
    "from matplotlib import gridspec\n",
    "\n",
    "def covering_factors(scores, masks, base, windows, invert=True, figsize=(16,16)):\n",
    "    \"\"\" Given a covering, plot its constituents or plot its union, w\"\"\"\n",
    "    def update(orbit):\n",
    "        fig = plt.figure(figsize=figsize) \n",
    "        gs = gridspec.GridSpec(3, 3, width_ratios=[1, 10, 10], height_ratios=[1, 10, 10]) \n",
    "        ax0 = plt.subplot(gs[:, 0])    \n",
    "        ax1 = plt.subplot(gs[:, 1])\n",
    "        ax2 = plt.subplot(gs[:, 2])\n",
    "        ax0.imshow(windows[orbit].state, cmap='jet')\n",
    "        im1 = ax1.imshow(base.mask(masks[orbit], invert=invert).state, cmap='jet')\n",
    "        im2 = ax2.imshow(scores[orbit], cmap='jet')\n",
    "        ax0.axis('off')\n",
    "        ax1.set_xticklabels('')\n",
    "        ax1.set_yticklabels('')\n",
    "        ax2.axis('off')\n",
    "        fig.colorbar(im2, ax=ax2, shrink=0.3)\n",
    "        fig.colorbar(im1, ax=ax1, shrink=0.3)\n",
    "        plt.show()\n",
    "    interact(update, orbit=widgets.IntSlider(min=0, max=min([scores.shape[0], masks.shape[0], len(windows)])-1, step=1, value=0));"
   ]
  },
  {
   "cell_type": "markdown",
   "metadata": {},
   "source": [
    "<a id='glossary'></a>\n",
    "# B. Glossary.\n",
    "\n",
    "\n",
    "**Covering orbits** : The set of orbits whose shadowing constitutes the cover. \n",
    "\n",
    "**Cover** : The regions of space-time detected as shadowing of a set of periodic orbits, called the covering orbits.\n",
    "\n",
    "**Minimal covering orbits** : A subset of the covering orbits which reproduces a certain proportion of the cover. \n",
    "\n",
    "**Minimal cover**: The space-time shadowed by the orbits in the minimal covering set. \n",
    "\n",
    "**Family**: A collection of orbits which are all related by continuation\n",
    "\n",
    "**Group orbit**: The collection of equivariant orbits populated by applying symmetry operations to a single orbit, i.e. a single representative of a family. "
   ]
  },
  {
   "cell_type": "markdown",
   "metadata": {},
   "source": [
    "**[Return to table of contents](#toc)**\n",
    "\n",
    "<a id='intro'></a>\n",
    "# Introduction\n",
    "\n",
    "With results from ```continuation.ipynb```, ```shadowing.ipynb``` and ```shadowing_statistics.ipynb``` we can begin to test the covering process. Even in the context of the \"family\" method for calculating covering, if the number of group orbit members for each family member in the covering is large, the computations for a single family on a single domain can take a *very* long time. Therefore, it behooves us to determine a subset of group orbit members which provide the most efficient covering, in terms of computational time per area. The idea here being that more orbit family members likely only contribute to overlaps. \n",
    "\n",
    "So, the main objective before beginning the full covering computations (i.e. determining the area proportions and statistical averages) is to first work through the following list of tasks:\n",
    "\n",
    "    1. Determine an efficient number of members per family to use for covering\n",
    "    2. Determine an efficient number of group members per family member to use for covering\n",
    "    4. Determine how the different metrics affect these results \n",
    "\n",
    "The different metrics mentioned in this list include the $L_2$ norm of the difference between windows $|u-v|$, the \"amplitude difference\" $u^2-v^2$, and the bottleneck distance between persistence diagrams. Due to the pointwise nature of the first two metrics, it is likely that these will require many more group orbit members and family members than the bottleneck distance metric, which is topological in nature. While important, this last task of determining the best metric is covered only very briefly "
   ]
  },
  {
   "cell_type": "code",
   "execution_count": 4,
   "metadata": {},
   "outputs": [],
   "source": [
    "patch_samples = orb.read_h5(\"./data/large_patches.h5\", tuple(str(i)+'/' for i in list(range(1001))[::10]))"
   ]
  },
  {
   "cell_type": "code",
   "execution_count": 5,
   "metadata": {},
   "outputs": [
    {
     "data": {
      "image/png": "[encoded data removed]",
      "text/plain": [
       "<Figure size 225.769x198.495 with 2 Axes>"
      ]
     },
     "metadata": {
      "needs_background": "light"
     },
     "output_type": "display_data"
    }
   ],
   "source": [
    "windows = [x.transform(to='field') for x in orb.read_h5('./data/minimal_cover.h5')]\n",
    "base = orb.read_h5('./data/small_patches.h5', '0')\n",
    "large_patch = orb.read_h5('./data/large_patch.h5')\n",
    "base.plot()\n",
    "strides=(1,1)\n",
    "fundamental_windows = tuple([x.to_fundamental_domain() for x in windows])"
   ]
  },
  {
   "cell_type": "markdown",
   "metadata": {},
   "source": [
    "Import critical values; the specificity of each key is somewhat annoying but it is not worth the effort of making this better. "
   ]
  },
  {
   "cell_type": "code",
   "execution_count": 6,
   "metadata": {},
   "outputs": [],
   "source": [
    "strictness = 1\n",
    "critical_persistence_values = []\n",
    "with h5py.File('./data/critical_values.h5', 'r') as file:\n",
    "    critical_persistence_values.append(file['defect/bottleneck_distance_fundamental_domain'][...][strictness])\n",
    "    critical_persistence_values.append(file['drifter/bottleneck_distance_fundamental_domain'][...][strictness])\n",
    "    critical_persistence_values.append(file['large_defect/bottleneck_distance_fundamental_domain'][...][strictness])\n",
    "    critical_persistence_values.append(file['wiggle/bottleneck_distance_fundamental_domain'][...][strictness])\n",
    "\n",
    "critical_amp_diff_values = []\n",
    "with h5py.File('./data/critical_values.h5', 'r') as file:\n",
    "    critical_amp_diff_values.append(file['defect/amplitude_difference_fundamental_domain'][...][strictness])\n",
    "    critical_amp_diff_values.append(file['drifter/amplitude_difference_fundamental_domain'][...][strictness])\n",
    "    critical_amp_diff_values.append(file['large_defect/amplitude_difference_fundamental_domain'][...][strictness])\n",
    "    critical_amp_diff_values.append(file['wiggle/amplitude_difference_fundamental_domain'][...][strictness])\n",
    "\n",
    "critical_l2_diff_values = []\n",
    "with h5py.File('./data/critical_values.h5', 'r') as file:\n",
    "    critical_l2_diff_values.append(file['defect/l2_difference_fundamental_domain'][...][strictness])\n",
    "    critical_l2_diff_values.append(file['drifter/l2_difference_fundamental_domain'][...][strictness])\n",
    "    critical_l2_diff_values.append(file['large_defect/l2_difference_fundamental_domain'][...][strictness])\n",
    "    critical_l2_diff_values.append(file['wiggle/l2_difference_fundamental_domain'][...][strictness])"
   ]
  },
  {
   "cell_type": "code",
   "execution_count": 7,
   "metadata": {},
   "outputs": [
    {
     "data": {
      "image/png": "[encoded data removed]",
      "text/plain": [
       "<Figure size 65.1721x69.5308 with 2 Axes>"
      ]
     },
     "metadata": {
      "needs_background": "light"
     },
     "output_type": "display_data"
    },
    {
     "data": {
      "image/png": "[encoded data removed]",
      "text/plain": [
       "<Figure size 65.6515x69.9348 with 2 Axes>"
      ]
     },
     "metadata": {
      "needs_background": "light"
     },
     "output_type": "display_data"
    },
    {
     "data": {
      "image/png": "[encoded data removed]",
      "text/plain": [
       "<Figure size 80.3255x95.1634 with 2 Axes>"
      ]
     },
     "metadata": {
      "needs_background": "light"
     },
     "output_type": "display_data"
    },
    {
     "data": {
      "image/png": "[encoded data removed]",
      "text/plain": [
       "<Figure size 49.0859x71.8961 with 2 Axes>"
      ]
     },
     "metadata": {
      "needs_background": "light"
     },
     "output_type": "display_data"
    }
   ],
   "source": [
    "for x in fundamental_windows:\n",
    "    x.plot()"
   ]
  },
  {
   "cell_type": "markdown",
   "metadata": {},
   "source": [
    "[Return to table of contents](#toc)\n",
    "# Preliminary testing\n",
    "\n",
    "As a preliminary trial, run the covering routine with only a small set of covering orbits, not accounting for their\n",
    "symmetry group orbits or continuous families. This will give an idea as to whether it will be possible to cover the space. Each fundamental orbit has a discretization of (32, 32) even though they do not have the same dimensions; simply for uniformity. however rectangular and different discretization sizes in a single ```cover``` function are allowed if replacement=True. I thought that I could improve performance by caching values during the persistent homology calculations but when the number of values in memory gets too large it actually becomes faster to recompute rather than search for values in an array. \n",
    "\n",
    "This calculation is \"with replacement\". No replacement means that once a detection has been made at a site, it will be skipped over for future orbits in the covering set. This is a cumulative process which reduces the numbers of computations for each successive orbit. The motivation being that a region of space-time only shadows a single orbit at a time, by definition. \n",
    "However, because we actually want to look at the overlaps that occur, replacement will be left on.\n",
    "\n",
    "Overlaps are good and bad, depending on the context. They are bad when overlaps occur between different families, as the area which \"belongs\" to each family becomes undefined. Overlaps are good when they occur with respect to members of the same family and group orbits; this is an indication that the number of covering orbits can be reduced, because the information they provide is redundant. \n"
   ]
  },
  {
   "cell_type": "markdown",
   "metadata": {},
   "source": [
    "#### Metric comparison\n",
    "\n",
    "First, with a small patch, check the performance of the different metrics as a simple guide for which one to use for the preliminary testing. First, use  bottleneck distance between persistence diagrams. This requires a custom input for the\n",
    "scoring function; it must take base_slice, window orbits as its arguments, keyword arguments are allowed and it is\n",
    "highly recommended that computations which are relatively expensive and only need to be computed once (i.e. the metric\n",
    "is not pointwise) can be included using the ```window_cache``` keyword argument. To use ```window_cache```, a function\n",
    "which computes this quantity ```window_caching_function``` must be supplied to ```cover```."
   ]
  },
  {
   "cell_type": "markdown",
   "metadata": {},
   "source": [
    "If using absolute threshold and not density, then need to have windows entirely within the boundary. "
   ]
  },
  {
   "cell_type": "code",
   "execution_count": 8,
   "metadata": {},
   "outputs": [
    {
     "name": "stdout",
     "output_type": "stream",
     "text": [
      "--------------------\n",
      "Amplitude metric covering took 90.06 seconds to complete\n"
     ]
    }
   ],
   "source": [
    "t0ad=time.time_ns()/10**9\n",
    "\n",
    "oc1 = orb.OrbitCover(large_patch,\n",
    "                     fundamental_windows,\n",
    "                     critical_amp_diff_values,\n",
    "                     base_periodicity=(False, False),\n",
    "                     replacement=False,\n",
    "                     min_overlap = 1,\n",
    "                     scoring_function=orb.scoring_functions('amplitude'),\n",
    "                    )\n",
    "oc1 = orb.cover(oc1, verbose=True)\n",
    "t1ad=time.time_ns()/10**9\n",
    "print('\\nAmplitude metric covering took {:.2f} seconds to complete'.format(t1ad-t0ad))"
   ]
  },
  {
   "cell_type": "code",
   "execution_count": 9,
   "metadata": {},
   "outputs": [
    {
     "name": "stdout",
     "output_type": "stream",
     "text": [
      "-------------------\n",
      "L2 metric covering took 103.41 seconds to complete\n"
     ]
    }
   ],
   "source": [
    "t0l2=time.time_ns()/10**9\n",
    "oc2 = orb.OrbitCover(large_patch,\n",
    "                     fundamental_windows,\n",
    "                     critical_l2_diff_values,\n",
    "                     hull=None,\n",
    "                     core=None,\n",
    "                     mask=None,\n",
    "                     base_periodicity=(False, False),\n",
    "                     replacement=False,\n",
    "                               min_overlap = 1,\n",
    "                               scoring_function=orb.scoring_functions('l2')\n",
    "                    )\n",
    "\n",
    "oc2 = orb.cover(oc2, verbose=True)\n",
    "t1l2=time.time_ns()/10**9\n",
    "print('\\nL2 metric covering took {:.2f} seconds to complete'.format(t1l2-t0l2))"
   ]
  },
  {
   "cell_type": "code",
   "execution_count": 10,
   "metadata": {},
   "outputs": [],
   "source": [
    "import gudhi\n",
    "from orbithunter.persistent_homology import persistence_distance, orbit_persistence\n",
    "def persistence_from_numpy(array, **kwargs): \n",
    "    periodic_dimensions = kwargs.get('periodic_dimensions', tuple(len(array.shape)*[False]))\n",
    "    cubical_complex = gudhi.PeriodicCubicalComplex(dimensions=array.shape,\n",
    "                                                top_dimensional_cells=array.ravel(),\n",
    "                                                periodic_dimensions=(True, True))\n",
    "    persistence = cubical_complex.persistence(min_persistence=kwargs.get('min_persistence', 0))\n",
    "    if kwargs.get('persistence_format', 'numpy') == 'numpy':\n",
    "        return np.array([[x[0], x[1][0], x[1][1]] for x in persistence])\n",
    "    else:\n",
    "        return persistence\n",
    "def window_caching_function(window, **kwargs):\n",
    "    # The cached value to use within the scoring function must be calculated within the cover function when\n",
    "    # looping over the windows. \n",
    "    return orbit_persistence(window, **{'periodic_dimensions':(True, True), **kwargs})\n",
    "\n",
    "def persistence_score(base_slice, window_slice, **kwargs):\n",
    "    # Cache the window's persistence as it is constant regardless of the base slice.\n",
    "\n",
    "    if kwargs.get('window_cache', None) is None:\n",
    "        window_persistence = persistence_from_numpy(window_slice)\n",
    "    else:\n",
    "        window_persistence = kwargs.get('window_cache', None)\n",
    "    # To account for the fact that orbit types will usually be different.\n",
    "    return persistence_distance(persistence_from_numpy(base_slice, **kwargs), window_persistence, **kwargs)"
   ]
  },
  {
   "cell_type": "code",
   "execution_count": null,
   "metadata": {},
   "outputs": [
    {
     "name": "stdout",
     "output_type": "stream",
     "text": [
      "-"
     ]
    }
   ],
   "source": [
    "t0p=time.time_ns()/10**9\n",
    "pc = orb.OrbitCover(base, fundamental_windows, critical_persistence_values, hull=None, core=None,\n",
    "                 mask=None, base_periodicity=(False, False),\n",
    "                                             window_caching_function=window_caching_function,\n",
    ")\n",
    "                \n",
    "persistence_cover = orb.cover(pc, \n",
    "                              replacement=False,\n",
    "                              scoring_function=persistence_score,\n",
    "                              verbose=True,\n",
    "                              min_persistence=0.1,\n",
    "                              boundary_conditions=(True, True)\n",
    "                             )\n",
    "t1p=time.time_ns()/10**9\n",
    "print('\\nPersistence metric covering took {:.2f} seconds to complete'.format(t1p-t0p))"
   ]
  },
  {
   "cell_type": "code",
   "execution_count": null,
   "metadata": {},
   "outputs": [],
   "source": [
    "fig, axes = plt.subplots(1,3, figsize=(12,8))\n",
    "labels = ['bottleneck distance', 'amplitude difference', 'L2 distance']\n",
    "for ax, lab, covertuples in zip(axes.flatten(), labels,\n",
    "                               [pc, oc1, oc2]):\n",
    "    field = covertuples.trim().min(axis=0)\n",
    "    print(field.min())\n",
    "    im = ax.imshow(field.astype(float))\n",
    "    ax.set_xlabel(lab)\n",
    "_ = plt.show()\n",
    "_ = plt.close()"
   ]
  },
  {
   "cell_type": "markdown",
   "metadata": {},
   "source": [
    "Let's trim the excess padding "
   ]
  },
  {
   "cell_type": "markdown",
   "metadata": {},
   "source": [
    "Why is there a yellow triangle? The persistent homology based scoring assumes that the windows are periodic; this is actually a good assumption, as it means that aperiodic/dissimilar regions will be \"further away\" in the persistence diagram space. The\n",
    "region of high scores can be seen to be due to the large (negative) spatial translation velocity in that region. In other words, our windows could not capture the slanted-ness between approximately $t\\in[], x\\in[]$"
   ]
  },
  {
   "cell_type": "code",
   "execution_count": null,
   "metadata": {
    "scrolled": true
   },
   "outputs": [],
   "source": [
    "base.plot()"
   ]
  },
  {
   "cell_type": "code",
   "execution_count": null,
   "metadata": {},
   "outputs": [],
   "source": [
    "minimal_orbits = orb.read_h5('./data/minimal_cover.h5')\n",
    "base = orb.read_h5('./data/large_patches.h5', '0/')\n",
    "# base = orb.read_h5('./data/small_patches.h5', '0/')\n",
    "\n",
    "# Get the less strict thresholds\n",
    "strictness = 0\n",
    "critical_l2_diff_values = []\n",
    "with h5py.File('./data/critical_values.h5', 'r') as file:\n",
    "    critical_l2_diff_values.append(file['defect/l2_difference_mean_flow_correction'][...][strictness])\n",
    "    critical_l2_diff_values.append(file['drifter/l2_difference_mean_flow_correction'][...][strictness])\n",
    "    critical_l2_diff_values.append(file['large_defect/l2_difference_mean_flow_correction'][...][strictness])\n",
    "    critical_l2_diff_values.append(file['wiggle/l2_difference_mean_flow_correction'][...][strictness])\n",
    "\n",
    "critical_l2_diff_values_fd = []\n",
    "with h5py.File('./data/critical_values.h5', 'r') as file:\n",
    "    critical_l2_diff_values_fd.append(file['defect/l2_difference_mean_flow_correction_fundamental_domain'][...][strictness])\n",
    "    critical_l2_diff_values_fd.append(file['drifter/l2_difference_mean_flow_correction_fundamental_domain'][...][strictness])\n",
    "    critical_l2_diff_values_fd.append(file['large_defect/l2_difference_mean_flow_correction_fundamental_domain'][...][strictness])\n",
    "    critical_l2_diff_values_fd.append(file['wiggle/l2_difference_mean_flow_correction_fundamental_domain'][...][strictness])\n",
    "\n",
    "windows = [tuple(x.group_orbit(rolls=(12, 12), fundamental_domain=False)) for x in minimal_orbits]\n",
    "windows_fd = [tuple(x.group_orbit(rolls=(12, 12), fundamental_domain=True)) for x in minimal_orbits]\n",
    "windows_total = [x for y in windows+windows_fd for x in y]\n",
    "\n",
    "cvalues = [len(windows[i])*[critical_l2_diff_values[i]/windows[i][0].size] for i in range(len(windows))]\n",
    "cvalues_fd = [len(windows_fd[i])*[critical_l2_diff_values_fd[i]/windows_fd[i][0].size] for i in range(len(windows_fd))]\n",
    "cvalues = critical_l2_diff_values + critical_l2_diff_values_fd\n",
    "windows = minimal_orbits + [x.to_fundamental_domain() for x in minimal_orbits]\n",
    "window_keys = np.repeat(np.tile(np.array([[1,2,3,4]]),2), 18)    \n",
    "\n",
    "scrfunc = orb.scoring_functions('l2_density_mfc')\n",
    "\n",
    "t0l2=time.time_ns()/10**9\n",
    "lpc = orb.OrbitCover(base, windows, cvalues, hull=None, core=None,\n",
    "                     mask=None, base_periodicity=(False, True))\n",
    "lpc = orb.cover(lpc,\n",
    "                   replacement=False,\n",
    "                   min_overlap = 1,\n",
    "                   verbose=True)\n",
    "t1l2=time.time_ns()/10**9\n",
    "print('\\nL2 metric covering took {:.2f} seconds to complete'.format(t1l2-t0l2))\n",
    "\n",
    "fig, ax = plt.subplots(figsize=(12,12))\n",
    "im = ax.imshow(lpc.trim().min(axis=0))\n",
    "plt.colorbar(im, ax=ax)\n",
    "plt.show()"
   ]
  },
  {
   "cell_type": "code",
   "execution_count": null,
   "metadata": {},
   "outputs": [],
   "source": [
    "fig, ax = plt.subplots(subplot_kw={\"projection\": \"3d\"}, figsize=(10,10))\n",
    "\n",
    "sz = 32\n",
    "\n",
    "min_scores = lpc.scores.min(axis=0)\n",
    "minwindow = tuple(slice(x-(sz//2), x+(sz//2)) for x in np.unravel_index(min_scores.argmin(), min_scores.shape))\n",
    "window_around_minimum_score = lpc.scores.min(axis=0)[minwindow]\n",
    "\n",
    "# Make data.\n",
    "X = np.linspace(0, sz*large_patch.t/large_patch.n, 32)\n",
    "Y = np.linspace(0, sz*large_patch.x/large_patch.m, 32)\n",
    "X, Y = np.meshgrid(X, Y)\n",
    "Z = window_around_minimum_score\n",
    "\n",
    "# Plot the surface.\n",
    "surf = ax.plot_wireframe(X, Y, np.log(Z), alpha=0.5\n",
    "                      )\n",
    "ax.view_init(elev=0, azim=-90)\n",
    "ax.set_xlabel('x')\n",
    "ax.set_ylabel('t')\n",
    "ax.set_zlabel('log(Z)')\n",
    "plt.show()"
   ]
  },
  {
   "cell_type": "code",
   "execution_count": null,
   "metadata": {},
   "outputs": [],
   "source": [
    "fig, ax = plt.subplots(subplot_kw={\"projection\": \"3d\"}, figsize=(10,10))\n",
    "\n",
    "sz = 32\n",
    "\n",
    "min_scores = lpc.scores.min(axis=0)\n",
    "minwindow = tuple(slice(x-(sz//2), x+(sz//2)) for x in np.unravel_index(min_scores.argmin(), min_scores.shape))\n",
    "window_around_minimum_score = lpc.scores.min(axis=0)[minwindow]\n",
    "\n",
    "# Make data.\n",
    "X = np.linspace(0, sz*large_patch.t/large_patch.n, 32)\n",
    "Y = np.linspace(0, sz*large_patch.x/large_patch.m, 32)\n",
    "X, Y = np.meshgrid(X, Y)\n",
    "Z = window_around_minimum_score\n",
    "\n",
    "# Plot the surface.\n",
    "surf = ax.plot_wireframe(X, Y, np.log(Z), alpha=0.5\n",
    "                      )\n",
    "ax.view_init(elev=0, azim=0)\n",
    "ax.set_xlabel('x')\n",
    "ax.set_ylabel('t')\n",
    "ax.set_zlabel('log(Z)')\n",
    "plt.show()"
   ]
  },
  {
   "cell_type": "code",
   "execution_count": null,
   "metadata": {},
   "outputs": [],
   "source": [
    "plt.matshow(lpc.scores.min(axis=0)[minwindow])"
   ]
  },
  {
   "cell_type": "markdown",
   "metadata": {},
   "source": [
    "[Return to table of contents](#toc)\n",
    "# Methodology \n",
    "\n",
    "Plot the entire covering, both factorized and the union, and then compare with the \"minimal\" cover. Which\n",
    "computes the subset of elements which cover at least a user specified percentage of the *covered* area. **NOT** the total area,\n",
    "as clearly for \"bad\" covers this threshold may be unobtainable. If the cover threshold is too strict, then it is likely\n",
    "that the minimal covering set will be the entire cover; something to keep in mind."
   ]
  },
  {
   "cell_type": "code",
   "execution_count": null,
   "metadata": {},
   "outputs": [],
   "source": [
    "lpc.mask.shape"
   ]
  },
  {
   "cell_type": "code",
   "execution_count": null,
   "metadata": {},
   "outputs": [],
   "source": [
    "lpc.threshold().map()"
   ]
  },
  {
   "cell_type": "code",
   "execution_count": null,
   "metadata": {},
   "outputs": [],
   "source": [
    "plt.matshow(lpc.threshold().scores.min(axis=0))"
   ]
  },
  {
   "cell_type": "code",
   "execution_count": null,
   "metadata": {},
   "outputs": [],
   "source": [
    "lpc.threshold().scores.min(axis=0)"
   ]
  },
  {
   "cell_type": "code",
   "execution_count": null,
   "metadata": {},
   "outputs": [],
   "source": [
    "invert=True\n",
    "def update(orbit_index):\n",
    "    fig = plt.figure(figsize=(10,10)) \n",
    "    gs = gridspec.GridSpec(3, 3, width_ratios=[1, 10, 10], height_ratios=[1, 10, 10]) \n",
    "    ax0 = plt.subplot(gs[:, 0])    \n",
    "    ax1 = plt.subplot(gs[:, 1])\n",
    "    ax2 = plt.subplot(gs[:, 2])\n",
    "    ax0.imshow(windows[orbit_index].state, cmap='jet')\n",
    "    im1 = ax1.imshow(lpc.threshold().scores, cmap='jet')\n",
    "    im2 = ax2.imshow(lpc.scores[orbit_index], cmap='jet')\n",
    "    ax0.axis('off')\n",
    "    ax1.set_xticklabels('')\n",
    "    ax1.set_yticklabels('')\n",
    "    ax2.axis('off')\n",
    "    fig.colorbar(im2, ax=ax2, shrink=0.3)\n",
    "    fig.colorbar(im1, ax=ax1, shrink=0.3)\n",
    "    plt.show()\n",
    "interact(update, orbit_index=widgets.IntSlider(min=0, max=len(windows)-1, step=1, value=0));"
   ]
  },
  {
   "cell_type": "markdown",
   "metadata": {},
   "source": [
    "#### Plot of the union"
   ]
  },
  {
   "cell_type": "code",
   "execution_count": null,
   "metadata": {},
   "outputs": [],
   "source": [
    "amplitude_difference_cover[0].min()"
   ]
  },
  {
   "cell_type": "code",
   "execution_count": null,
   "metadata": {},
   "outputs": [],
   "source": [
    "plt.figure(figsize=(10, 10))\n",
    "plt.imshow(np.log10(np.abs(amplitude_difference_cover.min(axis=0)))\n",
    "           -np.roll(np.log10(np.abs(amplitude_difference_cover.min(axis=0))),1,axis=1))\n",
    "plt.colorbar()"
   ]
  },
  {
   "cell_type": "code",
   "execution_count": null,
   "metadata": {},
   "outputs": [],
   "source": [
    "covering_factors(amplitude_difference_cover[0], amplitude_difference_cover[-1], base, fundamental_windows, invert=True, figsize=(16,16))"
   ]
  },
  {
   "cell_type": "markdown",
   "metadata": {},
   "source": [
    "And now the \"minimal\" cover which covers at least 80% of the area covered in the plots above."
   ]
  },
  {
   "cell_type": "code",
   "execution_count": null,
   "metadata": {},
   "outputs": [],
   "source": [
    "cover_threshold=0.8\n",
    "minimal_covering, percentage = minimal_covering_set(amplitude_difference_cover[-1], base, fundamental_windows,\n",
    "                                                                            cover_threshold, strides=(1,1))\n",
    "\n",
    "\n",
    "covering_factors(amplitude_difference_cover[0][minimal_covering,...], amplitude_difference_cover[-1][minimal_covering,...], base, fundamental_windows, invert=True, figsize=(16,16))"
   ]
  },
  {
   "cell_type": "markdown",
   "metadata": {},
   "source": [
    "It seems that the $L_2$ difference is having a hard time distinguishing defects and the relative equilibrium solution. This is a problem, but one that is saved for later. This covering was performed with an incredible small set of windows. However, if I was to take this result to the end all and be all I would say the following. It seems hard to make detections where there seems to be local spatial drift velocity which is not built into the windows apriori. \n",
    "\n",
    "Unfortunately, spatial translation velocity of this type is only built into RelativeOrbitKS\n",
    "and currently the cover function only supports rectangular windows, not parallelepipeds. Therefore, I imagine these regions will be hard to cover with the current methods. The current idea for a work around would be to put a border around the paralleliped such that it is contained in a rectangular array and the border cancels out with the base orbit's field in that region, i.e. mask the border. Computed the pointwise metrics using an \"actual\" parallelipided would be hard I think, however I offer an alternative in the [results](#results) section."
   ]
  },
  {
   "cell_type": "markdown",
   "metadata": {},
   "source": [
    "[Return to table of contents](#toc)\n",
    "<a id='family'></a>\n",
    "## Overlap between subsampling of a single family. \n",
    "\n",
    "Calculate the covers with respect to the 149 different orbits in the large defect family; this takes approximately an hour and a half and so the covers are saved for later use. This uses a large trajectory, produced by time integration, which actually has spatial periodicity. While this takes an exceptional amount of time compared to the smaller base orbits, I believe it is necessary to get an accurate depiction of the number of overlaps. Additionally, the strictest tolerance is used, meaning that detections are expected 0.01% of the time, based on the previously computed distribution. Import these thresholds."
   ]
  },
  {
   "cell_type": "code",
   "execution_count": null,
   "metadata": {},
   "outputs": [],
   "source": [
    "strictness = 1\n",
    "critical_l2_diff_values = []\n",
    "with h5py.File('./data/critical_values.h5', 'r') as file:\n",
    "    critical_l2_diff_values.append(file['defect/l2_difference_fundamental_domain'][...][strictness])\n",
    "    critical_l2_diff_values.append(file['drifter/l2_difference_fundamental_domain'][...][strictness])\n",
    "    critical_l2_diff_values.append(file['large_defect/l2_difference_fundamental_domain'][...][strictness])\n",
    "    critical_l2_diff_values.append(file['wiggle/l2_difference_fundamental_domain'][...][strictness])"
   ]
  },
  {
   "cell_type": "markdown",
   "metadata": {},
   "source": [
    "Import the large trajectory segment which will be covered."
   ]
  },
  {
   "cell_type": "code",
   "execution_count": null,
   "metadata": {},
   "outputs": [],
   "source": [
    "large_defect_family = tuple([x.to_fundamental_domain() for x in read_h5('./data/large_cover.h5', 'large_defect/')])\n",
    "large_defect_family_critical_values = tuple([critical_l2_diff_values[2]]*len(large_defect_family))\n",
    "\n",
    "t0fam=time.time_ns()/10**9\n",
    "large_defect_covering = cover(large_patch, large_defect_family, large_defect_family_critical_values,\n",
    "                            replacement=True,\n",
    "                            base_orbit_periodicity=(False, True),\n",
    "                            verbose=True)\n",
    "t1fam=time.time_ns()/10**9\n",
    "print('Family covering took {:.2f} minutes to complete'.format((t1fam-t0fam)/60.))"
   ]
  },
  {
   "cell_type": "markdown",
   "metadata": {},
   "source": [
    "Save the covering masks, and produce their \"union\" in the meantime (here the masks are of integer data and summer so that more overlaps correspond to larger values.)."
   ]
  },
  {
   "cell_type": "code",
   "execution_count": null,
   "metadata": {},
   "outputs": [],
   "source": [
    "for scrs in large_defect_covering[-1][minimal_covering,...]:\n",
    "    OrbitKS(**{**vars(large_patch), 'state':scrs, 'discretization':scrs.shape}).to_h5(filename='large_defect_family_scores.h5', verbose=True)"
   ]
  },
  {
   "cell_type": "code",
   "execution_count": null,
   "metadata": {},
   "outputs": [],
   "source": [
    "for scrs in large_defect_covering[-2][minimal_covering,...]:\n",
    "    OrbitKS(**{**vars(large_patch), 'state':scrs}).to_h5(filename='large_defect_family_scores.h5', verbose=True)"
   ]
  },
  {
   "cell_type": "code",
   "execution_count": null,
   "metadata": {},
   "outputs": [],
   "source": [
    "cover_threshold=0.98\n",
    "minimal_covering, percentage = minimal_covering_set(large_defect_covering[-1], base, fundamental_windows,\n",
    "                                                                            cover_threshold, strides=(1,1))\n",
    "\n",
    "covering_factors(large_defect_covering[-2][minimal_covering,...],\n",
    "                 large_defect_covering[-1][minimal_covering,...],\n",
    "                 large_patch,\n",
    "                 fundamental_windows, \n",
    "                 invert=True,\n",
    "                 figsize=(16,16)\n",
    "                )\n",
    "covering_factors(large_defect_covering[0][minimal_covering,...],\n",
    "                 large_defect_covering[-1][minimal_covering,...],\n",
    "                 large_patch,\n",
    "                 fundamental_windows, \n",
    "                 invert=True,\n",
    "                 figsize=(16,16)\n",
    "                )"
   ]
  },
  {
   "cell_type": "code",
   "execution_count": null,
   "metadata": {},
   "outputs": [],
   "source": [
    "# ld_family_covering = {}\n",
    "# with h5py.File('large_defect_family_covering.h5', 'r') as file:\n",
    "#     for key in file:\n",
    "#         ld_family_covering[key] = file[key][...].astype(bool)"
   ]
  },
  {
   "cell_type": "markdown",
   "metadata": {},
   "source": [
    "Next, the \"minimal\" subset with respect to this covering union can be computed, this is the smallest number of masks which covers a certain proportion of the covered union (not the total space-time, mind you). Use 80% here. The reason for this is because I expect the metric to vary continuously and so the same shadowing region will be picked up multiple times; to reduce the number overlaps only take a proportion of the area. The problem is that there is no way (currently) to extract the *interior* of these regions.   "
   ]
  },
  {
   "cell_type": "code",
   "execution_count": null,
   "metadata": {},
   "outputs": [],
   "source": [
    "cover_threshold=0.8\n",
    "minimal_covering, minimal_covering_union, percentage = minimal_covering_set(large_defect_covering, \n",
    "                                                                            large_patch, large_defect_family,\n",
    "                                                                            cover_threshold, strides=(1,1), verbose=True)"
   ]
  },
  {
   "cell_type": "markdown",
   "metadata": {},
   "source": [
    "Compare the minimal covering to the total covering, and see how well this subset (a single mask in this case) reproduces the total mask. What does this mean? It means that instead of 149 different members of a continuous family, only a single representative is needed to reproduce the same results. With this result, we can move to the investigation of the group orbits of these representative."
   ]
  },
  {
   "cell_type": "markdown",
   "metadata": {},
   "source": [
    "[Return to table of contents](#toc)\n",
    "<a id='grouporbit'></a>\n",
    "## Overlap between subsampling of a single group orbit. \n",
    "\n",
    "The next goal is to determine is how much redundancy there is in a cover using a group orbit as a covering set;\n",
    "that is, the set of symmetry related fields. To test this, the same strictness is applied to 128 group orbit members\n",
    "of the large defect. \n",
    "\n",
    "I think what we will end up using is a hybrid metric which combines $L_2$ distance and persistence diagram distance."
   ]
  },
  {
   "cell_type": "code",
   "execution_count": null,
   "metadata": {},
   "outputs": [],
   "source": [
    "# fundamental_domain transformation must be done last; therefore take fundamental domains of group orbit not group orbit\n",
    "# of fundamental_domain. \n",
    "large_defect_group_orbit = tuple(windows[2].group_orbit(rolls=(4, 4), fundamental_domain=True))\n",
    "large_defect_group_orbit_critical_values = tuple([critical_l2_diff_values[2]]*len(large_defect_group_orbit))"
   ]
  },
  {
   "cell_type": "code",
   "execution_count": null,
   "metadata": {},
   "outputs": [],
   "source": [
    "t0g=time.time_ns()\n",
    "group_orbit_covering = cover(large_patch, large_defect_group_orbit_critical_values, large_defect_group_orbit,\n",
    "                            scoring_function=l2_difference,\n",
    "                            replacement=True,\n",
    "                            base_orbit_periodicity=(False, True),\n",
    "                            strides=(1, 1),\n",
    "                            verbose=False)\n",
    "t1g=time.time_ns()\n"
   ]
  },
  {
   "cell_type": "code",
   "execution_count": null,
   "metadata": {},
   "outputs": [],
   "source": [
    "print('Group orbit covering took {:.2f} minutes to complete'.format((t1g-t0g)/(10**9 * 60)))"
   ]
  },
  {
   "cell_type": "code",
   "execution_count": null,
   "metadata": {},
   "outputs": [],
   "source": [
    "# Arbitrary number to get cover percentages for plotting. \n",
    "cover_threshold=0.99\n",
    "_, _, percentages = minimal_covering_set(group_orbit_covering, large_patch,\n",
    "                                         large_defect_group_orbit, cover_threshold,\n",
    "                                         strides=(1,1), verbose=False)"
   ]
  },
  {
   "cell_type": "code",
   "execution_count": null,
   "metadata": {},
   "outputs": [],
   "source": [
    "plt.plot([0]+list(range(len(percentages))), [0]+percentages)\n",
    "plt.xlabel('Number of components')\n",
    "plt.ylabel('Proportion of cover area')\n",
    "plt.xlim([-5, 80])\n",
    "plt.ylim([0, 1.1])\n",
    "plt.show()"
   ]
  },
  {
   "cell_type": "markdown",
   "metadata": {},
   "source": [
    "Unfortunately, the group orbit does not overlap nearly as much as the continuous family members, indicating that sampling the group orbit (at least with this metric) is very important. To analyze the results of group orbit covering, first find the minimal covering and compare it to the total covering. Then plot the constituents of the covering and their corresponding contributions to the cover. First, look at the dependence on cover percentage vs number of minimal cover constituents."
   ]
  },
  {
   "cell_type": "code",
   "execution_count": null,
   "metadata": {},
   "outputs": [],
   "source": [
    "cover_threshold=0.8\n",
    "minimal_covering, minimal_covering_union, _ = minimal_covering_set(group_orbit_covering, large_patch,\n",
    "                                                                   large_defect_group_orbit,cover_threshold,\n",
    "                                                                   strides=(1,1), verbose=False)\n",
    "\n",
    "group_orbit_covering_union = covering_union(group_orbit_covering, large_patch,\n",
    "                                            large_defect_group_orbit, (1, 1),\n",
    "#                                            filename='group_orbit_covering_masks.h5',\n",
    "#                                             groupname='',\n",
    "                                            dtype=int)"
   ]
  },
  {
   "cell_type": "markdown",
   "metadata": {},
   "source": [
    "The comparison between the minimal and total cover; the first plot is the minimal cover; higher values indicating more overlaps. The second plot is the full group orbit covering, and the third plot is essentially the difference between the two. "
   ]
  },
  {
   "cell_type": "code",
   "execution_count": null,
   "metadata": {},
   "outputs": [],
   "source": [
    "compare_cover_plot(minimal_covering_union, group_orbit_covering_union, figsize=(10,10), dtype=int)"
   ]
  },
  {
   "cell_type": "markdown",
   "metadata": {},
   "source": [
    "#### Check to see that individual orbits are providing sensible coverings \n",
    "The constituents or \"factors\" of the minimal cover of the cover resulting from the group orbit cover. "
   ]
  },
  {
   "cell_type": "code",
   "execution_count": null,
   "metadata": {},
   "outputs": [],
   "source": [
    "plot_covering_factors(minimal_covering, large_patch, large_defect_group_orbit,\n",
    "              strides=(1,1), verbose=True,  figsize=(12,12))"
   ]
  },
  {
   "cell_type": "markdown",
   "metadata": {},
   "source": [
    "This minimal cover is comprised of 16 constituents; this is used as a guideline and so here on out, the translations used to produce the group orbit of each covering orbit yields 18 group orbit members. The relative equilibria and wiggle with have redundant members but it is left this way for simplicity. "
   ]
  },
  {
   "cell_type": "markdown",
   "metadata": {},
   "source": [
    "[Return to table of contents](#toc)\n",
    "<a id='minimal'></a>\n",
    "# 'Full search' using the previous results \n",
    "\n",
    "Now that we have some idea as to how many family and group orbit members we need for a covering, let's go full bore so that we may compare the overlaps between different families."
   ]
  },
  {
   "cell_type": "code",
   "execution_count": null,
   "metadata": {},
   "outputs": [],
   "source": [
    "minimal_cover = read_h5('minimal_cover.h5')\n",
    "\n",
    "strictness = 1\n",
    "critical_values = []\n",
    "with h5py.File('critical_values.h5', 'r') as file:\n",
    "    critical_values.append(file['defect/l2_difference'][...][strictness])\n",
    "    critical_values.append(file['drifter/l2_difference'][...][strictness])\n",
    "    critical_values.append(file['large_defect/l2_difference'][...][strictness])\n",
    "    critical_values.append(file['wiggle/l2_difference'][...][strictness])"
   ]
  },
  {
   "cell_type": "code",
   "execution_count": null,
   "metadata": {},
   "outputs": [],
   "source": [
    "for orbit_ in minimal_cover:\n",
    "    orbit_.plot()"
   ]
  },
  {
   "cell_type": "markdown",
   "metadata": {},
   "source": [
    "<a id='minimal1'></a>\n",
    "#### 4.a Orbit covers with fundamental_domain==False\n",
    "For the first major computation, use the minimal covering consisting of the wiggle, defects of different sizes, and relative equilibrium or \"drifter\" solution. This computation will iterate over the families both in and out of the fundamental domains as it is not clear which is correct. These computations use the strictest thresholds, requiring scores to be in the bottom 0.01% of the L2 distance distributions in the previous notebooks. First, do not use the fundamental domains of each orbit. Why? This is the impromptu and crude method for attempting to capture local spatial drift velocity. Looking for the orbits in the comoving frame vs. in the full space."
   ]
  },
  {
   "cell_type": "code",
   "execution_count": null,
   "metadata": {},
   "outputs": [],
   "source": [
    "# covers = []\n",
    "# cover_families\n",
    "# t0_full_cover = time.time_ns()/10**9\n",
    "# for root, l2_cval in zip(minimal_cover, critical_values):\n",
    "#     # actually single orbits, put into tuple to abide by requirements. \n",
    "#     family = tuple(root.group_orbit(rolls=(12, 12), fundamental_domain=False))\n",
    "#     family_critical_values = tuple([l2_cval]*len(family))\n",
    "#     family_covering = cover(large_patch, family_critical_values, family,\n",
    "#                             score_type='pointwise',\n",
    "#                             scoring_function=l2_difference,\n",
    "#                             replacement=False,\n",
    "#                             base_orbit_periodicity=(False, True),\n",
    "#                             strides=(1,1),\n",
    "#                             verbose=False)\n",
    "#     cover_families.append(family)    \n",
    "#     covers.append(family_covering)\n",
    "\n",
    "# t1_full_cover = time.time_ns()/10**9\n",
    "\n",
    "# # Reorganization of results for future computations; essentially merging the currently distinct coverings.\n",
    "# cover_orbits_collection = []\n",
    "# cover_collection = []\n",
    "# i = 0 \n",
    "# for c, root in zip(covers, minimal_cover):\n",
    "#     fam = tuple(root.group_orbit(rolls=(12, 12), fundamental_domain=False))\n",
    "#     for keys in c:\n",
    "#         entire_covering[i] = c[keys]\n",
    "#         covering_orbits.append(fam[keys])\n",
    "#         i += 1\n",
    "#     cover_orbits_collection.append(fam)\n",
    "#     cover_collection.append(c)"
   ]
  },
  {
   "cell_type": "code",
   "execution_count": null,
   "metadata": {
    "scrolled": true
   },
   "outputs": [],
   "source": [
    "print('Group orbit covering took {:.2f} minutes to complete'.format((t1_full_cover-t0_full_cover)/(60)))"
   ]
  },
  {
   "cell_type": "markdown",
   "metadata": {},
   "source": [
    "[Return to table of contents](#toc)\n",
    "### Visualize these covers and the factors that contribute to their minimal subsets.\n",
    "This requires many plots: [skip to the next computation](#skip1). For each family, the plots of\n",
    "the minimal covering and its comparison to the full cover are provided, followed by the factors in the\n",
    "minimal covering and their contributions. **The main takeaway here is that "
   ]
  },
  {
   "cell_type": "code",
   "execution_count": null,
   "metadata": {},
   "outputs": [],
   "source": [
    "labels = ['defect', 'drifter', 'large_defect', 'wiggle']\n",
    "\n",
    "all_families_cover = {}\n",
    "for i, (family_cover, family) in enumerate(zip(covers, cover_families)):\n",
    "    print('Minimal cover of the {} family and its factors'.format(labels[i]))\n",
    "    cover_threshold=0.8\n",
    "    family_critical_values = tuple([l2_cval]*len(family))\n",
    "    \n",
    "    minimal_covering, minimal_covering_union, _ = minimal_covering_set(family_cover, large_patch,\n",
    "                                                                       family, cover_threshold,\n",
    "                                                                       strides=(1,1), verbose=False)\n",
    "\n",
    "    family_cover_union = covering_union(family_cover, large_patch,\n",
    "                                                   family, strides, dtype=int)\n",
    "    all_families_cover[i] = family_cover_union\n",
    "    compare_cover_plot(minimal_covering_union, family_cover_union, figsize=(10,10), dtype=int)\n",
    "\n",
    "    plot_covering_factors(minimal_covering, large_patch, family,\n",
    "                  strides=(1,1), verbose=True, figsize=(12,12))  \n",
    "    \n"
   ]
  },
  {
   "cell_type": "markdown",
   "metadata": {},
   "source": [
    "<a id='minimal2'></a>\n",
    "#### 4.b Orbit covers with fundamental_domain==True\n",
    "<a id='skip1'></a>"
   ]
  },
  {
   "cell_type": "code",
   "execution_count": null,
   "metadata": {},
   "outputs": [],
   "source": [
    "strictness = 0\n",
    "critical_values_fd = []\n",
    "with h5py.File('critical_values.h5', 'r') as file:\n",
    "    critical_values_fd.append(file['defect/l2_difference_fundamental_domain'][...][strictness])\n",
    "    critical_values_fd.append(file['drifter/l2_difference_fundamental_domain'][...][strictness])\n",
    "    critical_values_fd.append(file['large_defect/l2_difference_fundamental_domain'][...][strictness])\n",
    "    critical_values_fd.append(file['wiggle/l2_difference_fundamental_domain'][...][strictness])\n"
   ]
  },
  {
   "cell_type": "code",
   "execution_count": null,
   "metadata": {},
   "outputs": [],
   "source": [
    "for orbit in minimal_cover:\n",
    "    orbit.plot(fundamental_domain=True)"
   ]
  },
  {
   "cell_type": "markdown",
   "metadata": {},
   "source": [
    "#### Only run this next cell if covers have not been saved. "
   ]
  },
  {
   "cell_type": "code",
   "execution_count": null,
   "metadata": {},
   "outputs": [],
   "source": [
    "# covers_fd = []\n",
    "# cover_fd_families = []\n",
    "# t0_full_cover_fd = time.time_ns()/10**9\n",
    "# for root, l2_cval_fd in zip(minimal_cover, critical_values_fd):\n",
    "#     # actually single orbits, put into tuple to abide by requirements. \n",
    "#     family_fd = tuple(root.group_orbit(rolls=(12, 12), fundamental_domain=True))\n",
    "#     family_fd_critical_values = tuple([l2_cval_fd]*len(family_fd))\n",
    "#     family_fd_covering = cover(large_patch, family_fd_critical_values, family_fd,\n",
    "#                                 score_type='pointwise',\n",
    "#                                 scoring_function=l2_difference,\n",
    "#                                 replacement=False,\n",
    "#                                 base_orbit_periodicity=(False, True),\n",
    "#                                 strides=(1,1),\n",
    "#                                 verbose=False)\n",
    "#     cover_fd_families.append(family_fd)\n",
    "#     covers_fd.append(family_fd_covering)\n",
    "\n",
    "# t1_full_cover_fd = time.time_ns()/10**9\n",
    "\n",
    "# labels = ['defect_fd', 'drifter_fd', 'large_defect_fd', 'wiggle_fd']\n",
    "# for lab, fam, cov in zip(labels, cover_fd_families, covers_fd):\n",
    "#     covering_union(cov, large_patch, fam, (1, 1),\n",
    "#                filename='large_patch_complete_covering.h5', groupname=lab, dtype=int)\n",
    "\n",
    "# # reorganization for future computations; ignore. \n",
    "# entire_covering = {}\n",
    "# covering_orbits = []\n",
    "# i = 0 \n",
    "# for c, fam in zip(covers_fd, cover_fd_families):\n",
    "#     for keys in c:\n",
    "#         entire_covering_fd[i] = c[keys]\n",
    "#         covering_fd_orbits.append(fam[keys])\n",
    "#         i += 1\n",
    "#     cover_orbits_collection.append(fam)\n",
    "#     cover_collection.append(c)"
   ]
  },
  {
   "cell_type": "markdown",
   "metadata": {},
   "source": [
    "[Return to table of contents](#toc)\n",
    "<a id='skip1'></a>\n",
    "### Visualize these covers and the factors that contribute to their minimal subsets.\n",
    "This requires many plots: [skip to the next computation](#skip2). For each family, the plots of\n",
    "the minimal covering and its comparison to the full cover are provided, followed by the factors in the\n",
    "minimal covering and their contributions."
   ]
  },
  {
   "cell_type": "markdown",
   "metadata": {},
   "source": [
    "#### Each family separately\n",
    "Excluded because it is similar to before and just clutters the already cluttered notebook."
   ]
  },
  {
   "cell_type": "code",
   "execution_count": null,
   "metadata": {
    "scrolled": true
   },
   "outputs": [],
   "source": [
    "# for i, (family_cover_fd, family_fd) in enumerate(zip(covers_fd, cover_fd_families)):\n",
    "#     cover_threshold=0.8\n",
    "#     minimal_covering_fd, minimal_covering_union_fd, _ = minimal_covering_set(family_cover_fd, large_patch,\n",
    "#                                                                        family_fd, cover_threshold,\n",
    "#                                                                        strides=(1,1), verbose=False)\n",
    "\n",
    "#     family_cover_union_fd = covering_union(family_cover_fd, large_patch,\n",
    "#                                                    family_fd, strides, dtype=int)\n",
    "#     compare_cover_plot(minimal_covering_union_fd, family_cover_union_fd, figsize=(10,10), dtype=int)\n",
    "#     plot_covering_factors(minimal_covering_fd, large_patch, family_fd,\n",
    "#                           strides=(1,1), verbose=True,  figsize=(12,12))  \n",
    "#     all_families_cover[i+4] = family_cover_union_fd"
   ]
  },
  {
   "cell_type": "markdown",
   "metadata": {},
   "source": [
    "#### All families"
   ]
  },
  {
   "cell_type": "code",
   "execution_count": null,
   "metadata": {},
   "outputs": [],
   "source": [
    "cover_threshold = 0.8\n",
    "minimal_covering_fd, minimal_covering_fd_union, _ = minimal_covering_set(entire_covering_fd, large_patch,\n",
    "                                                                   covering_fd_orbits, cover_threshold,\n",
    "                                                                   strides=(1,1), verbose=False)\n",
    "\n",
    "entire_covering_fd_union = covering_union(entire_covering_fd, large_patch,\n",
    "                                          covering_fd_orbits, strides, dtype=int)"
   ]
  },
  {
   "cell_type": "code",
   "execution_count": null,
   "metadata": {},
   "outputs": [],
   "source": [
    "compare_cover_plot(minimal_covering_fd_union, entire_covering_fd_union, figsize=(10,10), dtype=int)"
   ]
  },
  {
   "cell_type": "markdown",
   "metadata": {},
   "source": [
    "<a id='skip2'></a>\n",
    "#### Combined results\n",
    "Now finally look at the combination of all results up until this point; this computation does not look\n",
    "at the differences or relationships between families"
   ]
  },
  {
   "cell_type": "code",
   "execution_count": null,
   "metadata": {},
   "outputs": [],
   "source": [
    "total_cover = {i:m for i, m in enumerate(list(entire_covering_fd.values())+list(entire_covering.values()))}\n",
    "total_covering_orbits = covering_orbits + covering_fd_orbits\n",
    "\n",
    "total_cover_threshold = 0.8\n",
    "minimal_total_covering, minimal_total_covering_union, _ = minimal_covering_set(total_cover, large_patch,\n",
    "                                                                   total_covering_orbits, total_cover_threshold,\n",
    "                                                                   strides=(1,1), verbose=False)"
   ]
  },
  {
   "cell_type": "markdown",
   "metadata": {},
   "source": [
    "Compare the minimal cover with the total cover; note that by definition the overlap percentage will be approximately 80%. "
   ]
  },
  {
   "cell_type": "code",
   "execution_count": null,
   "metadata": {},
   "outputs": [],
   "source": [
    "compare_cover_plot(minimal_total_covering_union,\n",
    "                   covering_union(total_cover,\n",
    "                                  large_patch,\n",
    "                                  total_covering_orbits),\n",
    "                   figsize=(10,10), dtype=bool)"
   ]
  },
  {
   "cell_type": "markdown",
   "metadata": {},
   "source": [
    "Which yields the following as the 'final' result, which is plots of the original patch, the remainder after covering, and the covering, respectively."
   ]
  },
  {
   "cell_type": "code",
   "execution_count": null,
   "metadata": {},
   "outputs": [],
   "source": [
    "plot_covering_union(minimal_total_covering, large_patch, total_covering_orbits,\n",
    "                    strides=(1,1), verbose=True, figsize=(12,12))  "
   ]
  },
  {
   "cell_type": "markdown",
   "metadata": {},
   "source": [
    "## 5. Current difficulties\n",
    "<a id='results'></a>\n",
    "\n",
    "It's clear from the previous plot that the entirety of space-time is not being covered. Even if the threshold on the $L_2$ distance was more lax I do not think these regions would be captured even then. \n",
    "\n",
    "The two main issues right now:\n",
    "\n",
    "1. Overlap between different families\n",
    "2. Drifting regions. \n",
    "3. Patterns not in cover\n",
    "How much overlap is there between all of the masks? This is what determines whether or not the $L_2$ difference is a sufficient metric; if space-time is being misclassified as shadowing multiple (fundamentally different) families, then we are in trouble."
   ]
  },
  {
   "cell_type": "code",
   "execution_count": null,
   "metadata": {},
   "outputs": [],
   "source": [
    "covering_summation = []\n",
    "for i, (cover, orbits) in enumerate(zip(cover_collection, cover_orbits_collection)):\n",
    "    if covering_summation is None:\n",
    "        covering_summation.append(covering_union(cover, large_patch, orbits, dtype=bool).astype(int))\n",
    "    else:\n",
    "        covering_summation.append(covering_union(cover, large_patch, orbits, dtype=bool).astype(int))\n",
    "\n",
    "defect_covers = np.sum(np.array(covering_summation)[[0,2,4,6]], axis=0).astype(bool).astype(int)\n",
    "drifter_covers = np.sum(np.array(covering_summation)[[1, 5]], axis=0).astype(bool).astype(int)\n",
    "wiggle_covers = np.sum(np.array(covering_summation)[[3, 7]], axis=0).astype(bool).astype(int)\n",
    "\n",
    "\n",
    "overlap_summed = defect_covers + wiggle_covers + drifter_covers\n",
    "# overlap_summed[overlap_summed<2] = False\n",
    "bool_mask = overlap_summed.astype(bool)\n",
    "\n",
    "overlap_summed[overlap_summed<2] = False\n",
    "bool_mask = overlap_summed.astype(bool)\n",
    "\n",
    "_ = plt.figure(figsize=(10,10))\n",
    "_ = plt.imshow(overlap_summed, vmin=0, vmax=3)\n",
    "_ = plt.colorbar()\n",
    "_ = plt.show()\n",
    "_ = plt.close()\n",
    "\n",
    "# bool_mask = overlap_summed.astype(bool)\n",
    "_ = plt.figure(figsize=(10,10))\n",
    "_ = plt.imshow(np.ma.masked_array(large_patch.state, mask=np.invert(bool_mask)), cmap='jet')\n",
    "_ = plt.colorbar()\n",
    "_ = plt.show()\n",
    "_ = plt.close()"
   ]
  },
  {
   "cell_type": "markdown",
   "metadata": {},
   "source": [
    "I would say that this requires more work; the majority of the overlap is coming from the drifter overlapping the defect orbit, however. Because the drifter can be reached by continuation from the defect, it is not entirely unexpected, however, the solutions are distinct enough that a way forward to eliminate these overlaps is required. "
   ]
  },
  {
   "cell_type": "markdown",
   "metadata": {},
   "source": [
    "#### \"Drifting regions\"\n",
    "The previous plot supports my hypothesis that regions with local non-zero galilean velocity/regions with high spatial drift speed seem to not be captured by the current cover. These regions are (by my eye at least) \"more blue\" or \"more red\" on average, in terms of the local field values; alternatively they contain \"slanted\" versions of the current cover. The way to handle this is non-trivial but I have an idea towards its implementation. \n",
    "\n",
    "To handle \"slanted\" manifestations of fundamental orbits (for pointwise metrics) I believe the most convenient method for computation (of the $L_2$ difference at least) is to embedded a parallelogram inside a larger rectangle formed by zero padding.\n",
    "With these parallelogram embedded in the square, the large patch orbit can be masked with a similarly shaped boolean array. Then the $L_2$ difference between the two can be computed. An example is provided below; a clipping, a parallelogram clipping from the first clipping, and finally the defect orbit manipulated into a parallelogram. The defect orbits' galilean velocity has been set to that of the first patch. "
   ]
  },
  {
   "cell_type": "code",
   "execution_count": null,
   "metadata": {},
   "outputs": [],
   "source": [
    "shift = 8\n",
    "def parallelipiped_map(coordinates):\n",
    "    # Coordinates are (d, *orbit.shape) dimensional indices.\n",
    "    # Only have to map \"x\" coordinates; those are the columns.\n",
    "    t_indices = coordinates[0]\n",
    "    t_indices\n",
    "    # use broadcasting by reshaping into n_components = size//shift \n",
    "    broadcasting = np.arange(-shift//2, shift//2)\n",
    "    t_indices.reshape((size//shift, *t_indices.shape))\n",
    "    #     for each_dimension in coordinates:\n",
    "        # Have to add discrete numbers, 1 roll per row is way too much.\n",
    "        \n"
   ]
  },
  {
   "cell_type": "code",
   "execution_count": null,
   "metadata": {
    "scrolled": true
   },
   "outputs": [],
   "source": [
    "space_padded_state =np.pad(minimal_cover[0].resize(128,128).change_reference_frame(to='physical').state-0.38, \n",
    "                  ((64,64),(128,128)))\n",
    "\n",
    "shp = space_padded_state.shape[0]//2\n",
    "for i in range(0, shp):\n",
    "    space_padded_state[i,:] = np.roll(space_padded_state[i,:].reshape(1,-1), -(shp-i), axis=1)\n",
    "for i in range(-1, -shp, -1):\n",
    "    space_padded_state[i,:] = np.roll(space_padded_state[i,:].reshape(1,-1), (shp+i), axis=1)\n",
    "    \n",
    "parallelogram = space_padded_state.copy()\n",
    "blue_shifted = clip(large_patch.roll(-10, axis=1).roll(4, axis=0), ((60, 100), (22, 26)))\n",
    "umin, umax = blue_shifted.state.min(), blue_shifted.state.max()\n",
    "maxval = np.max(np.abs([umin, umax]))\n",
    "blue_shifted_state = blue_shifted.resize(*parallelogram.shape).state\n",
    "parallelogram_mask = parallelogram.astype(bool)\n",
    "fig, (ax0, ax1, ax2) = plt.subplots(1, 3, figsize=(9,3))\n",
    "ax0.imshow(blue_shifted_state, cmap='jet', vmin=-maxval, vmax=maxval)\n",
    "ax1.imshow(parallelogram_mask*blue_shifted_state, cmap='jet', vmin=-maxval, vmax=maxval)\n",
    "im = ax2.imshow(parallelogram, cmap='jet', vmin=-maxval, vmax=maxval)\n",
    "plt.colorbar(im)"
   ]
  },
  {
   "cell_type": "markdown",
   "metadata": {},
   "source": [
    "This type of manipulation seemed quite hard, so instead I implemented a \"coordinate mapping\" method. By providing a function as via the keyword argument ```coordinate_map```, any function that can be applied to an array representing the (integer lattice) positions within the cube can be used. Then, once mapped, the coordinates of the mapped shape are checked for validity before\n",
    "being used in scoring. \n",
    "\n",
    "This not only allows the use of parallelograms but also partial subdomains of these parallelograms, and other arbitrarily complex shapes. This is demonstrated below. This comes with a price, of course, which is the computation time. "
   ]
  },
  {
   "cell_type": "markdown",
   "metadata": {},
   "source": []
  },
  {
   "cell_type": "markdown",
   "metadata": {},
   "source": [
    "#### Missed patterns\n",
    "\n",
    "Additionally, there *do* seem to be patterns which may not have been captured; it is precarious because these patterns look as though they may be combinations of the current cover's patterns; whatever the case it seems they do not occur with high frequency, unlike the regions previously described above. One example of a pattern that is hard to capture is this \"tree-like\" structure (as in the acyclic graph) which seemingly is repeated combinations of the defect tile; or perhaps higher order defects. The 3-to-1 defect exists but it wasn't clear to me whether it was important enough to warrant its inclusion; this requires more testing."
   ]
  },
  {
   "cell_type": "code",
   "execution_count": null,
   "metadata": {},
   "outputs": [],
   "source": [
    "clipping_mask(large_patch, [((150, 200),(12,17)), ((375, 425),(25, 28.5))]).plot(padding=False)"
   ]
  }
 ],
 "metadata": {
  "kernelspec": {
   "display_name": "Python 3",
   "language": "python",
   "name": "python3"
  },
  "language_info": {
   "codemirror_mode": {
    "name": "ipython",
    "version": 3
   },
   "file_extension": ".py",
   "mimetype": "text/x-python",
   "name": "python",
   "nbconvert_exporter": "python",
   "pygments_lexer": "ipython3",
   "version": "3.8.8"
  }
 },
 "nbformat": 4,
 "nbformat_minor": 4
}
