{
 "cells": [
  {
   "cell_type": "code",
   "execution_count": 1,
   "metadata": {},
   "outputs": [],
   "source": [
    "import os\n",
    "import sys\n",
    "import numpy as np\n",
    "import itertools\n",
    "import matplotlib.pyplot as plt\n",
    "from math import pi\n",
    "sys.path.insert(0, \"C:\\\\Users\\\\Matt\\\\Desktop\\\\orbithunter\\\\\")\n",
    "import orbithunter as orb\n",
    "import inspect\n",
    "import h5py\n",
    "import time\n",
    "import matplotlib.pyplot as plt \n",
    "from matplotlib import gridspec"
   ]
  },
  {
   "cell_type": "markdown",
   "metadata": {},
   "source": [
    "# Filling algorithm\n",
    "\n",
    "Different from covering algorithm, technically more correct at the moment; instead of checking every point individually for each orbit it finds the orbit which minimizes the cost function at each point; i.e. orbit vs. orbit comparison.  \n",
    "\n",
    "The following are some assorted cost functions tested for the purpose of filling."
   ]
  },
  {
   "cell_type": "code",
   "execution_count": 2,
   "metadata": {},
   "outputs": [],
   "source": [
    "minimal_orbits = orb.read_h5('./data/minimal_cover.h5')\n",
    "large_patch = orb.read_h5('./data/large_patches.h5', '0/')"
   ]
  },
  {
   "cell_type": "code",
   "execution_count": 3,
   "metadata": {},
   "outputs": [],
   "source": [
    "# Get the less strict thresholds\n",
    "strictness = 0\n",
    "critical_l2_diff_values = []\n",
    "with h5py.File('./data/critical_values.h5', 'r') as file:\n",
    "    critical_l2_diff_values.append(file['defect/l2_difference_mean_flow_correction'][...][strictness])\n",
    "    critical_l2_diff_values.append(file['drifter/l2_difference_mean_flow_correction'][...][strictness])\n",
    "    critical_l2_diff_values.append(file['large_defect/l2_difference_mean_flow_correction'][...][strictness])\n",
    "    critical_l2_diff_values.append(file['wiggle/l2_difference_mean_flow_correction'][...][strictness])\n",
    "\n",
    "critical_l2_diff_values_fd = []\n",
    "with h5py.File('./data/critical_values.h5', 'r') as file:\n",
    "    critical_l2_diff_values_fd.append(file['defect/l2_difference_mean_flow_correction_fundamental_domain'][...][strictness])\n",
    "    critical_l2_diff_values_fd.append(file['drifter/l2_difference_mean_flow_correction_fundamental_domain'][...][strictness])\n",
    "    critical_l2_diff_values_fd.append(file['large_defect/l2_difference_mean_flow_correction_fundamental_domain'][...][strictness])\n",
    "    critical_l2_diff_values_fd.append(file['wiggle/l2_difference_mean_flow_correction_fundamental_domain'][...][strictness])\n",
    "\n",
    "windows = [tuple(x.group_orbit(rolls=(12, 12), fundamental_domain=False)) for x in minimal_orbits]\n",
    "windows_fd = [tuple(x.group_orbit(rolls=(12, 12), fundamental_domain=True)) for x in minimal_orbits]\n",
    "windows_total = [x for y in windows+windows_fd for x in y]\n",
    "\n",
    "cvalues = [len(windows[i])*[critical_l2_diff_values[i]/windows[i][0].size] for i in range(len(windows))]\n",
    "cvalues_fd = [len(windows_fd[i])*[critical_l2_diff_values_fd[i]/windows_fd[i][0].size] for i in range(len(windows_fd))]\n",
    "# cvalues_density = [x for y in cvalues+cvalues_fd for x in y]\n",
    "# cvalues_total = [windows_total[i].size * cvalues_density[i] for i in range(len(windows_total))]\n",
    "cvalues = critical_l2_diff_values + critical_l2_diff_values_fd\n",
    "windows = minimal_orbits + [x.to_fundamental_domain() for x in minimal_orbits]\n",
    "window_keys = np.repeat(np.tile(np.array([[1,2,3,4]]),2), 18)    "
   ]
  },
  {
   "cell_type": "markdown",
   "metadata": {},
   "source": [
    "First, for the preliminary test runs, produce the set of orbits and the corresponding threshold values"
   ]
  },
  {
   "cell_type": "markdown",
   "metadata": {},
   "source": [
    "# Strict threshold runs\n",
    "\n",
    "The runs I make:\n",
    "\n",
    "With equally sized orbits:\n",
    "1. $L_2$ difference density with masking/subtracting the filled portion of the field \n",
    "2. $L_2$ difference density without masking/subtracting the filled portion of the field \n",
    "3. Same as (1) but with 'mean flow correction'\n",
    "4. Same as (2) but with 'mean flow correction'\n",
    "\n",
    "If this does not yield good results, reduce the strictness from 0.01 percentile to 0.1 percentile. \n",
    "If the decrease of strictness does not help, then look towards actually resizing the orbits (currently crude\n",
    "sizes are used, not relative to one another). \n",
    "\n",
    "The mean flow correction doesn't really make sense when the shadowing slice being considered isn't a rectangular shape, as\n",
    "it is based on the mean spatial it originates from spatial mean = 0 constraint."
   ]
  },
  {
   "cell_type": "code",
   "execution_count": 4,
   "metadata": {},
   "outputs": [],
   "source": [
    "import os\n",
    "import sys\n",
    "import numpy as np\n",
    "import itertools\n",
    "import matplotlib.pyplot as plt\n",
    "from math import pi\n",
    "sys.path.insert(0, \"C:\\\\Users\\\\Matt\\\\Desktop\\\\orbithunter\\\\\")\n",
    "import orbithunter as orb\n",
    "import inspect\n",
    "import h5py\n",
    "import time\n",
    "import matplotlib.pyplot as plt \n",
    "from matplotlib import gridspec\n",
    "\n",
    "minimal_orbits = orb.read_h5('./data/minimal_cover.h5')\n",
    "base = orb.read_h5('./data/large_patches.h5', '0/')\n",
    "base = orb.read_h5('./data/small_patches.h5', '0/')\n",
    "\n",
    "# Get the less strict thresholds\n",
    "strictness = 0\n",
    "critical_l2_diff_values = []\n",
    "with h5py.File('./data/critical_values.h5', 'r') as file:\n",
    "    critical_l2_diff_values.append(file['defect/l2_difference_mean_flow_correction'][...][strictness])\n",
    "    critical_l2_diff_values.append(file['drifter/l2_difference_mean_flow_correction'][...][strictness])\n",
    "    critical_l2_diff_values.append(file['large_defect/l2_difference_mean_flow_correction'][...][strictness])\n",
    "    critical_l2_diff_values.append(file['wiggle/l2_difference_mean_flow_correction'][...][strictness])\n",
    "\n",
    "critical_l2_diff_values_fd = []\n",
    "with h5py.File('./data/critical_values.h5', 'r') as file:\n",
    "    critical_l2_diff_values_fd.append(file['defect/l2_difference_mean_flow_correction_fundamental_domain'][...][strictness])\n",
    "    critical_l2_diff_values_fd.append(file['drifter/l2_difference_mean_flow_correction_fundamental_domain'][...][strictness])\n",
    "    critical_l2_diff_values_fd.append(file['large_defect/l2_difference_mean_flow_correction_fundamental_domain'][...][strictness])\n",
    "    critical_l2_diff_values_fd.append(file['wiggle/l2_difference_mean_flow_correction_fundamental_domain'][...][strictness])\n",
    "\n",
    "windows = [tuple(x.group_orbit(rolls=(12, 12), fundamental_domain=False)) for x in minimal_orbits]\n",
    "windows_fd = [tuple(x.group_orbit(rolls=(12, 12), fundamental_domain=True)) for x in minimal_orbits]\n",
    "windows_total = [x for y in windows+windows_fd for x in y]\n",
    "\n",
    "cvalues = [len(windows[i])*[critical_l2_diff_values[i]/windows[i][0].size] for i in range(len(windows))]\n",
    "cvalues_fd = [len(windows_fd[i])*[critical_l2_diff_values_fd[i]/windows_fd[i][0].size] for i in range(len(windows_fd))]\n",
    "# cvalues_density = [x for y in cvalues+cvalues_fd for x in y]\n",
    "# cvalues_total = [windows_total[i].size * cvalues_density[i] for i in range(len(windows_total))]\n",
    "cvalues = critical_l2_diff_values + critical_l2_diff_values_fd\n",
    "windows = minimal_orbits + [x.to_fundamental_domain() for x in minimal_orbits]\n",
    "window_keys = np.repeat(np.tile(np.array([[1,2,3,4]]),2), 18)    \n",
    "\n",
    "scrfunc = orb.scoring_functions('l2_density_mfc')\n",
    "# windows = [tuple(x.group_orbit(rolls=(12, 12), fundamental_domain=False)) for x in minimal_orbits]\n",
    "# windows_fd = [tuple(x.group_orbit(rolls=(12, 12), fundamental_domain=True)) for x in minimal_orbits]\n",
    "# windows_total = [x for y in windows+windows_fd for x in y]\n",
    "\n",
    "# cvalues = [len(windows[i])*[critical_l2_diff_values[i]/windows[i][0].size] for i in range(len(windows))]\n",
    "# cvalues_fd = [len(windows_fd[i])*[critical_l2_diff_values_fd[i]/windows_fd[i][0].size] for i in range(len(windows_fd))]\n",
    "# cvalues_density = [x for y in cvalues+cvalues_fd for x in y]\n",
    "# cvalues_total = [windows_total[i].size * cvalues_density[i] for i in range(len(windows_total))]\n",
    "windows = minimal_orbits + [x.to_fundamental_domain() for x in minimal_orbits]\n",
    "cvalues = critical_l2_diff_values + critical_l2_diff_values_fd\n",
    "cvalues = [c/w.size for c, w in zip(cvalues, windows)]\n",
    "    # window_keys = np.repeat(np.tile(np.array([[1,2,3,4]]),2), 18)\n",
    "\n",
    "t0l0=time.time_ns()/10**9\n",
    "base_orbit_periodicity=(False, True)\n",
    "pivot_scores, weights = orb.fill(base, windows, cvalues,\n",
    "                         scoring_function=scrfunc,\n",
    "                         min_overlap=1,\n",
    "                         replacement=False,\n",
    "                         base_orbit_periodicity=base_orbit_periodicity,\n",
    "                         verbose=True)\n",
    "t1l0=time.time_ns()/10**9\n",
    "print('Large patch filling took {:.2f} minutes to complete'.format((t1l0-t0l0)/60.))\n",
    "\n",
    "plt.imshow(orb.process_scores(pivot_scores.reshape((1, *pivot_scores.shape)),\n",
    "                              base, windows[-1], base_orbit_periodicity).squeeze())"
   ]
  },
  {
   "cell_type": "code",
   "execution_count": 14,
   "metadata": {},
   "outputs": [
    {
     "data": {
      "text/plain": [
       "<matplotlib.image.AxesImage at 0x1f01bc6ff88>"
      ]
     },
     "execution_count": 14,
     "metadata": {},
     "output_type": "execute_result"
    },
    {
     "data": {
      "image/png": "[encoded data removed]",
      "text/plain": [
       "<Figure size 432x288 with 1 Axes>"
      ]
     },
     "metadata": {
      "needs_background": "light"
     },
     "output_type": "display_data"
    }
   ],
   "source": [
    "plt.imshow(weights)"
   ]
  },
  {
   "cell_type": "markdown",
   "metadata": {},
   "source": [
    "Preview/visualization of results with strict threshold. "
   ]
  },
  {
   "cell_type": "markdown",
   "metadata": {},
   "source": [
    "# Heterogeneous discretizations"
   ]
  },
  {
   "cell_type": "code",
   "execution_count": 66,
   "metadata": {},
   "outputs": [],
   "source": [
    "base_orbits = [y for y in  read_h5('./data/small_patches.h5')]\n",
    "\n",
    "t0fam=time.time_ns()/10**9\n",
    "mean_flow_masks = []\n",
    "mean_flow_weights = []\n",
    "for base in base_orbits:\n",
    "    print('#', end='')\n",
    "    _, m, w = fill(base, cvalues_mean_flow_total, windows_total,\n",
    "                    scoring_function=l2_difference_mean_flow_correction,\n",
    "                    base_orbit_periodicity=(False, False),\n",
    "                    verbose=False, subtract_field=False)\n",
    "    mean_flow_masks.append(m)\n",
    "    mean_flow_weights.append(w)\n",
    "t1fam=time.time_ns()/10**9\n",
    "print('Large patch filling took {:.2f} minutes to complete'.format((t1fam-t0fam)/60.))"
   ]
  },
  {
   "cell_type": "markdown",
   "metadata": {},
   "source": [
    "Export and save the data because it took so long to complete. Commented out to prevent accidental overwrites. "
   ]
  }
 ],
 "metadata": {
  "kernelspec": {
   "display_name": "Python 3",
   "language": "python",
   "name": "python3"
  },
  "language_info": {
   "codemirror_mode": {
    "name": "ipython",
    "version": 3
   },
   "file_extension": ".py",
   "mimetype": "text/x-python",
   "name": "python",
   "nbconvert_exporter": "python",
   "pygments_lexer": "ipython3",
   "version": "3.7.6"
  }
 },
 "nbformat": 4,
 "nbformat_minor": 4
}
